{
 "cells": [
  {
   "cell_type": "markdown",
   "metadata": {},
   "source": [
    "# Survey Data"
   ]
  },
  {
   "cell_type": "code",
   "execution_count": 18,
   "metadata": {},
   "outputs": [],
   "source": [
    "import pandas as pd\n",
    "from matplotlib.lines import Line2D"
   ]
  },
  {
   "cell_type": "code",
   "execution_count": 4,
   "metadata": {},
   "outputs": [],
   "source": [
    "data = {\n",
    "    \"The product with the lowest price\": 11,\n",
    "    \"The best rated\": 17,\n",
    "    \"The best seller\": 21,\n",
    "    \"A product from one of Amazon's brand's\": 17,\n",
    "    \"Not sure\": 33\n",
    "}"
   ]
  },
  {
   "cell_type": "code",
   "execution_count": 5,
   "metadata": {},
   "outputs": [],
   "source": [
    "df = pd.DataFrame(\n",
    "    [{\"trait\": k, \"perc\": v} for k,v in data.items()]\n",
    ")"
   ]
  },
  {
   "cell_type": "code",
   "execution_count": 6,
   "metadata": {},
   "outputs": [
    {
     "data": {
      "text/html": [
       "<div>\n",
       "<style scoped>\n",
       "    .dataframe tbody tr th:only-of-type {\n",
       "        vertical-align: middle;\n",
       "    }\n",
       "\n",
       "    .dataframe tbody tr th {\n",
       "        vertical-align: top;\n",
       "    }\n",
       "\n",
       "    .dataframe thead th {\n",
       "        text-align: right;\n",
       "    }\n",
       "</style>\n",
       "<table border=\"1\" class=\"dataframe\">\n",
       "  <thead>\n",
       "    <tr style=\"text-align: right;\">\n",
       "      <th></th>\n",
       "      <th>trait</th>\n",
       "      <th>perc</th>\n",
       "    </tr>\n",
       "  </thead>\n",
       "  <tbody>\n",
       "    <tr>\n",
       "      <th>0</th>\n",
       "      <td>The product with the lowest price</td>\n",
       "      <td>11</td>\n",
       "    </tr>\n",
       "    <tr>\n",
       "      <th>1</th>\n",
       "      <td>The best rated</td>\n",
       "      <td>17</td>\n",
       "    </tr>\n",
       "    <tr>\n",
       "      <th>2</th>\n",
       "      <td>The best seller</td>\n",
       "      <td>21</td>\n",
       "    </tr>\n",
       "    <tr>\n",
       "      <th>3</th>\n",
       "      <td>A product from one of Amazon's brand's</td>\n",
       "      <td>17</td>\n",
       "    </tr>\n",
       "    <tr>\n",
       "      <th>4</th>\n",
       "      <td>Not sure</td>\n",
       "      <td>33</td>\n",
       "    </tr>\n",
       "  </tbody>\n",
       "</table>\n",
       "</div>"
      ],
      "text/plain": [
       "                                    trait  perc\n",
       "0       The product with the lowest price    11\n",
       "1                          The best rated    17\n",
       "2                         The best seller    21\n",
       "3  A product from one of Amazon's brand's    17\n",
       "4                                Not sure    33"
      ]
     },
     "execution_count": 6,
     "metadata": {},
     "output_type": "execute_result"
    }
   ],
   "source": [
    "df"
   ]
  },
  {
   "cell_type": "code",
   "execution_count": 51,
   "metadata": {},
   "outputs": [],
   "source": [
    "data = [\n",
    "    {\n",
    "        \"Brand\": \"Amazon Basics\",\n",
    "        \"Is an Amazon product\": 76,\n",
    "        \"Is not an Amazon product\": 4,\n",
    "        \"Not sure\": 20\n",
    "    },\n",
    "    {\n",
    "        \"Brand\": \"Whole Foods\",\n",
    "        \"Is an Amazon product\": 51,\n",
    "        \"Is not an Amazon product\": 17,\n",
    "        \"Not sure\": 32\n",
    "    },\n",
    "    {\n",
    "        \"Brand\": \"Pinzon\",\n",
    "        \"Is an Amazon product\": 6,\n",
    "        \"Is not an Amazon product\": 12,\n",
    "        \"Not sure\": 82\n",
    "    },\n",
    "    {\n",
    "        \"Brand\": \"Goodthreads\",\n",
    "        \"Is an Amazon product\": 11,\n",
    "        \"Is not an Amazon product\": 13,\n",
    "        \"Not sure\": 76\n",
    "    },\n",
    "    {\n",
    "        \"Brand\": \"Lark and Ro\",\n",
    "        \"Is an Amazon product\": 6,\n",
    "        \"Is not an Amazon product\": 12,\n",
    "        \"Not sure\": 82\n",
    "    },\n",
    "    {\n",
    "        \"Brand\": \"Daily Ritual\",\n",
    "        \"Is an Amazon product\": 6,\n",
    "        \"Is not an Amazon product\": 13,\n",
    "        \"Not sure\": 81\n",
    "    },\n",
    "    {\n",
    "        \"Brand\": \"Solimo\",\n",
    "        \"Is an Amazon product\": 10,\n",
    "        \"Is not an Amazon product\": 12,\n",
    "        \"Not sure\": 78\n",
    "    },\n",
    "    {\n",
    "        \"Brand\": \"Champion\",\n",
    "        \"Is an Amazon product\": 7,\n",
    "        \"Is not an Amazon product\": 36,\n",
    "        \"Not sure\": 58\n",
    "    },\n",
    "    {\n",
    "        \"Brand\": \"Brooklinen\",\n",
    "        \"Is an Amazon product\": 5,\n",
    "        \"Is not an Amazon product\": 16,\n",
    "        \"Not sure\": 79\n",
    "    },\n",
    "\n",
    "]"
   ]
  },
  {
   "cell_type": "code",
   "execution_count": 52,
   "metadata": {},
   "outputs": [],
   "source": [
    "df = pd.DataFrame(data)"
   ]
  },
  {
   "cell_type": "code",
   "execution_count": 68,
   "metadata": {},
   "outputs": [],
   "source": [
    "cat2color = {\n",
    "    \"Not sure\" : '#ececec',\n",
    "    \"Is an Amazon product\": \"#ff9900\",\n",
    "    \"Is not an Amazon product\": \"black\",\n",
    "}"
   ]
  },
  {
   "cell_type": "code",
   "execution_count": 69,
   "metadata": {},
   "outputs": [],
   "source": [
    "cols_in_order = df.set_index('Brand').columns"
   ]
  },
  {
   "cell_type": "code",
   "execution_count": 70,
   "metadata": {},
   "outputs": [],
   "source": [
    "legend_elements = [Line2D([0], [0], marker='o', color='w', \n",
    "                          label=label,\n",
    "                          markerfacecolor=cat2color.get(label), markersize=10)\n",
    "                   for label in cols_in_order][::-1]\n",
    "colors = [cat2color.get(cat) for cat in cols_in_order]"
   ]
  },
  {
   "cell_type": "code",
   "execution_count": 71,
   "metadata": {},
   "outputs": [
    {
     "data": {
      "image/png": "[encoded data removed]",
      "text/plain": [
       "<Figure size 576x432 with 1 Axes>"
      ]
     },
     "metadata": {
      "needs_background": "light"
     },
     "output_type": "display_data"
    }
   ],
   "source": [
    "ax = df.set_index(\"Brand\")[::-1].plot(kind='barh', \n",
    "                                      stacked=True,\n",
    "                                      figsize=(8, 6),\n",
    "                                      color = [cat2color.get(c) for c in df.set_index('Brand').columns])\n",
    "\n",
    "ax.legend(handles=legend_elements[::-1],\n",
    "          loc='lower left', \n",
    "          bbox_to_anchor= (-0.025, 1.015), ncol=5,\n",
    "          handletextpad=0.0,\n",
    "          labelspacing=0, \n",
    "          borderaxespad=.1, \n",
    "          borderpad=0.1,\n",
    "          frameon=False,\n",
    "          prop={'size': 9.2}\n",
    "         )\n",
    "\n",
    "# Hide the right and top spines\n",
    "ax.spines['right'].set_visible(False)\n",
    "ax.spines['top'].set_visible(False)\n",
    "\n",
    "y_axis = ax.axes.get_yaxis()\n",
    "y_label = y_axis.get_label().set_visible(False)\n",
    "\n",
    "ax.set_xlabel(\"Percentage of Panel Respondents\");"
   ]
  },
  {
   "cell_type": "code",
   "execution_count": null,
   "metadata": {},
   "outputs": [],
   "source": []
  },
  {
   "cell_type": "code",
   "execution_count": null,
   "metadata": {},
   "outputs": [],
   "source": []
  }
 ],
 "metadata": {
  "kernelspec": {
   "display_name": "Python 3",
   "language": "python",
   "name": "python3"
  },
  "language_info": {
   "codemirror_mode": {
    "name": "ipython",
    "version": 3
   },
   "file_extension": ".py",
   "mimetype": "text/x-python",
   "name": "python",
   "nbconvert_exporter": "python",
   "pygments_lexer": "ipython3",
   "version": "3.8.1"
  }
 },
 "nbformat": 4,
 "nbformat_minor": 4
}
