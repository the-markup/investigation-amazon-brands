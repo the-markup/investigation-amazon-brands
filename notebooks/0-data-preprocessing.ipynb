{
 "cells": [
  {
   "cell_type": "markdown",
   "metadata": {},
   "source": [
    "# Data Preprocessing\n",
    "This notebook will preprocess searchs, product pages, the our brands API, best sellers, and create our Amazon Database."
   ]
  },
  {
   "cell_type": "code",
   "execution_count": 1,
   "metadata": {},
   "outputs": [],
   "source": [
    "%load_ext autoreload\n",
    "%autoreload 2"
   ]
  },
  {
   "cell_type": "code",
   "execution_count": 2,
   "metadata": {},
   "outputs": [],
   "source": [
    "import os\n",
    "import re\n",
    "import glob\n",
    "from collections import Counter\n",
    "import json\n",
    "from multiprocessing import Pool\n",
    "\n",
    "import parsers as P\n",
    "from tqdm import tqdm\n",
    "from lxml import html\n",
    "import pandas as pd\n",
    "\n",
    "from utils import value_counts"
   ]
  },
  {
   "cell_type": "code",
   "execution_count": 3,
   "metadata": {},
   "outputs": [],
   "source": [
    "# inputs\n",
    "pattern_searches = '../data/input/search-selenium/*/*/*/2021/01/21/webpage_search.html'\n",
    "pattern_our_brands_api = '../data/input/search-private-label/*/*/*/2021/*/*/response__*.json'\n",
    "pattern_our_brands_html = '../data/input/search-selenium-our-brands-filter_/*/*/*/2021/*/*/webpage_search__*.html'\n",
    "pattern_our_brands_search = '../data/input/search-private-label/*/*/*/2021/*/*/webpage_ourbrands.html'\n",
    "pattern_best_sellers = '../data/input/best_sellers/*/*/*/*/page_*/2021/*/*/*.html'\n",
    "pattern_products = '../data/input/selenium-products/*/*/*/2021/02/*/webpage_product.html'\n",
    "fn_seller_central = '../data/input/seller_central/All_Q4_2020.csv'\n",
    "\n",
    "# outputs\n",
    "data_dir = '../data/intermediary'\n",
    "fn_brands_api = f'{data_dir}/our_brands_api.csv.gz'\n",
    "fn_brand_search = f'{data_dir}/our_brands_api.csv.gz'\n",
    "fn_brands_filter = f'{data_dir}/our_brands_filter.csv.gz'\n",
    "fn_search = f'{data_dir}/searches.csv.gz'\n",
    "fn_best_sellers = f'{data_dir}/best_sellers.csv.gz'\n",
    "fn_queries = 'data/input/search_queries/combined_queries_with_source.csv'\n",
    "fn_products = f'{data_dir}/products.csv.bz2'\n",
    "fn_products_plus = f'{data_dir}/products_with_meta.csv.bz2'\n",
    "fn_amazon = f'{data_dir}/amazon_private_label.csv.gz'\n",
    "fn_training_set = f'{data_dir}/training_set.csv.gz'\n",
    "\n",
    "os.makedirs(data_dir , exist_ok=True)"
   ]
  },
  {
   "cell_type": "markdown",
   "metadata": {},
   "source": [
    "## search\n",
    "Parses raw search results"
   ]
  },
  {
   "cell_type": "code",
   "execution_count": 4,
   "metadata": {},
   "outputs": [
    {
     "data": {
      "text/plain": [
       "12717"
      ]
     },
     "execution_count": 4,
     "metadata": {},
     "output_type": "execute_result"
    }
   ],
   "source": [
    "files_searches = glob.glob(pattern_searches)\n",
    "len(files_searches)"
   ]
  },
  {
   "cell_type": "code",
   "execution_count": 5,
   "metadata": {},
   "outputs": [],
   "source": [
    "if not os.path.exists(fn_search):\n",
    "    search_data = []\n",
    "    with Pool(processes=32) as pool:\n",
    "        for record in tqdm(pool.imap_unordered(P.process_search_result, files_searches), \n",
    "                           total=len(files_searches)):\n",
    "            search_data.extend(record)\n",
    "            \n",
    "    df_search = pd.DataFrame(search_data)\n",
    "    df_search.to_csv(fn_search, index=False, compression='gzip')\n",
    "\n",
    "else:\n",
    "    df_search = pd.read_csv(fn_search)"
   ]
  },
  {
   "cell_type": "code",
   "execution_count": 6,
   "metadata": {},
   "outputs": [
    {
     "data": {
      "text/plain": [
       "product_type\n",
       "editorial_recs_carousel      0.352660\n",
       "featured_brands_carousel     0.125199\n",
       "misc_carousel                0.028034\n",
       "misc_sponsored_carousel      0.020787\n",
       "regular_placement            0.998168\n",
       "regular_placement__missed    0.141048\n",
       "sponsored_banner             0.686684\n",
       "Name: search_term, dtype: float64"
      ]
     },
     "execution_count": 6,
     "metadata": {},
     "output_type": "execute_result"
    }
   ],
   "source": [
    "df_search.groupby('product_type').search_term.nunique() / df_search.search_term.nunique()"
   ]
  },
  {
   "cell_type": "markdown",
   "metadata": {},
   "source": [
    "## our brands search\n",
    "parse search results made in the \"our brands\" department."
   ]
  },
  {
   "cell_type": "code",
   "execution_count": 7,
   "metadata": {},
   "outputs": [
    {
     "data": {
      "text/plain": [
       "795"
      ]
     },
     "execution_count": 7,
     "metadata": {},
     "output_type": "execute_result"
    }
   ],
   "source": [
    "files_our_brands_search = glob.glob(pattern_our_brands_search)\n",
    "len(files_our_brands_search)"
   ]
  },
  {
   "cell_type": "code",
   "execution_count": 8,
   "metadata": {},
   "outputs": [],
   "source": [
    "if not os.path.exists(fn_brand_search):\n",
    "    files_our_brands_search = glob.glob(pattern_our_brands_search)\n",
    "    print(len(files_our_brands_search))\n",
    "\n",
    "    brands_search_data = []\n",
    "    with Pool(processes=32) as pool:\n",
    "        for record in tqdm(pool.imap_unordered(P.process_search_result, \n",
    "                                               files_our_brands_search), \n",
    "                           total=len(files_our_brands_search)):\n",
    "            brands_search_data.extend(record)\n",
    "\n",
    "    df_brands_search = pd.DataFrame(brands_search_data)\n",
    "    df_brands_search = df_brands_search[~df_brands_search.is_sponsored]\n",
    "    df_brands_search.to_csv(fn_brand_search, index=False, compression='gzip')\n",
    "    \n",
    "else:\n",
    "    df_brands_search = pd.read_csv(fn_brand_search, compression='gzip')"
   ]
  },
  {
   "cell_type": "markdown",
   "metadata": {},
   "source": [
    "## our brands API\n",
    "parses API responses that mimic the \"our brands\" filter."
   ]
  },
  {
   "cell_type": "code",
   "execution_count": 9,
   "metadata": {},
   "outputs": [],
   "source": [
    "if not os.path.exists(fn_brands_api):\n",
    "    files_our_brands_api = glob.glob(pattern_our_brands_api)\n",
    "    print(len(files_our_brands_api))\n",
    "    \n",
    "    data_our_brands = []\n",
    "    with Pool(processes=32) as pool:\n",
    "        for record in tqdm(pool.imap_unordered(P.process_our_brands_api, \n",
    "                                               files_our_brands_api), \n",
    "                           total=len(files_our_brands_api)):\n",
    "            data_our_brands.extend(record)\n",
    "\n",
    "    df_brands_api = pd.DataFrame(data_our_brands)\n",
    "    df_brands_api.drop_duplicates(subset=['asin', 'search_term'], inplace=True)\n",
    "    df_brands_api.to_csv(fn_brands_api, index=False, compression='gzip')\n",
    "    \n",
    "else:\n",
    "    df_brands_api = pd.read_csv(fn_brands_api, compression='gzip')"
   ]
  },
  {
   "cell_type": "markdown",
   "metadata": {},
   "source": [
    "## our brands HTML\n",
    "parses HTML pages that are filtered to \"our brands.\""
   ]
  },
  {
   "cell_type": "code",
   "execution_count": 10,
   "metadata": {},
   "outputs": [],
   "source": [
    "if not os.path.exists(fn_brands_filter):\n",
    "    files_brands_filter = glob.glob(pattern_our_brands_html)\n",
    "    print(len(files_brands_filter))\n",
    "    \n",
    "    brands_filter_data = []\n",
    "    with Pool(processes=64) as pool:\n",
    "        for record in tqdm(pool.imap_unordered(P.process_our_brands_filter, \n",
    "                                               files_brands_filter), \n",
    "                           total=len(files_brands_filter)):\n",
    "            brands_filter_data.extend(record)\n",
    "    df_brands_filter = pd.DataFrame(brands_filter_data)\n",
    "    df_brands_filter.drop_duplicates(subset=['asin', 'search_term'], inplace=True)\n",
    "    df_brands_filter.to_csv(fn_brands_filter, index=False, compression='gzip')\n",
    "    \n",
    "else:\n",
    "    df_brands_filter = pd.read_csv(fn_brands_filter, compression='gzip')"
   ]
  },
  {
   "cell_type": "markdown",
   "metadata": {},
   "source": [
    "## Best Sellers\n",
    "Find best-selling Amazon devices."
   ]
  },
  {
   "cell_type": "code",
   "execution_count": 11,
   "metadata": {},
   "outputs": [],
   "source": [
    "if not os.path.exists(fn_best_sellers):\n",
    "    files_best_sellers = glob.glob(pattern_best_sellers)\n",
    "    print(len(files_best_sellers))\n",
    "    \n",
    "    best_sellers_data = []\n",
    "    with Pool(processes=32) as pool:\n",
    "        for record in tqdm(pool.imap_unordered(P.process_best_sellers, \n",
    "                                               files_best_sellers), \n",
    "                           total=len(files_best_sellers)):\n",
    "            best_sellers_data.extend(record)\n",
    "    df_best_sellers = pd.DataFrame(best_sellers_data)\n",
    "    df_best_sellers.to_csv(fn_best_sellers, index=False, compression='gzip')\n",
    "\n",
    "else:\n",
    "    df_best_sellers = pd.read_csv(fn_best_sellers, compression='gzip')"
   ]
  },
  {
   "cell_type": "markdown",
   "metadata": {},
   "source": [
    "## Amazon products database\n",
    "Creating the database of Amazon ASINs."
   ]
  },
  {
   "cell_type": "code",
   "execution_count": 12,
   "metadata": {},
   "outputs": [],
   "source": [
    "df_best_seller_amazon = df_best_sellers[\n",
    "    (df_best_sellers.path.str.contains('Amazon Devices')) &\n",
    "    (~df_best_sellers.category.astype(str).str.contains('Kindle'))\n",
    "]"
   ]
  },
  {
   "cell_type": "code",
   "execution_count": 13,
   "metadata": {},
   "outputs": [],
   "source": [
    "s1 = df_brands_api[['asin', 'product_name', 'product_url']]\n",
    "s1 = s1.assign(source=\"our brands API\")\n",
    "\n",
    "s2 = df_best_seller_amazon[['asin', 'product_name', 'product_url']]\n",
    "s2 = s2.assign(source='best selling Amazon devices')\n",
    "\n",
    "s3 =  df_brands_search[['asin', 'product_name', 'product_url']]\n",
    "s3 = s3.assign(source='our brands searchbar')\n",
    "\n",
    "s4 = df_brands_filter[['asin', 'product_name', 'product_url']]\n",
    "s4 = s4.assign(source='our brands filtered search result')"
   ]
  },
  {
   "cell_type": "code",
   "execution_count": 14,
   "metadata": {},
   "outputs": [
    {
     "data": {
      "text/plain": [
       "135652"
      ]
     },
     "execution_count": 14,
     "metadata": {},
     "output_type": "execute_result"
    }
   ],
   "source": [
    "df_amazon = s1.append(s2).append(s3).append(s4)\n",
    "df_amazon.asin.nunique()"
   ]
  },
  {
   "cell_type": "code",
   "execution_count": 15,
   "metadata": {},
   "outputs": [],
   "source": [
    "amazon_missed = '|'.join([\n",
    "    'amazon basics',\n",
    "    'amazon essentials',\n",
    "    'amazon exclusive',\n",
    "    'amazon us exclusive',\n",
    "    'amazon brand',\n",
    "    'goodthreads',\n",
    "    'solimo',\n",
    "    'whole foods market',\n",
    "    'amazon commercial',\n",
    "    'amazon collection',\n",
    "    'amazon fresh',\n",
    "    'amazon elements',\n",
    "    'amazonbasics',\n",
    "    'pinzon by amazon',\n",
    "    'simple joys by carter',\n",
    "    'daily ritual',\n",
    "    '365 everyday value',\n",
    "    'lark & ro',\n",
    "    'presto!'\n",
    "])"
   ]
  },
  {
   "cell_type": "code",
   "execution_count": 16,
   "metadata": {},
   "outputs": [],
   "source": [
    "s5 = df_search[\n",
    "    (df_search.is_featured_brand) & \n",
    "    (df_search.product_type == 'regular_placement') &\n",
    "    (~df_search.asin.isin(df_amazon.asin))\n",
    "][['asin', 'product_name', 'product_url']]\n",
    "s5 = s5.assign(source=\"featured from our brands tag\")\n",
    "\n",
    "s6 = df_search[\n",
    "    (df_search.product_type == 'featured_brands_carousel') &\n",
    "    (~df_search.asin.isin(df_amazon.asin))\n",
    "][['asin', 'product_name', 'product_url']]\n",
    "s6 = s6.assign(source=\"featured from our brands carousel\")\n",
    "\n",
    "s7 =  df_search[\n",
    "    (df_search.product_name.str.contains(amazon_missed, case=False)) &\n",
    "    (~df_search.asin.isin(df_amazon.asin))\n",
    "][['asin', 'product_name', 'product_url']]\n",
    "s7 = s7.assign(source=\"text search\")"
   ]
  },
  {
   "cell_type": "code",
   "execution_count": 17,
   "metadata": {},
   "outputs": [],
   "source": [
    "df_amazon = df_amazon.append(s5).append(s6).append(s7)"
   ]
  },
  {
   "cell_type": "code",
   "execution_count": 18,
   "metadata": {},
   "outputs": [
    {
     "data": {
      "text/plain": [
       "137420"
      ]
     },
     "execution_count": 18,
     "metadata": {},
     "output_type": "execute_result"
    }
   ],
   "source": [
    "df_amazon.drop_duplicates(subset=['asin'], keep='first', inplace=True)\n",
    "len(df_amazon)"
   ]
  },
  {
   "cell_type": "code",
   "execution_count": 19,
   "metadata": {},
   "outputs": [],
   "source": [
    "df_amazon['product_url'] = df_amazon.product_url.apply(lambda x: 'https://www.amazon.com' + x)"
   ]
  },
  {
   "cell_type": "code",
   "execution_count": 20,
   "metadata": {},
   "outputs": [],
   "source": [
    "df_amazon.to_csv(fn_amazon, index=False, compression='gzip')"
   ]
  },
  {
   "cell_type": "code",
   "execution_count": 21,
   "metadata": {},
   "outputs": [
    {
     "data": {
      "text/html": [
       "<div>\n",
       "<style scoped>\n",
       "    .dataframe tbody tr th:only-of-type {\n",
       "        vertical-align: middle;\n",
       "    }\n",
       "\n",
       "    .dataframe tbody tr th {\n",
       "        vertical-align: top;\n",
       "    }\n",
       "\n",
       "    .dataframe thead th {\n",
       "        text-align: right;\n",
       "    }\n",
       "</style>\n",
       "<table border=\"1\" class=\"dataframe\">\n",
       "  <thead>\n",
       "    <tr style=\"text-align: right;\">\n",
       "      <th></th>\n",
       "      <th>count</th>\n",
       "      <th>percentage</th>\n",
       "    </tr>\n",
       "  </thead>\n",
       "  <tbody>\n",
       "    <tr>\n",
       "      <th>our brands filtered search result</th>\n",
       "      <td>68671</td>\n",
       "      <td>0.499716</td>\n",
       "    </tr>\n",
       "    <tr>\n",
       "      <th>our brands API</th>\n",
       "      <td>66476</td>\n",
       "      <td>0.483743</td>\n",
       "    </tr>\n",
       "    <tr>\n",
       "      <th>text search</th>\n",
       "      <td>780</td>\n",
       "      <td>0.005676</td>\n",
       "    </tr>\n",
       "    <tr>\n",
       "      <th>featured from our brands carousel</th>\n",
       "      <td>684</td>\n",
       "      <td>0.004977</td>\n",
       "    </tr>\n",
       "    <tr>\n",
       "      <th>best selling Amazon devices</th>\n",
       "      <td>505</td>\n",
       "      <td>0.003675</td>\n",
       "    </tr>\n",
       "    <tr>\n",
       "      <th>featured from our brands tag</th>\n",
       "      <td>304</td>\n",
       "      <td>0.002212</td>\n",
       "    </tr>\n",
       "  </tbody>\n",
       "</table>\n",
       "</div>"
      ],
      "text/plain": [
       "                                   count  percentage\n",
       "our brands filtered search result  68671    0.499716\n",
       "our brands API                     66476    0.483743\n",
       "text search                          780    0.005676\n",
       "featured from our brands carousel    684    0.004977\n",
       "best selling Amazon devices          505    0.003675\n",
       "featured from our brands tag         304    0.002212"
      ]
     },
     "execution_count": 21,
     "metadata": {},
     "output_type": "execute_result"
    }
   ],
   "source": [
    "value_counts(df_amazon, col='source')"
   ]
  },
  {
   "cell_type": "markdown",
   "metadata": {},
   "source": [
    "## Create YAML file for extension..."
   ]
  },
  {
   "cell_type": "code",
   "execution_count": 27,
   "metadata": {},
   "outputs": [],
   "source": [
    "import yaml"
   ]
  },
  {
   "cell_type": "code",
   "execution_count": 22,
   "metadata": {},
   "outputs": [],
   "source": [
    "s2 = s2.drop_duplicates(subset='asin')"
   ]
  },
  {
   "cell_type": "code",
   "execution_count": 23,
   "metadata": {},
   "outputs": [],
   "source": [
    "with open('../data/output/asins.yaml', 'w') as f:\n",
    "    f.write('---\\n')\n",
    "    for i, row in s2.iterrows():\n",
    "        f.write(f\"{row['asin']}: {row['product_name']}\\n\")"
   ]
  },
  {
   "cell_type": "code",
   "execution_count": 24,
   "metadata": {},
   "outputs": [],
   "source": [
    "data = {row['asin']: row['product_name'] for i, row in s2.iterrows()}"
   ]
  },
  {
   "cell_type": "code",
   "execution_count": 25,
   "metadata": {},
   "outputs": [],
   "source": [
    "to_add = {\n",
    "    'B08CKHPP52' : \"Introducing Ring Video Doorbell Wired – Convenient, essential features in a compact design, pair with Ring Chime to hear audio alerts in your home (existing doorbell wiring required) - 2021 release\",\n",
    "    'B0876GVJ3D': \"Certified Refurbished Ring Video Doorbell – newest generation, 2020 release – 1080p HD video, improved motion detection, easy installation – Satin Nickel\",\n",
    "    'B08M125RNW': \"Ring Video Doorbell Pro – Upgraded, with added security features and a sleek design (existing doorbell wiring required)\",\n",
    "    'B086Q54K53': \"Introducing Ring Video Doorbell Pro 2 – Best-in-class with cutting-edge features (existing doorbell wiring required) – 2021 release\",\n",
    "    'B07WLP395R': \"Ring Video Doorbell 3 Plus – enhanced wifi, improved motion detection, 4-second video previews, easy installation\",\n",
    "    'B08JNR77QY': \"All-new Ring Video Doorbell 4 – improved 4-second color video previews plus easy installation, and enhanced wifi – 2021 release\",\n",
    "    'B0876PVDMC': \"Certified Refurbished Ring Video Doorbell 3 – enhanced wifi, improved motion detection, easy installation\",\n",
    "    'B08SSDZ6R8': \"Introducing Ring Video Doorbell Wired with Ring Chime\",\n",
    "    'B0849J7W5X': \"Ring Video Doorbell 3 – enhanced wifi, improved motion detection, easy installation\",\n",
    "    'B0727XJQLD': \"Ring Floodlight Camera Motion-Activated HD Security Cam Two-Way Talk and Siren Alarm, White\",\n",
    "    'B08P5499MZ': \"Solar Charger for Ring Video Doorbell 2\",\n",
    "    'B08C1W5N87': \"Fire TV Stick (3rd Gen) with Alexa Voice Remote (includes TV controls) | HD streaming device | 2021 release\",\n",
    "    'B08N5NQ69J': \"Ring Video Doorbell – newest generation, 2020 release – 1080p HD video, improved motion detection, easy installation – Venetian Bronze\",\n",
    "    'B07PDHSLM6': \"Echo Dot (3rd Gen) - Smart speaker with Alexa - Heather Gray\",\n",
    "    'B01MZEEFNX': \"Amazon Smart Plug, works with Alexa – A Certified for Humans Device\",\n",
    "    'B084KYM1HH': \"Certified Refurbished Echo Dot (4th Gen) | Smart speaker with Alexa | Glacier White\",\n",
    "    'B07XKF75B8': \"Echo (4th Gen) | With premium sound, smart home hub, and Alexa | Glacier White\",\n",
    "    'B07Q6ZZFLS': \"Ring Stick Up Cam Battery HD security camera with custom privacy controls, Simple setup, Works with Alexa - White\",\n",
    "    'B07FZ8S74R': \"Echo Dot (3rd Gen) - Smart speaker with Alexa - Charcoal\",\n",
    "    'B0758L64L9': \"Ring Spotlight Cam Battery HD Security Camera with Built Two-Way Talk and a Siren Alarm, White, Works with Alexa\",\n",
    "    'B07ZPMCW64': \"Ring Alarm 8-piece kit (2nd Gen) – home security system with optional 24/7 professional monitoring – Works with Alexa\",\n",
    "    'B07Q9VBYV8': \"Ring Indoor Cam, Compact Plug-In HD security camera with two-way talk, Works with Alexa - White\",\n",
    "    'B0781Z3FNX': \"Ring Solar Panel White - Compatible with Ring Spotlight Cam Battery and Stick Up Cam Battery\",\n",
    "    'B084J4MZK8': \"Echo Dot (newest generation - 2020 release) | Smart speaker with Alexa | Twilight Blue\",\n",
    "    'B07VHZ41L8': \"Echo Show 10 (3rd Gen) | HD smart display with motion and Alexa | Charcoal\",\n",
    "    'B085M66LH1': \"All-new Echo Dot (4th Gen) | Smart speaker with clock and Alexa | Twilight Blue\",\n",
    "    'B00X4WHP5E': \"Amazon Echo - Black (1st Generation)\",\n",
    "    'B07SLHPDVZ': \"Certified Refurbished Echo Show 8 -- HD smart display with Alexa – stay connected with video calling - Charcoal\",\n",
    "    'B084J4QQK1': \"Echo Dot (4th Gen) Kids | Designed for kids, with parental controls | Tiger\",\n",
    "    'B08M1N852': \"Ring A19 Smart LED Bulb, White, bundle with All-new Echo Show 10 (3rd Gen) - Charcoal\"\n",
    "}"
   ]
  },
  {
   "cell_type": "code",
   "execution_count": 26,
   "metadata": {},
   "outputs": [],
   "source": [
    "data = {**data, **to_add}"
   ]
  },
  {
   "cell_type": "code",
   "execution_count": 28,
   "metadata": {},
   "outputs": [],
   "source": [
    "with open('../data/output/asins.yaml', 'w') as outfile:\n",
    "    yaml.dump(data, outfile, default_flow_style=False)"
   ]
  },
  {
   "cell_type": "markdown",
   "metadata": {},
   "source": [
    "## product pages"
   ]
  },
  {
   "cell_type": "code",
   "execution_count": 77,
   "metadata": {},
   "outputs": [],
   "source": [
    "df_amazon = pd.read_csv(fn_amazon, compression='gzip')"
   ]
  },
  {
   "cell_type": "code",
   "execution_count": 78,
   "metadata": {},
   "outputs": [],
   "source": [
    "amazon_asin = set(df_amazon.asin.unique())"
   ]
  },
  {
   "cell_type": "code",
   "execution_count": 79,
   "metadata": {},
   "outputs": [],
   "source": [
    "def is_sold_by_amazon(row, col='sold_by'):\n",
    "    amazon_sellers = ['zappos', 'whole foods', 'amazon']\n",
    "    if row[col] == None:\n",
    "        return None\n",
    "    to_check = str(row[col]).lower()\n",
    "    if any(seller in to_check for seller in amazon_sellers):\n",
    "        return True\n",
    "    elif row['product_by_amazon']:\n",
    "        return True\n",
    "    else:\n",
    "        return False\n",
    "    \n",
    "def is_shipped_by_amazon(row, col='shipped_by'):\n",
    "    amazon_sellers = ['zappos', 'whole foods', 'amazon']\n",
    "    if row[col] == None:\n",
    "        return None\n",
    "    to_check = str(row[col]).lower()\n",
    "    if any(seller in to_check for seller in amazon_sellers):\n",
    "        return True\n",
    "    elif row['product_by_amazon']:\n",
    "        return True\n",
    "    else:\n",
    "        return False"
   ]
  },
  {
   "cell_type": "code",
   "execution_count": 80,
   "metadata": {},
   "outputs": [],
   "source": [
    "if not os.path.exists(fn_products):\n",
    "    files_products = glob.glob(pattern_products)\n",
    "    print(len(files_products))\n",
    "    \n",
    "    product_data = []\n",
    "    with Pool(processes=64) as pool:\n",
    "        for record in tqdm(pool.imap_unordered(P.parse_product_page, files_products), \n",
    "                           total=len(files_products)):\n",
    "            product_data.append(record)\n",
    "            \n",
    "    df_product = pd.DataFrame(product_data)\n",
    "    \n",
    "    # create some columns for ads\n",
    "    df_product['n_ads'] = df_product.ads.apply(lambda x: len(x))\n",
    "    df_product[\"asin\"] = df_product.fn.apply(lambda x: x.split('/2021')[0].split('/')[-1])\n",
    "    \n",
    "    # dedupe and filter to only products in the search.\n",
    "    df_product.drop_duplicates(subset='asin', keep='last', inplace=True)\n",
    "    df_product = df_product[df_product.asin.isin(df_search.asin)]\n",
    "    \n",
    "    # create boolean column if the asin is an Amazon product\n",
    "    amazon_asin = set(df_amazon.asin.unique())\n",
    "    df_product['is_amazon'] = df_product.asin.apply(lambda x: x in amazon_asin)\n",
    "    \n",
    "    # create boolean column for Amazon's shippers and sellers\n",
    "    df_product[\"is_sold_by_amazon\"] = df_product.apply(is_sold_by_amazon, axis=1)\n",
    "    df_product[\"is_shipped_by_amazon\"] = df_product.apply(is_shipped_by_amazon, axis=1)\n",
    "    df_product.to_csv(fn_products_plus, index=False, compression='bz2')\n",
    "    \n",
    "else:\n",
    "    df_product = pd.read_csv(fn_products_plus, compression='bz2')"
   ]
  },
  {
   "cell_type": "code",
   "execution_count": 33,
   "metadata": {},
   "outputs": [
    {
     "data": {
      "text/plain": [
       "Amazon.com                 38647\n",
       "AmazonFresh                 1481\n",
       "Whole Foods Market          1045\n",
       "Pharmapacks                  308\n",
       "Amazon.com Services LLC      246\n",
       "shein online store           165\n",
       "Zappos                       150\n",
       "Songmics Direct              141\n",
       "VM Express                   138\n",
       "SweatyRocks                  131\n",
       "EPFamily Direct              129\n",
       "BestChoiceproducts           124\n",
       "JoyinDirect                  122\n",
       "Just Love Fashion            119\n",
       "MYBATTERYSUPPLIER            108\n",
       "PajamaGram                   107\n",
       "iServe                       105\n",
       "Mr. Pen                      104\n",
       "TheNewMall                    95\n",
       "Baleaf Sports                 92\n",
       "Name: sold_by, dtype: int64"
      ]
     },
     "execution_count": 33,
     "metadata": {},
     "output_type": "execute_result"
    }
   ],
   "source": [
    "df_product.sold_by.value_counts().head(20)"
   ]
  },
  {
   "cell_type": "markdown",
   "metadata": {},
   "source": [
    "## Tranining set for regression"
   ]
  },
  {
   "cell_type": "code",
   "execution_count": 81,
   "metadata": {},
   "outputs": [],
   "source": [
    "df_seller_central = pd.read_csv(fn_seller_central, skiprows=1, index_col=0)\n",
    "top_clicked = list(set(\n",
    "    df_seller_central['#1 Clicked ASIN'].unique().tolist() + \n",
    "    df_seller_central['#2 Clicked ASIN'].unique().tolist() +\n",
    "    df_seller_central['#3 Clicked ASIN'].unique().tolist()\n",
    "))"
   ]
  },
  {
   "cell_type": "code",
   "execution_count": 82,
   "metadata": {},
   "outputs": [],
   "source": [
    "df_amazon = pd.read_csv(fn_amazon)"
   ]
  },
  {
   "cell_type": "code",
   "execution_count": 83,
   "metadata": {},
   "outputs": [],
   "source": [
    "amazon_searches = df_search[\n",
    "    (df_search.product_type == 'regular_placement') &\n",
    "    (df_search.asin.isin(df_amazon.asin)) \n",
    "].search_term.unique()"
   ]
  },
  {
   "cell_type": "code",
   "execution_count": 84,
   "metadata": {},
   "outputs": [],
   "source": [
    "df_product = pd.read_csv(fn_products_plus, compression='bz2')"
   ]
  },
  {
   "cell_type": "code",
   "execution_count": 85,
   "metadata": {},
   "outputs": [],
   "source": [
    "qualified_searches = df_search[\n",
    "    (df_search.product_order >= 8) &\n",
    "    (df_search.search_term.isin(amazon_searches))\n",
    "].search_term.unique()"
   ]
  },
  {
   "cell_type": "code",
   "execution_count": 86,
   "metadata": {},
   "outputs": [],
   "source": [
    "training_set = df_search[\n",
    "    (df_search.product_type == 'regular_placement') & \n",
    "    (df_search.search_term.isin(qualified_searches))\n",
    "]"
   ]
  },
  {
   "cell_type": "code",
   "execution_count": 87,
   "metadata": {},
   "outputs": [
    {
     "name": "stderr",
     "output_type": "stream",
     "text": [
      "<ipython-input-87-8c1b25d62e79>:1: SettingWithCopyWarning: \n",
      "A value is trying to be set on a copy of a slice from a DataFrame.\n",
      "Try using .loc[row_indexer,col_indexer] = value instead\n",
      "\n",
      "See the caveats in the documentation: https://pandas.pydata.org/pandas-docs/stable/user_guide/indexing.html#returning-a-view-versus-a-copy\n",
      "  training_set['top_clicked'] = training_set['asin'].isin(top_clicked)\n"
     ]
    }
   ],
   "source": [
    "training_set['top_clicked'] = training_set['asin'].isin(top_clicked)"
   ]
  },
  {
   "cell_type": "code",
   "execution_count": 88,
   "metadata": {},
   "outputs": [
    {
     "data": {
      "text/plain": [
       "248938"
      ]
     },
     "execution_count": 88,
     "metadata": {},
     "output_type": "execute_result"
    }
   ],
   "source": [
    "len(training_set)"
   ]
  },
  {
   "cell_type": "code",
   "execution_count": 89,
   "metadata": {},
   "outputs": [],
   "source": [
    "# merge product metadata.\n",
    "training_set = training_set.merge(df_product[[\n",
    "    'asin','is_amazon', 'is_sold_by_amazon', \n",
    "    'is_shipped_by_amazon', 'has_third_party_sellers'\n",
    "]], how='left')"
   ]
  },
  {
   "cell_type": "code",
   "execution_count": 90,
   "metadata": {},
   "outputs": [
    {
     "data": {
      "text/plain": [
       "248938"
      ]
     },
     "execution_count": 90,
     "metadata": {},
     "output_type": "execute_result"
    }
   ],
   "source": [
    "len(training_set)"
   ]
  },
  {
   "cell_type": "code",
   "execution_count": 91,
   "metadata": {},
   "outputs": [],
   "source": [
    "training_set.to_csv(fn_training_set, index=False, compression='gzip')"
   ]
  },
  {
   "cell_type": "code",
   "execution_count": null,
   "metadata": {},
   "outputs": [],
   "source": []
  }
 ],
 "metadata": {
  "kernelspec": {
   "display_name": "Python 3",
   "language": "python",
   "name": "python3"
  },
  "language_info": {
   "codemirror_mode": {
    "name": "ipython",
    "version": 3
   },
   "file_extension": ".py",
   "mimetype": "text/x-python",
   "name": "python",
   "nbconvert_exporter": "python",
   "pygments_lexer": "ipython3",
   "version": "3.8.1"
  }
 },
 "nbformat": 4,
 "nbformat_minor": 4
}
