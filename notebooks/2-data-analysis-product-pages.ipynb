{
 "cells": [
  {
   "cell_type": "code",
   "execution_count": 14,
   "metadata": {},
   "outputs": [],
   "source": [
    "import json\n",
    "\n",
    "from tqdm import tqdm\n",
    "import pandas as pd"
   ]
  },
  {
   "cell_type": "code",
   "execution_count": 5,
   "metadata": {},
   "outputs": [],
   "source": [
    "# inputs\n",
    "data_dir = '../data/intermediary'\n",
    "fn_search = f'{data_dir}/searches.csv.gz'\n",
    "fn_products = f'{data_dir}/products_with_meta.csv.gz'\n",
    "fn_queries = '../data/input/combined_queries_with_source.csv'\n",
    "fn_amazon = f'{data_dir}/amazon_private_label.csv.gz'\n",
    "\n",
    "fn_top_searches = f'{data_dir}/top_searches.csv.gz'\n",
    "fn_generic_searches = f'{data_dir}/generic_searches.csv.gz'\n",
    "\n",
    "# outputs"
   ]
  },
  {
   "cell_type": "code",
   "execution_count": 3,
   "metadata": {},
   "outputs": [],
   "source": [
    "df_products = pd.read_csv(fn_products, compression='gzip')\n",
    "df_search = pd.read_csv(fn_search, compression='gzip')\n",
    "df_amazon = pd.read_csv(fn_amazon, compression='gzip')\n",
    "keywords = pd.read_csv(fn_queries)"
   ]
  },
  {
   "cell_type": "code",
   "execution_count": 6,
   "metadata": {},
   "outputs": [],
   "source": [
    "df_top = pd.read_csv(fn_top_searches, compression='gzip')\n",
    "df_generic = pd.read_csv(fn_generic_searches, compression='gzip')"
   ]
  },
  {
   "cell_type": "code",
   "execution_count": 36,
   "metadata": {
    "collapsed": true,
    "jupyter": {
     "outputs_hidden": true
    }
   },
   "outputs": [
    {
     "data": {
      "text/html": [
       "<div>\n",
       "<style scoped>\n",
       "    .dataframe tbody tr th:only-of-type {\n",
       "        vertical-align: middle;\n",
       "    }\n",
       "\n",
       "    .dataframe tbody tr th {\n",
       "        vertical-align: top;\n",
       "    }\n",
       "\n",
       "    .dataframe thead th {\n",
       "        text-align: right;\n",
       "    }\n",
       "</style>\n",
       "<table border=\"1\" class=\"dataframe\">\n",
       "  <thead>\n",
       "    <tr style=\"text-align: right;\">\n",
       "      <th></th>\n",
       "      <th>asin</th>\n",
       "      <th>product_name</th>\n",
       "      <th>stars</th>\n",
       "      <th>reviews</th>\n",
       "      <th>brand</th>\n",
       "      <th>product_url</th>\n",
       "      <th>is_prime</th>\n",
       "      <th>is_fresh</th>\n",
       "      <th>is_sponsored</th>\n",
       "      <th>is_featured_brand</th>\n",
       "      <th>...</th>\n",
       "      <th>sold_by</th>\n",
       "      <th>has_third_party_sellers</th>\n",
       "      <th>product_by_amazon</th>\n",
       "      <th>our_brands_carousel</th>\n",
       "      <th>ads</th>\n",
       "      <th>suggestions</th>\n",
       "      <th>n_ads</th>\n",
       "      <th>is_amazon</th>\n",
       "      <th>is_sold_by_amazon</th>\n",
       "      <th>is_shipped_by_amazon</th>\n",
       "    </tr>\n",
       "  </thead>\n",
       "  <tbody>\n",
       "    <tr>\n",
       "      <th>0</th>\n",
       "      <td>B086VR2KY8</td>\n",
       "      <td>All-New Toshiba 50LF621U21 50-inch Smart 4K UH...</td>\n",
       "      <td>4.6</td>\n",
       "      <td>5282.0</td>\n",
       "      <td>NaN</td>\n",
       "      <td>/gp/slredirect/picassoRedirect.html/ref=pa_sp_...</td>\n",
       "      <td>True</td>\n",
       "      <td>False</td>\n",
       "      <td>False</td>\n",
       "      <td>True</td>\n",
       "      <td>...</td>\n",
       "      <td>Best Buy</td>\n",
       "      <td>False</td>\n",
       "      <td>False</td>\n",
       "      <td>False</td>\n",
       "      <td>[]</td>\n",
       "      <td>['B086VR2KY8', 'B086VR2KY8', 'B086VR2KY8', 'B0...</td>\n",
       "      <td>0.0</td>\n",
       "      <td>True</td>\n",
       "      <td>False</td>\n",
       "      <td>False</td>\n",
       "    </tr>\n",
       "    <tr>\n",
       "      <th>1</th>\n",
       "      <td>B086VRR9K9</td>\n",
       "      <td>All-New Insignia NS-50DF710NA21 50-inch Smart ...</td>\n",
       "      <td>4.6</td>\n",
       "      <td>8569.0</td>\n",
       "      <td>NaN</td>\n",
       "      <td>/gp/slredirect/picassoRedirect.html/ref=pa_sp_...</td>\n",
       "      <td>True</td>\n",
       "      <td>False</td>\n",
       "      <td>False</td>\n",
       "      <td>True</td>\n",
       "      <td>...</td>\n",
       "      <td>NaN</td>\n",
       "      <td>False</td>\n",
       "      <td>False</td>\n",
       "      <td>False</td>\n",
       "      <td>[]</td>\n",
       "      <td>['B086VRR9K9', 'B086VRR9K9', 'B086VRR9K9', 'B0...</td>\n",
       "      <td>0.0</td>\n",
       "      <td>True</td>\n",
       "      <td>False</td>\n",
       "      <td>False</td>\n",
       "    </tr>\n",
       "    <tr>\n",
       "      <th>2</th>\n",
       "      <td>B08DHFX4FV</td>\n",
       "      <td>TCL 4K Smart LED TV, 50\" (50S435)</td>\n",
       "      <td>4.6</td>\n",
       "      <td>1314.0</td>\n",
       "      <td>NaN</td>\n",
       "      <td>/TCL-4K-Smart-LED-50S435/dp/B08DHFX4FV/ref=sr_...</td>\n",
       "      <td>True</td>\n",
       "      <td>False</td>\n",
       "      <td>False</td>\n",
       "      <td>False</td>\n",
       "      <td>...</td>\n",
       "      <td>Amazon.com</td>\n",
       "      <td>True</td>\n",
       "      <td>False</td>\n",
       "      <td>False</td>\n",
       "      <td>[b'&lt;div id=\"ape_Detail_ams-detail-right-v2_des...</td>\n",
       "      <td>['B08DHFX4FV', 'B08DHFX4FV', 'B08DHFX4FV', 'B0...</td>\n",
       "      <td>4.0</td>\n",
       "      <td>False</td>\n",
       "      <td>True</td>\n",
       "      <td>True</td>\n",
       "    </tr>\n",
       "    <tr>\n",
       "      <th>3</th>\n",
       "      <td>B086VR2KY8</td>\n",
       "      <td>All-New Toshiba 50LF621U21 50-inch Smart 4K UH...</td>\n",
       "      <td>4.6</td>\n",
       "      <td>5282.0</td>\n",
       "      <td>NaN</td>\n",
       "      <td>/All-New-Toshiba-50LF621U21-50-inch-Vision/dp/...</td>\n",
       "      <td>True</td>\n",
       "      <td>False</td>\n",
       "      <td>False</td>\n",
       "      <td>False</td>\n",
       "      <td>...</td>\n",
       "      <td>Best Buy</td>\n",
       "      <td>False</td>\n",
       "      <td>False</td>\n",
       "      <td>False</td>\n",
       "      <td>[]</td>\n",
       "      <td>['B086VR2KY8', 'B086VR2KY8', 'B086VR2KY8', 'B0...</td>\n",
       "      <td>0.0</td>\n",
       "      <td>True</td>\n",
       "      <td>False</td>\n",
       "      <td>False</td>\n",
       "    </tr>\n",
       "    <tr>\n",
       "      <th>4</th>\n",
       "      <td>B086VRR9K9</td>\n",
       "      <td>All-New Insignia NS-50DF710NA21 50-inch Smart ...</td>\n",
       "      <td>4.6</td>\n",
       "      <td>8569.0</td>\n",
       "      <td>NaN</td>\n",
       "      <td>/All-New-Insignia-NS-50DF710NA21-50-inch-Smart...</td>\n",
       "      <td>True</td>\n",
       "      <td>False</td>\n",
       "      <td>False</td>\n",
       "      <td>False</td>\n",
       "      <td>...</td>\n",
       "      <td>NaN</td>\n",
       "      <td>False</td>\n",
       "      <td>False</td>\n",
       "      <td>False</td>\n",
       "      <td>[]</td>\n",
       "      <td>['B086VRR9K9', 'B086VRR9K9', 'B086VRR9K9', 'B0...</td>\n",
       "      <td>0.0</td>\n",
       "      <td>True</td>\n",
       "      <td>False</td>\n",
       "      <td>False</td>\n",
       "    </tr>\n",
       "    <tr>\n",
       "      <th>...</th>\n",
       "      <td>...</td>\n",
       "      <td>...</td>\n",
       "      <td>...</td>\n",
       "      <td>...</td>\n",
       "      <td>...</td>\n",
       "      <td>...</td>\n",
       "      <td>...</td>\n",
       "      <td>...</td>\n",
       "      <td>...</td>\n",
       "      <td>...</td>\n",
       "      <td>...</td>\n",
       "      <td>...</td>\n",
       "      <td>...</td>\n",
       "      <td>...</td>\n",
       "      <td>...</td>\n",
       "      <td>...</td>\n",
       "      <td>...</td>\n",
       "      <td>...</td>\n",
       "      <td>...</td>\n",
       "      <td>...</td>\n",
       "      <td>...</td>\n",
       "    </tr>\n",
       "    <tr>\n",
       "      <th>187529</th>\n",
       "      <td>B075N8W9VK</td>\n",
       "      <td>163 Piece STEM Toys Kit, Educational Construct...</td>\n",
       "      <td>4.7</td>\n",
       "      <td>7072.0</td>\n",
       "      <td>NaN</td>\n",
       "      <td>/Educational-Construction-Building-Blocks-Bric...</td>\n",
       "      <td>True</td>\n",
       "      <td>False</td>\n",
       "      <td>False</td>\n",
       "      <td>False</td>\n",
       "      <td>...</td>\n",
       "      <td>DynaMax</td>\n",
       "      <td>True</td>\n",
       "      <td>False</td>\n",
       "      <td>False</td>\n",
       "      <td>[]</td>\n",
       "      <td>['B075N8W9VK', 'B075N8W9VK', 'B075N8W9VK', 'B0...</td>\n",
       "      <td>0.0</td>\n",
       "      <td>False</td>\n",
       "      <td>False</td>\n",
       "      <td>True</td>\n",
       "    </tr>\n",
       "    <tr>\n",
       "      <th>187530</th>\n",
       "      <td>B07SJKW984</td>\n",
       "      <td>Flying Toy Ball Infrared Induction RC Flying T...</td>\n",
       "      <td>4.0</td>\n",
       "      <td>5445.0</td>\n",
       "      <td>NaN</td>\n",
       "      <td>/Infrared-Induction-Helicopter-Shining-Colorfu...</td>\n",
       "      <td>True</td>\n",
       "      <td>False</td>\n",
       "      <td>False</td>\n",
       "      <td>False</td>\n",
       "      <td>...</td>\n",
       "      <td>Fmaoun</td>\n",
       "      <td>True</td>\n",
       "      <td>False</td>\n",
       "      <td>False</td>\n",
       "      <td>[b'&lt;div id=\"ape_Detail_ams-detail-right-v2_des...</td>\n",
       "      <td>['B07SJKW984', 'B07SJKW984', 'B07SJKW984', 'B0...</td>\n",
       "      <td>4.0</td>\n",
       "      <td>False</td>\n",
       "      <td>False</td>\n",
       "      <td>True</td>\n",
       "    </tr>\n",
       "    <tr>\n",
       "      <th>187531</th>\n",
       "      <td>B07TW2FYNV</td>\n",
       "      <td>LLMoose Hover Soccer Ball Set of 2, Hover Ball...</td>\n",
       "      <td>4.4</td>\n",
       "      <td>3716.0</td>\n",
       "      <td>NaN</td>\n",
       "      <td>/Let-Loose-Moose-Hover-Soccer/dp/B07TW2FYNV/re...</td>\n",
       "      <td>True</td>\n",
       "      <td>False</td>\n",
       "      <td>False</td>\n",
       "      <td>False</td>\n",
       "      <td>...</td>\n",
       "      <td>KangoKids</td>\n",
       "      <td>True</td>\n",
       "      <td>False</td>\n",
       "      <td>False</td>\n",
       "      <td>[b'&lt;div id=\"ape_Detail_ams-detail-right-v2_des...</td>\n",
       "      <td>['B07TW2FYNV', 'B07TW2FYNV', 'B07TW2FYNV', 'B0...</td>\n",
       "      <td>5.0</td>\n",
       "      <td>False</td>\n",
       "      <td>False</td>\n",
       "      <td>True</td>\n",
       "    </tr>\n",
       "    <tr>\n",
       "      <th>187532</th>\n",
       "      <td>B08CZYGBDT</td>\n",
       "      <td>MESIXI Bean Bag Toss Game Toy for Toddlers 2 3...</td>\n",
       "      <td>4.7</td>\n",
       "      <td>14.0</td>\n",
       "      <td>NaN</td>\n",
       "      <td>/gp/slredirect/picassoRedirect.html/ref=pa_sp_...</td>\n",
       "      <td>True</td>\n",
       "      <td>False</td>\n",
       "      <td>True</td>\n",
       "      <td>False</td>\n",
       "      <td>...</td>\n",
       "      <td>Dobook</td>\n",
       "      <td>True</td>\n",
       "      <td>False</td>\n",
       "      <td>True</td>\n",
       "      <td>[b'&lt;div id=\"ape_Detail_ams-detail-right-v2_des...</td>\n",
       "      <td>['B08CZYGBDT', 'B08CZYGBDT', 'B08CZYGBDT', 'B0...</td>\n",
       "      <td>4.0</td>\n",
       "      <td>False</td>\n",
       "      <td>False</td>\n",
       "      <td>True</td>\n",
       "    </tr>\n",
       "    <tr>\n",
       "      <th>187533</th>\n",
       "      <td>B087DZ5F3B</td>\n",
       "      <td>SpringFlower See &amp; Spell Matching Letter Toy,L...</td>\n",
       "      <td>4.4</td>\n",
       "      <td>758.0</td>\n",
       "      <td>NaN</td>\n",
       "      <td>/gp/slredirect/picassoRedirect.html/ref=pa_sp_...</td>\n",
       "      <td>True</td>\n",
       "      <td>False</td>\n",
       "      <td>True</td>\n",
       "      <td>False</td>\n",
       "      <td>...</td>\n",
       "      <td>Spring Flower</td>\n",
       "      <td>True</td>\n",
       "      <td>False</td>\n",
       "      <td>False</td>\n",
       "      <td>[b'&lt;div id=\"ape_Detail_ams-detail-right-v2_des...</td>\n",
       "      <td>['B087DZ5F3B', 'B087DZ5F3B', 'B087DZ5F3B', 'B0...</td>\n",
       "      <td>4.0</td>\n",
       "      <td>False</td>\n",
       "      <td>False</td>\n",
       "      <td>True</td>\n",
       "    </tr>\n",
       "  </tbody>\n",
       "</table>\n",
       "<p>187534 rows × 26 columns</p>\n",
       "</div>"
      ],
      "text/plain": [
       "              asin                                       product_name  stars  \\\n",
       "0       B086VR2KY8  All-New Toshiba 50LF621U21 50-inch Smart 4K UH...    4.6   \n",
       "1       B086VRR9K9  All-New Insignia NS-50DF710NA21 50-inch Smart ...    4.6   \n",
       "2       B08DHFX4FV                  TCL 4K Smart LED TV, 50\" (50S435)    4.6   \n",
       "3       B086VR2KY8  All-New Toshiba 50LF621U21 50-inch Smart 4K UH...    4.6   \n",
       "4       B086VRR9K9  All-New Insignia NS-50DF710NA21 50-inch Smart ...    4.6   \n",
       "...            ...                                                ...    ...   \n",
       "187529  B075N8W9VK  163 Piece STEM Toys Kit, Educational Construct...    4.7   \n",
       "187530  B07SJKW984  Flying Toy Ball Infrared Induction RC Flying T...    4.0   \n",
       "187531  B07TW2FYNV  LLMoose Hover Soccer Ball Set of 2, Hover Ball...    4.4   \n",
       "187532  B08CZYGBDT  MESIXI Bean Bag Toss Game Toy for Toddlers 2 3...    4.7   \n",
       "187533  B087DZ5F3B  SpringFlower See & Spell Matching Letter Toy,L...    4.4   \n",
       "\n",
       "        reviews brand                                        product_url  \\\n",
       "0        5282.0   NaN  /gp/slredirect/picassoRedirect.html/ref=pa_sp_...   \n",
       "1        8569.0   NaN  /gp/slredirect/picassoRedirect.html/ref=pa_sp_...   \n",
       "2        1314.0   NaN  /TCL-4K-Smart-LED-50S435/dp/B08DHFX4FV/ref=sr_...   \n",
       "3        5282.0   NaN  /All-New-Toshiba-50LF621U21-50-inch-Vision/dp/...   \n",
       "4        8569.0   NaN  /All-New-Insignia-NS-50DF710NA21-50-inch-Smart...   \n",
       "...         ...   ...                                                ...   \n",
       "187529   7072.0   NaN  /Educational-Construction-Building-Blocks-Bric...   \n",
       "187530   5445.0   NaN  /Infrared-Induction-Helicopter-Shining-Colorfu...   \n",
       "187531   3716.0   NaN  /Let-Loose-Moose-Hover-Soccer/dp/B07TW2FYNV/re...   \n",
       "187532     14.0   NaN  /gp/slredirect/picassoRedirect.html/ref=pa_sp_...   \n",
       "187533    758.0   NaN  /gp/slredirect/picassoRedirect.html/ref=pa_sp_...   \n",
       "\n",
       "        is_prime  is_fresh  is_sponsored  is_featured_brand  ...  \\\n",
       "0           True     False         False               True  ...   \n",
       "1           True     False         False               True  ...   \n",
       "2           True     False         False              False  ...   \n",
       "3           True     False         False              False  ...   \n",
       "4           True     False         False              False  ...   \n",
       "...          ...       ...           ...                ...  ...   \n",
       "187529      True     False         False              False  ...   \n",
       "187530      True     False         False              False  ...   \n",
       "187531      True     False         False              False  ...   \n",
       "187532      True     False          True              False  ...   \n",
       "187533      True     False          True              False  ...   \n",
       "\n",
       "              sold_by has_third_party_sellers product_by_amazon  \\\n",
       "0            Best Buy                   False             False   \n",
       "1                 NaN                   False             False   \n",
       "2          Amazon.com                    True             False   \n",
       "3            Best Buy                   False             False   \n",
       "4                 NaN                   False             False   \n",
       "...               ...                     ...               ...   \n",
       "187529        DynaMax                    True             False   \n",
       "187530         Fmaoun                    True             False   \n",
       "187531      KangoKids                    True             False   \n",
       "187532         Dobook                    True             False   \n",
       "187533  Spring Flower                    True             False   \n",
       "\n",
       "       our_brands_carousel                                                ads  \\\n",
       "0                    False                                                 []   \n",
       "1                    False                                                 []   \n",
       "2                    False  [b'<div id=\"ape_Detail_ams-detail-right-v2_des...   \n",
       "3                    False                                                 []   \n",
       "4                    False                                                 []   \n",
       "...                    ...                                                ...   \n",
       "187529               False                                                 []   \n",
       "187530               False  [b'<div id=\"ape_Detail_ams-detail-right-v2_des...   \n",
       "187531               False  [b'<div id=\"ape_Detail_ams-detail-right-v2_des...   \n",
       "187532                True  [b'<div id=\"ape_Detail_ams-detail-right-v2_des...   \n",
       "187533               False  [b'<div id=\"ape_Detail_ams-detail-right-v2_des...   \n",
       "\n",
       "                                              suggestions n_ads is_amazon  \\\n",
       "0       ['B086VR2KY8', 'B086VR2KY8', 'B086VR2KY8', 'B0...   0.0      True   \n",
       "1       ['B086VRR9K9', 'B086VRR9K9', 'B086VRR9K9', 'B0...   0.0      True   \n",
       "2       ['B08DHFX4FV', 'B08DHFX4FV', 'B08DHFX4FV', 'B0...   4.0     False   \n",
       "3       ['B086VR2KY8', 'B086VR2KY8', 'B086VR2KY8', 'B0...   0.0      True   \n",
       "4       ['B086VRR9K9', 'B086VRR9K9', 'B086VRR9K9', 'B0...   0.0      True   \n",
       "...                                                   ...   ...       ...   \n",
       "187529  ['B075N8W9VK', 'B075N8W9VK', 'B075N8W9VK', 'B0...   0.0     False   \n",
       "187530  ['B07SJKW984', 'B07SJKW984', 'B07SJKW984', 'B0...   4.0     False   \n",
       "187531  ['B07TW2FYNV', 'B07TW2FYNV', 'B07TW2FYNV', 'B0...   5.0     False   \n",
       "187532  ['B08CZYGBDT', 'B08CZYGBDT', 'B08CZYGBDT', 'B0...   4.0     False   \n",
       "187533  ['B087DZ5F3B', 'B087DZ5F3B', 'B087DZ5F3B', 'B0...   4.0     False   \n",
       "\n",
       "       is_sold_by_amazon is_shipped_by_amazon  \n",
       "0                  False                False  \n",
       "1                  False                False  \n",
       "2                   True                 True  \n",
       "3                  False                False  \n",
       "4                  False                False  \n",
       "...                  ...                  ...  \n",
       "187529             False                 True  \n",
       "187530             False                 True  \n",
       "187531             False                 True  \n",
       "187532             False                 True  \n",
       "187533             False                 True  \n",
       "\n",
       "[187534 rows x 26 columns]"
      ]
     },
     "execution_count": 36,
     "metadata": {},
     "output_type": "execute_result"
    }
   ],
   "source": [
    "df_top"
   ]
  },
  {
   "cell_type": "code",
   "execution_count": 4,
   "metadata": {},
   "outputs": [
    {
     "data": {
      "text/plain": [
       "137420"
      ]
     },
     "execution_count": 4,
     "metadata": {},
     "output_type": "execute_result"
    }
   ],
   "source": [
    "amazon_asin = set(df_amazon.asin.tolist())\n",
    "len(amazon_asin)"
   ]
  },
  {
   "cell_type": "code",
   "execution_count": 7,
   "metadata": {},
   "outputs": [
    {
     "data": {
      "text/plain": [
       "fn                         ../data/input/selenium-products/5/5D/B085DNV2T...\n",
       "shipped_by                                                               NaN\n",
       "sold_by                                                                  NaN\n",
       "has_third_party_sellers                                                False\n",
       "product_by_amazon                                                      False\n",
       "our_brands_carousel                                                    False\n",
       "ads                                                                       []\n",
       "suggestions                                                               []\n",
       "n_ads                                                                      0\n",
       "asin                                                              B085DNV2T9\n",
       "is_amazon                                                              False\n",
       "is_sold_by_amazon                                                      False\n",
       "is_shipped_by_amazon                                                   False\n",
       "Name: 0, dtype: object"
      ]
     },
     "execution_count": 7,
     "metadata": {},
     "output_type": "execute_result"
    }
   ],
   "source": [
    "df_products.iloc[0]"
   ]
  },
  {
   "cell_type": "code",
   "execution_count": 13,
   "metadata": {},
   "outputs": [],
   "source": [
    "def jsonify(x):\n",
    "    try:\n",
    "        return json.loads(x.replace(\"'\", '\"'))\n",
    "    except:\n",
    "        return None\n",
    "    \n",
    "def is_overlap(value):\n",
    "    \"\"\"value is a list of asins\"\"\"\n",
    "    if value['our_brands_carousel']:\n",
    "        return True\n",
    "    return not set(value['suggestions_']).isdisjoint(amazon_asin)"
   ]
  },
  {
   "cell_type": "code",
   "execution_count": 10,
   "metadata": {},
   "outputs": [],
   "source": [
    "df_products = df_products[df_products.asin.isin(df_top.asin)]"
   ]
  },
  {
   "cell_type": "code",
   "execution_count": 11,
   "metadata": {},
   "outputs": [],
   "source": [
    "df_products['suggestions_'] = df_products.suggestions.apply(jsonify)"
   ]
  },
  {
   "cell_type": "code",
   "execution_count": 15,
   "metadata": {},
   "outputs": [
    {
     "name": "stderr",
     "output_type": "stream",
     "text": [
      "100%|██████████| 124872/124872 [00:04<00:00, 30520.10it/s]\n"
     ]
    }
   ],
   "source": [
    "tqdm.pandas()\n",
    "df_products['suggestions_contain_amazon'] = df_products.progress_apply(is_overlap, axis=1)"
   ]
  },
  {
   "cell_type": "code",
   "execution_count": 16,
   "metadata": {},
   "outputs": [
    {
     "data": {
      "text/plain": [
       "False    0.674831\n",
       "True     0.325169\n",
       "Name: suggestions_contain_amazon, dtype: float64"
      ]
     },
     "execution_count": 16,
     "metadata": {},
     "output_type": "execute_result"
    }
   ],
   "source": [
    "# perc of prods with Amazon\n",
    "df_products[~df_products.suggestions_.apply(lambda x: len(x) == 0)]['suggestions_contain_amazon'].value_counts() / \\\n",
    "len(df_products[~df_products.suggestions_.apply(lambda x: len(x) == 0)])"
   ]
  },
  {
   "cell_type": "code",
   "execution_count": 17,
   "metadata": {},
   "outputs": [
    {
     "data": {
      "text/plain": [
       "False    0.684149\n",
       "True     0.315851\n",
       "Name: suggestions_contain_amazon, dtype: float64"
      ]
     },
     "execution_count": 17,
     "metadata": {},
     "output_type": "execute_result"
    }
   ],
   "source": [
    "# perc of prods with Amazon\n",
    "df_products['suggestions_contain_amazon'].value_counts() / \\\n",
    "len(df_products)"
   ]
  },
  {
   "cell_type": "code",
   "execution_count": 21,
   "metadata": {},
   "outputs": [
    {
     "data": {
      "text/plain": [
       "False    0.705293\n",
       "True     0.294707\n",
       "Name: suggestions_contain_amazon, dtype: float64"
      ]
     },
     "execution_count": 21,
     "metadata": {},
     "output_type": "execute_result"
    }
   ],
   "source": [
    "# perc of prods with Amazon\n",
    "# percent of non-Amazon products with Amazon products\n",
    "df_products[\n",
    "    (~df_products.asin.isin(amazon_asin)) & \n",
    "    (df_products.suggestions_.apply(lambda x: len(x) != 0))\n",
    "]['suggestions_contain_amazon'].value_counts(normalize=True)"
   ]
  },
  {
   "cell_type": "code",
   "execution_count": 25,
   "metadata": {},
   "outputs": [
    {
     "data": {
      "text/plain": [
       "33.69251713754885"
      ]
     },
     "execution_count": 25,
     "metadata": {},
     "output_type": "execute_result"
    }
   ],
   "source": [
    "# number of product suggeestions\n",
    "df_products.suggestions_.apply(lambda x: len(x)).mean()"
   ]
  },
  {
   "cell_type": "code",
   "execution_count": 26,
   "metadata": {},
   "outputs": [
    {
     "data": {
      "text/plain": [
       "33.91899887381709"
      ]
     },
     "execution_count": 26,
     "metadata": {},
     "output_type": "execute_result"
    }
   ],
   "source": [
    "# number of product suggeestions\n",
    "df_products[~df_products.asin.isin(amazon_asin)].suggestions_.apply(lambda x: len(x)).mean()"
   ]
  },
  {
   "cell_type": "code",
   "execution_count": 27,
   "metadata": {},
   "outputs": [
    {
     "data": {
      "text/plain": [
       "29.114169215086648"
      ]
     },
     "execution_count": 27,
     "metadata": {},
     "output_type": "execute_result"
    }
   ],
   "source": [
    "# number of product suggeestions\n",
    "df_products[df_products.asin.isin(amazon_asin)].suggestions_.apply(lambda x: len(x)).mean()"
   ]
  },
  {
   "cell_type": "code",
   "execution_count": 35,
   "metadata": {},
   "outputs": [
    {
     "data": {
      "text/plain": [
       "0.5534707540521494"
      ]
     },
     "execution_count": 35,
     "metadata": {},
     "output_type": "execute_result"
    }
   ],
   "source": [
    "# how many products have zero ads\n",
    "len(df_products[df_products.n_ads == 0]) / len(df_products)"
   ]
  },
  {
   "cell_type": "code",
   "execution_count": 32,
   "metadata": {},
   "outputs": [
    {
     "data": {
      "text/plain": [
       "4.119263257949389"
      ]
     },
     "execution_count": 32,
     "metadata": {},
     "output_type": "execute_result"
    }
   ],
   "source": [
    "# avg number of ads\n",
    "df_products[df_products.n_ads != 0].n_ads.mean()"
   ]
  },
  {
   "cell_type": "code",
   "execution_count": null,
   "metadata": {},
   "outputs": [],
   "source": []
  }
 ],
 "metadata": {
  "kernelspec": {
   "display_name": "Python 3",
   "language": "python",
   "name": "python3"
  },
  "language_info": {
   "codemirror_mode": {
    "name": "ipython",
    "version": 3
   },
   "file_extension": ".py",
   "mimetype": "text/x-python",
   "name": "python",
   "nbconvert_exporter": "python",
   "pygments_lexer": "ipython3",
   "version": "3.8.1"
  }
 },
 "nbformat": 4,
 "nbformat_minor": 4
}
