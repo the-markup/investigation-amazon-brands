{
 "cells": [
  {
   "cell_type": "markdown",
   "metadata": {},
   "source": [
    "# Random Forest Analysis"
   ]
  },
  {
   "cell_type": "code",
   "execution_count": 1,
   "metadata": {},
   "outputs": [],
   "source": [
    "import os\n",
    "import random\n",
    "from itertools import combinations\n",
    "\n",
    "import numpy as np\n",
    "import pandas as pd\n",
    "import matplotlib.pyplot as plt\n",
    "from tqdm import tqdm\n",
    "\n",
    "from sklearn.model_selection import train_test_split\n",
    "from sklearn.ensemble import RandomForestClassifier\n",
    "from sklearn.model_selection import GridSearchCV, cross_val_score"
   ]
  },
  {
   "cell_type": "code",
   "execution_count": 2,
   "metadata": {},
   "outputs": [],
   "source": [
    "# input\n",
    "fn_traning_set = '../data/intermediary/training_set.csv.gz'\n",
    "fn_pairwise = '../data/intermediary/pairwise_training_set.csv.gz'\n",
    "\n",
    "# output\n",
    "table2 = '../data/output/tables/table2.csv'\n",
    "fn_permutations = '../data/output/tables/ablation_feature_permutations.csv'\n",
    "fn_ablation = '../data/output/tables/tableTK.csv'\n",
    "fn_single_feature = '../data/output/tables/tableTK.csv'\n",
    "fn_feature_importance = '../data/output/figures/feature_importance.csv'\n",
    "\n",
    "# variable\n",
    "random_seed = 303"
   ]
  },
  {
   "cell_type": "markdown",
   "metadata": {},
   "source": [
    "## Feature Engineering"
   ]
  },
  {
   "cell_type": "code",
   "execution_count": 3,
   "metadata": {},
   "outputs": [],
   "source": [
    "df = pd.read_csv(fn_traning_set, compression='gzip')"
   ]
  },
  {
   "cell_type": "code",
   "execution_count": 4,
   "metadata": {},
   "outputs": [
    {
     "data": {
      "text/plain": [
       "155347"
      ]
     },
     "execution_count": 4,
     "metadata": {},
     "output_type": "execute_result"
    }
   ],
   "source": [
    "_df = df[\n",
    "    (~df.stars.isnull()) & \n",
    "    (~df.reviews.isnull()) & \n",
    "    (df.is_sponsored == False) &\n",
    "    (~df.is_sold_by_amazon.isnull()) &\n",
    "    (~df.is_shipped_by_amazon.isnull()) &\n",
    "    (~df.has_third_party_sellers.isnull())\n",
    "]\n",
    "len(_df)"
   ]
  },
  {
   "cell_type": "code",
   "execution_count": 5,
   "metadata": {},
   "outputs": [],
   "source": [
    "_df = (_df.sort_values(by=['search_term', 'product_order'])\n",
    "          .drop_duplicates(subset=['search_term', 'asin']))"
   ]
  },
  {
   "cell_type": "code",
   "execution_count": 6,
   "metadata": {},
   "outputs": [],
   "source": [
    "random.seed(random_seed)\n",
    "_df['control'] = np.random.randn(len(_df))"
   ]
  },
  {
   "cell_type": "code",
   "execution_count": 7,
   "metadata": {},
   "outputs": [],
   "source": [
    "bool_cols = [\n",
    "    'top_clicked',\n",
    "    'is_sold_by_amazon', \n",
    "    'is_shipped_by_amazon', \n",
    "    'is_amazon', \n",
    "    'top_clicked',\n",
    "    'is_best_seller',\n",
    "    \"is_amazons_choice\"\n",
    "]\n",
    "bool2int = {True : 1, False : -1}\n",
    "for col in bool_cols:\n",
    "    _df.loc[:, col + '_encoded'] = _df[col].replace(bool2int)"
   ]
  },
  {
   "cell_type": "code",
   "execution_count": 8,
   "metadata": {},
   "outputs": [],
   "source": [
    "def produce_training_set(_df, last_product_position = 2, random_seed=0):\n",
    "    \"\"\"\n",
    "    Makes product comparisons between the first organic product up to the \n",
    "    `last_product_position` organic product.\n",
    "    \"\"\"\n",
    "    random.seed(random_seed)\n",
    "    data = []\n",
    "    for search_term, __df in tqdm(_df[_df.is_sponsored != True].groupby('search_term')):\n",
    "        # for each search term, go through each row.\n",
    "        if len(__df) == 1:\n",
    "            continue\n",
    "        if len(__df[__df.product_order == 1]) == 0:\n",
    "            continue\n",
    "        __df = __df.sort_values(by='product_order')\n",
    "        __df = __df.reset_index()\n",
    "\n",
    "        for i in range(1, last_product_position):\n",
    "            if len(__df) <= i:\n",
    "                continue\n",
    "            if random.random() > .5:\n",
    "                row = __df.iloc[0]\n",
    "                comparison = __df.iloc[i]\n",
    "            else:\n",
    "                row = __df.iloc[i]\n",
    "                comparison = __df.iloc[0]\n",
    "            \n",
    "            knockout = row['product_order']\n",
    "            # calculate differences between two pairs\n",
    "            placed_higher = knockout > comparison['product_order']\n",
    "            stars_delta = row['stars'] - comparison['stars']\n",
    "            ratings_delta = row['reviews'] - comparison['reviews']\n",
    "            stars_delta_perc = stars_delta / row['stars']\n",
    "            ratings_delta_perc = ratings_delta / row['reviews']\n",
    "\n",
    "            is_amazon = row['is_amazon_encoded'] - comparison['is_amazon_encoded']\n",
    "            is_shipped_by_amazon = row['is_shipped_by_amazon_encoded'] - comparison['is_shipped_by_amazon_encoded']\n",
    "            is_sold_by_amazon = row['is_sold_by_amazon_encoded'] - comparison['is_sold_by_amazon_encoded']\n",
    "            is_top_clicked = row['top_clicked_encoded'] - comparison['top_clicked_encoded']\n",
    "            is_best_seller = row['is_best_seller_encoded'] - comparison['is_best_seller_encoded']\n",
    "            is_amazons_choice = row['is_amazons_choice_encoded'] - comparison['is_amazons_choice_encoded']\n",
    "            random_noise = row['control'] - comparison['control']\n",
    "#             price_delta = row['price'] - comparison['price']\n",
    "#             price_delta_perc = (price_delta) / (row['price'] + .001)\n",
    "\n",
    "            output = {\n",
    "                'search_term' : search_term,\n",
    "                'placed_higher' : placed_higher,\n",
    "                'stars_delta': stars_delta,\n",
    "                'reviews_delta' : ratings_delta,\n",
    "#                 'price_delta': price_delta,\n",
    "                'stars_delta_perc': stars_delta_perc,\n",
    "                'reviews_delta_perc': ratings_delta_perc,\n",
    "#                 'price_delta_perc': price_delta_perc,\n",
    "                'is_shipped_by_amazon' : is_shipped_by_amazon,\n",
    "                'is_sold_by_amazon': is_sold_by_amazon,\n",
    "                'is_amazon': is_amazon,\n",
    "                'is_top_clicked': is_top_clicked,\n",
    "                'is_amazons_choice': is_amazons_choice,\n",
    "                'is_best_seller': is_best_seller,\n",
    "                'random_noise' : random_noise,\n",
    "                'asin_1' : row['asin'],\n",
    "                'asin_2': comparison['asin']\n",
    "            }\n",
    "\n",
    "            data.append(output)\n",
    "        training_data = pd.DataFrame(data)\n",
    "    return training_data"
   ]
  },
  {
   "cell_type": "code",
   "execution_count": 9,
   "metadata": {},
   "outputs": [
    {
     "data": {
      "text/plain": [
       "1270"
      ]
     },
     "execution_count": 9,
     "metadata": {},
     "output_type": "execute_result"
    }
   ],
   "source": [
    "if os.path.exists(fn_pairwise):\n",
    "    training_data = pd.read_csv(fn_pairwise, compression='gzip')\n",
    "else:\n",
    "    training_data = produce_training_set(_df, last_product_position=2)\n",
    "    training_data.to_csv(fn_pairwise, index=False, compression='gzip')\n",
    "len(training_data)"
   ]
  },
  {
   "cell_type": "code",
   "execution_count": 10,
   "metadata": {},
   "outputs": [
    {
     "data": {
      "text/plain": [
       "True     0.50315\n",
       "False    0.49685\n",
       "Name: placed_higher, dtype: float64"
      ]
     },
     "execution_count": 10,
     "metadata": {},
     "output_type": "execute_result"
    }
   ],
   "source": [
    "training_data.placed_higher.value_counts(normalize=True)"
   ]
  },
  {
   "cell_type": "code",
   "execution_count": 11,
   "metadata": {},
   "outputs": [
    {
     "data": {
      "text/plain": [
       "search_term                1% milk\n",
       "placed_higher                False\n",
       "stars_delta                      0\n",
       "reviews_delta                  183\n",
       "stars_delta_perc                 0\n",
       "reviews_delta_perc        0.403974\n",
       "is_shipped_by_amazon             0\n",
       "is_sold_by_amazon                0\n",
       "is_amazon                        0\n",
       "is_top_clicked                   2\n",
       "is_amazons_choice                0\n",
       "is_best_seller                   0\n",
       "random_noise              -1.52005\n",
       "asin_1                  B07WC9MMPD\n",
       "asin_2                  B07W5Z8SJ8\n",
       "Name: 0, dtype: object"
      ]
     },
     "execution_count": 11,
     "metadata": {},
     "output_type": "execute_result"
    }
   ],
   "source": [
    "training_data.iloc[0]"
   ]
  },
  {
   "cell_type": "code",
   "execution_count": 12,
   "metadata": {},
   "outputs": [
    {
     "data": {
      "text/plain": [
       "(1016, 254)"
      ]
     },
     "execution_count": 12,
     "metadata": {},
     "output_type": "execute_result"
    }
   ],
   "source": [
    "# size of a 20:80 train-test-split\n",
    "x, y = train_test_split(training_data, test_size=.2)\n",
    "len(x), len(y)"
   ]
  },
  {
   "cell_type": "markdown",
   "metadata": {},
   "source": [
    "## Gridsearch\n",
    "We use gridsearch with 5-fold cross validation to determine the optimal hyperparameters."
   ]
  },
  {
   "cell_type": "code",
   "execution_count": 13,
   "metadata": {},
   "outputs": [],
   "source": [
    "# hyperparameters\n",
    "parameters = {\n",
    "    'n_estimators':(100, 300, 500), \n",
    "    'max_depth':[3, 5, 7], \n",
    "    'max_features': [1, 3, 5, 6],\n",
    "}\n",
    "# features\n",
    "cols = ['stars_delta', 'reviews_delta', 'is_amazon',\n",
    "        'is_shipped_by_amazon', 'is_sold_by_amazon', \n",
    "        'is_top_clicked', 'random_noise']\n",
    "# target\n",
    "target = 'placed_higher'"
   ]
  },
  {
   "cell_type": "code",
   "execution_count": 14,
   "metadata": {},
   "outputs": [
    {
     "data": {
      "text/plain": [
       "{'max_depth': 3, 'max_features': 6, 'n_estimators': 500}"
      ]
     },
     "execution_count": 14,
     "metadata": {},
     "output_type": "execute_result"
    }
   ],
   "source": [
    "forest = RandomForestClassifier(random_state=random_seed)\n",
    "grid = GridSearchCV(forest, parameters, cv=5, scoring='accuracy', n_jobs=-1)\n",
    "X_train = training_data[cols]\n",
    "y_train = training_data[target]\n",
    "grid.fit(X_train, y_train)\n",
    "grid.best_params_"
   ]
  },
  {
   "cell_type": "code",
   "execution_count": 15,
   "metadata": {},
   "outputs": [
    {
     "data": {
      "text/plain": [
       "0.7370078740157481"
      ]
     },
     "execution_count": 15,
     "metadata": {},
     "output_type": "execute_result"
    }
   ],
   "source": [
    "grid.best_score_"
   ]
  },
  {
   "cell_type": "markdown",
   "metadata": {},
   "source": [
    "## Ablation Study"
   ]
  },
  {
   "cell_type": "code",
   "execution_count": 16,
   "metadata": {},
   "outputs": [],
   "source": [
    "def fit_model_cv(df, variable, target, model, cv=10):\n",
    "    \"\"\"Fits a model and gets mean accuracy from k-folds cross validation\"\"\"\n",
    "    is_multivariate = True if isinstance(variable, list) else False   \n",
    "    X = df[variable]\n",
    "    y = df[target]\n",
    "    X_2d = X if is_multivariate else np.expand_dims(X.values, axis=1)\n",
    "    scores = cross_val_score(model, X, y, cv=cv)\n",
    "    accuracy = scores.mean()\n",
    "    std = scores.std()\n",
    "    return accuracy, std"
   ]
  },
  {
   "cell_type": "code",
   "execution_count": 17,
   "metadata": {},
   "outputs": [],
   "source": [
    "def fit_model(df, variable, \n",
    "              target, model):\n",
    "    \"\"\"Fits a model and gets accuracy\"\"\"\n",
    "    is_multivariate = True if isinstance(variable, list) else False   \n",
    "    X = df[variable]\n",
    "    y = df[target]\n",
    "    X_2d = X if is_multivariate else np.expand_dims(X.values, axis=1)  \n",
    "    \n",
    "    X_train, X_test, y_train, y_test = train_test_split(\n",
    "        X_2d, y, random_state=random_seed, test_size=.2,\n",
    "    )\n",
    "    model.fit(X_train, y_train)\n",
    "    accuracy = model.score(X_test, y_test)\n",
    "    \n",
    "    return accuracy, 0.0"
   ]
  },
  {
   "cell_type": "code",
   "execution_count": 18,
   "metadata": {},
   "outputs": [],
   "source": [
    "def get_performance(cat2performance, knockout=['Change of Accuracy_abs']):\n",
    "    \"\"\"\n",
    "    Converts a performance dictionary to a table\n",
    "    \"\"\"\n",
    "    perf = pd.DataFrame([\n",
    "        {\"Feature\": k, \"Accuracy\" :v} for k, v in cat2performance.items()\n",
    "    ])\n",
    "    perf['Change of Accuracy'] = perf['Accuracy'].apply(lambda x: x - perf['Accuracy'].iloc[0]) * 100\n",
    "    perf['Change of Accuracy_abs'] = perf['Accuracy'].apply(lambda x: \n",
    "                                                           abs(x - perf['Accuracy'].iloc[0]))                                               \n",
    "    perf.sort_values(by=['Change of Accuracy_abs', 'Feature'], ascending=False, inplace=True)\n",
    "    perf = perf[[c for c in perf.columns if c not in knockout]]\n",
    "    return perf\n",
    "\n",
    "def format_perf(perf):\n",
    "    return perf.style.format({\n",
    "        'Accuracy': '{:,.1%}'.format,\n",
    "        'Change of Accuracy': '{:.1f}'.format,\n",
    "    })"
   ]
  },
  {
   "cell_type": "code",
   "execution_count": 19,
   "metadata": {},
   "outputs": [],
   "source": [
    "# hyperparameters from gridsearch\n",
    "max_tree_depth = 3\n",
    "max_features = 6\n",
    "n_trees = 500"
   ]
  },
  {
   "cell_type": "code",
   "execution_count": 20,
   "metadata": {},
   "outputs": [
    {
     "name": "stdout",
     "output_type": "stream",
     "text": [
      "All features (n_test = 254): 74.25%\n",
      "without stars_delta: 74.17 +/- 4.2%\n",
      "without reviews_delta: 70.39 +/- 4.2%\n",
      "without is_amazon: 62.6 +/- 4.8%\n",
      "without is_shipped_by_amazon: 74.17 +/- 4.2%\n",
      "without is_sold_by_amazon: 74.25 +/- 4.1%\n",
      "without is_top_clicked: 74.02 +/- 4.2%\n",
      "without random_noise: 74.17 +/- 4.2%\n"
     ]
    }
   ],
   "source": [
    "cat2performance = {}\n",
    "forest = RandomForestClassifier(n_estimators=n_trees, \n",
    "                                max_depth=max_tree_depth, \n",
    "                                max_features=max_features,\n",
    "                                n_jobs=-1, random_state=random_seed)\n",
    "score, std = fit_model_cv(training_data, variable=cols, target=target, model=forest)\n",
    "print(f\"All features (n_test = {int(len(training_data) * .2):,}): {score * 100 :.4}%\")\n",
    "cat2performance[\"All Features\"] = score\n",
    "for col in cols:\n",
    "    clf =  RandomForestClassifier(n_estimators=n_trees, \n",
    "                                  max_depth=max_tree_depth,\n",
    "                                  max_features=max_features,\n",
    "                                  n_jobs=-1, random_state=random_seed)\n",
    "    # knock out the column\n",
    "    iv = [c for c in cols if c not in col]\n",
    "    score, std = fit_model_cv(training_data, variable=iv, target=target, model=clf)\n",
    "    print(f\"without {col}: {score * 100 :.4} +/- {std * 100 :.2}%\")\n",
    "    cat2performance[f\"without {col}\"] = score"
   ]
  },
  {
   "cell_type": "code",
   "execution_count": 21,
   "metadata": {},
   "outputs": [
    {
     "data": {
      "text/html": [
       "<style  type=\"text/css\" >\n",
       "</style><table id=\"T_68c6b11c_04a2_11ec_aac3_0c9d9287d90c\" ><thead>    <tr>        <th class=\"blank level0\" ></th>        <th class=\"col_heading level0 col0\" >Feature</th>        <th class=\"col_heading level0 col1\" >Accuracy</th>        <th class=\"col_heading level0 col2\" >Change of Accuracy</th>    </tr></thead><tbody>\n",
       "                <tr>\n",
       "                        <th id=\"T_68c6b11c_04a2_11ec_aac3_0c9d9287d90clevel0_row0\" class=\"row_heading level0 row0\" >3</th>\n",
       "                        <td id=\"T_68c6b11c_04a2_11ec_aac3_0c9d9287d90crow0_col0\" class=\"data row0 col0\" >without is_amazon</td>\n",
       "                        <td id=\"T_68c6b11c_04a2_11ec_aac3_0c9d9287d90crow0_col1\" class=\"data row0 col1\" >62.6%</td>\n",
       "                        <td id=\"T_68c6b11c_04a2_11ec_aac3_0c9d9287d90crow0_col2\" class=\"data row0 col2\" >-11.7</td>\n",
       "            </tr>\n",
       "            <tr>\n",
       "                        <th id=\"T_68c6b11c_04a2_11ec_aac3_0c9d9287d90clevel0_row1\" class=\"row_heading level0 row1\" >2</th>\n",
       "                        <td id=\"T_68c6b11c_04a2_11ec_aac3_0c9d9287d90crow1_col0\" class=\"data row1 col0\" >without reviews_delta</td>\n",
       "                        <td id=\"T_68c6b11c_04a2_11ec_aac3_0c9d9287d90crow1_col1\" class=\"data row1 col1\" >70.4%</td>\n",
       "                        <td id=\"T_68c6b11c_04a2_11ec_aac3_0c9d9287d90crow1_col2\" class=\"data row1 col2\" >-3.9</td>\n",
       "            </tr>\n",
       "            <tr>\n",
       "                        <th id=\"T_68c6b11c_04a2_11ec_aac3_0c9d9287d90clevel0_row2\" class=\"row_heading level0 row2\" >6</th>\n",
       "                        <td id=\"T_68c6b11c_04a2_11ec_aac3_0c9d9287d90crow2_col0\" class=\"data row2 col0\" >without is_top_clicked</td>\n",
       "                        <td id=\"T_68c6b11c_04a2_11ec_aac3_0c9d9287d90crow2_col1\" class=\"data row2 col1\" >74.0%</td>\n",
       "                        <td id=\"T_68c6b11c_04a2_11ec_aac3_0c9d9287d90crow2_col2\" class=\"data row2 col2\" >-0.2</td>\n",
       "            </tr>\n",
       "            <tr>\n",
       "                        <th id=\"T_68c6b11c_04a2_11ec_aac3_0c9d9287d90clevel0_row3\" class=\"row_heading level0 row3\" >1</th>\n",
       "                        <td id=\"T_68c6b11c_04a2_11ec_aac3_0c9d9287d90crow3_col0\" class=\"data row3 col0\" >without stars_delta</td>\n",
       "                        <td id=\"T_68c6b11c_04a2_11ec_aac3_0c9d9287d90crow3_col1\" class=\"data row3 col1\" >74.2%</td>\n",
       "                        <td id=\"T_68c6b11c_04a2_11ec_aac3_0c9d9287d90crow3_col2\" class=\"data row3 col2\" >-0.1</td>\n",
       "            </tr>\n",
       "            <tr>\n",
       "                        <th id=\"T_68c6b11c_04a2_11ec_aac3_0c9d9287d90clevel0_row4\" class=\"row_heading level0 row4\" >7</th>\n",
       "                        <td id=\"T_68c6b11c_04a2_11ec_aac3_0c9d9287d90crow4_col0\" class=\"data row4 col0\" >without random_noise</td>\n",
       "                        <td id=\"T_68c6b11c_04a2_11ec_aac3_0c9d9287d90crow4_col1\" class=\"data row4 col1\" >74.2%</td>\n",
       "                        <td id=\"T_68c6b11c_04a2_11ec_aac3_0c9d9287d90crow4_col2\" class=\"data row4 col2\" >-0.1</td>\n",
       "            </tr>\n",
       "            <tr>\n",
       "                        <th id=\"T_68c6b11c_04a2_11ec_aac3_0c9d9287d90clevel0_row5\" class=\"row_heading level0 row5\" >4</th>\n",
       "                        <td id=\"T_68c6b11c_04a2_11ec_aac3_0c9d9287d90crow5_col0\" class=\"data row5 col0\" >without is_shipped_by_amazon</td>\n",
       "                        <td id=\"T_68c6b11c_04a2_11ec_aac3_0c9d9287d90crow5_col1\" class=\"data row5 col1\" >74.2%</td>\n",
       "                        <td id=\"T_68c6b11c_04a2_11ec_aac3_0c9d9287d90crow5_col2\" class=\"data row5 col2\" >-0.1</td>\n",
       "            </tr>\n",
       "            <tr>\n",
       "                        <th id=\"T_68c6b11c_04a2_11ec_aac3_0c9d9287d90clevel0_row6\" class=\"row_heading level0 row6\" >5</th>\n",
       "                        <td id=\"T_68c6b11c_04a2_11ec_aac3_0c9d9287d90crow6_col0\" class=\"data row6 col0\" >without is_sold_by_amazon</td>\n",
       "                        <td id=\"T_68c6b11c_04a2_11ec_aac3_0c9d9287d90crow6_col1\" class=\"data row6 col1\" >74.3%</td>\n",
       "                        <td id=\"T_68c6b11c_04a2_11ec_aac3_0c9d9287d90crow6_col2\" class=\"data row6 col2\" >0.0</td>\n",
       "            </tr>\n",
       "            <tr>\n",
       "                        <th id=\"T_68c6b11c_04a2_11ec_aac3_0c9d9287d90clevel0_row7\" class=\"row_heading level0 row7\" >0</th>\n",
       "                        <td id=\"T_68c6b11c_04a2_11ec_aac3_0c9d9287d90crow7_col0\" class=\"data row7 col0\" >All Features</td>\n",
       "                        <td id=\"T_68c6b11c_04a2_11ec_aac3_0c9d9287d90crow7_col1\" class=\"data row7 col1\" >74.3%</td>\n",
       "                        <td id=\"T_68c6b11c_04a2_11ec_aac3_0c9d9287d90crow7_col2\" class=\"data row7 col2\" >0.0</td>\n",
       "            </tr>\n",
       "    </tbody></table>"
      ],
      "text/plain": [
       "<pandas.io.formats.style.Styler at 0x7f15142854c0>"
      ]
     },
     "execution_count": 21,
     "metadata": {},
     "output_type": "execute_result"
    }
   ],
   "source": [
    "perf = get_performance(cat2performance)\n",
    "perf.to_csv(table2, index=False)\n",
    "format_perf(perf)"
   ]
  },
  {
   "cell_type": "code",
   "execution_count": 22,
   "metadata": {},
   "outputs": [
    {
     "name": "stdout",
     "output_type": "stream",
     "text": [
      "with just stars_delta: 52.91 +/- 4.0%\n",
      "with just reviews_delta: 54.33 +/- 5.1%\n",
      "with just is_amazon: 70.79 +/- 3.8%\n",
      "with just is_shipped_by_amazon: 51.73 +/- 2.5%\n",
      "with just is_sold_by_amazon: 59.92 +/- 3.5%\n",
      "with just is_top_clicked: 54.72 +/- 3.1%\n",
      "with just random_noise: 51.57 +/- 4.2%\n"
     ]
    }
   ],
   "source": [
    "cat2performance_standalone = {}\n",
    "for col in cols:\n",
    "    clf =  RandomForestClassifier(n_estimators=n_trees,\n",
    "                                  max_depth=max_tree_depth,\n",
    "                                  n_jobs=-1, random_state=random_seed)\n",
    "    score, std = fit_model_cv(training_data, variable=[col], target=target, model=clf)\n",
    "    print(f\"with just {col}: {score * 100 :.4} +/- {std * 100 :.2}%\")\n",
    "    cat2performance_standalone[f\"with just {col}\"] = score"
   ]
  },
  {
   "cell_type": "code",
   "execution_count": 23,
   "metadata": {},
   "outputs": [
    {
     "data": {
      "text/html": [
       "<style  type=\"text/css\" >\n",
       "</style><table id=\"T_78bb0dde_04a2_11ec_aac3_0c9d9287d90c\" ><thead>    <tr>        <th class=\"blank level0\" ></th>        <th class=\"col_heading level0 col0\" >Feature</th>        <th class=\"col_heading level0 col1\" >Accuracy</th>    </tr></thead><tbody>\n",
       "                <tr>\n",
       "                        <th id=\"T_78bb0dde_04a2_11ec_aac3_0c9d9287d90clevel0_row0\" class=\"row_heading level0 row0\" >2</th>\n",
       "                        <td id=\"T_78bb0dde_04a2_11ec_aac3_0c9d9287d90crow0_col0\" class=\"data row0 col0\" >with just is_amazon</td>\n",
       "                        <td id=\"T_78bb0dde_04a2_11ec_aac3_0c9d9287d90crow0_col1\" class=\"data row0 col1\" >70.8%</td>\n",
       "            </tr>\n",
       "            <tr>\n",
       "                        <th id=\"T_78bb0dde_04a2_11ec_aac3_0c9d9287d90clevel0_row1\" class=\"row_heading level0 row1\" >4</th>\n",
       "                        <td id=\"T_78bb0dde_04a2_11ec_aac3_0c9d9287d90crow1_col0\" class=\"data row1 col0\" >with just is_sold_by_amazon</td>\n",
       "                        <td id=\"T_78bb0dde_04a2_11ec_aac3_0c9d9287d90crow1_col1\" class=\"data row1 col1\" >59.9%</td>\n",
       "            </tr>\n",
       "            <tr>\n",
       "                        <th id=\"T_78bb0dde_04a2_11ec_aac3_0c9d9287d90clevel0_row2\" class=\"row_heading level0 row2\" >5</th>\n",
       "                        <td id=\"T_78bb0dde_04a2_11ec_aac3_0c9d9287d90crow2_col0\" class=\"data row2 col0\" >with just is_top_clicked</td>\n",
       "                        <td id=\"T_78bb0dde_04a2_11ec_aac3_0c9d9287d90crow2_col1\" class=\"data row2 col1\" >54.7%</td>\n",
       "            </tr>\n",
       "            <tr>\n",
       "                        <th id=\"T_78bb0dde_04a2_11ec_aac3_0c9d9287d90clevel0_row3\" class=\"row_heading level0 row3\" >1</th>\n",
       "                        <td id=\"T_78bb0dde_04a2_11ec_aac3_0c9d9287d90crow3_col0\" class=\"data row3 col0\" >with just reviews_delta</td>\n",
       "                        <td id=\"T_78bb0dde_04a2_11ec_aac3_0c9d9287d90crow3_col1\" class=\"data row3 col1\" >54.3%</td>\n",
       "            </tr>\n",
       "            <tr>\n",
       "                        <th id=\"T_78bb0dde_04a2_11ec_aac3_0c9d9287d90clevel0_row4\" class=\"row_heading level0 row4\" >6</th>\n",
       "                        <td id=\"T_78bb0dde_04a2_11ec_aac3_0c9d9287d90crow4_col0\" class=\"data row4 col0\" >with just random_noise</td>\n",
       "                        <td id=\"T_78bb0dde_04a2_11ec_aac3_0c9d9287d90crow4_col1\" class=\"data row4 col1\" >51.6%</td>\n",
       "            </tr>\n",
       "            <tr>\n",
       "                        <th id=\"T_78bb0dde_04a2_11ec_aac3_0c9d9287d90clevel0_row5\" class=\"row_heading level0 row5\" >3</th>\n",
       "                        <td id=\"T_78bb0dde_04a2_11ec_aac3_0c9d9287d90crow5_col0\" class=\"data row5 col0\" >with just is_shipped_by_amazon</td>\n",
       "                        <td id=\"T_78bb0dde_04a2_11ec_aac3_0c9d9287d90crow5_col1\" class=\"data row5 col1\" >51.7%</td>\n",
       "            </tr>\n",
       "            <tr>\n",
       "                        <th id=\"T_78bb0dde_04a2_11ec_aac3_0c9d9287d90clevel0_row6\" class=\"row_heading level0 row6\" >0</th>\n",
       "                        <td id=\"T_78bb0dde_04a2_11ec_aac3_0c9d9287d90crow6_col0\" class=\"data row6 col0\" >with just stars_delta</td>\n",
       "                        <td id=\"T_78bb0dde_04a2_11ec_aac3_0c9d9287d90crow6_col1\" class=\"data row6 col1\" >52.9%</td>\n",
       "            </tr>\n",
       "    </tbody></table>"
      ],
      "text/plain": [
       "<pandas.io.formats.style.Styler at 0x7f151420b2e0>"
      ]
     },
     "execution_count": 23,
     "metadata": {},
     "output_type": "execute_result"
    }
   ],
   "source": [
    "perf = get_performance(cat2performance_standalone, \n",
    "                       knockout=['Change of Accuracy_abs', 'Change of Accuracy'])\n",
    "perf.to_csv(fn_single_feature, index=False)\n",
    "format_perf(perf)"
   ]
  },
  {
   "cell_type": "markdown",
   "metadata": {},
   "source": [
    "## Ablation study with every possible permutation of the feature sets"
   ]
  },
  {
   "cell_type": "code",
   "execution_count": 24,
   "metadata": {},
   "outputs": [
    {
     "data": {
      "text/plain": [
       "127"
      ]
     },
     "execution_count": 24,
     "metadata": {},
     "output_type": "execute_result"
    }
   ],
   "source": [
    "permutations = set()\n",
    "for r in range(len(cols)):\n",
    "    permutations.update(combinations(cols, r+1))\n",
    "len(permutations)"
   ]
  },
  {
   "cell_type": "code",
   "execution_count": 25,
   "metadata": {},
   "outputs": [],
   "source": [
    "if not os.path.exists(fn_permutations):\n",
    "    cat2performance = {}\n",
    "    for iv in tqdm(permutations):\n",
    "        clf =  RandomForestClassifier(n_estimators=n_trees, \n",
    "                                      max_depth=max_tree_depth,\n",
    "                                      max_features=max_features,\n",
    "                                      random_state=random_seed,\n",
    "                                      n_jobs=-1)\n",
    "        score, std = fit_model_cv(training_data, variable=list(iv), \n",
    "                                  target=target, model=clf)\n",
    "        cat2performance[iv] = score\n",
    "    df = pd.DataFrame([\n",
    "        {\"cols\" : k, \"accuracy\": v } for k, v in cat2performance.items()\n",
    "    ])\n",
    "    df.sort_values(\"accuracy\", inplace=True)\n",
    "    df.to_csv(fn_permutations, index=False)\n",
    "else:\n",
    "    df = pd.read_csv(fn_permutations)"
   ]
  },
  {
   "cell_type": "code",
   "execution_count": 26,
   "metadata": {},
   "outputs": [],
   "source": [
    "df = pd.DataFrame([{\"cols\" : k, \"accuracy\": v } for k, v in cat2performance.items()])\n",
    "df.sort_values(\"accuracy\", inplace=True)\n",
    "df.to_csv(fn_permutations, index=False)"
   ]
  },
  {
   "cell_type": "code",
   "execution_count": 27,
   "metadata": {},
   "outputs": [
    {
     "data": {
      "text/plain": [
       "[{'cols': 'without is_amazon', 'accuracy': 0.6259842519685039},\n",
       " {'cols': 'without reviews_delta', 'accuracy': 0.7039370078740158},\n",
       " {'cols': 'without is_top_clicked', 'accuracy': 0.7401574803149608}]"
      ]
     },
     "execution_count": 27,
     "metadata": {},
     "output_type": "execute_result"
    }
   ],
   "source": [
    "df.head(3).to_dict(orient='records')"
   ]
  },
  {
   "cell_type": "code",
   "execution_count": 28,
   "metadata": {},
   "outputs": [
    {
     "data": {
      "text/plain": [
       "[{'cols': 'without random_noise', 'accuracy': 0.741732283464567},\n",
       " {'cols': 'All Features', 'accuracy': 0.7425196850393702},\n",
       " {'cols': 'without is_sold_by_amazon', 'accuracy': 0.7425196850393702}]"
      ]
     },
     "execution_count": 28,
     "metadata": {},
     "output_type": "execute_result"
    }
   ],
   "source": [
    "df.tail(3).to_dict(orient='records')"
   ]
  },
  {
   "cell_type": "markdown",
   "metadata": {},
   "source": [
    "## Feature Importance"
   ]
  },
  {
   "cell_type": "code",
   "execution_count": 29,
   "metadata": {},
   "outputs": [
    {
     "data": {
      "image/png": "[encoded data removed]",
      "text/plain": [
       "<Figure size 576x432 with 1 Axes>"
      ]
     },
     "metadata": {
      "needs_background": "light"
     },
     "output_type": "display_data"
    }
   ],
   "source": [
    "forest = RandomForestClassifier(n_estimators=n_trees, \n",
    "                                max_depth=max_tree_depth, \n",
    "                                max_features=max_features,\n",
    "                                n_jobs=-1, random_state=random_seed)\n",
    "\n",
    "score = fit_model(training_data, variable=cols, target=target, model=forest)\n",
    "forest_importances = pd.Series(forest.feature_importances_, index=cols)\n",
    "forest_importances.sort_values(inplace=True, ascending=True)\n",
    "forest_importances.to_csv(fn_feature_importance, index=False)\n",
    "\n",
    "fig, ax = plt.subplots(figsize=(8, 6))\n",
    "forest_importances.plot.barh(ax=ax, color='grey')\n",
    "# ax.set_ylabel(\"Features\")\n",
    "ax.set_xlabel(\"Feature Importance\")\n",
    "\n",
    "# Hide the right and top spines\n",
    "ax.spines['right'].set_visible(False)\n",
    "ax.spines['top'].set_visible(False)\n",
    "\n",
    "# Only show ticks on the left and bottom spines\n",
    "ax.yaxis.set_ticks_position('left')\n",
    "ax.xaxis.set_ticks_position('bottom') # Hide the right and top spines\n",
    "ax.spines['right'].set_visible(False)\n",
    "ax.spines['top'].set_visible(False)\n",
    "\n",
    "# Only show ticks on the left and bottom spines\n",
    "ax.yaxis.set_ticks_position('left')\n",
    "ax.xaxis.set_ticks_position('bottom')\n",
    "\n",
    "fig.tight_layout()"
   ]
  },
  {
   "cell_type": "markdown",
   "metadata": {},
   "source": [
    "## performance predicting who gets placed beyond the second posting"
   ]
  },
  {
   "cell_type": "code",
   "execution_count": 30,
   "metadata": {},
   "outputs": [
    {
     "name": "stderr",
     "output_type": "stream",
     "text": [
      "  0%|          | 0/4536 [00:00<?, ?it/s]"
     ]
    },
    {
     "name": "stdout",
     "output_type": "stream",
     "text": [
      "Up to 2...\n"
     ]
    },
    {
     "name": "stderr",
     "output_type": "stream",
     "text": [
      "100%|██████████| 4536/4536 [00:07<00:00, 580.55it/s]\n",
      "  0%|          | 0/4536 [00:00<?, ?it/s]"
     ]
    },
    {
     "name": "stdout",
     "output_type": "stream",
     "text": [
      "Up to 3...\n"
     ]
    },
    {
     "name": "stderr",
     "output_type": "stream",
     "text": [
      "100%|██████████| 4536/4536 [00:10<00:00, 420.87it/s]\n",
      "  0%|          | 0/4536 [00:00<?, ?it/s]"
     ]
    },
    {
     "name": "stdout",
     "output_type": "stream",
     "text": [
      "Up to 4...\n"
     ]
    },
    {
     "name": "stderr",
     "output_type": "stream",
     "text": [
      "100%|██████████| 4536/4536 [00:13<00:00, 328.77it/s]\n",
      "  0%|          | 0/4536 [00:00<?, ?it/s]"
     ]
    },
    {
     "name": "stdout",
     "output_type": "stream",
     "text": [
      "Up to 5...\n"
     ]
    },
    {
     "name": "stderr",
     "output_type": "stream",
     "text": [
      "100%|██████████| 4536/4536 [00:16<00:00, 270.63it/s]\n",
      "  0%|          | 0/4536 [00:00<?, ?it/s]"
     ]
    },
    {
     "name": "stdout",
     "output_type": "stream",
     "text": [
      "Up to 6...\n"
     ]
    },
    {
     "name": "stderr",
     "output_type": "stream",
     "text": [
      "100%|██████████| 4536/4536 [00:20<00:00, 220.64it/s]\n",
      "  0%|          | 0/4536 [00:00<?, ?it/s]"
     ]
    },
    {
     "name": "stdout",
     "output_type": "stream",
     "text": [
      "Up to 7...\n"
     ]
    },
    {
     "name": "stderr",
     "output_type": "stream",
     "text": [
      "100%|██████████| 4536/4536 [00:23<00:00, 195.26it/s]\n",
      "  0%|          | 0/4536 [00:00<?, ?it/s]"
     ]
    },
    {
     "name": "stdout",
     "output_type": "stream",
     "text": [
      "Up to 8...\n"
     ]
    },
    {
     "name": "stderr",
     "output_type": "stream",
     "text": [
      "100%|██████████| 4536/4536 [00:26<00:00, 172.53it/s]\n",
      "  0%|          | 0/4536 [00:00<?, ?it/s]"
     ]
    },
    {
     "name": "stdout",
     "output_type": "stream",
     "text": [
      "Up to 9...\n"
     ]
    },
    {
     "name": "stderr",
     "output_type": "stream",
     "text": [
      "100%|██████████| 4536/4536 [00:29<00:00, 153.06it/s]\n",
      "  0%|          | 0/4536 [00:00<?, ?it/s]"
     ]
    },
    {
     "name": "stdout",
     "output_type": "stream",
     "text": [
      "Up to 10...\n"
     ]
    },
    {
     "name": "stderr",
     "output_type": "stream",
     "text": [
      "100%|██████████| 4536/4536 [00:32<00:00, 138.42it/s]\n",
      "  0%|          | 0/4536 [00:00<?, ?it/s]"
     ]
    },
    {
     "name": "stdout",
     "output_type": "stream",
     "text": [
      "Up to 11...\n"
     ]
    },
    {
     "name": "stderr",
     "output_type": "stream",
     "text": [
      "100%|██████████| 4536/4536 [00:35<00:00, 126.48it/s]\n",
      "  0%|          | 0/4536 [00:00<?, ?it/s]"
     ]
    },
    {
     "name": "stdout",
     "output_type": "stream",
     "text": [
      "Up to 12...\n"
     ]
    },
    {
     "name": "stderr",
     "output_type": "stream",
     "text": [
      "100%|██████████| 4536/4536 [00:39<00:00, 115.79it/s]\n",
      "  0%|          | 0/4536 [00:00<?, ?it/s]"
     ]
    },
    {
     "name": "stdout",
     "output_type": "stream",
     "text": [
      "Up to 13...\n"
     ]
    },
    {
     "name": "stderr",
     "output_type": "stream",
     "text": [
      "100%|██████████| 4536/4536 [00:42<00:00, 105.90it/s]\n",
      "  0%|          | 0/4536 [00:00<?, ?it/s]"
     ]
    },
    {
     "name": "stdout",
     "output_type": "stream",
     "text": [
      "Up to 14...\n"
     ]
    },
    {
     "name": "stderr",
     "output_type": "stream",
     "text": [
      "100%|██████████| 4536/4536 [00:46<00:00, 97.55it/s] \n",
      "  0%|          | 0/4536 [00:00<?, ?it/s]"
     ]
    },
    {
     "name": "stdout",
     "output_type": "stream",
     "text": [
      "Up to 15...\n"
     ]
    },
    {
     "name": "stderr",
     "output_type": "stream",
     "text": [
      "100%|██████████| 4536/4536 [00:48<00:00, 92.83it/s] \n",
      "  0%|          | 0/4536 [00:00<?, ?it/s]"
     ]
    },
    {
     "name": "stdout",
     "output_type": "stream",
     "text": [
      "Up to 16...\n"
     ]
    },
    {
     "name": "stderr",
     "output_type": "stream",
     "text": [
      "100%|██████████| 4536/4536 [00:52<00:00, 86.48it/s] \n",
      "  0%|          | 0/4536 [00:00<?, ?it/s]"
     ]
    },
    {
     "name": "stdout",
     "output_type": "stream",
     "text": [
      "Up to 17...\n"
     ]
    },
    {
     "name": "stderr",
     "output_type": "stream",
     "text": [
      "100%|██████████| 4536/4536 [00:55<00:00, 82.28it/s] \n",
      "  0%|          | 0/4536 [00:00<?, ?it/s]"
     ]
    },
    {
     "name": "stdout",
     "output_type": "stream",
     "text": [
      "Up to 18...\n"
     ]
    },
    {
     "name": "stderr",
     "output_type": "stream",
     "text": [
      "100%|██████████| 4536/4536 [00:58<00:00, 77.30it/s] \n",
      "  0%|          | 0/4536 [00:00<?, ?it/s]"
     ]
    },
    {
     "name": "stdout",
     "output_type": "stream",
     "text": [
      "Up to 19...\n"
     ]
    },
    {
     "name": "stderr",
     "output_type": "stream",
     "text": [
      "100%|██████████| 4536/4536 [01:02<00:00, 72.85it/s] \n",
      "  0%|          | 0/4536 [00:00<?, ?it/s]"
     ]
    },
    {
     "name": "stdout",
     "output_type": "stream",
     "text": [
      "Up to 20...\n"
     ]
    },
    {
     "name": "stderr",
     "output_type": "stream",
     "text": [
      "100%|██████████| 4536/4536 [01:05<00:00, 69.66it/s] \n",
      "  0%|          | 0/4536 [00:00<?, ?it/s]"
     ]
    },
    {
     "name": "stdout",
     "output_type": "stream",
     "text": [
      "Up to 21...\n"
     ]
    },
    {
     "name": "stderr",
     "output_type": "stream",
     "text": [
      "100%|██████████| 4536/4536 [01:08<00:00, 66.42it/s] \n",
      "  0%|          | 0/4536 [00:00<?, ?it/s]"
     ]
    },
    {
     "name": "stdout",
     "output_type": "stream",
     "text": [
      "Up to 22...\n"
     ]
    },
    {
     "name": "stderr",
     "output_type": "stream",
     "text": [
      "100%|██████████| 4536/4536 [01:10<00:00, 64.23it/s] \n",
      "  0%|          | 0/4536 [00:00<?, ?it/s]"
     ]
    },
    {
     "name": "stdout",
     "output_type": "stream",
     "text": [
      "Up to 23...\n"
     ]
    },
    {
     "name": "stderr",
     "output_type": "stream",
     "text": [
      "100%|██████████| 4536/4536 [01:12<00:00, 62.26it/s] \n",
      "  0%|          | 0/4536 [00:00<?, ?it/s]"
     ]
    },
    {
     "name": "stdout",
     "output_type": "stream",
     "text": [
      "Up to 24...\n"
     ]
    },
    {
     "name": "stderr",
     "output_type": "stream",
     "text": [
      "100%|██████████| 4536/4536 [01:16<00:00, 59.05it/s] \n",
      "  0%|          | 0/4536 [00:00<?, ?it/s]"
     ]
    },
    {
     "name": "stdout",
     "output_type": "stream",
     "text": [
      "Up to 25...\n"
     ]
    },
    {
     "name": "stderr",
     "output_type": "stream",
     "text": [
      "100%|██████████| 4536/4536 [01:20<00:00, 56.19it/s] \n",
      "  0%|          | 0/4536 [00:00<?, ?it/s]"
     ]
    },
    {
     "name": "stdout",
     "output_type": "stream",
     "text": [
      "Up to 26...\n"
     ]
    },
    {
     "name": "stderr",
     "output_type": "stream",
     "text": [
      "100%|██████████| 4536/4536 [01:23<00:00, 54.45it/s] \n",
      "  0%|          | 0/4536 [00:00<?, ?it/s]"
     ]
    },
    {
     "name": "stdout",
     "output_type": "stream",
     "text": [
      "Up to 27...\n"
     ]
    },
    {
     "name": "stderr",
     "output_type": "stream",
     "text": [
      "100%|██████████| 4536/4536 [01:25<00:00, 52.91it/s] \n",
      "  0%|          | 0/4536 [00:00<?, ?it/s]"
     ]
    },
    {
     "name": "stdout",
     "output_type": "stream",
     "text": [
      "Up to 28...\n"
     ]
    },
    {
     "name": "stderr",
     "output_type": "stream",
     "text": [
      "100%|██████████| 4536/4536 [01:29<00:00, 50.79it/s] \n",
      "  0%|          | 0/4536 [00:00<?, ?it/s]"
     ]
    },
    {
     "name": "stdout",
     "output_type": "stream",
     "text": [
      "Up to 29...\n"
     ]
    },
    {
     "name": "stderr",
     "output_type": "stream",
     "text": [
      "100%|██████████| 4536/4536 [01:32<00:00, 49.26it/s] \n",
      "  0%|          | 0/4536 [00:00<?, ?it/s]"
     ]
    },
    {
     "name": "stdout",
     "output_type": "stream",
     "text": [
      "Up to 30...\n"
     ]
    },
    {
     "name": "stderr",
     "output_type": "stream",
     "text": [
      "100%|██████████| 4536/4536 [01:35<00:00, 47.57it/s] \n",
      "  0%|          | 0/4536 [00:00<?, ?it/s]"
     ]
    },
    {
     "name": "stdout",
     "output_type": "stream",
     "text": [
      "Up to 31...\n"
     ]
    },
    {
     "name": "stderr",
     "output_type": "stream",
     "text": [
      "100%|██████████| 4536/4536 [01:39<00:00, 45.67it/s] \n"
     ]
    },
    {
     "name": "stdout",
     "output_type": "stream",
     "text": [
      "Up to 32...\n"
     ]
    },
    {
     "name": "stderr",
     "output_type": "stream",
     "text": [
      "100%|██████████| 4536/4536 [01:41<00:00, 44.68it/s] \n",
      "  0%|          | 0/4536 [00:00<?, ?it/s]"
     ]
    },
    {
     "name": "stdout",
     "output_type": "stream",
     "text": [
      "Up to 33...\n"
     ]
    },
    {
     "name": "stderr",
     "output_type": "stream",
     "text": [
      "100%|██████████| 4536/4536 [01:44<00:00, 43.46it/s] \n",
      "  0%|          | 0/4536 [00:00<?, ?it/s]"
     ]
    },
    {
     "name": "stdout",
     "output_type": "stream",
     "text": [
      "Up to 34...\n"
     ]
    },
    {
     "name": "stderr",
     "output_type": "stream",
     "text": [
      "100%|██████████| 4536/4536 [01:46<00:00, 42.52it/s] \n",
      "  0%|          | 0/4536 [00:00<?, ?it/s]"
     ]
    },
    {
     "name": "stdout",
     "output_type": "stream",
     "text": [
      "Up to 35...\n"
     ]
    },
    {
     "name": "stderr",
     "output_type": "stream",
     "text": [
      "100%|██████████| 4536/4536 [01:49<00:00, 41.55it/s] \n",
      "  0%|          | 0/4536 [00:00<?, ?it/s]"
     ]
    },
    {
     "name": "stdout",
     "output_type": "stream",
     "text": [
      "Up to 36...\n"
     ]
    },
    {
     "name": "stderr",
     "output_type": "stream",
     "text": [
      "100%|██████████| 4536/4536 [01:51<00:00, 40.53it/s] \n",
      "  0%|          | 0/4536 [00:00<?, ?it/s]"
     ]
    },
    {
     "name": "stdout",
     "output_type": "stream",
     "text": [
      "Up to 37...\n"
     ]
    },
    {
     "name": "stderr",
     "output_type": "stream",
     "text": [
      "100%|██████████| 4536/4536 [01:53<00:00, 39.93it/s] \n",
      "  0%|          | 0/4536 [00:00<?, ?it/s]"
     ]
    },
    {
     "name": "stdout",
     "output_type": "stream",
     "text": [
      "Up to 38...\n"
     ]
    },
    {
     "name": "stderr",
     "output_type": "stream",
     "text": [
      "100%|██████████| 4536/4536 [01:56<00:00, 39.05it/s] \n",
      "  0%|          | 0/4536 [00:00<?, ?it/s]"
     ]
    },
    {
     "name": "stdout",
     "output_type": "stream",
     "text": [
      "Up to 39...\n"
     ]
    },
    {
     "name": "stderr",
     "output_type": "stream",
     "text": [
      "100%|██████████| 4536/4536 [01:58<00:00, 38.40it/s] \n",
      "  0%|          | 0/4536 [00:00<?, ?it/s]"
     ]
    },
    {
     "name": "stdout",
     "output_type": "stream",
     "text": [
      "Up to 40...\n"
     ]
    },
    {
     "name": "stderr",
     "output_type": "stream",
     "text": [
      "100%|██████████| 4536/4536 [01:59<00:00, 38.01it/s] \n"
     ]
    }
   ],
   "source": [
    "permformance = []\n",
    "for n in range(2, 41):\n",
    "    print(f\"Up to {n}...\")\n",
    "    training_data = produce_training_set(_df, last_product_position=n)\n",
    "    \n",
    "    cat2performance = {}\n",
    "    forest = RandomForestClassifier(n_estimators=n_trees, \n",
    "                                    max_depth=max_tree_depth, \n",
    "                                    max_features=max_features,\n",
    "                                    n_jobs=-1, \n",
    "                                    random_state=random_seed)\n",
    "    score, std = fit_model_cv(training_data, variable=cols, target=target, model=forest)\n",
    "    cat2performance[\"All Features\"] = score\n",
    "    for col in cols:\n",
    "        clf =  RandomForestClassifier(n_estimators=n_trees, \n",
    "                                      max_depth=max_tree_depth,\n",
    "                                      max_features=max_features,\n",
    "                                      n_jobs=-1, \n",
    "                                      random_state=random_seed)\n",
    "        iv = [c for c in cols if c not in col]\n",
    "        score, std = fit_model_cv(training_data, variable=iv, target=target, model=clf)\n",
    "        cat2performance[f\"without {col}\"] = score\n",
    "    \n",
    "    cat2performance[\"up_to_product\"] = n\n",
    "    permformance.append(cat2performance)"
   ]
  },
  {
   "cell_type": "code",
   "execution_count": 31,
   "metadata": {},
   "outputs": [],
   "source": [
    "df_performance = pd.DataFrame(permformance)"
   ]
  },
  {
   "cell_type": "code",
   "execution_count": 32,
   "metadata": {},
   "outputs": [
    {
     "data": {
      "text/html": [
       "<div>\n",
       "<style scoped>\n",
       "    .dataframe tbody tr th:only-of-type {\n",
       "        vertical-align: middle;\n",
       "    }\n",
       "\n",
       "    .dataframe tbody tr th {\n",
       "        vertical-align: top;\n",
       "    }\n",
       "\n",
       "    .dataframe thead th {\n",
       "        text-align: right;\n",
       "    }\n",
       "</style>\n",
       "<table border=\"1\" class=\"dataframe\">\n",
       "  <thead>\n",
       "    <tr style=\"text-align: right;\">\n",
       "      <th></th>\n",
       "      <th>All Features</th>\n",
       "      <th>without stars_delta</th>\n",
       "      <th>without reviews_delta</th>\n",
       "      <th>without is_amazon</th>\n",
       "      <th>without is_shipped_by_amazon</th>\n",
       "      <th>without is_sold_by_amazon</th>\n",
       "      <th>without is_top_clicked</th>\n",
       "      <th>without random_noise</th>\n",
       "      <th>up_to_product</th>\n",
       "    </tr>\n",
       "  </thead>\n",
       "  <tbody>\n",
       "    <tr>\n",
       "      <th>0</th>\n",
       "      <td>0.734646</td>\n",
       "      <td>0.737795</td>\n",
       "      <td>0.711024</td>\n",
       "      <td>0.629134</td>\n",
       "      <td>0.737795</td>\n",
       "      <td>0.740157</td>\n",
       "      <td>0.734646</td>\n",
       "      <td>0.741732</td>\n",
       "      <td>2</td>\n",
       "    </tr>\n",
       "    <tr>\n",
       "      <th>1</th>\n",
       "      <td>0.743701</td>\n",
       "      <td>0.741732</td>\n",
       "      <td>0.725984</td>\n",
       "      <td>0.653150</td>\n",
       "      <td>0.741339</td>\n",
       "      <td>0.741732</td>\n",
       "      <td>0.742520</td>\n",
       "      <td>0.741339</td>\n",
       "      <td>3</td>\n",
       "    </tr>\n",
       "    <tr>\n",
       "      <th>2</th>\n",
       "      <td>0.753170</td>\n",
       "      <td>0.751593</td>\n",
       "      <td>0.741072</td>\n",
       "      <td>0.648384</td>\n",
       "      <td>0.751331</td>\n",
       "      <td>0.751331</td>\n",
       "      <td>0.752120</td>\n",
       "      <td>0.751331</td>\n",
       "      <td>4</td>\n",
       "    </tr>\n",
       "    <tr>\n",
       "      <th>3</th>\n",
       "      <td>0.756698</td>\n",
       "      <td>0.755713</td>\n",
       "      <td>0.745077</td>\n",
       "      <td>0.643029</td>\n",
       "      <td>0.757485</td>\n",
       "      <td>0.755713</td>\n",
       "      <td>0.755910</td>\n",
       "      <td>0.755713</td>\n",
       "      <td>5</td>\n",
       "    </tr>\n",
       "    <tr>\n",
       "      <th>4</th>\n",
       "      <td>0.763565</td>\n",
       "      <td>0.763880</td>\n",
       "      <td>0.739748</td>\n",
       "      <td>0.647161</td>\n",
       "      <td>0.764038</td>\n",
       "      <td>0.763880</td>\n",
       "      <td>0.764038</td>\n",
       "      <td>0.764038</td>\n",
       "      <td>6</td>\n",
       "    </tr>\n",
       "    <tr>\n",
       "      <th>5</th>\n",
       "      <td>0.768015</td>\n",
       "      <td>0.765384</td>\n",
       "      <td>0.738163</td>\n",
       "      <td>0.646901</td>\n",
       "      <td>0.765778</td>\n",
       "      <td>0.765647</td>\n",
       "      <td>0.765910</td>\n",
       "      <td>0.765778</td>\n",
       "      <td>7</td>\n",
       "    </tr>\n",
       "    <tr>\n",
       "      <th>6</th>\n",
       "      <td>0.769994</td>\n",
       "      <td>0.769542</td>\n",
       "      <td>0.742355</td>\n",
       "      <td>0.668018</td>\n",
       "      <td>0.769880</td>\n",
       "      <td>0.769880</td>\n",
       "      <td>0.769880</td>\n",
       "      <td>0.769880</td>\n",
       "      <td>8</td>\n",
       "    </tr>\n",
       "    <tr>\n",
       "      <th>7</th>\n",
       "      <td>0.770496</td>\n",
       "      <td>0.770595</td>\n",
       "      <td>0.750340</td>\n",
       "      <td>0.671014</td>\n",
       "      <td>0.770694</td>\n",
       "      <td>0.770694</td>\n",
       "      <td>0.770398</td>\n",
       "      <td>0.770694</td>\n",
       "      <td>9</td>\n",
       "    </tr>\n",
       "    <tr>\n",
       "      <th>8</th>\n",
       "      <td>0.774201</td>\n",
       "      <td>0.773850</td>\n",
       "      <td>0.750107</td>\n",
       "      <td>0.678011</td>\n",
       "      <td>0.773850</td>\n",
       "      <td>0.773850</td>\n",
       "      <td>0.773850</td>\n",
       "      <td>0.773850</td>\n",
       "      <td>10</td>\n",
       "    </tr>\n",
       "    <tr>\n",
       "      <th>9</th>\n",
       "      <td>0.775463</td>\n",
       "      <td>0.775305</td>\n",
       "      <td>0.748276</td>\n",
       "      <td>0.682493</td>\n",
       "      <td>0.775463</td>\n",
       "      <td>0.775384</td>\n",
       "      <td>0.775463</td>\n",
       "      <td>0.775463</td>\n",
       "      <td>11</td>\n",
       "    </tr>\n",
       "    <tr>\n",
       "      <th>10</th>\n",
       "      <td>0.774433</td>\n",
       "      <td>0.775300</td>\n",
       "      <td>0.750830</td>\n",
       "      <td>0.684859</td>\n",
       "      <td>0.775444</td>\n",
       "      <td>0.775444</td>\n",
       "      <td>0.775444</td>\n",
       "      <td>0.775444</td>\n",
       "      <td>12</td>\n",
       "    </tr>\n",
       "    <tr>\n",
       "      <th>11</th>\n",
       "      <td>0.774891</td>\n",
       "      <td>0.774559</td>\n",
       "      <td>0.748558</td>\n",
       "      <td>0.687141</td>\n",
       "      <td>0.774692</td>\n",
       "      <td>0.774559</td>\n",
       "      <td>0.774626</td>\n",
       "      <td>0.774692</td>\n",
       "      <td>13</td>\n",
       "    </tr>\n",
       "    <tr>\n",
       "      <th>12</th>\n",
       "      <td>0.774851</td>\n",
       "      <td>0.774790</td>\n",
       "      <td>0.750399</td>\n",
       "      <td>0.688109</td>\n",
       "      <td>0.774851</td>\n",
       "      <td>0.774851</td>\n",
       "      <td>0.774851</td>\n",
       "      <td>0.774851</td>\n",
       "      <td>14</td>\n",
       "    </tr>\n",
       "    <tr>\n",
       "      <th>13</th>\n",
       "      <td>0.775200</td>\n",
       "      <td>0.774800</td>\n",
       "      <td>0.746392</td>\n",
       "      <td>0.689404</td>\n",
       "      <td>0.774857</td>\n",
       "      <td>0.774857</td>\n",
       "      <td>0.774857</td>\n",
       "      <td>0.774857</td>\n",
       "      <td>15</td>\n",
       "    </tr>\n",
       "    <tr>\n",
       "      <th>14</th>\n",
       "      <td>0.775242</td>\n",
       "      <td>0.774866</td>\n",
       "      <td>0.751450</td>\n",
       "      <td>0.688937</td>\n",
       "      <td>0.774919</td>\n",
       "      <td>0.774866</td>\n",
       "      <td>0.774919</td>\n",
       "      <td>0.774919</td>\n",
       "      <td>16</td>\n",
       "    </tr>\n",
       "    <tr>\n",
       "      <th>15</th>\n",
       "      <td>0.774864</td>\n",
       "      <td>0.774358</td>\n",
       "      <td>0.749746</td>\n",
       "      <td>0.690704</td>\n",
       "      <td>0.774510</td>\n",
       "      <td>0.774510</td>\n",
       "      <td>0.774510</td>\n",
       "      <td>0.774510</td>\n",
       "      <td>17</td>\n",
       "    </tr>\n",
       "    <tr>\n",
       "      <th>16</th>\n",
       "      <td>0.776275</td>\n",
       "      <td>0.775412</td>\n",
       "      <td>0.752684</td>\n",
       "      <td>0.691600</td>\n",
       "      <td>0.775508</td>\n",
       "      <td>0.775460</td>\n",
       "      <td>0.775508</td>\n",
       "      <td>0.775508</td>\n",
       "      <td>18</td>\n",
       "    </tr>\n",
       "    <tr>\n",
       "      <th>17</th>\n",
       "      <td>0.775404</td>\n",
       "      <td>0.775267</td>\n",
       "      <td>0.750854</td>\n",
       "      <td>0.691642</td>\n",
       "      <td>0.775404</td>\n",
       "      <td>0.775358</td>\n",
       "      <td>0.775404</td>\n",
       "      <td>0.775404</td>\n",
       "      <td>19</td>\n",
       "    </tr>\n",
       "    <tr>\n",
       "      <th>18</th>\n",
       "      <td>0.776892</td>\n",
       "      <td>0.776284</td>\n",
       "      <td>0.749815</td>\n",
       "      <td>0.691631</td>\n",
       "      <td>0.776241</td>\n",
       "      <td>0.776241</td>\n",
       "      <td>0.776241</td>\n",
       "      <td>0.776241</td>\n",
       "      <td>20</td>\n",
       "    </tr>\n",
       "    <tr>\n",
       "      <th>19</th>\n",
       "      <td>0.774775</td>\n",
       "      <td>0.774776</td>\n",
       "      <td>0.752361</td>\n",
       "      <td>0.691374</td>\n",
       "      <td>0.774610</td>\n",
       "      <td>0.774569</td>\n",
       "      <td>0.774610</td>\n",
       "      <td>0.774610</td>\n",
       "      <td>21</td>\n",
       "    </tr>\n",
       "    <tr>\n",
       "      <th>20</th>\n",
       "      <td>0.776342</td>\n",
       "      <td>0.775985</td>\n",
       "      <td>0.751517</td>\n",
       "      <td>0.694691</td>\n",
       "      <td>0.776104</td>\n",
       "      <td>0.776065</td>\n",
       "      <td>0.776104</td>\n",
       "      <td>0.776104</td>\n",
       "      <td>22</td>\n",
       "    </tr>\n",
       "    <tr>\n",
       "      <th>21</th>\n",
       "      <td>0.777013</td>\n",
       "      <td>0.777089</td>\n",
       "      <td>0.749742</td>\n",
       "      <td>0.694862</td>\n",
       "      <td>0.777127</td>\n",
       "      <td>0.777051</td>\n",
       "      <td>0.777127</td>\n",
       "      <td>0.777089</td>\n",
       "      <td>23</td>\n",
       "    </tr>\n",
       "    <tr>\n",
       "      <th>22</th>\n",
       "      <td>0.775081</td>\n",
       "      <td>0.775191</td>\n",
       "      <td>0.748838</td>\n",
       "      <td>0.693360</td>\n",
       "      <td>0.775227</td>\n",
       "      <td>0.775045</td>\n",
       "      <td>0.775227</td>\n",
       "      <td>0.775227</td>\n",
       "      <td>24</td>\n",
       "    </tr>\n",
       "    <tr>\n",
       "      <th>23</th>\n",
       "      <td>0.775686</td>\n",
       "      <td>0.776108</td>\n",
       "      <td>0.752850</td>\n",
       "      <td>0.693490</td>\n",
       "      <td>0.776073</td>\n",
       "      <td>0.776038</td>\n",
       "      <td>0.776073</td>\n",
       "      <td>0.776073</td>\n",
       "      <td>25</td>\n",
       "    </tr>\n",
       "    <tr>\n",
       "      <th>24</th>\n",
       "      <td>0.775685</td>\n",
       "      <td>0.775481</td>\n",
       "      <td>0.753113</td>\n",
       "      <td>0.694295</td>\n",
       "      <td>0.775583</td>\n",
       "      <td>0.775549</td>\n",
       "      <td>0.775583</td>\n",
       "      <td>0.775583</td>\n",
       "      <td>26</td>\n",
       "    </tr>\n",
       "    <tr>\n",
       "      <th>25</th>\n",
       "      <td>0.773532</td>\n",
       "      <td>0.773204</td>\n",
       "      <td>0.753099</td>\n",
       "      <td>0.692785</td>\n",
       "      <td>0.773237</td>\n",
       "      <td>0.773204</td>\n",
       "      <td>0.773303</td>\n",
       "      <td>0.773237</td>\n",
       "      <td>27</td>\n",
       "    </tr>\n",
       "    <tr>\n",
       "      <th>26</th>\n",
       "      <td>0.774109</td>\n",
       "      <td>0.774109</td>\n",
       "      <td>0.751251</td>\n",
       "      <td>0.693036</td>\n",
       "      <td>0.774077</td>\n",
       "      <td>0.774045</td>\n",
       "      <td>0.774109</td>\n",
       "      <td>0.774077</td>\n",
       "      <td>28</td>\n",
       "    </tr>\n",
       "    <tr>\n",
       "      <th>27</th>\n",
       "      <td>0.774457</td>\n",
       "      <td>0.774365</td>\n",
       "      <td>0.752669</td>\n",
       "      <td>0.693337</td>\n",
       "      <td>0.774365</td>\n",
       "      <td>0.774334</td>\n",
       "      <td>0.774396</td>\n",
       "      <td>0.774365</td>\n",
       "      <td>29</td>\n",
       "    </tr>\n",
       "    <tr>\n",
       "      <th>28</th>\n",
       "      <td>0.775022</td>\n",
       "      <td>0.774604</td>\n",
       "      <td>0.756648</td>\n",
       "      <td>0.694801</td>\n",
       "      <td>0.774634</td>\n",
       "      <td>0.774395</td>\n",
       "      <td>0.774694</td>\n",
       "      <td>0.774634</td>\n",
       "      <td>30</td>\n",
       "    </tr>\n",
       "    <tr>\n",
       "      <th>29</th>\n",
       "      <td>0.775747</td>\n",
       "      <td>0.775399</td>\n",
       "      <td>0.757443</td>\n",
       "      <td>0.695332</td>\n",
       "      <td>0.775399</td>\n",
       "      <td>0.775341</td>\n",
       "      <td>0.775457</td>\n",
       "      <td>0.775399</td>\n",
       "      <td>31</td>\n",
       "    </tr>\n",
       "    <tr>\n",
       "      <th>30</th>\n",
       "      <td>0.776655</td>\n",
       "      <td>0.776627</td>\n",
       "      <td>0.754895</td>\n",
       "      <td>0.696491</td>\n",
       "      <td>0.776542</td>\n",
       "      <td>0.776401</td>\n",
       "      <td>0.776542</td>\n",
       "      <td>0.776542</td>\n",
       "      <td>32</td>\n",
       "    </tr>\n",
       "    <tr>\n",
       "      <th>31</th>\n",
       "      <td>0.777130</td>\n",
       "      <td>0.777213</td>\n",
       "      <td>0.754828</td>\n",
       "      <td>0.697450</td>\n",
       "      <td>0.777213</td>\n",
       "      <td>0.777185</td>\n",
       "      <td>0.777213</td>\n",
       "      <td>0.777213</td>\n",
       "      <td>33</td>\n",
       "    </tr>\n",
       "    <tr>\n",
       "      <th>32</th>\n",
       "      <td>0.777709</td>\n",
       "      <td>0.777655</td>\n",
       "      <td>0.757838</td>\n",
       "      <td>0.698741</td>\n",
       "      <td>0.777655</td>\n",
       "      <td>0.777655</td>\n",
       "      <td>0.777709</td>\n",
       "      <td>0.777655</td>\n",
       "      <td>34</td>\n",
       "    </tr>\n",
       "    <tr>\n",
       "      <th>33</th>\n",
       "      <td>0.779001</td>\n",
       "      <td>0.778949</td>\n",
       "      <td>0.757930</td>\n",
       "      <td>0.698725</td>\n",
       "      <td>0.778949</td>\n",
       "      <td>0.778896</td>\n",
       "      <td>0.778949</td>\n",
       "      <td>0.778949</td>\n",
       "      <td>35</td>\n",
       "    </tr>\n",
       "    <tr>\n",
       "      <th>34</th>\n",
       "      <td>0.779902</td>\n",
       "      <td>0.779773</td>\n",
       "      <td>0.755386</td>\n",
       "      <td>0.700465</td>\n",
       "      <td>0.779799</td>\n",
       "      <td>0.779747</td>\n",
       "      <td>0.779773</td>\n",
       "      <td>0.779799</td>\n",
       "      <td>36</td>\n",
       "    </tr>\n",
       "    <tr>\n",
       "      <th>35</th>\n",
       "      <td>0.780631</td>\n",
       "      <td>0.780555</td>\n",
       "      <td>0.757185</td>\n",
       "      <td>0.701400</td>\n",
       "      <td>0.780555</td>\n",
       "      <td>0.780555</td>\n",
       "      <td>0.780555</td>\n",
       "      <td>0.780555</td>\n",
       "      <td>37</td>\n",
       "    </tr>\n",
       "    <tr>\n",
       "      <th>36</th>\n",
       "      <td>0.779887</td>\n",
       "      <td>0.779688</td>\n",
       "      <td>0.758633</td>\n",
       "      <td>0.701276</td>\n",
       "      <td>0.779763</td>\n",
       "      <td>0.779713</td>\n",
       "      <td>0.779813</td>\n",
       "      <td>0.779763</td>\n",
       "      <td>38</td>\n",
       "    </tr>\n",
       "    <tr>\n",
       "      <th>37</th>\n",
       "      <td>0.780926</td>\n",
       "      <td>0.780755</td>\n",
       "      <td>0.758039</td>\n",
       "      <td>0.702210</td>\n",
       "      <td>0.780779</td>\n",
       "      <td>0.780730</td>\n",
       "      <td>0.780877</td>\n",
       "      <td>0.780779</td>\n",
       "      <td>39</td>\n",
       "    </tr>\n",
       "    <tr>\n",
       "      <th>38</th>\n",
       "      <td>0.782016</td>\n",
       "      <td>0.781847</td>\n",
       "      <td>0.757602</td>\n",
       "      <td>0.702847</td>\n",
       "      <td>0.781871</td>\n",
       "      <td>0.781847</td>\n",
       "      <td>0.781871</td>\n",
       "      <td>0.781895</td>\n",
       "      <td>40</td>\n",
       "    </tr>\n",
       "  </tbody>\n",
       "</table>\n",
       "</div>"
      ],
      "text/plain": [
       "    All Features  without stars_delta  without reviews_delta  \\\n",
       "0       0.734646             0.737795               0.711024   \n",
       "1       0.743701             0.741732               0.725984   \n",
       "2       0.753170             0.751593               0.741072   \n",
       "3       0.756698             0.755713               0.745077   \n",
       "4       0.763565             0.763880               0.739748   \n",
       "5       0.768015             0.765384               0.738163   \n",
       "6       0.769994             0.769542               0.742355   \n",
       "7       0.770496             0.770595               0.750340   \n",
       "8       0.774201             0.773850               0.750107   \n",
       "9       0.775463             0.775305               0.748276   \n",
       "10      0.774433             0.775300               0.750830   \n",
       "11      0.774891             0.774559               0.748558   \n",
       "12      0.774851             0.774790               0.750399   \n",
       "13      0.775200             0.774800               0.746392   \n",
       "14      0.775242             0.774866               0.751450   \n",
       "15      0.774864             0.774358               0.749746   \n",
       "16      0.776275             0.775412               0.752684   \n",
       "17      0.775404             0.775267               0.750854   \n",
       "18      0.776892             0.776284               0.749815   \n",
       "19      0.774775             0.774776               0.752361   \n",
       "20      0.776342             0.775985               0.751517   \n",
       "21      0.777013             0.777089               0.749742   \n",
       "22      0.775081             0.775191               0.748838   \n",
       "23      0.775686             0.776108               0.752850   \n",
       "24      0.775685             0.775481               0.753113   \n",
       "25      0.773532             0.773204               0.753099   \n",
       "26      0.774109             0.774109               0.751251   \n",
       "27      0.774457             0.774365               0.752669   \n",
       "28      0.775022             0.774604               0.756648   \n",
       "29      0.775747             0.775399               0.757443   \n",
       "30      0.776655             0.776627               0.754895   \n",
       "31      0.777130             0.777213               0.754828   \n",
       "32      0.777709             0.777655               0.757838   \n",
       "33      0.779001             0.778949               0.757930   \n",
       "34      0.779902             0.779773               0.755386   \n",
       "35      0.780631             0.780555               0.757185   \n",
       "36      0.779887             0.779688               0.758633   \n",
       "37      0.780926             0.780755               0.758039   \n",
       "38      0.782016             0.781847               0.757602   \n",
       "\n",
       "    without is_amazon  without is_shipped_by_amazon  \\\n",
       "0            0.629134                      0.737795   \n",
       "1            0.653150                      0.741339   \n",
       "2            0.648384                      0.751331   \n",
       "3            0.643029                      0.757485   \n",
       "4            0.647161                      0.764038   \n",
       "5            0.646901                      0.765778   \n",
       "6            0.668018                      0.769880   \n",
       "7            0.671014                      0.770694   \n",
       "8            0.678011                      0.773850   \n",
       "9            0.682493                      0.775463   \n",
       "10           0.684859                      0.775444   \n",
       "11           0.687141                      0.774692   \n",
       "12           0.688109                      0.774851   \n",
       "13           0.689404                      0.774857   \n",
       "14           0.688937                      0.774919   \n",
       "15           0.690704                      0.774510   \n",
       "16           0.691600                      0.775508   \n",
       "17           0.691642                      0.775404   \n",
       "18           0.691631                      0.776241   \n",
       "19           0.691374                      0.774610   \n",
       "20           0.694691                      0.776104   \n",
       "21           0.694862                      0.777127   \n",
       "22           0.693360                      0.775227   \n",
       "23           0.693490                      0.776073   \n",
       "24           0.694295                      0.775583   \n",
       "25           0.692785                      0.773237   \n",
       "26           0.693036                      0.774077   \n",
       "27           0.693337                      0.774365   \n",
       "28           0.694801                      0.774634   \n",
       "29           0.695332                      0.775399   \n",
       "30           0.696491                      0.776542   \n",
       "31           0.697450                      0.777213   \n",
       "32           0.698741                      0.777655   \n",
       "33           0.698725                      0.778949   \n",
       "34           0.700465                      0.779799   \n",
       "35           0.701400                      0.780555   \n",
       "36           0.701276                      0.779763   \n",
       "37           0.702210                      0.780779   \n",
       "38           0.702847                      0.781871   \n",
       "\n",
       "    without is_sold_by_amazon  without is_top_clicked  without random_noise  \\\n",
       "0                    0.740157                0.734646              0.741732   \n",
       "1                    0.741732                0.742520              0.741339   \n",
       "2                    0.751331                0.752120              0.751331   \n",
       "3                    0.755713                0.755910              0.755713   \n",
       "4                    0.763880                0.764038              0.764038   \n",
       "5                    0.765647                0.765910              0.765778   \n",
       "6                    0.769880                0.769880              0.769880   \n",
       "7                    0.770694                0.770398              0.770694   \n",
       "8                    0.773850                0.773850              0.773850   \n",
       "9                    0.775384                0.775463              0.775463   \n",
       "10                   0.775444                0.775444              0.775444   \n",
       "11                   0.774559                0.774626              0.774692   \n",
       "12                   0.774851                0.774851              0.774851   \n",
       "13                   0.774857                0.774857              0.774857   \n",
       "14                   0.774866                0.774919              0.774919   \n",
       "15                   0.774510                0.774510              0.774510   \n",
       "16                   0.775460                0.775508              0.775508   \n",
       "17                   0.775358                0.775404              0.775404   \n",
       "18                   0.776241                0.776241              0.776241   \n",
       "19                   0.774569                0.774610              0.774610   \n",
       "20                   0.776065                0.776104              0.776104   \n",
       "21                   0.777051                0.777127              0.777089   \n",
       "22                   0.775045                0.775227              0.775227   \n",
       "23                   0.776038                0.776073              0.776073   \n",
       "24                   0.775549                0.775583              0.775583   \n",
       "25                   0.773204                0.773303              0.773237   \n",
       "26                   0.774045                0.774109              0.774077   \n",
       "27                   0.774334                0.774396              0.774365   \n",
       "28                   0.774395                0.774694              0.774634   \n",
       "29                   0.775341                0.775457              0.775399   \n",
       "30                   0.776401                0.776542              0.776542   \n",
       "31                   0.777185                0.777213              0.777213   \n",
       "32                   0.777655                0.777709              0.777655   \n",
       "33                   0.778896                0.778949              0.778949   \n",
       "34                   0.779747                0.779773              0.779799   \n",
       "35                   0.780555                0.780555              0.780555   \n",
       "36                   0.779713                0.779813              0.779763   \n",
       "37                   0.780730                0.780877              0.780779   \n",
       "38                   0.781847                0.781871              0.781895   \n",
       "\n",
       "    up_to_product  \n",
       "0               2  \n",
       "1               3  \n",
       "2               4  \n",
       "3               5  \n",
       "4               6  \n",
       "5               7  \n",
       "6               8  \n",
       "7               9  \n",
       "8              10  \n",
       "9              11  \n",
       "10             12  \n",
       "11             13  \n",
       "12             14  \n",
       "13             15  \n",
       "14             16  \n",
       "15             17  \n",
       "16             18  \n",
       "17             19  \n",
       "18             20  \n",
       "19             21  \n",
       "20             22  \n",
       "21             23  \n",
       "22             24  \n",
       "23             25  \n",
       "24             26  \n",
       "25             27  \n",
       "26             28  \n",
       "27             29  \n",
       "28             30  \n",
       "29             31  \n",
       "30             32  \n",
       "31             33  \n",
       "32             34  \n",
       "33             35  \n",
       "34             36  \n",
       "35             37  \n",
       "36             38  \n",
       "37             39  \n",
       "38             40  "
      ]
     },
     "execution_count": 32,
     "metadata": {},
     "output_type": "execute_result"
    }
   ],
   "source": [
    "df_performance"
   ]
  },
  {
   "cell_type": "code",
   "execution_count": 33,
   "metadata": {},
   "outputs": [
    {
     "data": {
      "image/png": "[encoded data removed]",
      "text/plain": [
       "<Figure size 504x720 with 1 Axes>"
      ]
     },
     "metadata": {
      "needs_background": "light"
     },
     "output_type": "display_data"
    }
   ],
   "source": [
    "ax = df_performance.set_index('up_to_product').plot(figsize=(7, 10),\n",
    "                                                    kind='line',\n",
    "                                                    alpha=.7,\n",
    "                                                    style='.-',\n",
    "                                                    title=\"Model Performance comparing the first product through the Nth product\")\n",
    "plt.legend(loc='center left', bbox_to_anchor=(1.0, 0.5))\n",
    "# Hide the right and top spines\n",
    "ax.spines['right'].set_visible(False)\n",
    "ax.spines['top'].set_visible(False)"
   ]
  },
  {
   "cell_type": "markdown",
   "metadata": {},
   "source": [
    "## Distributions of features:"
   ]
  },
  {
   "cell_type": "markdown",
   "metadata": {},
   "source": [
    "0 means they are both X\n",
    "-2 means they are both NOT X\n",
    "2 means one is X and one is NOT X"
   ]
  },
  {
   "cell_type": "code",
   "execution_count": 34,
   "metadata": {},
   "outputs": [
    {
     "data": {
      "text/plain": [
       " 0    0.523458\n",
       "-2    0.239711\n",
       " 2    0.236831\n",
       "Name: is_amazon, dtype: float64"
      ]
     },
     "execution_count": 34,
     "metadata": {},
     "output_type": "execute_result"
    }
   ],
   "source": [
    "training_data['is_amazon'].value_counts(normalize=True)"
   ]
  },
  {
   "cell_type": "code",
   "execution_count": 35,
   "metadata": {},
   "outputs": [
    {
     "data": {
      "text/plain": [
       " 0    0.862348\n",
       "-2    0.068886\n",
       " 2    0.068765\n",
       "Name: is_shipped_by_amazon, dtype: float64"
      ]
     },
     "execution_count": 35,
     "metadata": {},
     "output_type": "execute_result"
    }
   ],
   "source": [
    "training_data['is_shipped_by_amazon'].value_counts(normalize=True)"
   ]
  },
  {
   "cell_type": "code",
   "execution_count": 36,
   "metadata": {},
   "outputs": [
    {
     "data": {
      "text/plain": [
       " 0    0.559704\n",
       "-2    0.221201\n",
       " 2    0.219096\n",
       "Name: is_sold_by_amazon, dtype: float64"
      ]
     },
     "execution_count": 36,
     "metadata": {},
     "output_type": "execute_result"
    }
   ],
   "source": [
    "training_data['is_sold_by_amazon'].value_counts(normalize=True)"
   ]
  },
  {
   "cell_type": "code",
   "execution_count": 37,
   "metadata": {},
   "outputs": [
    {
     "data": {
      "text/plain": [
       " 0    0.855477\n",
       " 2    0.073580\n",
       "-2    0.070943\n",
       "Name: is_best_seller, dtype: float64"
      ]
     },
     "execution_count": 37,
     "metadata": {},
     "output_type": "execute_result"
    }
   ],
   "source": [
    "training_data['is_best_seller'].value_counts(normalize=True)"
   ]
  },
  {
   "cell_type": "code",
   "execution_count": 38,
   "metadata": {},
   "outputs": [
    {
     "data": {
      "text/plain": [
       " 0    0.615016\n",
       " 2    0.194149\n",
       "-2    0.190835\n",
       "Name: is_top_clicked, dtype: float64"
      ]
     },
     "execution_count": 38,
     "metadata": {},
     "output_type": "execute_result"
    }
   ],
   "source": [
    "training_data['is_top_clicked'].value_counts(normalize=True)"
   ]
  },
  {
   "cell_type": "code",
   "execution_count": 39,
   "metadata": {},
   "outputs": [
    {
     "data": {
      "text/plain": [
       " 0    0.863292\n",
       "-2    0.068354\n",
       " 2    0.068354\n",
       "Name: is_amazons_choice, dtype: float64"
      ]
     },
     "execution_count": 39,
     "metadata": {},
     "output_type": "execute_result"
    }
   ],
   "source": [
    "training_data['is_amazons_choice'].value_counts(normalize=True)"
   ]
  },
  {
   "cell_type": "code",
   "execution_count": null,
   "metadata": {},
   "outputs": [],
   "source": []
  }
 ],
 "metadata": {
  "kernelspec": {
   "display_name": "Python 3",
   "language": "python",
   "name": "python3"
  },
  "language_info": {
   "codemirror_mode": {
    "name": "ipython",
    "version": 3
   },
   "file_extension": ".py",
   "mimetype": "text/x-python",
   "name": "python",
   "nbconvert_exporter": "python",
   "pygments_lexer": "ipython3",
   "version": "3.8.1"
  }
 },
 "nbformat": 4,
 "nbformat_minor": 4
}
