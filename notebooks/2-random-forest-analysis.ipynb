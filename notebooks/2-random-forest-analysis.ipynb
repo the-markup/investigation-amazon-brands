{
 "cells": [
  {
   "cell_type": "markdown",
   "metadata": {},
   "source": [
    "# Random Forest Analysis"
   ]
  },
  {
   "cell_type": "code",
   "execution_count": 1,
   "metadata": {},
   "outputs": [],
   "source": [
    "import os\n",
    "import random\n",
    "from itertools import combinations\n",
    "\n",
    "import numpy as np\n",
    "import pandas as pd\n",
    "import matplotlib.pyplot as plt\n",
    "from tqdm import tqdm\n",
    "\n",
    "from sklearn.model_selection import train_test_split\n",
    "from sklearn.ensemble import RandomForestClassifier\n",
    "from sklearn.model_selection import GridSearchCV, cross_val_score"
   ]
  },
  {
   "cell_type": "code",
   "execution_count": 2,
   "metadata": {},
   "outputs": [],
   "source": [
    "# input\n",
    "fn_training_set = '../data/output/datasets/training_set.csv.xz'\n",
    "fn_pairwise = '../data/output/datasets/pairwise_training_set.csv.gz'\n",
    "\n",
    "# output\n",
    "table3 = '../data/output/tables/table3-RF_ablationstudy.csv'\n",
    "fn_permutations = '../data/output/tables/appendix-RF_ablation_feature_permutations.csv'\n",
    "fn_single_feature = '../data/output/tables/appendix-RF_singlefeature.csv'\n",
    "fig5 = '../data/output/figures/fig5-RF-feature_importance.jpg'\n",
    "fig5_csv = '../data/output/figures/fig5-RF-feature_importance.csv'\n",
    "fig6 = '../data/output/figures/fig6-1vN.jpg'\n",
    "fig6_csv = '../data/output/figures/fig6-1vN.csv'\n",
    "\n",
    "# variables\n",
    "random_seed = 303"
   ]
  },
  {
   "cell_type": "markdown",
   "metadata": {},
   "source": [
    "## Feature Engineering"
   ]
  },
  {
   "cell_type": "code",
   "execution_count": 3,
   "metadata": {},
   "outputs": [],
   "source": [
    "df = pd.read_csv(fn_training_set, compression='xz')"
   ]
  },
  {
   "cell_type": "code",
   "execution_count": 4,
   "metadata": {},
   "outputs": [
    {
     "data": {
      "text/plain": [
       "166342"
      ]
     },
     "execution_count": 4,
     "metadata": {},
     "output_type": "execute_result"
    }
   ],
   "source": [
    "_df = df[\n",
    "    (~df.stars.isnull()) & \n",
    "    (~df.reviews.isnull()) & \n",
    "    (df.is_sponsored == False) &\n",
    "    (~df.is_sold_by_amazon.isnull()) &\n",
    "    (~df.is_shipped_by_amazon.isnull()) &\n",
    "    (~df.has_third_party_sellers.isnull())\n",
    "]\n",
    "len(_df)"
   ]
  },
  {
   "cell_type": "code",
   "execution_count": 5,
   "metadata": {},
   "outputs": [],
   "source": [
    "_df = (_df.sort_values(by=['search_term', 'product_order'])\n",
    "          .drop_duplicates(subset=['search_term', 'asin']))"
   ]
  },
  {
   "cell_type": "code",
   "execution_count": 6,
   "metadata": {},
   "outputs": [],
   "source": [
    "random.seed(random_seed)\n",
    "_df['control'] = np.random.randn(len(_df))"
   ]
  },
  {
   "cell_type": "code",
   "execution_count": 7,
   "metadata": {},
   "outputs": [],
   "source": [
    "bool_cols = [\n",
    "    'top_clicked',\n",
    "    'is_sold_by_amazon', \n",
    "    'is_shipped_by_amazon', \n",
    "    'is_amazon', \n",
    "    'top_clicked',\n",
    "    'is_best_seller',\n",
    "    \"is_amazons_choice\"\n",
    "]\n",
    "bool2int = {True : 1, False : -1}\n",
    "for col in bool_cols:\n",
    "    _df.loc[:, col + '_encoded'] = _df[col].replace(bool2int)"
   ]
  },
  {
   "cell_type": "code",
   "execution_count": 8,
   "metadata": {},
   "outputs": [],
   "source": [
    "def produce_training_set(_df, last_product_position = 2, random_seed=0):\n",
    "    \"\"\"\n",
    "    Makes product comparisons between the first organic product up to the \n",
    "    `last_product_position` organic product.\n",
    "    \"\"\"\n",
    "    random.seed(random_seed)\n",
    "    data = []\n",
    "    for search_term, __df in tqdm(_df[_df.is_sponsored != True].groupby('search_term')):\n",
    "        # for each search term, go through each row.\n",
    "        if len(__df) == 1:\n",
    "            continue\n",
    "        if len(__df[__df.product_order == 1]) == 0:\n",
    "            continue\n",
    "        __df = __df.sort_values(by='product_order')\n",
    "        __df = __df.reset_index()\n",
    "\n",
    "        for i in range(1, last_product_position):\n",
    "            if len(__df) <= i:\n",
    "                continue\n",
    "            if random.random() > .5:\n",
    "                row = __df.iloc[0]\n",
    "                comparison = __df.iloc[i]\n",
    "            else:\n",
    "                row = __df.iloc[i]\n",
    "                comparison = __df.iloc[0]\n",
    "            \n",
    "            knockout = row['product_order']\n",
    "            # calculate differences between two pairs\n",
    "            placed_higher = knockout > comparison['product_order']\n",
    "            stars_delta = row['stars'] - comparison['stars']\n",
    "            ratings_delta = row['reviews'] - comparison['reviews']\n",
    "            stars_delta_perc = stars_delta / row['stars']\n",
    "            ratings_delta_perc = ratings_delta / row['reviews']\n",
    "\n",
    "            is_amazon = row['is_amazon_encoded'] - comparison['is_amazon_encoded']\n",
    "            is_shipped_by_amazon = row['is_shipped_by_amazon_encoded'] - comparison['is_shipped_by_amazon_encoded']\n",
    "            is_sold_by_amazon = row['is_sold_by_amazon_encoded'] - comparison['is_sold_by_amazon_encoded']\n",
    "            is_top_clicked = row['top_clicked_encoded'] - comparison['top_clicked_encoded']\n",
    "            is_best_seller = row['is_best_seller_encoded'] - comparison['is_best_seller_encoded']\n",
    "            is_amazons_choice = row['is_amazons_choice_encoded'] - comparison['is_amazons_choice_encoded']\n",
    "            random_noise = row['control'] - comparison['control']\n",
    "#             price_delta = row['price'] - comparison['price']\n",
    "#             price_delta_perc = (price_delta) / (row['price'] + .001)\n",
    "\n",
    "            output = {\n",
    "                'search_term' : search_term,\n",
    "                'placed_higher' : placed_higher,\n",
    "                'stars_delta': stars_delta,\n",
    "                'reviews_delta' : ratings_delta,\n",
    "#                 'price_delta': price_delta,\n",
    "                'stars_delta_perc': stars_delta_perc,\n",
    "                'reviews_delta_perc': ratings_delta_perc,\n",
    "#                 'price_delta_perc': price_delta_perc,\n",
    "                'is_shipped_by_amazon' : is_shipped_by_amazon,\n",
    "                'is_sold_by_amazon': is_sold_by_amazon,\n",
    "                'is_amazon': is_amazon,\n",
    "                'is_top_clicked': is_top_clicked,\n",
    "                'is_amazons_choice': is_amazons_choice,\n",
    "                'is_best_seller': is_best_seller,\n",
    "                'random_noise' : random_noise,\n",
    "                'asin_1' : row['asin'],\n",
    "                'asin_2': comparison['asin']\n",
    "            }\n",
    "\n",
    "            data.append(output)\n",
    "        training_data = pd.DataFrame(data)\n",
    "    return training_data"
   ]
  },
  {
   "cell_type": "code",
   "execution_count": 9,
   "metadata": {},
   "outputs": [
    {
     "data": {
      "text/plain": [
       "1270"
      ]
     },
     "execution_count": 9,
     "metadata": {},
     "output_type": "execute_result"
    }
   ],
   "source": [
    "if os.path.exists(fn_pairwise):\n",
    "    training_data = pd.read_csv(fn_pairwise, compression='gzip')\n",
    "else:\n",
    "    training_data = produce_training_set(_df, last_product_position=2)\n",
    "    training_data.to_csv(fn_pairwise, index=False, compression='gzip')\n",
    "len(training_data)"
   ]
  },
  {
   "cell_type": "code",
   "execution_count": 10,
   "metadata": {},
   "outputs": [
    {
     "name": "stderr",
     "output_type": "stream",
     "text": [
      "100%|██████████| 4557/4557 [00:08<00:00, 536.72it/s]\n"
     ]
    }
   ],
   "source": [
    "training_data = produce_training_set(_df, last_product_position=2)"
   ]
  },
  {
   "cell_type": "code",
   "execution_count": 11,
   "metadata": {},
   "outputs": [
    {
     "data": {
      "text/plain": [
       "1415"
      ]
     },
     "execution_count": 11,
     "metadata": {},
     "output_type": "execute_result"
    }
   ],
   "source": [
    "len(training_data)"
   ]
  },
  {
   "cell_type": "code",
   "execution_count": 12,
   "metadata": {},
   "outputs": [
    {
     "data": {
      "text/plain": [
       "False    0.5053\n",
       "True     0.4947\n",
       "Name: placed_higher, dtype: float64"
      ]
     },
     "execution_count": 12,
     "metadata": {},
     "output_type": "execute_result"
    }
   ],
   "source": [
    "training_data.placed_higher.value_counts(normalize=True)"
   ]
  },
  {
   "cell_type": "code",
   "execution_count": 13,
   "metadata": {},
   "outputs": [
    {
     "data": {
      "text/plain": [
       "search_term             #10 envelope\n",
       "placed_higher                  False\n",
       "stars_delta                        0\n",
       "reviews_delta                   1654\n",
       "stars_delta_perc                   0\n",
       "reviews_delta_perc          0.161998\n",
       "is_shipped_by_amazon               0\n",
       "is_sold_by_amazon                  2\n",
       "is_amazon                          2\n",
       "is_top_clicked                     0\n",
       "is_amazons_choice                  0\n",
       "is_best_seller                    -2\n",
       "random_noise               -0.254994\n",
       "asin_1                    B06VVLD2GL\n",
       "asin_2                    B01D0OANU4\n",
       "Name: 0, dtype: object"
      ]
     },
     "execution_count": 13,
     "metadata": {},
     "output_type": "execute_result"
    }
   ],
   "source": [
    "training_data.iloc[0]"
   ]
  },
  {
   "cell_type": "code",
   "execution_count": 14,
   "metadata": {},
   "outputs": [
    {
     "data": {
      "text/plain": [
       "(1132, 283)"
      ]
     },
     "execution_count": 14,
     "metadata": {},
     "output_type": "execute_result"
    }
   ],
   "source": [
    "# size of a 20:80 train-test-split\n",
    "x, y = train_test_split(training_data, test_size=.2)\n",
    "len(x), len(y)"
   ]
  },
  {
   "cell_type": "markdown",
   "metadata": {},
   "source": [
    "## Gridsearch\n",
    "We use gridsearch with 5-fold cross validation to determine the optimal hyperparameters."
   ]
  },
  {
   "cell_type": "code",
   "execution_count": 15,
   "metadata": {},
   "outputs": [],
   "source": [
    "# hyperparameters\n",
    "parameters = {\n",
    "    'n_estimators':(100, 300, 500), \n",
    "    'max_depth':[3, 5, 7], \n",
    "    'max_features': [1, 3, 5, 6],\n",
    "}\n",
    "# features\n",
    "cols = ['stars_delta', 'reviews_delta', 'is_amazon',\n",
    "        'is_shipped_by_amazon', 'is_sold_by_amazon', \n",
    "        'is_top_clicked', 'random_noise']\n",
    "# target\n",
    "target = 'placed_higher'"
   ]
  },
  {
   "cell_type": "code",
   "execution_count": 16,
   "metadata": {},
   "outputs": [
    {
     "data": {
      "text/plain": [
       "{'max_depth': 3, 'max_features': 6, 'n_estimators': 100}"
      ]
     },
     "execution_count": 16,
     "metadata": {},
     "output_type": "execute_result"
    }
   ],
   "source": [
    "forest = RandomForestClassifier(random_state=random_seed)\n",
    "grid = GridSearchCV(forest, parameters, cv=5, scoring='accuracy', n_jobs=-1)\n",
    "X_train = training_data[cols]\n",
    "y_train = training_data[target]\n",
    "grid.fit(X_train, y_train)\n",
    "grid.best_params_"
   ]
  },
  {
   "cell_type": "code",
   "execution_count": 17,
   "metadata": {},
   "outputs": [
    {
     "data": {
      "text/plain": [
       "0.724381625441696"
      ]
     },
     "execution_count": 17,
     "metadata": {},
     "output_type": "execute_result"
    }
   ],
   "source": [
    "grid.best_score_"
   ]
  },
  {
   "cell_type": "markdown",
   "metadata": {},
   "source": [
    "## Ablation Study"
   ]
  },
  {
   "cell_type": "code",
   "execution_count": 18,
   "metadata": {},
   "outputs": [],
   "source": [
    "def fit_model_cv(df, variable, target, model, cv=10):\n",
    "    \"\"\"Fits a model and gets mean accuracy from k-folds cross validation\"\"\"\n",
    "    is_multivariate = True if isinstance(variable, list) else False   \n",
    "    X = df[variable]\n",
    "    y = df[target]\n",
    "    X_2d = X if is_multivariate else np.expand_dims(X.values, axis=1)\n",
    "    scores = cross_val_score(model, X, y, cv=cv)\n",
    "    accuracy = scores.mean()\n",
    "    std = scores.std()\n",
    "    return accuracy, std"
   ]
  },
  {
   "cell_type": "code",
   "execution_count": 19,
   "metadata": {},
   "outputs": [],
   "source": [
    "def get_performance(cat2performance, knockout=['Change of Accuracy_abs']):\n",
    "    \"\"\"\n",
    "    Converts a performance dictionary to a table\n",
    "    \"\"\"\n",
    "    perf = pd.DataFrame([\n",
    "        {\"Feature\": k, \"Accuracy\" :v} for k, v in cat2performance.items()\n",
    "    ])\n",
    "    perf['Change of Accuracy'] = perf['Accuracy'].apply(lambda x: x - perf['Accuracy'].iloc[0]) * 100\n",
    "    perf['Change of Accuracy_abs'] = perf['Accuracy'].apply(lambda x: \n",
    "                                                           abs(x - perf['Accuracy'].iloc[0]))                                               \n",
    "    perf.sort_values(by=['Change of Accuracy_abs', 'Feature'], ascending=False, inplace=True)\n",
    "    perf = perf[[c for c in perf.columns if c not in knockout]]\n",
    "    return perf\n",
    "\n",
    "def format_perf(perf):\n",
    "    return perf.style.format({\n",
    "        'Accuracy': '{:,.1%}'.format,\n",
    "        'Change of Accuracy': '{:.1f}'.format,\n",
    "    })"
   ]
  },
  {
   "cell_type": "code",
   "execution_count": 20,
   "metadata": {},
   "outputs": [],
   "source": [
    "# hyperparameters from gridsearch\n",
    "max_tree_depth = 3\n",
    "max_features = 6\n",
    "n_trees = 300"
   ]
  },
  {
   "cell_type": "code",
   "execution_count": 21,
   "metadata": {},
   "outputs": [
    {
     "name": "stdout",
     "output_type": "stream",
     "text": [
      "All features (n_test = 283): 73.01%\n",
      "without stars_delta: 72.37 +/- 3.7%\n",
      "without reviews_delta: 69.48 +/- 2.8%\n",
      "without is_amazon: 63.75 +/- 5.0%\n",
      "without is_shipped_by_amazon: 72.37 +/- 3.7%\n",
      "without is_sold_by_amazon: 72.51 +/- 3.7%\n",
      "without is_top_clicked: 72.3 +/- 3.8%\n",
      "without random_noise: 72.16 +/- 3.6%\n"
     ]
    }
   ],
   "source": [
    "cat2performance = {}\n",
    "forest = RandomForestClassifier(n_estimators=n_trees, \n",
    "                                max_depth=max_tree_depth, \n",
    "                                max_features=max_features,\n",
    "                                n_jobs=-1, random_state=random_seed)\n",
    "score, std = fit_model_cv(training_data, variable=cols, target=target, model=forest)\n",
    "print(f\"All features (n_test = {int(len(training_data) * .2):,}): {score * 100 :.4}%\")\n",
    "cat2performance[\"All Features\"] = score\n",
    "for col in cols:\n",
    "    clf =  RandomForestClassifier(n_estimators=n_trees, \n",
    "                                  max_depth=max_tree_depth,\n",
    "                                  max_features=max_features,\n",
    "                                  n_jobs=-1, random_state=random_seed)\n",
    "    # knock out the column\n",
    "    iv = [c for c in cols if c not in col]\n",
    "    score, std = fit_model_cv(training_data, variable=iv, target=target, model=clf)\n",
    "    print(f\"without {col}: {score * 100 :.4} +/- {std * 100 :.2}%\")\n",
    "    cat2performance[f\"without {col}\"] = score"
   ]
  },
  {
   "cell_type": "code",
   "execution_count": 22,
   "metadata": {},
   "outputs": [
    {
     "data": {
      "text/html": [
       "<style  type=\"text/css\" >\n",
       "</style><table id=\"T_24db264c_09cd_11ec_af26_0c9d9287d90c\" ><thead>    <tr>        <th class=\"blank level0\" ></th>        <th class=\"col_heading level0 col0\" >Feature</th>        <th class=\"col_heading level0 col1\" >Accuracy</th>        <th class=\"col_heading level0 col2\" >Change of Accuracy</th>    </tr></thead><tbody>\n",
       "                <tr>\n",
       "                        <th id=\"T_24db264c_09cd_11ec_af26_0c9d9287d90clevel0_row0\" class=\"row_heading level0 row0\" >3</th>\n",
       "                        <td id=\"T_24db264c_09cd_11ec_af26_0c9d9287d90crow0_col0\" class=\"data row0 col0\" >without is_amazon</td>\n",
       "                        <td id=\"T_24db264c_09cd_11ec_af26_0c9d9287d90crow0_col1\" class=\"data row0 col1\" >63.7%</td>\n",
       "                        <td id=\"T_24db264c_09cd_11ec_af26_0c9d9287d90crow0_col2\" class=\"data row0 col2\" >-9.3</td>\n",
       "            </tr>\n",
       "            <tr>\n",
       "                        <th id=\"T_24db264c_09cd_11ec_af26_0c9d9287d90clevel0_row1\" class=\"row_heading level0 row1\" >2</th>\n",
       "                        <td id=\"T_24db264c_09cd_11ec_af26_0c9d9287d90crow1_col0\" class=\"data row1 col0\" >without reviews_delta</td>\n",
       "                        <td id=\"T_24db264c_09cd_11ec_af26_0c9d9287d90crow1_col1\" class=\"data row1 col1\" >69.5%</td>\n",
       "                        <td id=\"T_24db264c_09cd_11ec_af26_0c9d9287d90crow1_col2\" class=\"data row1 col2\" >-3.5</td>\n",
       "            </tr>\n",
       "            <tr>\n",
       "                        <th id=\"T_24db264c_09cd_11ec_af26_0c9d9287d90clevel0_row2\" class=\"row_heading level0 row2\" >7</th>\n",
       "                        <td id=\"T_24db264c_09cd_11ec_af26_0c9d9287d90crow2_col0\" class=\"data row2 col0\" >without random_noise</td>\n",
       "                        <td id=\"T_24db264c_09cd_11ec_af26_0c9d9287d90crow2_col1\" class=\"data row2 col1\" >72.2%</td>\n",
       "                        <td id=\"T_24db264c_09cd_11ec_af26_0c9d9287d90crow2_col2\" class=\"data row2 col2\" >-0.8</td>\n",
       "            </tr>\n",
       "            <tr>\n",
       "                        <th id=\"T_24db264c_09cd_11ec_af26_0c9d9287d90clevel0_row3\" class=\"row_heading level0 row3\" >6</th>\n",
       "                        <td id=\"T_24db264c_09cd_11ec_af26_0c9d9287d90crow3_col0\" class=\"data row3 col0\" >without is_top_clicked</td>\n",
       "                        <td id=\"T_24db264c_09cd_11ec_af26_0c9d9287d90crow3_col1\" class=\"data row3 col1\" >72.3%</td>\n",
       "                        <td id=\"T_24db264c_09cd_11ec_af26_0c9d9287d90crow3_col2\" class=\"data row3 col2\" >-0.7</td>\n",
       "            </tr>\n",
       "            <tr>\n",
       "                        <th id=\"T_24db264c_09cd_11ec_af26_0c9d9287d90clevel0_row4\" class=\"row_heading level0 row4\" >4</th>\n",
       "                        <td id=\"T_24db264c_09cd_11ec_af26_0c9d9287d90crow4_col0\" class=\"data row4 col0\" >without is_shipped_by_amazon</td>\n",
       "                        <td id=\"T_24db264c_09cd_11ec_af26_0c9d9287d90crow4_col1\" class=\"data row4 col1\" >72.4%</td>\n",
       "                        <td id=\"T_24db264c_09cd_11ec_af26_0c9d9287d90crow4_col2\" class=\"data row4 col2\" >-0.6</td>\n",
       "            </tr>\n",
       "            <tr>\n",
       "                        <th id=\"T_24db264c_09cd_11ec_af26_0c9d9287d90clevel0_row5\" class=\"row_heading level0 row5\" >1</th>\n",
       "                        <td id=\"T_24db264c_09cd_11ec_af26_0c9d9287d90crow5_col0\" class=\"data row5 col0\" >without stars_delta</td>\n",
       "                        <td id=\"T_24db264c_09cd_11ec_af26_0c9d9287d90crow5_col1\" class=\"data row5 col1\" >72.4%</td>\n",
       "                        <td id=\"T_24db264c_09cd_11ec_af26_0c9d9287d90crow5_col2\" class=\"data row5 col2\" >-0.6</td>\n",
       "            </tr>\n",
       "            <tr>\n",
       "                        <th id=\"T_24db264c_09cd_11ec_af26_0c9d9287d90clevel0_row6\" class=\"row_heading level0 row6\" >5</th>\n",
       "                        <td id=\"T_24db264c_09cd_11ec_af26_0c9d9287d90crow6_col0\" class=\"data row6 col0\" >without is_sold_by_amazon</td>\n",
       "                        <td id=\"T_24db264c_09cd_11ec_af26_0c9d9287d90crow6_col1\" class=\"data row6 col1\" >72.5%</td>\n",
       "                        <td id=\"T_24db264c_09cd_11ec_af26_0c9d9287d90crow6_col2\" class=\"data row6 col2\" >-0.5</td>\n",
       "            </tr>\n",
       "            <tr>\n",
       "                        <th id=\"T_24db264c_09cd_11ec_af26_0c9d9287d90clevel0_row7\" class=\"row_heading level0 row7\" >0</th>\n",
       "                        <td id=\"T_24db264c_09cd_11ec_af26_0c9d9287d90crow7_col0\" class=\"data row7 col0\" >All Features</td>\n",
       "                        <td id=\"T_24db264c_09cd_11ec_af26_0c9d9287d90crow7_col1\" class=\"data row7 col1\" >73.0%</td>\n",
       "                        <td id=\"T_24db264c_09cd_11ec_af26_0c9d9287d90crow7_col2\" class=\"data row7 col2\" >0.0</td>\n",
       "            </tr>\n",
       "    </tbody></table>"
      ],
      "text/plain": [
       "<pandas.io.formats.style.Styler at 0x7fb8dc444be0>"
      ]
     },
     "execution_count": 22,
     "metadata": {},
     "output_type": "execute_result"
    }
   ],
   "source": [
    "perf = get_performance(cat2performance)\n",
    "perf.to_csv(table3, index=False)\n",
    "format_perf(perf)"
   ]
  },
  {
   "cell_type": "code",
   "execution_count": 23,
   "metadata": {},
   "outputs": [
    {
     "name": "stdout",
     "output_type": "stream",
     "text": [
      "with just stars_delta: 54.62 +/- 3.3%\n",
      "with just reviews_delta: 52.37 +/- 3.4%\n",
      "with just is_amazon: 70.67 +/- 2.6%\n",
      "with just is_shipped_by_amazon: 51.8 +/- 3.6%\n",
      "with just is_sold_by_amazon: 61.49 +/- 4.2%\n",
      "with just is_top_clicked: 54.91 +/- 2.4%\n",
      "with just random_noise: 49.82 +/- 4.4%\n"
     ]
    }
   ],
   "source": [
    "cat2performance_standalone = {}\n",
    "for col in cols:\n",
    "    clf =  RandomForestClassifier(n_estimators=n_trees,\n",
    "                                  max_depth=max_tree_depth,\n",
    "                                  n_jobs=-1, random_state=random_seed)\n",
    "    score, std = fit_model_cv(training_data, variable=[col], target=target, model=clf)\n",
    "    print(f\"with just {col}: {score * 100 :.4} +/- {std * 100 :.2}%\")\n",
    "    cat2performance_standalone[f\"with just {col}\"] = score"
   ]
  },
  {
   "cell_type": "code",
   "execution_count": 24,
   "metadata": {},
   "outputs": [
    {
     "data": {
      "text/html": [
       "<style  type=\"text/css\" >\n",
       "</style><table id=\"T_30524dde_09cd_11ec_af26_0c9d9287d90c\" ><thead>    <tr>        <th class=\"blank level0\" ></th>        <th class=\"col_heading level0 col0\" >Feature</th>        <th class=\"col_heading level0 col1\" >Accuracy</th>    </tr></thead><tbody>\n",
       "                <tr>\n",
       "                        <th id=\"T_30524dde_09cd_11ec_af26_0c9d9287d90clevel0_row0\" class=\"row_heading level0 row0\" >2</th>\n",
       "                        <td id=\"T_30524dde_09cd_11ec_af26_0c9d9287d90crow0_col0\" class=\"data row0 col0\" >with just is_amazon</td>\n",
       "                        <td id=\"T_30524dde_09cd_11ec_af26_0c9d9287d90crow0_col1\" class=\"data row0 col1\" >70.7%</td>\n",
       "            </tr>\n",
       "            <tr>\n",
       "                        <th id=\"T_30524dde_09cd_11ec_af26_0c9d9287d90clevel0_row1\" class=\"row_heading level0 row1\" >4</th>\n",
       "                        <td id=\"T_30524dde_09cd_11ec_af26_0c9d9287d90crow1_col0\" class=\"data row1 col0\" >with just is_sold_by_amazon</td>\n",
       "                        <td id=\"T_30524dde_09cd_11ec_af26_0c9d9287d90crow1_col1\" class=\"data row1 col1\" >61.5%</td>\n",
       "            </tr>\n",
       "            <tr>\n",
       "                        <th id=\"T_30524dde_09cd_11ec_af26_0c9d9287d90clevel0_row2\" class=\"row_heading level0 row2\" >6</th>\n",
       "                        <td id=\"T_30524dde_09cd_11ec_af26_0c9d9287d90crow2_col0\" class=\"data row2 col0\" >with just random_noise</td>\n",
       "                        <td id=\"T_30524dde_09cd_11ec_af26_0c9d9287d90crow2_col1\" class=\"data row2 col1\" >49.8%</td>\n",
       "            </tr>\n",
       "            <tr>\n",
       "                        <th id=\"T_30524dde_09cd_11ec_af26_0c9d9287d90clevel0_row3\" class=\"row_heading level0 row3\" >3</th>\n",
       "                        <td id=\"T_30524dde_09cd_11ec_af26_0c9d9287d90crow3_col0\" class=\"data row3 col0\" >with just is_shipped_by_amazon</td>\n",
       "                        <td id=\"T_30524dde_09cd_11ec_af26_0c9d9287d90crow3_col1\" class=\"data row3 col1\" >51.8%</td>\n",
       "            </tr>\n",
       "            <tr>\n",
       "                        <th id=\"T_30524dde_09cd_11ec_af26_0c9d9287d90clevel0_row4\" class=\"row_heading level0 row4\" >1</th>\n",
       "                        <td id=\"T_30524dde_09cd_11ec_af26_0c9d9287d90crow4_col0\" class=\"data row4 col0\" >with just reviews_delta</td>\n",
       "                        <td id=\"T_30524dde_09cd_11ec_af26_0c9d9287d90crow4_col1\" class=\"data row4 col1\" >52.4%</td>\n",
       "            </tr>\n",
       "            <tr>\n",
       "                        <th id=\"T_30524dde_09cd_11ec_af26_0c9d9287d90clevel0_row5\" class=\"row_heading level0 row5\" >5</th>\n",
       "                        <td id=\"T_30524dde_09cd_11ec_af26_0c9d9287d90crow5_col0\" class=\"data row5 col0\" >with just is_top_clicked</td>\n",
       "                        <td id=\"T_30524dde_09cd_11ec_af26_0c9d9287d90crow5_col1\" class=\"data row5 col1\" >54.9%</td>\n",
       "            </tr>\n",
       "            <tr>\n",
       "                        <th id=\"T_30524dde_09cd_11ec_af26_0c9d9287d90clevel0_row6\" class=\"row_heading level0 row6\" >0</th>\n",
       "                        <td id=\"T_30524dde_09cd_11ec_af26_0c9d9287d90crow6_col0\" class=\"data row6 col0\" >with just stars_delta</td>\n",
       "                        <td id=\"T_30524dde_09cd_11ec_af26_0c9d9287d90crow6_col1\" class=\"data row6 col1\" >54.6%</td>\n",
       "            </tr>\n",
       "    </tbody></table>"
      ],
      "text/plain": [
       "<pandas.io.formats.style.Styler at 0x7fb8d89edf70>"
      ]
     },
     "execution_count": 24,
     "metadata": {},
     "output_type": "execute_result"
    }
   ],
   "source": [
    "perf = get_performance(cat2performance_standalone, \n",
    "                       knockout=['Change of Accuracy_abs', 'Change of Accuracy'])\n",
    "perf.to_csv(fn_single_feature, index=False)\n",
    "format_perf(perf)"
   ]
  },
  {
   "cell_type": "markdown",
   "metadata": {},
   "source": [
    "## Ablation study with every possible permutation of the feature sets"
   ]
  },
  {
   "cell_type": "code",
   "execution_count": 25,
   "metadata": {},
   "outputs": [
    {
     "data": {
      "text/plain": [
       "127"
      ]
     },
     "execution_count": 25,
     "metadata": {},
     "output_type": "execute_result"
    }
   ],
   "source": [
    "# create every possible permutation\n",
    "permutations = set()\n",
    "for r in range(len(cols)):\n",
    "    permutations.update(combinations(cols, r+1))\n",
    "len(permutations)"
   ]
  },
  {
   "cell_type": "code",
   "execution_count": 26,
   "metadata": {},
   "outputs": [
    {
     "name": "stderr",
     "output_type": "stream",
     "text": [
      "100%|██████████| 127/127 [05:56<00:00,  2.81s/it]\n"
     ]
    }
   ],
   "source": [
    "if not os.path.exists(fn_permutations):\n",
    "    cat2performance = {}\n",
    "    for iv in tqdm(permutations):\n",
    "        clf =  RandomForestClassifier(n_estimators=n_trees, \n",
    "                                      max_depth=max_tree_depth,\n",
    "                                      random_state=random_seed,\n",
    "                                      n_jobs=-1)\n",
    "        score, std = fit_model_cv(training_data, variable=list(iv), \n",
    "                                  target=target, model=clf)\n",
    "        cat2performance[iv] = score\n",
    "    df = pd.DataFrame([\n",
    "        {\"cols\" : k, \"accuracy\": v } for k, v in cat2performance.items()\n",
    "    ])\n",
    "    df.sort_values(\"accuracy\", inplace=True)\n",
    "    df.to_csv(fn_permutations, index=False)\n",
    "else:\n",
    "    df = pd.read_csv(fn_permutations)"
   ]
  },
  {
   "cell_type": "code",
   "execution_count": null,
   "metadata": {},
   "outputs": [],
   "source": [
    "df.to_csv(fn_permutations, index=False)\n"
   ]
  },
  {
   "cell_type": "code",
   "execution_count": 27,
   "metadata": {},
   "outputs": [
    {
     "data": {
      "text/plain": [
       "[{'cols': ('random_noise',), 'accuracy': 0.49823194486065325},\n",
       " {'cols': ('is_shipped_by_amazon',), 'accuracy': 0.5180401558285885},\n",
       " {'cols': ('reviews_delta',), 'accuracy': 0.523728898211967}]"
      ]
     },
     "execution_count": 27,
     "metadata": {},
     "output_type": "execute_result"
    }
   ],
   "source": [
    "# worst performing features\n",
    "df.head(3).to_dict(orient='records')"
   ]
  },
  {
   "cell_type": "code",
   "execution_count": 28,
   "metadata": {},
   "outputs": [
    {
     "data": {
      "text/plain": [
       "[{'cols': ('stars_delta', 'is_amazon', 'is_sold_by_amazon'),\n",
       "  'accuracy': 0.7230046948356808},\n",
       " {'cols': ('reviews_delta',\n",
       "   'is_amazon',\n",
       "   'is_sold_by_amazon',\n",
       "   'is_top_clicked',\n",
       "   'random_noise'),\n",
       "  'accuracy': 0.7230246728598542},\n",
       " {'cols': ('stars_delta', 'reviews_delta', 'is_amazon', 'is_sold_by_amazon'),\n",
       "  'accuracy': 0.726580761162721}]"
      ]
     },
     "execution_count": 28,
     "metadata": {},
     "output_type": "execute_result"
    }
   ],
   "source": [
    "# best performing features\n",
    "df.tail(3).to_dict(orient='records')"
   ]
  },
  {
   "cell_type": "markdown",
   "metadata": {},
   "source": [
    "## Feature Importance"
   ]
  },
  {
   "cell_type": "code",
   "execution_count": 29,
   "metadata": {},
   "outputs": [],
   "source": [
    "def fit_model(df, variable, \n",
    "              target, model):\n",
    "    \"\"\"Fits a model and gets accuracy\"\"\"\n",
    "    is_multivariate = True if isinstance(variable, list) else False   \n",
    "    X = df[variable]\n",
    "    y = df[target]\n",
    "    X_2d = X if is_multivariate else np.expand_dims(X.values, axis=1)  \n",
    "    \n",
    "    X_train, X_test, y_train, y_test = train_test_split(\n",
    "        X_2d, y, random_state=random_seed, test_size=.2,\n",
    "    )\n",
    "    model.fit(X_train, y_train)\n",
    "    accuracy = model.score(X_test, y_test)\n",
    "    \n",
    "    return accuracy"
   ]
  },
  {
   "cell_type": "code",
   "execution_count": 30,
   "metadata": {},
   "outputs": [
    {
     "data": {
      "image/png": "[encoded data removed]",
      "text/plain": [
       "<Figure size 576x432 with 1 Axes>"
      ]
     },
     "metadata": {
      "needs_background": "light"
     },
     "output_type": "display_data"
    }
   ],
   "source": [
    "forest = RandomForestClassifier(n_estimators=n_trees, \n",
    "                                max_depth=max_tree_depth, \n",
    "                                max_features=max_features,\n",
    "                                n_jobs=-1, random_state=random_seed)\n",
    "\n",
    "score = fit_model(training_data, variable=cols, target=target, model=forest)\n",
    "forest_importances = pd.Series(forest.feature_importances_, index=cols)\n",
    "forest_importances.sort_values(inplace=True, ascending=True)\n",
    "forest_importances.to_csv(fig5_csv, index=False)\n",
    "\n",
    "fig, ax = plt.subplots(figsize=(8, 6))\n",
    "forest_importances.plot.barh(ax=ax, color='grey')\n",
    "ax.set_xlabel(\"Feature Importance\")\n",
    "\n",
    "# Hide the right and top spines\n",
    "ax.spines['right'].set_visible(False)\n",
    "ax.spines['top'].set_visible(False)\n",
    "\n",
    "# Only show ticks on the left and bottom spines\n",
    "ax.yaxis.set_ticks_position('left')\n",
    "ax.xaxis.set_ticks_position('bottom') # Hide the right and top spines\n",
    "ax.spines['right'].set_visible(False)\n",
    "ax.spines['top'].set_visible(False)\n",
    "\n",
    "# Only show ticks on the left and bottom spines\n",
    "ax.yaxis.set_ticks_position('left')\n",
    "ax.xaxis.set_ticks_position('bottom')\n",
    "fig.tight_layout()\n",
    "\n",
    "\n",
    "plt.savefig(fig5);"
   ]
  },
  {
   "cell_type": "markdown",
   "metadata": {},
   "source": [
    "## performance predicting who gets placed beyond the second posting"
   ]
  },
  {
   "cell_type": "code",
   "execution_count": null,
   "metadata": {},
   "outputs": [
    {
     "name": "stderr",
     "output_type": "stream",
     "text": [
      "  0%|          | 0/4557 [00:00<?, ?it/s]"
     ]
    },
    {
     "name": "stdout",
     "output_type": "stream",
     "text": [
      "Up to 2...\n"
     ]
    },
    {
     "name": "stderr",
     "output_type": "stream",
     "text": [
      "100%|██████████| 4557/4557 [00:08<00:00, 535.29it/s]\n",
      "  0%|          | 0/4557 [00:00<?, ?it/s]"
     ]
    },
    {
     "name": "stdout",
     "output_type": "stream",
     "text": [
      "Up to 3...\n"
     ]
    },
    {
     "name": "stderr",
     "output_type": "stream",
     "text": [
      "100%|██████████| 4557/4557 [00:12<00:00, 378.33it/s]\n",
      "  0%|          | 0/4557 [00:00<?, ?it/s]"
     ]
    },
    {
     "name": "stdout",
     "output_type": "stream",
     "text": [
      "Up to 4...\n"
     ]
    },
    {
     "name": "stderr",
     "output_type": "stream",
     "text": [
      "100%|██████████| 4557/4557 [00:15<00:00, 289.38it/s]\n"
     ]
    },
    {
     "name": "stdout",
     "output_type": "stream",
     "text": [
      "Up to 5...\n"
     ]
    },
    {
     "name": "stderr",
     "output_type": "stream",
     "text": [
      "100%|██████████| 4557/4557 [00:19<00:00, 232.92it/s]\n",
      "  0%|          | 0/4557 [00:00<?, ?it/s]"
     ]
    },
    {
     "name": "stdout",
     "output_type": "stream",
     "text": [
      "Up to 6...\n"
     ]
    },
    {
     "name": "stderr",
     "output_type": "stream",
     "text": [
      "100%|██████████| 4557/4557 [00:23<00:00, 195.70it/s]\n",
      "  0%|          | 0/4557 [00:00<?, ?it/s]"
     ]
    },
    {
     "name": "stdout",
     "output_type": "stream",
     "text": [
      "Up to 7...\n"
     ]
    },
    {
     "name": "stderr",
     "output_type": "stream",
     "text": [
      "100%|██████████| 4557/4557 [00:27<00:00, 168.11it/s]\n",
      "  0%|          | 0/4557 [00:00<?, ?it/s]"
     ]
    },
    {
     "name": "stdout",
     "output_type": "stream",
     "text": [
      "Up to 8...\n"
     ]
    },
    {
     "name": "stderr",
     "output_type": "stream",
     "text": [
      "100%|██████████| 4557/4557 [00:30<00:00, 148.35it/s]\n",
      "  0%|          | 0/4557 [00:00<?, ?it/s]"
     ]
    },
    {
     "name": "stdout",
     "output_type": "stream",
     "text": [
      "Up to 9...\n"
     ]
    },
    {
     "name": "stderr",
     "output_type": "stream",
     "text": [
      "100%|██████████| 4557/4557 [00:34<00:00, 132.21it/s]\n",
      "  0%|          | 0/4557 [00:00<?, ?it/s]"
     ]
    },
    {
     "name": "stdout",
     "output_type": "stream",
     "text": [
      "Up to 10...\n"
     ]
    },
    {
     "name": "stderr",
     "output_type": "stream",
     "text": [
      "100%|██████████| 4557/4557 [00:38<00:00, 117.99it/s]\n"
     ]
    },
    {
     "name": "stdout",
     "output_type": "stream",
     "text": [
      "Up to 11...\n"
     ]
    },
    {
     "name": "stderr",
     "output_type": "stream",
     "text": [
      "100%|██████████| 4557/4557 [00:42<00:00, 107.33it/s]\n",
      "  0%|          | 0/4557 [00:00<?, ?it/s]"
     ]
    },
    {
     "name": "stdout",
     "output_type": "stream",
     "text": [
      "Up to 12...\n"
     ]
    },
    {
     "name": "stderr",
     "output_type": "stream",
     "text": [
      "100%|██████████| 4557/4557 [00:46<00:00, 98.08it/s] \n",
      "  0%|          | 0/4557 [00:00<?, ?it/s]"
     ]
    },
    {
     "name": "stdout",
     "output_type": "stream",
     "text": [
      "Up to 13...\n"
     ]
    },
    {
     "name": "stderr",
     "output_type": "stream",
     "text": [
      "100%|██████████| 4557/4557 [00:50<00:00, 90.07it/s] \n",
      "  0%|          | 0/4557 [00:00<?, ?it/s]"
     ]
    },
    {
     "name": "stdout",
     "output_type": "stream",
     "text": [
      "Up to 14...\n"
     ]
    },
    {
     "name": "stderr",
     "output_type": "stream",
     "text": [
      "100%|██████████| 4557/4557 [00:54<00:00, 83.89it/s] \n",
      "  0%|          | 0/4557 [00:00<?, ?it/s]"
     ]
    },
    {
     "name": "stdout",
     "output_type": "stream",
     "text": [
      "Up to 15...\n"
     ]
    },
    {
     "name": "stderr",
     "output_type": "stream",
     "text": [
      "100%|██████████| 4557/4557 [00:58<00:00, 78.03it/s] \n",
      "  0%|          | 0/4557 [00:00<?, ?it/s]"
     ]
    },
    {
     "name": "stdout",
     "output_type": "stream",
     "text": [
      "Up to 16...\n"
     ]
    },
    {
     "name": "stderr",
     "output_type": "stream",
     "text": [
      "100%|██████████| 4557/4557 [01:02<00:00, 72.67it/s] \n",
      "  0%|          | 0/4557 [00:00<?, ?it/s]"
     ]
    },
    {
     "name": "stdout",
     "output_type": "stream",
     "text": [
      "Up to 17...\n"
     ]
    },
    {
     "name": "stderr",
     "output_type": "stream",
     "text": [
      "100%|██████████| 4557/4557 [01:06<00:00, 68.46it/s] \n",
      "  0%|          | 0/4557 [00:00<?, ?it/s]"
     ]
    },
    {
     "name": "stdout",
     "output_type": "stream",
     "text": [
      "Up to 18...\n"
     ]
    },
    {
     "name": "stderr",
     "output_type": "stream",
     "text": [
      "100%|██████████| 4557/4557 [01:10<00:00, 64.24it/s] \n",
      "  0%|          | 0/4557 [00:00<?, ?it/s]"
     ]
    },
    {
     "name": "stdout",
     "output_type": "stream",
     "text": [
      "Up to 19...\n"
     ]
    },
    {
     "name": "stderr",
     "output_type": "stream",
     "text": [
      "100%|██████████| 4557/4557 [01:14<00:00, 61.05it/s] \n",
      "  0%|          | 0/4557 [00:00<?, ?it/s]"
     ]
    },
    {
     "name": "stdout",
     "output_type": "stream",
     "text": [
      "Up to 20...\n"
     ]
    },
    {
     "name": "stderr",
     "output_type": "stream",
     "text": [
      "100%|██████████| 4557/4557 [01:18<00:00, 58.25it/s] \n",
      "  0%|          | 0/4557 [00:00<?, ?it/s]"
     ]
    },
    {
     "name": "stdout",
     "output_type": "stream",
     "text": [
      "Up to 21...\n"
     ]
    },
    {
     "name": "stderr",
     "output_type": "stream",
     "text": [
      " 34%|███▍      | 1562/4557 [00:13<00:40, 74.62it/s] "
     ]
    }
   ],
   "source": [
    "if not os.path.exists(fig6_csv):\n",
    "    permformance = []\n",
    "    for n in range(2, 49):\n",
    "        print(f\"Up to {n}...\")\n",
    "        training_data = produce_training_set(_df, last_product_position=n)\n",
    "        cat2performance = {}\n",
    "        forest = RandomForestClassifier(n_estimators=n_trees, \n",
    "                                        max_depth=max_tree_depth, \n",
    "                                        max_features=max_features,\n",
    "                                        n_jobs=-1, \n",
    "                                        random_state=random_seed)\n",
    "        score, std = fit_model_cv(training_data, variable=cols, target=target, model=forest)\n",
    "        cat2performance[\"All Features\"] = score\n",
    "        for col in cols:\n",
    "            clf = RandomForestClassifier(n_estimators=n_trees, \n",
    "                                         max_depth=max_tree_depth,\n",
    "                                         max_features=max_features,\n",
    "                                         n_jobs=-1, \n",
    "                                         random_state=random_seed)\n",
    "            iv = [c for c in cols if c not in col]\n",
    "            score, std = fit_model_cv(training_data, variable=iv, target=target, model=clf)\n",
    "            cat2performance[f\"without {col}\"] = score\n",
    "            \n",
    "        cat2performance[\"up_to_product\"] = n\n",
    "        permformance.append(cat2performance)\n",
    "        \n",
    "    df_performance = pd.DataFrame(permformance)\n",
    "    df_performance.to_csv(fig6_csv, index=False)\n",
    "else:\n",
    "    df_performance = pd.read_csv(fig6_csv)"
   ]
  },
  {
   "cell_type": "code",
   "execution_count": null,
   "metadata": {},
   "outputs": [],
   "source": [
    "ax = df_performance.set_index('up_to_product').plot(figsize=(7, 10),\n",
    "                                                    kind='line',\n",
    "                                                    alpha=.7,\n",
    "                                                    style='.-',\n",
    "                                                    title=\"Model Performance comparing the first product through the Nth product\")\n",
    "plt.legend(loc='center left', bbox_to_anchor=(1.0, 0.5))\n",
    "# Hide the right and top spines\n",
    "ax.spines['right'].set_visible(False)\n",
    "ax.spines['top'].set_visible(False)\n",
    "plt.savefig(fig6)"
   ]
  },
  {
   "cell_type": "markdown",
   "metadata": {},
   "source": [
    "## Distributions of features:"
   ]
  },
  {
   "cell_type": "markdown",
   "metadata": {},
   "source": [
    "0 means they are both X\n",
    "-2 means they are both NOT X\n",
    "2 means one is X and one is NOT X"
   ]
  },
  {
   "cell_type": "code",
   "execution_count": null,
   "metadata": {},
   "outputs": [],
   "source": [
    "training_data['is_amazon'].value_counts(normalize=True)"
   ]
  },
  {
   "cell_type": "code",
   "execution_count": null,
   "metadata": {},
   "outputs": [],
   "source": [
    "training_data['is_shipped_by_amazon'].value_counts(normalize=True)"
   ]
  },
  {
   "cell_type": "code",
   "execution_count": null,
   "metadata": {},
   "outputs": [],
   "source": [
    "training_data['is_sold_by_amazon'].value_counts(normalize=True)"
   ]
  },
  {
   "cell_type": "code",
   "execution_count": null,
   "metadata": {},
   "outputs": [],
   "source": [
    "training_data['is_best_seller'].value_counts(normalize=True)"
   ]
  },
  {
   "cell_type": "code",
   "execution_count": null,
   "metadata": {},
   "outputs": [],
   "source": [
    "training_data['is_top_clicked'].value_counts(normalize=True)"
   ]
  },
  {
   "cell_type": "code",
   "execution_count": null,
   "metadata": {},
   "outputs": [],
   "source": [
    "training_data['is_amazons_choice'].value_counts(normalize=True)"
   ]
  },
  {
   "cell_type": "code",
   "execution_count": null,
   "metadata": {},
   "outputs": [],
   "source": []
  }
 ],
 "metadata": {
  "kernelspec": {
   "display_name": "Python 3",
   "language": "python",
   "name": "python3"
  },
  "language_info": {
   "codemirror_mode": {
    "name": "ipython",
    "version": 3
   },
   "file_extension": ".py",
   "mimetype": "text/x-python",
   "name": "python",
   "nbconvert_exporter": "python",
   "pygments_lexer": "ipython3",
   "version": "3.8.1"
  }
 },
 "nbformat": 4,
 "nbformat_minor": 4
}
