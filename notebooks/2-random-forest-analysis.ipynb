{
 "cells": [
  {
   "cell_type": "markdown",
   "metadata": {},
   "source": [
    "# Random Forest Analysis"
   ]
  },
  {
   "cell_type": "code",
   "execution_count": 155,
   "metadata": {},
   "outputs": [],
   "source": [
    "import os\n",
    "import random\n",
    "from itertools import combinations\n",
    "\n",
    "import numpy as np\n",
    "import pandas as pd\n",
    "import matplotlib.pyplot as plt\n",
    "from tqdm import tqdm\n",
    "\n",
    "from sklearn.model_selection import train_test_split\n",
    "from sklearn.ensemble import RandomForestClassifier\n",
    "from sklearn.model_selection import cross_val_score\n",
    "from sklearn.model_selection import GridSearchCV"
   ]
  },
  {
   "cell_type": "code",
   "execution_count": 3,
   "metadata": {},
   "outputs": [],
   "source": [
    "random_seed = 303"
   ]
  },
  {
   "cell_type": "code",
   "execution_count": 4,
   "metadata": {},
   "outputs": [],
   "source": [
    "# input\n",
    "fn_traning_set = '../data/intermediary/training_set.csv.gz'\n",
    "fn_pairwise = '../data/intermediary/pairwise_training_set.csv.gz'\n",
    "\n",
    "# output\n",
    "table2 = f'../data/output/tables/table2.csv'\n",
    "fn_permutations = 'f../data/appendix/ablation_feature_permutations.csv'\n",
    "fn_ablation = f'../data/output/tables/tableTK.csv'\n",
    "fn_single_feature = f'../data/output/tables/tableTK.csv'\n",
    "fn_feature_importance = f'../data/output/figures/figTK.png'"
   ]
  },
  {
   "cell_type": "markdown",
   "metadata": {},
   "source": [
    "## Feature Engineering"
   ]
  },
  {
   "cell_type": "code",
   "execution_count": 5,
   "metadata": {},
   "outputs": [],
   "source": [
    "df = pd.read_csv(fn_traning_set, compression='gzip')"
   ]
  },
  {
   "cell_type": "code",
   "execution_count": 6,
   "metadata": {},
   "outputs": [
    {
     "data": {
      "text/plain": [
       "176935"
      ]
     },
     "execution_count": 6,
     "metadata": {},
     "output_type": "execute_result"
    }
   ],
   "source": [
    "_df = df[\n",
    "    (~df.stars.isnull()) & \n",
    "    (~df.reviews.isnull()) & \n",
    "    (df.is_sponsored == False) &\n",
    "    (~df.is_sold_by_amazon.isnull()) &\n",
    "    (~df.is_shipped_by_amazon.isnull()) &\n",
    "    (~df.has_third_party_sellers.isnull()) &\n",
    "    (~df.price.isnull())\n",
    "]\n",
    "len(_df)"
   ]
  },
  {
   "cell_type": "code",
   "execution_count": null,
   "metadata": {},
   "outputs": [],
   "source": []
  },
  {
   "cell_type": "code",
   "execution_count": 7,
   "metadata": {},
   "outputs": [
    {
     "name": "stderr",
     "output_type": "stream",
     "text": [
      "<ipython-input-7-14ad5d1093e7>:1: SettingWithCopyWarning: \n",
      "A value is trying to be set on a copy of a slice from a DataFrame.\n",
      "Try using .loc[row_indexer,col_indexer] = value instead\n",
      "\n",
      "See the caveats in the documentation: https://pandas.pydata.org/pandas-docs/stable/user_guide/indexing.html#returning-a-view-versus-a-copy\n",
      "  _df['price'] = _df.price.apply(lambda x: x.split(' ')[-1].lstrip(\"$\") if x else None)\n",
      "<ipython-input-7-14ad5d1093e7>:2: SettingWithCopyWarning: \n",
      "A value is trying to be set on a copy of a slice from a DataFrame.\n",
      "Try using .loc[row_indexer,col_indexer] = value instead\n",
      "\n",
      "See the caveats in the documentation: https://pandas.pydata.org/pandas-docs/stable/user_guide/indexing.html#returning-a-view-versus-a-copy\n",
      "  _df['price'] = _df['price'].str.replace(',', '').astype(float)\n"
     ]
    }
   ],
   "source": [
    "_df['price'] = _df.price.apply(lambda x: x.split(' ')[-1].lstrip(\"$\") if x else None)\n",
    "_df['price'] = _df['price'].str.replace(',', '').astype(float)"
   ]
  },
  {
   "cell_type": "code",
   "execution_count": 8,
   "metadata": {},
   "outputs": [],
   "source": [
    "_df = _df.sort_values(by=['search_term', 'product_order']).drop_duplicates(subset=['search_term', 'asin'])"
   ]
  },
  {
   "cell_type": "code",
   "execution_count": 9,
   "metadata": {},
   "outputs": [],
   "source": [
    "_df.loc[:, 'reviews_log'] = np.log(_df['reviews'])\n",
    "_df.loc[:, 'stars_norm'] = _df['stars'] / 5\n",
    "_df.loc[:, 'product_order_log'] =  np.log(_df['product_order'])\n",
    "_df.loc[:, 'product_row'] = ( (_df['product_order'] // 4) + 1)"
   ]
  },
  {
   "cell_type": "code",
   "execution_count": 10,
   "metadata": {},
   "outputs": [],
   "source": [
    "_df['control'] = np.random.randn(len(_df))"
   ]
  },
  {
   "cell_type": "code",
   "execution_count": 11,
   "metadata": {},
   "outputs": [],
   "source": [
    "bool_cols = [\n",
    "    'top_clicked',\n",
    "    'is_sold_by_amazon', \n",
    "    'is_shipped_by_amazon', \n",
    "    'is_amazon', \n",
    "    'top_clicked',\n",
    "    'is_best_seller',\n",
    "    \"is_amazons_choice\"\n",
    "]\n",
    "bool2int = {True : 1, False : -1}\n",
    "for col in bool_cols:\n",
    "    _df.loc[:, col + '_encoded'] = _df[col].replace(bool2int)"
   ]
  },
  {
   "cell_type": "code",
   "execution_count": 44,
   "metadata": {},
   "outputs": [],
   "source": [
    "last_product_position = 2"
   ]
  },
  {
   "cell_type": "code",
   "execution_count": 162,
   "metadata": {},
   "outputs": [],
   "source": [
    "def produce_training_set(_df, last_product_position = 2, random_seed=303):\n",
    "    random.seed(random_seed)\n",
    "    data = []\n",
    "    for search_term, __df in tqdm(_df[_df.is_sponsored != True].groupby('search_term')):\n",
    "        # for each search term, go through each row.\n",
    "        if len(__df) == 1:\n",
    "            continue\n",
    "        if len(__df[__df.product_order == 1]) == 0:\n",
    "            continue\n",
    "        __df = __df.sort_values(by='product_order')\n",
    "        __df = __df.reset_index()\n",
    "\n",
    "        for i in range(1, last_product_position):\n",
    "            if len(__df) <= i:\n",
    "                continue\n",
    "            if random.random() > .5:\n",
    "                row = __df.iloc[0]\n",
    "                comparison = __df.iloc[i]\n",
    "            else:\n",
    "                row = __df.iloc[i]\n",
    "                comparison = __df.iloc[0]\n",
    "            \n",
    "            knockout = row['product_order']\n",
    "            # calculate differences between two pairs\n",
    "            placed_higher = knockout > comparison['product_order']\n",
    "            stars_delta = row['stars'] - comparison['stars']\n",
    "            ratings_delta = row['reviews'] - comparison['reviews']\n",
    "            stars_delta_perc = stars_delta / row['stars']\n",
    "            ratings_delta_perc = ratings_delta / row['reviews']\n",
    "\n",
    "            is_amazon = row['is_amazon_encoded'] - comparison['is_amazon_encoded']\n",
    "            is_shipped_by_amazon = row['is_shipped_by_amazon_encoded'] - comparison['is_shipped_by_amazon_encoded']\n",
    "            is_sold_by_amazon = row['is_sold_by_amazon_encoded'] - comparison['is_sold_by_amazon_encoded']\n",
    "            is_top_clicked = row['top_clicked_encoded'] - comparison['top_clicked_encoded']\n",
    "            is_best_seller = row['is_best_seller_encoded'] - comparison['is_best_seller_encoded']\n",
    "            is_amazons_choice = row['is_amazons_choice_encoded'] - comparison['is_amazons_choice_encoded']\n",
    "            random_noise = row['control'] - comparison['control']\n",
    "            price_delta = row['price'] - comparison['price']\n",
    "            price_delta_perc = (price_delta) / (row['price'] + .001)\n",
    "\n",
    "            output = {\n",
    "                'search_term' : search_term,\n",
    "                'placed_higher' : placed_higher,\n",
    "                'stars_delta': stars_delta,\n",
    "                'reviews_delta' : ratings_delta,\n",
    "                'price_delta': price_delta,\n",
    "                'stars_delta_perc': stars_delta_perc,\n",
    "                'reviews_delta_perc': ratings_delta_perc,\n",
    "                'price_delta_perc': price_delta_perc,\n",
    "                'is_shipped_by_amazon' : is_shipped_by_amazon,\n",
    "                'is_sold_by_amazon': is_sold_by_amazon,\n",
    "                'is_amazon': is_amazon,\n",
    "                'is_top_clicked': is_top_clicked,\n",
    "                'is_amazons_choice': is_amazons_choice,\n",
    "                'is_best_seller': is_best_seller,\n",
    "                'random_noise' : random_noise,\n",
    "                'asin_1' : row['asin'],\n",
    "                'asin_2': comparison['asin']\n",
    "            }\n",
    "\n",
    "            data.append(output)\n",
    "        training_data = pd.DataFrame(data)\n",
    "    return training_data"
   ]
  },
  {
   "cell_type": "code",
   "execution_count": 164,
   "metadata": {},
   "outputs": [
    {
     "name": "stderr",
     "output_type": "stream",
     "text": [
      "100%|██████████| 4525/4525 [00:10<00:00, 417.83it/s]\n"
     ]
    }
   ],
   "source": [
    "trainig_data = produce_training_set(_df, last_product_position=2)"
   ]
  },
  {
   "cell_type": "code",
   "execution_count": 16,
   "metadata": {},
   "outputs": [
    {
     "data": {
      "text/plain": [
       "1667"
      ]
     },
     "execution_count": 16,
     "metadata": {},
     "output_type": "execute_result"
    }
   ],
   "source": [
    "len(training_data)"
   ]
  },
  {
   "cell_type": "code",
   "execution_count": 163,
   "metadata": {},
   "outputs": [
    {
     "data": {
      "text/plain": [
       "True     0.516497\n",
       "False    0.483503\n",
       "Name: placed_higher, dtype: float64"
      ]
     },
     "execution_count": 163,
     "metadata": {},
     "output_type": "execute_result"
    }
   ],
   "source": [
    "training_data.placed_higher.value_counts(normalize=True)"
   ]
  },
  {
   "cell_type": "code",
   "execution_count": 48,
   "metadata": {},
   "outputs": [
    {
     "data": {
      "text/html": [
       "<div>\n",
       "<style scoped>\n",
       "    .dataframe tbody tr th:only-of-type {\n",
       "        vertical-align: middle;\n",
       "    }\n",
       "\n",
       "    .dataframe tbody tr th {\n",
       "        vertical-align: top;\n",
       "    }\n",
       "\n",
       "    .dataframe thead th {\n",
       "        text-align: right;\n",
       "    }\n",
       "</style>\n",
       "<table border=\"1\" class=\"dataframe\">\n",
       "  <thead>\n",
       "    <tr style=\"text-align: right;\">\n",
       "      <th></th>\n",
       "      <th>search_term</th>\n",
       "      <th>placed_higher</th>\n",
       "      <th>stars_delta</th>\n",
       "      <th>reviews_delta</th>\n",
       "      <th>is_shipped_by_amazon</th>\n",
       "      <th>is_sold_by_amazon</th>\n",
       "      <th>is_amazon</th>\n",
       "      <th>is_top_clicked</th>\n",
       "      <th>is_amazons_choice</th>\n",
       "      <th>is_best_seller</th>\n",
       "      <th>random_noise</th>\n",
       "      <th>price_difference</th>\n",
       "      <th>asin_1</th>\n",
       "      <th>asin_2</th>\n",
       "    </tr>\n",
       "  </thead>\n",
       "  <tbody>\n",
       "    <tr>\n",
       "      <th>0</th>\n",
       "      <td>#10 envelope</td>\n",
       "      <td>True</td>\n",
       "      <td>0.0</td>\n",
       "      <td>-1654.0</td>\n",
       "      <td>0</td>\n",
       "      <td>0</td>\n",
       "      <td>-2</td>\n",
       "      <td>0</td>\n",
       "      <td>0</td>\n",
       "      <td>2</td>\n",
       "      <td>0.248205</td>\n",
       "      <td>-11.00</td>\n",
       "      <td>B01D0OANU4</td>\n",
       "      <td>B06VVLD2GL</td>\n",
       "    </tr>\n",
       "    <tr>\n",
       "      <th>1</th>\n",
       "      <td>#6 envelope</td>\n",
       "      <td>False</td>\n",
       "      <td>0.1</td>\n",
       "      <td>7844.0</td>\n",
       "      <td>0</td>\n",
       "      <td>0</td>\n",
       "      <td>2</td>\n",
       "      <td>2</td>\n",
       "      <td>0</td>\n",
       "      <td>0</td>\n",
       "      <td>0.539421</td>\n",
       "      <td>-6.12</td>\n",
       "      <td>B06X15WSLL</td>\n",
       "      <td>B07JNXMBSX</td>\n",
       "    </tr>\n",
       "    <tr>\n",
       "      <th>2</th>\n",
       "      <td>1 inch binder</td>\n",
       "      <td>True</td>\n",
       "      <td>0.0</td>\n",
       "      <td>-9383.0</td>\n",
       "      <td>0</td>\n",
       "      <td>2</td>\n",
       "      <td>-2</td>\n",
       "      <td>0</td>\n",
       "      <td>2</td>\n",
       "      <td>-2</td>\n",
       "      <td>-0.688909</td>\n",
       "      <td>10.72</td>\n",
       "      <td>B00A45VF2S</td>\n",
       "      <td>B01BRGTWOA</td>\n",
       "    </tr>\n",
       "    <tr>\n",
       "      <th>3</th>\n",
       "      <td>1% milk</td>\n",
       "      <td>False</td>\n",
       "      <td>0.0</td>\n",
       "      <td>183.0</td>\n",
       "      <td>0</td>\n",
       "      <td>0</td>\n",
       "      <td>0</td>\n",
       "      <td>2</td>\n",
       "      <td>0</td>\n",
       "      <td>0</td>\n",
       "      <td>-0.660239</td>\n",
       "      <td>1.10</td>\n",
       "      <td>B07WC9MMPD</td>\n",
       "      <td>B07W5Z8SJ8</td>\n",
       "    </tr>\n",
       "    <tr>\n",
       "      <th>4</th>\n",
       "      <td>10 dollar gifts</td>\n",
       "      <td>False</td>\n",
       "      <td>0.8</td>\n",
       "      <td>75410.0</td>\n",
       "      <td>-2</td>\n",
       "      <td>0</td>\n",
       "      <td>0</td>\n",
       "      <td>0</td>\n",
       "      <td>0</td>\n",
       "      <td>-2</td>\n",
       "      <td>-0.350984</td>\n",
       "      <td>0.01</td>\n",
       "      <td>B00F4CEHNK</td>\n",
       "      <td>B07FCNYND8</td>\n",
       "    </tr>\n",
       "    <tr>\n",
       "      <th>...</th>\n",
       "      <td>...</td>\n",
       "      <td>...</td>\n",
       "      <td>...</td>\n",
       "      <td>...</td>\n",
       "      <td>...</td>\n",
       "      <td>...</td>\n",
       "      <td>...</td>\n",
       "      <td>...</td>\n",
       "      <td>...</td>\n",
       "      <td>...</td>\n",
       "      <td>...</td>\n",
       "      <td>...</td>\n",
       "      <td>...</td>\n",
       "      <td>...</td>\n",
       "    </tr>\n",
       "    <tr>\n",
       "      <th>1662</th>\n",
       "      <td>zwave hub</td>\n",
       "      <td>False</td>\n",
       "      <td>0.8</td>\n",
       "      <td>848.0</td>\n",
       "      <td>0</td>\n",
       "      <td>0</td>\n",
       "      <td>0</td>\n",
       "      <td>2</td>\n",
       "      <td>0</td>\n",
       "      <td>0</td>\n",
       "      <td>-2.192503</td>\n",
       "      <td>98.00</td>\n",
       "      <td>B07D19VVTX</td>\n",
       "      <td>B077Y939JQ</td>\n",
       "    </tr>\n",
       "    <tr>\n",
       "      <th>1663</th>\n",
       "      <td>zxzy womens hoodies</td>\n",
       "      <td>False</td>\n",
       "      <td>-0.1</td>\n",
       "      <td>6.0</td>\n",
       "      <td>0</td>\n",
       "      <td>0</td>\n",
       "      <td>0</td>\n",
       "      <td>0</td>\n",
       "      <td>0</td>\n",
       "      <td>0</td>\n",
       "      <td>0.923685</td>\n",
       "      <td>8.00</td>\n",
       "      <td>B08F7RFZGP</td>\n",
       "      <td>B08KT3BD2X</td>\n",
       "    </tr>\n",
       "    <tr>\n",
       "      <th>1664</th>\n",
       "      <td>zyliss knives</td>\n",
       "      <td>True</td>\n",
       "      <td>0.0</td>\n",
       "      <td>-3010.0</td>\n",
       "      <td>0</td>\n",
       "      <td>0</td>\n",
       "      <td>0</td>\n",
       "      <td>0</td>\n",
       "      <td>-2</td>\n",
       "      <td>0</td>\n",
       "      <td>0.095042</td>\n",
       "      <td>-8.00</td>\n",
       "      <td>B0753SKVZX</td>\n",
       "      <td>B01DKEB5OC</td>\n",
       "    </tr>\n",
       "    <tr>\n",
       "      <th>1665</th>\n",
       "      <td>zyrtec for kids</td>\n",
       "      <td>False</td>\n",
       "      <td>-0.2</td>\n",
       "      <td>2184.0</td>\n",
       "      <td>2</td>\n",
       "      <td>0</td>\n",
       "      <td>0</td>\n",
       "      <td>0</td>\n",
       "      <td>2</td>\n",
       "      <td>0</td>\n",
       "      <td>-1.782325</td>\n",
       "      <td>3.54</td>\n",
       "      <td>B004E0QGOQ</td>\n",
       "      <td>B088X7151W</td>\n",
       "    </tr>\n",
       "    <tr>\n",
       "      <th>1666</th>\n",
       "      <td>zz plant</td>\n",
       "      <td>True</td>\n",
       "      <td>-0.1</td>\n",
       "      <td>-379.0</td>\n",
       "      <td>-2</td>\n",
       "      <td>-2</td>\n",
       "      <td>-2</td>\n",
       "      <td>2</td>\n",
       "      <td>0</td>\n",
       "      <td>0</td>\n",
       "      <td>0.864707</td>\n",
       "      <td>5.00</td>\n",
       "      <td>B07RJYZ7W3</td>\n",
       "      <td>B07QD5FXRZ</td>\n",
       "    </tr>\n",
       "  </tbody>\n",
       "</table>\n",
       "<p>1667 rows × 14 columns</p>\n",
       "</div>"
      ],
      "text/plain": [
       "              search_term  placed_higher  stars_delta  reviews_delta  \\\n",
       "0            #10 envelope           True          0.0        -1654.0   \n",
       "1             #6 envelope          False          0.1         7844.0   \n",
       "2           1 inch binder           True          0.0        -9383.0   \n",
       "3                 1% milk          False          0.0          183.0   \n",
       "4         10 dollar gifts          False          0.8        75410.0   \n",
       "...                   ...            ...          ...            ...   \n",
       "1662            zwave hub          False          0.8          848.0   \n",
       "1663  zxzy womens hoodies          False         -0.1            6.0   \n",
       "1664        zyliss knives           True          0.0        -3010.0   \n",
       "1665      zyrtec for kids          False         -0.2         2184.0   \n",
       "1666             zz plant           True         -0.1         -379.0   \n",
       "\n",
       "      is_shipped_by_amazon  is_sold_by_amazon  is_amazon  is_top_clicked  \\\n",
       "0                        0                  0         -2               0   \n",
       "1                        0                  0          2               2   \n",
       "2                        0                  2         -2               0   \n",
       "3                        0                  0          0               2   \n",
       "4                       -2                  0          0               0   \n",
       "...                    ...                ...        ...             ...   \n",
       "1662                     0                  0          0               2   \n",
       "1663                     0                  0          0               0   \n",
       "1664                     0                  0          0               0   \n",
       "1665                     2                  0          0               0   \n",
       "1666                    -2                 -2         -2               2   \n",
       "\n",
       "      is_amazons_choice  is_best_seller  random_noise  price_difference  \\\n",
       "0                     0               2      0.248205            -11.00   \n",
       "1                     0               0      0.539421             -6.12   \n",
       "2                     2              -2     -0.688909             10.72   \n",
       "3                     0               0     -0.660239              1.10   \n",
       "4                     0              -2     -0.350984              0.01   \n",
       "...                 ...             ...           ...               ...   \n",
       "1662                  0               0     -2.192503             98.00   \n",
       "1663                  0               0      0.923685              8.00   \n",
       "1664                 -2               0      0.095042             -8.00   \n",
       "1665                  2               0     -1.782325              3.54   \n",
       "1666                  0               0      0.864707              5.00   \n",
       "\n",
       "          asin_1      asin_2  \n",
       "0     B01D0OANU4  B06VVLD2GL  \n",
       "1     B06X15WSLL  B07JNXMBSX  \n",
       "2     B00A45VF2S  B01BRGTWOA  \n",
       "3     B07WC9MMPD  B07W5Z8SJ8  \n",
       "4     B00F4CEHNK  B07FCNYND8  \n",
       "...          ...         ...  \n",
       "1662  B07D19VVTX  B077Y939JQ  \n",
       "1663  B08F7RFZGP  B08KT3BD2X  \n",
       "1664  B0753SKVZX  B01DKEB5OC  \n",
       "1665  B004E0QGOQ  B088X7151W  \n",
       "1666  B07RJYZ7W3  B07QD5FXRZ  \n",
       "\n",
       "[1667 rows x 14 columns]"
      ]
     },
     "execution_count": 48,
     "metadata": {},
     "output_type": "execute_result"
    }
   ],
   "source": [
    "training_data"
   ]
  },
  {
   "cell_type": "code",
   "execution_count": 17,
   "metadata": {},
   "outputs": [
    {
     "data": {
      "text/plain": [
       "(1333, 334)"
      ]
     },
     "execution_count": 17,
     "metadata": {},
     "output_type": "execute_result"
    }
   ],
   "source": [
    "x, y = train_test_split(training_data, test_size=.2)\n",
    "len(x), len(y)"
   ]
  },
  {
   "cell_type": "markdown",
   "metadata": {},
   "source": [
    "## Gridsearch\n",
    "We use gridsearch with 5-fold cross validation to determine the optimal hyperparameters."
   ]
  },
  {
   "cell_type": "code",
   "execution_count": 31,
   "metadata": {},
   "outputs": [],
   "source": [
    "random_seed = 303\n",
    "parameters = {'n_estimators':(100, 300, 500), 'max_depth':[3,5,7,9], 'random_state':[random_seed]}"
   ]
  },
  {
   "cell_type": "code",
   "execution_count": 33,
   "metadata": {},
   "outputs": [],
   "source": [
    "forest = RandomForestClassifier()\n",
    "grid = GridSearchCV(forest, parameters, n_jobs=-1, cv=5)\n",
    "X_train, X_test, y_train, y_test = train_test_split(training_data[cols],\n",
    "                                                    training_data[target],\n",
    "                                                    test_size=.25, random_state=random_seed)\n",
    "grid.fit(X_train, y_train)"
   ]
  },
  {
   "cell_type": "code",
   "execution_count": 35,
   "metadata": {},
   "outputs": [
    {
     "data": {
      "text/plain": [
       "0.7314148681055156"
      ]
     },
     "execution_count": 35,
     "metadata": {},
     "output_type": "execute_result"
    }
   ],
   "source": [
    "grid.score(X_test, y_test)"
   ]
  },
  {
   "cell_type": "code",
   "execution_count": 36,
   "metadata": {},
   "outputs": [
    {
     "data": {
      "text/plain": [
       "{'max_depth': 7, 'n_estimators': 300, 'random_state': 303}"
      ]
     },
     "execution_count": 36,
     "metadata": {},
     "output_type": "execute_result"
    }
   ],
   "source": [
    "grid.best_params_"
   ]
  },
  {
   "cell_type": "code",
   "execution_count": 16,
   "metadata": {},
   "outputs": [
    {
     "data": {
      "text/plain": [
       "search_term             #10 envelope\n",
       "placed_higher                   True\n",
       "stars_delta                        0\n",
       "reviews_delta                  -1654\n",
       "is_shipped_by_amazon               0\n",
       "is_sold_by_amazon                  0\n",
       "is_amazon                         -2\n",
       "is_top_clicked                     0\n",
       "is_amazons_choice                  0\n",
       "is_best_seller                     2\n",
       "random_noise               -0.882479\n",
       "asin_1                    B01D0OANU4\n",
       "asin_2                    B06VVLD2GL\n",
       "Name: 0, dtype: object"
      ]
     },
     "execution_count": 16,
     "metadata": {},
     "output_type": "execute_result"
    }
   ],
   "source": [
    "training_data.iloc[0]"
   ]
  },
  {
   "cell_type": "code",
   "execution_count": 37,
   "metadata": {},
   "outputs": [
    {
     "data": {
      "text/plain": [
       "0.7584"
      ]
     },
     "execution_count": 37,
     "metadata": {},
     "output_type": "execute_result"
    }
   ],
   "source": [
    "grid.best_score_"
   ]
  },
  {
   "cell_type": "markdown",
   "metadata": {},
   "source": [
    "## Alation Study"
   ]
  },
  {
   "cell_type": "code",
   "execution_count": 71,
   "metadata": {},
   "outputs": [],
   "source": [
    "def fit_model_cv(df, variable, target, model, cv=10):\n",
    "    \"\"\"Fits a model and gets mean accuracy from k-folds cross validation\"\"\"\n",
    "    is_multivariate = True if isinstance(variable, list) else False   \n",
    "    X = df[variable]\n",
    "    y = df[target]\n",
    "    X_2d = X if is_multivariate else np.expand_dims(X.values, axis=1)  \n",
    "    scores = cross_val_score(model, X, y, cv=cv)\n",
    "    accuracy = scores.mean()\n",
    "    std = scores.std()\n",
    "    return accuracy, std"
   ]
  },
  {
   "cell_type": "code",
   "execution_count": 48,
   "metadata": {},
   "outputs": [],
   "source": [
    "def fit_model(df, variable, \n",
    "              target, model, cv=10):\n",
    "    \"\"\"Fits a model and gets accuracy\"\"\"\n",
    "    is_multivariate = True if isinstance(variable, list) else False   \n",
    "    X = df[variable]\n",
    "    y = df[target]\n",
    "    X_2d = X if is_multivariate else np.expand_dims(X.values, axis=1)  \n",
    "    \n",
    "    X_train, X_test, y_train, y_test = train_test_split(\n",
    "        X_2d, y, random_state=random_seed, test_size=.2,\n",
    "    )\n",
    "    model.fit(X_train, y_train)\n",
    "    accuracy = model.score(X_test, y_test)\n",
    "    \n",
    "    return accuracy, _"
   ]
  },
  {
   "cell_type": "code",
   "execution_count": 146,
   "metadata": {},
   "outputs": [],
   "source": [
    "def get_performance(cat2performance, knockout=['Change of Accuracy_abs']):\n",
    "    \"\"\"\n",
    "    Converts a performance dictionary to a table\n",
    "    \"\"\"\n",
    "    perf = pd.DataFrame([\n",
    "        {\"Feature\": k, \"Accuracy\" :v} for k, v in cat2performance.items()\n",
    "    ])\n",
    "    perf['Change of Accuracy'] = perf['Accuracy'].apply(lambda x: x - perf['Accuracy'].iloc[0]) * 100\n",
    "    perf['Change of Accuracy_abs'] = perf['Accuracy'].apply(lambda x: \n",
    "                                                         round(abs(x - perf['Accuracy'].iloc[0]), 2)) * 100                                                \n",
    "    perf.sort_values(by=['Change of Accuracy_abs', 'Feature'], ascending=False, inplace=True)\n",
    "    perf = perf[[c for c in perf.columns if c not in knockout]]\n",
    "    return perf.style.format({\n",
    "        'Accuracy': '{:,.1%}'.format,\n",
    "        'Change of Accuracy': '{:.1f}'.format,\n",
    "    })"
   ]
  },
  {
   "cell_type": "code",
   "execution_count": 136,
   "metadata": {},
   "outputs": [],
   "source": [
    "cols = ['stars_delta', 'reviews_delta',\n",
    "        'is_amazon',\n",
    "       'is_shipped_by_amazon', 'is_sold_by_amazon', \n",
    "        'is_top_clicked',\n",
    "        'random_noise']\n",
    "\n",
    "target = 'placed_higher'"
   ]
  },
  {
   "cell_type": "code",
   "execution_count": 139,
   "metadata": {},
   "outputs": [],
   "source": [
    "n_trees = 300\n",
    "max_tree_depth = 7"
   ]
  },
  {
   "cell_type": "code",
   "execution_count": 138,
   "metadata": {},
   "outputs": [
    {
     "name": "stdout",
     "output_type": "stream",
     "text": [
      "All features (n_test = 333): 75.82%\n",
      "without stars_delta: 74.99% +/- 2.713\n",
      "without reviews_delta: 73.12% +/- 2.569\n",
      "without is_amazon: 64.55% +/- 2.264\n",
      "without is_shipped_by_amazon: 75.29% +/- 2.454\n",
      "without is_sold_by_amazon: 75.23% +/- 2.576\n",
      "without is_top_clicked: 76.19% +/- 2.356\n",
      "without random_noise: 75.47% +/- 2.537\n"
     ]
    }
   ],
   "source": [
    "cat2performance = {}\n",
    "\n",
    "forest = RandomForestClassifier(n_estimators=n_trees, max_depth=max_tree_depth, \n",
    "                                n_jobs=-1, random_state=303)\n",
    "score, std = fit_model_cv(training_data, variable=cols, target=target, model=forest)\n",
    "print(f\"All features (n_test = {int(len(training_data) * .2):,}): {score * 100 :.4}%\")\n",
    "cat2performance[\"All Features\"] = score\n",
    "for col in cols:\n",
    "    clf =  RandomForestClassifier(n_estimators=n_trees, max_depth=max_tree_depth,\n",
    "                                  n_jobs=-1, random_state=303)\n",
    "    # knock out the column\n",
    "    iv = [c for c in cols if c not in col]\n",
    "    score, std = fit_model_cv(training_data, variable=iv, target=target, model=clf)\n",
    "    print(f\"without {col}: {score * 100 :.4}% +/- {std * 100 :.2}\")\n",
    "    cat2performance[f\"without {col}\"] = score"
   ]
  },
  {
   "cell_type": "code",
   "execution_count": 152,
   "metadata": {},
   "outputs": [
    {
     "name": "stdout",
     "output_type": "stream",
     "text": [
      "All features (n_test = 333): 71.26%\n",
      "without stars_delta: 73.05%\n",
      "without reviews_delta: 69.76%\n",
      "without price_delta: 70.96%\n",
      "without stars_delta_perc: 70.96%\n",
      "without reviews_delta_perc: 72.46%\n",
      "without price_delta_perc: 71.26%\n",
      "without is_amazon: 61.68%\n",
      "without is_shipped_by_amazon: 71.56%\n",
      "without is_sold_by_amazon: 72.75%\n",
      "without is_top_clicked: 71.26%\n",
      "without random_noise: 71.56%\n"
     ]
    }
   ],
   "source": [
    "# cat2performance = {}\n",
    "\n",
    "# forest = RandomForestClassifier(n_estimators=100, n_jobs=-1, max_depth=9, random_state=303)\n",
    "# score = fit_model(training_data, variable=cols, target=target, model=forest)\n",
    "# print(f\"All features (n_test = {int(len(training_data) * .2):,}): {score * 100 :.4}%\")\n",
    "# cat2performance[\"All Features\"] = score\n",
    "# for col in cols:\n",
    "#     clf =  RandomForestClassifier(n_estimators=100, n_jobs=-1, max_depth=9, random_state=303)\n",
    "#     iv = [c for c in cols if c not in col]\n",
    "#     score = fit_model(training_data, variable=iv, target=target, model=clf)\n",
    "#     print(f\"without {col}: {score * 100 :.4}%\")\n",
    "#     cat2performance[f\"without {col}\"] = score"
   ]
  },
  {
   "cell_type": "code",
   "execution_count": 147,
   "metadata": {},
   "outputs": [
    {
     "data": {
      "text/html": [
       "<style  type=\"text/css\" >\n",
       "</style><table id=\"T_ff7d197c_01df_11ec_aac3_0c9d9287d90c\" ><thead>    <tr>        <th class=\"blank level0\" ></th>        <th class=\"col_heading level0 col0\" >Feature</th>        <th class=\"col_heading level0 col1\" >Accuracy</th>        <th class=\"col_heading level0 col2\" >Change of Accuracy</th>    </tr></thead><tbody>\n",
       "                <tr>\n",
       "                        <th id=\"T_ff7d197c_01df_11ec_aac3_0c9d9287d90clevel0_row0\" class=\"row_heading level0 row0\" >3</th>\n",
       "                        <td id=\"T_ff7d197c_01df_11ec_aac3_0c9d9287d90crow0_col0\" class=\"data row0 col0\" >without is_amazon</td>\n",
       "                        <td id=\"T_ff7d197c_01df_11ec_aac3_0c9d9287d90crow0_col1\" class=\"data row0 col1\" >64.5%</td>\n",
       "                        <td id=\"T_ff7d197c_01df_11ec_aac3_0c9d9287d90crow0_col2\" class=\"data row0 col2\" >-11.3</td>\n",
       "            </tr>\n",
       "            <tr>\n",
       "                        <th id=\"T_ff7d197c_01df_11ec_aac3_0c9d9287d90clevel0_row1\" class=\"row_heading level0 row1\" >2</th>\n",
       "                        <td id=\"T_ff7d197c_01df_11ec_aac3_0c9d9287d90crow1_col0\" class=\"data row1 col0\" >without reviews_delta</td>\n",
       "                        <td id=\"T_ff7d197c_01df_11ec_aac3_0c9d9287d90crow1_col1\" class=\"data row1 col1\" >73.1%</td>\n",
       "                        <td id=\"T_ff7d197c_01df_11ec_aac3_0c9d9287d90crow1_col2\" class=\"data row1 col2\" >-2.7</td>\n",
       "            </tr>\n",
       "            <tr>\n",
       "                        <th id=\"T_ff7d197c_01df_11ec_aac3_0c9d9287d90clevel0_row2\" class=\"row_heading level0 row2\" >1</th>\n",
       "                        <td id=\"T_ff7d197c_01df_11ec_aac3_0c9d9287d90crow2_col0\" class=\"data row2 col0\" >without stars_delta</td>\n",
       "                        <td id=\"T_ff7d197c_01df_11ec_aac3_0c9d9287d90crow2_col1\" class=\"data row2 col1\" >75.0%</td>\n",
       "                        <td id=\"T_ff7d197c_01df_11ec_aac3_0c9d9287d90crow2_col2\" class=\"data row2 col2\" >-0.8</td>\n",
       "            </tr>\n",
       "            <tr>\n",
       "                        <th id=\"T_ff7d197c_01df_11ec_aac3_0c9d9287d90clevel0_row3\" class=\"row_heading level0 row3\" >5</th>\n",
       "                        <td id=\"T_ff7d197c_01df_11ec_aac3_0c9d9287d90crow3_col0\" class=\"data row3 col0\" >without is_sold_by_amazon</td>\n",
       "                        <td id=\"T_ff7d197c_01df_11ec_aac3_0c9d9287d90crow3_col1\" class=\"data row3 col1\" >75.2%</td>\n",
       "                        <td id=\"T_ff7d197c_01df_11ec_aac3_0c9d9287d90crow3_col2\" class=\"data row3 col2\" >-0.6</td>\n",
       "            </tr>\n",
       "            <tr>\n",
       "                        <th id=\"T_ff7d197c_01df_11ec_aac3_0c9d9287d90clevel0_row4\" class=\"row_heading level0 row4\" >4</th>\n",
       "                        <td id=\"T_ff7d197c_01df_11ec_aac3_0c9d9287d90crow4_col0\" class=\"data row4 col0\" >without is_shipped_by_amazon</td>\n",
       "                        <td id=\"T_ff7d197c_01df_11ec_aac3_0c9d9287d90crow4_col1\" class=\"data row4 col1\" >75.3%</td>\n",
       "                        <td id=\"T_ff7d197c_01df_11ec_aac3_0c9d9287d90crow4_col2\" class=\"data row4 col2\" >-0.5</td>\n",
       "            </tr>\n",
       "            <tr>\n",
       "                        <th id=\"T_ff7d197c_01df_11ec_aac3_0c9d9287d90clevel0_row5\" class=\"row_heading level0 row5\" >7</th>\n",
       "                        <td id=\"T_ff7d197c_01df_11ec_aac3_0c9d9287d90crow5_col0\" class=\"data row5 col0\" >without random_noise</td>\n",
       "                        <td id=\"T_ff7d197c_01df_11ec_aac3_0c9d9287d90crow5_col1\" class=\"data row5 col1\" >75.5%</td>\n",
       "                        <td id=\"T_ff7d197c_01df_11ec_aac3_0c9d9287d90crow5_col2\" class=\"data row5 col2\" >-0.4</td>\n",
       "            </tr>\n",
       "            <tr>\n",
       "                        <th id=\"T_ff7d197c_01df_11ec_aac3_0c9d9287d90clevel0_row6\" class=\"row_heading level0 row6\" >6</th>\n",
       "                        <td id=\"T_ff7d197c_01df_11ec_aac3_0c9d9287d90crow6_col0\" class=\"data row6 col0\" >without is_top_clicked</td>\n",
       "                        <td id=\"T_ff7d197c_01df_11ec_aac3_0c9d9287d90crow6_col1\" class=\"data row6 col1\" >76.2%</td>\n",
       "                        <td id=\"T_ff7d197c_01df_11ec_aac3_0c9d9287d90crow6_col2\" class=\"data row6 col2\" >0.4</td>\n",
       "            </tr>\n",
       "            <tr>\n",
       "                        <th id=\"T_ff7d197c_01df_11ec_aac3_0c9d9287d90clevel0_row7\" class=\"row_heading level0 row7\" >0</th>\n",
       "                        <td id=\"T_ff7d197c_01df_11ec_aac3_0c9d9287d90crow7_col0\" class=\"data row7 col0\" >All Features</td>\n",
       "                        <td id=\"T_ff7d197c_01df_11ec_aac3_0c9d9287d90crow7_col1\" class=\"data row7 col1\" >75.8%</td>\n",
       "                        <td id=\"T_ff7d197c_01df_11ec_aac3_0c9d9287d90crow7_col2\" class=\"data row7 col2\" >0.0</td>\n",
       "            </tr>\n",
       "    </tbody></table>"
      ],
      "text/plain": [
       "<pandas.io.formats.style.Styler at 0x7ff65ae47b20>"
      ]
     },
     "execution_count": 147,
     "metadata": {},
     "output_type": "execute_result"
    }
   ],
   "source": [
    "get_performance(cat2performance)"
   ]
  },
  {
   "cell_type": "code",
   "execution_count": 151,
   "metadata": {},
   "outputs": [
    {
     "name": "stdout",
     "output_type": "stream",
     "text": [
      "with just stars_delta: 52.97% +/- 2.3\n",
      "with just reviews_delta: 53.39% +/- 3.4\n",
      "with just is_amazon: 72.17% +/- 3.5\n",
      "with just is_shipped_by_amazon: 53.69% +/- 2.8\n",
      "with just is_sold_by_amazon: 58.49% +/- 1.9\n",
      "with just is_top_clicked: 56.63% +/- 3.7\n",
      "with just random_noise: 47.45% +/- 4.9\n"
     ]
    }
   ],
   "source": [
    "cat2performance_standalone = {}\n",
    "\n",
    "for col in cols:\n",
    "    clf =  RandomForestClassifier(n_estimators=300, n_jobs=-1, max_depth=7, random_state=303)\n",
    "    score, std = fit_model_cv(training_data, variable=[col], target=target, model=clf)\n",
    "    print(f\"with just {col}: {score * 100 :.4}% +/- {std * 100 :.2}\")\n",
    "    cat2performance_standalone[f\"with just {col}\"] = score"
   ]
  },
  {
   "cell_type": "code",
   "execution_count": 152,
   "metadata": {},
   "outputs": [
    {
     "data": {
      "text/html": [
       "<style  type=\"text/css\" >\n",
       "</style><table id=\"T_3338385a_01e0_11ec_aac3_0c9d9287d90c\" ><thead>    <tr>        <th class=\"blank level0\" ></th>        <th class=\"col_heading level0 col0\" >Feature</th>        <th class=\"col_heading level0 col1\" >Accuracy</th>    </tr></thead><tbody>\n",
       "                <tr>\n",
       "                        <th id=\"T_3338385a_01e0_11ec_aac3_0c9d9287d90clevel0_row0\" class=\"row_heading level0 row0\" >2</th>\n",
       "                        <td id=\"T_3338385a_01e0_11ec_aac3_0c9d9287d90crow0_col0\" class=\"data row0 col0\" >with just is_amazon</td>\n",
       "                        <td id=\"T_3338385a_01e0_11ec_aac3_0c9d9287d90crow0_col1\" class=\"data row0 col1\" >72.2%</td>\n",
       "            </tr>\n",
       "            <tr>\n",
       "                        <th id=\"T_3338385a_01e0_11ec_aac3_0c9d9287d90clevel0_row1\" class=\"row_heading level0 row1\" >6</th>\n",
       "                        <td id=\"T_3338385a_01e0_11ec_aac3_0c9d9287d90crow1_col0\" class=\"data row1 col0\" >with just random_noise</td>\n",
       "                        <td id=\"T_3338385a_01e0_11ec_aac3_0c9d9287d90crow1_col1\" class=\"data row1 col1\" >47.5%</td>\n",
       "            </tr>\n",
       "            <tr>\n",
       "                        <th id=\"T_3338385a_01e0_11ec_aac3_0c9d9287d90clevel0_row2\" class=\"row_heading level0 row2\" >4</th>\n",
       "                        <td id=\"T_3338385a_01e0_11ec_aac3_0c9d9287d90crow2_col0\" class=\"data row2 col0\" >with just is_sold_by_amazon</td>\n",
       "                        <td id=\"T_3338385a_01e0_11ec_aac3_0c9d9287d90crow2_col1\" class=\"data row2 col1\" >58.5%</td>\n",
       "            </tr>\n",
       "            <tr>\n",
       "                        <th id=\"T_3338385a_01e0_11ec_aac3_0c9d9287d90clevel0_row3\" class=\"row_heading level0 row3\" >5</th>\n",
       "                        <td id=\"T_3338385a_01e0_11ec_aac3_0c9d9287d90crow3_col0\" class=\"data row3 col0\" >with just is_top_clicked</td>\n",
       "                        <td id=\"T_3338385a_01e0_11ec_aac3_0c9d9287d90crow3_col1\" class=\"data row3 col1\" >56.6%</td>\n",
       "            </tr>\n",
       "            <tr>\n",
       "                        <th id=\"T_3338385a_01e0_11ec_aac3_0c9d9287d90clevel0_row4\" class=\"row_heading level0 row4\" >3</th>\n",
       "                        <td id=\"T_3338385a_01e0_11ec_aac3_0c9d9287d90crow4_col0\" class=\"data row4 col0\" >with just is_shipped_by_amazon</td>\n",
       "                        <td id=\"T_3338385a_01e0_11ec_aac3_0c9d9287d90crow4_col1\" class=\"data row4 col1\" >53.7%</td>\n",
       "            </tr>\n",
       "            <tr>\n",
       "                        <th id=\"T_3338385a_01e0_11ec_aac3_0c9d9287d90clevel0_row5\" class=\"row_heading level0 row5\" >0</th>\n",
       "                        <td id=\"T_3338385a_01e0_11ec_aac3_0c9d9287d90crow5_col0\" class=\"data row5 col0\" >with just stars_delta</td>\n",
       "                        <td id=\"T_3338385a_01e0_11ec_aac3_0c9d9287d90crow5_col1\" class=\"data row5 col1\" >53.0%</td>\n",
       "            </tr>\n",
       "            <tr>\n",
       "                        <th id=\"T_3338385a_01e0_11ec_aac3_0c9d9287d90clevel0_row6\" class=\"row_heading level0 row6\" >1</th>\n",
       "                        <td id=\"T_3338385a_01e0_11ec_aac3_0c9d9287d90crow6_col0\" class=\"data row6 col0\" >with just reviews_delta</td>\n",
       "                        <td id=\"T_3338385a_01e0_11ec_aac3_0c9d9287d90crow6_col1\" class=\"data row6 col1\" >53.4%</td>\n",
       "            </tr>\n",
       "    </tbody></table>"
      ],
      "text/plain": [
       "<pandas.io.formats.style.Styler at 0x7ff627156fa0>"
      ]
     },
     "execution_count": 152,
     "metadata": {},
     "output_type": "execute_result"
    }
   ],
   "source": [
    "get_performance(cat2performance_standalone, \n",
    "                knockout=['Change of Accuracy_abs', 'Change of Accuracy'])"
   ]
  },
  {
   "cell_type": "markdown",
   "metadata": {},
   "source": [
    "## Ablation study with every possible permutation of the feature sets"
   ]
  },
  {
   "cell_type": "code",
   "execution_count": 156,
   "metadata": {},
   "outputs": [],
   "source": [
    "permutations = set()\n",
    "for r in range(len(cols)):\n",
    "    permutations.update(combinations(cols, r+1))"
   ]
  },
  {
   "cell_type": "code",
   "execution_count": null,
   "metadata": {},
   "outputs": [],
   "source": [
    "cat2performance = {}\n",
    "for iv in tqdm(perms):\n",
    "    clf =  RandomForestClassifier(n_estimators=300, max_depth=7, \n",
    "                                  n_jobs=-1, random_state=303)\n",
    "    score, std = fit_model_cv(training_data, variable=list(iv), \n",
    "                              target=target, model=clf)\n",
    "    cat2performance[iv] = score"
   ]
  },
  {
   "cell_type": "code",
   "execution_count": null,
   "metadata": {},
   "outputs": [],
   "source": [
    "df = pd.DataFrame([{\"cols\" : k, \"accuracy\": v } for k, v in cat2performance.items()])\n",
    "df.sort_values(\"accuracy\", inplace=True)"
   ]
  },
  {
   "cell_type": "code",
   "execution_count": null,
   "metadata": {},
   "outputs": [],
   "source": [
    "df.to_csv('../data/output/tables/random_forest_permutations.csv')"
   ]
  },
  {
   "cell_type": "markdown",
   "metadata": {},
   "source": [
    "## Feature Importance"
   ]
  },
  {
   "cell_type": "code",
   "execution_count": 153,
   "metadata": {},
   "outputs": [
    {
     "data": {
      "image/png": "[encoded data removed]",
      "text/plain": [
       "<Figure size 576x432 with 1 Axes>"
      ]
     },
     "metadata": {
      "needs_background": "light"
     },
     "output_type": "display_data"
    }
   ],
   "source": [
    "forest = RandomForestClassifier(n_estimators=300, n_jobs=-1, max_depth=7, random_state=303)\n",
    "score = fit_model(training_data, variable=cols, target=target, model=forest)\n",
    "\n",
    "feature_names = cols\n",
    "importances = forest.feature_importances_\n",
    "forest_importances = pd.Series(importances, index=feature_names)\n",
    "forest_importances.sort_values(inplace=True, ascending=True)\n",
    "\n",
    "fig, ax = plt.subplots(figsize=(8, 6))\n",
    "forest_importances.plot.barh(ax=ax, color='grey')\n",
    "# ax.set_ylabel(\"Features\")\n",
    "ax.set_xlabel(\"Feature Importance\")\n",
    "\n",
    "# Hide the right and top spines\n",
    "ax.spines['right'].set_visible(False)\n",
    "ax.spines['top'].set_visible(False)\n",
    "\n",
    "# Only show ticks on the left and bottom spines\n",
    "ax.yaxis.set_ticks_position('left')\n",
    "ax.xaxis.set_ticks_position('bottom') # Hide the right and top spines\n",
    "ax.spines['right'].set_visible(False)\n",
    "ax.spines['top'].set_visible(False)\n",
    "\n",
    "# Only show ticks on the left and bottom spines\n",
    "ax.yaxis.set_ticks_position('left')\n",
    "ax.xaxis.set_ticks_position('bottom')\n",
    "\n",
    "fig.tight_layout()"
   ]
  },
  {
   "cell_type": "markdown",
   "metadata": {},
   "source": [
    "## performance predicting who gets placed beyond the second posting\n"
   ]
  },
  {
   "cell_type": "code",
   "execution_count": 169,
   "metadata": {},
   "outputs": [
    {
     "data": {
      "text/plain": [
       "56320"
      ]
     },
     "execution_count": 169,
     "metadata": {},
     "output_type": "execute_result"
    }
   ],
   "source": [
    "len(trainig_data)"
   ]
  },
  {
   "cell_type": "code",
   "execution_count": null,
   "metadata": {},
   "outputs": [
    {
     "name": "stderr",
     "output_type": "stream",
     "text": [
      "  0%|          | 0/4525 [00:00<?, ?it/s]"
     ]
    },
    {
     "name": "stdout",
     "output_type": "stream",
     "text": [
      "Up to 2...\n"
     ]
    },
    {
     "name": "stderr",
     "output_type": "stream",
     "text": [
      "100%|██████████| 4525/4525 [00:10<00:00, 414.07it/s]\n",
      "  0%|          | 0/4525 [00:00<?, ?it/s]"
     ]
    },
    {
     "name": "stdout",
     "output_type": "stream",
     "text": [
      "Up to 3...\n"
     ]
    },
    {
     "name": "stderr",
     "output_type": "stream",
     "text": [
      "100%|██████████| 4525/4525 [00:17<00:00, 266.01it/s]\n",
      "  0%|          | 0/4525 [00:00<?, ?it/s]"
     ]
    },
    {
     "name": "stdout",
     "output_type": "stream",
     "text": [
      "Up to 4...\n"
     ]
    },
    {
     "name": "stderr",
     "output_type": "stream",
     "text": [
      "100%|██████████| 4525/4525 [00:22<00:00, 198.06it/s]\n",
      "  0%|          | 0/4525 [00:00<?, ?it/s]"
     ]
    },
    {
     "name": "stdout",
     "output_type": "stream",
     "text": [
      "Up to 5...\n"
     ]
    },
    {
     "name": "stderr",
     "output_type": "stream",
     "text": [
      "100%|██████████| 4525/4525 [00:28<00:00, 157.93it/s]\n",
      "  0%|          | 0/4525 [00:00<?, ?it/s]"
     ]
    },
    {
     "name": "stdout",
     "output_type": "stream",
     "text": [
      "Up to 6...\n"
     ]
    },
    {
     "name": "stderr",
     "output_type": "stream",
     "text": [
      "100%|██████████| 4525/4525 [00:34<00:00, 130.15it/s]\n",
      "  0%|          | 0/4525 [00:00<?, ?it/s]"
     ]
    },
    {
     "name": "stdout",
     "output_type": "stream",
     "text": [
      "Up to 7...\n"
     ]
    },
    {
     "name": "stderr",
     "output_type": "stream",
     "text": [
      "100%|██████████| 4525/4525 [00:40<00:00, 110.79it/s]\n",
      "  0%|          | 0/4525 [00:00<?, ?it/s]"
     ]
    },
    {
     "name": "stdout",
     "output_type": "stream",
     "text": [
      "Up to 8...\n"
     ]
    },
    {
     "name": "stderr",
     "output_type": "stream",
     "text": [
      "100%|██████████| 4525/4525 [00:46<00:00, 97.53it/s] \n",
      "  0%|          | 0/4525 [00:00<?, ?it/s]"
     ]
    },
    {
     "name": "stdout",
     "output_type": "stream",
     "text": [
      "Up to 9...\n"
     ]
    },
    {
     "name": "stderr",
     "output_type": "stream",
     "text": [
      "100%|██████████| 4525/4525 [00:52<00:00, 86.01it/s] \n",
      "  0%|          | 0/4525 [00:00<?, ?it/s]"
     ]
    },
    {
     "name": "stdout",
     "output_type": "stream",
     "text": [
      "Up to 10...\n"
     ]
    },
    {
     "name": "stderr",
     "output_type": "stream",
     "text": [
      "100%|██████████| 4525/4525 [00:59<00:00, 76.14it/s] \n",
      "  0%|          | 0/4525 [00:00<?, ?it/s]"
     ]
    },
    {
     "name": "stdout",
     "output_type": "stream",
     "text": [
      "Up to 11...\n"
     ]
    },
    {
     "name": "stderr",
     "output_type": "stream",
     "text": [
      "100%|██████████| 4525/4525 [01:05<00:00, 69.22it/s] \n",
      "  0%|          | 0/4525 [00:00<?, ?it/s]"
     ]
    },
    {
     "name": "stdout",
     "output_type": "stream",
     "text": [
      "Up to 12...\n"
     ]
    },
    {
     "name": "stderr",
     "output_type": "stream",
     "text": [
      "100%|██████████| 4525/4525 [01:12<00:00, 62.47it/s] \n",
      "  0%|          | 0/4525 [00:00<?, ?it/s]"
     ]
    },
    {
     "name": "stdout",
     "output_type": "stream",
     "text": [
      "Up to 13...\n"
     ]
    },
    {
     "name": "stderr",
     "output_type": "stream",
     "text": [
      "100%|██████████| 4525/4525 [01:19<00:00, 57.03it/s] \n",
      "  0%|          | 0/4525 [00:00<?, ?it/s]"
     ]
    },
    {
     "name": "stdout",
     "output_type": "stream",
     "text": [
      "Up to 14...\n"
     ]
    },
    {
     "name": "stderr",
     "output_type": "stream",
     "text": [
      "100%|██████████| 4525/4525 [01:27<00:00, 51.97it/s] \n",
      "  0%|          | 0/4525 [00:00<?, ?it/s]"
     ]
    },
    {
     "name": "stdout",
     "output_type": "stream",
     "text": [
      "Up to 15...\n"
     ]
    },
    {
     "name": "stderr",
     "output_type": "stream",
     "text": [
      "100%|██████████| 4525/4525 [01:31<00:00, 49.27it/s] \n",
      "  0%|          | 0/4525 [00:00<?, ?it/s]"
     ]
    },
    {
     "name": "stdout",
     "output_type": "stream",
     "text": [
      "Up to 16...\n"
     ]
    },
    {
     "name": "stderr",
     "output_type": "stream",
     "text": [
      "100%|██████████| 4525/4525 [01:39<00:00, 45.61it/s] \n",
      "  0%|          | 0/4525 [00:00<?, ?it/s]"
     ]
    },
    {
     "name": "stdout",
     "output_type": "stream",
     "text": [
      "Up to 17...\n"
     ]
    },
    {
     "name": "stderr",
     "output_type": "stream",
     "text": [
      "100%|██████████| 4525/4525 [01:46<00:00, 42.31it/s] \n",
      "  0%|          | 0/4525 [00:00<?, ?it/s]"
     ]
    },
    {
     "name": "stdout",
     "output_type": "stream",
     "text": [
      "Up to 18...\n"
     ]
    },
    {
     "name": "stderr",
     "output_type": "stream",
     "text": [
      "100%|██████████| 4525/4525 [01:53<00:00, 39.86it/s] \n",
      "  0%|          | 0/4525 [00:00<?, ?it/s]"
     ]
    },
    {
     "name": "stdout",
     "output_type": "stream",
     "text": [
      "Up to 19...\n"
     ]
    },
    {
     "name": "stderr",
     "output_type": "stream",
     "text": [
      "100%|██████████| 4525/4525 [01:59<00:00, 37.80it/s] \n",
      "  0%|          | 0/4525 [00:00<?, ?it/s]"
     ]
    },
    {
     "name": "stdout",
     "output_type": "stream",
     "text": [
      "Up to 20...\n"
     ]
    },
    {
     "name": "stderr",
     "output_type": "stream",
     "text": [
      "100%|██████████| 4525/4525 [02:06<00:00, 35.83it/s] \n",
      "  0%|          | 0/4525 [00:00<?, ?it/s]"
     ]
    },
    {
     "name": "stdout",
     "output_type": "stream",
     "text": [
      "Up to 21...\n"
     ]
    },
    {
     "name": "stderr",
     "output_type": "stream",
     "text": [
      "100%|██████████| 4525/4525 [02:12<00:00, 34.08it/s] \n",
      "  0%|          | 0/4525 [00:00<?, ?it/s]"
     ]
    },
    {
     "name": "stdout",
     "output_type": "stream",
     "text": [
      "Up to 22...\n"
     ]
    },
    {
     "name": "stderr",
     "output_type": "stream",
     "text": [
      "100%|██████████| 4525/4525 [02:16<00:00, 33.13it/s] \n",
      "  0%|          | 0/4525 [00:00<?, ?it/s]"
     ]
    },
    {
     "name": "stdout",
     "output_type": "stream",
     "text": [
      "Up to 23...\n"
     ]
    },
    {
     "name": "stderr",
     "output_type": "stream",
     "text": [
      "100%|██████████| 4525/4525 [02:24<00:00, 31.40it/s] \n",
      "  0%|          | 0/4525 [00:00<?, ?it/s]"
     ]
    },
    {
     "name": "stdout",
     "output_type": "stream",
     "text": [
      "Up to 24...\n"
     ]
    },
    {
     "name": "stderr",
     "output_type": "stream",
     "text": [
      "100%|██████████| 4525/4525 [02:31<00:00, 29.90it/s]\n",
      "  0%|          | 0/4525 [00:00<?, ?it/s]"
     ]
    },
    {
     "name": "stdout",
     "output_type": "stream",
     "text": [
      "Up to 25...\n"
     ]
    },
    {
     "name": "stderr",
     "output_type": "stream",
     "text": [
      "100%|██████████| 4525/4525 [02:37<00:00, 28.68it/s]\n",
      "  0%|          | 0/4525 [00:00<?, ?it/s]"
     ]
    },
    {
     "name": "stdout",
     "output_type": "stream",
     "text": [
      "Up to 26...\n"
     ]
    },
    {
     "name": "stderr",
     "output_type": "stream",
     "text": [
      "100%|██████████| 4525/4525 [02:44<00:00, 27.45it/s]\n"
     ]
    }
   ],
   "source": [
    "permformance = []\n",
    "for n in range(2, 41):\n",
    "    print(f\"Up to {n}...\")\n",
    "    training_data = produce_training_set(_df, last_product_position=n)\n",
    "    \n",
    "    cat2performance = {}\n",
    "    forest = RandomForestClassifier(n_estimators=n_trees, \n",
    "                                    max_depth=max_tree_depth, \n",
    "                                    n_jobs=-1, random_state=random_seed)\n",
    "    score, std = fit_model_cv(training_data, variable=cols, target=target, model=forest)\n",
    "    cat2performance[\"All Features\"] = score\n",
    "    for col in cols:\n",
    "        clf =  RandomForestClassifier(n_estimators=n_trees, \n",
    "                                      max_depth=max_tree_depth,\n",
    "                                      n_jobs=-1, random_state=random_seed)\n",
    "        iv = [c for c in cols if c not in col]\n",
    "        score, std = fit_model_cv(training_data, variable=iv, target=target, model=clf)\n",
    "        cat2performance[f\"without {col}\"] = score\n",
    "    \n",
    "    cat2performance[\"up_to_product\"] = n\n",
    "    permformance.append(cat2performance)"
   ]
  },
  {
   "cell_type": "code",
   "execution_count": 172,
   "metadata": {},
   "outputs": [],
   "source": [
    "df_performance = pd.DataFrame(permformance)"
   ]
  },
  {
   "cell_type": "code",
   "execution_count": 173,
   "metadata": {},
   "outputs": [
    {
     "data": {
      "text/html": [
       "<div>\n",
       "<style scoped>\n",
       "    .dataframe tbody tr th:only-of-type {\n",
       "        vertical-align: middle;\n",
       "    }\n",
       "\n",
       "    .dataframe tbody tr th {\n",
       "        vertical-align: top;\n",
       "    }\n",
       "\n",
       "    .dataframe thead th {\n",
       "        text-align: right;\n",
       "    }\n",
       "</style>\n",
       "<table border=\"1\" class=\"dataframe\">\n",
       "  <thead>\n",
       "    <tr style=\"text-align: right;\">\n",
       "      <th></th>\n",
       "      <th>All Features</th>\n",
       "      <th>without stars_delta</th>\n",
       "      <th>without reviews_delta</th>\n",
       "      <th>without is_amazon</th>\n",
       "      <th>without is_shipped_by_amazon</th>\n",
       "      <th>without is_sold_by_amazon</th>\n",
       "      <th>without is_top_clicked</th>\n",
       "      <th>without random_noise</th>\n",
       "      <th>up_to_product</th>\n",
       "    </tr>\n",
       "  </thead>\n",
       "  <tbody>\n",
       "    <tr>\n",
       "      <th>0</th>\n",
       "      <td>0.758239</td>\n",
       "      <td>0.749888</td>\n",
       "      <td>0.731246</td>\n",
       "      <td>0.645495</td>\n",
       "      <td>0.752879</td>\n",
       "      <td>0.752265</td>\n",
       "      <td>0.761857</td>\n",
       "      <td>0.754679</td>\n",
       "      <td>2</td>\n",
       "    </tr>\n",
       "    <tr>\n",
       "      <th>1</th>\n",
       "      <td>0.752169</td>\n",
       "      <td>0.756073</td>\n",
       "      <td>0.738070</td>\n",
       "      <td>0.639678</td>\n",
       "      <td>0.754574</td>\n",
       "      <td>0.753069</td>\n",
       "      <td>0.749765</td>\n",
       "      <td>0.754272</td>\n",
       "      <td>3</td>\n",
       "    </tr>\n",
       "    <tr>\n",
       "      <th>2</th>\n",
       "      <td>0.758513</td>\n",
       "      <td>0.757111</td>\n",
       "      <td>0.742896</td>\n",
       "      <td>0.639058</td>\n",
       "      <td>0.760112</td>\n",
       "      <td>0.761315</td>\n",
       "      <td>0.756910</td>\n",
       "      <td>0.755508</td>\n",
       "      <td>4</td>\n",
       "    </tr>\n",
       "    <tr>\n",
       "      <th>3</th>\n",
       "      <td>0.764666</td>\n",
       "      <td>0.770370</td>\n",
       "      <td>0.745604</td>\n",
       "      <td>0.649711</td>\n",
       "      <td>0.763013</td>\n",
       "      <td>0.764816</td>\n",
       "      <td>0.758662</td>\n",
       "      <td>0.767218</td>\n",
       "      <td>5</td>\n",
       "    </tr>\n",
       "    <tr>\n",
       "      <th>4</th>\n",
       "      <td>0.767479</td>\n",
       "      <td>0.769160</td>\n",
       "      <td>0.751019</td>\n",
       "      <td>0.656259</td>\n",
       "      <td>0.768919</td>\n",
       "      <td>0.768199</td>\n",
       "      <td>0.765677</td>\n",
       "      <td>0.767719</td>\n",
       "      <td>6</td>\n",
       "    </tr>\n",
       "    <tr>\n",
       "      <th>5</th>\n",
       "      <td>0.774051</td>\n",
       "      <td>0.776854</td>\n",
       "      <td>0.753025</td>\n",
       "      <td>0.654919</td>\n",
       "      <td>0.772751</td>\n",
       "      <td>0.773051</td>\n",
       "      <td>0.769546</td>\n",
       "      <td>0.774251</td>\n",
       "      <td>7</td>\n",
       "    </tr>\n",
       "    <tr>\n",
       "      <th>6</th>\n",
       "      <td>0.780207</td>\n",
       "      <td>0.782010</td>\n",
       "      <td>0.756775</td>\n",
       "      <td>0.664607</td>\n",
       "      <td>0.780036</td>\n",
       "      <td>0.779607</td>\n",
       "      <td>0.774284</td>\n",
       "      <td>0.780121</td>\n",
       "      <td>8</td>\n",
       "    </tr>\n",
       "    <tr>\n",
       "      <th>7</th>\n",
       "      <td>0.783611</td>\n",
       "      <td>0.784437</td>\n",
       "      <td>0.763932</td>\n",
       "      <td>0.670572</td>\n",
       "      <td>0.784288</td>\n",
       "      <td>0.783611</td>\n",
       "      <td>0.778728</td>\n",
       "      <td>0.784737</td>\n",
       "      <td>9</td>\n",
       "    </tr>\n",
       "    <tr>\n",
       "      <th>8</th>\n",
       "      <td>0.784761</td>\n",
       "      <td>0.787032</td>\n",
       "      <td>0.765392</td>\n",
       "      <td>0.676106</td>\n",
       "      <td>0.783959</td>\n",
       "      <td>0.783292</td>\n",
       "      <td>0.779885</td>\n",
       "      <td>0.786097</td>\n",
       "      <td>10</td>\n",
       "    </tr>\n",
       "    <tr>\n",
       "      <th>9</th>\n",
       "      <td>0.786088</td>\n",
       "      <td>0.788793</td>\n",
       "      <td>0.761557</td>\n",
       "      <td>0.681898</td>\n",
       "      <td>0.786749</td>\n",
       "      <td>0.785486</td>\n",
       "      <td>0.784464</td>\n",
       "      <td>0.787470</td>\n",
       "      <td>11</td>\n",
       "    </tr>\n",
       "    <tr>\n",
       "      <th>10</th>\n",
       "      <td>0.787959</td>\n",
       "      <td>0.787959</td>\n",
       "      <td>0.762205</td>\n",
       "      <td>0.683633</td>\n",
       "      <td>0.786701</td>\n",
       "      <td>0.784842</td>\n",
       "      <td>0.782327</td>\n",
       "      <td>0.787959</td>\n",
       "      <td>12</td>\n",
       "    </tr>\n",
       "    <tr>\n",
       "      <th>11</th>\n",
       "      <td>0.784353</td>\n",
       "      <td>0.784905</td>\n",
       "      <td>0.759930</td>\n",
       "      <td>0.687212</td>\n",
       "      <td>0.783601</td>\n",
       "      <td>0.783852</td>\n",
       "      <td>0.780742</td>\n",
       "      <td>0.783952</td>\n",
       "      <td>13</td>\n",
       "    </tr>\n",
       "    <tr>\n",
       "      <th>12</th>\n",
       "      <td>0.781401</td>\n",
       "      <td>0.783672</td>\n",
       "      <td>0.760644</td>\n",
       "      <td>0.687903</td>\n",
       "      <td>0.783625</td>\n",
       "      <td>0.782652</td>\n",
       "      <td>0.778111</td>\n",
       "      <td>0.782513</td>\n",
       "      <td>14</td>\n",
       "    </tr>\n",
       "    <tr>\n",
       "      <th>13</th>\n",
       "      <td>0.784127</td>\n",
       "      <td>0.786066</td>\n",
       "      <td>0.758445</td>\n",
       "      <td>0.691013</td>\n",
       "      <td>0.784257</td>\n",
       "      <td>0.784472</td>\n",
       "      <td>0.781499</td>\n",
       "      <td>0.784515</td>\n",
       "      <td>15</td>\n",
       "    </tr>\n",
       "    <tr>\n",
       "      <th>14</th>\n",
       "      <td>0.786831</td>\n",
       "      <td>0.788120</td>\n",
       "      <td>0.755318</td>\n",
       "      <td>0.692296</td>\n",
       "      <td>0.784454</td>\n",
       "      <td>0.785420</td>\n",
       "      <td>0.780826</td>\n",
       "      <td>0.787193</td>\n",
       "      <td>16</td>\n",
       "    </tr>\n",
       "    <tr>\n",
       "      <th>15</th>\n",
       "      <td>0.787347</td>\n",
       "      <td>0.788143</td>\n",
       "      <td>0.763200</td>\n",
       "      <td>0.693415</td>\n",
       "      <td>0.785907</td>\n",
       "      <td>0.786703</td>\n",
       "      <td>0.781206</td>\n",
       "      <td>0.787840</td>\n",
       "      <td>17</td>\n",
       "    </tr>\n",
       "    <tr>\n",
       "      <th>16</th>\n",
       "      <td>0.786984</td>\n",
       "      <td>0.788023</td>\n",
       "      <td>0.762327</td>\n",
       "      <td>0.695025</td>\n",
       "      <td>0.785191</td>\n",
       "      <td>0.784009</td>\n",
       "      <td>0.780604</td>\n",
       "      <td>0.787270</td>\n",
       "      <td>18</td>\n",
       "    </tr>\n",
       "    <tr>\n",
       "      <th>17</th>\n",
       "      <td>0.787559</td>\n",
       "      <td>0.789839</td>\n",
       "      <td>0.758974</td>\n",
       "      <td>0.696974</td>\n",
       "      <td>0.786164</td>\n",
       "      <td>0.786368</td>\n",
       "      <td>0.781332</td>\n",
       "      <td>0.788172</td>\n",
       "      <td>19</td>\n",
       "    </tr>\n",
       "    <tr>\n",
       "      <th>18</th>\n",
       "      <td>0.787977</td>\n",
       "      <td>0.788885</td>\n",
       "      <td>0.758146</td>\n",
       "      <td>0.696475</td>\n",
       "      <td>0.784767</td>\n",
       "      <td>0.785318</td>\n",
       "      <td>0.780552</td>\n",
       "      <td>0.788366</td>\n",
       "      <td>20</td>\n",
       "    </tr>\n",
       "    <tr>\n",
       "      <th>19</th>\n",
       "      <td>0.788143</td>\n",
       "      <td>0.790683</td>\n",
       "      <td>0.762001</td>\n",
       "      <td>0.698724</td>\n",
       "      <td>0.785263</td>\n",
       "      <td>0.785727</td>\n",
       "      <td>0.780245</td>\n",
       "      <td>0.788855</td>\n",
       "      <td>21</td>\n",
       "    </tr>\n",
       "    <tr>\n",
       "      <th>20</th>\n",
       "      <td>0.786834</td>\n",
       "      <td>0.787843</td>\n",
       "      <td>0.759495</td>\n",
       "      <td>0.698324</td>\n",
       "      <td>0.784581</td>\n",
       "      <td>0.785678</td>\n",
       "      <td>0.779777</td>\n",
       "      <td>0.787842</td>\n",
       "      <td>22</td>\n",
       "    </tr>\n",
       "    <tr>\n",
       "      <th>21</th>\n",
       "      <td>0.786877</td>\n",
       "      <td>0.789038</td>\n",
       "      <td>0.764889</td>\n",
       "      <td>0.698931</td>\n",
       "      <td>0.785341</td>\n",
       "      <td>0.786052</td>\n",
       "      <td>0.780022</td>\n",
       "      <td>0.788157</td>\n",
       "      <td>23</td>\n",
       "    </tr>\n",
       "    <tr>\n",
       "      <th>22</th>\n",
       "      <td>0.787613</td>\n",
       "      <td>0.789908</td>\n",
       "      <td>0.762386</td>\n",
       "      <td>0.699389</td>\n",
       "      <td>0.784524</td>\n",
       "      <td>0.786492</td>\n",
       "      <td>0.781381</td>\n",
       "      <td>0.788378</td>\n",
       "      <td>24</td>\n",
       "    </tr>\n",
       "    <tr>\n",
       "      <th>23</th>\n",
       "      <td>0.789267</td>\n",
       "      <td>0.789951</td>\n",
       "      <td>0.763014</td>\n",
       "      <td>0.700249</td>\n",
       "      <td>0.785663</td>\n",
       "      <td>0.786452</td>\n",
       "      <td>0.779902</td>\n",
       "      <td>0.789267</td>\n",
       "      <td>25</td>\n",
       "    </tr>\n",
       "    <tr>\n",
       "      <th>24</th>\n",
       "      <td>0.788568</td>\n",
       "      <td>0.789355</td>\n",
       "      <td>0.766482</td>\n",
       "      <td>0.700375</td>\n",
       "      <td>0.785652</td>\n",
       "      <td>0.786438</td>\n",
       "      <td>0.781037</td>\n",
       "      <td>0.788568</td>\n",
       "      <td>26</td>\n",
       "    </tr>\n",
       "    <tr>\n",
       "      <th>25</th>\n",
       "      <td>0.788500</td>\n",
       "      <td>0.790336</td>\n",
       "      <td>0.764852</td>\n",
       "      <td>0.699762</td>\n",
       "      <td>0.786174</td>\n",
       "      <td>0.786003</td>\n",
       "      <td>0.780544</td>\n",
       "      <td>0.789112</td>\n",
       "      <td>27</td>\n",
       "    </tr>\n",
       "    <tr>\n",
       "      <th>26</th>\n",
       "      <td>0.790244</td>\n",
       "      <td>0.790315</td>\n",
       "      <td>0.768140</td>\n",
       "      <td>0.700785</td>\n",
       "      <td>0.785037</td>\n",
       "      <td>0.786197</td>\n",
       "      <td>0.781487</td>\n",
       "      <td>0.790102</td>\n",
       "      <td>28</td>\n",
       "    </tr>\n",
       "    <tr>\n",
       "      <th>27</th>\n",
       "      <td>0.789093</td>\n",
       "      <td>0.790170</td>\n",
       "      <td>0.764875</td>\n",
       "      <td>0.700217</td>\n",
       "      <td>0.785473</td>\n",
       "      <td>0.787558</td>\n",
       "      <td>0.779470</td>\n",
       "      <td>0.789391</td>\n",
       "      <td>29</td>\n",
       "    </tr>\n",
       "    <tr>\n",
       "      <th>28</th>\n",
       "      <td>0.788663</td>\n",
       "      <td>0.789729</td>\n",
       "      <td>0.765452</td>\n",
       "      <td>0.699598</td>\n",
       "      <td>0.784421</td>\n",
       "      <td>0.786153</td>\n",
       "      <td>0.780645</td>\n",
       "      <td>0.789418</td>\n",
       "      <td>30</td>\n",
       "    </tr>\n",
       "    <tr>\n",
       "      <th>29</th>\n",
       "      <td>0.789007</td>\n",
       "      <td>0.789848</td>\n",
       "      <td>0.767487</td>\n",
       "      <td>0.701354</td>\n",
       "      <td>0.784953</td>\n",
       "      <td>0.786117</td>\n",
       "      <td>0.782020</td>\n",
       "      <td>0.788877</td>\n",
       "      <td>31</td>\n",
       "    </tr>\n",
       "    <tr>\n",
       "      <th>30</th>\n",
       "      <td>0.790344</td>\n",
       "      <td>0.791266</td>\n",
       "      <td>0.769451</td>\n",
       "      <td>0.700949</td>\n",
       "      <td>0.785797</td>\n",
       "      <td>0.786635</td>\n",
       "      <td>0.780872</td>\n",
       "      <td>0.790072</td>\n",
       "      <td>32</td>\n",
       "    </tr>\n",
       "    <tr>\n",
       "      <th>31</th>\n",
       "      <td>0.790334</td>\n",
       "      <td>0.790844</td>\n",
       "      <td>0.771472</td>\n",
       "      <td>0.700897</td>\n",
       "      <td>0.785706</td>\n",
       "      <td>0.787255</td>\n",
       "      <td>0.780771</td>\n",
       "      <td>0.790518</td>\n",
       "      <td>33</td>\n",
       "    </tr>\n",
       "    <tr>\n",
       "      <th>32</th>\n",
       "      <td>0.790634</td>\n",
       "      <td>0.791449</td>\n",
       "      <td>0.771600</td>\n",
       "      <td>0.702322</td>\n",
       "      <td>0.786581</td>\n",
       "      <td>0.787256</td>\n",
       "      <td>0.780461</td>\n",
       "      <td>0.790713</td>\n",
       "      <td>34</td>\n",
       "    </tr>\n",
       "    <tr>\n",
       "      <th>33</th>\n",
       "      <td>0.791318</td>\n",
       "      <td>0.792849</td>\n",
       "      <td>0.766473</td>\n",
       "      <td>0.701880</td>\n",
       "      <td>0.787946</td>\n",
       "      <td>0.788702</td>\n",
       "      <td>0.781531</td>\n",
       "      <td>0.791783</td>\n",
       "      <td>35</td>\n",
       "    </tr>\n",
       "    <tr>\n",
       "      <th>34</th>\n",
       "      <td>0.791589</td>\n",
       "      <td>0.793084</td>\n",
       "      <td>0.768916</td>\n",
       "      <td>0.702544</td>\n",
       "      <td>0.788107</td>\n",
       "      <td>0.789186</td>\n",
       "      <td>0.781975</td>\n",
       "      <td>0.792725</td>\n",
       "      <td>36</td>\n",
       "    </tr>\n",
       "    <tr>\n",
       "      <th>35</th>\n",
       "      <td>0.793563</td>\n",
       "      <td>0.793730</td>\n",
       "      <td>0.768728</td>\n",
       "      <td>0.703198</td>\n",
       "      <td>0.789658</td>\n",
       "      <td>0.791120</td>\n",
       "      <td>0.782441</td>\n",
       "      <td>0.793323</td>\n",
       "      <td>37</td>\n",
       "    </tr>\n",
       "    <tr>\n",
       "      <th>36</th>\n",
       "      <td>0.793442</td>\n",
       "      <td>0.795127</td>\n",
       "      <td>0.771866</td>\n",
       "      <td>0.703931</td>\n",
       "      <td>0.789928</td>\n",
       "      <td>0.790616</td>\n",
       "      <td>0.783822</td>\n",
       "      <td>0.793533</td>\n",
       "      <td>38</td>\n",
       "    </tr>\n",
       "    <tr>\n",
       "      <th>37</th>\n",
       "      <td>0.794389</td>\n",
       "      <td>0.794940</td>\n",
       "      <td>0.774041</td>\n",
       "      <td>0.703995</td>\n",
       "      <td>0.791069</td>\n",
       "      <td>0.791300</td>\n",
       "      <td>0.783807</td>\n",
       "      <td>0.794070</td>\n",
       "      <td>39</td>\n",
       "    </tr>\n",
       "    <tr>\n",
       "      <th>38</th>\n",
       "      <td>0.793380</td>\n",
       "      <td>0.793920</td>\n",
       "      <td>0.773815</td>\n",
       "      <td>0.704599</td>\n",
       "      <td>0.790784</td>\n",
       "      <td>0.792091</td>\n",
       "      <td>0.784739</td>\n",
       "      <td>0.793990</td>\n",
       "      <td>40</td>\n",
       "    </tr>\n",
       "  </tbody>\n",
       "</table>\n",
       "</div>"
      ],
      "text/plain": [
       "    All Features  without stars_delta  without reviews_delta  \\\n",
       "0       0.758239             0.749888               0.731246   \n",
       "1       0.752169             0.756073               0.738070   \n",
       "2       0.758513             0.757111               0.742896   \n",
       "3       0.764666             0.770370               0.745604   \n",
       "4       0.767479             0.769160               0.751019   \n",
       "5       0.774051             0.776854               0.753025   \n",
       "6       0.780207             0.782010               0.756775   \n",
       "7       0.783611             0.784437               0.763932   \n",
       "8       0.784761             0.787032               0.765392   \n",
       "9       0.786088             0.788793               0.761557   \n",
       "10      0.787959             0.787959               0.762205   \n",
       "11      0.784353             0.784905               0.759930   \n",
       "12      0.781401             0.783672               0.760644   \n",
       "13      0.784127             0.786066               0.758445   \n",
       "14      0.786831             0.788120               0.755318   \n",
       "15      0.787347             0.788143               0.763200   \n",
       "16      0.786984             0.788023               0.762327   \n",
       "17      0.787559             0.789839               0.758974   \n",
       "18      0.787977             0.788885               0.758146   \n",
       "19      0.788143             0.790683               0.762001   \n",
       "20      0.786834             0.787843               0.759495   \n",
       "21      0.786877             0.789038               0.764889   \n",
       "22      0.787613             0.789908               0.762386   \n",
       "23      0.789267             0.789951               0.763014   \n",
       "24      0.788568             0.789355               0.766482   \n",
       "25      0.788500             0.790336               0.764852   \n",
       "26      0.790244             0.790315               0.768140   \n",
       "27      0.789093             0.790170               0.764875   \n",
       "28      0.788663             0.789729               0.765452   \n",
       "29      0.789007             0.789848               0.767487   \n",
       "30      0.790344             0.791266               0.769451   \n",
       "31      0.790334             0.790844               0.771472   \n",
       "32      0.790634             0.791449               0.771600   \n",
       "33      0.791318             0.792849               0.766473   \n",
       "34      0.791589             0.793084               0.768916   \n",
       "35      0.793563             0.793730               0.768728   \n",
       "36      0.793442             0.795127               0.771866   \n",
       "37      0.794389             0.794940               0.774041   \n",
       "38      0.793380             0.793920               0.773815   \n",
       "\n",
       "    without is_amazon  without is_shipped_by_amazon  \\\n",
       "0            0.645495                      0.752879   \n",
       "1            0.639678                      0.754574   \n",
       "2            0.639058                      0.760112   \n",
       "3            0.649711                      0.763013   \n",
       "4            0.656259                      0.768919   \n",
       "5            0.654919                      0.772751   \n",
       "6            0.664607                      0.780036   \n",
       "7            0.670572                      0.784288   \n",
       "8            0.676106                      0.783959   \n",
       "9            0.681898                      0.786749   \n",
       "10           0.683633                      0.786701   \n",
       "11           0.687212                      0.783601   \n",
       "12           0.687903                      0.783625   \n",
       "13           0.691013                      0.784257   \n",
       "14           0.692296                      0.784454   \n",
       "15           0.693415                      0.785907   \n",
       "16           0.695025                      0.785191   \n",
       "17           0.696974                      0.786164   \n",
       "18           0.696475                      0.784767   \n",
       "19           0.698724                      0.785263   \n",
       "20           0.698324                      0.784581   \n",
       "21           0.698931                      0.785341   \n",
       "22           0.699389                      0.784524   \n",
       "23           0.700249                      0.785663   \n",
       "24           0.700375                      0.785652   \n",
       "25           0.699762                      0.786174   \n",
       "26           0.700785                      0.785037   \n",
       "27           0.700217                      0.785473   \n",
       "28           0.699598                      0.784421   \n",
       "29           0.701354                      0.784953   \n",
       "30           0.700949                      0.785797   \n",
       "31           0.700897                      0.785706   \n",
       "32           0.702322                      0.786581   \n",
       "33           0.701880                      0.787946   \n",
       "34           0.702544                      0.788107   \n",
       "35           0.703198                      0.789658   \n",
       "36           0.703931                      0.789928   \n",
       "37           0.703995                      0.791069   \n",
       "38           0.704599                      0.790784   \n",
       "\n",
       "    without is_sold_by_amazon  without is_top_clicked  without random_noise  \\\n",
       "0                    0.752265                0.761857              0.754679   \n",
       "1                    0.753069                0.749765              0.754272   \n",
       "2                    0.761315                0.756910              0.755508   \n",
       "3                    0.764816                0.758662              0.767218   \n",
       "4                    0.768199                0.765677              0.767719   \n",
       "5                    0.773051                0.769546              0.774251   \n",
       "6                    0.779607                0.774284              0.780121   \n",
       "7                    0.783611                0.778728              0.784737   \n",
       "8                    0.783292                0.779885              0.786097   \n",
       "9                    0.785486                0.784464              0.787470   \n",
       "10                   0.784842                0.782327              0.787959   \n",
       "11                   0.783852                0.780742              0.783952   \n",
       "12                   0.782652                0.778111              0.782513   \n",
       "13                   0.784472                0.781499              0.784515   \n",
       "14                   0.785420                0.780826              0.787193   \n",
       "15                   0.786703                0.781206              0.787840   \n",
       "16                   0.784009                0.780604              0.787270   \n",
       "17                   0.786368                0.781332              0.788172   \n",
       "18                   0.785318                0.780552              0.788366   \n",
       "19                   0.785727                0.780245              0.788855   \n",
       "20                   0.785678                0.779777              0.787842   \n",
       "21                   0.786052                0.780022              0.788157   \n",
       "22                   0.786492                0.781381              0.788378   \n",
       "23                   0.786452                0.779902              0.789267   \n",
       "24                   0.786438                0.781037              0.788568   \n",
       "25                   0.786003                0.780544              0.789112   \n",
       "26                   0.786197                0.781487              0.790102   \n",
       "27                   0.787558                0.779470              0.789391   \n",
       "28                   0.786153                0.780645              0.789418   \n",
       "29                   0.786117                0.782020              0.788877   \n",
       "30                   0.786635                0.780872              0.790072   \n",
       "31                   0.787255                0.780771              0.790518   \n",
       "32                   0.787256                0.780461              0.790713   \n",
       "33                   0.788702                0.781531              0.791783   \n",
       "34                   0.789186                0.781975              0.792725   \n",
       "35                   0.791120                0.782441              0.793323   \n",
       "36                   0.790616                0.783822              0.793533   \n",
       "37                   0.791300                0.783807              0.794070   \n",
       "38                   0.792091                0.784739              0.793990   \n",
       "\n",
       "    up_to_product  \n",
       "0               2  \n",
       "1               3  \n",
       "2               4  \n",
       "3               5  \n",
       "4               6  \n",
       "5               7  \n",
       "6               8  \n",
       "7               9  \n",
       "8              10  \n",
       "9              11  \n",
       "10             12  \n",
       "11             13  \n",
       "12             14  \n",
       "13             15  \n",
       "14             16  \n",
       "15             17  \n",
       "16             18  \n",
       "17             19  \n",
       "18             20  \n",
       "19             21  \n",
       "20             22  \n",
       "21             23  \n",
       "22             24  \n",
       "23             25  \n",
       "24             26  \n",
       "25             27  \n",
       "26             28  \n",
       "27             29  \n",
       "28             30  \n",
       "29             31  \n",
       "30             32  \n",
       "31             33  \n",
       "32             34  \n",
       "33             35  \n",
       "34             36  \n",
       "35             37  \n",
       "36             38  \n",
       "37             39  \n",
       "38             40  "
      ]
     },
     "execution_count": 173,
     "metadata": {},
     "output_type": "execute_result"
    }
   ],
   "source": [
    "df_performance"
   ]
  },
  {
   "cell_type": "code",
   "execution_count": 195,
   "metadata": {},
   "outputs": [
    {
     "data": {
      "image/png": "[encoded data removed]",
      "text/plain": [
       "<Figure size 504x720 with 1 Axes>"
      ]
     },
     "metadata": {
      "needs_background": "light"
     },
     "output_type": "display_data"
    }
   ],
   "source": [
    "ax = df_performance.set_index('up_to_product').plot(figsize=(7, 10),\n",
    "                                                    kind='line',\n",
    "                                                    alpha=.7,\n",
    "                                                    style='.-',\n",
    "                                                    title=\"Model Performance comparing the first product through the Nth product\")\n",
    "plt.legend(loc='center left', bbox_to_anchor=(1.0, 0.5))\n",
    "# Hide the right and top spines\n",
    "ax.spines['right'].set_visible(False)\n",
    "ax.spines['top'].set_visible(False)"
   ]
  },
  {
   "cell_type": "markdown",
   "metadata": {},
   "source": [
    "## Distributions of features:"
   ]
  },
  {
   "cell_type": "markdown",
   "metadata": {},
   "source": [
    "0 means they are both X\n",
    "-2 means they are both NOT X\n",
    "2 means one is X and one is NOT X"
   ]
  },
  {
   "cell_type": "code",
   "execution_count": 166,
   "metadata": {},
   "outputs": [
    {
     "data": {
      "text/plain": [
       " 0    0.486465\n",
       " 2    0.257787\n",
       "-2    0.255748\n",
       "Name: is_amazon, dtype: float64"
      ]
     },
     "execution_count": 166,
     "metadata": {},
     "output_type": "execute_result"
    }
   ],
   "source": [
    "training_data['is_amazon'].value_counts(normalize=True)"
   ]
  },
  {
   "cell_type": "code",
   "execution_count": 167,
   "metadata": {},
   "outputs": [
    {
     "data": {
      "text/plain": [
       " 0    0.706770\n",
       " 2    0.147393\n",
       "-2    0.145837\n",
       "Name: is_shipped_by_amazon, dtype: float64"
      ]
     },
     "execution_count": 167,
     "metadata": {},
     "output_type": "execute_result"
    }
   ],
   "source": [
    "training_data['is_shipped_by_amazon'].value_counts(normalize=True)"
   ]
  },
  {
   "cell_type": "code",
   "execution_count": 168,
   "metadata": {},
   "outputs": [
    {
     "data": {
      "text/plain": [
       " 0    0.536012\n",
       " 2    0.232663\n",
       "-2    0.231325\n",
       "Name: is_sold_by_amazon, dtype: float64"
      ]
     },
     "execution_count": 168,
     "metadata": {},
     "output_type": "execute_result"
    }
   ],
   "source": [
    "training_data['is_sold_by_amazon'].value_counts(normalize=True)"
   ]
  },
  {
   "cell_type": "code",
   "execution_count": 169,
   "metadata": {},
   "outputs": [
    {
     "data": {
      "text/plain": [
       " 0    0.844497\n",
       "-2    0.078748\n",
       " 2    0.076755\n",
       "Name: is_best_seller, dtype: float64"
      ]
     },
     "execution_count": 169,
     "metadata": {},
     "output_type": "execute_result"
    }
   ],
   "source": [
    "training_data['is_best_seller'].value_counts(normalize=True)"
   ]
  },
  {
   "cell_type": "code",
   "execution_count": 170,
   "metadata": {},
   "outputs": [
    {
     "data": {
      "text/plain": [
       " 0    0.609016\n",
       "-2    0.196006\n",
       " 2    0.194978\n",
       "Name: is_top_clicked, dtype: float64"
      ]
     },
     "execution_count": 170,
     "metadata": {},
     "output_type": "execute_result"
    }
   ],
   "source": [
    "training_data['is_top_clicked'].value_counts(normalize=True)"
   ]
  },
  {
   "cell_type": "code",
   "execution_count": 171,
   "metadata": {},
   "outputs": [
    {
     "data": {
      "text/plain": [
       " 0    0.882835\n",
       " 2    0.060038\n",
       "-2    0.057127\n",
       "Name: is_amazons_choice, dtype: float64"
      ]
     },
     "execution_count": 171,
     "metadata": {},
     "output_type": "execute_result"
    }
   ],
   "source": [
    "training_data['is_amazons_choice'].value_counts(normalize=True)"
   ]
  },
  {
   "cell_type": "code",
   "execution_count": null,
   "metadata": {},
   "outputs": [],
   "source": []
  }
 ],
 "metadata": {
  "kernelspec": {
   "display_name": "Python 3",
   "language": "python",
   "name": "python3"
  },
  "language_info": {
   "codemirror_mode": {
    "name": "ipython",
    "version": 3
   },
   "file_extension": ".py",
   "mimetype": "text/x-python",
   "name": "python",
   "nbconvert_exporter": "python",
   "pygments_lexer": "ipython3",
   "version": "3.8.1"
  }
 },
 "nbformat": 4,
 "nbformat_minor": 4
}
