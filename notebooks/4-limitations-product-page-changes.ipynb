{
 "cells": [
  {
   "cell_type": "markdown",
   "metadata": {},
   "source": [
    "# Error Analysis of Products\n",
    "This looks at how often products' default sellers and shippers switch from Amazon to a third-party."
   ]
  },
  {
   "cell_type": "code",
   "execution_count": 1,
   "metadata": {},
   "outputs": [],
   "source": [
    "%load_ext autoreload\n",
    "%autoreload 2"
   ]
  },
  {
   "cell_type": "code",
   "execution_count": 2,
   "metadata": {},
   "outputs": [],
   "source": [
    "import os\n",
    "import re\n",
    "import glob\n",
    "import math\n",
    "import json\n",
    "from collections import Counter\n",
    "from multiprocessing import Pool\n",
    "\n",
    "from tqdm import tqdm\n",
    "from lxml import html\n",
    "import numpy as np\n",
    "import pandas as pd\n",
    "\n",
    "import parsers as P\n",
    "from parsers import process_search_result\n",
    "from utils import value_counts"
   ]
  },
  {
   "cell_type": "code",
   "execution_count": 22,
   "metadata": {},
   "outputs": [],
   "source": [
    "# inputs\n",
    "fn_prod = '../data/output/datasets/products.csv.xz'\n",
    "pattern_spot_check = '../data/input/spotcheck/selenium-products/*/*/*/2021/05/*/webpage_product.html'"
   ]
  },
  {
   "cell_type": "code",
   "execution_count": 116,
   "metadata": {},
   "outputs": [
    {
     "data": {
      "text/plain": [
       "157405"
      ]
     },
     "execution_count": 116,
     "metadata": {},
     "output_type": "execute_result"
    }
   ],
   "source": [
    "df_prod = pd.read_csv(fn_prod, compression='xz')\n",
    "len(df_prod)"
   ]
  },
  {
   "cell_type": "markdown",
   "metadata": {},
   "source": [
    "## check product pages"
   ]
  },
  {
   "cell_type": "code",
   "execution_count": 117,
   "metadata": {},
   "outputs": [
    {
     "data": {
      "text/html": [
       "<div>\n",
       "<style scoped>\n",
       "    .dataframe tbody tr th:only-of-type {\n",
       "        vertical-align: middle;\n",
       "    }\n",
       "\n",
       "    .dataframe tbody tr th {\n",
       "        vertical-align: top;\n",
       "    }\n",
       "\n",
       "    .dataframe thead th {\n",
       "        text-align: right;\n",
       "    }\n",
       "</style>\n",
       "<table border=\"1\" class=\"dataframe\">\n",
       "  <thead>\n",
       "    <tr style=\"text-align: right;\">\n",
       "      <th></th>\n",
       "      <th>count</th>\n",
       "      <th>percentage</th>\n",
       "    </tr>\n",
       "  </thead>\n",
       "  <tbody>\n",
       "    <tr>\n",
       "      <th>False</th>\n",
       "      <td>156209</td>\n",
       "      <td>0.992402</td>\n",
       "    </tr>\n",
       "    <tr>\n",
       "      <th>True</th>\n",
       "      <td>1196</td>\n",
       "      <td>0.007598</td>\n",
       "    </tr>\n",
       "  </tbody>\n",
       "</table>\n",
       "</div>"
      ],
      "text/plain": [
       "        count  percentage\n",
       "False  156209    0.992402\n",
       "True     1196    0.007598"
      ]
     },
     "execution_count": 117,
     "metadata": {},
     "output_type": "execute_result"
    }
   ],
   "source": [
    "value_counts(df_prod, \"is_page_gone\")"
   ]
  },
  {
   "cell_type": "code",
   "execution_count": 118,
   "metadata": {},
   "outputs": [
    {
     "data": {
      "text/html": [
       "<div>\n",
       "<style scoped>\n",
       "    .dataframe tbody tr th:only-of-type {\n",
       "        vertical-align: middle;\n",
       "    }\n",
       "\n",
       "    .dataframe tbody tr th {\n",
       "        vertical-align: top;\n",
       "    }\n",
       "\n",
       "    .dataframe thead th {\n",
       "        text-align: right;\n",
       "    }\n",
       "</style>\n",
       "<table border=\"1\" class=\"dataframe\">\n",
       "  <thead>\n",
       "    <tr style=\"text-align: right;\">\n",
       "      <th></th>\n",
       "      <th>count</th>\n",
       "      <th>percentage</th>\n",
       "    </tr>\n",
       "  </thead>\n",
       "  <tbody>\n",
       "    <tr>\n",
       "      <th>False</th>\n",
       "      <td>151805</td>\n",
       "      <td>0.964423</td>\n",
       "    </tr>\n",
       "    <tr>\n",
       "      <th>True</th>\n",
       "      <td>5600</td>\n",
       "      <td>0.035577</td>\n",
       "    </tr>\n",
       "  </tbody>\n",
       "</table>\n",
       "</div>"
      ],
      "text/plain": [
       "        count  percentage\n",
       "False  151805    0.964423\n",
       "True     5600    0.035577"
      ]
     },
     "execution_count": 118,
     "metadata": {},
     "output_type": "execute_result"
    }
   ],
   "source": [
    "value_counts(df_prod, \"no_buybox_winner\")"
   ]
  },
  {
   "cell_type": "code",
   "execution_count": 159,
   "metadata": {},
   "outputs": [
    {
     "data": {
      "text/plain": [
       "0.03895047806613513"
      ]
     },
     "execution_count": 159,
     "metadata": {},
     "output_type": "execute_result"
    }
   ],
   "source": [
    "len(df_prod[(df_prod.is_out_of_stock == True) |\n",
    "            (df_prod.is_page_gone == True)]) / len(df_prod)"
   ]
  },
  {
   "cell_type": "code",
   "execution_count": 119,
   "metadata": {},
   "outputs": [
    {
     "data": {
      "text/plain": [
       "False    0.615038\n",
       "True     0.282456\n",
       "True     0.102506\n",
       "Name: is_sold_by_amazon, dtype: float64"
      ]
     },
     "execution_count": 119,
     "metadata": {},
     "output_type": "execute_result"
    }
   ],
   "source": [
    "df_prod.is_sold_by_amazon.value_counts(normalize=True, dropna=False)"
   ]
  },
  {
   "cell_type": "code",
   "execution_count": 120,
   "metadata": {},
   "outputs": [
    {
     "data": {
      "text/plain": [
       "0.10250627362536133"
      ]
     },
     "execution_count": 120,
     "metadata": {},
     "output_type": "execute_result"
    }
   ],
   "source": [
    "len(df_prod[df_prod.sold_by.isnull()]) / len(df_prod)"
   ]
  },
  {
   "cell_type": "code",
   "execution_count": 14,
   "metadata": {},
   "outputs": [],
   "source": [
    "from parsers import parse_product_page"
   ]
  },
  {
   "cell_type": "code",
   "execution_count": 74,
   "metadata": {},
   "outputs": [],
   "source": [
    "fn = '../data/input/selenium-products/5/5D/B075D9RDS1/2021/02/18/webpage_product.html'"
   ]
  },
  {
   "cell_type": "code",
   "execution_count": 72,
   "metadata": {},
   "outputs": [],
   "source": [
    "fn = '../data/input/selenium-products/5/5D/B015DTI1OY/2021/02/17/webpage_product.html'"
   ]
  },
  {
   "cell_type": "code",
   "execution_count": 113,
   "metadata": {},
   "outputs": [
    {
     "data": {
      "text/plain": [
       "{'fn': '../data/input/selenium-products/S/SQ/B07SQBG2VG/2021/02/18/webpage_product.html',\n",
       " 'title': 'L.O.L Surprise Box Officially Licensed L.O.L Surprise Mystery Subscription Box',\n",
       " 'shipped_by': None,\n",
       " 'sold_by': None,\n",
       " 'has_third_party_sellers': False,\n",
       " 'product_by_amazon': False,\n",
       " 'our_brands_carousel': False,\n",
       " 'ads': [],\n",
       " 'no_buybox_winner': False,\n",
       " 'is_out_of_stock': False,\n",
       " 'is_page_gone': False,\n",
       " 'is_custom': False,\n",
       " 'suggestions': ['B07SQBG2VG', 'B07SQBG2VG']}"
      ]
     },
     "execution_count": 113,
     "metadata": {},
     "output_type": "execute_result"
    }
   ],
   "source": [
    "fn = '../data/input/selenium-products/S/SQ/B07SQBG2VG/2021/02/18/webpage_product.html'\n",
    "parse_product_page(fn)"
   ]
  },
  {
   "cell_type": "code",
   "execution_count": 87,
   "metadata": {},
   "outputs": [
    {
     "name": "stderr",
     "output_type": "stream",
     "text": [
      "100%|██████████| 1344/1344 [00:50<00:00, 26.38it/s]\n"
     ]
    }
   ],
   "source": [
    "data = []\n",
    "for fn in tqdm(to_test):\n",
    "    data.append(parse_product_page(fn))"
   ]
  },
  {
   "cell_type": "code",
   "execution_count": 107,
   "metadata": {},
   "outputs": [],
   "source": [
    "df = pd.DataFrame(data)"
   ]
  },
  {
   "cell_type": "code",
   "execution_count": 108,
   "metadata": {},
   "outputs": [],
   "source": [
    "df = df[df.is_out_of_stock == False]"
   ]
  },
  {
   "cell_type": "code",
   "execution_count": 110,
   "metadata": {},
   "outputs": [],
   "source": [
    "df['is_custom'] = df.title.apply(lambda x: any(y in x.lower() for y in [\"personalized\", \"custom\"]))"
   ]
  },
  {
   "cell_type": "code",
   "execution_count": 111,
   "metadata": {},
   "outputs": [
    {
     "data": {
      "text/plain": [
       "(0.3064113238967527, 0.09825145711906745)"
      ]
     },
     "execution_count": 111,
     "metadata": {},
     "output_type": "execute_result"
    }
   ],
   "source": [
    "len(df[df.sold_by.isnull()]) / len(df), len(df[(df.sold_by.isnull()) & (~df.is_custom ==True)]) / len(df)"
   ]
  },
  {
   "cell_type": "code",
   "execution_count": 121,
   "metadata": {},
   "outputs": [],
   "source": [
    "# df[(df.sold_by.isnull()) & (~df.is_custom ==True)].sample(100, random_state=100).fn.tolist()"
   ]
  },
  {
   "cell_type": "code",
   "execution_count": 41,
   "metadata": {
    "collapsed": true,
    "jupyter": {
     "outputs_hidden": true
    }
   },
   "outputs": [
    {
     "data": {
      "text/html": [
       "<div>\n",
       "<style scoped>\n",
       "    .dataframe tbody tr th:only-of-type {\n",
       "        vertical-align: middle;\n",
       "    }\n",
       "\n",
       "    .dataframe tbody tr th {\n",
       "        vertical-align: top;\n",
       "    }\n",
       "\n",
       "    .dataframe thead th {\n",
       "        text-align: right;\n",
       "    }\n",
       "</style>\n",
       "<table border=\"1\" class=\"dataframe\">\n",
       "  <thead>\n",
       "    <tr style=\"text-align: right;\">\n",
       "      <th></th>\n",
       "      <th>fn</th>\n",
       "      <th>title</th>\n",
       "      <th>shipped_by</th>\n",
       "      <th>sold_by</th>\n",
       "      <th>has_third_party_sellers</th>\n",
       "      <th>product_by_amazon</th>\n",
       "      <th>our_brands_carousel</th>\n",
       "      <th>ads</th>\n",
       "      <th>no_buybox_winner</th>\n",
       "      <th>is_out_of_stock</th>\n",
       "      <th>is_page_gone</th>\n",
       "      <th>suggestions</th>\n",
       "      <th>n_ads</th>\n",
       "      <th>asin</th>\n",
       "      <th>is_amazon</th>\n",
       "      <th>is_sold_by_amazon</th>\n",
       "      <th>is_shipped_by_amazon</th>\n",
       "    </tr>\n",
       "  </thead>\n",
       "  <tbody>\n",
       "    <tr>\n",
       "      <th>159</th>\n",
       "      <td>../data/input/selenium-products/5/5D/B005D0DU7...</td>\n",
       "      <td>Nature Made Extra Strength Vitamin B12 3000 mc...</td>\n",
       "      <td>NaN</td>\n",
       "      <td>NaN</td>\n",
       "      <td>False</td>\n",
       "      <td>False</td>\n",
       "      <td>True</td>\n",
       "      <td>[]</td>\n",
       "      <td>False</td>\n",
       "      <td>False</td>\n",
       "      <td>False</td>\n",
       "      <td>['B005D0DU7M', 'B005D0DU7M', 'B005D0DU7M', 'B0...</td>\n",
       "      <td>0</td>\n",
       "      <td>B005D0DU7M</td>\n",
       "      <td>False</td>\n",
       "      <td>NaN</td>\n",
       "      <td>NaN</td>\n",
       "    </tr>\n",
       "    <tr>\n",
       "      <th>451</th>\n",
       "      <td>../data/input/selenium-products/5/5F/B075FCSCT...</td>\n",
       "      <td>iHome 10\" x 13\" iCVBT10 Reflect PRO Portable, ...</td>\n",
       "      <td>NaN</td>\n",
       "      <td>NaN</td>\n",
       "      <td>True</td>\n",
       "      <td>False</td>\n",
       "      <td>False</td>\n",
       "      <td>[]</td>\n",
       "      <td>False</td>\n",
       "      <td>False</td>\n",
       "      <td>False</td>\n",
       "      <td>['B075FCSCTX', 'B075FCSCTX', 'B075FCSCTX', 'B0...</td>\n",
       "      <td>0</td>\n",
       "      <td>B075FCSCTX</td>\n",
       "      <td>False</td>\n",
       "      <td>NaN</td>\n",
       "      <td>NaN</td>\n",
       "    </tr>\n",
       "    <tr>\n",
       "      <th>455</th>\n",
       "      <td>../data/input/selenium-products/5/5F/B005FGQIL...</td>\n",
       "      <td>Amazon.com $15 Gift Cards, Pack of 3 (Holiday ...</td>\n",
       "      <td>NaN</td>\n",
       "      <td>NaN</td>\n",
       "      <td>False</td>\n",
       "      <td>False</td>\n",
       "      <td>False</td>\n",
       "      <td>[]</td>\n",
       "      <td>False</td>\n",
       "      <td>False</td>\n",
       "      <td>False</td>\n",
       "      <td>['B005FGQIL4', 'B005FGQIL4', 'B005FGQIL4', 'B0...</td>\n",
       "      <td>0</td>\n",
       "      <td>B005FGQIL4</td>\n",
       "      <td>True</td>\n",
       "      <td>NaN</td>\n",
       "      <td>NaN</td>\n",
       "    </tr>\n",
       "    <tr>\n",
       "      <th>509</th>\n",
       "      <td>../data/input/selenium-products/5/5F/B075FBPT3...</td>\n",
       "      <td>PowerA Wired Controller for Nintendo Switch - ...</td>\n",
       "      <td>NaN</td>\n",
       "      <td>NaN</td>\n",
       "      <td>True</td>\n",
       "      <td>False</td>\n",
       "      <td>True</td>\n",
       "      <td>[]</td>\n",
       "      <td>False</td>\n",
       "      <td>False</td>\n",
       "      <td>False</td>\n",
       "      <td>['B075FBPT3W', 'B075FBPT3W', 'B075FBPT3W', 'B0...</td>\n",
       "      <td>0</td>\n",
       "      <td>B075FBPT3W</td>\n",
       "      <td>False</td>\n",
       "      <td>NaN</td>\n",
       "      <td>NaN</td>\n",
       "    </tr>\n",
       "    <tr>\n",
       "      <th>817</th>\n",
       "      <td>../data/input/selenium-products/5/5S/B075SBQN6...</td>\n",
       "      <td>Kindle Publishing: A Clear Guide to Making You...</td>\n",
       "      <td>NaN</td>\n",
       "      <td>NaN</td>\n",
       "      <td>True</td>\n",
       "      <td>False</td>\n",
       "      <td>False</td>\n",
       "      <td>[]</td>\n",
       "      <td>False</td>\n",
       "      <td>False</td>\n",
       "      <td>False</td>\n",
       "      <td>['B075SBQN6S', 'B075SBQN6S', 'B084SDV2ZW', 'B0...</td>\n",
       "      <td>0</td>\n",
       "      <td>B075SBQN6S</td>\n",
       "      <td>False</td>\n",
       "      <td>NaN</td>\n",
       "      <td>NaN</td>\n",
       "    </tr>\n",
       "    <tr>\n",
       "      <th>...</th>\n",
       "      <td>...</td>\n",
       "      <td>...</td>\n",
       "      <td>...</td>\n",
       "      <td>...</td>\n",
       "      <td>...</td>\n",
       "      <td>...</td>\n",
       "      <td>...</td>\n",
       "      <td>...</td>\n",
       "      <td>...</td>\n",
       "      <td>...</td>\n",
       "      <td>...</td>\n",
       "      <td>...</td>\n",
       "      <td>...</td>\n",
       "      <td>...</td>\n",
       "      <td>...</td>\n",
       "      <td>...</td>\n",
       "      <td>...</td>\n",
       "    </tr>\n",
       "    <tr>\n",
       "      <th>156879</th>\n",
       "      <td>../data/input/selenium-products/0/0S/B000SRI5O...</td>\n",
       "      <td>Planters Nuts &amp; Chocolate M&amp;M's Trail Mix (6 o...</td>\n",
       "      <td>NaN</td>\n",
       "      <td>NaN</td>\n",
       "      <td>False</td>\n",
       "      <td>False</td>\n",
       "      <td>True</td>\n",
       "      <td>[]</td>\n",
       "      <td>False</td>\n",
       "      <td>False</td>\n",
       "      <td>False</td>\n",
       "      <td>['B000SRI5OS', 'B000SRI5OS', 'B000SRI5OS', 'B0...</td>\n",
       "      <td>0</td>\n",
       "      <td>B000SRI5OS</td>\n",
       "      <td>False</td>\n",
       "      <td>NaN</td>\n",
       "      <td>NaN</td>\n",
       "    </tr>\n",
       "    <tr>\n",
       "      <th>156935</th>\n",
       "      <td>../data/input/selenium-products/0/0S/B000SRKA6...</td>\n",
       "      <td>SKIPPY Peanut Butter Spread - Creamy - Natural...</td>\n",
       "      <td>NaN</td>\n",
       "      <td>NaN</td>\n",
       "      <td>False</td>\n",
       "      <td>False</td>\n",
       "      <td>True</td>\n",
       "      <td>[b'&lt;div id=\"ape_Detail_ams-detail-right-v2_des...</td>\n",
       "      <td>False</td>\n",
       "      <td>False</td>\n",
       "      <td>False</td>\n",
       "      <td>['B000SRKA6E', 'B000SRKA6E', 'B000SRKA6E', 'B0...</td>\n",
       "      <td>4</td>\n",
       "      <td>B000SRKA6E</td>\n",
       "      <td>False</td>\n",
       "      <td>NaN</td>\n",
       "      <td>NaN</td>\n",
       "    </tr>\n",
       "    <tr>\n",
       "      <th>157080</th>\n",
       "      <td>../data/input/selenium-products/0/02/B0002YKBV...</td>\n",
       "      <td>3M - 8511PB1-A-PS 8511 Paint Sanding N95 Cool-...</td>\n",
       "      <td>NaN</td>\n",
       "      <td>NaN</td>\n",
       "      <td>True</td>\n",
       "      <td>False</td>\n",
       "      <td>False</td>\n",
       "      <td>[b'&lt;div id=\"ape_Detail_ams-detail-right-v2_des...</td>\n",
       "      <td>False</td>\n",
       "      <td>False</td>\n",
       "      <td>False</td>\n",
       "      <td>['B0002YKBV2', 'B0002YKBV2', 'B0002YKBV2', 'B0...</td>\n",
       "      <td>5</td>\n",
       "      <td>B0002YKBV2</td>\n",
       "      <td>False</td>\n",
       "      <td>NaN</td>\n",
       "      <td>NaN</td>\n",
       "    </tr>\n",
       "    <tr>\n",
       "      <th>157220</th>\n",
       "      <td>../data/input/selenium-products/0/0O/B000O0GLS...</td>\n",
       "      <td>Cascadian Farm Organic Cut Green Beans, Premiu...</td>\n",
       "      <td>NaN</td>\n",
       "      <td>NaN</td>\n",
       "      <td>False</td>\n",
       "      <td>False</td>\n",
       "      <td>True</td>\n",
       "      <td>[b'&lt;div id=\"ape_Detail_ams-detail-right-v2_des...</td>\n",
       "      <td>False</td>\n",
       "      <td>False</td>\n",
       "      <td>False</td>\n",
       "      <td>['B000O0GLSQ', 'B000O0GLSQ', 'B000O0GLSQ', 'B0...</td>\n",
       "      <td>4</td>\n",
       "      <td>B000O0GLSQ</td>\n",
       "      <td>False</td>\n",
       "      <td>NaN</td>\n",
       "      <td>NaN</td>\n",
       "    </tr>\n",
       "    <tr>\n",
       "      <th>157350</th>\n",
       "      <td>../data/input/selenium-products/0/0X/B000XUDHA...</td>\n",
       "      <td>Animal Crackers: Stories</td>\n",
       "      <td>NaN</td>\n",
       "      <td>NaN</td>\n",
       "      <td>True</td>\n",
       "      <td>False</td>\n",
       "      <td>False</td>\n",
       "      <td>[b'&lt;div id=\"ape_Detail_dp-ads-center-promo-vid...</td>\n",
       "      <td>False</td>\n",
       "      <td>False</td>\n",
       "      <td>False</td>\n",
       "      <td>['B000XUDHA2', 'B001H6KRJ0', 'B000XUDHA2', 'B0...</td>\n",
       "      <td>1</td>\n",
       "      <td>B000XUDHA2</td>\n",
       "      <td>False</td>\n",
       "      <td>NaN</td>\n",
       "      <td>NaN</td>\n",
       "    </tr>\n",
       "  </tbody>\n",
       "</table>\n",
       "<p>1344 rows × 17 columns</p>\n",
       "</div>"
      ],
      "text/plain": [
       "                                                       fn  \\\n",
       "159     ../data/input/selenium-products/5/5D/B005D0DU7...   \n",
       "451     ../data/input/selenium-products/5/5F/B075FCSCT...   \n",
       "455     ../data/input/selenium-products/5/5F/B005FGQIL...   \n",
       "509     ../data/input/selenium-products/5/5F/B075FBPT3...   \n",
       "817     ../data/input/selenium-products/5/5S/B075SBQN6...   \n",
       "...                                                   ...   \n",
       "156879  ../data/input/selenium-products/0/0S/B000SRI5O...   \n",
       "156935  ../data/input/selenium-products/0/0S/B000SRKA6...   \n",
       "157080  ../data/input/selenium-products/0/02/B0002YKBV...   \n",
       "157220  ../data/input/selenium-products/0/0O/B000O0GLS...   \n",
       "157350  ../data/input/selenium-products/0/0X/B000XUDHA...   \n",
       "\n",
       "                                                    title shipped_by sold_by  \\\n",
       "159     Nature Made Extra Strength Vitamin B12 3000 mc...        NaN     NaN   \n",
       "451     iHome 10\" x 13\" iCVBT10 Reflect PRO Portable, ...        NaN     NaN   \n",
       "455     Amazon.com $15 Gift Cards, Pack of 3 (Holiday ...        NaN     NaN   \n",
       "509     PowerA Wired Controller for Nintendo Switch - ...        NaN     NaN   \n",
       "817     Kindle Publishing: A Clear Guide to Making You...        NaN     NaN   \n",
       "...                                                   ...        ...     ...   \n",
       "156879  Planters Nuts & Chocolate M&M's Trail Mix (6 o...        NaN     NaN   \n",
       "156935  SKIPPY Peanut Butter Spread - Creamy - Natural...        NaN     NaN   \n",
       "157080  3M - 8511PB1-A-PS 8511 Paint Sanding N95 Cool-...        NaN     NaN   \n",
       "157220  Cascadian Farm Organic Cut Green Beans, Premiu...        NaN     NaN   \n",
       "157350                           Animal Crackers: Stories        NaN     NaN   \n",
       "\n",
       "        has_third_party_sellers  product_by_amazon  our_brands_carousel  \\\n",
       "159                       False              False                 True   \n",
       "451                        True              False                False   \n",
       "455                       False              False                False   \n",
       "509                        True              False                 True   \n",
       "817                        True              False                False   \n",
       "...                         ...                ...                  ...   \n",
       "156879                    False              False                 True   \n",
       "156935                    False              False                 True   \n",
       "157080                     True              False                False   \n",
       "157220                    False              False                 True   \n",
       "157350                     True              False                False   \n",
       "\n",
       "                                                      ads  no_buybox_winner  \\\n",
       "159                                                    []             False   \n",
       "451                                                    []             False   \n",
       "455                                                    []             False   \n",
       "509                                                    []             False   \n",
       "817                                                    []             False   \n",
       "...                                                   ...               ...   \n",
       "156879                                                 []             False   \n",
       "156935  [b'<div id=\"ape_Detail_ams-detail-right-v2_des...             False   \n",
       "157080  [b'<div id=\"ape_Detail_ams-detail-right-v2_des...             False   \n",
       "157220  [b'<div id=\"ape_Detail_ams-detail-right-v2_des...             False   \n",
       "157350  [b'<div id=\"ape_Detail_dp-ads-center-promo-vid...             False   \n",
       "\n",
       "        is_out_of_stock  is_page_gone  \\\n",
       "159               False         False   \n",
       "451               False         False   \n",
       "455               False         False   \n",
       "509               False         False   \n",
       "817               False         False   \n",
       "...                 ...           ...   \n",
       "156879            False         False   \n",
       "156935            False         False   \n",
       "157080            False         False   \n",
       "157220            False         False   \n",
       "157350            False         False   \n",
       "\n",
       "                                              suggestions  n_ads        asin  \\\n",
       "159     ['B005D0DU7M', 'B005D0DU7M', 'B005D0DU7M', 'B0...      0  B005D0DU7M   \n",
       "451     ['B075FCSCTX', 'B075FCSCTX', 'B075FCSCTX', 'B0...      0  B075FCSCTX   \n",
       "455     ['B005FGQIL4', 'B005FGQIL4', 'B005FGQIL4', 'B0...      0  B005FGQIL4   \n",
       "509     ['B075FBPT3W', 'B075FBPT3W', 'B075FBPT3W', 'B0...      0  B075FBPT3W   \n",
       "817     ['B075SBQN6S', 'B075SBQN6S', 'B084SDV2ZW', 'B0...      0  B075SBQN6S   \n",
       "...                                                   ...    ...         ...   \n",
       "156879  ['B000SRI5OS', 'B000SRI5OS', 'B000SRI5OS', 'B0...      0  B000SRI5OS   \n",
       "156935  ['B000SRKA6E', 'B000SRKA6E', 'B000SRKA6E', 'B0...      4  B000SRKA6E   \n",
       "157080  ['B0002YKBV2', 'B0002YKBV2', 'B0002YKBV2', 'B0...      5  B0002YKBV2   \n",
       "157220  ['B000O0GLSQ', 'B000O0GLSQ', 'B000O0GLSQ', 'B0...      4  B000O0GLSQ   \n",
       "157350  ['B000XUDHA2', 'B001H6KRJ0', 'B000XUDHA2', 'B0...      1  B000XUDHA2   \n",
       "\n",
       "        is_amazon is_sold_by_amazon is_shipped_by_amazon  \n",
       "159         False               NaN                  NaN  \n",
       "451         False               NaN                  NaN  \n",
       "455          True               NaN                  NaN  \n",
       "509         False               NaN                  NaN  \n",
       "817         False               NaN                  NaN  \n",
       "...           ...               ...                  ...  \n",
       "156879      False               NaN                  NaN  \n",
       "156935      False               NaN                  NaN  \n",
       "157080      False               NaN                  NaN  \n",
       "157220      False               NaN                  NaN  \n",
       "157350      False               NaN                  NaN  \n",
       "\n",
       "[1344 rows x 17 columns]"
      ]
     },
     "execution_count": 41,
     "metadata": {},
     "output_type": "execute_result"
    }
   ],
   "source": [
    "df_prod[(df_prod.is_sold_by_amazon.isnull()) & \n",
    "        (~df_prod.title.isnull()) &\n",
    "        (df_prod.is_out_of_stock == False) &\n",
    "        (df_prod.no_buybox_winner == False)]"
   ]
  },
  {
   "cell_type": "code",
   "execution_count": 54,
   "metadata": {},
   "outputs": [],
   "source": [
    "to_test = df_prod[(df_prod.is_sold_by_amazon.isnull()) & \n",
    "        (~df_prod.title.isnull()) &\n",
    "        (df_prod.is_out_of_stock == False) &\n",
    "        (df_prod.no_buybox_winner == False)].fn.to_list()"
   ]
  },
  {
   "cell_type": "markdown",
   "metadata": {},
   "source": [
    "## Check re-collected product pages\n",
    "We pulled a random sample of valid product pages, and re-collected them a few months later."
   ]
  },
  {
   "cell_type": "code",
   "execution_count": 122,
   "metadata": {},
   "outputs": [
    {
     "data": {
      "text/plain": [
       "3465"
      ]
     },
     "execution_count": 122,
     "metadata": {},
     "output_type": "execute_result"
    }
   ],
   "source": [
    "files_products = glob.glob(pattern_spot_check)\n",
    "len(files_products)"
   ]
  },
  {
   "cell_type": "code",
   "execution_count": 123,
   "metadata": {},
   "outputs": [
    {
     "name": "stderr",
     "output_type": "stream",
     "text": [
      "100%|██████████| 3465/3465 [00:34<00:00, 101.09it/s]\n"
     ]
    }
   ],
   "source": [
    "# parse the re-collected prodcuts.\n",
    "product_data = []\n",
    "with Pool(processes=32) as pool:\n",
    "    for record in tqdm(pool.imap_unordered(P.parse_product_page, \n",
    "                                           files_products), \n",
    "                       total=len(files_products)):\n",
    "        product_data.append(record)\n",
    "\n",
    "df_prod_new = pd.DataFrame(product_data)"
   ]
  },
  {
   "cell_type": "code",
   "execution_count": 124,
   "metadata": {},
   "outputs": [],
   "source": [
    "df_prod_new = pd.DataFrame(product_data)"
   ]
  },
  {
   "cell_type": "code",
   "execution_count": 125,
   "metadata": {},
   "outputs": [],
   "source": [
    "df_prod_new[\"asin\"] = df_prod_new.fn.apply(lambda x: x.split('/2021')[0].split('/')[-1])"
   ]
  },
  {
   "cell_type": "code",
   "execution_count": 127,
   "metadata": {},
   "outputs": [],
   "source": [
    "valid_asins = df_prod[~df_prod.sold_by.isnull()].asin"
   ]
  },
  {
   "cell_type": "code",
   "execution_count": 11,
   "metadata": {},
   "outputs": [],
   "source": [
    "# df_prod_new = df_prod_new[~df_prod_new.sold_by.isnull()]"
   ]
  },
  {
   "cell_type": "code",
   "execution_count": 128,
   "metadata": {},
   "outputs": [],
   "source": [
    "df_prod_new = df_prod_new[df_prod_new.asin.isin(valid_asins)]"
   ]
  },
  {
   "cell_type": "code",
   "execution_count": 129,
   "metadata": {},
   "outputs": [],
   "source": [
    "df_prod_new = df_prod_new.sample(2500, random_state=303)"
   ]
  },
  {
   "cell_type": "code",
   "execution_count": 132,
   "metadata": {},
   "outputs": [
    {
     "data": {
      "text/html": [
       "<div>\n",
       "<style scoped>\n",
       "    .dataframe tbody tr th:only-of-type {\n",
       "        vertical-align: middle;\n",
       "    }\n",
       "\n",
       "    .dataframe tbody tr th {\n",
       "        vertical-align: top;\n",
       "    }\n",
       "\n",
       "    .dataframe thead th {\n",
       "        text-align: right;\n",
       "    }\n",
       "</style>\n",
       "<table border=\"1\" class=\"dataframe\">\n",
       "  <thead>\n",
       "    <tr style=\"text-align: right;\">\n",
       "      <th></th>\n",
       "      <th>count</th>\n",
       "      <th>percentage</th>\n",
       "    </tr>\n",
       "  </thead>\n",
       "  <tbody>\n",
       "    <tr>\n",
       "      <th>False</th>\n",
       "      <td>2356</td>\n",
       "      <td>0.9424</td>\n",
       "    </tr>\n",
       "    <tr>\n",
       "      <th>True</th>\n",
       "      <td>144</td>\n",
       "      <td>0.0576</td>\n",
       "    </tr>\n",
       "  </tbody>\n",
       "</table>\n",
       "</div>"
      ],
      "text/plain": [
       "       count  percentage\n",
       "False   2356      0.9424\n",
       "True     144      0.0576"
      ]
     },
     "execution_count": 132,
     "metadata": {},
     "output_type": "execute_result"
    }
   ],
   "source": [
    "value_counts(df_prod_new, \"is_out_of_stock\")"
   ]
  },
  {
   "cell_type": "code",
   "execution_count": 130,
   "metadata": {},
   "outputs": [
    {
     "data": {
      "text/html": [
       "<div>\n",
       "<style scoped>\n",
       "    .dataframe tbody tr th:only-of-type {\n",
       "        vertical-align: middle;\n",
       "    }\n",
       "\n",
       "    .dataframe tbody tr th {\n",
       "        vertical-align: top;\n",
       "    }\n",
       "\n",
       "    .dataframe thead th {\n",
       "        text-align: right;\n",
       "    }\n",
       "</style>\n",
       "<table border=\"1\" class=\"dataframe\">\n",
       "  <thead>\n",
       "    <tr style=\"text-align: right;\">\n",
       "      <th></th>\n",
       "      <th>count</th>\n",
       "      <th>percentage</th>\n",
       "    </tr>\n",
       "  </thead>\n",
       "  <tbody>\n",
       "    <tr>\n",
       "      <th>False</th>\n",
       "      <td>2460</td>\n",
       "      <td>0.984</td>\n",
       "    </tr>\n",
       "    <tr>\n",
       "      <th>True</th>\n",
       "      <td>40</td>\n",
       "      <td>0.016</td>\n",
       "    </tr>\n",
       "  </tbody>\n",
       "</table>\n",
       "</div>"
      ],
      "text/plain": [
       "       count  percentage\n",
       "False   2460       0.984\n",
       "True      40       0.016"
      ]
     },
     "execution_count": 130,
     "metadata": {},
     "output_type": "execute_result"
    }
   ],
   "source": [
    "value_counts(df_prod_new, \"is_page_gone\")"
   ]
  },
  {
   "cell_type": "code",
   "execution_count": 131,
   "metadata": {},
   "outputs": [
    {
     "data": {
      "text/html": [
       "<div>\n",
       "<style scoped>\n",
       "    .dataframe tbody tr th:only-of-type {\n",
       "        vertical-align: middle;\n",
       "    }\n",
       "\n",
       "    .dataframe tbody tr th {\n",
       "        vertical-align: top;\n",
       "    }\n",
       "\n",
       "    .dataframe thead th {\n",
       "        text-align: right;\n",
       "    }\n",
       "</style>\n",
       "<table border=\"1\" class=\"dataframe\">\n",
       "  <thead>\n",
       "    <tr style=\"text-align: right;\">\n",
       "      <th></th>\n",
       "      <th>count</th>\n",
       "      <th>percentage</th>\n",
       "    </tr>\n",
       "  </thead>\n",
       "  <tbody>\n",
       "    <tr>\n",
       "      <th>False</th>\n",
       "      <td>2420</td>\n",
       "      <td>0.968</td>\n",
       "    </tr>\n",
       "    <tr>\n",
       "      <th>True</th>\n",
       "      <td>80</td>\n",
       "      <td>0.032</td>\n",
       "    </tr>\n",
       "  </tbody>\n",
       "</table>\n",
       "</div>"
      ],
      "text/plain": [
       "       count  percentage\n",
       "False   2420       0.968\n",
       "True      80       0.032"
      ]
     },
     "execution_count": 131,
     "metadata": {},
     "output_type": "execute_result"
    }
   ],
   "source": [
    "value_counts(df_prod_new, \"no_buybox_winner\")"
   ]
  },
  {
   "cell_type": "code",
   "execution_count": 133,
   "metadata": {},
   "outputs": [
    {
     "data": {
      "text/plain": [
       "0.0736"
      ]
     },
     "execution_count": 133,
     "metadata": {},
     "output_type": "execute_result"
    }
   ],
   "source": [
    "# what percentage of pages are out of stock or gone\n",
    "len(df_prod_new[(df_prod_new.is_out_of_stock == True) | \n",
    "                (df_prod_new.is_page_gone == True)]) / len(df_prod_new)"
   ]
  },
  {
   "cell_type": "code",
   "execution_count": 134,
   "metadata": {},
   "outputs": [],
   "source": [
    "df_prod_new.fillna(value=np.nan, inplace=True)\n",
    "df_prod.fillna(value=np.nan, inplace=True)"
   ]
  },
  {
   "cell_type": "code",
   "execution_count": 135,
   "metadata": {},
   "outputs": [],
   "source": [
    "# make a dataframe of new and old product page info\n",
    "df = df_prod[df_prod.asin.isin(df_prod_new.asin.unique())].merge(df_prod_new, on='asin', suffixes= ('_og', '_new'))"
   ]
  },
  {
   "cell_type": "code",
   "execution_count": 136,
   "metadata": {},
   "outputs": [
    {
     "data": {
      "text/plain": [
       "2500"
      ]
     },
     "execution_count": 136,
     "metadata": {},
     "output_type": "execute_result"
    }
   ],
   "source": [
    "len(df)"
   ]
  },
  {
   "cell_type": "code",
   "execution_count": 137,
   "metadata": {},
   "outputs": [
    {
     "data": {
      "text/plain": [
       "False    0.6828\n",
       "True     0.3172\n",
       "Name: is_sold_by_amazon, dtype: float64"
      ]
     },
     "execution_count": 137,
     "metadata": {},
     "output_type": "execute_result"
    }
   ],
   "source": [
    "df.is_sold_by_amazon.value_counts(normalize=True)"
   ]
  },
  {
   "cell_type": "code",
   "execution_count": 146,
   "metadata": {},
   "outputs": [],
   "source": [
    "amazon_sellers = ['zappos', 'whole foods', 'amazon']\n",
    "\n",
    "def who_switched(row, col1='sold_by_new', col2='sold_by_og'):\n",
    "    sold_new = False\n",
    "    sold_old = False\n",
    "    if any(seller in str(row[col1]).lower() for seller in amazon_sellers):\n",
    "        sold_new = True\n",
    "    if any(seller in str(row[col2]).lower() for seller in amazon_sellers):\n",
    "        sold_old = True\n",
    "    \n",
    "    if sold_new == False and sold_old == False:\n",
    "        return 'third party'\n",
    "    \n",
    "    if sold_new == True and sold_old == False:\n",
    "        return 'to amazon'\n",
    "    \n",
    "    if sold_new == False and sold_old == True:\n",
    "        return 'to third party'\n",
    "    \n",
    "    if sold_new == True and sold_old == True:\n",
    "        return \"amazon\"\n",
    "    \n",
    "def seller_switch(row):\n",
    "    return who_switched(row, col1='shipped_by_new', col2='shipped_by_og')"
   ]
  },
  {
   "cell_type": "code",
   "execution_count": 23,
   "metadata": {},
   "outputs": [],
   "source": [
    "# blank = df[(df.sold_by_new.isnull() | df.sold_by_og.isnull()) &\n",
    "#            ((df.is_page_gone_new == False) & \n",
    "#             (df.no_buybox_winner_new == False) & \n",
    "#            (df.is_out_of_stock_new == False))]"
   ]
  },
  {
   "cell_type": "code",
   "execution_count": 24,
   "metadata": {},
   "outputs": [],
   "source": [
    "# blank[['shipped_by_og', 'sold_by_og', \n",
    "#        'shipped_by_new', 'sold_by_new',\n",
    "#        'fn_og', 'fn_new']]"
   ]
  },
  {
   "cell_type": "code",
   "execution_count": 139,
   "metadata": {},
   "outputs": [
    {
     "data": {
      "text/plain": [
       "2121"
      ]
     },
     "execution_count": 139,
     "metadata": {},
     "output_type": "execute_result"
    }
   ],
   "source": [
    "df = df[~(df.sold_by_new.isnull() | df.sold_by_og.isnull())]\n",
    "len(df)"
   ]
  },
  {
   "cell_type": "code",
   "execution_count": 140,
   "metadata": {},
   "outputs": [
    {
     "data": {
      "text/plain": [
       "False    0.694955\n",
       "True     0.305045\n",
       "Name: is_sold_by_amazon, dtype: float64"
      ]
     },
     "execution_count": 140,
     "metadata": {},
     "output_type": "execute_result"
    }
   ],
   "source": [
    "df.is_sold_by_amazon.value_counts(normalize=True)"
   ]
  },
  {
   "cell_type": "code",
   "execution_count": 147,
   "metadata": {},
   "outputs": [],
   "source": [
    "df['seller_delta'] = df.apply(who_switched, axis=1)\n",
    "df['shipper_delta'] = df.apply(seller_switch, axis=1)"
   ]
  },
  {
   "cell_type": "code",
   "execution_count": 148,
   "metadata": {},
   "outputs": [
    {
     "data": {
      "text/plain": [
       "0.03488920320603489"
      ]
     },
     "execution_count": 148,
     "metadata": {},
     "output_type": "execute_result"
    }
   ],
   "source": [
    "# how many changed?\n",
    "df[df.seller_delta.isin(['to amazon', 'to third party'])].asin.nunique() / df.asin.nunique()"
   ]
  },
  {
   "cell_type": "code",
   "execution_count": 149,
   "metadata": {},
   "outputs": [
    {
     "data": {
      "text/html": [
       "<div>\n",
       "<style scoped>\n",
       "    .dataframe tbody tr th:only-of-type {\n",
       "        vertical-align: middle;\n",
       "    }\n",
       "\n",
       "    .dataframe tbody tr th {\n",
       "        vertical-align: top;\n",
       "    }\n",
       "\n",
       "    .dataframe thead th {\n",
       "        text-align: right;\n",
       "    }\n",
       "</style>\n",
       "<table border=\"1\" class=\"dataframe\">\n",
       "  <thead>\n",
       "    <tr style=\"text-align: right;\">\n",
       "      <th></th>\n",
       "      <th>count</th>\n",
       "      <th>percentage</th>\n",
       "    </tr>\n",
       "  </thead>\n",
       "  <tbody>\n",
       "    <tr>\n",
       "      <th>third party</th>\n",
       "      <td>259</td>\n",
       "      <td>0.750725</td>\n",
       "    </tr>\n",
       "    <tr>\n",
       "      <th>to third party</th>\n",
       "      <td>37</td>\n",
       "      <td>0.107246</td>\n",
       "    </tr>\n",
       "    <tr>\n",
       "      <th>to amazon</th>\n",
       "      <td>37</td>\n",
       "      <td>0.107246</td>\n",
       "    </tr>\n",
       "    <tr>\n",
       "      <th>amazon</th>\n",
       "      <td>12</td>\n",
       "      <td>0.034783</td>\n",
       "    </tr>\n",
       "  </tbody>\n",
       "</table>\n",
       "</div>"
      ],
      "text/plain": [
       "                count  percentage\n",
       "third party       259    0.750725\n",
       "to third party     37    0.107246\n",
       "to amazon          37    0.107246\n",
       "amazon             12    0.034783"
      ]
     },
     "execution_count": 149,
     "metadata": {},
     "output_type": "execute_result"
    }
   ],
   "source": [
    "value_counts(df[df.sold_by_new != df.sold_by_og], \"seller_delta\")"
   ]
  },
  {
   "cell_type": "code",
   "execution_count": 150,
   "metadata": {},
   "outputs": [
    {
     "data": {
      "text/html": [
       "<div>\n",
       "<style scoped>\n",
       "    .dataframe tbody tr th:only-of-type {\n",
       "        vertical-align: middle;\n",
       "    }\n",
       "\n",
       "    .dataframe tbody tr th {\n",
       "        vertical-align: top;\n",
       "    }\n",
       "\n",
       "    .dataframe thead th {\n",
       "        text-align: right;\n",
       "    }\n",
       "</style>\n",
       "<table border=\"1\" class=\"dataframe\">\n",
       "  <thead>\n",
       "    <tr style=\"text-align: right;\">\n",
       "      <th></th>\n",
       "      <th>count</th>\n",
       "      <th>percentage</th>\n",
       "    </tr>\n",
       "  </thead>\n",
       "  <tbody>\n",
       "    <tr>\n",
       "      <th>third party</th>\n",
       "      <td>1437</td>\n",
       "      <td>0.677511</td>\n",
       "    </tr>\n",
       "    <tr>\n",
       "      <th>amazon</th>\n",
       "      <td>610</td>\n",
       "      <td>0.287600</td>\n",
       "    </tr>\n",
       "    <tr>\n",
       "      <th>to third party</th>\n",
       "      <td>37</td>\n",
       "      <td>0.017445</td>\n",
       "    </tr>\n",
       "    <tr>\n",
       "      <th>to amazon</th>\n",
       "      <td>37</td>\n",
       "      <td>0.017445</td>\n",
       "    </tr>\n",
       "  </tbody>\n",
       "</table>\n",
       "</div>"
      ],
      "text/plain": [
       "                count  percentage\n",
       "third party      1437    0.677511\n",
       "amazon            610    0.287600\n",
       "to third party     37    0.017445\n",
       "to amazon          37    0.017445"
      ]
     },
     "execution_count": 150,
     "metadata": {},
     "output_type": "execute_result"
    }
   ],
   "source": [
    "value_counts(df, \"seller_delta\")"
   ]
  },
  {
   "cell_type": "markdown",
   "metadata": {},
   "source": [
    "caclulate ranges using this site: https://www.surveysystem.com/sscalc.htm"
   ]
  },
  {
   "cell_type": "code",
   "execution_count": 151,
   "metadata": {},
   "outputs": [],
   "source": [
    "def get_confidence_interval(perc = 1.5,\n",
    "                            ss = 25,\n",
    "                            pop = 100,\n",
    "                            confidence_level = 95):\n",
    "    \"\"\"\n",
    "    Calculates confidence interval given a percentage, sample size, and population size.\n",
    "    taken from: https://www.surveysystem.com/sscalc.htm\n",
    "    see: https://opentextbc.ca/introbusinessstatopenstax/chapter/a-confidence-interval-for-a-population-proportion/\n",
    "    \"\"\"\n",
    "    conf2z = {\n",
    "        95 : 3.8416,\n",
    "        99 : 6.6564\n",
    "    }\n",
    "    \n",
    "    zValC = conf2z.get(confidence_level)\n",
    "    if pop == 0:\n",
    "        pf = 1\n",
    "    else:\n",
    "        pf = (pop - ss) / (pop - 1)\n",
    "\n",
    "    return math.sqrt(zValC * (perc / 100) * (1 - perc / 100) / ss * pf) * 100   "
   ]
  },
  {
   "cell_type": "code",
   "execution_count": 152,
   "metadata": {},
   "outputs": [
    {
     "data": {
      "text/plain": [
       "(1.191046008750707, 2.297874311852782)"
      ]
     },
     "execution_count": 152,
     "metadata": {},
     "output_type": "execute_result"
    }
   ],
   "source": [
    "# seller changes to Amazon\n",
    "perc_seller_to_amazon = df[df.seller_delta.isin(['to amazon', 'to amazon'])].asin.nunique() / df.asin.nunique() * 100\n",
    "CI = get_confidence_interval(perc_seller_to_amazon, ss=len(df), pop=df_prod.asin.nunique())\n",
    "perc_seller_to_amazon - CI, perc_seller_to_amazon + CI"
   ]
  },
  {
   "cell_type": "code",
   "execution_count": 153,
   "metadata": {},
   "outputs": [
    {
     "data": {
      "text/plain": [
       "(2.713253307929728, 4.26458733327725)"
      ]
     },
     "execution_count": 153,
     "metadata": {},
     "output_type": "execute_result"
    }
   ],
   "source": [
    "# seller changes to third-party\n",
    "perc_seller_to_3p = df[df.seller_delta.isin(['to amazon', 'to third party'])].asin.nunique() / df.asin.nunique() * 100\n",
    "CI = get_confidence_interval(perc_seller_to_3p, ss=len(df), pop=df_prod.asin.nunique())\n",
    "perc_seller_to_3p - CI, perc_seller_to_3p + CI"
   ]
  },
  {
   "cell_type": "code",
   "execution_count": 154,
   "metadata": {},
   "outputs": [
    {
     "data": {
      "text/plain": [
       "(2.1695231921151406, 3.5824805796906114)"
      ]
     },
     "execution_count": 154,
     "metadata": {},
     "output_type": "execute_result"
    }
   ],
   "source": [
    "# shipper changes to Amazon\n",
    "perc_shipper_to_amazon = df[df.shipper_delta.isin(['to amazon', 'to amazon'])].asin.nunique() / df.asin.nunique() * 100\n",
    "CI = get_confidence_interval(perc_shipper_to_amazon, ss=len(df),pop=df_prod.asin.nunique())\n",
    "perc_shipper_to_amazon - CI, perc_shipper_to_amazon + CI"
   ]
  },
  {
   "cell_type": "code",
   "execution_count": 155,
   "metadata": {},
   "outputs": [
    {
     "data": {
      "text/plain": [
       "(5.33297602724795, 7.3968683857647815)"
      ]
     },
     "execution_count": 155,
     "metadata": {},
     "output_type": "execute_result"
    }
   ],
   "source": [
    "# shipper changes to third-party\n",
    "perc_shipper_to_3p = df[df.shipper_delta.isin(['to amazon', 'to third party'])].asin.nunique() / df.asin.nunique() * 100\n",
    "CI = get_confidence_interval(perc_shipper_to_3p, ss=len(df), pop=df_prod.asin.nunique())\n",
    "perc_shipper_to_3p - CI, perc_shipper_to_3p + CI"
   ]
  },
  {
   "cell_type": "code",
   "execution_count": null,
   "metadata": {},
   "outputs": [],
   "source": []
  }
 ],
 "metadata": {
  "kernelspec": {
   "display_name": "Python 3",
   "language": "python",
   "name": "python3"
  },
  "language_info": {
   "codemirror_mode": {
    "name": "ipython",
    "version": 3
   },
   "file_extension": ".py",
   "mimetype": "text/x-python",
   "name": "python",
   "nbconvert_exporter": "python",
   "pygments_lexer": "ipython3",
   "version": "3.8.1"
  }
 },
 "nbformat": 4,
 "nbformat_minor": 4
}
