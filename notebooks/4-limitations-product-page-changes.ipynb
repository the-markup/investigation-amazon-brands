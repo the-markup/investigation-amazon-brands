{
 "cells": [
  {
   "cell_type": "markdown",
   "metadata": {},
   "source": [
    "# Error Analysis of Products\n",
    "This looks at how often products' default sellers and shippers switch from Amazon to a third-party."
   ]
  },
  {
   "cell_type": "code",
   "execution_count": 1,
   "metadata": {},
   "outputs": [],
   "source": [
    "%load_ext autoreload\n",
    "%autoreload 2"
   ]
  },
  {
   "cell_type": "code",
   "execution_count": 2,
   "metadata": {},
   "outputs": [],
   "source": [
    "import os\n",
    "import re\n",
    "import glob\n",
    "from collections import Counter\n",
    "import json\n",
    "from multiprocessing import Pool\n",
    "\n",
    "\n",
    "from tqdm import tqdm\n",
    "from lxml import html\n",
    "import numpy as np\n",
    "import pandas as pd\n",
    "# import s3\n",
    "\n",
    "import parsers as P\n",
    "from parsers import process_search_result\n",
    "from utils import value_counts"
   ]
  },
  {
   "cell_type": "code",
   "execution_count": 3,
   "metadata": {},
   "outputs": [],
   "source": [
    "# inputs\n",
    "fn_prod = '../data/intermediary/products.csv.bz2'\n",
    "pattern_spot_check = '../data/input/spotcheck/selenium-products/*/*/*/2021/03/*/webpage_product.html'"
   ]
  },
  {
   "cell_type": "code",
   "execution_count": 4,
   "metadata": {},
   "outputs": [
    {
     "data": {
      "text/plain": [
       "1168"
      ]
     },
     "execution_count": 4,
     "metadata": {},
     "output_type": "execute_result"
    }
   ],
   "source": [
    "files_products = glob.glob(pattern_spot_check)\n",
    "len(files_products)"
   ]
  },
  {
   "cell_type": "code",
   "execution_count": 5,
   "metadata": {},
   "outputs": [],
   "source": [
    "df_prod = pd.read_csv(fn_prod, compression='gzip')"
   ]
  },
  {
   "cell_type": "code",
   "execution_count": 8,
   "metadata": {},
   "outputs": [
    {
     "name": "stderr",
     "output_type": "stream",
     "text": [
      "100%|██████████| 1168/1168 [00:29<00:00, 39.53it/s]\n"
     ]
    }
   ],
   "source": [
    "product_data = []\n",
    "with Pool(processes=32) as pool:\n",
    "    for record in tqdm(pool.imap_unordered(P.parse_product_page, \n",
    "                                           files_products), \n",
    "                       total=len(files_products)):\n",
    "        product_data.append(record)\n",
    "\n",
    "df_prod_new = pd.DataFrame(product_data)"
   ]
  },
  {
   "cell_type": "code",
   "execution_count": 7,
   "metadata": {},
   "outputs": [
    {
     "ename": "NameError",
     "evalue": "name 'df_prod_new' is not defined",
     "output_type": "error",
     "traceback": [
      "\u001b[0;31m---------------------------------------------------------------------------\u001b[0m",
      "\u001b[0;31mNameError\u001b[0m                                 Traceback (most recent call last)",
      "\u001b[0;32m<ipython-input-7-7b84e72dd420>\u001b[0m in \u001b[0;36m<module>\u001b[0;34m\u001b[0m\n\u001b[0;32m----> 1\u001b[0;31m \u001b[0mdf_prod_new\u001b[0m\u001b[0;34m[\u001b[0m\u001b[0;34m\"asin\"\u001b[0m\u001b[0;34m]\u001b[0m \u001b[0;34m=\u001b[0m \u001b[0mdf_prod_new\u001b[0m\u001b[0;34m.\u001b[0m\u001b[0mfn\u001b[0m\u001b[0;34m.\u001b[0m\u001b[0mapply\u001b[0m\u001b[0;34m(\u001b[0m\u001b[0;32mlambda\u001b[0m \u001b[0mx\u001b[0m\u001b[0;34m:\u001b[0m \u001b[0mx\u001b[0m\u001b[0;34m.\u001b[0m\u001b[0msplit\u001b[0m\u001b[0;34m(\u001b[0m\u001b[0;34m'/2021'\u001b[0m\u001b[0;34m)\u001b[0m\u001b[0;34m[\u001b[0m\u001b[0;36m0\u001b[0m\u001b[0;34m]\u001b[0m\u001b[0;34m.\u001b[0m\u001b[0msplit\u001b[0m\u001b[0;34m(\u001b[0m\u001b[0;34m'/'\u001b[0m\u001b[0;34m)\u001b[0m\u001b[0;34m[\u001b[0m\u001b[0;34m-\u001b[0m\u001b[0;36m1\u001b[0m\u001b[0;34m]\u001b[0m\u001b[0;34m)\u001b[0m\u001b[0;34m\u001b[0m\u001b[0;34m\u001b[0m\u001b[0m\n\u001b[0m",
      "\u001b[0;31mNameError\u001b[0m: name 'df_prod_new' is not defined"
     ]
    }
   ],
   "source": [
    "df_prod_new[\"asin\"] = df_prod_new.fn.apply(lambda x: x.split('/2021')[0].split('/')[-1])"
   ]
  },
  {
   "cell_type": "code",
   "execution_count": 7,
   "metadata": {},
   "outputs": [
    {
     "data": {
      "text/html": [
       "<div>\n",
       "<style scoped>\n",
       "    .dataframe tbody tr th:only-of-type {\n",
       "        vertical-align: middle;\n",
       "    }\n",
       "\n",
       "    .dataframe tbody tr th {\n",
       "        vertical-align: top;\n",
       "    }\n",
       "\n",
       "    .dataframe thead th {\n",
       "        text-align: right;\n",
       "    }\n",
       "</style>\n",
       "<table border=\"1\" class=\"dataframe\">\n",
       "  <thead>\n",
       "    <tr style=\"text-align: right;\">\n",
       "      <th></th>\n",
       "      <th>count</th>\n",
       "      <th>percentage</th>\n",
       "    </tr>\n",
       "  </thead>\n",
       "  <tbody>\n",
       "    <tr>\n",
       "      <th>False</th>\n",
       "      <td>1155</td>\n",
       "      <td>0.98887</td>\n",
       "    </tr>\n",
       "    <tr>\n",
       "      <th>True</th>\n",
       "      <td>13</td>\n",
       "      <td>0.01113</td>\n",
       "    </tr>\n",
       "  </tbody>\n",
       "</table>\n",
       "</div>"
      ],
      "text/plain": [
       "       count  percentage\n",
       "False   1155     0.98887\n",
       "True      13     0.01113"
      ]
     },
     "execution_count": 7,
     "metadata": {},
     "output_type": "execute_result"
    }
   ],
   "source": [
    "value_counts(df_prod_new, \"is_page_gone\")"
   ]
  },
  {
   "cell_type": "code",
   "execution_count": 8,
   "metadata": {},
   "outputs": [
    {
     "data": {
      "text/html": [
       "<div>\n",
       "<style scoped>\n",
       "    .dataframe tbody tr th:only-of-type {\n",
       "        vertical-align: middle;\n",
       "    }\n",
       "\n",
       "    .dataframe tbody tr th {\n",
       "        vertical-align: top;\n",
       "    }\n",
       "\n",
       "    .dataframe thead th {\n",
       "        text-align: right;\n",
       "    }\n",
       "</style>\n",
       "<table border=\"1\" class=\"dataframe\">\n",
       "  <thead>\n",
       "    <tr style=\"text-align: right;\">\n",
       "      <th></th>\n",
       "      <th>count</th>\n",
       "      <th>percentage</th>\n",
       "    </tr>\n",
       "  </thead>\n",
       "  <tbody>\n",
       "    <tr>\n",
       "      <th>False</th>\n",
       "      <td>1132</td>\n",
       "      <td>0.969178</td>\n",
       "    </tr>\n",
       "    <tr>\n",
       "      <th>True</th>\n",
       "      <td>36</td>\n",
       "      <td>0.030822</td>\n",
       "    </tr>\n",
       "  </tbody>\n",
       "</table>\n",
       "</div>"
      ],
      "text/plain": [
       "       count  percentage\n",
       "False   1132    0.969178\n",
       "True      36    0.030822"
      ]
     },
     "execution_count": 8,
     "metadata": {},
     "output_type": "execute_result"
    }
   ],
   "source": [
    "value_counts(df_prod_new, \"no_buybox_winner\")"
   ]
  },
  {
   "cell_type": "code",
   "execution_count": 9,
   "metadata": {},
   "outputs": [
    {
     "data": {
      "text/html": [
       "<div>\n",
       "<style scoped>\n",
       "    .dataframe tbody tr th:only-of-type {\n",
       "        vertical-align: middle;\n",
       "    }\n",
       "\n",
       "    .dataframe tbody tr th {\n",
       "        vertical-align: top;\n",
       "    }\n",
       "\n",
       "    .dataframe thead th {\n",
       "        text-align: right;\n",
       "    }\n",
       "</style>\n",
       "<table border=\"1\" class=\"dataframe\">\n",
       "  <thead>\n",
       "    <tr style=\"text-align: right;\">\n",
       "      <th></th>\n",
       "      <th>count</th>\n",
       "      <th>percentage</th>\n",
       "    </tr>\n",
       "  </thead>\n",
       "  <tbody>\n",
       "    <tr>\n",
       "      <th>False</th>\n",
       "      <td>1137</td>\n",
       "      <td>0.973459</td>\n",
       "    </tr>\n",
       "    <tr>\n",
       "      <th>True</th>\n",
       "      <td>31</td>\n",
       "      <td>0.026541</td>\n",
       "    </tr>\n",
       "  </tbody>\n",
       "</table>\n",
       "</div>"
      ],
      "text/plain": [
       "       count  percentage\n",
       "False   1137    0.973459\n",
       "True      31    0.026541"
      ]
     },
     "execution_count": 9,
     "metadata": {},
     "output_type": "execute_result"
    }
   ],
   "source": [
    "value_counts(df_prod_new, \"is_out_of_stock\")"
   ]
  },
  {
   "cell_type": "code",
   "execution_count": 6,
   "metadata": {},
   "outputs": [
    {
     "ename": "NameError",
     "evalue": "name 'df_prod_new' is not defined",
     "output_type": "error",
     "traceback": [
      "\u001b[0;31m---------------------------------------------------------------------------\u001b[0m",
      "\u001b[0;31mNameError\u001b[0m                                 Traceback (most recent call last)",
      "\u001b[0;32m<ipython-input-6-67dd12d01ffb>\u001b[0m in \u001b[0;36m<module>\u001b[0;34m\u001b[0m\n\u001b[1;32m      1\u001b[0m \u001b[0;31m# what percentage of pages are out of stock or gone\u001b[0m\u001b[0;34m\u001b[0m\u001b[0;34m\u001b[0m\u001b[0;34m\u001b[0m\u001b[0m\n\u001b[0;32m----> 2\u001b[0;31m len(df_prod_new[(df_prod_new.is_out_of_stock == True) | \n\u001b[0m\u001b[1;32m      3\u001b[0m                 (df_prod_new.is_page_gone == True)]) / len(df_prod_new)\n",
      "\u001b[0;31mNameError\u001b[0m: name 'df_prod_new' is not defined"
     ]
    }
   ],
   "source": [
    "# what percentage of pages are out of stock or gone\n",
    "len(df_prod_new[(df_prod_new.is_out_of_stock == True) | \n",
    "                (df_prod_new.is_page_gone == True)]) / len(df_prod_new)"
   ]
  },
  {
   "cell_type": "code",
   "execution_count": 11,
   "metadata": {},
   "outputs": [
    {
     "ename": "NameError",
     "evalue": "name 'df_prod' is not defined",
     "output_type": "error",
     "traceback": [
      "\u001b[0;31m---------------------------------------------------------------------------\u001b[0m",
      "\u001b[0;31mNameError\u001b[0m                                 Traceback (most recent call last)",
      "\u001b[0;32m<ipython-input-11-2968577ae829>\u001b[0m in \u001b[0;36m<module>\u001b[0;34m\u001b[0m\n\u001b[0;32m----> 1\u001b[0;31m \u001b[0mdf_prod\u001b[0m\u001b[0;34m[\u001b[0m\u001b[0mdf_prod\u001b[0m\u001b[0;34m.\u001b[0m\u001b[0masin\u001b[0m\u001b[0;34m.\u001b[0m\u001b[0misin\u001b[0m\u001b[0;34m(\u001b[0m\u001b[0mto_check\u001b[0m\u001b[0;34m)\u001b[0m\u001b[0;34m]\u001b[0m\u001b[0;34m.\u001b[0m\u001b[0mshipped_by\u001b[0m\u001b[0;34m.\u001b[0m\u001b[0mvalue_counts\u001b[0m\u001b[0;34m(\u001b[0m\u001b[0mnormalize\u001b[0m\u001b[0;34m=\u001b[0m\u001b[0;32mTrue\u001b[0m\u001b[0;34m)\u001b[0m\u001b[0;34m\u001b[0m\u001b[0;34m\u001b[0m\u001b[0m\n\u001b[0m",
      "\u001b[0;31mNameError\u001b[0m: name 'df_prod' is not defined"
     ]
    }
   ],
   "source": [
    "df_prod[df_prod.asin.isin(to_check)].shipped_by.value_counts(normalize=True)"
   ]
  },
  {
   "cell_type": "code",
   "execution_count": 144,
   "metadata": {},
   "outputs": [
    {
     "data": {
      "text/plain": [
       "Amazon.com             0.621622\n",
       "Happy IT.              0.027027\n",
       "WEDOWORK               0.027027\n",
       "ELFTUNE                0.027027\n",
       "Number 1 In Service    0.027027\n",
       "TOKO                   0.027027\n",
       "Whole Foods Market     0.027027\n",
       "HORIZON3 INC           0.027027\n",
       "US Medical Pro         0.027027\n",
       "JoyinDirect            0.027027\n",
       "MSAAEX                 0.027027\n",
       "Qmantoys               0.027027\n",
       "CBQ                    0.027027\n",
       "DRINKMATTERS           0.027027\n",
       "beautychen             0.027027\n",
       "Name: sold_by, dtype: float64"
      ]
     },
     "execution_count": 144,
     "metadata": {},
     "output_type": "execute_result"
    }
   ],
   "source": [
    "df_prod[df_prod.asin.isin(to_check)].sold_by.value_counts(normalize=True)"
   ]
  },
  {
   "cell_type": "code",
   "execution_count": 6,
   "metadata": {},
   "outputs": [
    {
     "data": {
      "text/plain": [
       "fn                         ../data/input/spotcheck/selenium-products/5/5D...\n",
       "shipped_by                                           Amazon.com Services LLC\n",
       "sold_by                                              Amazon.com Services LLC\n",
       "has_third_party_sellers                                                False\n",
       "product_by_amazon                                                      False\n",
       "our_brands_carousel                                                     True\n",
       "ads                                                                       []\n",
       "no_buybox_winner                                                       False\n",
       "is_page_gone                                                           False\n",
       "suggestions                 [B085DVTYHN, B085DVTYHN, B085DVTYHN, B085DVTYHN]\n",
       "Name: 0, dtype: object"
      ]
     },
     "execution_count": 6,
     "metadata": {},
     "output_type": "execute_result"
    }
   ],
   "source": [
    "df_prod_new.iloc[0]"
   ]
  },
  {
   "cell_type": "code",
   "execution_count": 57,
   "metadata": {},
   "outputs": [],
   "source": [
    "df_prod_new.fillna(value=np.nan, inplace=True)"
   ]
  },
  {
   "cell_type": "code",
   "execution_count": 58,
   "metadata": {},
   "outputs": [],
   "source": [
    "df_prod.fillna(value=np.nan, inplace=True)"
   ]
  },
  {
   "cell_type": "code",
   "execution_count": 59,
   "metadata": {},
   "outputs": [],
   "source": [
    "df = df_prod[df_prod.asin.isin(df_prod_new.asin.unique())].merge(df_prod_new, on='asin', suffixes= ('_og', '_new'))"
   ]
  },
  {
   "cell_type": "code",
   "execution_count": 125,
   "metadata": {},
   "outputs": [
    {
     "data": {
      "text/plain": [
       "927"
      ]
     },
     "execution_count": 125,
     "metadata": {},
     "output_type": "execute_result"
    }
   ],
   "source": [
    "len(df)"
   ]
  },
  {
   "cell_type": "code",
   "execution_count": 111,
   "metadata": {},
   "outputs": [],
   "source": [
    "amazon_sellers = ['zappos', 'whole foods', 'amazon']\n",
    "\n",
    "def who_switched(row, col1='sold_by_new', col2='sold_by_og'):\n",
    "    sold_new = False\n",
    "    sold_old = False\n",
    "    if any(seller in row[col1].lower() for seller in amazon_sellers):\n",
    "        sold_new = True\n",
    "    if any(seller in row[col2].lower() for seller in amazon_sellers):\n",
    "        sold_old = True\n",
    "    \n",
    "    if sold_new == False and sold_old == False:\n",
    "        return 'third party'\n",
    "    \n",
    "    if sold_new == True and sold_old == False:\n",
    "        return 'to amazon'\n",
    "    \n",
    "    if sold_new == False and sold_old == True:\n",
    "        return 'to third party'\n",
    "    \n",
    "    if sold_new == True and sold_old == True:\n",
    "        return \"amazon\"\n",
    "    \n",
    "def seller_switch(row):\n",
    "    return who_switched(row, col1='shipped_by_new', col2='shipped_by_og')"
   ]
  },
  {
   "cell_type": "code",
   "execution_count": 61,
   "metadata": {},
   "outputs": [],
   "source": [
    "# blank = df[(df.sold_by_new.isnull() | df.sold_by_og.isnull()) &\n",
    "#            ((df.is_page_gone_new == False) & \n",
    "#             (df.no_buybox_winner_new == False) & \n",
    "#            (df.is_out_of_stock_new == False))]"
   ]
  },
  {
   "cell_type": "code",
   "execution_count": 113,
   "metadata": {},
   "outputs": [],
   "source": [
    "# blank[['shipped_by_og', 'sold_by_og', \n",
    "#        'shipped_by_new', 'sold_by_new',\n",
    "#        'fn_og', 'fn_new']]"
   ]
  },
  {
   "cell_type": "code",
   "execution_count": 65,
   "metadata": {},
   "outputs": [],
   "source": [
    "df = df[~(df.sold_by_new.isnull() | df.sold_by_og.isnull())]"
   ]
  },
  {
   "cell_type": "code",
   "execution_count": 114,
   "metadata": {},
   "outputs": [
    {
     "data": {
      "text/plain": [
       "927"
      ]
     },
     "execution_count": 114,
     "metadata": {},
     "output_type": "execute_result"
    }
   ],
   "source": [
    "len(df)"
   ]
  },
  {
   "cell_type": "code",
   "execution_count": 108,
   "metadata": {},
   "outputs": [
    {
     "name": "stderr",
     "output_type": "stream",
     "text": [
      "<ipython-input-108-0795c12e075b>:1: SettingWithCopyWarning: \n",
      "A value is trying to be set on a copy of a slice from a DataFrame.\n",
      "Try using .loc[row_indexer,col_indexer] = value instead\n",
      "\n",
      "See the caveats in the documentation: https://pandas.pydata.org/pandas-docs/stable/user_guide/indexing.html#returning-a-view-versus-a-copy\n",
      "  df['seller_delta'] = df.apply(who_switched, axis=1)\n"
     ]
    }
   ],
   "source": [
    "df['seller_delta'] = df.apply(who_switched, axis=1)\n",
    "df['shipper_delta'] = df.apply(seller_switch, axis=1)"
   ]
  },
  {
   "cell_type": "code",
   "execution_count": 120,
   "metadata": {},
   "outputs": [
    {
     "data": {
      "text/plain": [
       "0.022653721682847898"
      ]
     },
     "execution_count": 120,
     "metadata": {},
     "output_type": "execute_result"
    }
   ],
   "source": [
    "df[df.seller_delta.isin(['to amazon', 'to third party'])].asin.nunique() / df.asin.nunique()"
   ]
  },
  {
   "cell_type": "code",
   "execution_count": 118,
   "metadata": {},
   "outputs": [
    {
     "data": {
      "text/html": [
       "<div>\n",
       "<style scoped>\n",
       "    .dataframe tbody tr th:only-of-type {\n",
       "        vertical-align: middle;\n",
       "    }\n",
       "\n",
       "    .dataframe tbody tr th {\n",
       "        vertical-align: top;\n",
       "    }\n",
       "\n",
       "    .dataframe thead th {\n",
       "        text-align: right;\n",
       "    }\n",
       "</style>\n",
       "<table border=\"1\" class=\"dataframe\">\n",
       "  <thead>\n",
       "    <tr style=\"text-align: right;\">\n",
       "      <th></th>\n",
       "      <th>count</th>\n",
       "      <th>percentage</th>\n",
       "    </tr>\n",
       "  </thead>\n",
       "  <tbody>\n",
       "    <tr>\n",
       "      <th>third party</th>\n",
       "      <td>20</td>\n",
       "      <td>0.425532</td>\n",
       "    </tr>\n",
       "    <tr>\n",
       "      <th>to third party</th>\n",
       "      <td>20</td>\n",
       "      <td>0.425532</td>\n",
       "    </tr>\n",
       "    <tr>\n",
       "      <th>amazon</th>\n",
       "      <td>6</td>\n",
       "      <td>0.127660</td>\n",
       "    </tr>\n",
       "    <tr>\n",
       "      <th>to amazon</th>\n",
       "      <td>1</td>\n",
       "      <td>0.021277</td>\n",
       "    </tr>\n",
       "  </tbody>\n",
       "</table>\n",
       "</div>"
      ],
      "text/plain": [
       "                count  percentage\n",
       "third party        20    0.425532\n",
       "to third party     20    0.425532\n",
       "amazon              6    0.127660\n",
       "to amazon           1    0.021277"
      ]
     },
     "execution_count": 118,
     "metadata": {},
     "output_type": "execute_result"
    }
   ],
   "source": [
    "value_counts(df[df.sold_by_new != df.sold_by_og], \"seller_delta\")"
   ]
  },
  {
   "cell_type": "code",
   "execution_count": 150,
   "metadata": {},
   "outputs": [
    {
     "data": {
      "text/html": [
       "<div>\n",
       "<style scoped>\n",
       "    .dataframe tbody tr th:only-of-type {\n",
       "        vertical-align: middle;\n",
       "    }\n",
       "\n",
       "    .dataframe tbody tr th {\n",
       "        vertical-align: top;\n",
       "    }\n",
       "\n",
       "    .dataframe thead th {\n",
       "        text-align: right;\n",
       "    }\n",
       "</style>\n",
       "<table border=\"1\" class=\"dataframe\">\n",
       "  <thead>\n",
       "    <tr style=\"text-align: right;\">\n",
       "      <th></th>\n",
       "      <th>count</th>\n",
       "      <th>percentage</th>\n",
       "    </tr>\n",
       "  </thead>\n",
       "  <tbody>\n",
       "    <tr>\n",
       "      <th>amazon</th>\n",
       "      <td>770</td>\n",
       "      <td>0.830636</td>\n",
       "    </tr>\n",
       "    <tr>\n",
       "      <th>third party</th>\n",
       "      <td>136</td>\n",
       "      <td>0.146710</td>\n",
       "    </tr>\n",
       "    <tr>\n",
       "      <th>to third party</th>\n",
       "      <td>20</td>\n",
       "      <td>0.021575</td>\n",
       "    </tr>\n",
       "    <tr>\n",
       "      <th>to amazon</th>\n",
       "      <td>1</td>\n",
       "      <td>0.001079</td>\n",
       "    </tr>\n",
       "  </tbody>\n",
       "</table>\n",
       "</div>"
      ],
      "text/plain": [
       "                count  percentage\n",
       "amazon            770    0.830636\n",
       "third party       136    0.146710\n",
       "to third party     20    0.021575\n",
       "to amazon           1    0.001079"
      ]
     },
     "execution_count": 150,
     "metadata": {},
     "output_type": "execute_result"
    }
   ],
   "source": [
    "value_counts(df, \"seller_delta\")"
   ]
  },
  {
   "cell_type": "code",
   "execution_count": 152,
   "metadata": {},
   "outputs": [
    {
     "data": {
      "text/plain": [
       "0.6592465753424658"
      ]
     },
     "execution_count": 152,
     "metadata": {},
     "output_type": "execute_result"
    }
   ],
   "source": [
    "770 / 1168"
   ]
  },
  {
   "cell_type": "code",
   "execution_count": 148,
   "metadata": {},
   "outputs": [
    {
     "data": {
      "text/plain": [
       "0.017123287671232876"
      ]
     },
     "execution_count": 148,
     "metadata": {},
     "output_type": "execute_result"
    }
   ],
   "source": [
    "20 / 1168"
   ]
  },
  {
   "cell_type": "code",
   "execution_count": 149,
   "metadata": {},
   "outputs": [
    {
     "data": {
      "text/plain": [
       "0.0136986301369863"
      ]
     },
     "execution_count": 149,
     "metadata": {},
     "output_type": "execute_result"
    }
   ],
   "source": [
    "16 / 1168"
   ]
  },
  {
   "cell_type": "code",
   "execution_count": 134,
   "metadata": {},
   "outputs": [
    {
     "data": {
      "text/plain": [
       "0.022653721682847898"
      ]
     },
     "execution_count": 134,
     "metadata": {},
     "output_type": "execute_result"
    }
   ],
   "source": [
    "df[df.seller_delta.isin(['to amazon', 'to third party'])].asin.nunique() / df.asin.nunique()"
   ]
  },
  {
   "cell_type": "code",
   "execution_count": 122,
   "metadata": {},
   "outputs": [
    {
     "data": {
      "text/plain": [
       "0.021574973031283712"
      ]
     },
     "execution_count": 122,
     "metadata": {},
     "output_type": "execute_result"
    }
   ],
   "source": [
    "df[df.shipper_delta.isin(['to amazon', 'to third party'])].asin.nunique() / df.asin.nunique()"
   ]
  },
  {
   "cell_type": "code",
   "execution_count": 132,
   "metadata": {},
   "outputs": [
    {
     "data": {
      "text/plain": [
       "0.039913700107874865"
      ]
     },
     "execution_count": 132,
     "metadata": {},
     "output_type": "execute_result"
    }
   ],
   "source": [
    "# len(df[df.shipped_by_new != df.shipped_by_og]) / len(df)"
   ]
  },
  {
   "cell_type": "code",
   "execution_count": 130,
   "metadata": {},
   "outputs": [
    {
     "data": {
      "text/html": [
       "<div>\n",
       "<style scoped>\n",
       "    .dataframe tbody tr th:only-of-type {\n",
       "        vertical-align: middle;\n",
       "    }\n",
       "\n",
       "    .dataframe tbody tr th {\n",
       "        vertical-align: top;\n",
       "    }\n",
       "\n",
       "    .dataframe thead th {\n",
       "        text-align: right;\n",
       "    }\n",
       "</style>\n",
       "<table border=\"1\" class=\"dataframe\">\n",
       "  <thead>\n",
       "    <tr style=\"text-align: right;\">\n",
       "      <th></th>\n",
       "      <th>count</th>\n",
       "      <th>percentage</th>\n",
       "    </tr>\n",
       "  </thead>\n",
       "  <tbody>\n",
       "    <tr>\n",
       "      <th>amazon</th>\n",
       "      <td>16</td>\n",
       "      <td>0.432432</td>\n",
       "    </tr>\n",
       "    <tr>\n",
       "      <th>to third party</th>\n",
       "      <td>13</td>\n",
       "      <td>0.351351</td>\n",
       "    </tr>\n",
       "    <tr>\n",
       "      <th>to amazon</th>\n",
       "      <td>7</td>\n",
       "      <td>0.189189</td>\n",
       "    </tr>\n",
       "    <tr>\n",
       "      <th>third party</th>\n",
       "      <td>1</td>\n",
       "      <td>0.027027</td>\n",
       "    </tr>\n",
       "  </tbody>\n",
       "</table>\n",
       "</div>"
      ],
      "text/plain": [
       "                count  percentage\n",
       "amazon             16    0.432432\n",
       "to third party     13    0.351351\n",
       "to amazon           7    0.189189\n",
       "third party         1    0.027027"
      ]
     },
     "execution_count": 130,
     "metadata": {},
     "output_type": "execute_result"
    }
   ],
   "source": [
    "value_counts(df[df.shipped_by_new != df.shipped_by_og], \"shipper_delta\")"
   ]
  },
  {
   "cell_type": "code",
   "execution_count": 70,
   "metadata": {},
   "outputs": [
    {
     "data": {
      "text/html": [
       "<div>\n",
       "<style scoped>\n",
       "    .dataframe tbody tr th:only-of-type {\n",
       "        vertical-align: middle;\n",
       "    }\n",
       "\n",
       "    .dataframe tbody tr th {\n",
       "        vertical-align: top;\n",
       "    }\n",
       "\n",
       "    .dataframe thead th {\n",
       "        text-align: right;\n",
       "    }\n",
       "</style>\n",
       "<table border=\"1\" class=\"dataframe\">\n",
       "  <thead>\n",
       "    <tr style=\"text-align: right;\">\n",
       "      <th></th>\n",
       "      <th>count</th>\n",
       "      <th>percentage</th>\n",
       "    </tr>\n",
       "  </thead>\n",
       "  <tbody>\n",
       "    <tr>\n",
       "      <th>False</th>\n",
       "      <td>152611</td>\n",
       "      <td>0.969544</td>\n",
       "    </tr>\n",
       "    <tr>\n",
       "      <th>True</th>\n",
       "      <td>4794</td>\n",
       "      <td>0.030456</td>\n",
       "    </tr>\n",
       "  </tbody>\n",
       "</table>\n",
       "</div>"
      ],
      "text/plain": [
       "        count  percentage\n",
       "False  152611    0.969544\n",
       "True     4794    0.030456"
      ]
     },
     "execution_count": 70,
     "metadata": {},
     "output_type": "execute_result"
    }
   ],
   "source": [
    "value_counts(df_prod, \"is_out_of_stock\")"
   ]
  },
  {
   "cell_type": "code",
   "execution_count": 153,
   "metadata": {},
   "outputs": [
    {
     "data": {
      "text/plain": [
       "Amazon.com                 0.287234\n",
       "AmazonFresh                0.011007\n",
       "Whole Foods Market         0.007766\n",
       "Pharmapacks                0.002289\n",
       "Amazon.com Services LLC    0.001828\n",
       "                             ...   \n",
       "Honey Badger LLC           0.000007\n",
       "OnlineSellingFirm          0.000007\n",
       "NEQUIO X                   0.000007\n",
       "UnionPower                 0.000007\n",
       "ATOPSTAR                   0.000007\n",
       "Name: sold_by, Length: 41908, dtype: float64"
      ]
     },
     "execution_count": 153,
     "metadata": {},
     "output_type": "execute_result"
    }
   ],
   "source": [
    "# OG amazon sold.\n",
    "df_prod.sold_by.value_counts(normalize=True)"
   ]
  },
  {
   "cell_type": "code",
   "execution_count": 165,
   "metadata": {},
   "outputs": [
    {
     "data": {
      "text/plain": [
       "False    1009\n",
       "True      159\n",
       "Name: is_amazon, dtype: int64"
      ]
     },
     "execution_count": 165,
     "metadata": {},
     "output_type": "execute_result"
    }
   ],
   "source": [
    "df_prod[df_prod.asin.isin(df_prod_new.asin)].is_amazon.value_counts()"
   ]
  },
  {
   "cell_type": "code",
   "execution_count": 164,
   "metadata": {},
   "outputs": [
    {
     "data": {
      "text/plain": [
       "Amazon.com                 0.830366\n",
       "Amazon.com Services LLC    0.014058\n",
       "Zappos                     0.003749\n",
       "DR.MOXA                    0.001874\n",
       "Pharmapacks                0.001874\n",
       "                             ...   \n",
       "iWenSheng                  0.000937\n",
       "KORVOS                     0.000937\n",
       "SnackBOX                   0.000937\n",
       "Allopo                     0.000937\n",
       "Saltverk                   0.000937\n",
       "Name: sold_by, Length: 161, dtype: float64"
      ]
     },
     "execution_count": 164,
     "metadata": {},
     "output_type": "execute_result"
    }
   ],
   "source": [
    "df_prod[df_prod.asin.isin(df_prod_new.asin)].sold_by.value_counts(normalize=True)"
   ]
  },
  {
   "cell_type": "code",
   "execution_count": 166,
   "metadata": {},
   "outputs": [
    {
     "data": {
      "text/html": [
       "<div>\n",
       "<style scoped>\n",
       "    .dataframe tbody tr th:only-of-type {\n",
       "        vertical-align: middle;\n",
       "    }\n",
       "\n",
       "    .dataframe tbody tr th {\n",
       "        vertical-align: top;\n",
       "    }\n",
       "\n",
       "    .dataframe thead th {\n",
       "        text-align: right;\n",
       "    }\n",
       "</style>\n",
       "<table border=\"1\" class=\"dataframe\">\n",
       "  <thead>\n",
       "    <tr style=\"text-align: right;\">\n",
       "      <th></th>\n",
       "      <th>fn</th>\n",
       "      <th>shipped_by</th>\n",
       "      <th>sold_by</th>\n",
       "      <th>has_third_party_sellers</th>\n",
       "      <th>product_by_amazon</th>\n",
       "      <th>our_brands_carousel</th>\n",
       "      <th>ads</th>\n",
       "      <th>no_buybox_winner</th>\n",
       "      <th>is_out_of_stock</th>\n",
       "      <th>is_page_gone</th>\n",
       "      <th>suggestions</th>\n",
       "      <th>asin</th>\n",
       "    </tr>\n",
       "  </thead>\n",
       "  <tbody>\n",
       "    <tr>\n",
       "      <th>0</th>\n",
       "      <td>../data/input/spotcheck/selenium-products/5/5D...</td>\n",
       "      <td>Amazon.com Services LLC</td>\n",
       "      <td>Amazon.com Services LLC</td>\n",
       "      <td>False</td>\n",
       "      <td>False</td>\n",
       "      <td>True</td>\n",
       "      <td>[]</td>\n",
       "      <td>False</td>\n",
       "      <td>False</td>\n",
       "      <td>False</td>\n",
       "      <td>[B085DVTYHN, B085DVTYHN, B085DVTYHN, B085DVTYHN]</td>\n",
       "      <td>B085DVTYHN</td>\n",
       "    </tr>\n",
       "    <tr>\n",
       "      <th>1</th>\n",
       "      <td>../data/input/spotcheck/selenium-products/5/5D...</td>\n",
       "      <td>Amazon.com</td>\n",
       "      <td>Amazon.com</td>\n",
       "      <td>True</td>\n",
       "      <td>False</td>\n",
       "      <td>False</td>\n",
       "      <td>[]</td>\n",
       "      <td>False</td>\n",
       "      <td>False</td>\n",
       "      <td>False</td>\n",
       "      <td>[B075DJ8QKF, B075DJ8QKF, B075DJ8QKF, B075DJ8QK...</td>\n",
       "      <td>B075DJ8QKF</td>\n",
       "    </tr>\n",
       "    <tr>\n",
       "      <th>2</th>\n",
       "      <td>../data/input/spotcheck/selenium-products/5/58...</td>\n",
       "      <td>Amazon.com</td>\n",
       "      <td>Amazon.com</td>\n",
       "      <td>True</td>\n",
       "      <td>False</td>\n",
       "      <td>False</td>\n",
       "      <td>[b'&lt;div id=\"ape_Detail_desktop-detail-ilm_desk...</td>\n",
       "      <td>False</td>\n",
       "      <td>False</td>\n",
       "      <td>False</td>\n",
       "      <td>[B075898MXN, B075898MXN, B075898MXN, B075898MX...</td>\n",
       "      <td>B075898MXN</td>\n",
       "    </tr>\n",
       "    <tr>\n",
       "      <th>3</th>\n",
       "      <td>../data/input/spotcheck/selenium-products/5/58...</td>\n",
       "      <td>Amazon.com</td>\n",
       "      <td>Amazon.com</td>\n",
       "      <td>True</td>\n",
       "      <td>False</td>\n",
       "      <td>True</td>\n",
       "      <td>[b'&lt;div id=\"ape_Detail_ams-detail-right-v2_des...</td>\n",
       "      <td>False</td>\n",
       "      <td>False</td>\n",
       "      <td>False</td>\n",
       "      <td>[B0058TWFWE, B0058TWFWE, B0058TWFWE, B0058TWFW...</td>\n",
       "      <td>B0058TWFWE</td>\n",
       "    </tr>\n",
       "    <tr>\n",
       "      <th>4</th>\n",
       "      <td>../data/input/spotcheck/selenium-products/5/5S...</td>\n",
       "      <td>Amazon</td>\n",
       "      <td>Organic Verdana</td>\n",
       "      <td>False</td>\n",
       "      <td>False</td>\n",
       "      <td>True</td>\n",
       "      <td>[b'&lt;div id=\"ape_Detail_ams-detail-right-v2_des...</td>\n",
       "      <td>False</td>\n",
       "      <td>False</td>\n",
       "      <td>False</td>\n",
       "      <td>[B085S6RCVH, B085S6RCVH, B085S6RCVH, B085S6RCV...</td>\n",
       "      <td>B085S6RCVH</td>\n",
       "    </tr>\n",
       "    <tr>\n",
       "      <th>...</th>\n",
       "      <td>...</td>\n",
       "      <td>...</td>\n",
       "      <td>...</td>\n",
       "      <td>...</td>\n",
       "      <td>...</td>\n",
       "      <td>...</td>\n",
       "      <td>...</td>\n",
       "      <td>...</td>\n",
       "      <td>...</td>\n",
       "      <td>...</td>\n",
       "      <td>...</td>\n",
       "      <td>...</td>\n",
       "    </tr>\n",
       "    <tr>\n",
       "      <th>1163</th>\n",
       "      <td>../data/input/spotcheck/selenium-products/0/0X...</td>\n",
       "      <td>Amazon.com</td>\n",
       "      <td>Amazon.com</td>\n",
       "      <td>True</td>\n",
       "      <td>False</td>\n",
       "      <td>False</td>\n",
       "      <td>[b'&lt;div id=\"ape_Detail_ams-detail-right-v2_des...</td>\n",
       "      <td>False</td>\n",
       "      <td>False</td>\n",
       "      <td>False</td>\n",
       "      <td>[B000XSG300, B000XSG300, B000XSG300, B000XSG30...</td>\n",
       "      <td>B000XSG300</td>\n",
       "    </tr>\n",
       "    <tr>\n",
       "      <th>1164</th>\n",
       "      <td>../data/input/spotcheck/selenium-products/0/02...</td>\n",
       "      <td>Amazon.com</td>\n",
       "      <td>Amazon.com</td>\n",
       "      <td>True</td>\n",
       "      <td>False</td>\n",
       "      <td>False</td>\n",
       "      <td>[]</td>\n",
       "      <td>False</td>\n",
       "      <td>False</td>\n",
       "      <td>False</td>\n",
       "      <td>[B0002MLAEQ, B0002MLAEQ, B0002MLAEQ, B0002MLAE...</td>\n",
       "      <td>B0002MLAEQ</td>\n",
       "    </tr>\n",
       "    <tr>\n",
       "      <th>1165</th>\n",
       "      <td>../data/input/spotcheck/selenium-products/0/0X...</td>\n",
       "      <td>Amazon.com</td>\n",
       "      <td>Amazon.com</td>\n",
       "      <td>True</td>\n",
       "      <td>False</td>\n",
       "      <td>False</td>\n",
       "      <td>[b'&lt;div id=\"ape_Detail_ams-detail-right-v2_des...</td>\n",
       "      <td>False</td>\n",
       "      <td>False</td>\n",
       "      <td>False</td>\n",
       "      <td>[B000X457HO, B000X457HO, B000X457HO, B000X457H...</td>\n",
       "      <td>B000X457HO</td>\n",
       "    </tr>\n",
       "    <tr>\n",
       "      <th>1166</th>\n",
       "      <td>../data/input/spotcheck/selenium-products/0/0Q...</td>\n",
       "      <td>Amazon.com</td>\n",
       "      <td>Amazon.com</td>\n",
       "      <td>True</td>\n",
       "      <td>False</td>\n",
       "      <td>False</td>\n",
       "      <td>[b'&lt;div id=\"ape_Detail_ams-detail-right-v2_des...</td>\n",
       "      <td>False</td>\n",
       "      <td>False</td>\n",
       "      <td>False</td>\n",
       "      <td>[B000QTUJXS, B000QTUJXS, B000QTUJXS, B000QTUJX...</td>\n",
       "      <td>B000QTUJXS</td>\n",
       "    </tr>\n",
       "    <tr>\n",
       "      <th>1167</th>\n",
       "      <td>../data/input/spotcheck/selenium-products/0/0L...</td>\n",
       "      <td>Amazon.com</td>\n",
       "      <td>Amazon.com</td>\n",
       "      <td>True</td>\n",
       "      <td>False</td>\n",
       "      <td>False</td>\n",
       "      <td>[b'&lt;div id=\"ape_Detail_ams-detail-right-v2_des...</td>\n",
       "      <td>False</td>\n",
       "      <td>False</td>\n",
       "      <td>False</td>\n",
       "      <td>[B000LKZ3GA, B000LKZ3GA, B000LKZ3GA, B000LKZ3G...</td>\n",
       "      <td>B000LKZ3GA</td>\n",
       "    </tr>\n",
       "  </tbody>\n",
       "</table>\n",
       "<p>1168 rows × 12 columns</p>\n",
       "</div>"
      ],
      "text/plain": [
       "                                                     fn  \\\n",
       "0     ../data/input/spotcheck/selenium-products/5/5D...   \n",
       "1     ../data/input/spotcheck/selenium-products/5/5D...   \n",
       "2     ../data/input/spotcheck/selenium-products/5/58...   \n",
       "3     ../data/input/spotcheck/selenium-products/5/58...   \n",
       "4     ../data/input/spotcheck/selenium-products/5/5S...   \n",
       "...                                                 ...   \n",
       "1163  ../data/input/spotcheck/selenium-products/0/0X...   \n",
       "1164  ../data/input/spotcheck/selenium-products/0/02...   \n",
       "1165  ../data/input/spotcheck/selenium-products/0/0X...   \n",
       "1166  ../data/input/spotcheck/selenium-products/0/0Q...   \n",
       "1167  ../data/input/spotcheck/selenium-products/0/0L...   \n",
       "\n",
       "                   shipped_by                  sold_by  \\\n",
       "0     Amazon.com Services LLC  Amazon.com Services LLC   \n",
       "1                  Amazon.com               Amazon.com   \n",
       "2                  Amazon.com               Amazon.com   \n",
       "3                  Amazon.com               Amazon.com   \n",
       "4                      Amazon          Organic Verdana   \n",
       "...                       ...                      ...   \n",
       "1163               Amazon.com               Amazon.com   \n",
       "1164               Amazon.com               Amazon.com   \n",
       "1165               Amazon.com               Amazon.com   \n",
       "1166               Amazon.com               Amazon.com   \n",
       "1167               Amazon.com               Amazon.com   \n",
       "\n",
       "      has_third_party_sellers  product_by_amazon  our_brands_carousel  \\\n",
       "0                       False              False                 True   \n",
       "1                        True              False                False   \n",
       "2                        True              False                False   \n",
       "3                        True              False                 True   \n",
       "4                       False              False                 True   \n",
       "...                       ...                ...                  ...   \n",
       "1163                     True              False                False   \n",
       "1164                     True              False                False   \n",
       "1165                     True              False                False   \n",
       "1166                     True              False                False   \n",
       "1167                     True              False                False   \n",
       "\n",
       "                                                    ads  no_buybox_winner  \\\n",
       "0                                                    []             False   \n",
       "1                                                    []             False   \n",
       "2     [b'<div id=\"ape_Detail_desktop-detail-ilm_desk...             False   \n",
       "3     [b'<div id=\"ape_Detail_ams-detail-right-v2_des...             False   \n",
       "4     [b'<div id=\"ape_Detail_ams-detail-right-v2_des...             False   \n",
       "...                                                 ...               ...   \n",
       "1163  [b'<div id=\"ape_Detail_ams-detail-right-v2_des...             False   \n",
       "1164                                                 []             False   \n",
       "1165  [b'<div id=\"ape_Detail_ams-detail-right-v2_des...             False   \n",
       "1166  [b'<div id=\"ape_Detail_ams-detail-right-v2_des...             False   \n",
       "1167  [b'<div id=\"ape_Detail_ams-detail-right-v2_des...             False   \n",
       "\n",
       "      is_out_of_stock  is_page_gone  \\\n",
       "0               False         False   \n",
       "1               False         False   \n",
       "2               False         False   \n",
       "3               False         False   \n",
       "4               False         False   \n",
       "...               ...           ...   \n",
       "1163            False         False   \n",
       "1164            False         False   \n",
       "1165            False         False   \n",
       "1166            False         False   \n",
       "1167            False         False   \n",
       "\n",
       "                                            suggestions        asin  \n",
       "0      [B085DVTYHN, B085DVTYHN, B085DVTYHN, B085DVTYHN]  B085DVTYHN  \n",
       "1     [B075DJ8QKF, B075DJ8QKF, B075DJ8QKF, B075DJ8QK...  B075DJ8QKF  \n",
       "2     [B075898MXN, B075898MXN, B075898MXN, B075898MX...  B075898MXN  \n",
       "3     [B0058TWFWE, B0058TWFWE, B0058TWFWE, B0058TWFW...  B0058TWFWE  \n",
       "4     [B085S6RCVH, B085S6RCVH, B085S6RCVH, B085S6RCV...  B085S6RCVH  \n",
       "...                                                 ...         ...  \n",
       "1163  [B000XSG300, B000XSG300, B000XSG300, B000XSG30...  B000XSG300  \n",
       "1164  [B0002MLAEQ, B0002MLAEQ, B0002MLAEQ, B0002MLAE...  B0002MLAEQ  \n",
       "1165  [B000X457HO, B000X457HO, B000X457HO, B000X457H...  B000X457HO  \n",
       "1166  [B000QTUJXS, B000QTUJXS, B000QTUJXS, B000QTUJX...  B000QTUJXS  \n",
       "1167  [B000LKZ3GA, B000LKZ3GA, B000LKZ3GA, B000LKZ3G...  B000LKZ3GA  \n",
       "\n",
       "[1168 rows x 12 columns]"
      ]
     },
     "execution_count": 166,
     "metadata": {},
     "output_type": "execute_result"
    }
   ],
   "source": [
    "df_prod_new"
   ]
  },
  {
   "cell_type": "code",
   "execution_count": 159,
   "metadata": {},
   "outputs": [
    {
     "data": {
      "text/plain": [
       "1168"
      ]
     },
     "execution_count": 159,
     "metadata": {},
     "output_type": "execute_result"
    }
   ],
   "source": [
    "len(df_prod_new)"
   ]
  },
  {
   "cell_type": "code",
   "execution_count": 158,
   "metadata": {},
   "outputs": [
    {
     "data": {
      "text/plain": [
       "Amazon.com                 0.793380\n",
       "Amazon.com Services LLC    0.017051\n",
       "AmazonFresh                0.004012\n",
       "Best Buy                   0.003009\n",
       "Zappos                     0.003009\n",
       "                             ...   \n",
       "Another Day in Paradis     0.001003\n",
       "EleQit Pty Ltd             0.001003\n",
       "M. ROSENFELD               0.001003\n",
       "HAVEN FURNITURE CO         0.001003\n",
       "Organic Verdana            0.001003\n",
       "Name: sold_by, Length: 182, dtype: float64"
      ]
     },
     "execution_count": 158,
     "metadata": {},
     "output_type": "execute_result"
    }
   ],
   "source": [
    "df_prod_new.sold_by.value_counts(normalize=True)"
   ]
  },
  {
   "cell_type": "code",
   "execution_count": 74,
   "metadata": {},
   "outputs": [
    {
     "data": {
      "text/html": [
       "<div>\n",
       "<style scoped>\n",
       "    .dataframe tbody tr th:only-of-type {\n",
       "        vertical-align: middle;\n",
       "    }\n",
       "\n",
       "    .dataframe tbody tr th {\n",
       "        vertical-align: top;\n",
       "    }\n",
       "\n",
       "    .dataframe thead th {\n",
       "        text-align: right;\n",
       "    }\n",
       "</style>\n",
       "<table border=\"1\" class=\"dataframe\">\n",
       "  <thead>\n",
       "    <tr style=\"text-align: right;\">\n",
       "      <th></th>\n",
       "      <th>count</th>\n",
       "      <th>percentage</th>\n",
       "    </tr>\n",
       "  </thead>\n",
       "  <tbody>\n",
       "    <tr>\n",
       "      <th>False</th>\n",
       "      <td>156209</td>\n",
       "      <td>0.992402</td>\n",
       "    </tr>\n",
       "    <tr>\n",
       "      <th>True</th>\n",
       "      <td>1196</td>\n",
       "      <td>0.007598</td>\n",
       "    </tr>\n",
       "  </tbody>\n",
       "</table>\n",
       "</div>"
      ],
      "text/plain": [
       "        count  percentage\n",
       "False  156209    0.992402\n",
       "True     1196    0.007598"
      ]
     },
     "execution_count": 74,
     "metadata": {},
     "output_type": "execute_result"
    }
   ],
   "source": [
    "value_counts(df_prod, \"is_page_gone\")"
   ]
  },
  {
   "cell_type": "code",
   "execution_count": 76,
   "metadata": {},
   "outputs": [
    {
     "data": {
      "text/html": [
       "<div>\n",
       "<style scoped>\n",
       "    .dataframe tbody tr th:only-of-type {\n",
       "        vertical-align: middle;\n",
       "    }\n",
       "\n",
       "    .dataframe tbody tr th {\n",
       "        vertical-align: top;\n",
       "    }\n",
       "\n",
       "    .dataframe thead th {\n",
       "        text-align: right;\n",
       "    }\n",
       "</style>\n",
       "<table border=\"1\" class=\"dataframe\">\n",
       "  <thead>\n",
       "    <tr style=\"text-align: right;\">\n",
       "      <th></th>\n",
       "      <th>count</th>\n",
       "      <th>percentage</th>\n",
       "    </tr>\n",
       "  </thead>\n",
       "  <tbody>\n",
       "    <tr>\n",
       "      <th>False</th>\n",
       "      <td>151806</td>\n",
       "      <td>0.964429</td>\n",
       "    </tr>\n",
       "    <tr>\n",
       "      <th>True</th>\n",
       "      <td>5599</td>\n",
       "      <td>0.035571</td>\n",
       "    </tr>\n",
       "  </tbody>\n",
       "</table>\n",
       "</div>"
      ],
      "text/plain": [
       "        count  percentage\n",
       "False  151806    0.964429\n",
       "True     5599    0.035571"
      ]
     },
     "execution_count": 76,
     "metadata": {},
     "output_type": "execute_result"
    }
   ],
   "source": [
    "value_counts(df_prod, \"no_buybox_winner\")"
   ]
  },
  {
   "cell_type": "code",
   "execution_count": 156,
   "metadata": {},
   "outputs": [
    {
     "data": {
      "text/plain": [
       "Amazon.com             0.621622\n",
       "Happy IT.              0.027027\n",
       "WEDOWORK               0.027027\n",
       "ELFTUNE                0.027027\n",
       "Number 1 In Service    0.027027\n",
       "TOKO                   0.027027\n",
       "Whole Foods Market     0.027027\n",
       "HORIZON3 INC           0.027027\n",
       "US Medical Pro         0.027027\n",
       "JoyinDirect            0.027027\n",
       "MSAAEX                 0.027027\n",
       "Qmantoys               0.027027\n",
       "CBQ                    0.027027\n",
       "DRINKMATTERS           0.027027\n",
       "beautychen             0.027027\n",
       "Name: sold_by, dtype: float64"
      ]
     },
     "execution_count": 156,
     "metadata": {},
     "output_type": "execute_result"
    }
   ],
   "source": [
    "# missing data\n",
    "df_prod[df_prod.asin.isin(to_check)].sold_by.value_counts(normalize=True)"
   ]
  },
  {
   "cell_type": "code",
   "execution_count": 167,
   "metadata": {},
   "outputs": [],
   "source": [
    "df_search = pd.read_csv('../data/intermediary/searches.csv.gz', compression='gzip')"
   ]
  },
  {
   "cell_type": "code",
   "execution_count": 175,
   "metadata": {},
   "outputs": [],
   "source": [
    "df_amazon = pd.read_csv('../data/intermediary/amazon_private_label.csv.gz')"
   ]
  },
  {
   "cell_type": "code",
   "execution_count": 174,
   "metadata": {},
   "outputs": [
    {
     "data": {
      "text/plain": [
       "Amazon.com                 4007\n",
       "Amazon.com Services LLC     188\n",
       "Hotodeal Official Store      40\n",
       "Best Buy                     37\n",
       "Govee US                     27\n",
       "                           ... \n",
       "YSYKR-BM                      1\n",
       "Greenwald Brands              1\n",
       "Supseller Store               1\n",
       "Shopbop | East Dane (         1\n",
       "Sneakers&More                 1\n",
       "Name: sold_by, Length: 182, dtype: int64"
      ]
     },
     "execution_count": 174,
     "metadata": {},
     "output_type": "execute_result"
    }
   ],
   "source": [
    "df_prod_new.merge(df_search[['asin', 'search_term']]).sold_by.value_counts()"
   ]
  },
  {
   "cell_type": "code",
   "execution_count": 179,
   "metadata": {},
   "outputs": [],
   "source": [
    "df_prod_new['is_amazon'] =df_prod_new.asin.isin(df_amazon.asin)"
   ]
  },
  {
   "cell_type": "code",
   "execution_count": 180,
   "metadata": {},
   "outputs": [
    {
     "data": {
      "text/plain": [
       "False    1009\n",
       "True      159\n",
       "Name: is_amazon, dtype: int64"
      ]
     },
     "execution_count": 180,
     "metadata": {},
     "output_type": "execute_result"
    }
   ],
   "source": [
    "df_prod_new.is_amazon.value_counts()"
   ]
  },
  {
   "cell_type": "code",
   "execution_count": 182,
   "metadata": {},
   "outputs": [
    {
     "data": {
      "text/html": [
       "<div>\n",
       "<style scoped>\n",
       "    .dataframe tbody tr th:only-of-type {\n",
       "        vertical-align: middle;\n",
       "    }\n",
       "\n",
       "    .dataframe tbody tr th {\n",
       "        vertical-align: top;\n",
       "    }\n",
       "\n",
       "    .dataframe thead th {\n",
       "        text-align: right;\n",
       "    }\n",
       "</style>\n",
       "<table border=\"1\" class=\"dataframe\">\n",
       "  <thead>\n",
       "    <tr style=\"text-align: right;\">\n",
       "      <th></th>\n",
       "      <th>count</th>\n",
       "      <th>percentage</th>\n",
       "    </tr>\n",
       "  </thead>\n",
       "  <tbody>\n",
       "    <tr>\n",
       "      <th>Amazon.com</th>\n",
       "      <td>791</td>\n",
       "      <td>0.793380</td>\n",
       "    </tr>\n",
       "    <tr>\n",
       "      <th>Amazon.com Services LLC</th>\n",
       "      <td>17</td>\n",
       "      <td>0.017051</td>\n",
       "    </tr>\n",
       "    <tr>\n",
       "      <th>AmazonFresh</th>\n",
       "      <td>4</td>\n",
       "      <td>0.004012</td>\n",
       "    </tr>\n",
       "    <tr>\n",
       "      <th>Best Buy</th>\n",
       "      <td>3</td>\n",
       "      <td>0.003009</td>\n",
       "    </tr>\n",
       "    <tr>\n",
       "      <th>Zappos</th>\n",
       "      <td>3</td>\n",
       "      <td>0.003009</td>\n",
       "    </tr>\n",
       "    <tr>\n",
       "      <th>...</th>\n",
       "      <td>...</td>\n",
       "      <td>...</td>\n",
       "    </tr>\n",
       "    <tr>\n",
       "      <th>Another Day in Paradis</th>\n",
       "      <td>1</td>\n",
       "      <td>0.001003</td>\n",
       "    </tr>\n",
       "    <tr>\n",
       "      <th>EleQit Pty Ltd</th>\n",
       "      <td>1</td>\n",
       "      <td>0.001003</td>\n",
       "    </tr>\n",
       "    <tr>\n",
       "      <th>M. ROSENFELD</th>\n",
       "      <td>1</td>\n",
       "      <td>0.001003</td>\n",
       "    </tr>\n",
       "    <tr>\n",
       "      <th>HAVEN FURNITURE CO</th>\n",
       "      <td>1</td>\n",
       "      <td>0.001003</td>\n",
       "    </tr>\n",
       "    <tr>\n",
       "      <th>Organic Verdana</th>\n",
       "      <td>1</td>\n",
       "      <td>0.001003</td>\n",
       "    </tr>\n",
       "  </tbody>\n",
       "</table>\n",
       "<p>182 rows × 2 columns</p>\n",
       "</div>"
      ],
      "text/plain": [
       "                         count  percentage\n",
       "Amazon.com                 791    0.793380\n",
       "Amazon.com Services LLC     17    0.017051\n",
       "AmazonFresh                  4    0.004012\n",
       "Best Buy                     3    0.003009\n",
       "Zappos                       3    0.003009\n",
       "...                        ...         ...\n",
       "Another Day in Paradis       1    0.001003\n",
       "EleQit Pty Ltd               1    0.001003\n",
       "M. ROSENFELD                 1    0.001003\n",
       "HAVEN FURNITURE CO           1    0.001003\n",
       "Organic Verdana              1    0.001003\n",
       "\n",
       "[182 rows x 2 columns]"
      ]
     },
     "execution_count": 182,
     "metadata": {},
     "output_type": "execute_result"
    }
   ],
   "source": [
    "value_counts(df_prod_new, 'sold_by')"
   ]
  },
  {
   "cell_type": "code",
   "execution_count": 181,
   "metadata": {},
   "outputs": [
    {
     "data": {
      "text/html": [
       "<div>\n",
       "<style scoped>\n",
       "    .dataframe tbody tr th:only-of-type {\n",
       "        vertical-align: middle;\n",
       "    }\n",
       "\n",
       "    .dataframe tbody tr th {\n",
       "        vertical-align: top;\n",
       "    }\n",
       "\n",
       "    .dataframe thead th {\n",
       "        text-align: right;\n",
       "    }\n",
       "</style>\n",
       "<table border=\"1\" class=\"dataframe\">\n",
       "  <thead>\n",
       "    <tr style=\"text-align: right;\">\n",
       "      <th></th>\n",
       "      <th>count</th>\n",
       "      <th>percentage</th>\n",
       "    </tr>\n",
       "  </thead>\n",
       "  <tbody>\n",
       "    <tr>\n",
       "      <th>Amazon.com</th>\n",
       "      <td>38649</td>\n",
       "      <td>0.287234</td>\n",
       "    </tr>\n",
       "    <tr>\n",
       "      <th>AmazonFresh</th>\n",
       "      <td>1481</td>\n",
       "      <td>0.011007</td>\n",
       "    </tr>\n",
       "    <tr>\n",
       "      <th>Whole Foods Market</th>\n",
       "      <td>1045</td>\n",
       "      <td>0.007766</td>\n",
       "    </tr>\n",
       "    <tr>\n",
       "      <th>Pharmapacks</th>\n",
       "      <td>308</td>\n",
       "      <td>0.002289</td>\n",
       "    </tr>\n",
       "    <tr>\n",
       "      <th>Amazon.com Services LLC</th>\n",
       "      <td>246</td>\n",
       "      <td>0.001828</td>\n",
       "    </tr>\n",
       "    <tr>\n",
       "      <th>...</th>\n",
       "      <td>...</td>\n",
       "      <td>...</td>\n",
       "    </tr>\n",
       "    <tr>\n",
       "      <th>Honey Badger LLC</th>\n",
       "      <td>1</td>\n",
       "      <td>0.000007</td>\n",
       "    </tr>\n",
       "    <tr>\n",
       "      <th>OnlineSellingFirm</th>\n",
       "      <td>1</td>\n",
       "      <td>0.000007</td>\n",
       "    </tr>\n",
       "    <tr>\n",
       "      <th>NEQUIO X</th>\n",
       "      <td>1</td>\n",
       "      <td>0.000007</td>\n",
       "    </tr>\n",
       "    <tr>\n",
       "      <th>UnionPower</th>\n",
       "      <td>1</td>\n",
       "      <td>0.000007</td>\n",
       "    </tr>\n",
       "    <tr>\n",
       "      <th>ATOPSTAR</th>\n",
       "      <td>1</td>\n",
       "      <td>0.000007</td>\n",
       "    </tr>\n",
       "  </tbody>\n",
       "</table>\n",
       "<p>41908 rows × 2 columns</p>\n",
       "</div>"
      ],
      "text/plain": [
       "                         count  percentage\n",
       "Amazon.com               38649    0.287234\n",
       "AmazonFresh               1481    0.011007\n",
       "Whole Foods Market        1045    0.007766\n",
       "Pharmapacks                308    0.002289\n",
       "Amazon.com Services LLC    246    0.001828\n",
       "...                        ...         ...\n",
       "Honey Badger LLC             1    0.000007\n",
       "OnlineSellingFirm            1    0.000007\n",
       "NEQUIO X                     1    0.000007\n",
       "UnionPower                   1    0.000007\n",
       "ATOPSTAR                     1    0.000007\n",
       "\n",
       "[41908 rows x 2 columns]"
      ]
     },
     "execution_count": 181,
     "metadata": {},
     "output_type": "execute_result"
    }
   ],
   "source": [
    "value_counts(df_prod, 'sold_by')"
   ]
  },
  {
   "cell_type": "code",
   "execution_count": 187,
   "metadata": {},
   "outputs": [],
   "source": [
    "# this is how we sample the products\n",
    "to_check = df_prod.sample(2000, random_state=303).asin.tolist()"
   ]
  },
  {
   "cell_type": "code",
   "execution_count": 189,
   "metadata": {},
   "outputs": [
    {
     "data": {
      "text/html": [
       "<div>\n",
       "<style scoped>\n",
       "    .dataframe tbody tr th:only-of-type {\n",
       "        vertical-align: middle;\n",
       "    }\n",
       "\n",
       "    .dataframe tbody tr th {\n",
       "        vertical-align: top;\n",
       "    }\n",
       "\n",
       "    .dataframe thead th {\n",
       "        text-align: right;\n",
       "    }\n",
       "</style>\n",
       "<table border=\"1\" class=\"dataframe\">\n",
       "  <thead>\n",
       "    <tr style=\"text-align: right;\">\n",
       "      <th></th>\n",
       "      <th>fn</th>\n",
       "      <th>shipped_by</th>\n",
       "      <th>sold_by</th>\n",
       "      <th>has_third_party_sellers</th>\n",
       "      <th>product_by_amazon</th>\n",
       "      <th>our_brands_carousel</th>\n",
       "      <th>ads</th>\n",
       "      <th>no_buybox_winner</th>\n",
       "      <th>is_out_of_stock</th>\n",
       "      <th>is_page_gone</th>\n",
       "      <th>suggestions</th>\n",
       "      <th>asin</th>\n",
       "      <th>is_amazon</th>\n",
       "    </tr>\n",
       "  </thead>\n",
       "  <tbody>\n",
       "    <tr>\n",
       "      <th>0</th>\n",
       "      <td>../data/input/spotcheck/selenium-products/5/5D...</td>\n",
       "      <td>Amazon.com Services LLC</td>\n",
       "      <td>Amazon.com Services LLC</td>\n",
       "      <td>False</td>\n",
       "      <td>False</td>\n",
       "      <td>True</td>\n",
       "      <td>[]</td>\n",
       "      <td>False</td>\n",
       "      <td>False</td>\n",
       "      <td>False</td>\n",
       "      <td>[B085DVTYHN, B085DVTYHN, B085DVTYHN, B085DVTYHN]</td>\n",
       "      <td>B085DVTYHN</td>\n",
       "      <td>True</td>\n",
       "    </tr>\n",
       "    <tr>\n",
       "      <th>1</th>\n",
       "      <td>../data/input/spotcheck/selenium-products/5/5D...</td>\n",
       "      <td>Amazon.com</td>\n",
       "      <td>Amazon.com</td>\n",
       "      <td>True</td>\n",
       "      <td>False</td>\n",
       "      <td>False</td>\n",
       "      <td>[]</td>\n",
       "      <td>False</td>\n",
       "      <td>False</td>\n",
       "      <td>False</td>\n",
       "      <td>[B075DJ8QKF, B075DJ8QKF, B075DJ8QKF, B075DJ8QK...</td>\n",
       "      <td>B075DJ8QKF</td>\n",
       "      <td>False</td>\n",
       "    </tr>\n",
       "    <tr>\n",
       "      <th>2</th>\n",
       "      <td>../data/input/spotcheck/selenium-products/5/58...</td>\n",
       "      <td>Amazon.com</td>\n",
       "      <td>Amazon.com</td>\n",
       "      <td>True</td>\n",
       "      <td>False</td>\n",
       "      <td>False</td>\n",
       "      <td>[b'&lt;div id=\"ape_Detail_desktop-detail-ilm_desk...</td>\n",
       "      <td>False</td>\n",
       "      <td>False</td>\n",
       "      <td>False</td>\n",
       "      <td>[B075898MXN, B075898MXN, B075898MXN, B075898MX...</td>\n",
       "      <td>B075898MXN</td>\n",
       "      <td>False</td>\n",
       "    </tr>\n",
       "    <tr>\n",
       "      <th>3</th>\n",
       "      <td>../data/input/spotcheck/selenium-products/5/58...</td>\n",
       "      <td>Amazon.com</td>\n",
       "      <td>Amazon.com</td>\n",
       "      <td>True</td>\n",
       "      <td>False</td>\n",
       "      <td>True</td>\n",
       "      <td>[b'&lt;div id=\"ape_Detail_ams-detail-right-v2_des...</td>\n",
       "      <td>False</td>\n",
       "      <td>False</td>\n",
       "      <td>False</td>\n",
       "      <td>[B0058TWFWE, B0058TWFWE, B0058TWFWE, B0058TWFW...</td>\n",
       "      <td>B0058TWFWE</td>\n",
       "      <td>False</td>\n",
       "    </tr>\n",
       "    <tr>\n",
       "      <th>4</th>\n",
       "      <td>../data/input/spotcheck/selenium-products/5/5S...</td>\n",
       "      <td>Amazon</td>\n",
       "      <td>Organic Verdana</td>\n",
       "      <td>False</td>\n",
       "      <td>False</td>\n",
       "      <td>True</td>\n",
       "      <td>[b'&lt;div id=\"ape_Detail_ams-detail-right-v2_des...</td>\n",
       "      <td>False</td>\n",
       "      <td>False</td>\n",
       "      <td>False</td>\n",
       "      <td>[B085S6RCVH, B085S6RCVH, B085S6RCVH, B085S6RCV...</td>\n",
       "      <td>B085S6RCVH</td>\n",
       "      <td>False</td>\n",
       "    </tr>\n",
       "    <tr>\n",
       "      <th>...</th>\n",
       "      <td>...</td>\n",
       "      <td>...</td>\n",
       "      <td>...</td>\n",
       "      <td>...</td>\n",
       "      <td>...</td>\n",
       "      <td>...</td>\n",
       "      <td>...</td>\n",
       "      <td>...</td>\n",
       "      <td>...</td>\n",
       "      <td>...</td>\n",
       "      <td>...</td>\n",
       "      <td>...</td>\n",
       "      <td>...</td>\n",
       "    </tr>\n",
       "    <tr>\n",
       "      <th>1163</th>\n",
       "      <td>../data/input/spotcheck/selenium-products/0/0X...</td>\n",
       "      <td>Amazon.com</td>\n",
       "      <td>Amazon.com</td>\n",
       "      <td>True</td>\n",
       "      <td>False</td>\n",
       "      <td>False</td>\n",
       "      <td>[b'&lt;div id=\"ape_Detail_ams-detail-right-v2_des...</td>\n",
       "      <td>False</td>\n",
       "      <td>False</td>\n",
       "      <td>False</td>\n",
       "      <td>[B000XSG300, B000XSG300, B000XSG300, B000XSG30...</td>\n",
       "      <td>B000XSG300</td>\n",
       "      <td>False</td>\n",
       "    </tr>\n",
       "    <tr>\n",
       "      <th>1164</th>\n",
       "      <td>../data/input/spotcheck/selenium-products/0/02...</td>\n",
       "      <td>Amazon.com</td>\n",
       "      <td>Amazon.com</td>\n",
       "      <td>True</td>\n",
       "      <td>False</td>\n",
       "      <td>False</td>\n",
       "      <td>[]</td>\n",
       "      <td>False</td>\n",
       "      <td>False</td>\n",
       "      <td>False</td>\n",
       "      <td>[B0002MLAEQ, B0002MLAEQ, B0002MLAEQ, B0002MLAE...</td>\n",
       "      <td>B0002MLAEQ</td>\n",
       "      <td>False</td>\n",
       "    </tr>\n",
       "    <tr>\n",
       "      <th>1165</th>\n",
       "      <td>../data/input/spotcheck/selenium-products/0/0X...</td>\n",
       "      <td>Amazon.com</td>\n",
       "      <td>Amazon.com</td>\n",
       "      <td>True</td>\n",
       "      <td>False</td>\n",
       "      <td>False</td>\n",
       "      <td>[b'&lt;div id=\"ape_Detail_ams-detail-right-v2_des...</td>\n",
       "      <td>False</td>\n",
       "      <td>False</td>\n",
       "      <td>False</td>\n",
       "      <td>[B000X457HO, B000X457HO, B000X457HO, B000X457H...</td>\n",
       "      <td>B000X457HO</td>\n",
       "      <td>False</td>\n",
       "    </tr>\n",
       "    <tr>\n",
       "      <th>1166</th>\n",
       "      <td>../data/input/spotcheck/selenium-products/0/0Q...</td>\n",
       "      <td>Amazon.com</td>\n",
       "      <td>Amazon.com</td>\n",
       "      <td>True</td>\n",
       "      <td>False</td>\n",
       "      <td>False</td>\n",
       "      <td>[b'&lt;div id=\"ape_Detail_ams-detail-right-v2_des...</td>\n",
       "      <td>False</td>\n",
       "      <td>False</td>\n",
       "      <td>False</td>\n",
       "      <td>[B000QTUJXS, B000QTUJXS, B000QTUJXS, B000QTUJX...</td>\n",
       "      <td>B000QTUJXS</td>\n",
       "      <td>False</td>\n",
       "    </tr>\n",
       "    <tr>\n",
       "      <th>1167</th>\n",
       "      <td>../data/input/spotcheck/selenium-products/0/0L...</td>\n",
       "      <td>Amazon.com</td>\n",
       "      <td>Amazon.com</td>\n",
       "      <td>True</td>\n",
       "      <td>False</td>\n",
       "      <td>False</td>\n",
       "      <td>[b'&lt;div id=\"ape_Detail_ams-detail-right-v2_des...</td>\n",
       "      <td>False</td>\n",
       "      <td>False</td>\n",
       "      <td>False</td>\n",
       "      <td>[B000LKZ3GA, B000LKZ3GA, B000LKZ3GA, B000LKZ3G...</td>\n",
       "      <td>B000LKZ3GA</td>\n",
       "      <td>False</td>\n",
       "    </tr>\n",
       "  </tbody>\n",
       "</table>\n",
       "<p>1168 rows × 13 columns</p>\n",
       "</div>"
      ],
      "text/plain": [
       "                                                     fn  \\\n",
       "0     ../data/input/spotcheck/selenium-products/5/5D...   \n",
       "1     ../data/input/spotcheck/selenium-products/5/5D...   \n",
       "2     ../data/input/spotcheck/selenium-products/5/58...   \n",
       "3     ../data/input/spotcheck/selenium-products/5/58...   \n",
       "4     ../data/input/spotcheck/selenium-products/5/5S...   \n",
       "...                                                 ...   \n",
       "1163  ../data/input/spotcheck/selenium-products/0/0X...   \n",
       "1164  ../data/input/spotcheck/selenium-products/0/02...   \n",
       "1165  ../data/input/spotcheck/selenium-products/0/0X...   \n",
       "1166  ../data/input/spotcheck/selenium-products/0/0Q...   \n",
       "1167  ../data/input/spotcheck/selenium-products/0/0L...   \n",
       "\n",
       "                   shipped_by                  sold_by  \\\n",
       "0     Amazon.com Services LLC  Amazon.com Services LLC   \n",
       "1                  Amazon.com               Amazon.com   \n",
       "2                  Amazon.com               Amazon.com   \n",
       "3                  Amazon.com               Amazon.com   \n",
       "4                      Amazon          Organic Verdana   \n",
       "...                       ...                      ...   \n",
       "1163               Amazon.com               Amazon.com   \n",
       "1164               Amazon.com               Amazon.com   \n",
       "1165               Amazon.com               Amazon.com   \n",
       "1166               Amazon.com               Amazon.com   \n",
       "1167               Amazon.com               Amazon.com   \n",
       "\n",
       "      has_third_party_sellers  product_by_amazon  our_brands_carousel  \\\n",
       "0                       False              False                 True   \n",
       "1                        True              False                False   \n",
       "2                        True              False                False   \n",
       "3                        True              False                 True   \n",
       "4                       False              False                 True   \n",
       "...                       ...                ...                  ...   \n",
       "1163                     True              False                False   \n",
       "1164                     True              False                False   \n",
       "1165                     True              False                False   \n",
       "1166                     True              False                False   \n",
       "1167                     True              False                False   \n",
       "\n",
       "                                                    ads  no_buybox_winner  \\\n",
       "0                                                    []             False   \n",
       "1                                                    []             False   \n",
       "2     [b'<div id=\"ape_Detail_desktop-detail-ilm_desk...             False   \n",
       "3     [b'<div id=\"ape_Detail_ams-detail-right-v2_des...             False   \n",
       "4     [b'<div id=\"ape_Detail_ams-detail-right-v2_des...             False   \n",
       "...                                                 ...               ...   \n",
       "1163  [b'<div id=\"ape_Detail_ams-detail-right-v2_des...             False   \n",
       "1164                                                 []             False   \n",
       "1165  [b'<div id=\"ape_Detail_ams-detail-right-v2_des...             False   \n",
       "1166  [b'<div id=\"ape_Detail_ams-detail-right-v2_des...             False   \n",
       "1167  [b'<div id=\"ape_Detail_ams-detail-right-v2_des...             False   \n",
       "\n",
       "      is_out_of_stock  is_page_gone  \\\n",
       "0               False         False   \n",
       "1               False         False   \n",
       "2               False         False   \n",
       "3               False         False   \n",
       "4               False         False   \n",
       "...               ...           ...   \n",
       "1163            False         False   \n",
       "1164            False         False   \n",
       "1165            False         False   \n",
       "1166            False         False   \n",
       "1167            False         False   \n",
       "\n",
       "                                            suggestions        asin  is_amazon  \n",
       "0      [B085DVTYHN, B085DVTYHN, B085DVTYHN, B085DVTYHN]  B085DVTYHN       True  \n",
       "1     [B075DJ8QKF, B075DJ8QKF, B075DJ8QKF, B075DJ8QK...  B075DJ8QKF      False  \n",
       "2     [B075898MXN, B075898MXN, B075898MXN, B075898MX...  B075898MXN      False  \n",
       "3     [B0058TWFWE, B0058TWFWE, B0058TWFWE, B0058TWFW...  B0058TWFWE      False  \n",
       "4     [B085S6RCVH, B085S6RCVH, B085S6RCVH, B085S6RCV...  B085S6RCVH      False  \n",
       "...                                                 ...         ...        ...  \n",
       "1163  [B000XSG300, B000XSG300, B000XSG300, B000XSG30...  B000XSG300      False  \n",
       "1164  [B0002MLAEQ, B0002MLAEQ, B0002MLAEQ, B0002MLAE...  B0002MLAEQ      False  \n",
       "1165  [B000X457HO, B000X457HO, B000X457HO, B000X457H...  B000X457HO      False  \n",
       "1166  [B000QTUJXS, B000QTUJXS, B000QTUJXS, B000QTUJX...  B000QTUJXS      False  \n",
       "1167  [B000LKZ3GA, B000LKZ3GA, B000LKZ3GA, B000LKZ3G...  B000LKZ3GA      False  \n",
       "\n",
       "[1168 rows x 13 columns]"
      ]
     },
     "execution_count": 189,
     "metadata": {},
     "output_type": "execute_result"
    }
   ],
   "source": [
    "df_prod_new"
   ]
  },
  {
   "cell_type": "code",
   "execution_count": null,
   "metadata": {},
   "outputs": [],
   "source": []
  }
 ],
 "metadata": {
  "kernelspec": {
   "display_name": "Python 3",
   "language": "python",
   "name": "python3"
  },
  "language_info": {
   "codemirror_mode": {
    "name": "ipython",
    "version": 3
   },
   "file_extension": ".py",
   "mimetype": "text/x-python",
   "name": "python",
   "nbconvert_exporter": "python",
   "pygments_lexer": "ipython3",
   "version": "3.8.1"
  }
 },
 "nbformat": 4,
 "nbformat_minor": 4
}
