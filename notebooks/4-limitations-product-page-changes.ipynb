{
 "cells": [
  {
   "cell_type": "markdown",
   "metadata": {},
   "source": [
    "# Error Analysis of Products\n",
    "This looks at how often products' default sellers and shippers switch from Amazon to a third-party."
   ]
  },
  {
   "cell_type": "code",
   "execution_count": 1,
   "metadata": {},
   "outputs": [],
   "source": [
    "%load_ext autoreload\n",
    "%autoreload 2"
   ]
  },
  {
   "cell_type": "code",
   "execution_count": 2,
   "metadata": {},
   "outputs": [],
   "source": [
    "import os\n",
    "import re\n",
    "import glob\n",
    "from collections import Counter\n",
    "import json\n",
    "from multiprocessing import Pool\n",
    "\n",
    "\n",
    "from tqdm import tqdm\n",
    "from lxml import html\n",
    "import numpy as np\n",
    "import pandas as pd\n",
    "# import s3\n",
    "\n",
    "import parsers as P\n",
    "from parsers import process_search_result\n",
    "from utils import value_counts"
   ]
  },
  {
   "cell_type": "code",
   "execution_count": 65,
   "metadata": {},
   "outputs": [],
   "source": [
    "# inputs\n",
    "fn_prod = '../data/intermediary/products.csv.xz'\n",
    "pattern_spot_check = '../data/input/spotcheck_2/selenium-products/*/*/*/2021/05/*/webpage_product.html'"
   ]
  },
  {
   "cell_type": "code",
   "execution_count": 66,
   "metadata": {},
   "outputs": [
    {
     "data": {
      "text/plain": [
       "3465"
      ]
     },
     "execution_count": 66,
     "metadata": {},
     "output_type": "execute_result"
    }
   ],
   "source": [
    "files_products = glob.glob(pattern_spot_check)\n",
    "len(files_products)"
   ]
  },
  {
   "cell_type": "code",
   "execution_count": 16,
   "metadata": {},
   "outputs": [],
   "source": [
    "df_prod = pd.read_csv(fn_prod, compression='xz')\n",
    "len(df_prod)"
   ]
  },
  {
   "cell_type": "code",
   "execution_count": 64,
   "metadata": {},
   "outputs": [
    {
     "name": "stderr",
     "output_type": "stream",
     "text": [
      "100%|██████████| 3465/3465 [00:23<00:00, 147.06it/s]\n"
     ]
    }
   ],
   "source": [
    "# parse the re-collected prodcuts.\n",
    "product_data = []\n",
    "with Pool(processes=32) as pool:\n",
    "    for record in tqdm(pool.imap_unordered(P.parse_product_page, \n",
    "                                           files_products), \n",
    "                       total=len(files_products)):\n",
    "        product_data.append(record)\n",
    "\n",
    "df_prod_new = pd.DataFrame(product_data)"
   ]
  },
  {
   "cell_type": "code",
   "execution_count": 67,
   "metadata": {},
   "outputs": [],
   "source": [
    "df_prod_new[\"asin\"] = df_prod_new.fn.apply(lambda x: x.split('/2021')[0].split('/')[-1])"
   ]
  },
  {
   "cell_type": "code",
   "execution_count": 68,
   "metadata": {},
   "outputs": [
    {
     "data": {
      "text/html": [
       "<div>\n",
       "<style scoped>\n",
       "    .dataframe tbody tr th:only-of-type {\n",
       "        vertical-align: middle;\n",
       "    }\n",
       "\n",
       "    .dataframe tbody tr th {\n",
       "        vertical-align: top;\n",
       "    }\n",
       "\n",
       "    .dataframe thead th {\n",
       "        text-align: right;\n",
       "    }\n",
       "</style>\n",
       "<table border=\"1\" class=\"dataframe\">\n",
       "  <thead>\n",
       "    <tr style=\"text-align: right;\">\n",
       "      <th></th>\n",
       "      <th>count</th>\n",
       "      <th>percentage</th>\n",
       "    </tr>\n",
       "  </thead>\n",
       "  <tbody>\n",
       "    <tr>\n",
       "      <th>False</th>\n",
       "      <td>3407</td>\n",
       "      <td>0.983261</td>\n",
       "    </tr>\n",
       "    <tr>\n",
       "      <th>True</th>\n",
       "      <td>58</td>\n",
       "      <td>0.016739</td>\n",
       "    </tr>\n",
       "  </tbody>\n",
       "</table>\n",
       "</div>"
      ],
      "text/plain": [
       "       count  percentage\n",
       "False   3407    0.983261\n",
       "True      58    0.016739"
      ]
     },
     "execution_count": 68,
     "metadata": {},
     "output_type": "execute_result"
    }
   ],
   "source": [
    "value_counts(df_prod_new, \"is_page_gone\")"
   ]
  },
  {
   "cell_type": "code",
   "execution_count": 69,
   "metadata": {},
   "outputs": [
    {
     "data": {
      "text/html": [
       "<div>\n",
       "<style scoped>\n",
       "    .dataframe tbody tr th:only-of-type {\n",
       "        vertical-align: middle;\n",
       "    }\n",
       "\n",
       "    .dataframe tbody tr th {\n",
       "        vertical-align: top;\n",
       "    }\n",
       "\n",
       "    .dataframe thead th {\n",
       "        text-align: right;\n",
       "    }\n",
       "</style>\n",
       "<table border=\"1\" class=\"dataframe\">\n",
       "  <thead>\n",
       "    <tr style=\"text-align: right;\">\n",
       "      <th></th>\n",
       "      <th>count</th>\n",
       "      <th>percentage</th>\n",
       "    </tr>\n",
       "  </thead>\n",
       "  <tbody>\n",
       "    <tr>\n",
       "      <th>False</th>\n",
       "      <td>3353</td>\n",
       "      <td>0.967677</td>\n",
       "    </tr>\n",
       "    <tr>\n",
       "      <th>True</th>\n",
       "      <td>112</td>\n",
       "      <td>0.032323</td>\n",
       "    </tr>\n",
       "  </tbody>\n",
       "</table>\n",
       "</div>"
      ],
      "text/plain": [
       "       count  percentage\n",
       "False   3353    0.967677\n",
       "True     112    0.032323"
      ]
     },
     "execution_count": 69,
     "metadata": {},
     "output_type": "execute_result"
    }
   ],
   "source": [
    "value_counts(df_prod_new, \"no_buybox_winner\")"
   ]
  },
  {
   "cell_type": "code",
   "execution_count": 70,
   "metadata": {},
   "outputs": [
    {
     "data": {
      "text/html": [
       "<div>\n",
       "<style scoped>\n",
       "    .dataframe tbody tr th:only-of-type {\n",
       "        vertical-align: middle;\n",
       "    }\n",
       "\n",
       "    .dataframe tbody tr th {\n",
       "        vertical-align: top;\n",
       "    }\n",
       "\n",
       "    .dataframe thead th {\n",
       "        text-align: right;\n",
       "    }\n",
       "</style>\n",
       "<table border=\"1\" class=\"dataframe\">\n",
       "  <thead>\n",
       "    <tr style=\"text-align: right;\">\n",
       "      <th></th>\n",
       "      <th>count</th>\n",
       "      <th>percentage</th>\n",
       "    </tr>\n",
       "  </thead>\n",
       "  <tbody>\n",
       "    <tr>\n",
       "      <th>False</th>\n",
       "      <td>3260</td>\n",
       "      <td>0.940837</td>\n",
       "    </tr>\n",
       "    <tr>\n",
       "      <th>True</th>\n",
       "      <td>205</td>\n",
       "      <td>0.059163</td>\n",
       "    </tr>\n",
       "  </tbody>\n",
       "</table>\n",
       "</div>"
      ],
      "text/plain": [
       "       count  percentage\n",
       "False   3260    0.940837\n",
       "True     205    0.059163"
      ]
     },
     "execution_count": 70,
     "metadata": {},
     "output_type": "execute_result"
    }
   ],
   "source": [
    "value_counts(df_prod_new, \"is_out_of_stock\")"
   ]
  },
  {
   "cell_type": "code",
   "execution_count": 71,
   "metadata": {},
   "outputs": [
    {
     "data": {
      "text/plain": [
       "0.0759018759018759"
      ]
     },
     "execution_count": 71,
     "metadata": {},
     "output_type": "execute_result"
    }
   ],
   "source": [
    "# what percentage of pages are out of stock or gone\n",
    "len(df_prod_new[(df_prod_new.is_out_of_stock == True) | \n",
    "                (df_prod_new.is_page_gone == True)]) / len(df_prod_new)"
   ]
  },
  {
   "cell_type": "code",
   "execution_count": 126,
   "metadata": {},
   "outputs": [
    {
     "data": {
      "text/plain": [
       "3465"
      ]
     },
     "execution_count": 126,
     "metadata": {},
     "output_type": "execute_result"
    }
   ],
   "source": [
    "len(df_prod_new[(df_prod_new.is_out_of_stock != True) | \n",
    "            (df_prod_new.is_page_gone != True)])"
   ]
  },
  {
   "cell_type": "code",
   "execution_count": 72,
   "metadata": {},
   "outputs": [],
   "source": [
    "# this is how we sample the products\n",
    "# to_check = df_prod.sample(2500, random_state=303).asin.tolist()"
   ]
  },
  {
   "cell_type": "code",
   "execution_count": 73,
   "metadata": {},
   "outputs": [
    {
     "data": {
      "text/plain": [
       "Amazon                0.560811\n",
       "Amazon.com            0.307207\n",
       "AmazonFresh           0.009910\n",
       "Whole Foods Market    0.008108\n",
       "Pharmapacks           0.002703\n",
       "                        ...   \n",
       "BA GROUP              0.000450\n",
       "MarketHype            0.000450\n",
       "iServe                0.000450\n",
       "Home Sheets           0.000450\n",
       "Xcess Limited         0.000450\n",
       "Name: shipped_by, Length: 237, dtype: float64"
      ]
     },
     "execution_count": 73,
     "metadata": {},
     "output_type": "execute_result"
    }
   ],
   "source": [
    "# df_prod[df_prod.asin.isin(to_check)].shipped_by.value_counts(normalize=True)"
   ]
  },
  {
   "cell_type": "code",
   "execution_count": 26,
   "metadata": {},
   "outputs": [
    {
     "data": {
      "text/plain": [
       "Amazon.com            0.304956\n",
       "AmazonFresh           0.012245\n",
       "Whole Foods Market    0.008746\n",
       "shein online store    0.002915\n",
       "Pharmapacks           0.002332\n",
       "                        ...   \n",
       "Awekris               0.000583\n",
       "HUHETA-US             0.000583\n",
       "ADREAMLY CLOTHING     0.000583\n",
       "HeetaDirect           0.000583\n",
       "Nordic Naturals       0.000583\n",
       "Name: sold_by, Length: 1087, dtype: float64"
      ]
     },
     "execution_count": 26,
     "metadata": {},
     "output_type": "execute_result"
    }
   ],
   "source": [
    "# df_prod[df_prod.asin.isin(to_check)].sold_by.value_counts(normalize=True)"
   ]
  },
  {
   "cell_type": "code",
   "execution_count": 82,
   "metadata": {},
   "outputs": [
    {
     "data": {
      "text/plain": [
       "fn                         ../data/input/spotcheck_2/selenium-products/5/...\n",
       "title                      LD Remanufactured Ink Cartridge Replacement fo...\n",
       "shipped_by                                                       LD Products\n",
       "sold_by                                                          LD Products\n",
       "has_third_party_sellers                                                 True\n",
       "product_by_amazon                                                      False\n",
       "our_brands_carousel                                                    False\n",
       "ads                                                                       []\n",
       "no_buybox_winner                                                       False\n",
       "is_out_of_stock                                                        False\n",
       "is_page_gone                                                           False\n",
       "suggestions                [B015DPWXCY, B015DPWXCY, B015DPWXCY, B015DPWXC...\n",
       "asin                                                              B015DPWXCY\n",
       "Name: 0, dtype: object"
      ]
     },
     "execution_count": 82,
     "metadata": {},
     "output_type": "execute_result"
    }
   ],
   "source": [
    "df_prod_new.iloc[0]"
   ]
  },
  {
   "cell_type": "code",
   "execution_count": 83,
   "metadata": {},
   "outputs": [],
   "source": [
    "df_prod_new.fillna(value=np.nan, inplace=True)"
   ]
  },
  {
   "cell_type": "code",
   "execution_count": 84,
   "metadata": {},
   "outputs": [],
   "source": [
    "df_prod.fillna(value=np.nan, inplace=True)"
   ]
  },
  {
   "cell_type": "code",
   "execution_count": 85,
   "metadata": {},
   "outputs": [],
   "source": [
    "df = df_prod[df_prod.asin.isin(df_prod_new.asin.unique())].merge(df_prod_new, on='asin', suffixes= ('_og', '_new'))"
   ]
  },
  {
   "cell_type": "code",
   "execution_count": 86,
   "metadata": {},
   "outputs": [
    {
     "data": {
      "text/plain": [
       "3465"
      ]
     },
     "execution_count": 86,
     "metadata": {},
     "output_type": "execute_result"
    }
   ],
   "source": [
    "len(df)"
   ]
  },
  {
   "cell_type": "code",
   "execution_count": 87,
   "metadata": {},
   "outputs": [],
   "source": [
    "amazon_sellers = ['zappos', 'whole foods', 'amazon']\n",
    "\n",
    "def who_switched(row, col1='sold_by_new', col2='sold_by_og'):\n",
    "    sold_new = False\n",
    "    sold_old = False\n",
    "    if any(seller in row[col1].lower() for seller in amazon_sellers):\n",
    "        sold_new = True\n",
    "    if any(seller in row[col2].lower() for seller in amazon_sellers):\n",
    "        sold_old = True\n",
    "    \n",
    "    if sold_new == False and sold_old == False:\n",
    "        return 'third party'\n",
    "    \n",
    "    if sold_new == True and sold_old == False:\n",
    "        return 'to amazon'\n",
    "    \n",
    "    if sold_new == False and sold_old == True:\n",
    "        return 'to third party'\n",
    "    \n",
    "    if sold_new == True and sold_old == True:\n",
    "        return \"amazon\"\n",
    "    \n",
    "def seller_switch(row):\n",
    "    return who_switched(row, col1='shipped_by_new', col2='shipped_by_og')"
   ]
  },
  {
   "cell_type": "code",
   "execution_count": null,
   "metadata": {},
   "outputs": [],
   "source": [
    "# blank = df[(df.sold_by_new.isnull() | df.sold_by_og.isnull()) &\n",
    "#            ((df.is_page_gone_new == False) & \n",
    "#             (df.no_buybox_winner_new == False) & \n",
    "#            (df.is_out_of_stock_new == False))]"
   ]
  },
  {
   "cell_type": "code",
   "execution_count": null,
   "metadata": {},
   "outputs": [],
   "source": [
    "# blank[['shipped_by_og', 'sold_by_og', \n",
    "#        'shipped_by_new', 'sold_by_new',\n",
    "#        'fn_og', 'fn_new']]"
   ]
  },
  {
   "cell_type": "code",
   "execution_count": 88,
   "metadata": {},
   "outputs": [],
   "source": [
    "df = df[~(df.sold_by_new.isnull() | df.sold_by_og.isnull())]"
   ]
  },
  {
   "cell_type": "code",
   "execution_count": 103,
   "metadata": {},
   "outputs": [
    {
     "data": {
      "text/plain": [
       "2600"
      ]
     },
     "execution_count": 103,
     "metadata": {},
     "output_type": "execute_result"
    }
   ],
   "source": [
    "len(df)"
   ]
  },
  {
   "cell_type": "code",
   "execution_count": 90,
   "metadata": {},
   "outputs": [],
   "source": [
    "df['seller_delta'] = df.apply(who_switched, axis=1)\n",
    "df['shipper_delta'] = df.apply(seller_switch, axis=1)"
   ]
  },
  {
   "cell_type": "code",
   "execution_count": 91,
   "metadata": {},
   "outputs": [
    {
     "data": {
      "text/plain": [
       "0.026153846153846153"
      ]
     },
     "execution_count": 91,
     "metadata": {},
     "output_type": "execute_result"
    }
   ],
   "source": [
    "# how many changed?\n",
    "df[df.seller_delta.isin(['to amazon', 'to third party'])].asin.nunique() / df.asin.nunique()"
   ]
  },
  {
   "cell_type": "code",
   "execution_count": 92,
   "metadata": {},
   "outputs": [
    {
     "data": {
      "text/html": [
       "<div>\n",
       "<style scoped>\n",
       "    .dataframe tbody tr th:only-of-type {\n",
       "        vertical-align: middle;\n",
       "    }\n",
       "\n",
       "    .dataframe tbody tr th {\n",
       "        vertical-align: top;\n",
       "    }\n",
       "\n",
       "    .dataframe thead th {\n",
       "        text-align: right;\n",
       "    }\n",
       "</style>\n",
       "<table border=\"1\" class=\"dataframe\">\n",
       "  <thead>\n",
       "    <tr style=\"text-align: right;\">\n",
       "      <th></th>\n",
       "      <th>count</th>\n",
       "      <th>percentage</th>\n",
       "    </tr>\n",
       "  </thead>\n",
       "  <tbody>\n",
       "    <tr>\n",
       "      <th>third party</th>\n",
       "      <td>363</td>\n",
       "      <td>0.819413</td>\n",
       "    </tr>\n",
       "    <tr>\n",
       "      <th>to third party</th>\n",
       "      <td>41</td>\n",
       "      <td>0.092551</td>\n",
       "    </tr>\n",
       "    <tr>\n",
       "      <th>to amazon</th>\n",
       "      <td>27</td>\n",
       "      <td>0.060948</td>\n",
       "    </tr>\n",
       "    <tr>\n",
       "      <th>amazon</th>\n",
       "      <td>12</td>\n",
       "      <td>0.027088</td>\n",
       "    </tr>\n",
       "  </tbody>\n",
       "</table>\n",
       "</div>"
      ],
      "text/plain": [
       "                count  percentage\n",
       "third party       363    0.819413\n",
       "to third party     41    0.092551\n",
       "to amazon          27    0.060948\n",
       "amazon             12    0.027088"
      ]
     },
     "execution_count": 92,
     "metadata": {},
     "output_type": "execute_result"
    }
   ],
   "source": [
    "value_counts(df[df.sold_by_new != df.sold_by_og], \"seller_delta\")"
   ]
  },
  {
   "cell_type": "code",
   "execution_count": 93,
   "metadata": {},
   "outputs": [
    {
     "data": {
      "text/html": [
       "<div>\n",
       "<style scoped>\n",
       "    .dataframe tbody tr th:only-of-type {\n",
       "        vertical-align: middle;\n",
       "    }\n",
       "\n",
       "    .dataframe tbody tr th {\n",
       "        vertical-align: top;\n",
       "    }\n",
       "\n",
       "    .dataframe thead th {\n",
       "        text-align: right;\n",
       "    }\n",
       "</style>\n",
       "<table border=\"1\" class=\"dataframe\">\n",
       "  <thead>\n",
       "    <tr style=\"text-align: right;\">\n",
       "      <th></th>\n",
       "      <th>count</th>\n",
       "      <th>percentage</th>\n",
       "    </tr>\n",
       "  </thead>\n",
       "  <tbody>\n",
       "    <tr>\n",
       "      <th>third party</th>\n",
       "      <td>1789</td>\n",
       "      <td>0.688077</td>\n",
       "    </tr>\n",
       "    <tr>\n",
       "      <th>amazon</th>\n",
       "      <td>743</td>\n",
       "      <td>0.285769</td>\n",
       "    </tr>\n",
       "    <tr>\n",
       "      <th>to third party</th>\n",
       "      <td>41</td>\n",
       "      <td>0.015769</td>\n",
       "    </tr>\n",
       "    <tr>\n",
       "      <th>to amazon</th>\n",
       "      <td>27</td>\n",
       "      <td>0.010385</td>\n",
       "    </tr>\n",
       "  </tbody>\n",
       "</table>\n",
       "</div>"
      ],
      "text/plain": [
       "                count  percentage\n",
       "third party      1789    0.688077\n",
       "amazon            743    0.285769\n",
       "to third party     41    0.015769\n",
       "to amazon          27    0.010385"
      ]
     },
     "execution_count": 93,
     "metadata": {},
     "output_type": "execute_result"
    }
   ],
   "source": [
    "value_counts(df, \"seller_delta\")"
   ]
  },
  {
   "cell_type": "markdown",
   "metadata": {},
   "source": [
    "caclulate ranges using this site: https://www.surveysystem.com/sscalc.htm"
   ]
  },
  {
   "cell_type": "code",
   "execution_count": 104,
   "metadata": {},
   "outputs": [],
   "source": [
    "def mean_confidence_interval(data, confidence=0.95):\n",
    "    a = 1.0 * np.array(data)\n",
    "    n = len(a)\n",
    "    m, se = np.mean(a), scipy.stats.sem(a)\n",
    "    h = se * scipy.stats.t.ppf((1 + confidence) / 2., n-1)\n",
    "    return m, m-h, m+h"
   ]
  },
  {
   "cell_type": "code",
   "execution_count": 106,
   "metadata": {},
   "outputs": [],
   "source": [
    "import scipy.stats as st"
   ]
  },
  {
   "cell_type": "code",
   "execution_count": 108,
   "metadata": {},
   "outputs": [
    {
     "ename": "ModuleNotFoundError",
     "evalue": "No module named 'statsmodels'",
     "output_type": "error",
     "traceback": [
      "\u001b[0;31m---------------------------------------------------------------------------\u001b[0m",
      "\u001b[0;31mModuleNotFoundError\u001b[0m                       Traceback (most recent call last)",
      "\u001b[0;32m<ipython-input-108-257d409d0f1c>\u001b[0m in \u001b[0;36m<module>\u001b[0;34m\u001b[0m\n\u001b[0;32m----> 1\u001b[0;31m \u001b[0;32mfrom\u001b[0m \u001b[0mstatsmodels\u001b[0m\u001b[0;34m.\u001b[0m\u001b[0mstats\u001b[0m\u001b[0;34m.\u001b[0m\u001b[0mproportion\u001b[0m \u001b[0;32mimport\u001b[0m \u001b[0mproportion_confint\u001b[0m\u001b[0;34m\u001b[0m\u001b[0;34m\u001b[0m\u001b[0m\n\u001b[0m",
      "\u001b[0;31mModuleNotFoundError\u001b[0m: No module named 'statsmodels'"
     ]
    }
   ],
   "source": [
    "from statsmodels.stats.proportion import proportion_confint"
   ]
  },
  {
   "cell_type": "code",
   "execution_count": 109,
   "metadata": {},
   "outputs": [],
   "source": [
    "import math"
   ]
  },
  {
   "cell_type": "code",
   "execution_count": 114,
   "metadata": {},
   "outputs": [],
   "source": [
    "p = 2600 / 157405\n",
    "d = 95\n",
    "sample_size = 16 * p * (100-p) / (d ^ 2)\n"
   ]
  },
  {
   "cell_type": "code",
   "execution_count": 115,
   "metadata": {},
   "outputs": [
    {
     "data": {
      "text/plain": [
       "0.28413197893203257"
      ]
     },
     "execution_count": 115,
     "metadata": {},
     "output_type": "execute_result"
    }
   ],
   "source": [
    "sample_size"
   ]
  },
  {
   "cell_type": "code",
   "execution_count": 107,
   "metadata": {},
   "outputs": [
    {
     "ename": "NameError",
     "evalue": "name 'data' is not defined",
     "output_type": "error",
     "traceback": [
      "\u001b[0;31m---------------------------------------------------------------------------\u001b[0m",
      "\u001b[0;31mNameError\u001b[0m                                 Traceback (most recent call last)",
      "\u001b[0;32m<ipython-input-107-b442a168e2f2>\u001b[0m in \u001b[0;36m<module>\u001b[0;34m\u001b[0m\n\u001b[1;32m      1\u001b[0m st.t.interval(alpha=0.95, \n\u001b[0;32m----> 2\u001b[0;31m               \u001b[0mdf\u001b[0m\u001b[0;34m=\u001b[0m\u001b[0mlen\u001b[0m\u001b[0;34m(\u001b[0m\u001b[0mdata\u001b[0m\u001b[0;34m)\u001b[0m\u001b[0;34m-\u001b[0m\u001b[0;36m1\u001b[0m\u001b[0;34m,\u001b[0m\u001b[0;34m\u001b[0m\u001b[0;34m\u001b[0m\u001b[0m\n\u001b[0m\u001b[1;32m      3\u001b[0m               loc=np.mean(data), scale=st.sem(data)) \n",
      "\u001b[0;31mNameError\u001b[0m: name 'data' is not defined"
     ]
    }
   ],
   "source": [
    "st.t.interval(alpha=0.95, \n",
    "              df=len(data)-1, \n",
    "              loc=np.mean(data), \n",
    "              scale=st.sem(data)) \n"
   ]
  },
  {
   "cell_type": "code",
   "execution_count": 94,
   "metadata": {},
   "outputs": [
    {
     "data": {
      "text/plain": [
       "0.026153846153846153"
      ]
     },
     "execution_count": 94,
     "metadata": {},
     "output_type": "execute_result"
    }
   ],
   "source": [
    "df[df.seller_delta.isin(['to amazon', 'to third party'])].asin.nunique() / df.asin.nunique()"
   ]
  },
  {
   "cell_type": "code",
   "execution_count": 95,
   "metadata": {},
   "outputs": [
    {
     "data": {
      "text/plain": [
       "0.05923076923076923"
      ]
     },
     "execution_count": 95,
     "metadata": {},
     "output_type": "execute_result"
    }
   ],
   "source": [
    "df[df.shipper_delta.isin(['to amazon', 'to third party'])].asin.nunique() / df.asin.nunique()"
   ]
  },
  {
   "cell_type": "code",
   "execution_count": null,
   "metadata": {},
   "outputs": [],
   "source": [
    "# len(df[df.shipped_by_new != df.shipped_by_og]) / len(df)"
   ]
  },
  {
   "cell_type": "code",
   "execution_count": 96,
   "metadata": {},
   "outputs": [
    {
     "data": {
      "text/html": [
       "<div>\n",
       "<style scoped>\n",
       "    .dataframe tbody tr th:only-of-type {\n",
       "        vertical-align: middle;\n",
       "    }\n",
       "\n",
       "    .dataframe tbody tr th {\n",
       "        vertical-align: top;\n",
       "    }\n",
       "\n",
       "    .dataframe thead th {\n",
       "        text-align: right;\n",
       "    }\n",
       "</style>\n",
       "<table border=\"1\" class=\"dataframe\">\n",
       "  <thead>\n",
       "    <tr style=\"text-align: right;\">\n",
       "      <th></th>\n",
       "      <th>count</th>\n",
       "      <th>percentage</th>\n",
       "    </tr>\n",
       "  </thead>\n",
       "  <tbody>\n",
       "    <tr>\n",
       "      <th>to third party</th>\n",
       "      <td>78</td>\n",
       "      <td>0.278571</td>\n",
       "    </tr>\n",
       "    <tr>\n",
       "      <th>to amazon</th>\n",
       "      <td>76</td>\n",
       "      <td>0.271429</td>\n",
       "    </tr>\n",
       "    <tr>\n",
       "      <th>third party</th>\n",
       "      <td>74</td>\n",
       "      <td>0.264286</td>\n",
       "    </tr>\n",
       "    <tr>\n",
       "      <th>amazon</th>\n",
       "      <td>52</td>\n",
       "      <td>0.185714</td>\n",
       "    </tr>\n",
       "  </tbody>\n",
       "</table>\n",
       "</div>"
      ],
      "text/plain": [
       "                count  percentage\n",
       "to third party     78    0.278571\n",
       "to amazon          76    0.271429\n",
       "third party        74    0.264286\n",
       "amazon             52    0.185714"
      ]
     },
     "execution_count": 96,
     "metadata": {},
     "output_type": "execute_result"
    }
   ],
   "source": [
    "value_counts(df[df.shipped_by_new != df.shipped_by_og], \"shipper_delta\")"
   ]
  },
  {
   "cell_type": "code",
   "execution_count": 97,
   "metadata": {},
   "outputs": [
    {
     "data": {
      "text/html": [
       "<div>\n",
       "<style scoped>\n",
       "    .dataframe tbody tr th:only-of-type {\n",
       "        vertical-align: middle;\n",
       "    }\n",
       "\n",
       "    .dataframe tbody tr th {\n",
       "        vertical-align: top;\n",
       "    }\n",
       "\n",
       "    .dataframe thead th {\n",
       "        text-align: right;\n",
       "    }\n",
       "</style>\n",
       "<table border=\"1\" class=\"dataframe\">\n",
       "  <thead>\n",
       "    <tr style=\"text-align: right;\">\n",
       "      <th></th>\n",
       "      <th>count</th>\n",
       "      <th>percentage</th>\n",
       "    </tr>\n",
       "  </thead>\n",
       "  <tbody>\n",
       "    <tr>\n",
       "      <th>False</th>\n",
       "      <td>152613</td>\n",
       "      <td>0.969556</td>\n",
       "    </tr>\n",
       "    <tr>\n",
       "      <th>True</th>\n",
       "      <td>4792</td>\n",
       "      <td>0.030444</td>\n",
       "    </tr>\n",
       "  </tbody>\n",
       "</table>\n",
       "</div>"
      ],
      "text/plain": [
       "        count  percentage\n",
       "False  152613    0.969556\n",
       "True     4792    0.030444"
      ]
     },
     "execution_count": 97,
     "metadata": {},
     "output_type": "execute_result"
    }
   ],
   "source": [
    "# value_counts(df_prod, \"is_out_of_stock\")"
   ]
  },
  {
   "cell_type": "code",
   "execution_count": 44,
   "metadata": {},
   "outputs": [
    {
     "data": {
      "text/plain": [
       "Amazon.com                 0.287229\n",
       "AmazonFresh                0.011006\n",
       "Whole Foods Market         0.007759\n",
       "Pharmapacks                0.002296\n",
       "Amazon.com Services LLC    0.001828\n",
       "                             ...   \n",
       "probebi                    0.000007\n",
       "Allizom                    0.000007\n",
       "Batianda                   0.000007\n",
       "Phogary US                 0.000007\n",
       "StanCo LTD.                0.000007\n",
       "Name: sold_by, Length: 41906, dtype: float64"
      ]
     },
     "execution_count": 44,
     "metadata": {},
     "output_type": "execute_result"
    }
   ],
   "source": [
    "# OG amazon sold.\n",
    "df_prod.sold_by.value_counts(normalize=True)"
   ]
  },
  {
   "cell_type": "code",
   "execution_count": 99,
   "metadata": {},
   "outputs": [
    {
     "data": {
      "text/plain": [
       "False    0.935065\n",
       "True     0.064935\n",
       "Name: is_amazon, dtype: float64"
      ]
     },
     "execution_count": 99,
     "metadata": {},
     "output_type": "execute_result"
    }
   ],
   "source": [
    "df_prod[df_prod.asin.isin(df_prod_new.asin)].is_amazon.value_counts(normalize=True)"
   ]
  },
  {
   "cell_type": "code",
   "execution_count": 100,
   "metadata": {},
   "outputs": [
    {
     "data": {
      "text/plain": [
       "Amazon.com                 0.285174\n",
       "AmazonFresh                0.011356\n",
       "Whole Foods Market         0.008202\n",
       "Amazon.com Services LLC    0.002839\n",
       "Pharmapacks                0.002524\n",
       "                             ...   \n",
       "BlessLiving Home           0.000315\n",
       "Color Technik              0.000315\n",
       "Trophikos, LLC.            0.000315\n",
       "DRIPEX-US                  0.000315\n",
       "Bronson Laboratories       0.000315\n",
       "Name: sold_by, Length: 2008, dtype: float64"
      ]
     },
     "execution_count": 100,
     "metadata": {},
     "output_type": "execute_result"
    }
   ],
   "source": [
    "df_prod[df_prod.asin.isin(df_prod_new.asin)].sold_by.value_counts(normalize=True)"
   ]
  },
  {
   "cell_type": "code",
   "execution_count": 101,
   "metadata": {},
   "outputs": [
    {
     "data": {
      "text/html": [
       "<div>\n",
       "<style scoped>\n",
       "    .dataframe tbody tr th:only-of-type {\n",
       "        vertical-align: middle;\n",
       "    }\n",
       "\n",
       "    .dataframe tbody tr th {\n",
       "        vertical-align: top;\n",
       "    }\n",
       "\n",
       "    .dataframe thead th {\n",
       "        text-align: right;\n",
       "    }\n",
       "</style>\n",
       "<table border=\"1\" class=\"dataframe\">\n",
       "  <thead>\n",
       "    <tr style=\"text-align: right;\">\n",
       "      <th></th>\n",
       "      <th>fn</th>\n",
       "      <th>title</th>\n",
       "      <th>shipped_by</th>\n",
       "      <th>sold_by</th>\n",
       "      <th>has_third_party_sellers</th>\n",
       "      <th>product_by_amazon</th>\n",
       "      <th>our_brands_carousel</th>\n",
       "      <th>ads</th>\n",
       "      <th>no_buybox_winner</th>\n",
       "      <th>is_out_of_stock</th>\n",
       "      <th>is_page_gone</th>\n",
       "      <th>suggestions</th>\n",
       "      <th>asin</th>\n",
       "    </tr>\n",
       "  </thead>\n",
       "  <tbody>\n",
       "    <tr>\n",
       "      <th>0</th>\n",
       "      <td>../data/input/spotcheck_2/selenium-products/5/...</td>\n",
       "      <td>LD Remanufactured Ink Cartridge Replacement fo...</td>\n",
       "      <td>LD Products</td>\n",
       "      <td>LD Products</td>\n",
       "      <td>True</td>\n",
       "      <td>False</td>\n",
       "      <td>False</td>\n",
       "      <td>[]</td>\n",
       "      <td>False</td>\n",
       "      <td>False</td>\n",
       "      <td>False</td>\n",
       "      <td>[B015DPWXCY, B015DPWXCY, B015DPWXCY, B015DPWXC...</td>\n",
       "      <td>B015DPWXCY</td>\n",
       "    </tr>\n",
       "    <tr>\n",
       "      <th>1</th>\n",
       "      <td>../data/input/spotcheck_2/selenium-products/5/...</td>\n",
       "      <td>Yoleo Indoor Basketball Arcade Game, Official ...</td>\n",
       "      <td>Weallnersse US</td>\n",
       "      <td>Weallnersse US</td>\n",
       "      <td>False</td>\n",
       "      <td>False</td>\n",
       "      <td>False</td>\n",
       "      <td>[]</td>\n",
       "      <td>False</td>\n",
       "      <td>False</td>\n",
       "      <td>False</td>\n",
       "      <td>[B085DF5126, B085DF5126, B085DF5126, B085DF512...</td>\n",
       "      <td>B085DF5126</td>\n",
       "    </tr>\n",
       "    <tr>\n",
       "      <th>2</th>\n",
       "      <td>../data/input/spotcheck_2/selenium-products/5/...</td>\n",
       "      <td>Safety Goggles, Anti-Fog Protective Safety Gla...</td>\n",
       "      <td>Amazon</td>\n",
       "      <td>HOMESMG</td>\n",
       "      <td>True</td>\n",
       "      <td>False</td>\n",
       "      <td>False</td>\n",
       "      <td>[b'&lt;div id=\"ape_Detail_ams-detail-right-v2_des...</td>\n",
       "      <td>False</td>\n",
       "      <td>False</td>\n",
       "      <td>False</td>\n",
       "      <td>[B085DSZ26J, B085DSZ26J, B085DSZ26J, B085DSZ26...</td>\n",
       "      <td>B085DSZ26J</td>\n",
       "    </tr>\n",
       "    <tr>\n",
       "      <th>3</th>\n",
       "      <td>../data/input/spotcheck_2/selenium-products/5/...</td>\n",
       "      <td>JVC HAFX5V Gumy Plus Inner Ear Headphones (Gra...</td>\n",
       "      <td>Amazon.com</td>\n",
       "      <td>Amazon.com</td>\n",
       "      <td>True</td>\n",
       "      <td>False</td>\n",
       "      <td>False</td>\n",
       "      <td>[b'&lt;div id=\"ape_Detail_ams-detail-right-v2_des...</td>\n",
       "      <td>False</td>\n",
       "      <td>False</td>\n",
       "      <td>False</td>\n",
       "      <td>[B005DHKRVC, B005DHKRVC, B005DHKRVC, B005DHKRV...</td>\n",
       "      <td>B005DHKRVC</td>\n",
       "    </tr>\n",
       "    <tr>\n",
       "      <th>4</th>\n",
       "      <td>../data/input/spotcheck_2/selenium-products/5/...</td>\n",
       "      <td>LEATHERMAN, Wingman Multitool with Spring-Acti...</td>\n",
       "      <td>Amazon</td>\n",
       "      <td>NetRush</td>\n",
       "      <td>True</td>\n",
       "      <td>False</td>\n",
       "      <td>False</td>\n",
       "      <td>[b'&lt;div id=\"ape_Detail_ams-detail-right-v2_des...</td>\n",
       "      <td>False</td>\n",
       "      <td>False</td>\n",
       "      <td>False</td>\n",
       "      <td>[B005DI0XM4, B005DI0XM4, B005DI0XM4, B005DI0XM...</td>\n",
       "      <td>B005DI0XM4</td>\n",
       "    </tr>\n",
       "    <tr>\n",
       "      <th>...</th>\n",
       "      <td>...</td>\n",
       "      <td>...</td>\n",
       "      <td>...</td>\n",
       "      <td>...</td>\n",
       "      <td>...</td>\n",
       "      <td>...</td>\n",
       "      <td>...</td>\n",
       "      <td>...</td>\n",
       "      <td>...</td>\n",
       "      <td>...</td>\n",
       "      <td>...</td>\n",
       "      <td>...</td>\n",
       "      <td>...</td>\n",
       "    </tr>\n",
       "    <tr>\n",
       "      <th>3460</th>\n",
       "      <td>../data/input/spotcheck_2/selenium-products/0/...</td>\n",
       "      <td>Scotch Tape Double Sided, 1/2 in x 300 in (002...</td>\n",
       "      <td>Amazon.com</td>\n",
       "      <td>Amazon.com</td>\n",
       "      <td>True</td>\n",
       "      <td>False</td>\n",
       "      <td>False</td>\n",
       "      <td>[]</td>\n",
       "      <td>False</td>\n",
       "      <td>False</td>\n",
       "      <td>False</td>\n",
       "      <td>[B000XAJFC6, B000XAJFC6, B000XAJFC6, B000XAJFC...</td>\n",
       "      <td>B000XAJFC6</td>\n",
       "    </tr>\n",
       "    <tr>\n",
       "      <th>3461</th>\n",
       "      <td>../data/input/spotcheck_2/selenium-products/0/...</td>\n",
       "      <td>Bush's Best Black Beans, 15 oz</td>\n",
       "      <td>AmazonFresh</td>\n",
       "      <td>AmazonFresh</td>\n",
       "      <td>False</td>\n",
       "      <td>False</td>\n",
       "      <td>False</td>\n",
       "      <td>[]</td>\n",
       "      <td>False</td>\n",
       "      <td>False</td>\n",
       "      <td>False</td>\n",
       "      <td>[B000Q5L3HI, B000Q5L3HI, B000Q5L3HI, B000Q5L3H...</td>\n",
       "      <td>B000Q5L3HI</td>\n",
       "    </tr>\n",
       "    <tr>\n",
       "      <th>3462</th>\n",
       "      <td>../data/input/spotcheck_2/selenium-products/0/...</td>\n",
       "      <td>Aurora AS420C Desktop-Style Cross-Cut Paper Sh...</td>\n",
       "      <td>Amazon.com</td>\n",
       "      <td>Amazon.com</td>\n",
       "      <td>True</td>\n",
       "      <td>False</td>\n",
       "      <td>False</td>\n",
       "      <td>[]</td>\n",
       "      <td>False</td>\n",
       "      <td>False</td>\n",
       "      <td>False</td>\n",
       "      <td>[B08L3XJXF6, B000QTAU7I, B000QTAU7I, B000QTAU7...</td>\n",
       "      <td>B000QTAU7I</td>\n",
       "    </tr>\n",
       "    <tr>\n",
       "      <th>3463</th>\n",
       "      <td>../data/input/spotcheck_2/selenium-products/0/...</td>\n",
       "      <td>TOMS Men's Classic Alpargata Slip-On Shoe</td>\n",
       "      <td>Amazon.com</td>\n",
       "      <td>Amazon.com</td>\n",
       "      <td>True</td>\n",
       "      <td>False</td>\n",
       "      <td>False</td>\n",
       "      <td>[]</td>\n",
       "      <td>False</td>\n",
       "      <td>False</td>\n",
       "      <td>False</td>\n",
       "      <td>[B000XBM1L2, B000XBM1L2, B000XBM1L2, B000XBM1L...</td>\n",
       "      <td>B000XBM1L2</td>\n",
       "    </tr>\n",
       "    <tr>\n",
       "      <th>3464</th>\n",
       "      <td>../data/input/spotcheck_2/selenium-products/0/...</td>\n",
       "      <td>Zyrtec 24 Hour Allergy Relief Tablets, 10 mg C...</td>\n",
       "      <td>Amazon</td>\n",
       "      <td>barginhousedeals</td>\n",
       "      <td>True</td>\n",
       "      <td>False</td>\n",
       "      <td>False</td>\n",
       "      <td>[b'&lt;div id=\"ape_Detail_ams-detail-right-v2_des...</td>\n",
       "      <td>False</td>\n",
       "      <td>False</td>\n",
       "      <td>False</td>\n",
       "      <td>[B000X1D0AI, B000X1D0AI, B000X1D0AI, B000X1D0A...</td>\n",
       "      <td>B000X1D0AI</td>\n",
       "    </tr>\n",
       "  </tbody>\n",
       "</table>\n",
       "<p>3465 rows × 13 columns</p>\n",
       "</div>"
      ],
      "text/plain": [
       "                                                     fn  \\\n",
       "0     ../data/input/spotcheck_2/selenium-products/5/...   \n",
       "1     ../data/input/spotcheck_2/selenium-products/5/...   \n",
       "2     ../data/input/spotcheck_2/selenium-products/5/...   \n",
       "3     ../data/input/spotcheck_2/selenium-products/5/...   \n",
       "4     ../data/input/spotcheck_2/selenium-products/5/...   \n",
       "...                                                 ...   \n",
       "3460  ../data/input/spotcheck_2/selenium-products/0/...   \n",
       "3461  ../data/input/spotcheck_2/selenium-products/0/...   \n",
       "3462  ../data/input/spotcheck_2/selenium-products/0/...   \n",
       "3463  ../data/input/spotcheck_2/selenium-products/0/...   \n",
       "3464  ../data/input/spotcheck_2/selenium-products/0/...   \n",
       "\n",
       "                                                  title      shipped_by  \\\n",
       "0     LD Remanufactured Ink Cartridge Replacement fo...     LD Products   \n",
       "1     Yoleo Indoor Basketball Arcade Game, Official ...  Weallnersse US   \n",
       "2     Safety Goggles, Anti-Fog Protective Safety Gla...          Amazon   \n",
       "3     JVC HAFX5V Gumy Plus Inner Ear Headphones (Gra...      Amazon.com   \n",
       "4     LEATHERMAN, Wingman Multitool with Spring-Acti...          Amazon   \n",
       "...                                                 ...             ...   \n",
       "3460  Scotch Tape Double Sided, 1/2 in x 300 in (002...      Amazon.com   \n",
       "3461                     Bush's Best Black Beans, 15 oz     AmazonFresh   \n",
       "3462  Aurora AS420C Desktop-Style Cross-Cut Paper Sh...      Amazon.com   \n",
       "3463          TOMS Men's Classic Alpargata Slip-On Shoe      Amazon.com   \n",
       "3464  Zyrtec 24 Hour Allergy Relief Tablets, 10 mg C...          Amazon   \n",
       "\n",
       "               sold_by  has_third_party_sellers  product_by_amazon  \\\n",
       "0          LD Products                     True              False   \n",
       "1       Weallnersse US                    False              False   \n",
       "2              HOMESMG                     True              False   \n",
       "3           Amazon.com                     True              False   \n",
       "4              NetRush                     True              False   \n",
       "...                ...                      ...                ...   \n",
       "3460        Amazon.com                     True              False   \n",
       "3461       AmazonFresh                    False              False   \n",
       "3462        Amazon.com                     True              False   \n",
       "3463        Amazon.com                     True              False   \n",
       "3464  barginhousedeals                     True              False   \n",
       "\n",
       "      our_brands_carousel                                                ads  \\\n",
       "0                   False                                                 []   \n",
       "1                   False                                                 []   \n",
       "2                   False  [b'<div id=\"ape_Detail_ams-detail-right-v2_des...   \n",
       "3                   False  [b'<div id=\"ape_Detail_ams-detail-right-v2_des...   \n",
       "4                   False  [b'<div id=\"ape_Detail_ams-detail-right-v2_des...   \n",
       "...                   ...                                                ...   \n",
       "3460                False                                                 []   \n",
       "3461                False                                                 []   \n",
       "3462                False                                                 []   \n",
       "3463                False                                                 []   \n",
       "3464                False  [b'<div id=\"ape_Detail_ams-detail-right-v2_des...   \n",
       "\n",
       "      no_buybox_winner  is_out_of_stock  is_page_gone  \\\n",
       "0                False            False         False   \n",
       "1                False            False         False   \n",
       "2                False            False         False   \n",
       "3                False            False         False   \n",
       "4                False            False         False   \n",
       "...                ...              ...           ...   \n",
       "3460             False            False         False   \n",
       "3461             False            False         False   \n",
       "3462             False            False         False   \n",
       "3463             False            False         False   \n",
       "3464             False            False         False   \n",
       "\n",
       "                                            suggestions        asin  \n",
       "0     [B015DPWXCY, B015DPWXCY, B015DPWXCY, B015DPWXC...  B015DPWXCY  \n",
       "1     [B085DF5126, B085DF5126, B085DF5126, B085DF512...  B085DF5126  \n",
       "2     [B085DSZ26J, B085DSZ26J, B085DSZ26J, B085DSZ26...  B085DSZ26J  \n",
       "3     [B005DHKRVC, B005DHKRVC, B005DHKRVC, B005DHKRV...  B005DHKRVC  \n",
       "4     [B005DI0XM4, B005DI0XM4, B005DI0XM4, B005DI0XM...  B005DI0XM4  \n",
       "...                                                 ...         ...  \n",
       "3460  [B000XAJFC6, B000XAJFC6, B000XAJFC6, B000XAJFC...  B000XAJFC6  \n",
       "3461  [B000Q5L3HI, B000Q5L3HI, B000Q5L3HI, B000Q5L3H...  B000Q5L3HI  \n",
       "3462  [B08L3XJXF6, B000QTAU7I, B000QTAU7I, B000QTAU7...  B000QTAU7I  \n",
       "3463  [B000XBM1L2, B000XBM1L2, B000XBM1L2, B000XBM1L...  B000XBM1L2  \n",
       "3464  [B000X1D0AI, B000X1D0AI, B000X1D0AI, B000X1D0A...  B000X1D0AI  \n",
       "\n",
       "[3465 rows x 13 columns]"
      ]
     },
     "execution_count": 101,
     "metadata": {},
     "output_type": "execute_result"
    }
   ],
   "source": [
    "df_prod_new"
   ]
  },
  {
   "cell_type": "code",
   "execution_count": 49,
   "metadata": {},
   "outputs": [
    {
     "data": {
      "text/plain": [
       "Amazon.com                 0.793380\n",
       "Amazon.com Services LLC    0.017051\n",
       "AmazonFresh                0.004012\n",
       "Zappos                     0.003009\n",
       "Best Buy                   0.003009\n",
       "                             ...   \n",
       "Manscaped                  0.001003\n",
       "Skillmatics USA            0.001003\n",
       "ICEPURE Store              0.001003\n",
       "TEJATAN                    0.001003\n",
       "Woot                       0.001003\n",
       "Name: sold_by, Length: 182, dtype: float64"
      ]
     },
     "execution_count": 49,
     "metadata": {},
     "output_type": "execute_result"
    }
   ],
   "source": [
    "df_prod_new.sold_by.value_counts(normalize=True)"
   ]
  },
  {
   "cell_type": "code",
   "execution_count": 52,
   "metadata": {},
   "outputs": [
    {
     "data": {
      "text/plain": [
       "Amazon.com            0.304956\n",
       "AmazonFresh           0.012245\n",
       "Whole Foods Market    0.008746\n",
       "shein online store    0.002915\n",
       "Pharmapacks           0.002332\n",
       "                        ...   \n",
       "Awekris               0.000583\n",
       "HUHETA-US             0.000583\n",
       "ADREAMLY CLOTHING     0.000583\n",
       "HeetaDirect           0.000583\n",
       "Nordic Naturals       0.000583\n",
       "Name: sold_by, Length: 1087, dtype: float64"
      ]
     },
     "execution_count": 52,
     "metadata": {},
     "output_type": "execute_result"
    }
   ],
   "source": [
    "# missing data\n",
    "df_prod[df_prod.asin.isin(to_check)].sold_by.value_counts(normalize=True)"
   ]
  },
  {
   "cell_type": "code",
   "execution_count": 53,
   "metadata": {},
   "outputs": [],
   "source": [
    "df_search = pd.read_csv('../data/intermediary/searches.csv.gz', compression='gzip')"
   ]
  },
  {
   "cell_type": "code",
   "execution_count": 55,
   "metadata": {},
   "outputs": [],
   "source": [
    "df_amazon = pd.read_csv('../data/intermediary/amazon_private_label.csv.xz', compression='xz')"
   ]
  },
  {
   "cell_type": "code",
   "execution_count": 56,
   "metadata": {},
   "outputs": [
    {
     "data": {
      "text/plain": [
       "Amazon.com                 4007\n",
       "Amazon.com Services LLC     188\n",
       "Hotodeal Official Store      40\n",
       "Best Buy                     37\n",
       "Govee US                     27\n",
       "                           ... \n",
       "Dimuntec-US                   1\n",
       "nubisheng-usa                 1\n",
       "DEWVIE                        1\n",
       "4uSports                      1\n",
       "goodidea0113                  1\n",
       "Name: sold_by, Length: 182, dtype: int64"
      ]
     },
     "execution_count": 56,
     "metadata": {},
     "output_type": "execute_result"
    }
   ],
   "source": [
    "df_prod_new.merge(df_search[['asin', 'search_term']]).sold_by.value_counts()"
   ]
  },
  {
   "cell_type": "code",
   "execution_count": 57,
   "metadata": {},
   "outputs": [],
   "source": [
    "df_prod_new['is_amazon'] = df_prod_new.asin.isin(df_amazon.asin)"
   ]
  },
  {
   "cell_type": "code",
   "execution_count": 58,
   "metadata": {},
   "outputs": [
    {
     "data": {
      "text/plain": [
       "False    1009\n",
       "True      159\n",
       "Name: is_amazon, dtype: int64"
      ]
     },
     "execution_count": 58,
     "metadata": {},
     "output_type": "execute_result"
    }
   ],
   "source": [
    "df_prod_new.is_amazon.value_counts()"
   ]
  },
  {
   "cell_type": "code",
   "execution_count": 59,
   "metadata": {},
   "outputs": [
    {
     "data": {
      "text/html": [
       "<div>\n",
       "<style scoped>\n",
       "    .dataframe tbody tr th:only-of-type {\n",
       "        vertical-align: middle;\n",
       "    }\n",
       "\n",
       "    .dataframe tbody tr th {\n",
       "        vertical-align: top;\n",
       "    }\n",
       "\n",
       "    .dataframe thead th {\n",
       "        text-align: right;\n",
       "    }\n",
       "</style>\n",
       "<table border=\"1\" class=\"dataframe\">\n",
       "  <thead>\n",
       "    <tr style=\"text-align: right;\">\n",
       "      <th></th>\n",
       "      <th>count</th>\n",
       "      <th>percentage</th>\n",
       "    </tr>\n",
       "  </thead>\n",
       "  <tbody>\n",
       "    <tr>\n",
       "      <th>Amazon.com</th>\n",
       "      <td>791</td>\n",
       "      <td>0.793380</td>\n",
       "    </tr>\n",
       "    <tr>\n",
       "      <th>Amazon.com Services LLC</th>\n",
       "      <td>17</td>\n",
       "      <td>0.017051</td>\n",
       "    </tr>\n",
       "    <tr>\n",
       "      <th>AmazonFresh</th>\n",
       "      <td>4</td>\n",
       "      <td>0.004012</td>\n",
       "    </tr>\n",
       "    <tr>\n",
       "      <th>Zappos</th>\n",
       "      <td>3</td>\n",
       "      <td>0.003009</td>\n",
       "    </tr>\n",
       "    <tr>\n",
       "      <th>Best Buy</th>\n",
       "      <td>3</td>\n",
       "      <td>0.003009</td>\n",
       "    </tr>\n",
       "    <tr>\n",
       "      <th>...</th>\n",
       "      <td>...</td>\n",
       "      <td>...</td>\n",
       "    </tr>\n",
       "    <tr>\n",
       "      <th>Manscaped</th>\n",
       "      <td>1</td>\n",
       "      <td>0.001003</td>\n",
       "    </tr>\n",
       "    <tr>\n",
       "      <th>Skillmatics USA</th>\n",
       "      <td>1</td>\n",
       "      <td>0.001003</td>\n",
       "    </tr>\n",
       "    <tr>\n",
       "      <th>ICEPURE Store</th>\n",
       "      <td>1</td>\n",
       "      <td>0.001003</td>\n",
       "    </tr>\n",
       "    <tr>\n",
       "      <th>TEJATAN</th>\n",
       "      <td>1</td>\n",
       "      <td>0.001003</td>\n",
       "    </tr>\n",
       "    <tr>\n",
       "      <th>Woot</th>\n",
       "      <td>1</td>\n",
       "      <td>0.001003</td>\n",
       "    </tr>\n",
       "  </tbody>\n",
       "</table>\n",
       "<p>182 rows × 2 columns</p>\n",
       "</div>"
      ],
      "text/plain": [
       "                         count  percentage\n",
       "Amazon.com                 791    0.793380\n",
       "Amazon.com Services LLC     17    0.017051\n",
       "AmazonFresh                  4    0.004012\n",
       "Zappos                       3    0.003009\n",
       "Best Buy                     3    0.003009\n",
       "...                        ...         ...\n",
       "Manscaped                    1    0.001003\n",
       "Skillmatics USA              1    0.001003\n",
       "ICEPURE Store                1    0.001003\n",
       "TEJATAN                      1    0.001003\n",
       "Woot                         1    0.001003\n",
       "\n",
       "[182 rows x 2 columns]"
      ]
     },
     "execution_count": 59,
     "metadata": {},
     "output_type": "execute_result"
    }
   ],
   "source": [
    "value_counts(df_prod_new, 'sold_by')"
   ]
  },
  {
   "cell_type": "code",
   "execution_count": 60,
   "metadata": {},
   "outputs": [
    {
     "data": {
      "text/html": [
       "<div>\n",
       "<style scoped>\n",
       "    .dataframe tbody tr th:only-of-type {\n",
       "        vertical-align: middle;\n",
       "    }\n",
       "\n",
       "    .dataframe tbody tr th {\n",
       "        vertical-align: top;\n",
       "    }\n",
       "\n",
       "    .dataframe thead th {\n",
       "        text-align: right;\n",
       "    }\n",
       "</style>\n",
       "<table border=\"1\" class=\"dataframe\">\n",
       "  <thead>\n",
       "    <tr style=\"text-align: right;\">\n",
       "      <th></th>\n",
       "      <th>count</th>\n",
       "      <th>percentage</th>\n",
       "    </tr>\n",
       "  </thead>\n",
       "  <tbody>\n",
       "    <tr>\n",
       "      <th>Amazon.com</th>\n",
       "      <td>38649</td>\n",
       "      <td>0.287229</td>\n",
       "    </tr>\n",
       "    <tr>\n",
       "      <th>AmazonFresh</th>\n",
       "      <td>1481</td>\n",
       "      <td>0.011006</td>\n",
       "    </tr>\n",
       "    <tr>\n",
       "      <th>Whole Foods Market</th>\n",
       "      <td>1044</td>\n",
       "      <td>0.007759</td>\n",
       "    </tr>\n",
       "    <tr>\n",
       "      <th>Pharmapacks</th>\n",
       "      <td>309</td>\n",
       "      <td>0.002296</td>\n",
       "    </tr>\n",
       "    <tr>\n",
       "      <th>Amazon.com Services LLC</th>\n",
       "      <td>246</td>\n",
       "      <td>0.001828</td>\n",
       "    </tr>\n",
       "    <tr>\n",
       "      <th>...</th>\n",
       "      <td>...</td>\n",
       "      <td>...</td>\n",
       "    </tr>\n",
       "    <tr>\n",
       "      <th>probebi</th>\n",
       "      <td>1</td>\n",
       "      <td>0.000007</td>\n",
       "    </tr>\n",
       "    <tr>\n",
       "      <th>Allizom</th>\n",
       "      <td>1</td>\n",
       "      <td>0.000007</td>\n",
       "    </tr>\n",
       "    <tr>\n",
       "      <th>Batianda</th>\n",
       "      <td>1</td>\n",
       "      <td>0.000007</td>\n",
       "    </tr>\n",
       "    <tr>\n",
       "      <th>Phogary US</th>\n",
       "      <td>1</td>\n",
       "      <td>0.000007</td>\n",
       "    </tr>\n",
       "    <tr>\n",
       "      <th>StanCo LTD.</th>\n",
       "      <td>1</td>\n",
       "      <td>0.000007</td>\n",
       "    </tr>\n",
       "  </tbody>\n",
       "</table>\n",
       "<p>41906 rows × 2 columns</p>\n",
       "</div>"
      ],
      "text/plain": [
       "                         count  percentage\n",
       "Amazon.com               38649    0.287229\n",
       "AmazonFresh               1481    0.011006\n",
       "Whole Foods Market        1044    0.007759\n",
       "Pharmapacks                309    0.002296\n",
       "Amazon.com Services LLC    246    0.001828\n",
       "...                        ...         ...\n",
       "probebi                      1    0.000007\n",
       "Allizom                      1    0.000007\n",
       "Batianda                     1    0.000007\n",
       "Phogary US                   1    0.000007\n",
       "StanCo LTD.                  1    0.000007\n",
       "\n",
       "[41906 rows x 2 columns]"
      ]
     },
     "execution_count": 60,
     "metadata": {},
     "output_type": "execute_result"
    }
   ],
   "source": [
    "value_counts(df_prod, 'sold_by')"
   ]
  },
  {
   "cell_type": "code",
   "execution_count": 61,
   "metadata": {},
   "outputs": [
    {
     "data": {
      "text/html": [
       "<div>\n",
       "<style scoped>\n",
       "    .dataframe tbody tr th:only-of-type {\n",
       "        vertical-align: middle;\n",
       "    }\n",
       "\n",
       "    .dataframe tbody tr th {\n",
       "        vertical-align: top;\n",
       "    }\n",
       "\n",
       "    .dataframe thead th {\n",
       "        text-align: right;\n",
       "    }\n",
       "</style>\n",
       "<table border=\"1\" class=\"dataframe\">\n",
       "  <thead>\n",
       "    <tr style=\"text-align: right;\">\n",
       "      <th></th>\n",
       "      <th>fn</th>\n",
       "      <th>title</th>\n",
       "      <th>shipped_by</th>\n",
       "      <th>sold_by</th>\n",
       "      <th>has_third_party_sellers</th>\n",
       "      <th>product_by_amazon</th>\n",
       "      <th>our_brands_carousel</th>\n",
       "      <th>ads</th>\n",
       "      <th>no_buybox_winner</th>\n",
       "      <th>is_out_of_stock</th>\n",
       "      <th>is_page_gone</th>\n",
       "      <th>suggestions</th>\n",
       "      <th>asin</th>\n",
       "      <th>is_amazon</th>\n",
       "    </tr>\n",
       "  </thead>\n",
       "  <tbody>\n",
       "    <tr>\n",
       "      <th>0</th>\n",
       "      <td>../data/input/spotcheck/selenium-products/5/5D...</td>\n",
       "      <td>Solar Charger for Ring Video Doorbell (2020 re...</td>\n",
       "      <td>Amazon.com Services LLC</td>\n",
       "      <td>Amazon.com Services LLC</td>\n",
       "      <td>False</td>\n",
       "      <td>False</td>\n",
       "      <td>True</td>\n",
       "      <td>[]</td>\n",
       "      <td>False</td>\n",
       "      <td>False</td>\n",
       "      <td>False</td>\n",
       "      <td>[B085DVTYHN, B085DVTYHN, B085DVTYHN, B085DVTYHN]</td>\n",
       "      <td>B085DVTYHN</td>\n",
       "      <td>True</td>\n",
       "    </tr>\n",
       "    <tr>\n",
       "      <th>1</th>\n",
       "      <td>../data/input/spotcheck/selenium-products/5/52...</td>\n",
       "      <td>GEL Brand Gourmet Italian Seasoning 5 oz Famil...</td>\n",
       "      <td>Amazon</td>\n",
       "      <td>UO Foods</td>\n",
       "      <td>True</td>\n",
       "      <td>False</td>\n",
       "      <td>False</td>\n",
       "      <td>[b'&lt;div id=\"ape_Detail_ams-detail-right-v2_des...</td>\n",
       "      <td>False</td>\n",
       "      <td>False</td>\n",
       "      <td>False</td>\n",
       "      <td>[B0052Y6JSQ, B0052Y6JSQ, B0052Y6JSQ, B0052Y6JS...</td>\n",
       "      <td>B0052Y6JSQ</td>\n",
       "      <td>False</td>\n",
       "    </tr>\n",
       "    <tr>\n",
       "      <th>2</th>\n",
       "      <td>../data/input/spotcheck/selenium-products/5/5D...</td>\n",
       "      <td>Viper Hideaway Cabinet &amp; Steel-Tip Dartboard R...</td>\n",
       "      <td>Amazon.com</td>\n",
       "      <td>Amazon.com</td>\n",
       "      <td>True</td>\n",
       "      <td>False</td>\n",
       "      <td>False</td>\n",
       "      <td>[]</td>\n",
       "      <td>False</td>\n",
       "      <td>False</td>\n",
       "      <td>False</td>\n",
       "      <td>[B075DJ8QKF, B075DJ8QKF, B075DJ8QKF, B075DJ8QK...</td>\n",
       "      <td>B075DJ8QKF</td>\n",
       "      <td>False</td>\n",
       "    </tr>\n",
       "    <tr>\n",
       "      <th>3</th>\n",
       "      <td>../data/input/spotcheck/selenium-products/5/5D...</td>\n",
       "      <td>Nautica Girls' Spaghetti Strap Fashion Dress</td>\n",
       "      <td>Amazon.com</td>\n",
       "      <td>Amazon.com</td>\n",
       "      <td>False</td>\n",
       "      <td>False</td>\n",
       "      <td>False</td>\n",
       "      <td>[b'&lt;div id=\"ape_Detail_ams-detail-right-v2_des...</td>\n",
       "      <td>False</td>\n",
       "      <td>False</td>\n",
       "      <td>False</td>\n",
       "      <td>[B085D524JJ, B085D524JJ, B085D524JJ, B085D524J...</td>\n",
       "      <td>B085D524JJ</td>\n",
       "      <td>False</td>\n",
       "    </tr>\n",
       "    <tr>\n",
       "      <th>4</th>\n",
       "      <td>../data/input/spotcheck/selenium-products/5/5D...</td>\n",
       "      <td>Utz Old Fashioned Pretzel Rods 27 oz. Barrel T...</td>\n",
       "      <td>NaN</td>\n",
       "      <td>NaN</td>\n",
       "      <td>True</td>\n",
       "      <td>False</td>\n",
       "      <td>False</td>\n",
       "      <td>[b'&lt;div id=\"ape_Detail_ams-detail-right-v2_des...</td>\n",
       "      <td>True</td>\n",
       "      <td>False</td>\n",
       "      <td>False</td>\n",
       "      <td>[B005DCZHRQ, B005DCZHRQ, B005DCZHRQ, B005DCZHR...</td>\n",
       "      <td>B005DCZHRQ</td>\n",
       "      <td>False</td>\n",
       "    </tr>\n",
       "    <tr>\n",
       "      <th>...</th>\n",
       "      <td>...</td>\n",
       "      <td>...</td>\n",
       "      <td>...</td>\n",
       "      <td>...</td>\n",
       "      <td>...</td>\n",
       "      <td>...</td>\n",
       "      <td>...</td>\n",
       "      <td>...</td>\n",
       "      <td>...</td>\n",
       "      <td>...</td>\n",
       "      <td>...</td>\n",
       "      <td>...</td>\n",
       "      <td>...</td>\n",
       "      <td>...</td>\n",
       "    </tr>\n",
       "    <tr>\n",
       "      <th>1163</th>\n",
       "      <td>../data/input/spotcheck/selenium-products/0/0X...</td>\n",
       "      <td>Yankee Candle 00609032519490 Scented Candle, L...</td>\n",
       "      <td>Amazon.com</td>\n",
       "      <td>Amazon.com</td>\n",
       "      <td>True</td>\n",
       "      <td>False</td>\n",
       "      <td>False</td>\n",
       "      <td>[b'&lt;div id=\"ape_Detail_ams-detail-right-v2_des...</td>\n",
       "      <td>False</td>\n",
       "      <td>False</td>\n",
       "      <td>False</td>\n",
       "      <td>[B000X457HO, B000X457HO, B000X457HO, B000X457H...</td>\n",
       "      <td>B000X457HO</td>\n",
       "      <td>False</td>\n",
       "    </tr>\n",
       "    <tr>\n",
       "      <th>1164</th>\n",
       "      <td>../data/input/spotcheck/selenium-products/0/04...</td>\n",
       "      <td>Car Sun Shades for Side and Rear Window (4 Pac...</td>\n",
       "      <td>Amazon</td>\n",
       "      <td>Unique Jems inc.</td>\n",
       "      <td>True</td>\n",
       "      <td>False</td>\n",
       "      <td>False</td>\n",
       "      <td>[b'&lt;div id=\"ape_Detail_ams-detail-right-v2_des...</td>\n",
       "      <td>False</td>\n",
       "      <td>False</td>\n",
       "      <td>False</td>\n",
       "      <td>[B0104OFF7E, B0104OFF7E, B0104OFF7E, B0104OFF7...</td>\n",
       "      <td>B0104OFF7E</td>\n",
       "      <td>False</td>\n",
       "    </tr>\n",
       "    <tr>\n",
       "      <th>1165</th>\n",
       "      <td>../data/input/spotcheck/selenium-products/0/02...</td>\n",
       "      <td>Life Stages LS-1648DD Double Door Folding Crat...</td>\n",
       "      <td>NaN</td>\n",
       "      <td>NaN</td>\n",
       "      <td>True</td>\n",
       "      <td>False</td>\n",
       "      <td>False</td>\n",
       "      <td>[b'&lt;div id=\"ape_Detail_ams-detail-right-v2_des...</td>\n",
       "      <td>True</td>\n",
       "      <td>False</td>\n",
       "      <td>False</td>\n",
       "      <td>[B0002AT3MO, B0002AT3MO, B0002AT3MO, B0002AT3M...</td>\n",
       "      <td>B0002AT3MO</td>\n",
       "      <td>False</td>\n",
       "    </tr>\n",
       "    <tr>\n",
       "      <th>1166</th>\n",
       "      <td>../data/input/spotcheck/selenium-products/0/02...</td>\n",
       "      <td>Purina ONE Sensitive Skin &amp; Stomach With Real ...</td>\n",
       "      <td>Amazon.com</td>\n",
       "      <td>Amazon.com</td>\n",
       "      <td>True</td>\n",
       "      <td>False</td>\n",
       "      <td>False</td>\n",
       "      <td>[]</td>\n",
       "      <td>False</td>\n",
       "      <td>False</td>\n",
       "      <td>False</td>\n",
       "      <td>[B0002MLAEQ, B0002MLAEQ, B0002MLAEQ, B0002MLAE...</td>\n",
       "      <td>B0002MLAEQ</td>\n",
       "      <td>False</td>\n",
       "    </tr>\n",
       "    <tr>\n",
       "      <th>1167</th>\n",
       "      <td>../data/input/spotcheck/selenium-products/0/0L...</td>\n",
       "      <td>Horizon Organic, Lowfat Organic Milk Box, Choc...</td>\n",
       "      <td>Amazon.com</td>\n",
       "      <td>Amazon.com</td>\n",
       "      <td>True</td>\n",
       "      <td>False</td>\n",
       "      <td>False</td>\n",
       "      <td>[b'&lt;div id=\"ape_Detail_ams-detail-right-v2_des...</td>\n",
       "      <td>False</td>\n",
       "      <td>False</td>\n",
       "      <td>False</td>\n",
       "      <td>[B000LKZ3GA, B000LKZ3GA, B000LKZ3GA, B000LKZ3G...</td>\n",
       "      <td>B000LKZ3GA</td>\n",
       "      <td>False</td>\n",
       "    </tr>\n",
       "  </tbody>\n",
       "</table>\n",
       "<p>1168 rows × 14 columns</p>\n",
       "</div>"
      ],
      "text/plain": [
       "                                                     fn  \\\n",
       "0     ../data/input/spotcheck/selenium-products/5/5D...   \n",
       "1     ../data/input/spotcheck/selenium-products/5/52...   \n",
       "2     ../data/input/spotcheck/selenium-products/5/5D...   \n",
       "3     ../data/input/spotcheck/selenium-products/5/5D...   \n",
       "4     ../data/input/spotcheck/selenium-products/5/5D...   \n",
       "...                                                 ...   \n",
       "1163  ../data/input/spotcheck/selenium-products/0/0X...   \n",
       "1164  ../data/input/spotcheck/selenium-products/0/04...   \n",
       "1165  ../data/input/spotcheck/selenium-products/0/02...   \n",
       "1166  ../data/input/spotcheck/selenium-products/0/02...   \n",
       "1167  ../data/input/spotcheck/selenium-products/0/0L...   \n",
       "\n",
       "                                                  title  \\\n",
       "0     Solar Charger for Ring Video Doorbell (2020 re...   \n",
       "1     GEL Brand Gourmet Italian Seasoning 5 oz Famil...   \n",
       "2     Viper Hideaway Cabinet & Steel-Tip Dartboard R...   \n",
       "3          Nautica Girls' Spaghetti Strap Fashion Dress   \n",
       "4     Utz Old Fashioned Pretzel Rods 27 oz. Barrel T...   \n",
       "...                                                 ...   \n",
       "1163  Yankee Candle 00609032519490 Scented Candle, L...   \n",
       "1164  Car Sun Shades for Side and Rear Window (4 Pac...   \n",
       "1165  Life Stages LS-1648DD Double Door Folding Crat...   \n",
       "1166  Purina ONE Sensitive Skin & Stomach With Real ...   \n",
       "1167  Horizon Organic, Lowfat Organic Milk Box, Choc...   \n",
       "\n",
       "                   shipped_by                  sold_by  \\\n",
       "0     Amazon.com Services LLC  Amazon.com Services LLC   \n",
       "1                      Amazon                 UO Foods   \n",
       "2                  Amazon.com               Amazon.com   \n",
       "3                  Amazon.com               Amazon.com   \n",
       "4                         NaN                      NaN   \n",
       "...                       ...                      ...   \n",
       "1163               Amazon.com               Amazon.com   \n",
       "1164                   Amazon         Unique Jems inc.   \n",
       "1165                      NaN                      NaN   \n",
       "1166               Amazon.com               Amazon.com   \n",
       "1167               Amazon.com               Amazon.com   \n",
       "\n",
       "      has_third_party_sellers  product_by_amazon  our_brands_carousel  \\\n",
       "0                       False              False                 True   \n",
       "1                        True              False                False   \n",
       "2                        True              False                False   \n",
       "3                       False              False                False   \n",
       "4                        True              False                False   \n",
       "...                       ...                ...                  ...   \n",
       "1163                     True              False                False   \n",
       "1164                     True              False                False   \n",
       "1165                     True              False                False   \n",
       "1166                     True              False                False   \n",
       "1167                     True              False                False   \n",
       "\n",
       "                                                    ads  no_buybox_winner  \\\n",
       "0                                                    []             False   \n",
       "1     [b'<div id=\"ape_Detail_ams-detail-right-v2_des...             False   \n",
       "2                                                    []             False   \n",
       "3     [b'<div id=\"ape_Detail_ams-detail-right-v2_des...             False   \n",
       "4     [b'<div id=\"ape_Detail_ams-detail-right-v2_des...              True   \n",
       "...                                                 ...               ...   \n",
       "1163  [b'<div id=\"ape_Detail_ams-detail-right-v2_des...             False   \n",
       "1164  [b'<div id=\"ape_Detail_ams-detail-right-v2_des...             False   \n",
       "1165  [b'<div id=\"ape_Detail_ams-detail-right-v2_des...              True   \n",
       "1166                                                 []             False   \n",
       "1167  [b'<div id=\"ape_Detail_ams-detail-right-v2_des...             False   \n",
       "\n",
       "      is_out_of_stock  is_page_gone  \\\n",
       "0               False         False   \n",
       "1               False         False   \n",
       "2               False         False   \n",
       "3               False         False   \n",
       "4               False         False   \n",
       "...               ...           ...   \n",
       "1163            False         False   \n",
       "1164            False         False   \n",
       "1165            False         False   \n",
       "1166            False         False   \n",
       "1167            False         False   \n",
       "\n",
       "                                            suggestions        asin  is_amazon  \n",
       "0      [B085DVTYHN, B085DVTYHN, B085DVTYHN, B085DVTYHN]  B085DVTYHN       True  \n",
       "1     [B0052Y6JSQ, B0052Y6JSQ, B0052Y6JSQ, B0052Y6JS...  B0052Y6JSQ      False  \n",
       "2     [B075DJ8QKF, B075DJ8QKF, B075DJ8QKF, B075DJ8QK...  B075DJ8QKF      False  \n",
       "3     [B085D524JJ, B085D524JJ, B085D524JJ, B085D524J...  B085D524JJ      False  \n",
       "4     [B005DCZHRQ, B005DCZHRQ, B005DCZHRQ, B005DCZHR...  B005DCZHRQ      False  \n",
       "...                                                 ...         ...        ...  \n",
       "1163  [B000X457HO, B000X457HO, B000X457HO, B000X457H...  B000X457HO      False  \n",
       "1164  [B0104OFF7E, B0104OFF7E, B0104OFF7E, B0104OFF7...  B0104OFF7E      False  \n",
       "1165  [B0002AT3MO, B0002AT3MO, B0002AT3MO, B0002AT3M...  B0002AT3MO      False  \n",
       "1166  [B0002MLAEQ, B0002MLAEQ, B0002MLAEQ, B0002MLAE...  B0002MLAEQ      False  \n",
       "1167  [B000LKZ3GA, B000LKZ3GA, B000LKZ3GA, B000LKZ3G...  B000LKZ3GA      False  \n",
       "\n",
       "[1168 rows x 14 columns]"
      ]
     },
     "execution_count": 61,
     "metadata": {},
     "output_type": "execute_result"
    }
   ],
   "source": [
    "df_prod_new"
   ]
  },
  {
   "cell_type": "code",
   "execution_count": null,
   "metadata": {},
   "outputs": [],
   "source": [
    "n_0 = ((Z**2) * p * (1-p)) / (e**2)\n"
   ]
  },
  {
   "cell_type": "code",
   "execution_count": null,
   "metadata": {},
   "outputs": [],
   "source": [
    "e = "
   ]
  },
  {
   "cell_type": "code",
   "execution_count": 119,
   "metadata": {},
   "outputs": [
    {
     "data": {
      "text/plain": [
       "2345"
      ]
     },
     "execution_count": 119,
     "metadata": {},
     "output_type": "execute_result"
    }
   ],
   "source": [
    "import math\n",
    " \n",
    "# SUPPORTED CONFIDENCE LEVELS: 50%, 68%, 90%, 95%, and 99%\n",
    "confidence_level_constant = [50,.67], [68,.99], [90,1.64], [95,1.96], [99,2.57]\n",
    " \n",
    "# CALCULATE THE SAMPLE SIZE\n",
    "def sample_size(population_size, confidence_level, confidence_interval):\n",
    "    Z = 0.0\n",
    "    p = 0.5\n",
    "    e = confidence_interval/100.0\n",
    "    N = population_size\n",
    "    n_0 = 0.0\n",
    "    n = 0.0\n",
    "\n",
    "    # LOOP THROUGH SUPPORTED CONFIDENCE LEVELS AND FIND THE NUM STD\n",
    "    # DEVIATIONS FOR THAT CONFIDENCE LEVEL\n",
    "    for i in confidence_level_constant:\n",
    "        if i[0] == confidence_level:\n",
    "            Z = i[1]\n",
    "\n",
    "    if Z == 0.0:\n",
    "        return -1\n",
    "\n",
    "    # CALC SAMPLE SIZE\n",
    "    n_0 = ((Z**2) * p * (1-p)) / (e**2)\n",
    "\n",
    "    # ADJUST SAMPLE SIZE FOR FINITE POPULATION\n",
    "    n = n_0 / (1 + ((n_0 - 1) / float(N)) )\n",
    "\n",
    "    return int(math.ceil(n)) # THE SAMPLE SIZE\n",
    "\n",
    "sample_sz = 0\n",
    "population_sz = 100000\n",
    "confidence_level = 95.0\n",
    "confidence_interval = 2.0\n",
    "\n",
    "sample_sz = sample_size(population_sz, confidence_level, confidence_interval)\n",
    "\n",
    "sample_sz"
   ]
  },
  {
   "cell_type": "code",
   "execution_count": 122,
   "metadata": {},
   "outputs": [],
   "source": [
    "n_0 = 0\n",
    "N = 20000\n",
    "n = n_0 / (1 + ((n_0 - 1) / float(N)) )"
   ]
  },
  {
   "cell_type": "code",
   "execution_count": 123,
   "metadata": {},
   "outputs": [
    {
     "data": {
      "text/plain": [
       "0.0"
      ]
     },
     "execution_count": 123,
     "metadata": {},
     "output_type": "execute_result"
    }
   ],
   "source": [
    "n"
   ]
  },
  {
   "cell_type": "code",
   "execution_count": 120,
   "metadata": {},
   "outputs": [],
   "source": [
    "def margin_of_error(population_size, confidence_level, sample_sz):\n",
    "    Z = 0.0\n",
    "    p = 0.5\n",
    "    N = population_size\n",
    "    n_0 = 0.0\n",
    "    n = sample_sz\n",
    "\n",
    "    # LOOP THROUGH SUPPORTED CONFIDENCE LEVELS AND FIND THE NUM STD\n",
    "    # DEVIATIONS FOR THAT CONFIDENCE LEVEL\n",
    "    for i in confidence_level_constant:\n",
    "        if i[0] == confidence_level:\n",
    "            Z = i[1]\n",
    "\n",
    "    if Z == 0.0:\n",
    "        return -1\n",
    "    \n",
    "    n_0 = \n",
    "    \n",
    "    e = math.sqrt(((Z**2) * p * (1-p)) / n_0)\n",
    "\n",
    "    confidence_interval = e / 100.0\n",
    "\n",
    "    return confidence_interval\n",
    "    "
   ]
  },
  {
   "cell_type": "code",
   "execution_count": 121,
   "metadata": {},
   "outputs": [
    {
     "data": {
      "text/plain": [
       "2.4701129573967186e-05"
      ]
     },
     "execution_count": 121,
     "metadata": {},
     "output_type": "execute_result"
    }
   ],
   "source": [
    "margin_of_error(2600, 95, 157405)"
   ]
  },
  {
   "cell_type": "code",
   "execution_count": 124,
   "metadata": {},
   "outputs": [],
   "source": [
    "Z = 1.96"
   ]
  },
  {
   "cell_type": "code",
   "execution_count": null,
   "metadata": {},
   "outputs": [],
   "source": []
  }
 ],
 "metadata": {
  "kernelspec": {
   "display_name": "Python 3",
   "language": "python",
   "name": "python3"
  },
  "language_info": {
   "codemirror_mode": {
    "name": "ipython",
    "version": 3
   },
   "file_extension": ".py",
   "mimetype": "text/x-python",
   "name": "python",
   "nbconvert_exporter": "python",
   "pygments_lexer": "ipython3",
   "version": "3.8.1"
  }
 },
 "nbformat": 4,
 "nbformat_minor": 4
}
