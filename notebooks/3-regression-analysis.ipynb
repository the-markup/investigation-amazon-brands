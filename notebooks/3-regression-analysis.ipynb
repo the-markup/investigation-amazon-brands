{
 "cells": [
  {
   "cell_type": "code",
   "execution_count": 2,
   "metadata": {},
   "outputs": [],
   "source": [
    "import os\n",
    "import numpy as np\n",
    "import pandas as pd\n",
    "from tqdm import tqdm\n",
    "from sklearn.metrics import ndcg_score, dcg_score\n",
    "from sklearn.linear_model import LinearRegression\n",
    "from sklearn.model_selection import train_test_split"
   ]
  },
  {
   "cell_type": "code",
   "execution_count": 3,
   "metadata": {},
   "outputs": [],
   "source": [
    "random_seed = 303"
   ]
  },
  {
   "cell_type": "code",
   "execution_count": 4,
   "metadata": {},
   "outputs": [],
   "source": [
    "# input\n",
    "fn_traning_set = '../data/intermediary/training_set.csv.gz'\n",
    "fn_pairwise = '../data/intermediary/pairwise_training_set.csv.gz'\n",
    "\n",
    "# output\n",
    "table2 = f'../data/output/tables/table2.csv'"
   ]
  },
  {
   "cell_type": "code",
   "execution_count": 5,
   "metadata": {},
   "outputs": [],
   "source": [
    "df = pd.read_csv(fn_traning_set, compression='gzip')"
   ]
  },
  {
   "cell_type": "code",
   "execution_count": 6,
   "metadata": {},
   "outputs": [
    {
     "data": {
      "text/plain": [
       "176935"
      ]
     },
     "execution_count": 6,
     "metadata": {},
     "output_type": "execute_result"
    }
   ],
   "source": [
    "_df = df[\n",
    "    (~df.stars.isnull()) & \n",
    "    (~df.reviews.isnull()) & \n",
    "    (df.is_sponsored == False) &\n",
    "    (~df.is_sold_by_amazon.isnull()) &\n",
    "    (~df.is_shipped_by_amazon.isnull()) &\n",
    "    (~df.has_third_party_sellers.isnull()) &\n",
    "    (~df.price.isnull())\n",
    "]\n",
    "len(_df)"
   ]
  },
  {
   "cell_type": "code",
   "execution_count": 7,
   "metadata": {},
   "outputs": [
    {
     "name": "stderr",
     "output_type": "stream",
     "text": [
      "<ipython-input-7-14ad5d1093e7>:1: SettingWithCopyWarning: \n",
      "A value is trying to be set on a copy of a slice from a DataFrame.\n",
      "Try using .loc[row_indexer,col_indexer] = value instead\n",
      "\n",
      "See the caveats in the documentation: https://pandas.pydata.org/pandas-docs/stable/user_guide/indexing.html#returning-a-view-versus-a-copy\n",
      "  _df['price'] = _df.price.apply(lambda x: x.split(' ')[-1].lstrip(\"$\") if x else None)\n",
      "<ipython-input-7-14ad5d1093e7>:2: SettingWithCopyWarning: \n",
      "A value is trying to be set on a copy of a slice from a DataFrame.\n",
      "Try using .loc[row_indexer,col_indexer] = value instead\n",
      "\n",
      "See the caveats in the documentation: https://pandas.pydata.org/pandas-docs/stable/user_guide/indexing.html#returning-a-view-versus-a-copy\n",
      "  _df['price'] = _df['price'].str.replace(',', '').astype(float)\n"
     ]
    }
   ],
   "source": [
    "_df['price'] = _df.price.apply(lambda x: x.split(' ')[-1].lstrip(\"$\") if x else None)\n",
    "_df['price'] = _df['price'].str.replace(',', '').astype(float)"
   ]
  },
  {
   "cell_type": "code",
   "execution_count": null,
   "metadata": {},
   "outputs": [],
   "source": []
  },
  {
   "cell_type": "code",
   "execution_count": null,
   "metadata": {},
   "outputs": [],
   "source": []
  },
  {
   "cell_type": "code",
   "execution_count": 8,
   "metadata": {},
   "outputs": [],
   "source": [
    "_df = _df.sort_values(by=['search_term', 'product_order']).drop_duplicates(subset=['search_term', 'asin'])"
   ]
  },
  {
   "cell_type": "code",
   "execution_count": 9,
   "metadata": {},
   "outputs": [],
   "source": [
    "_df.loc[:, 'reviews_log'] = np.log(_df['reviews'])\n",
    "_df.loc[:, 'stars_norm'] = _df['stars'] / 5\n",
    "_df.loc[:, 'product_order_log'] =  np.log(_df['product_order'])\n",
    "_df.loc[:, 'product_row'] = ( (_df['product_order'] // 4) + 1)\n",
    "\n",
    "\n",
    "# for col in bool_cols:\n",
    "#     _df.loc[:, col] = _df[col].astype(int)"
   ]
  },
  {
   "cell_type": "code",
   "execution_count": 10,
   "metadata": {},
   "outputs": [],
   "source": [
    "_df['control'] = np.random.randn(len(_df))"
   ]
  },
  {
   "cell_type": "code",
   "execution_count": 17,
   "metadata": {},
   "outputs": [],
   "source": [
    "# def lin_reg_ndcg_by_search_term(df, variable, target='score', k=None):\n",
    "#     \"\"\"Fits a linear regression and gets the NDCG score\"\"\"\n",
    "#     is_multivariate = True if isinstance(variable, list) else False\n",
    "    \n",
    "#     terms_train, terms_test = train_test_split(df.search_term, random_state=303, test_size=.33)\n",
    "#     df_train = df[df.search_term.isin(terms_train)]\n",
    "#     df_test = df[df.search_term.isin(terms_test)]\n",
    "    \n",
    "#     X = df_train[variable]\n",
    "#     y = df_train[target]\n",
    "#     X_2d = X if is_multivariate else np.expand_dims(X.values, axis=1)  \n",
    "    \n",
    "#     X_train = X_2d\n",
    "#     y_train = y\n",
    "    \n",
    "#     # fit the regression\n",
    "#     linear_regression = LinearRegression(fit_intercept=True).fit(X_train, y_train)\n",
    "    \n",
    "#     scores = []\n",
    "#     for search_term, df_test_ in df_test.groupby('search_term'):\n",
    "#         if len(df_test_) == 1: continue\n",
    "#         X = df_test_[variable]\n",
    "#         y = df_test_[target]\n",
    "#         X_2d = X if is_multivariate else np.expand_dims(X.values, axis=1)  \n",
    "\n",
    "#         X_test = X_2d\n",
    "#         y_test = y\n",
    "#         y_pred = linear_regression.predict(X_test)\n",
    "\n",
    "#         # evaluate\n",
    "#         true_rank = np.array([y_test])\n",
    "#         true_rank = np.argsort(true_rank)\n",
    "        \n",
    "#         pred_rank = np.array([y_pred])\n",
    "#         pred_rank = np.argsort(pred_rank)\n",
    "\n",
    "#         ndcg = ndcg_score(true_rank, pred_rank, k=k, ignore_ties=True)\n",
    "# #         print(ndcg)\n",
    "#         scores.append(ndcg)\n",
    "    \n",
    "#     return sum(scores) / len(scores)\n",
    "# #     return len([_ for _ in scores if _ >= .70]) / len(scores)"
   ]
  },
  {
   "cell_type": "code",
   "execution_count": 36,
   "metadata": {},
   "outputs": [],
   "source": [
    "# import math, random\n",
    "\n",
    "# # Equations from https://en.wikipedia.org/wiki/Discounted_cumulative_gain\n",
    "\n",
    "# def dcg(items, g):\n",
    "#     # i + 2 instead of i + 1 because enumerate() starts at 0 instead of 1\n",
    "#     return sum([g[item]/math.log(i + 2, 2) for i, item in enumerate(items)])\n",
    "  \n",
    "# def ndcg(reference, rerank, g):\n",
    "#     return dcg(rerank, g)/dcg(reference, g)"
   ]
  },
  {
   "cell_type": "code",
   "execution_count": 102,
   "metadata": {},
   "outputs": [],
   "source": [
    "# import statistics"
   ]
  },
  {
   "cell_type": "code",
   "execution_count": 107,
   "metadata": {},
   "outputs": [],
   "source": [
    "# def lin_reg_ndcg_by_search_term(df, variable, target='score', k=None):\n",
    "#     \"\"\"Fits a linear regression and gets the NDCG score\"\"\"\n",
    "#     is_multivariate = True if isinstance(variable, list) else False\n",
    "    \n",
    "#     terms_train, terms_test = train_test_split(df.search_term, random_state=303, test_size=.2)\n",
    "#     df_train = df[df.search_term.isin(terms_train)]\n",
    "#     df_test = df[df.search_term.isin(terms_test)]\n",
    "    \n",
    "#     X = df_train[variable]\n",
    "#     y = df_train[target]\n",
    "#     X_2d = X if is_multivariate else np.expand_dims(X.values, axis=1)  \n",
    "    \n",
    "#     X_train = X_2d\n",
    "#     y_train = y\n",
    "    \n",
    "#     # fit the regression\n",
    "#     linear_regression = LinearRegression(fit_intercept=True).fit(X_train, y_train)\n",
    "    \n",
    "#     scores = []\n",
    "#     for search_term, df_test_ in df_test.groupby('search_term'):\n",
    "#         if len(df_test_) == 1: continue\n",
    "#         X = df_test_[variable]\n",
    "#         y = df_test_[target]\n",
    "#         X_2d = X if is_multivariate else np.expand_dims(X.values, axis=1)  \n",
    "\n",
    "#         X_test = X_2d\n",
    "#         y_test = y\n",
    "#         y_pred = linear_regression.predict(X_test)\n",
    "\n",
    "#         # evaluate\n",
    "#         true_rank = np.array([y_test])\n",
    "#         true_rank = np.argsort(true_rank)\n",
    "        \n",
    "#         pred_rank = np.array([y_pred])\n",
    "#         pred_rank = np.argsort(pred_rank)\n",
    "#         score = ndcg_score(true_rank, pred_rank, k=k, ignore_ties=False)\n",
    "        \n",
    "# #         ordered list\n",
    "# #         df_test_ = df_test_.assign(product_order_pred = pred_rank)\n",
    "# #         reference = df_test_.sample(frac=1).sort_values(by='product_order', ascending=True).index.tolist()\n",
    "# #         g = {item: len(reference)-i for i, item in enumerate(reference)}\n",
    "# #         rerank = df_test_.sample(frac=1).sort_values(by='product_order_pred', ascending=True).index.tolist()\n",
    "# #         score = ndcg(reference, rerank, g)\n",
    "\n",
    "\n",
    "#         scores.append(score)\n",
    "    \n",
    "#     return sum(scores) / len(scores)\n",
    "# #     return statistics.median(scores)\n",
    "# #     return len([_ for _ in scores if _ >= .70]) / len(scores)"
   ]
  },
  {
   "cell_type": "code",
   "execution_count": 93,
   "metadata": {},
   "outputs": [
    {
     "data": {
      "text/plain": [
       "0.6118973866655671"
      ]
     },
     "execution_count": 93,
     "metadata": {},
     "output_type": "execute_result"
    }
   ],
   "source": [
    "# lin_reg_ndcg_by_search_term(_df, variable='control', target='product_order')"
   ]
  },
  {
   "cell_type": "code",
   "execution_count": 94,
   "metadata": {},
   "outputs": [
    {
     "data": {
      "text/plain": [
       "0.5090675399795374"
      ]
     },
     "execution_count": 94,
     "metadata": {},
     "output_type": "execute_result"
    }
   ],
   "source": [
    "# lin_reg_ndcg_by_search_term(_df, variable='is_amazon', target='product_order')"
   ]
  },
  {
   "cell_type": "code",
   "execution_count": 96,
   "metadata": {},
   "outputs": [],
   "source": [
    "# indep_vars = [\n",
    "#     'stars', \n",
    "#     'reviews',\n",
    "#     'is_sold_by_amazon', \n",
    "#     'is_shipped_by_amazon', \n",
    "#     'top_clicked',\n",
    "#     'control'\n",
    "# ]\n",
    "\n",
    "# dep_var = 'product_order'\n",
    "\n",
    "# # this is done on a subset of each dataframe\n",
    "# # title2df = {\n",
    "# #     'non-Amazon': _df[_df.is_amazon_product == False].sample(8000, random_state=303),\n",
    "# #     'Amazon': _df[_df.is_amazon_product == True].sample(8000, random_state=303),\n",
    "# #     'All products': _df.sample(100000, random_state=42),    \n",
    "# # }\n",
    "\n",
    "# title2df = {\n",
    "#     'non-Amazon': _df[_df.is_amazon == False],\n",
    "#     'Amazon': _df[_df.is_amazon == True],\n",
    "#     'All products': _df,    \n",
    "# }"
   ]
  },
  {
   "cell_type": "code",
   "execution_count": 108,
   "metadata": {},
   "outputs": [
    {
     "data": {
      "text/html": [
       "<div>\n",
       "<style scoped>\n",
       "    .dataframe tbody tr th:only-of-type {\n",
       "        vertical-align: middle;\n",
       "    }\n",
       "\n",
       "    .dataframe tbody tr th {\n",
       "        vertical-align: top;\n",
       "    }\n",
       "\n",
       "    .dataframe thead th {\n",
       "        text-align: right;\n",
       "    }\n",
       "</style>\n",
       "<table border=\"1\" class=\"dataframe\">\n",
       "  <thead>\n",
       "    <tr style=\"text-align: right;\">\n",
       "      <th>dataset</th>\n",
       "      <th>non-Amazon (N=142,997)</th>\n",
       "      <th>Amazon (N=12,413)</th>\n",
       "      <th>All products (N=155,410)</th>\n",
       "    </tr>\n",
       "  </thead>\n",
       "  <tbody>\n",
       "    <tr>\n",
       "      <th>all factors</th>\n",
       "      <td>0.6872</td>\n",
       "      <td>0.8310</td>\n",
       "      <td>0.6708</td>\n",
       "    </tr>\n",
       "    <tr>\n",
       "      <th>stars</th>\n",
       "      <td>0.6290</td>\n",
       "      <td>0.8564</td>\n",
       "      <td>0.6141</td>\n",
       "    </tr>\n",
       "    <tr>\n",
       "      <th>reviews</th>\n",
       "      <td>0.6910</td>\n",
       "      <td>0.8486</td>\n",
       "      <td>0.6757</td>\n",
       "    </tr>\n",
       "    <tr>\n",
       "      <th>is_sold_by_amazon</th>\n",
       "      <td>0.5650</td>\n",
       "      <td>0.9351</td>\n",
       "      <td>0.5434</td>\n",
       "    </tr>\n",
       "    <tr>\n",
       "      <th>is_shipped_by_amazon</th>\n",
       "      <td>0.5485</td>\n",
       "      <td>0.9491</td>\n",
       "      <td>0.5326</td>\n",
       "    </tr>\n",
       "    <tr>\n",
       "      <th>top_clicked</th>\n",
       "      <td>0.6026</td>\n",
       "      <td>0.9500</td>\n",
       "      <td>0.5873</td>\n",
       "    </tr>\n",
       "    <tr>\n",
       "      <th>control</th>\n",
       "      <td>0.6218</td>\n",
       "      <td>0.8077</td>\n",
       "      <td>0.6119</td>\n",
       "    </tr>\n",
       "  </tbody>\n",
       "</table>\n",
       "</div>"
      ],
      "text/plain": [
       "dataset               non-Amazon (N=142,997)  Amazon (N=12,413)  \\\n",
       "all factors                           0.6872             0.8310   \n",
       "stars                                 0.6290             0.8564   \n",
       "reviews                               0.6910             0.8486   \n",
       "is_sold_by_amazon                     0.5650             0.9351   \n",
       "is_shipped_by_amazon                  0.5485             0.9491   \n",
       "top_clicked                           0.6026             0.9500   \n",
       "control                               0.6218             0.8077   \n",
       "\n",
       "dataset               All products (N=155,410)  \n",
       "all factors                             0.6708  \n",
       "stars                                   0.6141  \n",
       "reviews                                 0.6757  \n",
       "is_sold_by_amazon                       0.5434  \n",
       "is_shipped_by_amazon                    0.5326  \n",
       "top_clicked                             0.5873  \n",
       "control                                 0.6119  "
      ]
     },
     "execution_count": 108,
     "metadata": {},
     "output_type": "execute_result"
    }
   ],
   "source": [
    "# k = 20\n",
    "# data = []\n",
    "# for title, __df in title2df.items():\n",
    "#     record = {\n",
    "#         'dataset': f'{title} (N={len(__df):,})'\n",
    "#     }\n",
    "#     ndcg = lin_reg_ndcg_by_search_term(__df, variable=indep_vars, target=dep_var, k=k)\n",
    "#     record['all factors'] = ndcg\n",
    "    \n",
    "#     for iv in indep_vars:\n",
    "#         ndcg = lin_reg_ndcg_by_search_term(__df, variable=iv, target=dep_var, k=k)\n",
    "#         record[iv] = ndcg\n",
    "#     data.append(record)\n",
    "    \n",
    "# result = pd.DataFrame(data).set_index('dataset').T.round(4)\n",
    "# result"
   ]
  },
  {
   "cell_type": "code",
   "execution_count": 123,
   "metadata": {},
   "outputs": [
    {
     "data": {
      "text/html": [
       "<div>\n",
       "<style scoped>\n",
       "    .dataframe tbody tr th:only-of-type {\n",
       "        vertical-align: middle;\n",
       "    }\n",
       "\n",
       "    .dataframe tbody tr th {\n",
       "        vertical-align: top;\n",
       "    }\n",
       "\n",
       "    .dataframe thead th {\n",
       "        text-align: right;\n",
       "    }\n",
       "</style>\n",
       "<table border=\"1\" class=\"dataframe\">\n",
       "  <thead>\n",
       "    <tr style=\"text-align: right;\">\n",
       "      <th>dataset</th>\n",
       "      <th>non-Amazon (N=142,997)</th>\n",
       "      <th>Amazon (N=12,413)</th>\n",
       "      <th>All products (N=155,410)</th>\n",
       "    </tr>\n",
       "  </thead>\n",
       "  <tbody>\n",
       "    <tr>\n",
       "      <th>all factors</th>\n",
       "      <td>0.8553</td>\n",
       "      <td>0.8468</td>\n",
       "      <td>0.8553</td>\n",
       "    </tr>\n",
       "    <tr>\n",
       "      <th>stars_norm</th>\n",
       "      <td>0.8282</td>\n",
       "      <td>0.8587</td>\n",
       "      <td>0.8298</td>\n",
       "    </tr>\n",
       "    <tr>\n",
       "      <th>reviews_log</th>\n",
       "      <td>0.8542</td>\n",
       "      <td>0.8503</td>\n",
       "      <td>0.8543</td>\n",
       "    </tr>\n",
       "    <tr>\n",
       "      <th>is_sold_by_amazon</th>\n",
       "      <td>0.8318</td>\n",
       "      <td>0.9349</td>\n",
       "      <td>0.8258</td>\n",
       "    </tr>\n",
       "    <tr>\n",
       "      <th>is_shipped_by_amazon</th>\n",
       "      <td>0.8227</td>\n",
       "      <td>0.9458</td>\n",
       "      <td>0.8213</td>\n",
       "    </tr>\n",
       "    <tr>\n",
       "      <th>top_clicked</th>\n",
       "      <td>0.8406</td>\n",
       "      <td>0.9528</td>\n",
       "      <td>0.8415</td>\n",
       "    </tr>\n",
       "    <tr>\n",
       "      <th>control</th>\n",
       "      <td>0.8203</td>\n",
       "      <td>0.8101</td>\n",
       "      <td>0.8220</td>\n",
       "    </tr>\n",
       "  </tbody>\n",
       "</table>\n",
       "</div>"
      ],
      "text/plain": [
       "dataset               non-Amazon (N=142,997)  Amazon (N=12,413)  \\\n",
       "all factors                           0.8553             0.8468   \n",
       "stars_norm                            0.8282             0.8587   \n",
       "reviews_log                           0.8542             0.8503   \n",
       "is_sold_by_amazon                     0.8318             0.9349   \n",
       "is_shipped_by_amazon                  0.8227             0.9458   \n",
       "top_clicked                           0.8406             0.9528   \n",
       "control                               0.8203             0.8101   \n",
       "\n",
       "dataset               All products (N=155,410)  \n",
       "all factors                             0.8553  \n",
       "stars_norm                              0.8298  \n",
       "reviews_log                             0.8543  \n",
       "is_sold_by_amazon                       0.8258  \n",
       "is_shipped_by_amazon                    0.8213  \n",
       "top_clicked                             0.8415  \n",
       "control                                 0.8220  "
      ]
     },
     "execution_count": 123,
     "metadata": {},
     "output_type": "execute_result"
    }
   ],
   "source": [
    "# k = 60\n",
    "# data = []\n",
    "# for title, __df in title2df.items():\n",
    "#     record = {\n",
    "#         'dataset': f'{title} (N={len(__df):,})'\n",
    "#     }\n",
    "#     ndcg = lin_reg_ndcg_by_search_term(__df, variable=indep_vars, target=dep_var, k=k)\n",
    "#     record['all factors'] = ndcg\n",
    "#     for iv in indep_vars:\n",
    "#         ndcg = lin_reg_ndcg_by_search_term(__df, variable=iv, target=dep_var, k=k)\n",
    "#         record[iv] = ndcg\n",
    "\n",
    "#     data.append(record)\n",
    "    \n",
    "# result = pd.DataFrame(data).set_index('dataset').T.round(4)\n",
    "# result"
   ]
  },
  {
   "cell_type": "code",
   "execution_count": 22,
   "metadata": {},
   "outputs": [],
   "source": [
    "# def lin_reg_rsquared(df, variable, target='score'):\n",
    "#     \"\"\"Fits a linear regression and gets the R=sqaured\"\"\"\n",
    "#     is_multivariate = True if isinstance(variable, list) else False   \n",
    "#     X = df[variable]\n",
    "#     y = df[target]\n",
    "#     X_2d = X if is_multivariate else np.expand_dims(X.values, axis=1)  \n",
    "    \n",
    "#     X_train, X_test, y_train, y_test = train_test_split(\n",
    "#         X_2d, y, random_state=42, test_size=.3,\n",
    "#     )\n",
    "    \n",
    "#     # fit the regression\n",
    "#     linear_regression = LinearRegression(fit_intercept=False).fit(X_train, y_train)\n",
    "#     rsquared = linear_regression.score(X_test, y_test)\n",
    "\n",
    "#     del linear_regression\n",
    "#     return rsquared"
   ]
  },
  {
   "cell_type": "code",
   "execution_count": 127,
   "metadata": {},
   "outputs": [
    {
     "data": {
      "text/html": [
       "<div>\n",
       "<style scoped>\n",
       "    .dataframe tbody tr th:only-of-type {\n",
       "        vertical-align: middle;\n",
       "    }\n",
       "\n",
       "    .dataframe tbody tr th {\n",
       "        vertical-align: top;\n",
       "    }\n",
       "\n",
       "    .dataframe thead th {\n",
       "        text-align: right;\n",
       "    }\n",
       "</style>\n",
       "<table border=\"1\" class=\"dataframe\">\n",
       "  <thead>\n",
       "    <tr style=\"text-align: right;\">\n",
       "      <th>dataset</th>\n",
       "      <th>non-Amazon (N=142,997)</th>\n",
       "      <th>Amazon (N=12,413)</th>\n",
       "      <th>All products (N=155,410)</th>\n",
       "    </tr>\n",
       "  </thead>\n",
       "  <tbody>\n",
       "    <tr>\n",
       "      <th>all factors</th>\n",
       "      <td>0.0025</td>\n",
       "      <td>0.0084</td>\n",
       "      <td>0.0048</td>\n",
       "    </tr>\n",
       "    <tr>\n",
       "      <th>stars_norm</th>\n",
       "      <td>-0.0249</td>\n",
       "      <td>-0.0123</td>\n",
       "      <td>-0.0238</td>\n",
       "    </tr>\n",
       "    <tr>\n",
       "      <th>reviews_log</th>\n",
       "      <td>-0.5346</td>\n",
       "      <td>-0.2456</td>\n",
       "      <td>-0.5286</td>\n",
       "    </tr>\n",
       "    <tr>\n",
       "      <th>is_sold_by_amazon</th>\n",
       "      <td>-2.4246</td>\n",
       "      <td>-0.4749</td>\n",
       "      <td>-2.2899</td>\n",
       "    </tr>\n",
       "    <tr>\n",
       "      <th>is_shipped_by_amazon</th>\n",
       "      <td>-0.6750</td>\n",
       "      <td>-0.3493</td>\n",
       "      <td>-0.6762</td>\n",
       "    </tr>\n",
       "    <tr>\n",
       "      <th>top_clicked</th>\n",
       "      <td>-2.0747</td>\n",
       "      <td>-1.4697</td>\n",
       "      <td>-2.0515</td>\n",
       "    </tr>\n",
       "    <tr>\n",
       "      <th>control</th>\n",
       "      <td>-3.3543</td>\n",
       "      <td>-2.3913</td>\n",
       "      <td>-3.3069</td>\n",
       "    </tr>\n",
       "  </tbody>\n",
       "</table>\n",
       "</div>"
      ],
      "text/plain": [
       "dataset               non-Amazon (N=142,997)  Amazon (N=12,413)  \\\n",
       "all factors                           0.0025             0.0084   \n",
       "stars_norm                           -0.0249            -0.0123   \n",
       "reviews_log                          -0.5346            -0.2456   \n",
       "is_sold_by_amazon                    -2.4246            -0.4749   \n",
       "is_shipped_by_amazon                 -0.6750            -0.3493   \n",
       "top_clicked                          -2.0747            -1.4697   \n",
       "control                              -3.3543            -2.3913   \n",
       "\n",
       "dataset               All products (N=155,410)  \n",
       "all factors                             0.0048  \n",
       "stars_norm                             -0.0238  \n",
       "reviews_log                            -0.5286  \n",
       "is_sold_by_amazon                      -2.2899  \n",
       "is_shipped_by_amazon                   -0.6762  \n",
       "top_clicked                            -2.0515  \n",
       "control                                -3.3069  "
      ]
     },
     "execution_count": 127,
     "metadata": {},
     "output_type": "execute_result"
    }
   ],
   "source": [
    "# indep_vars = [\n",
    "#     'stars_norm', \n",
    "#     'reviews_log',\n",
    "#     'is_sold_by_amazon', \n",
    "#     'is_shipped_by_amazon', \n",
    "#     'top_clicked',\n",
    "#     'control'\n",
    "# ]\n",
    "\n",
    "# dep_var = 'product_order'\n",
    "\n",
    "# title2df = {\n",
    "#     'non-Amazon': _df[_df.is_amazon == False],\n",
    "#     'Amazon': _df[_df.is_amazon == True],\n",
    "#     'All products': _df,    \n",
    "# }\n",
    "\n",
    "# data = []\n",
    "# for title, __df in title2df.items():\n",
    "#     record = {\n",
    "#         'dataset': f'{title} (N={len(__df):,})'\n",
    "#     }\n",
    "#     r2 = lin_reg_rsquared(__df, variable=indep_vars, target=dep_var)\n",
    "#     record['all factors'] = r2\n",
    "#     for iv in indep_vars:\n",
    "#         r2 = lin_reg_rsquared(__df, variable=iv, target=dep_var)\n",
    "#         record[iv] = r2\n",
    "\n",
    "#     data.append(record)\n",
    "    \n",
    "# result_r2 = pd.DataFrame(data).set_index('dataset').T.round(4)\n",
    "# result_r2"
   ]
  },
  {
   "cell_type": "code",
   "execution_count": 129,
   "metadata": {},
   "outputs": [
    {
     "data": {
      "text/html": [
       "<div>\n",
       "<style scoped>\n",
       "    .dataframe tbody tr th:only-of-type {\n",
       "        vertical-align: middle;\n",
       "    }\n",
       "\n",
       "    .dataframe tbody tr th {\n",
       "        vertical-align: top;\n",
       "    }\n",
       "\n",
       "    .dataframe thead th {\n",
       "        text-align: right;\n",
       "    }\n",
       "</style>\n",
       "<table border=\"1\" class=\"dataframe\">\n",
       "  <thead>\n",
       "    <tr style=\"text-align: right;\">\n",
       "      <th></th>\n",
       "      <th>asin</th>\n",
       "      <th>product_name</th>\n",
       "      <th>stars</th>\n",
       "      <th>reviews</th>\n",
       "      <th>brand</th>\n",
       "      <th>product_url</th>\n",
       "      <th>is_prime</th>\n",
       "      <th>is_fresh</th>\n",
       "      <th>is_sponsored</th>\n",
       "      <th>is_featured_brand</th>\n",
       "      <th>...</th>\n",
       "      <th>top_clicked</th>\n",
       "      <th>is_amazon</th>\n",
       "      <th>is_sold_by_amazon</th>\n",
       "      <th>is_shipped_by_amazon</th>\n",
       "      <th>has_third_party_sellers</th>\n",
       "      <th>reviews_log</th>\n",
       "      <th>stars_norm</th>\n",
       "      <th>product_order_log</th>\n",
       "      <th>product_row</th>\n",
       "      <th>control</th>\n",
       "    </tr>\n",
       "  </thead>\n",
       "  <tbody>\n",
       "    <tr>\n",
       "      <th>174659</th>\n",
       "      <td>B06VVLD2GL</td>\n",
       "      <td>Amazon Basics #10 Security-Tinted Envelopes wi...</td>\n",
       "      <td>4.8</td>\n",
       "      <td>10210.0</td>\n",
       "      <td>NaN</td>\n",
       "      <td>/gp/slredirect/picassoRedirect.html/ref=pa_sp_...</td>\n",
       "      <td>True</td>\n",
       "      <td>False</td>\n",
       "      <td>False</td>\n",
       "      <td>True</td>\n",
       "      <td>...</td>\n",
       "      <td>1</td>\n",
       "      <td>True</td>\n",
       "      <td>False</td>\n",
       "      <td>True</td>\n",
       "      <td>True</td>\n",
       "      <td>9.231123</td>\n",
       "      <td>0.96</td>\n",
       "      <td>0.000000</td>\n",
       "      <td>1</td>\n",
       "      <td>-0.226968</td>\n",
       "    </tr>\n",
       "    <tr>\n",
       "      <th>174663</th>\n",
       "      <td>B01D0OANU4</td>\n",
       "      <td>#10 Security Tinted Self-Seal Envelopes - No W...</td>\n",
       "      <td>4.8</td>\n",
       "      <td>8556.0</td>\n",
       "      <td>NaN</td>\n",
       "      <td>/10-Security-Tinted-Self-Seal-Envelopes/dp/B01...</td>\n",
       "      <td>True</td>\n",
       "      <td>False</td>\n",
       "      <td>False</td>\n",
       "      <td>False</td>\n",
       "      <td>...</td>\n",
       "      <td>1</td>\n",
       "      <td>False</td>\n",
       "      <td>False</td>\n",
       "      <td>True</td>\n",
       "      <td>True</td>\n",
       "      <td>9.054388</td>\n",
       "      <td>0.96</td>\n",
       "      <td>1.609438</td>\n",
       "      <td>2</td>\n",
       "      <td>0.314797</td>\n",
       "    </tr>\n",
       "    <tr>\n",
       "      <th>174665</th>\n",
       "      <td>B07FK9PCZB</td>\n",
       "      <td>Quality Park #10 Self-Seal Security Envelopes,...</td>\n",
       "      <td>4.8</td>\n",
       "      <td>11368.0</td>\n",
       "      <td>NaN</td>\n",
       "      <td>/Quality-Park-Self-Seal-Redi-Strip-QUA69117/dp...</td>\n",
       "      <td>False</td>\n",
       "      <td>False</td>\n",
       "      <td>False</td>\n",
       "      <td>False</td>\n",
       "      <td>...</td>\n",
       "      <td>1</td>\n",
       "      <td>False</td>\n",
       "      <td>True</td>\n",
       "      <td>True</td>\n",
       "      <td>True</td>\n",
       "      <td>9.338558</td>\n",
       "      <td>0.96</td>\n",
       "      <td>1.945910</td>\n",
       "      <td>2</td>\n",
       "      <td>0.760570</td>\n",
       "    </tr>\n",
       "    <tr>\n",
       "      <th>174666</th>\n",
       "      <td>B016V06OYS</td>\n",
       "      <td>#10 Security Self-Seal Envelopes, Windowless D...</td>\n",
       "      <td>4.8</td>\n",
       "      <td>2635.0</td>\n",
       "      <td>NaN</td>\n",
       "      <td>/Security-SELF-Seal-Envelopes-Windowless-Quick...</td>\n",
       "      <td>True</td>\n",
       "      <td>False</td>\n",
       "      <td>False</td>\n",
       "      <td>False</td>\n",
       "      <td>...</td>\n",
       "      <td>1</td>\n",
       "      <td>False</td>\n",
       "      <td>False</td>\n",
       "      <td>True</td>\n",
       "      <td>True</td>\n",
       "      <td>7.876638</td>\n",
       "      <td>0.96</td>\n",
       "      <td>2.079442</td>\n",
       "      <td>3</td>\n",
       "      <td>-0.248360</td>\n",
       "    </tr>\n",
       "    <tr>\n",
       "      <th>174667</th>\n",
       "      <td>B000T9MP5U</td>\n",
       "      <td>Mead No.10 Envelopes, Security, Press-it Seal-...</td>\n",
       "      <td>4.7</td>\n",
       "      <td>13399.0</td>\n",
       "      <td>NaN</td>\n",
       "      <td>/Mead-Envelopes-Security-Press-75026/dp/B000T9...</td>\n",
       "      <td>True</td>\n",
       "      <td>False</td>\n",
       "      <td>False</td>\n",
       "      <td>False</td>\n",
       "      <td>...</td>\n",
       "      <td>1</td>\n",
       "      <td>False</td>\n",
       "      <td>False</td>\n",
       "      <td>True</td>\n",
       "      <td>True</td>\n",
       "      <td>9.502935</td>\n",
       "      <td>0.94</td>\n",
       "      <td>2.197225</td>\n",
       "      <td>3</td>\n",
       "      <td>-0.812003</td>\n",
       "    </tr>\n",
       "    <tr>\n",
       "      <th>...</th>\n",
       "      <td>...</td>\n",
       "      <td>...</td>\n",
       "      <td>...</td>\n",
       "      <td>...</td>\n",
       "      <td>...</td>\n",
       "      <td>...</td>\n",
       "      <td>...</td>\n",
       "      <td>...</td>\n",
       "      <td>...</td>\n",
       "      <td>...</td>\n",
       "      <td>...</td>\n",
       "      <td>...</td>\n",
       "      <td>...</td>\n",
       "      <td>...</td>\n",
       "      <td>...</td>\n",
       "      <td>...</td>\n",
       "      <td>...</td>\n",
       "      <td>...</td>\n",
       "      <td>...</td>\n",
       "      <td>...</td>\n",
       "      <td>...</td>\n",
       "    </tr>\n",
       "    <tr>\n",
       "      <th>189146</th>\n",
       "      <td>B087H1N3D1</td>\n",
       "      <td>VITALDIN Melatonin Adult Gummies - Sleep Aid G...</td>\n",
       "      <td>4.4</td>\n",
       "      <td>75.0</td>\n",
       "      <td>NaN</td>\n",
       "      <td>/VITALDIN-Melatonin-Adult-Gummies-Serving/dp/B...</td>\n",
       "      <td>True</td>\n",
       "      <td>False</td>\n",
       "      <td>False</td>\n",
       "      <td>False</td>\n",
       "      <td>...</td>\n",
       "      <td>0</td>\n",
       "      <td>False</td>\n",
       "      <td>False</td>\n",
       "      <td>True</td>\n",
       "      <td>False</td>\n",
       "      <td>4.317488</td>\n",
       "      <td>0.88</td>\n",
       "      <td>3.891820</td>\n",
       "      <td>13</td>\n",
       "      <td>-0.098803</td>\n",
       "    </tr>\n",
       "    <tr>\n",
       "      <th>189147</th>\n",
       "      <td>B0872JVBKD</td>\n",
       "      <td>SMART FOR LIFE Melatonin Gummies W/Magnesium 5...</td>\n",
       "      <td>4.5</td>\n",
       "      <td>486.0</td>\n",
       "      <td>NaN</td>\n",
       "      <td>/SMART-LIFE-Melatonin-Gummies-Magnesium/dp/B08...</td>\n",
       "      <td>True</td>\n",
       "      <td>False</td>\n",
       "      <td>False</td>\n",
       "      <td>False</td>\n",
       "      <td>...</td>\n",
       "      <td>1</td>\n",
       "      <td>False</td>\n",
       "      <td>False</td>\n",
       "      <td>False</td>\n",
       "      <td>True</td>\n",
       "      <td>6.186209</td>\n",
       "      <td>0.90</td>\n",
       "      <td>3.912023</td>\n",
       "      <td>13</td>\n",
       "      <td>1.601755</td>\n",
       "    </tr>\n",
       "    <tr>\n",
       "      <th>189148</th>\n",
       "      <td>B0149LAJTW</td>\n",
       "      <td>Natrol Melatonin Fast Dissolve Tablets, Helps ...</td>\n",
       "      <td>4.7</td>\n",
       "      <td>6728.0</td>\n",
       "      <td>NaN</td>\n",
       "      <td>/Natrol-Melatonin-Dissolve-Dissolves-Absorptio...</td>\n",
       "      <td>True</td>\n",
       "      <td>False</td>\n",
       "      <td>False</td>\n",
       "      <td>False</td>\n",
       "      <td>...</td>\n",
       "      <td>1</td>\n",
       "      <td>False</td>\n",
       "      <td>True</td>\n",
       "      <td>True</td>\n",
       "      <td>True</td>\n",
       "      <td>8.814033</td>\n",
       "      <td>0.94</td>\n",
       "      <td>3.931826</td>\n",
       "      <td>13</td>\n",
       "      <td>0.335902</td>\n",
       "    </tr>\n",
       "    <tr>\n",
       "      <th>189149</th>\n",
       "      <td>B00C3Q5JVE</td>\n",
       "      <td>Natrol Melatonin Fast Dissolve Tablets, Helps ...</td>\n",
       "      <td>4.7</td>\n",
       "      <td>7516.0</td>\n",
       "      <td>NaN</td>\n",
       "      <td>/Natrol-Melatonin-Dissolves-Absorption-Strawbe...</td>\n",
       "      <td>True</td>\n",
       "      <td>False</td>\n",
       "      <td>False</td>\n",
       "      <td>False</td>\n",
       "      <td>...</td>\n",
       "      <td>1</td>\n",
       "      <td>False</td>\n",
       "      <td>True</td>\n",
       "      <td>True</td>\n",
       "      <td>True</td>\n",
       "      <td>8.924789</td>\n",
       "      <td>0.94</td>\n",
       "      <td>3.951244</td>\n",
       "      <td>14</td>\n",
       "      <td>-0.467294</td>\n",
       "    </tr>\n",
       "    <tr>\n",
       "      <th>189150</th>\n",
       "      <td>B01DCQ8D3O</td>\n",
       "      <td>ZzzQuil Nighttime Sleep-Aid - Berry Flavor - 1...</td>\n",
       "      <td>4.8</td>\n",
       "      <td>1194.0</td>\n",
       "      <td>NaN</td>\n",
       "      <td>/ZzzQuil-Nighttime-Sleep-Aid-Berry-Flavor/dp/B...</td>\n",
       "      <td>False</td>\n",
       "      <td>False</td>\n",
       "      <td>False</td>\n",
       "      <td>False</td>\n",
       "      <td>...</td>\n",
       "      <td>1</td>\n",
       "      <td>False</td>\n",
       "      <td>False</td>\n",
       "      <td>False</td>\n",
       "      <td>True</td>\n",
       "      <td>7.085064</td>\n",
       "      <td>0.96</td>\n",
       "      <td>3.970292</td>\n",
       "      <td>14</td>\n",
       "      <td>-0.131473</td>\n",
       "    </tr>\n",
       "  </tbody>\n",
       "</table>\n",
       "<p>155410 rows × 24 columns</p>\n",
       "</div>"
      ],
      "text/plain": [
       "              asin                                       product_name  stars  \\\n",
       "174659  B06VVLD2GL  Amazon Basics #10 Security-Tinted Envelopes wi...    4.8   \n",
       "174663  B01D0OANU4  #10 Security Tinted Self-Seal Envelopes - No W...    4.8   \n",
       "174665  B07FK9PCZB  Quality Park #10 Self-Seal Security Envelopes,...    4.8   \n",
       "174666  B016V06OYS  #10 Security Self-Seal Envelopes, Windowless D...    4.8   \n",
       "174667  B000T9MP5U  Mead No.10 Envelopes, Security, Press-it Seal-...    4.7   \n",
       "...            ...                                                ...    ...   \n",
       "189146  B087H1N3D1  VITALDIN Melatonin Adult Gummies - Sleep Aid G...    4.4   \n",
       "189147  B0872JVBKD  SMART FOR LIFE Melatonin Gummies W/Magnesium 5...    4.5   \n",
       "189148  B0149LAJTW  Natrol Melatonin Fast Dissolve Tablets, Helps ...    4.7   \n",
       "189149  B00C3Q5JVE  Natrol Melatonin Fast Dissolve Tablets, Helps ...    4.7   \n",
       "189150  B01DCQ8D3O  ZzzQuil Nighttime Sleep-Aid - Berry Flavor - 1...    4.8   \n",
       "\n",
       "        reviews brand                                        product_url  \\\n",
       "174659  10210.0   NaN  /gp/slredirect/picassoRedirect.html/ref=pa_sp_...   \n",
       "174663   8556.0   NaN  /10-Security-Tinted-Self-Seal-Envelopes/dp/B01...   \n",
       "174665  11368.0   NaN  /Quality-Park-Self-Seal-Redi-Strip-QUA69117/dp...   \n",
       "174666   2635.0   NaN  /Security-SELF-Seal-Envelopes-Windowless-Quick...   \n",
       "174667  13399.0   NaN  /Mead-Envelopes-Security-Press-75026/dp/B000T9...   \n",
       "...         ...   ...                                                ...   \n",
       "189146     75.0   NaN  /VITALDIN-Melatonin-Adult-Gummies-Serving/dp/B...   \n",
       "189147    486.0   NaN  /SMART-LIFE-Melatonin-Gummies-Magnesium/dp/B08...   \n",
       "189148   6728.0   NaN  /Natrol-Melatonin-Dissolve-Dissolves-Absorptio...   \n",
       "189149   7516.0   NaN  /Natrol-Melatonin-Dissolves-Absorption-Strawbe...   \n",
       "189150   1194.0   NaN  /ZzzQuil-Nighttime-Sleep-Aid-Berry-Flavor/dp/B...   \n",
       "\n",
       "        is_prime  is_fresh  is_sponsored  is_featured_brand  ...  top_clicked  \\\n",
       "174659      True     False         False               True  ...            1   \n",
       "174663      True     False         False              False  ...            1   \n",
       "174665     False     False         False              False  ...            1   \n",
       "174666      True     False         False              False  ...            1   \n",
       "174667      True     False         False              False  ...            1   \n",
       "...          ...       ...           ...                ...  ...          ...   \n",
       "189146      True     False         False              False  ...            0   \n",
       "189147      True     False         False              False  ...            1   \n",
       "189148      True     False         False              False  ...            1   \n",
       "189149      True     False         False              False  ...            1   \n",
       "189150     False     False         False              False  ...            1   \n",
       "\n",
       "       is_amazon is_sold_by_amazon is_shipped_by_amazon  \\\n",
       "174659      True             False                 True   \n",
       "174663     False             False                 True   \n",
       "174665     False              True                 True   \n",
       "174666     False             False                 True   \n",
       "174667     False             False                 True   \n",
       "...          ...               ...                  ...   \n",
       "189146     False             False                 True   \n",
       "189147     False             False                False   \n",
       "189148     False              True                 True   \n",
       "189149     False              True                 True   \n",
       "189150     False             False                False   \n",
       "\n",
       "        has_third_party_sellers reviews_log stars_norm product_order_log  \\\n",
       "174659                     True    9.231123       0.96          0.000000   \n",
       "174663                     True    9.054388       0.96          1.609438   \n",
       "174665                     True    9.338558       0.96          1.945910   \n",
       "174666                     True    7.876638       0.96          2.079442   \n",
       "174667                     True    9.502935       0.94          2.197225   \n",
       "...                         ...         ...        ...               ...   \n",
       "189146                    False    4.317488       0.88          3.891820   \n",
       "189147                     True    6.186209       0.90          3.912023   \n",
       "189148                     True    8.814033       0.94          3.931826   \n",
       "189149                     True    8.924789       0.94          3.951244   \n",
       "189150                     True    7.085064       0.96          3.970292   \n",
       "\n",
       "       product_row   control  \n",
       "174659           1 -0.226968  \n",
       "174663           2  0.314797  \n",
       "174665           2  0.760570  \n",
       "174666           3 -0.248360  \n",
       "174667           3 -0.812003  \n",
       "...            ...       ...  \n",
       "189146          13 -0.098803  \n",
       "189147          13  1.601755  \n",
       "189148          13  0.335902  \n",
       "189149          14 -0.467294  \n",
       "189150          14 -0.131473  \n",
       "\n",
       "[155410 rows x 24 columns]"
      ]
     },
     "execution_count": 129,
     "metadata": {},
     "output_type": "execute_result"
    }
   ],
   "source": []
  },
  {
   "cell_type": "code",
   "execution_count": 128,
   "metadata": {},
   "outputs": [],
   "source": [
    "# terms_train, terms_test = train_test_split(_df.search_term, random_state=303, test_size=.2)\n",
    "# df_train = df[df.search_term.isin(terms_train)]\n",
    "# df_test = df[df.search_term.isin(terms_test)]"
   ]
  },
  {
   "cell_type": "code",
   "execution_count": 83,
   "metadata": {},
   "outputs": [
    {
     "data": {
      "text/plain": [
       "asin                                                              B086VR2KY8\n",
       "product_name               All-New Toshiba 50LF621U21 50-inch Smart 4K UH...\n",
       "stars                                                                    4.6\n",
       "reviews                                                                 5282\n",
       "brand                                                                    NaN\n",
       "product_url                /gp/slredirect/picassoRedirect.html/ref=pa_sp_...\n",
       "is_prime                                                                True\n",
       "is_fresh                                                               False\n",
       "is_sponsored                                                           False\n",
       "is_featured_brand                                                       True\n",
       "is_amazons_choice                                                      False\n",
       "is_best_seller                                                         False\n",
       "product_order                                                              1\n",
       "search_term                                                 50 inch smart tv\n",
       "product_type                                               regular_placement\n",
       "filename                   ../data/input/search-selenium/5/50/50 inch sma...\n",
       "top_clicked                                                             True\n",
       "is_amazon                                                               True\n",
       "is_sold_by_amazon                                                      False\n",
       "is_shipped_by_amazon                                                   False\n",
       "has_third_party_sellers                                                False\n",
       "reviews_log                                                          8.57206\n",
       "stars_norm                                                              0.92\n",
       "product_order_log                                                          0\n",
       "product_row                                                                1\n",
       "control                                                             -1.59278\n",
       "Name: 0, dtype: object"
      ]
     },
     "execution_count": 83,
     "metadata": {},
     "output_type": "execute_result"
    }
   ],
   "source": [
    "_df.iloc[0]"
   ]
  },
  {
   "cell_type": "code",
   "execution_count": 11,
   "metadata": {},
   "outputs": [],
   "source": [
    "bool_cols = [\n",
    "    'top_clicked',\n",
    "    'is_sold_by_amazon', \n",
    "    'is_shipped_by_amazon', \n",
    "    'is_amazon', \n",
    "    'top_clicked',\n",
    "    'is_best_seller',\n",
    "    \"is_amazons_choice\"\n",
    "]\n",
    "bool2int = {True : 1, False : -1}\n",
    "for col in bool_cols:\n",
    "    _df.loc[:, col + '_encoded'] = _df[col].replace(bool2int)"
   ]
  },
  {
   "cell_type": "code",
   "execution_count": 9,
   "metadata": {},
   "outputs": [],
   "source": [
    "# fn_pairwise = '../data/intermediary/pairwise_training_set_2021_5_10.csv.gz'"
   ]
  },
  {
   "cell_type": "code",
   "execution_count": 12,
   "metadata": {},
   "outputs": [],
   "source": [
    "import random"
   ]
  },
  {
   "cell_type": "code",
   "execution_count": 13,
   "metadata": {},
   "outputs": [
    {
     "data": {
      "text/plain": [
       "0.19296443233516225"
      ]
     },
     "execution_count": 13,
     "metadata": {},
     "output_type": "execute_result"
    }
   ],
   "source": [
    "random.random()"
   ]
  },
  {
   "cell_type": "code",
   "execution_count": 10,
   "metadata": {},
   "outputs": [
    {
     "name": "stderr",
     "output_type": "stream",
     "text": [
      "  0%|          | 0/4526 [00:00<?, ?it/s]<ipython-input-10-077f16a363d4>:6: SettingWithCopyWarning: \n",
      "A value is trying to be set on a copy of a slice from a DataFrame\n",
      "\n",
      "See the caveats in the documentation: https://pandas.pydata.org/pandas-docs/stable/user_guide/indexing.html#returning-a-view-versus-a-copy\n",
      "  __df.sort_values(by='product_order', inplace=True)\n",
      "100%|██████████| 4526/4526 [00:03<00:00, 1477.18it/s]\n"
     ]
    }
   ],
   "source": [
    "# data_check = []\n",
    "# for search_term, __df in tqdm(_df[_df.is_sponsored != True].groupby('search_term')):\n",
    "#     # for each search term, go through each row.\n",
    "#     if len(__df) == 1:\n",
    "#         continue\n",
    "#     __df.sort_values(by='product_order', inplace=True)\n",
    "#     data_check.append(__df.iloc[0].to_dict())"
   ]
  },
  {
   "cell_type": "code",
   "execution_count": 51,
   "metadata": {},
   "outputs": [
    {
     "data": {
      "text/plain": [
       "False    3351\n",
       "True     1173\n",
       "Name: is_amazon, dtype: int64"
      ]
     },
     "execution_count": 51,
     "metadata": {},
     "output_type": "execute_result"
    }
   ],
   "source": [
    "# pd.DataFrame(data_check)['is_amazon'].value_counts()"
   ]
  },
  {
   "cell_type": "code",
   "execution_count": 61,
   "metadata": {},
   "outputs": [
    {
     "data": {
      "text/plain": [
       "0"
      ]
     },
     "execution_count": 61,
     "metadata": {},
     "output_type": "execute_result"
    }
   ],
   "source": [
    "# len(__df[__df.product_order == 1])"
   ]
  },
  {
   "cell_type": "code",
   "execution_count": 44,
   "metadata": {},
   "outputs": [],
   "source": [
    "last_product_position = 2"
   ]
  },
  {
   "cell_type": "code",
   "execution_count": 15,
   "metadata": {},
   "outputs": [
    {
     "name": "stderr",
     "output_type": "stream",
     "text": [
      "  0%|          | 0/4525 [00:00<?, ?it/s]<ipython-input-15-658fa195bde6>:11: SettingWithCopyWarning: \n",
      "A value is trying to be set on a copy of a slice from a DataFrame\n",
      "\n",
      "See the caveats in the documentation: https://pandas.pydata.org/pandas-docs/stable/user_guide/indexing.html#returning-a-view-versus-a-copy\n",
      "  __df.sort_values(by='product_order', inplace=True)\n",
      "100%|██████████| 4525/4525 [00:10<00:00, 418.61it/s]\n"
     ]
    }
   ],
   "source": [
    "# if not os.path.exists(fn_pairwise):\n",
    "last_product_position = 2\n",
    "random.seed(303)\n",
    "data = []\n",
    "for search_term, __df in tqdm(_df[_df.is_sponsored != True].groupby('search_term')):\n",
    "    # for each search term, go through each row.\n",
    "    if len(__df) == 1:\n",
    "        continue\n",
    "    if len(__df[__df.product_order == 1]) == 0:\n",
    "        continue\n",
    "    __df.sort_values(by='product_order', inplace=True)\n",
    "    __df.reset_index(inplace=True)\n",
    "    \n",
    "    for i in range(1, last_product_position):\n",
    "        if len(__df) <= i:\n",
    "            continue\n",
    "        if random.random() > .5:\n",
    "            row = __df.iloc[0]\n",
    "            comparison = __df.iloc[i]\n",
    "        else:\n",
    "            row = __df.iloc[i]\n",
    "            comparison = __df.iloc[0]\n",
    "    #     __df.so\n",
    "        knockout = row['product_order']\n",
    "    #     comparison = __df[__df.product_order != knockout].sample(1).iloc[0]\n",
    "\n",
    "        # calculate differences between two pairs\n",
    "        placed_higher = knockout > comparison['product_order']\n",
    "        stars_delta = row['stars'] - comparison['stars']\n",
    "        ratings_delta = row['reviews'] - comparison['reviews']\n",
    "        stars_delta_perc = stars_delta / row['stars']\n",
    "        ratings_delta_perc = ratings_delta / row['reviews']\n",
    "        \n",
    "        is_amazon = row['is_amazon_encoded'] - comparison['is_amazon_encoded']\n",
    "        is_shipped_by_amazon = row['is_shipped_by_amazon_encoded'] - comparison['is_shipped_by_amazon_encoded']\n",
    "        is_sold_by_amazon = row['is_sold_by_amazon_encoded'] - comparison['is_sold_by_amazon_encoded']\n",
    "        is_top_clicked = row['top_clicked_encoded'] - comparison['top_clicked_encoded']\n",
    "        is_best_seller = row['is_best_seller_encoded'] - comparison['is_best_seller_encoded']\n",
    "        is_amazons_choice = row['is_amazons_choice_encoded'] - comparison['is_amazons_choice_encoded']\n",
    "        random_noise = row['control'] - comparison['control']\n",
    "        price_delta = row['price'] - comparison['price']\n",
    "        price_delta_perc = (price_delta) / (row['price'] + .001)\n",
    "\n",
    "        output = {\n",
    "            'search_term' : search_term,\n",
    "            'placed_higher' : placed_higher,\n",
    "            'stars_delta': stars_delta,\n",
    "            'reviews_delta' : ratings_delta,\n",
    "            'price_delta': price_delta,\n",
    "            'stars_delta_perc': stars_delta_perc,\n",
    "            'reviews_delta_perc': ratings_delta_perc,\n",
    "            'price_delta_perc': price_delta_perc,\n",
    "            'is_shipped_by_amazon' : is_shipped_by_amazon,\n",
    "            'is_sold_by_amazon': is_sold_by_amazon,\n",
    "            'is_amazon': is_amazon,\n",
    "            'is_top_clicked': is_top_clicked,\n",
    "            'is_amazons_choice': is_amazons_choice,\n",
    "            'is_best_seller': is_best_seller,\n",
    "            'random_noise' : random_noise,\n",
    "            'asin_1' : row['asin'],\n",
    "            'asin_2': comparison['asin']\n",
    "        }\n",
    "\n",
    "        data.append(output)\n",
    "    training_data = pd.DataFrame(data)\n",
    "#     training_data.to_csv(fn_pairwise, index=False, compression='gzip')\n",
    "\n",
    "# else:\n",
    "#     training_data = pd.read_csv(fn_pairwise, compression='gzip')"
   ]
  },
  {
   "cell_type": "code",
   "execution_count": 16,
   "metadata": {},
   "outputs": [
    {
     "data": {
      "text/plain": [
       "1667"
      ]
     },
     "execution_count": 16,
     "metadata": {},
     "output_type": "execute_result"
    }
   ],
   "source": [
    "len(training_data)"
   ]
  },
  {
   "cell_type": "code",
   "execution_count": 48,
   "metadata": {},
   "outputs": [
    {
     "data": {
      "text/html": [
       "<div>\n",
       "<style scoped>\n",
       "    .dataframe tbody tr th:only-of-type {\n",
       "        vertical-align: middle;\n",
       "    }\n",
       "\n",
       "    .dataframe tbody tr th {\n",
       "        vertical-align: top;\n",
       "    }\n",
       "\n",
       "    .dataframe thead th {\n",
       "        text-align: right;\n",
       "    }\n",
       "</style>\n",
       "<table border=\"1\" class=\"dataframe\">\n",
       "  <thead>\n",
       "    <tr style=\"text-align: right;\">\n",
       "      <th></th>\n",
       "      <th>search_term</th>\n",
       "      <th>placed_higher</th>\n",
       "      <th>stars_delta</th>\n",
       "      <th>reviews_delta</th>\n",
       "      <th>is_shipped_by_amazon</th>\n",
       "      <th>is_sold_by_amazon</th>\n",
       "      <th>is_amazon</th>\n",
       "      <th>is_top_clicked</th>\n",
       "      <th>is_amazons_choice</th>\n",
       "      <th>is_best_seller</th>\n",
       "      <th>random_noise</th>\n",
       "      <th>price_difference</th>\n",
       "      <th>asin_1</th>\n",
       "      <th>asin_2</th>\n",
       "    </tr>\n",
       "  </thead>\n",
       "  <tbody>\n",
       "    <tr>\n",
       "      <th>0</th>\n",
       "      <td>#10 envelope</td>\n",
       "      <td>True</td>\n",
       "      <td>0.0</td>\n",
       "      <td>-1654.0</td>\n",
       "      <td>0</td>\n",
       "      <td>0</td>\n",
       "      <td>-2</td>\n",
       "      <td>0</td>\n",
       "      <td>0</td>\n",
       "      <td>2</td>\n",
       "      <td>0.248205</td>\n",
       "      <td>-11.00</td>\n",
       "      <td>B01D0OANU4</td>\n",
       "      <td>B06VVLD2GL</td>\n",
       "    </tr>\n",
       "    <tr>\n",
       "      <th>1</th>\n",
       "      <td>#6 envelope</td>\n",
       "      <td>False</td>\n",
       "      <td>0.1</td>\n",
       "      <td>7844.0</td>\n",
       "      <td>0</td>\n",
       "      <td>0</td>\n",
       "      <td>2</td>\n",
       "      <td>2</td>\n",
       "      <td>0</td>\n",
       "      <td>0</td>\n",
       "      <td>0.539421</td>\n",
       "      <td>-6.12</td>\n",
       "      <td>B06X15WSLL</td>\n",
       "      <td>B07JNXMBSX</td>\n",
       "    </tr>\n",
       "    <tr>\n",
       "      <th>2</th>\n",
       "      <td>1 inch binder</td>\n",
       "      <td>True</td>\n",
       "      <td>0.0</td>\n",
       "      <td>-9383.0</td>\n",
       "      <td>0</td>\n",
       "      <td>2</td>\n",
       "      <td>-2</td>\n",
       "      <td>0</td>\n",
       "      <td>2</td>\n",
       "      <td>-2</td>\n",
       "      <td>-0.688909</td>\n",
       "      <td>10.72</td>\n",
       "      <td>B00A45VF2S</td>\n",
       "      <td>B01BRGTWOA</td>\n",
       "    </tr>\n",
       "    <tr>\n",
       "      <th>3</th>\n",
       "      <td>1% milk</td>\n",
       "      <td>False</td>\n",
       "      <td>0.0</td>\n",
       "      <td>183.0</td>\n",
       "      <td>0</td>\n",
       "      <td>0</td>\n",
       "      <td>0</td>\n",
       "      <td>2</td>\n",
       "      <td>0</td>\n",
       "      <td>0</td>\n",
       "      <td>-0.660239</td>\n",
       "      <td>1.10</td>\n",
       "      <td>B07WC9MMPD</td>\n",
       "      <td>B07W5Z8SJ8</td>\n",
       "    </tr>\n",
       "    <tr>\n",
       "      <th>4</th>\n",
       "      <td>10 dollar gifts</td>\n",
       "      <td>False</td>\n",
       "      <td>0.8</td>\n",
       "      <td>75410.0</td>\n",
       "      <td>-2</td>\n",
       "      <td>0</td>\n",
       "      <td>0</td>\n",
       "      <td>0</td>\n",
       "      <td>0</td>\n",
       "      <td>-2</td>\n",
       "      <td>-0.350984</td>\n",
       "      <td>0.01</td>\n",
       "      <td>B00F4CEHNK</td>\n",
       "      <td>B07FCNYND8</td>\n",
       "    </tr>\n",
       "    <tr>\n",
       "      <th>...</th>\n",
       "      <td>...</td>\n",
       "      <td>...</td>\n",
       "      <td>...</td>\n",
       "      <td>...</td>\n",
       "      <td>...</td>\n",
       "      <td>...</td>\n",
       "      <td>...</td>\n",
       "      <td>...</td>\n",
       "      <td>...</td>\n",
       "      <td>...</td>\n",
       "      <td>...</td>\n",
       "      <td>...</td>\n",
       "      <td>...</td>\n",
       "      <td>...</td>\n",
       "    </tr>\n",
       "    <tr>\n",
       "      <th>1662</th>\n",
       "      <td>zwave hub</td>\n",
       "      <td>False</td>\n",
       "      <td>0.8</td>\n",
       "      <td>848.0</td>\n",
       "      <td>0</td>\n",
       "      <td>0</td>\n",
       "      <td>0</td>\n",
       "      <td>2</td>\n",
       "      <td>0</td>\n",
       "      <td>0</td>\n",
       "      <td>-2.192503</td>\n",
       "      <td>98.00</td>\n",
       "      <td>B07D19VVTX</td>\n",
       "      <td>B077Y939JQ</td>\n",
       "    </tr>\n",
       "    <tr>\n",
       "      <th>1663</th>\n",
       "      <td>zxzy womens hoodies</td>\n",
       "      <td>False</td>\n",
       "      <td>-0.1</td>\n",
       "      <td>6.0</td>\n",
       "      <td>0</td>\n",
       "      <td>0</td>\n",
       "      <td>0</td>\n",
       "      <td>0</td>\n",
       "      <td>0</td>\n",
       "      <td>0</td>\n",
       "      <td>0.923685</td>\n",
       "      <td>8.00</td>\n",
       "      <td>B08F7RFZGP</td>\n",
       "      <td>B08KT3BD2X</td>\n",
       "    </tr>\n",
       "    <tr>\n",
       "      <th>1664</th>\n",
       "      <td>zyliss knives</td>\n",
       "      <td>True</td>\n",
       "      <td>0.0</td>\n",
       "      <td>-3010.0</td>\n",
       "      <td>0</td>\n",
       "      <td>0</td>\n",
       "      <td>0</td>\n",
       "      <td>0</td>\n",
       "      <td>-2</td>\n",
       "      <td>0</td>\n",
       "      <td>0.095042</td>\n",
       "      <td>-8.00</td>\n",
       "      <td>B0753SKVZX</td>\n",
       "      <td>B01DKEB5OC</td>\n",
       "    </tr>\n",
       "    <tr>\n",
       "      <th>1665</th>\n",
       "      <td>zyrtec for kids</td>\n",
       "      <td>False</td>\n",
       "      <td>-0.2</td>\n",
       "      <td>2184.0</td>\n",
       "      <td>2</td>\n",
       "      <td>0</td>\n",
       "      <td>0</td>\n",
       "      <td>0</td>\n",
       "      <td>2</td>\n",
       "      <td>0</td>\n",
       "      <td>-1.782325</td>\n",
       "      <td>3.54</td>\n",
       "      <td>B004E0QGOQ</td>\n",
       "      <td>B088X7151W</td>\n",
       "    </tr>\n",
       "    <tr>\n",
       "      <th>1666</th>\n",
       "      <td>zz plant</td>\n",
       "      <td>True</td>\n",
       "      <td>-0.1</td>\n",
       "      <td>-379.0</td>\n",
       "      <td>-2</td>\n",
       "      <td>-2</td>\n",
       "      <td>-2</td>\n",
       "      <td>2</td>\n",
       "      <td>0</td>\n",
       "      <td>0</td>\n",
       "      <td>0.864707</td>\n",
       "      <td>5.00</td>\n",
       "      <td>B07RJYZ7W3</td>\n",
       "      <td>B07QD5FXRZ</td>\n",
       "    </tr>\n",
       "  </tbody>\n",
       "</table>\n",
       "<p>1667 rows × 14 columns</p>\n",
       "</div>"
      ],
      "text/plain": [
       "              search_term  placed_higher  stars_delta  reviews_delta  \\\n",
       "0            #10 envelope           True          0.0        -1654.0   \n",
       "1             #6 envelope          False          0.1         7844.0   \n",
       "2           1 inch binder           True          0.0        -9383.0   \n",
       "3                 1% milk          False          0.0          183.0   \n",
       "4         10 dollar gifts          False          0.8        75410.0   \n",
       "...                   ...            ...          ...            ...   \n",
       "1662            zwave hub          False          0.8          848.0   \n",
       "1663  zxzy womens hoodies          False         -0.1            6.0   \n",
       "1664        zyliss knives           True          0.0        -3010.0   \n",
       "1665      zyrtec for kids          False         -0.2         2184.0   \n",
       "1666             zz plant           True         -0.1         -379.0   \n",
       "\n",
       "      is_shipped_by_amazon  is_sold_by_amazon  is_amazon  is_top_clicked  \\\n",
       "0                        0                  0         -2               0   \n",
       "1                        0                  0          2               2   \n",
       "2                        0                  2         -2               0   \n",
       "3                        0                  0          0               2   \n",
       "4                       -2                  0          0               0   \n",
       "...                    ...                ...        ...             ...   \n",
       "1662                     0                  0          0               2   \n",
       "1663                     0                  0          0               0   \n",
       "1664                     0                  0          0               0   \n",
       "1665                     2                  0          0               0   \n",
       "1666                    -2                 -2         -2               2   \n",
       "\n",
       "      is_amazons_choice  is_best_seller  random_noise  price_difference  \\\n",
       "0                     0               2      0.248205            -11.00   \n",
       "1                     0               0      0.539421             -6.12   \n",
       "2                     2              -2     -0.688909             10.72   \n",
       "3                     0               0     -0.660239              1.10   \n",
       "4                     0              -2     -0.350984              0.01   \n",
       "...                 ...             ...           ...               ...   \n",
       "1662                  0               0     -2.192503             98.00   \n",
       "1663                  0               0      0.923685              8.00   \n",
       "1664                 -2               0      0.095042             -8.00   \n",
       "1665                  2               0     -1.782325              3.54   \n",
       "1666                  0               0      0.864707              5.00   \n",
       "\n",
       "          asin_1      asin_2  \n",
       "0     B01D0OANU4  B06VVLD2GL  \n",
       "1     B06X15WSLL  B07JNXMBSX  \n",
       "2     B00A45VF2S  B01BRGTWOA  \n",
       "3     B07WC9MMPD  B07W5Z8SJ8  \n",
       "4     B00F4CEHNK  B07FCNYND8  \n",
       "...          ...         ...  \n",
       "1662  B07D19VVTX  B077Y939JQ  \n",
       "1663  B08F7RFZGP  B08KT3BD2X  \n",
       "1664  B0753SKVZX  B01DKEB5OC  \n",
       "1665  B004E0QGOQ  B088X7151W  \n",
       "1666  B07RJYZ7W3  B07QD5FXRZ  \n",
       "\n",
       "[1667 rows x 14 columns]"
      ]
     },
     "execution_count": 48,
     "metadata": {},
     "output_type": "execute_result"
    }
   ],
   "source": [
    "training_data"
   ]
  },
  {
   "cell_type": "code",
   "execution_count": 17,
   "metadata": {},
   "outputs": [
    {
     "data": {
      "text/plain": [
       "(1333, 334)"
      ]
     },
     "execution_count": 17,
     "metadata": {},
     "output_type": "execute_result"
    }
   ],
   "source": [
    "x, y = train_test_split(training_data, test_size=.2)\n",
    "len(x), len(y)"
   ]
  },
  {
   "cell_type": "code",
   "execution_count": null,
   "metadata": {},
   "outputs": [],
   "source": []
  },
  {
   "cell_type": "code",
   "execution_count": 16,
   "metadata": {},
   "outputs": [
    {
     "data": {
      "text/plain": [
       "search_term             #10 envelope\n",
       "placed_higher                   True\n",
       "stars_delta                        0\n",
       "reviews_delta                  -1654\n",
       "is_shipped_by_amazon               0\n",
       "is_sold_by_amazon                  0\n",
       "is_amazon                         -2\n",
       "is_top_clicked                     0\n",
       "is_amazons_choice                  0\n",
       "is_best_seller                     2\n",
       "random_noise               -0.882479\n",
       "asin_1                    B01D0OANU4\n",
       "asin_2                    B06VVLD2GL\n",
       "Name: 0, dtype: object"
      ]
     },
     "execution_count": 16,
     "metadata": {},
     "output_type": "execute_result"
    }
   ],
   "source": [
    "training_data.iloc[0]"
   ]
  },
  {
   "cell_type": "code",
   "execution_count": 12,
   "metadata": {},
   "outputs": [
    {
     "name": "stderr",
     "output_type": "stream",
     "text": [
      "100%|██████████| 4526/4526 [03:17<00:00, 22.93it/s]\n"
     ]
    }
   ],
   "source": [
    "# # if not os.path.exists(fn_pairwise):\n",
    "# data = []\n",
    "# for search_term, __df in tqdm(_df[_df.is_sponsored != True].groupby('search_term')):\n",
    "#     # for each search term, go through each row.\n",
    "#     for j, row in __df.iterrows():\n",
    "#         if len(__df) == 1:\n",
    "#             continue\n",
    "#         # pick a random pair from the same list\n",
    "#         knockout = row['product_order']\n",
    "#         comparison = __df[__df.product_order != knockout].sample(1).iloc[0]\n",
    "\n",
    "#         # calculate differences between two pairs\n",
    "#         placed_higher = knockout > comparison['product_order']\n",
    "#         stars_delta = row['stars'] - comparison['stars']\n",
    "#         ratings_delta = row['reviews'] - comparison['reviews']\n",
    "#         is_amazon = row['is_amazon_encoded'] - comparison['is_amazon_encoded']\n",
    "#         is_shipped_by_amazon = row['is_shipped_by_amazon_encoded'] - comparison['is_shipped_by_amazon_encoded']\n",
    "#         is_sold_by_amazon = row['is_sold_by_amazon_encoded'] - comparison['is_sold_by_amazon_encoded']\n",
    "#         is_top_clicked = row['top_clicked_encoded'] - comparison['top_clicked_encoded']\n",
    "#         is_best_seller = row['is_best_seller_encoded'] - comparison['is_best_seller_encoded']\n",
    "#         is_amazons_choice = row['is_amazons_choice_encoded'] - comparison['is_amazons_choice_encoded']\n",
    "#         random_noise = row['control'] - comparison['control']\n",
    "\n",
    "#         output = {\n",
    "#             'search_term' : search_term,\n",
    "#             'placed_higher' : placed_higher,\n",
    "#             'stars_delta': stars_delta,\n",
    "#             'ratings_delta' : ratings_delta,\n",
    "#             'is_shipped_by_amazon' : is_shipped_by_amazon,\n",
    "#             'is_sold_by_amazon': is_sold_by_amazon,\n",
    "#             'is_amazon': is_amazon,\n",
    "#             'is_top_clicked': is_top_clicked,\n",
    "#             'is_amazons_choice': is_amazons_choice,\n",
    "#             'is_best_seller': is_best_seller,\n",
    "#             'random_noise' : random_noise,\n",
    "#             'asin_1' : row['asin'],\n",
    "#             'asin_2': comparison['asin']\n",
    "#         }\n",
    "\n",
    "#         data.append(output)\n",
    "# training_data = pd.DataFrame(data)\n",
    "# training_data.to_csv(fn_pairwise, index=False, compression='gzip')\n",
    "\n",
    "# # else:\n",
    "# #     training_data = pd.read_csv(fn_pairwise, compression='gzip')"
   ]
  },
  {
   "cell_type": "code",
   "execution_count": 18,
   "metadata": {},
   "outputs": [],
   "source": [
    "from sklearn.linear_model import LogisticRegression, Lasso\n",
    "from sklearn.ensemble import RandomForestClassifier"
   ]
  },
  {
   "cell_type": "code",
   "execution_count": 28,
   "metadata": {},
   "outputs": [],
   "source": [
    "# logreg = LogisticRegression(C=1, random_state=303)"
   ]
  },
  {
   "cell_type": "code",
   "execution_count": 19,
   "metadata": {},
   "outputs": [],
   "source": [
    "from sklearn.model_selection import cross_val_score"
   ]
  },
  {
   "cell_type": "code",
   "execution_count": 71,
   "metadata": {},
   "outputs": [],
   "source": [
    "def fit_model_cv(df, variable, \n",
    "              target, model, cv=10):\n",
    "    \"\"\"Fits a model and gets accuracy\"\"\"\n",
    "    is_multivariate = True if isinstance(variable, list) else False   \n",
    "    X = df[variable]\n",
    "    y = df[target]\n",
    "    X_2d = X if is_multivariate else np.expand_dims(X.values, axis=1)  \n",
    "    \n",
    "    X_train, X_test, y_train, y_test = train_test_split(\n",
    "        X_2d, y, random_state=random_seed, test_size=.2,\n",
    "    )\n",
    "    \n",
    "    # fit the regression\n",
    "#     linear_regression = model.fit(X_train, y_train)\n",
    "#     accuracy = linear_regression.score(X_test, y_test)  \n",
    "    scores = cross_val_score(model, X, y, cv=cv)\n",
    "    accuracy = scores.mean()\n",
    "    std = scores.std()\n",
    "    return accuracy, std"
   ]
  },
  {
   "cell_type": "code",
   "execution_count": 48,
   "metadata": {},
   "outputs": [],
   "source": [
    "def fit_model(df, variable, \n",
    "              target, model, cv=10):\n",
    "    \"\"\"Fits a model and gets accuracy\"\"\"\n",
    "    is_multivariate = True if isinstance(variable, list) else False   \n",
    "    X = df[variable]\n",
    "    y = df[target]\n",
    "    X_2d = X if is_multivariate else np.expand_dims(X.values, axis=1)  \n",
    "    \n",
    "    X_train, X_test, y_train, y_test = train_test_split(\n",
    "        X_2d, y, random_state=random_seed, test_size=.2,\n",
    "    )\n",
    "    model.fit(X_train, y_train)"
   ]
  },
  {
   "cell_type": "code",
   "execution_count": 21,
   "metadata": {},
   "outputs": [],
   "source": [
    "def fit_model(df, variable, \n",
    "              target, model):\n",
    "    \"\"\"Fits a model and gets accuracy\"\"\"\n",
    "    is_multivariate = True if isinstance(variable, list) else False   \n",
    "    X = df[variable]\n",
    "    y = df[target]\n",
    "    X_2d = X if is_multivariate else np.expand_dims(X.values, axis=1)  \n",
    "    \n",
    "    X_train, X_test, y_train, y_test = train_test_split(\n",
    "        X_2d, y, random_state=random_seed, test_size=.2,\n",
    "    )\n",
    "    \n",
    "    # fit the regression\n",
    "    linear_regression = model.fit(X_train, y_train)\n",
    "    accuracy, std = linear_regression.score(X_test, y_test)\n",
    "    \n",
    "    return accuracy"
   ]
  },
  {
   "cell_type": "code",
   "execution_count": 21,
   "metadata": {},
   "outputs": [
    {
     "data": {
      "text/plain": [
       "340.0"
      ]
     },
     "execution_count": 21,
     "metadata": {},
     "output_type": "execute_result"
    }
   ],
   "source": [
    "len(training_data) * .25"
   ]
  },
  {
   "cell_type": "code",
   "execution_count": 22,
   "metadata": {},
   "outputs": [
    {
     "data": {
      "text/plain": [
       "True     0.511765\n",
       "False    0.488235\n",
       "Name: placed_higher, dtype: float64"
      ]
     },
     "execution_count": 22,
     "metadata": {},
     "output_type": "execute_result"
    }
   ],
   "source": [
    "training_data.placed_higher.value_counts(normalize=True)"
   ]
  },
  {
   "cell_type": "code",
   "execution_count": 23,
   "metadata": {},
   "outputs": [],
   "source": [
    "cols = ['stars_delta', 'reviews_delta',\n",
    "        'is_amazon',\n",
    "       'is_shipped_by_amazon', 'is_sold_by_amazon', \n",
    "        'is_top_clicked',\n",
    "        'random_noise']\n",
    "\n",
    "# cols = ['stars_delta', 'reviews_delta',\n",
    "#         'price_delta','stars_delta_perc', 'reviews_delta_perc', 'price_delta_perc',\n",
    "#         'is_amazon',\n",
    "#        'is_shipped_by_amazon', 'is_sold_by_amazon', \n",
    "#         'is_top_clicked',\n",
    "#         'random_noise']\n",
    "\n",
    "target = 'placed_higher'"
   ]
  },
  {
   "cell_type": "markdown",
   "metadata": {},
   "source": [
    "## Making the cut\n",
    "When we try to predict which item was placed above another (randomly selected) item from the same search page, we were only able to slightly out-perform a coin flip.\n",
    "\n",
    "When we looked at the differences in star ratings and number of reviewers, along with whether the product was highly clicked in the past, a randomly generated number, or whether the product was sold, shipped, or Amazon itself, our logisitic regression model only picked correctly 57.37 percent of the time.\n",
    "\n",
    "When we systematically re-evaluated the model with individual features knocked out, the model was only slightly worse after removing ratings (56.16 percent accuracy). \n",
    "\n",
    "Oddly enough, the model also performs slightly worse when we knocked out a randomly generated number used as a control feature and point of reference.\n",
    "\n",
    "This suggests that there is little-to-no correlation between which items get placed above one another and performance metrics like star ratings and the number of reviews.\n",
    "\n",
    "This regression only uses features that are available to third parties, it does not include many of the fields accessible to Amazon including sales, clicks, or user histories."
   ]
  },
  {
   "cell_type": "code",
   "execution_count": 34,
   "metadata": {},
   "outputs": [],
   "source": [
    "forest = RandomForestClassifier(n_estimators=300, n_jobs=-1, random_state=303)\n",
    "score = fit_model_cv(training_data, variable=cols, target=target, model=forest)"
   ]
  },
  {
   "cell_type": "code",
   "execution_count": 35,
   "metadata": {},
   "outputs": [
    {
     "data": {
      "text/plain": [
       "0.7410059171597634"
      ]
     },
     "execution_count": 35,
     "metadata": {},
     "output_type": "execute_result"
    }
   ],
   "source": [
    "score"
   ]
  },
  {
   "cell_type": "code",
   "execution_count": 72,
   "metadata": {},
   "outputs": [
    {
     "name": "stdout",
     "output_type": "stream",
     "text": [
      "All features (n_test = 333): 75.82%\n",
      "without stars_delta: 74.99% +/- 2.713\n",
      "without reviews_delta: 73.12% +/- 2.569\n",
      "without is_amazon: 64.55% +/- 2.264\n",
      "without is_shipped_by_amazon: 75.29% +/- 2.454\n",
      "without is_sold_by_amazon: 75.23% +/- 2.576\n",
      "without is_top_clicked: 76.19% +/- 2.356\n",
      "without random_noise: 75.47% +/- 2.537\n"
     ]
    }
   ],
   "source": [
    "cat2performance = {}\n",
    "\n",
    "forest = RandomForestClassifier(n_estimators=300, n_jobs=-1, max_depth=7, random_state=303)\n",
    "score, std = fit_model_cv(training_data, variable=cols, target=target, model=forest)\n",
    "print(f\"All features (n_test = {int(len(training_data) * .2):,}): {score * 100 :.4}%\")\n",
    "cat2performance[\"All Features\"] = score\n",
    "for col in cols:\n",
    "    clf =  RandomForestClassifier(n_estimators=300, n_jobs=-1, max_depth=7, random_state=303)\n",
    "    iv = [c for c in cols if c not in col]\n",
    "    score, std = fit_model_cv(training_data, variable=iv, target=target, model=clf)\n",
    "    print(f\"without {col}: {score * 100 :.4}% +/- {std * 100 :.4}\")\n",
    "    cat2performance[f\"without {col}\"] = score"
   ]
  },
  {
   "cell_type": "code",
   "execution_count": 152,
   "metadata": {},
   "outputs": [
    {
     "name": "stdout",
     "output_type": "stream",
     "text": [
      "All features (n_test = 333): 71.26%\n",
      "without stars_delta: 73.05%\n",
      "without reviews_delta: 69.76%\n",
      "without price_delta: 70.96%\n",
      "without stars_delta_perc: 70.96%\n",
      "without reviews_delta_perc: 72.46%\n",
      "without price_delta_perc: 71.26%\n",
      "without is_amazon: 61.68%\n",
      "without is_shipped_by_amazon: 71.56%\n",
      "without is_sold_by_amazon: 72.75%\n",
      "without is_top_clicked: 71.26%\n",
      "without random_noise: 71.56%\n"
     ]
    }
   ],
   "source": [
    "# cat2performance = {}\n",
    "\n",
    "# forest = RandomForestClassifier(n_estimators=100, n_jobs=-1, max_depth=9, random_state=303)\n",
    "# score = fit_model(training_data, variable=cols, target=target, model=forest)\n",
    "# print(f\"All features (n_test = {int(len(training_data) * .2):,}): {score * 100 :.4}%\")\n",
    "# cat2performance[\"All Features\"] = score\n",
    "# for col in cols:\n",
    "#     clf =  RandomForestClassifier(n_estimators=100, n_jobs=-1, max_depth=9, random_state=303)\n",
    "#     iv = [c for c in cols if c not in col]\n",
    "#     score = fit_model(training_data, variable=iv, target=target, model=clf)\n",
    "#     print(f\"without {col}: {score * 100 :.4}%\")\n",
    "#     cat2performance[f\"without {col}\"] = score"
   ]
  },
  {
   "cell_type": "code",
   "execution_count": 69,
   "metadata": {},
   "outputs": [],
   "source": [
    "def get_performance(cat2performance):\n",
    "    perf = pd.DataFrame([\n",
    "        {\"Feature\": k, \"Accuracy\" :v} for k, v in cat2performance.items()\n",
    "    ])\n",
    "    \n",
    "    perf['Change of Accuracy'] = perf['Accuracy'].apply(lambda x: x - perf['Accuracy'].iloc[0]) * 100\n",
    "    perf['Change of Accuracy_'] = perf['Accuracy'].apply(lambda x: \n",
    "                                                         round(abs(x - perf['Accuracy'].iloc[0]), 2)) * 100\n",
    "                                                        \n",
    "    perf.sort_values(by=['Change of Accuracy_', 'Feature'], ascending=False, inplace=True)\n",
    "        \n",
    "    return perf.style.format({\n",
    "        'var1': '{:,.2f}'.format,\n",
    "        'Accuracy': '{:,.1%}'.format,\n",
    "        'Change of Accuracy': '{:.1f}'.format,\n",
    "    })"
   ]
  },
  {
   "cell_type": "code",
   "execution_count": 70,
   "metadata": {},
   "outputs": [
    {
     "data": {
      "text/html": [
       "<style  type=\"text/css\" >\n",
       "</style><table id=\"T_49a99ea6_fefe_11eb_aac3_0c9d9287d90c\" ><thead>    <tr>        <th class=\"blank level0\" ></th>        <th class=\"col_heading level0 col0\" >Feature</th>        <th class=\"col_heading level0 col1\" >Accuracy</th>        <th class=\"col_heading level0 col2\" >Change of Accuracy</th>        <th class=\"col_heading level0 col3\" >Change of Accuracy_</th>    </tr></thead><tbody>\n",
       "                <tr>\n",
       "                        <th id=\"T_49a99ea6_fefe_11eb_aac3_0c9d9287d90clevel0_row0\" class=\"row_heading level0 row0\" >3</th>\n",
       "                        <td id=\"T_49a99ea6_fefe_11eb_aac3_0c9d9287d90crow0_col0\" class=\"data row0 col0\" >without is_amazon</td>\n",
       "                        <td id=\"T_49a99ea6_fefe_11eb_aac3_0c9d9287d90crow0_col1\" class=\"data row0 col1\" >64.5%</td>\n",
       "                        <td id=\"T_49a99ea6_fefe_11eb_aac3_0c9d9287d90crow0_col2\" class=\"data row0 col2\" >-11.3</td>\n",
       "                        <td id=\"T_49a99ea6_fefe_11eb_aac3_0c9d9287d90crow0_col3\" class=\"data row0 col3\" >11.000000</td>\n",
       "            </tr>\n",
       "            <tr>\n",
       "                        <th id=\"T_49a99ea6_fefe_11eb_aac3_0c9d9287d90clevel0_row1\" class=\"row_heading level0 row1\" >2</th>\n",
       "                        <td id=\"T_49a99ea6_fefe_11eb_aac3_0c9d9287d90crow1_col0\" class=\"data row1 col0\" >without reviews_delta</td>\n",
       "                        <td id=\"T_49a99ea6_fefe_11eb_aac3_0c9d9287d90crow1_col1\" class=\"data row1 col1\" >73.1%</td>\n",
       "                        <td id=\"T_49a99ea6_fefe_11eb_aac3_0c9d9287d90crow1_col2\" class=\"data row1 col2\" >-2.7</td>\n",
       "                        <td id=\"T_49a99ea6_fefe_11eb_aac3_0c9d9287d90crow1_col3\" class=\"data row1 col3\" >3.000000</td>\n",
       "            </tr>\n",
       "            <tr>\n",
       "                        <th id=\"T_49a99ea6_fefe_11eb_aac3_0c9d9287d90clevel0_row2\" class=\"row_heading level0 row2\" >1</th>\n",
       "                        <td id=\"T_49a99ea6_fefe_11eb_aac3_0c9d9287d90crow2_col0\" class=\"data row2 col0\" >without stars_delta</td>\n",
       "                        <td id=\"T_49a99ea6_fefe_11eb_aac3_0c9d9287d90crow2_col1\" class=\"data row2 col1\" >75.0%</td>\n",
       "                        <td id=\"T_49a99ea6_fefe_11eb_aac3_0c9d9287d90crow2_col2\" class=\"data row2 col2\" >-0.8</td>\n",
       "                        <td id=\"T_49a99ea6_fefe_11eb_aac3_0c9d9287d90crow2_col3\" class=\"data row2 col3\" >1.000000</td>\n",
       "            </tr>\n",
       "            <tr>\n",
       "                        <th id=\"T_49a99ea6_fefe_11eb_aac3_0c9d9287d90clevel0_row3\" class=\"row_heading level0 row3\" >5</th>\n",
       "                        <td id=\"T_49a99ea6_fefe_11eb_aac3_0c9d9287d90crow3_col0\" class=\"data row3 col0\" >without is_sold_by_amazon</td>\n",
       "                        <td id=\"T_49a99ea6_fefe_11eb_aac3_0c9d9287d90crow3_col1\" class=\"data row3 col1\" >75.2%</td>\n",
       "                        <td id=\"T_49a99ea6_fefe_11eb_aac3_0c9d9287d90crow3_col2\" class=\"data row3 col2\" >-0.6</td>\n",
       "                        <td id=\"T_49a99ea6_fefe_11eb_aac3_0c9d9287d90crow3_col3\" class=\"data row3 col3\" >1.000000</td>\n",
       "            </tr>\n",
       "            <tr>\n",
       "                        <th id=\"T_49a99ea6_fefe_11eb_aac3_0c9d9287d90clevel0_row4\" class=\"row_heading level0 row4\" >4</th>\n",
       "                        <td id=\"T_49a99ea6_fefe_11eb_aac3_0c9d9287d90crow4_col0\" class=\"data row4 col0\" >without is_shipped_by_amazon</td>\n",
       "                        <td id=\"T_49a99ea6_fefe_11eb_aac3_0c9d9287d90crow4_col1\" class=\"data row4 col1\" >75.3%</td>\n",
       "                        <td id=\"T_49a99ea6_fefe_11eb_aac3_0c9d9287d90crow4_col2\" class=\"data row4 col2\" >-0.5</td>\n",
       "                        <td id=\"T_49a99ea6_fefe_11eb_aac3_0c9d9287d90crow4_col3\" class=\"data row4 col3\" >1.000000</td>\n",
       "            </tr>\n",
       "            <tr>\n",
       "                        <th id=\"T_49a99ea6_fefe_11eb_aac3_0c9d9287d90clevel0_row5\" class=\"row_heading level0 row5\" >7</th>\n",
       "                        <td id=\"T_49a99ea6_fefe_11eb_aac3_0c9d9287d90crow5_col0\" class=\"data row5 col0\" >without random_noise</td>\n",
       "                        <td id=\"T_49a99ea6_fefe_11eb_aac3_0c9d9287d90crow5_col1\" class=\"data row5 col1\" >75.5%</td>\n",
       "                        <td id=\"T_49a99ea6_fefe_11eb_aac3_0c9d9287d90crow5_col2\" class=\"data row5 col2\" >-0.4</td>\n",
       "                        <td id=\"T_49a99ea6_fefe_11eb_aac3_0c9d9287d90crow5_col3\" class=\"data row5 col3\" >0.000000</td>\n",
       "            </tr>\n",
       "            <tr>\n",
       "                        <th id=\"T_49a99ea6_fefe_11eb_aac3_0c9d9287d90clevel0_row6\" class=\"row_heading level0 row6\" >6</th>\n",
       "                        <td id=\"T_49a99ea6_fefe_11eb_aac3_0c9d9287d90crow6_col0\" class=\"data row6 col0\" >without is_top_clicked</td>\n",
       "                        <td id=\"T_49a99ea6_fefe_11eb_aac3_0c9d9287d90crow6_col1\" class=\"data row6 col1\" >76.2%</td>\n",
       "                        <td id=\"T_49a99ea6_fefe_11eb_aac3_0c9d9287d90crow6_col2\" class=\"data row6 col2\" >0.4</td>\n",
       "                        <td id=\"T_49a99ea6_fefe_11eb_aac3_0c9d9287d90crow6_col3\" class=\"data row6 col3\" >0.000000</td>\n",
       "            </tr>\n",
       "            <tr>\n",
       "                        <th id=\"T_49a99ea6_fefe_11eb_aac3_0c9d9287d90clevel0_row7\" class=\"row_heading level0 row7\" >0</th>\n",
       "                        <td id=\"T_49a99ea6_fefe_11eb_aac3_0c9d9287d90crow7_col0\" class=\"data row7 col0\" >All Features</td>\n",
       "                        <td id=\"T_49a99ea6_fefe_11eb_aac3_0c9d9287d90crow7_col1\" class=\"data row7 col1\" >75.8%</td>\n",
       "                        <td id=\"T_49a99ea6_fefe_11eb_aac3_0c9d9287d90crow7_col2\" class=\"data row7 col2\" >0.0</td>\n",
       "                        <td id=\"T_49a99ea6_fefe_11eb_aac3_0c9d9287d90crow7_col3\" class=\"data row7 col3\" >0.000000</td>\n",
       "            </tr>\n",
       "    </tbody></table>"
      ],
      "text/plain": [
       "<pandas.io.formats.style.Styler at 0x7ff662fb36a0>"
      ]
     },
     "execution_count": 70,
     "metadata": {},
     "output_type": "execute_result"
    }
   ],
   "source": [
    "get_performance(cat2performance)"
   ]
  },
  {
   "cell_type": "code",
   "execution_count": 42,
   "metadata": {},
   "outputs": [
    {
     "name": "stdout",
     "output_type": "stream",
     "text": [
      "with just stars_delta: 52.97%\n",
      "with just reviews_delta: 53.39%\n",
      "with just is_amazon: 72.17%\n",
      "with just is_shipped_by_amazon: 53.69%\n",
      "with just is_sold_by_amazon: 58.49%\n",
      "with just is_top_clicked: 56.63%\n",
      "with just random_noise: 47.45%\n"
     ]
    }
   ],
   "source": [
    "cat2performance_standalone = {}\n",
    "\n",
    "for col in cols:\n",
    "    clf =  RandomForestClassifier(n_estimators=300, n_jobs=-1, max_depth=7, random_state=303)\n",
    "    score = fit_model_cv(training_data, variable=[col], target=target, model=clf)\n",
    "    print(f\"with just {col}: {score * 100 :.4}%\")\n",
    "    cat2performance_standalone[f\"with just {col}\"] = score"
   ]
  },
  {
   "cell_type": "code",
   "execution_count": 43,
   "metadata": {},
   "outputs": [
    {
     "data": {
      "text/html": [
       "<style  type=\"text/css\" >\n",
       "</style><table id=\"T_974449ce_fefc_11eb_aac3_0c9d9287d90c\" ><thead>    <tr>        <th class=\"blank level0\" ></th>        <th class=\"col_heading level0 col0\" >Feature</th>        <th class=\"col_heading level0 col1\" >Accuracy</th>        <th class=\"col_heading level0 col2\" >Change of Accuracy</th>    </tr></thead><tbody>\n",
       "                <tr>\n",
       "                        <th id=\"T_974449ce_fefc_11eb_aac3_0c9d9287d90clevel0_row0\" class=\"row_heading level0 row0\" >6</th>\n",
       "                        <td id=\"T_974449ce_fefc_11eb_aac3_0c9d9287d90crow0_col0\" class=\"data row0 col0\" >with just random_noise</td>\n",
       "                        <td id=\"T_974449ce_fefc_11eb_aac3_0c9d9287d90crow0_col1\" class=\"data row0 col1\" >47.5%</td>\n",
       "                        <td id=\"T_974449ce_fefc_11eb_aac3_0c9d9287d90crow0_col2\" class=\"data row0 col2\" >-5.5</td>\n",
       "            </tr>\n",
       "            <tr>\n",
       "                        <th id=\"T_974449ce_fefc_11eb_aac3_0c9d9287d90clevel0_row1\" class=\"row_heading level0 row1\" >0</th>\n",
       "                        <td id=\"T_974449ce_fefc_11eb_aac3_0c9d9287d90crow1_col0\" class=\"data row1 col0\" >with just stars_delta</td>\n",
       "                        <td id=\"T_974449ce_fefc_11eb_aac3_0c9d9287d90crow1_col1\" class=\"data row1 col1\" >53.0%</td>\n",
       "                        <td id=\"T_974449ce_fefc_11eb_aac3_0c9d9287d90crow1_col2\" class=\"data row1 col2\" >0.0</td>\n",
       "            </tr>\n",
       "            <tr>\n",
       "                        <th id=\"T_974449ce_fefc_11eb_aac3_0c9d9287d90clevel0_row2\" class=\"row_heading level0 row2\" >1</th>\n",
       "                        <td id=\"T_974449ce_fefc_11eb_aac3_0c9d9287d90crow2_col0\" class=\"data row2 col0\" >with just reviews_delta</td>\n",
       "                        <td id=\"T_974449ce_fefc_11eb_aac3_0c9d9287d90crow2_col1\" class=\"data row2 col1\" >53.4%</td>\n",
       "                        <td id=\"T_974449ce_fefc_11eb_aac3_0c9d9287d90crow2_col2\" class=\"data row2 col2\" >0.4</td>\n",
       "            </tr>\n",
       "            <tr>\n",
       "                        <th id=\"T_974449ce_fefc_11eb_aac3_0c9d9287d90clevel0_row3\" class=\"row_heading level0 row3\" >3</th>\n",
       "                        <td id=\"T_974449ce_fefc_11eb_aac3_0c9d9287d90crow3_col0\" class=\"data row3 col0\" >with just is_shipped_by_amazon</td>\n",
       "                        <td id=\"T_974449ce_fefc_11eb_aac3_0c9d9287d90crow3_col1\" class=\"data row3 col1\" >53.7%</td>\n",
       "                        <td id=\"T_974449ce_fefc_11eb_aac3_0c9d9287d90crow3_col2\" class=\"data row3 col2\" >0.7</td>\n",
       "            </tr>\n",
       "            <tr>\n",
       "                        <th id=\"T_974449ce_fefc_11eb_aac3_0c9d9287d90clevel0_row4\" class=\"row_heading level0 row4\" >5</th>\n",
       "                        <td id=\"T_974449ce_fefc_11eb_aac3_0c9d9287d90crow4_col0\" class=\"data row4 col0\" >with just is_top_clicked</td>\n",
       "                        <td id=\"T_974449ce_fefc_11eb_aac3_0c9d9287d90crow4_col1\" class=\"data row4 col1\" >56.6%</td>\n",
       "                        <td id=\"T_974449ce_fefc_11eb_aac3_0c9d9287d90crow4_col2\" class=\"data row4 col2\" >3.7</td>\n",
       "            </tr>\n",
       "            <tr>\n",
       "                        <th id=\"T_974449ce_fefc_11eb_aac3_0c9d9287d90clevel0_row5\" class=\"row_heading level0 row5\" >4</th>\n",
       "                        <td id=\"T_974449ce_fefc_11eb_aac3_0c9d9287d90crow5_col0\" class=\"data row5 col0\" >with just is_sold_by_amazon</td>\n",
       "                        <td id=\"T_974449ce_fefc_11eb_aac3_0c9d9287d90crow5_col1\" class=\"data row5 col1\" >58.5%</td>\n",
       "                        <td id=\"T_974449ce_fefc_11eb_aac3_0c9d9287d90crow5_col2\" class=\"data row5 col2\" >5.5</td>\n",
       "            </tr>\n",
       "            <tr>\n",
       "                        <th id=\"T_974449ce_fefc_11eb_aac3_0c9d9287d90clevel0_row6\" class=\"row_heading level0 row6\" >2</th>\n",
       "                        <td id=\"T_974449ce_fefc_11eb_aac3_0c9d9287d90crow6_col0\" class=\"data row6 col0\" >with just is_amazon</td>\n",
       "                        <td id=\"T_974449ce_fefc_11eb_aac3_0c9d9287d90crow6_col1\" class=\"data row6 col1\" >72.2%</td>\n",
       "                        <td id=\"T_974449ce_fefc_11eb_aac3_0c9d9287d90crow6_col2\" class=\"data row6 col2\" >19.2</td>\n",
       "            </tr>\n",
       "    </tbody></table>"
      ],
      "text/plain": [
       "<pandas.io.formats.style.Styler at 0x7ff662f57970>"
      ]
     },
     "execution_count": 43,
     "metadata": {},
     "output_type": "execute_result"
    }
   ],
   "source": [
    "get_performance(cat2performance_standalone)"
   ]
  },
  {
   "cell_type": "code",
   "execution_count": 29,
   "metadata": {},
   "outputs": [],
   "source": [
    "from sklearn.model_selection import GridSearchCV"
   ]
  },
  {
   "cell_type": "code",
   "execution_count": 30,
   "metadata": {},
   "outputs": [],
   "source": [
    "random_seed = 303"
   ]
  },
  {
   "cell_type": "code",
   "execution_count": 31,
   "metadata": {},
   "outputs": [],
   "source": [
    "parameters = {'n_estimators':(100, 300, 500), 'max_depth':[3,5,7,9], 'random_state':[random_seed]}"
   ]
  },
  {
   "cell_type": "code",
   "execution_count": 32,
   "metadata": {},
   "outputs": [],
   "source": [
    "forest = RandomForestClassifier()"
   ]
  },
  {
   "cell_type": "code",
   "execution_count": 33,
   "metadata": {},
   "outputs": [],
   "source": [
    "grid = GridSearchCV(forest, parameters, n_jobs=-1, cv=5)"
   ]
  },
  {
   "cell_type": "code",
   "execution_count": 34,
   "metadata": {},
   "outputs": [
    {
     "data": {
      "text/plain": [
       "GridSearchCV(cv=5, error_score=nan,\n",
       "             estimator=RandomForestClassifier(bootstrap=True, ccp_alpha=0.0,\n",
       "                                              class_weight=None,\n",
       "                                              criterion='gini', max_depth=None,\n",
       "                                              max_features='auto',\n",
       "                                              max_leaf_nodes=None,\n",
       "                                              max_samples=None,\n",
       "                                              min_impurity_decrease=0.0,\n",
       "                                              min_impurity_split=None,\n",
       "                                              min_samples_leaf=1,\n",
       "                                              min_samples_split=2,\n",
       "                                              min_weight_fraction_leaf=0.0,\n",
       "                                              n_estimators=100, n_jobs=None,\n",
       "                                              oob_score=False,\n",
       "                                              random_state=None, verbose=0,\n",
       "                                              warm_start=False),\n",
       "             iid='deprecated', n_jobs=-1,\n",
       "             param_grid={'max_depth': [3, 5, 7, 9],\n",
       "                         'n_estimators': (100, 300, 500),\n",
       "                         'random_state': [303]},\n",
       "             pre_dispatch='2*n_jobs', refit=True, return_train_score=False,\n",
       "             scoring=None, verbose=0)"
      ]
     },
     "execution_count": 34,
     "metadata": {},
     "output_type": "execute_result"
    }
   ],
   "source": [
    "X_train, X_test, y_train, y_test = train_test_split(training_data[cols],\n",
    "                                                    training_data[target],\n",
    "                                                    test_size=.25, random_state=random_seed)\n",
    "grid.fit(X_train, y_train)"
   ]
  },
  {
   "cell_type": "code",
   "execution_count": 35,
   "metadata": {},
   "outputs": [
    {
     "data": {
      "text/plain": [
       "0.7314148681055156"
      ]
     },
     "execution_count": 35,
     "metadata": {},
     "output_type": "execute_result"
    }
   ],
   "source": [
    "grid.score(X_test, y_test)"
   ]
  },
  {
   "cell_type": "code",
   "execution_count": 36,
   "metadata": {},
   "outputs": [
    {
     "data": {
      "text/plain": [
       "{'max_depth': 7, 'n_estimators': 300, 'random_state': 303}"
      ]
     },
     "execution_count": 36,
     "metadata": {},
     "output_type": "execute_result"
    }
   ],
   "source": [
    "grid.best_params_"
   ]
  },
  {
   "cell_type": "code",
   "execution_count": 37,
   "metadata": {},
   "outputs": [
    {
     "data": {
      "text/plain": [
       "0.7584"
      ]
     },
     "execution_count": 37,
     "metadata": {},
     "output_type": "execute_result"
    }
   ],
   "source": [
    "grid.best_score_"
   ]
  },
  {
   "cell_type": "code",
   "execution_count": 49,
   "metadata": {},
   "outputs": [
    {
     "data": {
      "image/png": "[encoded data removed]",
      "text/plain": [
       "<Figure size 576x432 with 1 Axes>"
      ]
     },
     "metadata": {
      "needs_background": "light"
     },
     "output_type": "display_data"
    }
   ],
   "source": [
    "import pandas as pd\n",
    "import matplotlib.pyplot as plt\n",
    "\n",
    "forest = RandomForestClassifier(n_estimators=300, n_jobs=-1, max_depth=7, random_state=303)\n",
    "score = fit_model(training_data, variable=cols, target=target, model=forest)\n",
    "\n",
    "feature_names = cols\n",
    "importances = forest.feature_importances_\n",
    "forest_importances = pd.Series(importances, index=feature_names)\n",
    "forest_importances.sort_values(inplace=True, ascending=True)\n",
    "\n",
    "fig, ax = plt.subplots(figsize=(8, 6))\n",
    "forest_importances.plot.barh(ax=ax, color='grey')\n",
    "# ax.set_ylabel(\"Features\")\n",
    "ax.set_xlabel(\"Feature Importance\")\n",
    "\n",
    "# Hide the right and top spines\n",
    "ax.spines['right'].set_visible(False)\n",
    "ax.spines['top'].set_visible(False)\n",
    "\n",
    "# Only show ticks on the left and bottom spines\n",
    "ax.yaxis.set_ticks_position('left')\n",
    "ax.xaxis.set_ticks_position('bottom') # Hide the right and top spines\n",
    "ax.spines['right'].set_visible(False)\n",
    "ax.spines['top'].set_visible(False)\n",
    "\n",
    "# Only show ticks on the left and bottom spines\n",
    "ax.yaxis.set_ticks_position('left')\n",
    "ax.xaxis.set_ticks_position('bottom')\n",
    "\n",
    "fig.tight_layout()"
   ]
  },
  {
   "cell_type": "markdown",
   "metadata": {},
   "source": [
    "Figure Tk: Feature importance is a measure of how predictive a feature is among all the decisions trees we trained in the random forest model. Each feature is rated between 0 (not used at all) and 1 (perfectly predicts the which product gets placed higher)."
   ]
  },
  {
   "cell_type": "markdown",
   "metadata": {},
   "source": [
    "0 means they are both X\n",
    "-2 means they are both NOT X\n",
    "2 means one is X and one is NOT X"
   ]
  },
  {
   "cell_type": "code",
   "execution_count": 166,
   "metadata": {},
   "outputs": [
    {
     "data": {
      "text/plain": [
       " 0    0.486465\n",
       " 2    0.257787\n",
       "-2    0.255748\n",
       "Name: is_amazon, dtype: float64"
      ]
     },
     "execution_count": 166,
     "metadata": {},
     "output_type": "execute_result"
    }
   ],
   "source": [
    "training_data['is_amazon'].value_counts(normalize=True)"
   ]
  },
  {
   "cell_type": "code",
   "execution_count": 167,
   "metadata": {},
   "outputs": [
    {
     "data": {
      "text/plain": [
       " 0    0.706770\n",
       " 2    0.147393\n",
       "-2    0.145837\n",
       "Name: is_shipped_by_amazon, dtype: float64"
      ]
     },
     "execution_count": 167,
     "metadata": {},
     "output_type": "execute_result"
    }
   ],
   "source": [
    "training_data['is_shipped_by_amazon'].value_counts(normalize=True)"
   ]
  },
  {
   "cell_type": "code",
   "execution_count": 168,
   "metadata": {},
   "outputs": [
    {
     "data": {
      "text/plain": [
       " 0    0.536012\n",
       " 2    0.232663\n",
       "-2    0.231325\n",
       "Name: is_sold_by_amazon, dtype: float64"
      ]
     },
     "execution_count": 168,
     "metadata": {},
     "output_type": "execute_result"
    }
   ],
   "source": [
    "training_data['is_sold_by_amazon'].value_counts(normalize=True)"
   ]
  },
  {
   "cell_type": "code",
   "execution_count": 169,
   "metadata": {},
   "outputs": [
    {
     "data": {
      "text/plain": [
       " 0    0.844497\n",
       "-2    0.078748\n",
       " 2    0.076755\n",
       "Name: is_best_seller, dtype: float64"
      ]
     },
     "execution_count": 169,
     "metadata": {},
     "output_type": "execute_result"
    }
   ],
   "source": [
    "training_data['is_best_seller'].value_counts(normalize=True)"
   ]
  },
  {
   "cell_type": "code",
   "execution_count": 170,
   "metadata": {},
   "outputs": [
    {
     "data": {
      "text/plain": [
       " 0    0.609016\n",
       "-2    0.196006\n",
       " 2    0.194978\n",
       "Name: is_top_clicked, dtype: float64"
      ]
     },
     "execution_count": 170,
     "metadata": {},
     "output_type": "execute_result"
    }
   ],
   "source": [
    "training_data['is_top_clicked'].value_counts(normalize=True)"
   ]
  },
  {
   "cell_type": "code",
   "execution_count": 171,
   "metadata": {},
   "outputs": [
    {
     "data": {
      "text/plain": [
       " 0    0.882835\n",
       " 2    0.060038\n",
       "-2    0.057127\n",
       "Name: is_amazons_choice, dtype: float64"
      ]
     },
     "execution_count": 171,
     "metadata": {},
     "output_type": "execute_result"
    }
   ],
   "source": [
    "training_data['is_amazons_choice'].value_counts(normalize=True)"
   ]
  },
  {
   "cell_type": "code",
   "execution_count": null,
   "metadata": {},
   "outputs": [],
   "source": []
  },
  {
   "cell_type": "code",
   "execution_count": null,
   "metadata": {},
   "outputs": [],
   "source": []
  },
  {
   "cell_type": "code",
   "execution_count": 164,
   "metadata": {},
   "outputs": [
    {
     "name": "stderr",
     "output_type": "stream",
     "text": [
      "  0%|          | 0/4525 [00:00<?, ?it/s]<ipython-input-164-5cf45a22376c>:11: SettingWithCopyWarning: \n",
      "A value is trying to be set on a copy of a slice from a DataFrame\n",
      "\n",
      "See the caveats in the documentation: https://pandas.pydata.org/pandas-docs/stable/user_guide/indexing.html#returning-a-view-versus-a-copy\n",
      "  __df.sort_values(by='product_order', inplace=True)\n",
      "100%|██████████| 4525/4525 [04:18<00:00, 17.48it/s]\n"
     ]
    }
   ],
   "source": [
    "# if not os.path.exists(fn_pairwise):\n",
    "last_product_position = 60\n",
    "random.seed(303)\n",
    "data = []\n",
    "for search_term, __df in tqdm(_df[_df.is_sponsored != True].groupby('search_term')):\n",
    "    # for each search term, go through each row.\n",
    "    if len(__df) == 1:\n",
    "        continue\n",
    "    if len(__df[__df.product_order == 1]) == 0:\n",
    "        continue\n",
    "    __df.sort_values(by='product_order', inplace=True)\n",
    "    __df.reset_index(inplace=True)\n",
    "    \n",
    "    for i in range(1, last_product_position):\n",
    "        if len(__df) <= i:\n",
    "            continue\n",
    "        if random.random() > .5:\n",
    "            row = __df.iloc[0]\n",
    "            comparison = __df.iloc[i]\n",
    "        else:\n",
    "            row = __df.iloc[i]\n",
    "            comparison = __df.iloc[0]\n",
    "    #     __df.so\n",
    "        knockout = row['product_order']\n",
    "    #     comparison = __df[__df.product_order != knockout].sample(1).iloc[0]\n",
    "\n",
    "        # calculate differences between two pairs\n",
    "        placed_higher = knockout > comparison['product_order']\n",
    "        stars_delta = row['stars'] - comparison['stars']\n",
    "        ratings_delta = row['reviews'] - comparison['reviews']\n",
    "        stars_delta_perc = stars_delta / row['stars']\n",
    "        ratings_delta_perc = ratings_delta / row['reviews']\n",
    "        \n",
    "        is_amazon = row['is_amazon_encoded'] - comparison['is_amazon_encoded']\n",
    "        is_shipped_by_amazon = row['is_shipped_by_amazon_encoded'] - comparison['is_shipped_by_amazon_encoded']\n",
    "        is_sold_by_amazon = row['is_sold_by_amazon_encoded'] - comparison['is_sold_by_amazon_encoded']\n",
    "        is_top_clicked = row['top_clicked_encoded'] - comparison['top_clicked_encoded']\n",
    "        is_best_seller = row['is_best_seller_encoded'] - comparison['is_best_seller_encoded']\n",
    "        is_amazons_choice = row['is_amazons_choice_encoded'] - comparison['is_amazons_choice_encoded']\n",
    "        random_noise = row['control'] - comparison['control']\n",
    "        price_delta = row['price'] - comparison['price']\n",
    "        price_delta_perc = (price_delta) / (row['price'] + .001)\n",
    "\n",
    "        output = {\n",
    "            'search_term' : search_term,\n",
    "            'placed_higher' : placed_higher,\n",
    "            'stars_delta': stars_delta,\n",
    "            'reviews_delta' : ratings_delta,\n",
    "            'price_delta': price_delta,\n",
    "            'stars_delta_perc': stars_delta_perc,\n",
    "            'reviews_delta_perc': ratings_delta_perc,\n",
    "            'price_delta_perc': price_difference,\n",
    "            'is_shipped_by_amazon' : is_shipped_by_amazon,\n",
    "            'is_sold_by_amazon': is_sold_by_amazon,\n",
    "            'is_amazon': is_amazon,\n",
    "            'is_top_clicked': is_top_clicked,\n",
    "            'is_amazons_choice': is_amazons_choice,\n",
    "            'is_best_seller': is_best_seller,\n",
    "            'random_noise' : random_noise,\n",
    "            'asin_1' : row['asin'],\n",
    "            'asin_2': comparison['asin']\n",
    "        }\n",
    "\n",
    "        data.append(output)\n",
    "    training_data = pd.DataFrame(data)"
   ]
  },
  {
   "cell_type": "code",
   "execution_count": 161,
   "metadata": {},
   "outputs": [
    {
     "name": "stdout",
     "output_type": "stream",
     "text": [
      "All features (n_test = 9,004): 79.58%\n",
      "without stars_delta: 79.47%\n",
      "without reviews_delta: 79.53%\n",
      "without price_delta: 79.33%\n",
      "without stars_delta_perc: 79.58%\n",
      "without reviews_delta_perc: 77.99%\n",
      "without price_delta_perc: 79.48%\n",
      "without is_amazon: 71.96%\n",
      "without is_shipped_by_amazon: 79.3%\n",
      "without is_sold_by_amazon: 79.43%\n",
      "without is_top_clicked: 78.9%\n",
      "without random_noise: 79.82%\n"
     ]
    }
   ],
   "source": [
    "cat2performance = {}\n",
    "\n",
    "forest = RandomForestClassifier(n_estimators=100, n_jobs=-1, max_depth=9, random_state=303)\n",
    "score = fit_model(training_data, variable=cols, target=target, model=forest)\n",
    "print(f\"All features (n_test = {int(len(training_data) * .2):,}): {score * 100 :.4}%\")\n",
    "cat2performance[\"All Features\"] = score\n",
    "for col in cols:\n",
    "    clf =  RandomForestClassifier(n_estimators=100, n_jobs=-1, max_depth=9, random_state=303)\n",
    "    iv = [c for c in cols if c not in col]\n",
    "    score = fit_model(training_data, variable=iv, target=target, model=clf)\n",
    "    print(f\"without {col}: {score * 100 :.4}%\")\n",
    "    cat2performance[f\"without {col}\"] = score"
   ]
  },
  {
   "cell_type": "code",
   "execution_count": 165,
   "metadata": {},
   "outputs": [
    {
     "name": "stdout",
     "output_type": "stream",
     "text": [
      "All features (n_test = 12,848): 80.78%\n",
      "without stars_delta: 80.85%\n",
      "without reviews_delta: 80.76%\n",
      "without price_delta: 80.69%\n",
      "without stars_delta_perc: 81.03%\n",
      "without reviews_delta_perc: 79.61%\n",
      "without price_delta_perc: 80.75%\n",
      "without is_amazon: 73.34%\n",
      "without is_shipped_by_amazon: 80.19%\n",
      "without is_sold_by_amazon: 80.5%\n",
      "without is_top_clicked: 80.08%\n",
      "without random_noise: 80.88%\n"
     ]
    }
   ],
   "source": [
    "cat2performance_60 = {}\n",
    "\n",
    "forest = RandomForestClassifier(n_estimators=100, n_jobs=-1, max_depth=9, random_state=303)\n",
    "score = fit_model(training_data, variable=cols, target=target, model=forest)\n",
    "print(f\"All features (n_test = {int(len(training_data) * .2):,}): {score * 100 :.4}%\")\n",
    "cat2performance_60[\"All Features\"] = score\n",
    "for col in cols:\n",
    "    clf =  RandomForestClassifier(n_estimators=100, n_jobs=-1, max_depth=9, random_state=303)\n",
    "    iv = [c for c in cols if c not in col]\n",
    "    score = fit_model(training_data, variable=iv, target=target, model=clf)\n",
    "    print(f\"without {col}: {score * 100 :.4}%\")\n",
    "    cat2performance_60[f\"without {col}\"] = score"
   ]
  },
  {
   "cell_type": "code",
   "execution_count": null,
   "metadata": {},
   "outputs": [],
   "source": []
  },
  {
   "cell_type": "code",
   "execution_count": 73,
   "metadata": {},
   "outputs": [
    {
     "data": {
      "text/plain": [
       "['stars_delta',\n",
       " 'reviews_delta',\n",
       " 'is_amazon',\n",
       " 'is_shipped_by_amazon',\n",
       " 'is_sold_by_amazon',\n",
       " 'is_top_clicked',\n",
       " 'random_noise']"
      ]
     },
     "execution_count": 73,
     "metadata": {},
     "output_type": "execute_result"
    }
   ],
   "source": [
    "cols"
   ]
  },
  {
   "cell_type": "code",
   "execution_count": null,
   "metadata": {},
   "outputs": [],
   "source": []
  },
  {
   "cell_type": "code",
   "execution_count": 131,
   "metadata": {},
   "outputs": [],
   "source": [
    "cols = ['stars_delta', 'reviews_delta',\n",
    "        'is_amazon','is_shipped_by_amazon', 'is_sold_by_amazon', \n",
    "        'is_top_clicked','random_noise']\n",
    "\n",
    "permutations = [cols]\n",
    "for col in cols:\n",
    "    p1 = [c for c in cols if c != col]\n",
    "    permutations.append(sorted(p1))\n",
    "    for col in p1:\n",
    "        p2 = [c for c in p1 if c!= col]\n",
    "        permutations.append(sorted(p2))\n",
    "        for col in p2:\n",
    "            p3 = [c for c in p2 if c!= col]\n",
    "            permutations.append(sorted(p3))\n",
    "            for col in p3:\n",
    "                p4 = [c for c in p3 if c!= col]\n",
    "                permutations.append(sorted(p4))\n",
    "                for col in p4:\n",
    "                    p5 = [c for c in p4 if c!= col]\n",
    "                    permutations.append(sorted(p5))\n",
    "                    for col in p5:\n",
    "                        p6 = [c for c in p5 if c!= col]\n",
    "                        permutations.append(p6)\n",
    "                        \n",
    "perms = list(set(tuple(row) for row in permutations))"
   ]
  },
  {
   "cell_type": "code",
   "execution_count": 132,
   "metadata": {},
   "outputs": [
    {
     "data": {
      "text/plain": [
       "8660"
      ]
     },
     "execution_count": 132,
     "metadata": {},
     "output_type": "execute_result"
    }
   ],
   "source": [
    "len(permutations)"
   ]
  },
  {
   "cell_type": "code",
   "execution_count": 104,
   "metadata": {},
   "outputs": [
    {
     "data": {
      "text/plain": [
       "141"
      ]
     },
     "execution_count": 104,
     "metadata": {},
     "output_type": "execute_result"
    }
   ],
   "source": [
    "6*7 + 5*7 + 4*7 + 3*7 + 2*7 + 1"
   ]
  },
  {
   "cell_type": "code",
   "execution_count": 133,
   "metadata": {},
   "outputs": [],
   "source": []
  },
  {
   "cell_type": "code",
   "execution_count": 134,
   "metadata": {},
   "outputs": [
    {
     "data": {
      "text/plain": [
       "127"
      ]
     },
     "execution_count": 134,
     "metadata": {},
     "output_type": "execute_result"
    }
   ],
   "source": [
    "len(perms)"
   ]
  },
  {
   "cell_type": "code",
   "execution_count": 114,
   "metadata": {},
   "outputs": [
    {
     "data": {
      "text/plain": [
       "['reviews_delta', 'is_shipped_by_amazon', 'random_noise']"
      ]
     },
     "execution_count": 114,
     "metadata": {},
     "output_type": "execute_result"
    }
   ],
   "source": [
    "list(iv)"
   ]
  },
  {
   "cell_type": "code",
   "execution_count": 116,
   "metadata": {},
   "outputs": [
    {
     "name": "stderr",
     "output_type": "stream",
     "text": [
      "100%|██████████| 127/127 [06:00<00:00,  2.84s/it]\n"
     ]
    }
   ],
   "source": [
    "cat2performance = {}\n",
    "for iv in tqdm(perms):\n",
    "    clf =  RandomForestClassifier(n_estimators=300, max_depth=7, \n",
    "                                  n_jobs=-1, random_state=303)\n",
    "    score, std = fit_model_cv(training_data, variable=list(iv), \n",
    "                              target=target, model=clf)\n",
    "    cat2performance[iv] = score"
   ]
  },
  {
   "cell_type": "code",
   "execution_count": 120,
   "metadata": {},
   "outputs": [],
   "source": [
    "df = pd.DataFrame([{\"cols\" : k, \"accuracy\": v } for k, v in cat2performance.items()])"
   ]
  },
  {
   "cell_type": "code",
   "execution_count": 122,
   "metadata": {},
   "outputs": [
    {
     "data": {
      "text/html": [
       "<div>\n",
       "<style scoped>\n",
       "    .dataframe tbody tr th:only-of-type {\n",
       "        vertical-align: middle;\n",
       "    }\n",
       "\n",
       "    .dataframe tbody tr th {\n",
       "        vertical-align: top;\n",
       "    }\n",
       "\n",
       "    .dataframe thead th {\n",
       "        text-align: right;\n",
       "    }\n",
       "</style>\n",
       "<table border=\"1\" class=\"dataframe\">\n",
       "  <thead>\n",
       "    <tr style=\"text-align: right;\">\n",
       "      <th></th>\n",
       "      <th>cols</th>\n",
       "      <th>accuracy</th>\n",
       "    </tr>\n",
       "  </thead>\n",
       "  <tbody>\n",
       "    <tr>\n",
       "      <th>40</th>\n",
       "      <td>(random_noise,)</td>\n",
       "      <td>0.474515</td>\n",
       "    </tr>\n",
       "    <tr>\n",
       "      <th>27</th>\n",
       "      <td>(reviews_delta, random_noise)</td>\n",
       "      <td>0.496097</td>\n",
       "    </tr>\n",
       "    <tr>\n",
       "      <th>74</th>\n",
       "      <td>(is_shipped_by_amazon, random_noise)</td>\n",
       "      <td>0.496696</td>\n",
       "    </tr>\n",
       "    <tr>\n",
       "      <th>66</th>\n",
       "      <td>(stars_delta, random_noise)</td>\n",
       "      <td>0.527902</td>\n",
       "    </tr>\n",
       "    <tr>\n",
       "      <th>100</th>\n",
       "      <td>(stars_delta,)</td>\n",
       "      <td>0.529702</td>\n",
       "    </tr>\n",
       "    <tr>\n",
       "      <th>82</th>\n",
       "      <td>(reviews_delta,)</td>\n",
       "      <td>0.533948</td>\n",
       "    </tr>\n",
       "    <tr>\n",
       "      <th>88</th>\n",
       "      <td>(stars_delta, reviews_delta, random_noise)</td>\n",
       "      <td>0.535676</td>\n",
       "    </tr>\n",
       "    <tr>\n",
       "      <th>45</th>\n",
       "      <td>(is_shipped_by_amazon,)</td>\n",
       "      <td>0.536862</td>\n",
       "    </tr>\n",
       "    <tr>\n",
       "      <th>0</th>\n",
       "      <td>(reviews_delta, is_shipped_by_amazon, random_n...</td>\n",
       "      <td>0.540484</td>\n",
       "    </tr>\n",
       "    <tr>\n",
       "      <th>106</th>\n",
       "      <td>(stars_delta, reviews_delta)</td>\n",
       "      <td>0.541700</td>\n",
       "    </tr>\n",
       "  </tbody>\n",
       "</table>\n",
       "</div>"
      ],
      "text/plain": [
       "                                                  cols  accuracy\n",
       "40                                     (random_noise,)  0.474515\n",
       "27                       (reviews_delta, random_noise)  0.496097\n",
       "74                (is_shipped_by_amazon, random_noise)  0.496696\n",
       "66                         (stars_delta, random_noise)  0.527902\n",
       "100                                     (stars_delta,)  0.529702\n",
       "82                                    (reviews_delta,)  0.533948\n",
       "88          (stars_delta, reviews_delta, random_noise)  0.535676\n",
       "45                             (is_shipped_by_amazon,)  0.536862\n",
       "0    (reviews_delta, is_shipped_by_amazon, random_n...  0.540484\n",
       "106                       (stars_delta, reviews_delta)  0.541700"
      ]
     },
     "execution_count": 122,
     "metadata": {},
     "output_type": "execute_result"
    }
   ],
   "source": [
    "df.sort_values(\"accuracy\", ascending=True).head(10)"
   ]
  },
  {
   "cell_type": "code",
   "execution_count": 123,
   "metadata": {},
   "outputs": [
    {
     "data": {
      "text/html": [
       "<div>\n",
       "<style scoped>\n",
       "    .dataframe tbody tr th:only-of-type {\n",
       "        vertical-align: middle;\n",
       "    }\n",
       "\n",
       "    .dataframe tbody tr th {\n",
       "        vertical-align: top;\n",
       "    }\n",
       "\n",
       "    .dataframe thead th {\n",
       "        text-align: right;\n",
       "    }\n",
       "</style>\n",
       "<table border=\"1\" class=\"dataframe\">\n",
       "  <thead>\n",
       "    <tr style=\"text-align: right;\">\n",
       "      <th></th>\n",
       "      <th>cols</th>\n",
       "      <th>accuracy</th>\n",
       "    </tr>\n",
       "  </thead>\n",
       "  <tbody>\n",
       "    <tr>\n",
       "      <th>113</th>\n",
       "      <td>(stars_delta, reviews_delta, is_amazon, is_shi...</td>\n",
       "      <td>0.761857</td>\n",
       "    </tr>\n",
       "    <tr>\n",
       "      <th>35</th>\n",
       "      <td>(stars_delta, reviews_delta, is_amazon, is_shi...</td>\n",
       "      <td>0.758239</td>\n",
       "    </tr>\n",
       "    <tr>\n",
       "      <th>8</th>\n",
       "      <td>(stars_delta, reviews_delta, is_amazon, is_shi...</td>\n",
       "      <td>0.754679</td>\n",
       "    </tr>\n",
       "    <tr>\n",
       "      <th>18</th>\n",
       "      <td>(stars_delta, reviews_delta, is_amazon, is_sol...</td>\n",
       "      <td>0.754661</td>\n",
       "    </tr>\n",
       "    <tr>\n",
       "      <th>117</th>\n",
       "      <td>(stars_delta, reviews_delta, is_amazon, is_shi...</td>\n",
       "      <td>0.754094</td>\n",
       "    </tr>\n",
       "    <tr>\n",
       "      <th>126</th>\n",
       "      <td>(stars_delta, reviews_delta, is_amazon, is_sol...</td>\n",
       "      <td>0.752879</td>\n",
       "    </tr>\n",
       "    <tr>\n",
       "      <th>51</th>\n",
       "      <td>(stars_delta, reviews_delta, is_amazon, is_shi...</td>\n",
       "      <td>0.752265</td>\n",
       "    </tr>\n",
       "    <tr>\n",
       "      <th>68</th>\n",
       "      <td>(stars_delta, reviews_delta, is_amazon, is_shi...</td>\n",
       "      <td>0.751688</td>\n",
       "    </tr>\n",
       "    <tr>\n",
       "      <th>84</th>\n",
       "      <td>(stars_delta, reviews_delta, is_amazon, is_top...</td>\n",
       "      <td>0.750465</td>\n",
       "    </tr>\n",
       "    <tr>\n",
       "      <th>57</th>\n",
       "      <td>(reviews_delta, is_amazon, is_shipped_by_amazo...</td>\n",
       "      <td>0.749888</td>\n",
       "    </tr>\n",
       "  </tbody>\n",
       "</table>\n",
       "</div>"
      ],
      "text/plain": [
       "                                                  cols  accuracy\n",
       "113  (stars_delta, reviews_delta, is_amazon, is_shi...  0.761857\n",
       "35   (stars_delta, reviews_delta, is_amazon, is_shi...  0.758239\n",
       "8    (stars_delta, reviews_delta, is_amazon, is_shi...  0.754679\n",
       "18   (stars_delta, reviews_delta, is_amazon, is_sol...  0.754661\n",
       "117  (stars_delta, reviews_delta, is_amazon, is_shi...  0.754094\n",
       "126  (stars_delta, reviews_delta, is_amazon, is_sol...  0.752879\n",
       "51   (stars_delta, reviews_delta, is_amazon, is_shi...  0.752265\n",
       "68   (stars_delta, reviews_delta, is_amazon, is_shi...  0.751688\n",
       "84   (stars_delta, reviews_delta, is_amazon, is_top...  0.750465\n",
       "57   (reviews_delta, is_amazon, is_shipped_by_amazo...  0.749888"
      ]
     },
     "execution_count": 123,
     "metadata": {},
     "output_type": "execute_result"
    }
   ],
   "source": [
    "df.sort_values(\"accuracy\", ascending=False).head(10)"
   ]
  },
  {
   "cell_type": "code",
   "execution_count": 130,
   "metadata": {},
   "outputs": [
    {
     "data": {
      "text/plain": [
       "65"
      ]
     },
     "execution_count": 130,
     "metadata": {},
     "output_type": "execute_result"
    }
   ],
   "source": [
    "1+2**6"
   ]
  },
  {
   "cell_type": "code",
   "execution_count": 126,
   "metadata": {},
   "outputs": [],
   "source": [
    "df.sort_values(\"accuracy\", inplace=True)"
   ]
  },
  {
   "cell_type": "code",
   "execution_count": 127,
   "metadata": {},
   "outputs": [],
   "source": [
    "df.to_csv('../data/output/tables/random_forest_permutations.csv')"
   ]
  },
  {
   "cell_type": "code",
   "execution_count": 125,
   "metadata": {},
   "outputs": [
    {
     "data": {
      "text/plain": [
       "[('stars_delta',\n",
       "  'reviews_delta',\n",
       "  'is_amazon',\n",
       "  'is_shipped_by_amazon',\n",
       "  'is_sold_by_amazon',\n",
       "  'random_noise'),\n",
       " ('stars_delta',\n",
       "  'reviews_delta',\n",
       "  'is_amazon',\n",
       "  'is_shipped_by_amazon',\n",
       "  'is_sold_by_amazon',\n",
       "  'is_top_clicked',\n",
       "  'random_noise'),\n",
       " ('stars_delta',\n",
       "  'reviews_delta',\n",
       "  'is_amazon',\n",
       "  'is_shipped_by_amazon',\n",
       "  'is_sold_by_amazon',\n",
       "  'is_top_clicked'),\n",
       " ('stars_delta',\n",
       "  'reviews_delta',\n",
       "  'is_amazon',\n",
       "  'is_sold_by_amazon',\n",
       "  'random_noise'),\n",
       " ('stars_delta',\n",
       "  'reviews_delta',\n",
       "  'is_amazon',\n",
       "  'is_shipped_by_amazon',\n",
       "  'is_top_clicked'),\n",
       " ('stars_delta',\n",
       "  'reviews_delta',\n",
       "  'is_amazon',\n",
       "  'is_sold_by_amazon',\n",
       "  'is_top_clicked',\n",
       "  'random_noise'),\n",
       " ('stars_delta',\n",
       "  'reviews_delta',\n",
       "  'is_amazon',\n",
       "  'is_shipped_by_amazon',\n",
       "  'is_top_clicked',\n",
       "  'random_noise'),\n",
       " ('stars_delta', 'reviews_delta', 'is_amazon', 'is_shipped_by_amazon'),\n",
       " ('stars_delta',\n",
       "  'reviews_delta',\n",
       "  'is_amazon',\n",
       "  'is_top_clicked',\n",
       "  'random_noise'),\n",
       " ('reviews_delta',\n",
       "  'is_amazon',\n",
       "  'is_shipped_by_amazon',\n",
       "  'is_sold_by_amazon',\n",
       "  'is_top_clicked',\n",
       "  'random_noise')]"
      ]
     },
     "execution_count": 125,
     "metadata": {},
     "output_type": "execute_result"
    }
   ],
   "source": [
    "df.sort_values(\"accuracy\", ascending=False).head(10).cols.tolist()"
   ]
  },
  {
   "cell_type": "code",
   "execution_count": null,
   "metadata": {},
   "outputs": [],
   "source": []
  }
 ],
 "metadata": {
  "kernelspec": {
   "display_name": "Python 3",
   "language": "python",
   "name": "python3"
  },
  "language_info": {
   "codemirror_mode": {
    "name": "ipython",
    "version": 3
   },
   "file_extension": ".py",
   "mimetype": "text/x-python",
   "name": "python",
   "nbconvert_exporter": "python",
   "pygments_lexer": "ipython3",
   "version": "3.8.1"
  }
 },
 "nbformat": 4,
 "nbformat_minor": 4
}
