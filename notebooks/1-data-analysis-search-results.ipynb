{
 "cells": [
  {
   "cell_type": "markdown",
   "metadata": {},
   "source": [
    "# Data Analysis Search Results"
   ]
  },
  {
   "cell_type": "code",
   "execution_count": 1,
   "metadata": {},
   "outputs": [],
   "source": [
    "%load_ext autoreload\n",
    "%autoreload 2"
   ]
  },
  {
   "cell_type": "code",
   "execution_count": 2,
   "metadata": {},
   "outputs": [],
   "source": [
    "import os\n",
    "import re\n",
    "import glob\n",
    "import time\n",
    "from collections import Counter\n",
    "import json\n",
    "from multiprocessing import Pool\n",
    "\n",
    "from tqdm import tqdm\n",
    "from lxml import html\n",
    "import pandas as pd\n",
    "import matplotlib.pyplot as plt\n",
    "from matplotlib.colors import LinearSegmentedColormap\n",
    "from matplotlib.patches import Patch\n",
    "from matplotlib.lines import Line2D\n",
    "import seaborn as sns\n",
    "import numpy as np\n",
    "from sklearn.utils import resample\n",
    "\n",
    "from utils import value_counts, calculate_table"
   ]
  },
  {
   "cell_type": "code",
   "execution_count": 3,
   "metadata": {},
   "outputs": [],
   "source": [
    "# inputs\n",
    "data_dir = '../data/output/datasets/'\n",
    "fn_search = f'{data_dir}/searches.csv.xz'\n",
    "fn_products = f'{data_dir}/products.csv.xz'\n",
    "fn_queries = '../data/input/combined_queries_with_source.csv'\n",
    "fn_amazon = f'{data_dir}/amazon_private_label.csv.xz'\n",
    "\n",
    "# intermediary\n",
    "fn_compare = f'{data_dir}/quality_and_sales_comparisons.csv'\n",
    "\n",
    "# outputs\n",
    "output_dir = '../data/output'\n",
    "table1 = f'{output_dir}/tables/table1-not_always_labelled.csv'\n",
    "fig2 = f'{output_dir}/figures/fig2-scatter.png'\n",
    "fig2_csv = f'{output_dir}/figures/fig2-scatter.csv'\n",
    "fig3a = f'{output_dir}/figures/fig3a-heatmap_amzn.png'\n",
    "fig3b = f'{output_dir}/figures/fig3b-heatmap-unaffilated.png'\n",
    "fig3c = f'{output_dir}/figures/fig3c-heatmap-sponsored.png'\n",
    "fig3a_csv = f'{output_dir}/figures/fig3a-heatmap_amzn.csv'\n",
    "fig3b_csv = f'{output_dir}/figures/fig3b-heatmap-unaffilated.csv'\n",
    "fig3c_csv = f'{output_dir}/figures/fig3c-heatmap-sponsored.csv'\n",
    "table4 = f'{output_dir}/tables/table4-appendix-generic.csv'\n",
    "for subdir in ['figures', 'tables']:\n",
    "    os.makedirs(f'{output_dir}/{subdir}', exist_ok=True)"
   ]
  },
  {
   "cell_type": "code",
   "execution_count": 4,
   "metadata": {},
   "outputs": [],
   "source": [
    "df_amazon = pd.read_csv(fn_amazon, compression='xz')\n",
    "df_products = pd.read_csv(fn_products, compression='xz')\n",
    "df_search = pd.read_csv(fn_search, compression='xz')\n",
    "keywords = pd.read_csv(fn_queries)"
   ]
  },
  {
   "cell_type": "code",
   "execution_count": 5,
   "metadata": {},
   "outputs": [
    {
     "data": {
      "text/plain": [
       "137428"
      ]
     },
     "execution_count": 5,
     "metadata": {},
     "output_type": "execute_result"
    }
   ],
   "source": [
    "amazon_asin = set(df_amazon.asin.tolist())\n",
    "len(amazon_asin)"
   ]
  },
  {
   "cell_type": "markdown",
   "metadata": {},
   "source": [
    "## merge data"
   ]
  },
  {
   "cell_type": "code",
   "execution_count": 6,
   "metadata": {},
   "outputs": [
    {
     "data": {
      "text/plain": [
       "4567"
      ]
     },
     "execution_count": 6,
     "metadata": {},
     "output_type": "execute_result"
    }
   ],
   "source": [
    "_df_search = df_search[df_search.product_type.isin(['regular_placement'])]\n",
    "\n",
    "searches_with_amazon_brands = _df_search[\n",
    "    _df_search.asin.isin(amazon_asin)\n",
    "].search_term.unique()\n",
    "len(searches_with_amazon_brands)"
   ]
  },
  {
   "cell_type": "code",
   "execution_count": 7,
   "metadata": {},
   "outputs": [],
   "source": [
    "_df_search = _df_search[_df_search.search_term.isin(searches_with_amazon_brands)].merge(df_products, how='left')\n",
    "_df_search['is_amazon'] = _df_search.asin.isin(amazon_asin)"
   ]
  },
  {
   "cell_type": "code",
   "execution_count": 8,
   "metadata": {},
   "outputs": [
    {
     "data": {
      "text/plain": [
       "asin                                                              B08QDLKG8Y\n",
       "product_name               Five Star DuraShield Notebook with Antimicrobi...\n",
       "stars                                                                    4.8\n",
       "reviews                                                                 2120\n",
       "brand                                                                    NaN\n",
       "product_url                /gp/slredirect/picassoRedirect.html/ref=pa_sp_...\n",
       "is_prime                                                                True\n",
       "is_fresh                                                               False\n",
       "is_sponsored                                                            True\n",
       "is_featured_brand                                                      False\n",
       "is_amazons_choice                                                      False\n",
       "is_best_seller                                                         False\n",
       "product_order                                                              1\n",
       "search_term                                               5 subject notebook\n",
       "product_type                                               regular_placement\n",
       "price                                                                 $23.99\n",
       "price_std                                                                NaN\n",
       "filename                   ../data/input/search-selenium/5/5 /5 subject n...\n",
       "fn                         ../data/input/selenium-products/Q/QD/B08QDLKG8...\n",
       "title                      Five Star DuraShield Notebook with Antimicrobi...\n",
       "shipped_by                                                        Amazon.com\n",
       "sold_by                                                           Amazon.com\n",
       "has_third_party_sellers                                                False\n",
       "product_by_amazon                                                      False\n",
       "our_brands_carousel                                                    False\n",
       "ads                                                                       []\n",
       "no_buybox_winner                                                       False\n",
       "is_out_of_stock                                                        False\n",
       "is_page_gone                                                           False\n",
       "suggestions                ['B08QDLKG8Y', 'B08QDLKG8Y', 'B08QDLKG8Y', 'B0...\n",
       "n_ads                                                                      0\n",
       "is_amazon                                                              False\n",
       "is_sold_by_amazon                                                       True\n",
       "is_shipped_by_amazon                                                    True\n",
       "Name: 0, dtype: object"
      ]
     },
     "execution_count": 8,
     "metadata": {},
     "output_type": "execute_result"
    }
   ],
   "source": [
    "_df_search.iloc[0]"
   ]
  },
  {
   "cell_type": "code",
   "execution_count": 9,
   "metadata": {},
   "outputs": [],
   "source": [
    "_df_search[\"is_shipped_by_amazon_TRUE\"] = _df_search.apply(lambda x: any([x['is_shipped_by_amazon'], \n",
    "                                x['is_fresh'], x['is_prime']]), axis=1)"
   ]
  },
  {
   "cell_type": "code",
   "execution_count": 10,
   "metadata": {},
   "outputs": [],
   "source": [
    "kw_generic = keywords[keywords['source'] == 'generic'].search_term\n",
    "kw_seller = keywords[keywords['source'] == 'seller'].search_term\n",
    "kw_autocomplete = keywords[keywords['source'].isin(\n",
    "    ['autocomplete amazon', 'autocomplete walmart']\n",
    ")].search_term"
   ]
  },
  {
   "cell_type": "code",
   "execution_count": 11,
   "metadata": {},
   "outputs": [
    {
     "data": {
      "text/plain": [
       "11342"
      ]
     },
     "execution_count": 11,
     "metadata": {},
     "output_type": "execute_result"
    }
   ],
   "source": [
    "top_searches = set(kw_autocomplete.tolist() + kw_seller.tolist())\n",
    "len(top_searches)"
   ]
  },
  {
   "cell_type": "code",
   "execution_count": 12,
   "metadata": {},
   "outputs": [
    {
     "data": {
      "text/plain": [
       "(187534, 3492)"
      ]
     },
     "execution_count": 12,
     "metadata": {},
     "output_type": "execute_result"
    }
   ],
   "source": [
    "df_top = _df_search[\n",
    "    _df_search.search_term.isin(top_searches)\n",
    "]\n",
    "len(df_top), df_top.search_term.nunique()"
   ]
  },
  {
   "cell_type": "code",
   "execution_count": 13,
   "metadata": {},
   "outputs": [
    {
     "data": {
      "text/plain": [
       "0.30788220772350555"
      ]
     },
     "execution_count": 13,
     "metadata": {},
     "output_type": "execute_result"
    }
   ],
   "source": [
    "# how many searches had Amazon?\n",
    "df_top.search_term.nunique() / len(top_searches)"
   ]
  },
  {
   "cell_type": "code",
   "execution_count": 14,
   "metadata": {},
   "outputs": [
    {
     "data": {
      "text/plain": [
       "125769"
      ]
     },
     "execution_count": 14,
     "metadata": {},
     "output_type": "execute_result"
    }
   ],
   "source": [
    "# how many products?\n",
    "df_top.asin.nunique()"
   ]
  },
  {
   "cell_type": "code",
   "execution_count": 15,
   "metadata": {},
   "outputs": [
    {
     "data": {
      "text/plain": [
       "3492"
      ]
     },
     "execution_count": 15,
     "metadata": {},
     "output_type": "execute_result"
    }
   ],
   "source": [
    "# this is our main dataset\n",
    "df = df_top\n",
    "df.search_term.nunique()"
   ]
  },
  {
   "cell_type": "code",
   "execution_count": 16,
   "metadata": {},
   "outputs": [
    {
     "data": {
      "text/plain": [
       "(69287, 1217)"
      ]
     },
     "execution_count": 16,
     "metadata": {},
     "output_type": "execute_result"
    }
   ],
   "source": [
    "# this is the supplementary dataset\n",
    "df_generic = _df_search[\n",
    "   _df_search.search_term.isin(kw_generic)\n",
    "]\n",
    "len(df_generic), df_generic.search_term.nunique()"
   ]
  },
  {
   "cell_type": "markdown",
   "metadata": {},
   "source": [
    "## Produce plots"
   ]
  },
  {
   "cell_type": "markdown",
   "metadata": {},
   "source": [
    "Our analysis centered around comparing these two metrics:"
   ]
  },
  {
   "cell_type": "markdown",
   "metadata": {},
   "source": [
    "\\begin{align}\n",
    "{\\# 1\\ spot}_{Amazon} = \\frac{N_{Amazon\\ \\#1\\ slots}}{N_{\\#1\\ slots}}\n",
    "\\end{align}"
   ]
  },
  {
   "cell_type": "markdown",
   "metadata": {},
   "source": [
    "\\begin{align}\n",
    "products_{Amazon} = \\frac{N_{Amazon\\ product\\ slots}}{N_{product\\ slots}}\n",
    "\\end{align}"
   ]
  },
  {
   "cell_type": "code",
   "execution_count": 18,
   "metadata": {},
   "outputs": [
    {
     "data": {
      "text/html": [
       "<div>\n",
       "<style scoped>\n",
       "    .dataframe tbody tr th:only-of-type {\n",
       "        vertical-align: middle;\n",
       "    }\n",
       "\n",
       "    .dataframe tbody tr th {\n",
       "        vertical-align: top;\n",
       "    }\n",
       "\n",
       "    .dataframe thead th {\n",
       "        text-align: right;\n",
       "    }\n",
       "</style>\n",
       "<table border=\"1\" class=\"dataframe\">\n",
       "  <thead>\n",
       "    <tr style=\"text-align: right;\">\n",
       "      <th></th>\n",
       "      <th>Category</th>\n",
       "      <th>Perc Products</th>\n",
       "      <th>Perc #1 spot</th>\n",
       "      <th>Perc first row</th>\n",
       "    </tr>\n",
       "  </thead>\n",
       "  <tbody>\n",
       "    <tr>\n",
       "      <th>0</th>\n",
       "      <td>Unaffiliated</td>\n",
       "      <td>5.808547</td>\n",
       "      <td>4.209622</td>\n",
       "      <td>13.917526</td>\n",
       "    </tr>\n",
       "    <tr>\n",
       "      <th>1</th>\n",
       "      <td>Amazon brands</td>\n",
       "      <td>5.801081</td>\n",
       "      <td>19.530355</td>\n",
       "      <td>24.770905</td>\n",
       "    </tr>\n",
       "    <tr>\n",
       "      <th>2</th>\n",
       "      <td>Competing brands</td>\n",
       "      <td>76.880992</td>\n",
       "      <td>20.819015</td>\n",
       "      <td>63.516609</td>\n",
       "    </tr>\n",
       "    <tr>\n",
       "      <th>3</th>\n",
       "      <td>Sponsored</td>\n",
       "      <td>17.317926</td>\n",
       "      <td>59.650630</td>\n",
       "      <td>75.286369</td>\n",
       "    </tr>\n",
       "    <tr>\n",
       "      <th>4</th>\n",
       "      <td>Amazon sold</td>\n",
       "      <td>27.093220</td>\n",
       "      <td>22.451317</td>\n",
       "      <td>47.079038</td>\n",
       "    </tr>\n",
       "    <tr>\n",
       "      <th>5</th>\n",
       "      <td>Third-party sold</td>\n",
       "      <td>55.588853</td>\n",
       "      <td>17.898053</td>\n",
       "      <td>48.224513</td>\n",
       "    </tr>\n",
       "    <tr>\n",
       "      <th>6</th>\n",
       "      <td>Amazon shipped</td>\n",
       "      <td>76.890591</td>\n",
       "      <td>38.459336</td>\n",
       "      <td>72.565865</td>\n",
       "    </tr>\n",
       "  </tbody>\n",
       "</table>\n",
       "</div>"
      ],
      "text/plain": [
       "           Category  Perc Products  Perc #1 spot  Perc first row\n",
       "0      Unaffiliated       5.808547      4.209622       13.917526\n",
       "1     Amazon brands       5.801081     19.530355       24.770905\n",
       "2  Competing brands      76.880992     20.819015       63.516609\n",
       "3         Sponsored      17.317926     59.650630       75.286369\n",
       "4       Amazon sold      27.093220     22.451317       47.079038\n",
       "5  Third-party sold      55.588853     17.898053       48.224513\n",
       "6    Amazon shipped      76.890591     38.459336       72.565865"
      ]
     },
     "execution_count": 18,
     "metadata": {},
     "output_type": "execute_result"
    }
   ],
   "source": [
    "res = calculate_table(df, amazon_asin)\n",
    "res"
   ]
  },
  {
   "cell_type": "code",
   "execution_count": 19,
   "metadata": {},
   "outputs": [],
   "source": [
    "cat2color = {\n",
    "    'Amazon brands' : \"#ff9900\",\n",
    "    'Competing brands' : \"#146eb4\",\n",
    "    'Sponsored': '#DB4437',\n",
    "    'Organic': '#ee7e6c',\n",
    "    'Amazon sold': '#146eb4',\n",
    "    'Third-party sold': '#aabedf',\n",
    "    'Unaffiliated': 'black',\n",
    "}\n",
    "\n",
    "mkr_dict = {\n",
    "    'Unaffiliated': {\n",
    "        'marker' : 'v',\n",
    "        'color': ''\n",
    "    },\n",
    "    'Competing brands': {\n",
    "        'marker' : 'o',\n",
    "        'color' : ''\n",
    "    }, \n",
    "    'Amazon sold' : {\n",
    "        'marker': '+',\n",
    "        'color' : ''\n",
    "    },\n",
    "    'Third-party sold': {\n",
    "        'marker': '+',\n",
    "        'color' : ''\n",
    "    },\n",
    "    'Amazon brands': {\n",
    "        'marker': 'o',\n",
    "        'color' : ''\n",
    "    },\n",
    "    'Sponsored' : {\n",
    "        'marker' : '*',\n",
    "        'color' : ''\n",
    "    },\n",
    "}"
   ]
  },
  {
   "cell_type": "code",
   "execution_count": 20,
   "metadata": {},
   "outputs": [
    {
     "data": {
      "image/png": "[encoded data removed]",
      "text/plain": [
       "<Figure size 576x432 with 1 Axes>"
      ]
     },
     "metadata": {
      "needs_background": "light"
     },
     "output_type": "display_data"
    }
   ],
   "source": [
    "cats = [\n",
    "    'Sponsored',\n",
    "    'Amazon brands', \n",
    "    'Competing brands',\n",
    "    'Unaffiliated'\n",
    "]\n",
    "plt.figure(figsize=(8, 6))\n",
    "plt.title(\"What kind of products get the top search result on Amazon?\")\n",
    "ax = plt.gca()\n",
    "\n",
    "to_plot = res[res.Category.isin(cats)]\n",
    "to_plot.to_csv(fig2_csv)\n",
    "\n",
    "# Hide the right and top spines\n",
    "ax.spines['right'].set_visible(False)\n",
    "ax.spines['top'].set_visible(False)\n",
    "\n",
    "# Only show ticks on the left and bottom spines\n",
    "ax.yaxis.set_ticks_position('left')\n",
    "ax.xaxis.set_ticks_position('bottom')\n",
    "\n",
    "ax.set_ylabel('Percentage of top spots')\n",
    "ax.set_xlabel('Percentage of products')\n",
    "\n",
    "ax.set_ylim(0, 75)\n",
    "ax.set_xlim(0, 80) \n",
    "ax.yaxis.get_major_ticks()[0].label1.set_visible(False)\n",
    "\n",
    "for kind in cats:\n",
    "    d = to_plot[to_plot.Category==kind]\n",
    "    if kind in ['Unaffiliated']:\n",
    "        ax.annotate(kind.title(), (d['Perc Products'] + 1.5,\n",
    "                       d['Perc #1 spot'] - 1.5))\n",
    "    elif kind == 'Competing brands':\n",
    "        ax.annotate(kind.title(), (d['Perc Products'] - 17.5,\n",
    "                       d['Perc #1 spot'] - 2))\n",
    "    else:\n",
    "        ax.annotate(kind.title(), (d['Perc Products'] + 1.6,\n",
    "                           d['Perc #1 spot']))\n",
    "    for j in range(1,6):\n",
    "        plt.scatter(x=d['Perc Products'],\n",
    "                    y=d['Perc #1 spot'],\n",
    "                    c=cat2color[kind],\n",
    "                    s=55,\n",
    "                    alpha=.2 * j,\n",
    "                    label=kind,\n",
    "                    marker = mkr_dict[kind]['marker'])\n",
    "\n",
    "            \n",
    "ax.plot([0, 100], [0, 100],  '--', alpha=.4, color='grey')\n",
    "ax.annotate(\"overrepresented\", \n",
    "            (52, 55), rotation=38)\n",
    "ax.annotate(\"underrepresented\", \n",
    "            (54.5, 51), rotation=38)\n",
    "\n",
    "plt.savefig(fig2);"
   ]
  },
  {
   "cell_type": "markdown",
   "metadata": {},
   "source": [
    "## Heatmap"
   ]
  },
  {
   "cell_type": "code",
   "execution_count": 21,
   "metadata": {},
   "outputs": [],
   "source": [
    "def heatmap(df, control, cmap, title, vmin=0, vmax=100, fn_out=None):\n",
    "    \"\"\"Produces a heatmap of product slots\"\"\"\n",
    "    amzn_label = (df\n",
    "        .product_order.value_counts()\n",
    "        .sort_index()\n",
    "        .reindex(pd.RangeIndex(1, 61))[::-1])\n",
    "    amzn_label = amzn_label / control * 100\n",
    "    if fn_out:\n",
    "        amzn_label.to_csv(fn_out)\n",
    "        \n",
    "    amzn_label_grid = amzn_label.iloc[::-1].values.reshape(15, 4)\n",
    "    amzn_label_grid = pd.DataFrame(amzn_label_grid)\n",
    "    amzn_label_grid.index = [_ + 1 for _ in amzn_label_grid.index]\n",
    "    amzn_label_grid.columns = [_ + 1 for _ in amzn_label_grid.columns]\n",
    "\n",
    "    fig = plt.figure(figsize=(6,12))\n",
    "    sns.heatmap(amzn_label_grid,\n",
    "                linewidths=4,\n",
    "                fmt='g',\n",
    "                cmap=cmap,\n",
    "                vmin=vmax,\n",
    "                vmax=vmin)\n",
    "    plt.title(title)\n",
    "    plt.ylabel(\"⟵ Rows of products going down the page\")\n",
    "    plt.xlabel(\"Columns of products across the page\")\n",
    "    plt.yticks(rotation=0)\n",
    "    \n",
    "    return fig"
   ]
  },
  {
   "cell_type": "code",
   "execution_count": 22,
   "metadata": {},
   "outputs": [],
   "source": [
    "n_samples = df.search_term.nunique()"
   ]
  },
  {
   "cell_type": "code",
   "execution_count": 23,
   "metadata": {},
   "outputs": [],
   "source": [
    "df_s = df[df.is_sponsored == True]\n",
    "df_ns = df[df.is_sponsored == False]\n",
    "\n",
    "df_non_amazon = df_ns[(~df_ns.asin.isin(amazon_asin))]\n",
    "df_amazon_brand_ = df_ns[df_ns.asin.isin(amazon_asin)]\n",
    "\n",
    "\n",
    "df_non_amazon_ = df_ns[\n",
    "    (~df_ns.asin.isin(amazon_asin))\n",
    "  & (df_ns.is_sold_by_amazon != True)\n",
    "  & (df_ns.is_shipped_by_amazon != True)\n",
    "  & (df_ns.is_prime != True) \n",
    "  & (df_ns.is_fresh != True)\n",
    "]"
   ]
  },
  {
   "cell_type": "code",
   "execution_count": 24,
   "metadata": {},
   "outputs": [],
   "source": [
    "control = (df.product_order.value_counts()\n",
    "    .sort_index()\n",
    "    .reindex(pd.RangeIndex(1, 61))[::-1])"
   ]
  },
  {
   "cell_type": "code",
   "execution_count": 25,
   "metadata": {},
   "outputs": [
    {
     "data": {
      "image/png": "[encoded data removed]",
      "text/plain": [
       "<Figure size 432x864 with 2 Axes>"
      ]
     },
     "metadata": {
      "needs_background": "light"
     },
     "output_type": "display_data"
    }
   ],
   "source": [
    "cmap = LinearSegmentedColormap.from_list(\n",
    "    'mycmap', ['#f9f9f9', \"#ff9900\"]\n",
    ")\n",
    "fig = heatmap(\n",
    "    df_amazon_brand_, control,\n",
    "    cmap = LinearSegmentedColormap.from_list(None, ['#f9f9f9', \"#ff9900\"]),\n",
    "    title=f\"Where are Amazon Brands Placed\\nDown and Across the Search Page? (N={n_samples:,})\",\n",
    "    vmax=20, vmin=2, fn_out=fig3a_csv\n",
    ")\n",
    "fig.savefig(fig3a);"
   ]
  },
  {
   "cell_type": "code",
   "execution_count": 26,
   "metadata": {},
   "outputs": [
    {
     "data": {
      "image/png": "[encoded data removed]",
      "text/plain": [
       "<Figure size 432x864 with 2 Axes>"
      ]
     },
     "metadata": {
      "needs_background": "light"
     },
     "output_type": "display_data"
    }
   ],
   "source": [
    "fig = heatmap(\n",
    "    df_non_amazon, control,\n",
    "    cmap = LinearSegmentedColormap.from_list(None, ['#f9f9f9', 'black']),\n",
    "    title=f\"Where are Competing Brands Placed\\nDown and Across the Search Page? (N={n_samples:,})\",\n",
    ")"
   ]
  },
  {
   "cell_type": "code",
   "execution_count": 27,
   "metadata": {},
   "outputs": [
    {
     "data": {
      "image/png": "[encoded data removed]",
      "text/plain": [
       "<Figure size 432x864 with 2 Axes>"
      ]
     },
     "metadata": {
      "needs_background": "light"
     },
     "output_type": "display_data"
    }
   ],
   "source": [
    "fig = heatmap(\n",
    "    df_non_amazon_, control,\n",
    "    cmap = LinearSegmentedColormap.from_list(None, ['#f9f9f9', 'black']),\n",
    "    title=f\"Where are Entirely Unafilliated Products Placed\\nDown and Across the Search Page? (N={n_samples:,})\",\n",
    "    vmin=2, vmax=20, fn_out=fig3b_csv\n",
    ")\n",
    "fig.savefig(fig3b)"
   ]
  },
  {
   "cell_type": "code",
   "execution_count": 28,
   "metadata": {},
   "outputs": [
    {
     "data": {
      "image/png": "[encoded data removed]",
      "text/plain": [
       "<Figure size 432x864 with 2 Axes>"
      ]
     },
     "metadata": {
      "needs_background": "light"
     },
     "output_type": "display_data"
    }
   ],
   "source": [
    "fig = heatmap(\n",
    "    df_s, control, \n",
    "    cmap=LinearSegmentedColormap.from_list(None, ['#f9f9f9', '#DB4437']),\n",
    "    title=f\"Where are Sponsored Products Placed\\nDown and Across the Search Page? (N={n_samples:,})\",\n",
    "    fn_out=fig3c_csv\n",
    ")\n",
    "fig.savefig(fig3c)"
   ]
  },
  {
   "cell_type": "markdown",
   "metadata": {},
   "source": [
    "## Not Clearly Labelled"
   ]
  },
  {
   "cell_type": "code",
   "execution_count": 29,
   "metadata": {},
   "outputs": [
    {
     "data": {
      "text/plain": [
       "0.26088429612061664"
      ]
     },
     "execution_count": 29,
     "metadata": {},
     "output_type": "execute_result"
    }
   ],
   "source": [
    "# How many asins are Featured from our brands\n",
    "(df[df.is_featured_brand == True].asin.nunique() / \n",
    "df[df.asin.isin(amazon_asin)].asin.nunique())"
   ]
  },
  {
   "cell_type": "code",
   "execution_count": 30,
   "metadata": {},
   "outputs": [
    {
     "data": {
      "text/plain": [
       "0.1962855382448728"
      ]
     },
     "execution_count": 30,
     "metadata": {},
     "output_type": "execute_result"
    }
   ],
   "source": [
    "# How many asins are Featured from our brands\n",
    "(len(df[df.is_featured_brand == True]) / \n",
    "len(df[df.asin.isin(amazon_asin)]))"
   ]
  },
  {
   "cell_type": "code",
   "execution_count": 31,
   "metadata": {},
   "outputs": [],
   "source": [
    "amazon_missed_all = '|'.join([\n",
    "    'amazon basics',\n",
    "    'amazon essentials',\n",
    "    'whole foods market',\n",
    "    'amazon commercial',\n",
    "    'amazon collection',\n",
    "    'amazon fresh',\n",
    "    'amazon elements',\n",
    "    'amazonbasics'\n",
    "    '365 everyday value',\n",
    "    'amazon exclusive',\n",
    "    'amazon us exclusive',\n",
    "    'amazon brand'\n",
    "])\n",
    "\n",
    "amazon_missed = '|'.join([\n",
    "    'amazon basics',\n",
    "    'amazon essentials',\n",
    "    'whole foods market',\n",
    "    'amazon commercial',\n",
    "    'amazon collection',\n",
    "    'amazon fresh',\n",
    "    'amazon elements',\n",
    "    'amazonbasics'\n",
    "    '365 everyday value',\n",
    "])\n",
    "\n",
    "amazon_disclaimer = '|'.join([\n",
    "    'amazon exclusive',\n",
    "    'amazon us exclusive',\n",
    "    'amazon brand'\n",
    "])"
   ]
  },
  {
   "cell_type": "code",
   "execution_count": 32,
   "metadata": {},
   "outputs": [
    {
     "data": {
      "text/plain": [
       "0.4204641707606302"
      ]
     },
     "execution_count": 32,
     "metadata": {},
     "output_type": "execute_result"
    }
   ],
   "source": [
    "# How many products contain a disclaimer\n",
    "disclaimer = (df[\n",
    "  ((df.is_featured_brand) | \n",
    "   (df.product_name.str.contains(amazon_disclaimer, case=False))) &\n",
    "  (df.asin.isin(amazon_asin))\n",
    "].asin.nunique() / \n",
    "df[df.asin.isin(amazon_asin)].asin.nunique())\n",
    "\n",
    "disclaimer"
   ]
  },
  {
   "cell_type": "code",
   "execution_count": 33,
   "metadata": {},
   "outputs": [
    {
     "data": {
      "text/plain": [
       "0.2475012705404032"
      ]
     },
     "execution_count": 33,
     "metadata": {},
     "output_type": "execute_result"
    }
   ],
   "source": [
    "# how many items contain a name with known brand\n",
    "known_brand = (df[\n",
    "  (df.product_name.str.contains(amazon_missed, case=False)) &\n",
    "  (df.asin.isin(amazon_asin))\n",
    "].asin.nunique() / \n",
    "df[df.asin.isin(amazon_asin)].asin.nunique())\n",
    "\n",
    "known_brand"
   ]
  },
  {
   "cell_type": "code",
   "execution_count": 34,
   "metadata": {},
   "outputs": [
    {
     "data": {
      "text/plain": [
       "0.4089446044384212"
      ]
     },
     "execution_count": 34,
     "metadata": {},
     "output_type": "execute_result"
    }
   ],
   "source": [
    "# How many do not contain a disclaimer or well known brand?\n",
    "not_labelled = 1- (df[\n",
    "  ((df.product_name.str.contains(amazon_missed_all, case=False)) | \n",
    "   (df.is_featured_brand)) &\n",
    "  (df.asin.isin(amazon_asin))\n",
    "].asin.nunique() / \n",
    "df[df.asin.isin(amazon_asin)].asin.nunique())\n",
    "\n",
    "not_labelled"
   ]
  },
  {
   "cell_type": "code",
   "execution_count": 35,
   "metadata": {},
   "outputs": [
    {
     "data": {
      "text/html": [
       "<div>\n",
       "<style scoped>\n",
       "    .dataframe tbody tr th:only-of-type {\n",
       "        vertical-align: middle;\n",
       "    }\n",
       "\n",
       "    .dataframe tbody tr th {\n",
       "        vertical-align: top;\n",
       "    }\n",
       "\n",
       "    .dataframe thead th {\n",
       "        text-align: right;\n",
       "    }\n",
       "</style>\n",
       "<table border=\"1\" class=\"dataframe\">\n",
       "  <thead>\n",
       "    <tr style=\"text-align: right;\">\n",
       "      <th></th>\n",
       "      <th></th>\n",
       "      <th>percentage</th>\n",
       "    </tr>\n",
       "  </thead>\n",
       "  <tbody>\n",
       "    <tr>\n",
       "      <th>0</th>\n",
       "      <td>Labelled with a Disclaimer</td>\n",
       "      <td>0.420464</td>\n",
       "    </tr>\n",
       "    <tr>\n",
       "      <th>1</th>\n",
       "      <td>Well-Known Amazon private label</td>\n",
       "      <td>0.247501</td>\n",
       "    </tr>\n",
       "    <tr>\n",
       "      <th>2</th>\n",
       "      <td>Total Labelled</td>\n",
       "      <td>0.591055</td>\n",
       "    </tr>\n",
       "    <tr>\n",
       "      <th>3</th>\n",
       "      <td>Total Unlabelled</td>\n",
       "      <td>0.408945</td>\n",
       "    </tr>\n",
       "  </tbody>\n",
       "</table>\n",
       "</div>"
      ],
      "text/plain": [
       "                                    percentage\n",
       "0       Labelled with a Disclaimer    0.420464\n",
       "1  Well-Known Amazon private label    0.247501\n",
       "2                   Total Labelled    0.591055\n",
       "3                 Total Unlabelled    0.408945"
      ]
     },
     "execution_count": 35,
     "metadata": {},
     "output_type": "execute_result"
    }
   ],
   "source": [
    "t1 = pd.DataFrame([\n",
    "    {\"\" : \"Labelled with a Disclaimer\", \"percentage\": disclaimer},\n",
    "    {\"\" : \"Well-Known Amazon private label\", \"percentage\": known_brand},\n",
    "    {\"\" : \"Total Labelled\", \"percentage\": 1-not_labelled},\n",
    "    {\"\" : \"Total Unlabelled\", \"percentage\": not_labelled},\n",
    "])\n",
    "t1.to_csv(table1, index=False)\n",
    "t1"
   ]
  },
  {
   "cell_type": "code",
   "execution_count": 36,
   "metadata": {},
   "outputs": [
    {
     "data": {
      "text/plain": [
       "0.8387978142076503"
      ]
     },
     "execution_count": 36,
     "metadata": {},
     "output_type": "execute_result"
    }
   ],
   "source": [
    "# perc of top amazon products with a \"featured from our brands\" tag\n",
    "(df[\n",
    "    (df.is_featured_brand) &\n",
    "    (df.asin.isin(amazon_asin)) &\n",
    "    (df.product_order == 1)\n",
    "].search_term.nunique()) / df[(df.asin.isin(amazon_asin)) & (df.product_order == 1)].search_term.nunique()"
   ]
  },
  {
   "cell_type": "markdown",
   "metadata": {},
   "source": [
    "## More Stars and reviews?"
   ]
  },
  {
   "cell_type": "code",
   "execution_count": 37,
   "metadata": {},
   "outputs": [],
   "source": [
    "if not os.path.exists(fn_compare):   \n",
    "    data = []\n",
    "    for st, _df in tqdm(df[df.is_sponsored == False].groupby(\"search_term\")):\n",
    "        _df.sort_values(by='product_order')\n",
    "        amzn = _df[_df.asin.isin(amazon_asin)]\n",
    "        non_amzn = _df[~_df.asin.isin(amazon_asin)]\n",
    "        wnon_amzn =_df[\n",
    "            (~_df.asin.isin(amazon_asin)) &\n",
    "            (_df.is_sold_by_amazon == False) &\n",
    "            (_df.is_fresh == False) &\n",
    "            (_df.is_prime == False)\n",
    "        ]\n",
    "\n",
    "        if not amzn.empty:\n",
    "            top_amazon =  amzn.product_order.iloc[0]\n",
    "            amazon_star = amzn.stars.iloc[0]\n",
    "            amazon_review = amzn.reviews.iloc[0]\n",
    "        else:\n",
    "            top_amazon = np.nan\n",
    "            amazon_star = np.nan\n",
    "            amazon_review = np.nan\n",
    "\n",
    "        if not non_amzn.empty:    \n",
    "            top_non_amazon_brand = non_amzn.product_order.iloc[0]\n",
    "            non_amazon_star = non_amzn.stars.iloc[0]\n",
    "            non_amazon_review = non_amzn.reviews.iloc[0]\n",
    "        else:\n",
    "            top_non_amazon = np.nan\n",
    "            non_amazon_star = np.nan\n",
    "            non_amazon_review = np.nan\n",
    "\n",
    "        if not wnon_amzn.empty:\n",
    "            top_wnon_amazon = wnon_amzn.product_order.iloc[0]\n",
    "            wnon_amazon_star = wnon_amzn.stars.iloc[0]\n",
    "            wnon_amazon_review = wnon_amzn.reviews.iloc[0]\n",
    "\n",
    "        else:\n",
    "            top_wnon_amazon = np.nan\n",
    "            wnon_amazon_star = np.nan\n",
    "            wnon_amazon_review = np.nan\n",
    "        record = {\n",
    "            \"search_term\": st,\n",
    "            \"position_first_amazon\": top_amazon,\n",
    "            \"position_first_non_amazon\": top_non_amazon_brand,\n",
    "            \"position_first_wholly_non_amazon\": top_wnon_amazon,\n",
    "\n",
    "            \"amazon_stars\": amazon_star,\n",
    "            \"amazon_reviews\": amazon_review,\n",
    "\n",
    "            \"non_amazon_stars\": non_amazon_star,\n",
    "            \"non_amazon_reviews\": non_amazon_review,\n",
    "\n",
    "            \"wnon_amazon_stars\": wnon_amazon_star,\n",
    "            \"wnon_amazon_reviews\": wnon_amazon_review,\n",
    "        }\n",
    "        data.append(record)\n",
    "    df_compare = pd.DataFrame(data)\n",
    "    df_compare.to_csv(fn_compare, index=False)\n",
    "    \n",
    "else:\n",
    "    df_compare = pd.read_csv(fn_compare)"
   ]
  },
  {
   "cell_type": "code",
   "execution_count": 38,
   "metadata": {},
   "outputs": [
    {
     "data": {
      "text/plain": [
       "0.22880870561282932"
      ]
     },
     "execution_count": 38,
     "metadata": {},
     "output_type": "execute_result"
    }
   ],
   "source": [
    "len(df_compare[df_compare.position_first_amazon < df_compare.position_first_non_amazon]) / len(df_compare)"
   ]
  },
  {
   "cell_type": "code",
   "execution_count": 39,
   "metadata": {},
   "outputs": [
    {
     "data": {
      "text/plain": [
       "False    0.653317\n",
       "True     0.346683\n",
       "dtype: float64"
      ]
     },
     "execution_count": 39,
     "metadata": {},
     "output_type": "execute_result"
    }
   ],
   "source": [
    "# how many Amazon products have more stars?\n",
    "df_compare[\n",
    "    df_compare.position_first_amazon < df_compare.position_first_non_amazon\n",
    "].apply(\n",
    "    lambda x:\n",
    "    x['amazon_stars'] > x['non_amazon_stars'],\n",
    "    axis=1\n",
    ").value_counts(normalize=True)"
   ]
  },
  {
   "cell_type": "code",
   "execution_count": 40,
   "metadata": {},
   "outputs": [
    {
     "data": {
      "text/plain": [
       "False    0.517241\n",
       "True     0.482759\n",
       "dtype: float64"
      ]
     },
     "execution_count": 40,
     "metadata": {},
     "output_type": "execute_result"
    }
   ],
   "source": [
    "# how many Amazon products have more reivews?\n",
    "df_compare[\n",
    "    (df_compare.position_first_amazon < df_compare.position_first_non_amazon) &\n",
    "    (~df_compare.non_amazon_reviews.isnull())\n",
    "].apply(\n",
    "    lambda x:\n",
    "    x['amazon_reviews'] > x['non_amazon_reviews'],\n",
    "    axis=1\n",
    ").value_counts(normalize=True)"
   ]
  },
  {
   "cell_type": "code",
   "execution_count": 41,
   "metadata": {},
   "outputs": [
    {
     "data": {
      "text/plain": [
       "False    0.720307\n",
       "True     0.279693\n",
       "dtype: float64"
      ]
     },
     "execution_count": 41,
     "metadata": {},
     "output_type": "execute_result"
    }
   ],
   "source": [
    "# how many Amazon products have more reivews and stars?\n",
    "df_compare[\n",
    "    (df_compare.position_first_amazon < df_compare.position_first_non_amazon) &\n",
    "    (~df_compare.non_amazon_reviews.isnull())\n",
    "].apply(\n",
    "    lambda x:\n",
    "    (x['amazon_reviews'] < x['non_amazon_reviews']) and \n",
    "    (x['amazon_stars'] < x['non_amazon_stars']),\n",
    "    axis=1\n",
    ").value_counts(normalize=True)"
   ]
  },
  {
   "cell_type": "code",
   "execution_count": 42,
   "metadata": {},
   "outputs": [],
   "source": [
    "# duplicates\n",
    "asins_by_search = df[df.is_sponsored == False].groupby('search_term').asin.value_counts()"
   ]
  },
  {
   "cell_type": "code",
   "execution_count": 43,
   "metadata": {},
   "outputs": [
    {
     "data": {
      "text/plain": [
       "0.09221076746849943"
      ]
     },
     "execution_count": 43,
     "metadata": {},
     "output_type": "execute_result"
    }
   ],
   "source": [
    "# perc_searches_dupluicate_asin\n",
    "asins_by_search[asins_by_search > 1].index.get_level_values(0).nunique() / df.search_term.nunique()"
   ]
  },
  {
   "cell_type": "code",
   "execution_count": 44,
   "metadata": {},
   "outputs": [
    {
     "data": {
      "text/plain": [
       "1.0"
      ]
     },
     "execution_count": 44,
     "metadata": {},
     "output_type": "execute_result"
    }
   ],
   "source": [
    "# how many of these duplicates are Amazon products?\n",
    "duplicate_asin = asins_by_search[asins_by_search > 1].index.get_level_values(1)\n",
    "len([_ for _ in duplicate_asin if _ in amazon_asin]) / len(duplicate_asin)"
   ]
  },
  {
   "cell_type": "markdown",
   "metadata": {},
   "source": [
    "## Supplementary dataset"
   ]
  },
  {
   "cell_type": "code",
   "execution_count": 45,
   "metadata": {},
   "outputs": [
    {
     "data": {
      "text/plain": [
       "1217"
      ]
     },
     "execution_count": 45,
     "metadata": {},
     "output_type": "execute_result"
    }
   ],
   "source": [
    "df_generic.search_term.nunique()"
   ]
  },
  {
   "cell_type": "code",
   "execution_count": 46,
   "metadata": {},
   "outputs": [
    {
     "data": {
      "text/html": [
       "<div>\n",
       "<style scoped>\n",
       "    .dataframe tbody tr th:only-of-type {\n",
       "        vertical-align: middle;\n",
       "    }\n",
       "\n",
       "    .dataframe tbody tr th {\n",
       "        vertical-align: top;\n",
       "    }\n",
       "\n",
       "    .dataframe thead th {\n",
       "        text-align: right;\n",
       "    }\n",
       "</style>\n",
       "<table border=\"1\" class=\"dataframe\">\n",
       "  <thead>\n",
       "    <tr style=\"text-align: right;\">\n",
       "      <th></th>\n",
       "      <th>Category</th>\n",
       "      <th>Perc Products</th>\n",
       "      <th>Perc #1 spot</th>\n",
       "      <th>Perc first row</th>\n",
       "    </tr>\n",
       "  </thead>\n",
       "  <tbody>\n",
       "    <tr>\n",
       "      <th>0</th>\n",
       "      <td>Unaffiliated</td>\n",
       "      <td>2.987573</td>\n",
       "      <td>1.479047</td>\n",
       "      <td>7.723911</td>\n",
       "    </tr>\n",
       "    <tr>\n",
       "      <th>1</th>\n",
       "      <td>Amazon brands</td>\n",
       "      <td>8.225208</td>\n",
       "      <td>24.897288</td>\n",
       "      <td>35.332786</td>\n",
       "    </tr>\n",
       "    <tr>\n",
       "      <th>2</th>\n",
       "      <td>Competing brands</td>\n",
       "      <td>73.530388</td>\n",
       "      <td>10.764174</td>\n",
       "      <td>54.478225</td>\n",
       "    </tr>\n",
       "    <tr>\n",
       "      <th>3</th>\n",
       "      <td>Sponsored</td>\n",
       "      <td>18.244404</td>\n",
       "      <td>64.338537</td>\n",
       "      <td>84.223500</td>\n",
       "    </tr>\n",
       "    <tr>\n",
       "      <th>4</th>\n",
       "      <td>Amazon sold</td>\n",
       "      <td>26.494148</td>\n",
       "      <td>23.336072</td>\n",
       "      <td>46.507806</td>\n",
       "    </tr>\n",
       "    <tr>\n",
       "      <th>5</th>\n",
       "      <td>Third-party sold</td>\n",
       "      <td>55.261449</td>\n",
       "      <td>12.325390</td>\n",
       "      <td>46.918652</td>\n",
       "    </tr>\n",
       "    <tr>\n",
       "      <th>6</th>\n",
       "      <td>Amazon shipped</td>\n",
       "      <td>78.762250</td>\n",
       "      <td>34.921939</td>\n",
       "      <td>70.172555</td>\n",
       "    </tr>\n",
       "  </tbody>\n",
       "</table>\n",
       "</div>"
      ],
      "text/plain": [
       "           Category  Perc Products  Perc #1 spot  Perc first row\n",
       "0      Unaffiliated       2.987573      1.479047        7.723911\n",
       "1     Amazon brands       8.225208     24.897288       35.332786\n",
       "2  Competing brands      73.530388     10.764174       54.478225\n",
       "3         Sponsored      18.244404     64.338537       84.223500\n",
       "4       Amazon sold      26.494148     23.336072       46.507806\n",
       "5  Third-party sold      55.261449     12.325390       46.918652\n",
       "6    Amazon shipped      78.762250     34.921939       70.172555"
      ]
     },
     "execution_count": 46,
     "metadata": {},
     "output_type": "execute_result"
    }
   ],
   "source": [
    "table_generic = calculate_table(df_generic, amazon_asin)\n",
    "table_generic"
   ]
  },
  {
   "cell_type": "code",
   "execution_count": 47,
   "metadata": {},
   "outputs": [
    {
     "data": {
      "text/html": [
       "<div>\n",
       "<style scoped>\n",
       "    .dataframe tbody tr th:only-of-type {\n",
       "        vertical-align: middle;\n",
       "    }\n",
       "\n",
       "    .dataframe tbody tr th {\n",
       "        vertical-align: top;\n",
       "    }\n",
       "\n",
       "    .dataframe thead th {\n",
       "        text-align: right;\n",
       "    }\n",
       "</style>\n",
       "<table border=\"1\" class=\"dataframe\">\n",
       "  <thead>\n",
       "    <tr style=\"text-align: right;\">\n",
       "      <th></th>\n",
       "      <th>Category</th>\n",
       "      <th>Perc Products</th>\n",
       "      <th>Perc #1 spot</th>\n",
       "      <th>Perc first row</th>\n",
       "    </tr>\n",
       "  </thead>\n",
       "  <tbody>\n",
       "    <tr>\n",
       "      <th>0</th>\n",
       "      <td>Unaffiliated</td>\n",
       "      <td>5.808547</td>\n",
       "      <td>4.209622</td>\n",
       "      <td>13.917526</td>\n",
       "    </tr>\n",
       "    <tr>\n",
       "      <th>1</th>\n",
       "      <td>Amazon brands</td>\n",
       "      <td>5.801081</td>\n",
       "      <td>19.530355</td>\n",
       "      <td>24.770905</td>\n",
       "    </tr>\n",
       "    <tr>\n",
       "      <th>2</th>\n",
       "      <td>Competing brands</td>\n",
       "      <td>76.880992</td>\n",
       "      <td>20.819015</td>\n",
       "      <td>63.516609</td>\n",
       "    </tr>\n",
       "    <tr>\n",
       "      <th>3</th>\n",
       "      <td>Sponsored</td>\n",
       "      <td>17.317926</td>\n",
       "      <td>59.650630</td>\n",
       "      <td>75.286369</td>\n",
       "    </tr>\n",
       "    <tr>\n",
       "      <th>4</th>\n",
       "      <td>Amazon sold</td>\n",
       "      <td>27.093220</td>\n",
       "      <td>22.451317</td>\n",
       "      <td>47.079038</td>\n",
       "    </tr>\n",
       "    <tr>\n",
       "      <th>5</th>\n",
       "      <td>Third-party sold</td>\n",
       "      <td>55.588853</td>\n",
       "      <td>17.898053</td>\n",
       "      <td>48.224513</td>\n",
       "    </tr>\n",
       "    <tr>\n",
       "      <th>6</th>\n",
       "      <td>Amazon shipped</td>\n",
       "      <td>76.890591</td>\n",
       "      <td>38.459336</td>\n",
       "      <td>72.565865</td>\n",
       "    </tr>\n",
       "  </tbody>\n",
       "</table>\n",
       "</div>"
      ],
      "text/plain": [
       "           Category  Perc Products  Perc #1 spot  Perc first row\n",
       "0      Unaffiliated       5.808547      4.209622       13.917526\n",
       "1     Amazon brands       5.801081     19.530355       24.770905\n",
       "2  Competing brands      76.880992     20.819015       63.516609\n",
       "3         Sponsored      17.317926     59.650630       75.286369\n",
       "4       Amazon sold      27.093220     22.451317       47.079038\n",
       "5  Third-party sold      55.588853     17.898053       48.224513\n",
       "6    Amazon shipped      76.890591     38.459336       72.565865"
      ]
     },
     "execution_count": 47,
     "metadata": {},
     "output_type": "execute_result"
    }
   ],
   "source": [
    "table_top = calculate_table(df_top, amazon_asin)\n",
    "table_top"
   ]
  },
  {
   "cell_type": "code",
   "execution_count": 48,
   "metadata": {},
   "outputs": [
    {
     "data": {
      "text/plain": [
       "8.064207650273223"
      ]
     },
     "execution_count": 48,
     "metadata": {},
     "output_type": "execute_result"
    }
   ],
   "source": [
    "df[df.is_amazon == True].asin.nunique() / df[(df.product_order == 1) & (df.is_amazon == True)].search_term.nunique()"
   ]
  },
  {
   "cell_type": "code",
   "execution_count": 49,
   "metadata": {},
   "outputs": [
    {
     "data": {
      "text/plain": [
       "43.42971014492753"
      ]
     },
     "execution_count": 49,
     "metadata": {},
     "output_type": "execute_result"
    }
   ],
   "source": [
    "df[df.is_amazon != True].asin.nunique() / df[(df.product_order == 1) & (df.is_amazon != True)].search_term.nunique()"
   ]
  },
  {
   "cell_type": "code",
   "execution_count": 50,
   "metadata": {},
   "outputs": [
    {
     "data": {
      "text/plain": [
       "732"
      ]
     },
     "execution_count": 50,
     "metadata": {},
     "output_type": "execute_result"
    }
   ],
   "source": [
    "df[(df.product_order == 1) & (df.is_amazon == True)].search_term.nunique()"
   ]
  },
  {
   "cell_type": "code",
   "execution_count": 51,
   "metadata": {},
   "outputs": [],
   "source": [
    "table_diff = table_generic.set_index('Category').subtract(\n",
    "    table_top.set_index('Category'))"
   ]
  },
  {
   "cell_type": "code",
   "execution_count": 52,
   "metadata": {},
   "outputs": [],
   "source": [
    "comparison = pd.concat([\n",
    "    table_top[['Category', 'Perc Products',  'Perc #1 spot']].set_index('Category'), \n",
    "    table_generic[['Category','Perc Products',  'Perc #1 spot']].set_index('Category'),\n",
    "], axis=1, keys=[\"top\", \"generic\"])"
   ]
  },
  {
   "cell_type": "code",
   "execution_count": 53,
   "metadata": {},
   "outputs": [
    {
     "data": {
      "text/html": [
       "<div>\n",
       "<style scoped>\n",
       "    .dataframe tbody tr th:only-of-type {\n",
       "        vertical-align: middle;\n",
       "    }\n",
       "\n",
       "    .dataframe tbody tr th {\n",
       "        vertical-align: top;\n",
       "    }\n",
       "\n",
       "    .dataframe thead tr th {\n",
       "        text-align: left;\n",
       "    }\n",
       "\n",
       "    .dataframe thead tr:last-of-type th {\n",
       "        text-align: right;\n",
       "    }\n",
       "</style>\n",
       "<table border=\"1\" class=\"dataframe\">\n",
       "  <thead>\n",
       "    <tr>\n",
       "      <th></th>\n",
       "      <th colspan=\"2\" halign=\"left\">top</th>\n",
       "      <th colspan=\"2\" halign=\"left\">generic</th>\n",
       "    </tr>\n",
       "    <tr>\n",
       "      <th></th>\n",
       "      <th>Perc Products</th>\n",
       "      <th>Perc #1 spot</th>\n",
       "      <th>Perc Products</th>\n",
       "      <th>Perc #1 spot</th>\n",
       "    </tr>\n",
       "    <tr>\n",
       "      <th>Category</th>\n",
       "      <th></th>\n",
       "      <th></th>\n",
       "      <th></th>\n",
       "      <th></th>\n",
       "    </tr>\n",
       "  </thead>\n",
       "  <tbody>\n",
       "    <tr>\n",
       "      <th>Unaffiliated</th>\n",
       "      <td>5.808547</td>\n",
       "      <td>4.209622</td>\n",
       "      <td>2.987573</td>\n",
       "      <td>1.479047</td>\n",
       "    </tr>\n",
       "    <tr>\n",
       "      <th>Amazon brands</th>\n",
       "      <td>5.801081</td>\n",
       "      <td>19.530355</td>\n",
       "      <td>8.225208</td>\n",
       "      <td>24.897288</td>\n",
       "    </tr>\n",
       "    <tr>\n",
       "      <th>Competing brands</th>\n",
       "      <td>76.880992</td>\n",
       "      <td>20.819015</td>\n",
       "      <td>73.530388</td>\n",
       "      <td>10.764174</td>\n",
       "    </tr>\n",
       "    <tr>\n",
       "      <th>Sponsored</th>\n",
       "      <td>17.317926</td>\n",
       "      <td>59.650630</td>\n",
       "      <td>18.244404</td>\n",
       "      <td>64.338537</td>\n",
       "    </tr>\n",
       "    <tr>\n",
       "      <th>Amazon sold</th>\n",
       "      <td>27.093220</td>\n",
       "      <td>22.451317</td>\n",
       "      <td>26.494148</td>\n",
       "      <td>23.336072</td>\n",
       "    </tr>\n",
       "    <tr>\n",
       "      <th>Third-party sold</th>\n",
       "      <td>55.588853</td>\n",
       "      <td>17.898053</td>\n",
       "      <td>55.261449</td>\n",
       "      <td>12.325390</td>\n",
       "    </tr>\n",
       "    <tr>\n",
       "      <th>Amazon shipped</th>\n",
       "      <td>76.890591</td>\n",
       "      <td>38.459336</td>\n",
       "      <td>78.762250</td>\n",
       "      <td>34.921939</td>\n",
       "    </tr>\n",
       "  </tbody>\n",
       "</table>\n",
       "</div>"
      ],
      "text/plain": [
       "                           top                    generic             \n",
       "                 Perc Products Perc #1 spot Perc Products Perc #1 spot\n",
       "Category                                                              \n",
       "Unaffiliated          5.808547     4.209622      2.987573     1.479047\n",
       "Amazon brands         5.801081    19.530355      8.225208    24.897288\n",
       "Competing brands     76.880992    20.819015     73.530388    10.764174\n",
       "Sponsored            17.317926    59.650630     18.244404    64.338537\n",
       "Amazon sold          27.093220    22.451317     26.494148    23.336072\n",
       "Third-party sold     55.588853    17.898053     55.261449    12.325390\n",
       "Amazon shipped       76.890591    38.459336     78.762250    34.921939"
      ]
     },
     "execution_count": 53,
     "metadata": {},
     "output_type": "execute_result"
    }
   ],
   "source": [
    "comparison"
   ]
  },
  {
   "cell_type": "code",
   "execution_count": 54,
   "metadata": {},
   "outputs": [],
   "source": [
    "comparison.round(1).to_csv(table4)"
   ]
  },
  {
   "cell_type": "markdown",
   "metadata": {},
   "source": [
    "## Anecdotes"
   ]
  },
  {
   "cell_type": "code",
   "execution_count": 55,
   "metadata": {},
   "outputs": [],
   "source": [
    "# how many Amazon products have more reivews and stars\n",
    "df_compare[\"better_stars_and_reviews\"] = df_compare.apply(\n",
    "    lambda x:\n",
    "    (x['amazon_reviews'] < x['non_amazon_reviews']) and \n",
    "    (x['amazon_stars'] < x['non_amazon_stars']),\n",
    "    axis=1\n",
    ")"
   ]
  },
  {
   "cell_type": "code",
   "execution_count": 65,
   "metadata": {},
   "outputs": [],
   "source": [
    "df_compare[\n",
    "    (df_compare.position_first_amazon < df_compare.position_first_non_amazon) &\n",
    "    (~df_compare.non_amazon_reviews.isnull()) &\n",
    "    (df_compare[\"better_stars_and_reviews\"] == True) &\n",
    "    (df_compare['position_first_amazon'] == 1)\n",
    "].search_term.to_csv('amazon_winner_searches.csv', index=False)"
   ]
  }
 ],
 "metadata": {
  "kernelspec": {
   "display_name": "Python 3",
   "language": "python",
   "name": "python3"
  },
  "language_info": {
   "codemirror_mode": {
    "name": "ipython",
    "version": 3
   },
   "file_extension": ".py",
   "mimetype": "text/x-python",
   "name": "python",
   "nbconvert_exporter": "python",
   "pygments_lexer": "ipython3",
   "version": "3.8.1"
  }
 },
 "nbformat": 4,
 "nbformat_minor": 4
}
