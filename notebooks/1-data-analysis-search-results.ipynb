{
 "cells": [
  {
   "cell_type": "markdown",
   "metadata": {},
   "source": [
    "# Data Analysis Search Results"
   ]
  },
  {
   "cell_type": "markdown",
   "metadata": {},
   "source": [
    "Our analysis centered around comparing these two metrics:"
   ]
  },
  {
   "cell_type": "markdown",
   "metadata": {},
   "source": [
    "\\begin{align}\n",
    "products_{Amazon} = \\frac{N_{Amazon\\ product\\ slots}}{N_{product\\ slots}}\n",
    "\\end{align}"
   ]
  },
  {
   "cell_type": "markdown",
   "metadata": {},
   "source": [
    "\\begin{align}\n",
    "{\\# 1\\ spot}_{Amazon} = \\frac{N_{Amazon\\ \\#1\\ slots}}{N_{\\#1\\ slots}}\n",
    "\\end{align}"
   ]
  },
  {
   "cell_type": "code",
   "execution_count": 1,
   "metadata": {},
   "outputs": [],
   "source": [
    "%load_ext autoreload\n",
    "%autoreload 2"
   ]
  },
  {
   "cell_type": "code",
   "execution_count": 2,
   "metadata": {},
   "outputs": [],
   "source": [
    "import os\n",
    "import re\n",
    "import glob\n",
    "import time\n",
    "from collections import Counter\n",
    "import json\n",
    "from multiprocessing import Pool\n",
    "\n",
    "from tqdm import tqdm\n",
    "from lxml import html\n",
    "import pandas as pd\n",
    "import matplotlib.pyplot as plt\n",
    "from matplotlib.colors import LinearSegmentedColormap\n",
    "from matplotlib.patches import Patch\n",
    "from matplotlib.lines import Line2D\n",
    "import seaborn as sns\n",
    "import numpy as np\n",
    "from sklearn.utils import resample\n",
    "\n",
    "from utils import value_counts, calculate_table, calculate_table_not_unique"
   ]
  },
  {
   "cell_type": "code",
   "execution_count": 3,
   "metadata": {},
   "outputs": [],
   "source": [
    "# inputs\n",
    "data_dir = '../data/intermediary'\n",
    "fn_search = f'{data_dir}/searches.csv.gz'\n",
    "fn_products = f'{data_dir}/products_with_meta.csv.xz'\n",
    "fn_queries = '../data/input/combined_queries_with_source.csv'\n",
    "fn_amazon = f'{data_dir}/amazon_private_label.csv.xz'\n",
    "\n",
    "# intermediary\n",
    "fn_compare = f'{data_dir}/quality_and_sales_comparisons.csv'\n",
    "\n",
    "# outputs\n",
    "output_dir = '../data/output'\n",
    "fn_top_searches = f'{data_dir}/top_searches.csv.gz'\n",
    "fn_generic_searches = f'{data_dir}/generic_searches.csv.gz'\n",
    "fig3 = f'{output_dir}/figures/fig3.png'\n",
    "fig4 = f'{output_dir}/figures/fig4.png'\n",
    "fig5a = f'{output_dir}/figures/fig5a.png'\n",
    "fig5b = f'{output_dir}/figures/fig5b.png'\n",
    "fig6a = f'{output_dir}/figures/fig6a.png'\n",
    "fig6b = f'{output_dir}/figures/fig6b.png'\n",
    "table1 = f'{output_dir}/tables/table1.csv'\n",
    "for subdir in ['figures', 'tables']:\n",
    "    os.makedirs(f'{output_dir}/{subdir}', exist_ok=True)"
   ]
  },
  {
   "cell_type": "code",
   "execution_count": 5,
   "metadata": {},
   "outputs": [],
   "source": [
    "df_amazon = pd.read_csv(fn_amazon, compression='xz')\n",
    "df_products = pd.read_csv(fn_products, compression='xz')\n",
    "df_search = pd.read_csv(fn_search, compression='gzip')\n",
    "keywords = pd.read_csv(fn_queries)"
   ]
  },
  {
   "cell_type": "code",
   "execution_count": 7,
   "metadata": {},
   "outputs": [
    {
     "data": {
      "text/plain": [
       "137420"
      ]
     },
     "execution_count": 7,
     "metadata": {},
     "output_type": "execute_result"
    }
   ],
   "source": [
    "amazon_asin = set(df_amazon.asin.tolist())\n",
    "len(amazon_asin)"
   ]
  },
  {
   "cell_type": "markdown",
   "metadata": {},
   "source": [
    "## merge data"
   ]
  },
  {
   "cell_type": "code",
   "execution_count": 8,
   "metadata": {},
   "outputs": [
    {
     "data": {
      "text/plain": [
       "4567"
      ]
     },
     "execution_count": 8,
     "metadata": {},
     "output_type": "execute_result"
    }
   ],
   "source": [
    "_df_search = df_search[df_search.product_type.isin(['regular_placement'])]\n",
    "\n",
    "searches_with_amazon_brands = _df_search[\n",
    "    _df_search.asin.isin(amazon_asin)\n",
    "].search_term.unique()\n",
    "len(searches_with_amazon_brands)"
   ]
  },
  {
   "cell_type": "code",
   "execution_count": 9,
   "metadata": {},
   "outputs": [],
   "source": [
    "_df_search = _df_search[_df_search.search_term.isin(searches_with_amazon_brands)].merge(df_products, how='left')\n",
    "_df_search['is_amazon'] = _df_search.asin.isin(amazon_asin)"
   ]
  },
  {
   "cell_type": "code",
   "execution_count": 10,
   "metadata": {},
   "outputs": [
    {
     "data": {
      "text/plain": [
       "asin                                                              B086VR2KY8\n",
       "product_name               All-New Toshiba 50LF621U21 50-inch Smart 4K UH...\n",
       "stars                                                                    4.6\n",
       "reviews                                                                 5282\n",
       "brand                                                                    NaN\n",
       "product_url                /gp/slredirect/picassoRedirect.html/ref=pa_sp_...\n",
       "is_prime                                                                True\n",
       "is_fresh                                                               False\n",
       "is_sponsored                                                           False\n",
       "is_featured_brand                                                       True\n",
       "is_amazons_choice                                                      False\n",
       "is_best_seller                                                         False\n",
       "product_order                                                              1\n",
       "search_term                                                 50 inch smart tv\n",
       "product_type                                               regular_placement\n",
       "price                                                        $319.99 $379.99\n",
       "price_std                                                                NaN\n",
       "filename                   ../data/input/search-selenium/5/50/50 inch sma...\n",
       "fn                         ../data/input/selenium-products/6/6V/B086VR2KY...\n",
       "shipped_by                                                          Best Buy\n",
       "sold_by                                                             Best Buy\n",
       "has_third_party_sellers                                                False\n",
       "product_by_amazon                                                      False\n",
       "our_brands_carousel                                                    False\n",
       "ads                                                                       []\n",
       "suggestions                ['B086VR2KY8', 'B086VR2KY8', 'B086VR2KY8', 'B0...\n",
       "n_ads                                                                      0\n",
       "is_amazon                                                               True\n",
       "is_sold_by_amazon                                                      False\n",
       "is_shipped_by_amazon                                                   False\n",
       "Name: 0, dtype: object"
      ]
     },
     "execution_count": 10,
     "metadata": {},
     "output_type": "execute_result"
    }
   ],
   "source": [
    "_df_search.iloc[0]"
   ]
  },
  {
   "cell_type": "code",
   "execution_count": 11,
   "metadata": {},
   "outputs": [],
   "source": [
    "_df_search[\"is_shipped_by_amazon_TRUE\"] = _df_search.apply(lambda x: any([x['is_shipped_by_amazon'], \n",
    "                                x['is_fresh'], x['is_prime']]), axis=1)"
   ]
  },
  {
   "cell_type": "code",
   "execution_count": 12,
   "metadata": {},
   "outputs": [],
   "source": [
    "kw_generic = keywords[keywords['source'] == 'generic'].search_term\n",
    "kw_seller = keywords[keywords['source'] == 'seller'].search_term\n",
    "kw_autocomplete = keywords[keywords['source'].isin(\n",
    "    ['autocomplete amazon', 'autocomplete walmart']\n",
    ")].search_term"
   ]
  },
  {
   "cell_type": "code",
   "execution_count": 13,
   "metadata": {},
   "outputs": [
    {
     "data": {
      "text/plain": [
       "11342"
      ]
     },
     "execution_count": 13,
     "metadata": {},
     "output_type": "execute_result"
    }
   ],
   "source": [
    "top_searches = set(kw_autocomplete.tolist() + kw_seller.tolist())\n",
    "len(top_searches)"
   ]
  },
  {
   "cell_type": "code",
   "execution_count": 14,
   "metadata": {},
   "outputs": [
    {
     "data": {
      "text/plain": [
       "(187534, 3492)"
      ]
     },
     "execution_count": 14,
     "metadata": {},
     "output_type": "execute_result"
    }
   ],
   "source": [
    "df_top = _df_search[\n",
    "    _df_search.search_term.isin(top_searches)\n",
    "]\n",
    "len(df_top), df_top.search_term.nunique()"
   ]
  },
  {
   "cell_type": "code",
   "execution_count": 15,
   "metadata": {},
   "outputs": [
    {
     "data": {
      "text/plain": [
       "0.30788220772350555"
      ]
     },
     "execution_count": 15,
     "metadata": {},
     "output_type": "execute_result"
    }
   ],
   "source": [
    "# how many searches had Amazon?\n",
    "df_top.search_term.nunique() / len(top_searches)"
   ]
  },
  {
   "cell_type": "code",
   "execution_count": 16,
   "metadata": {},
   "outputs": [
    {
     "data": {
      "text/plain": [
       "125769"
      ]
     },
     "execution_count": 16,
     "metadata": {},
     "output_type": "execute_result"
    }
   ],
   "source": [
    "# how many products?\n",
    "df_top.asin.nunique()"
   ]
  },
  {
   "cell_type": "code",
   "execution_count": 17,
   "metadata": {},
   "outputs": [
    {
     "data": {
      "text/plain": [
       "3492"
      ]
     },
     "execution_count": 17,
     "metadata": {},
     "output_type": "execute_result"
    }
   ],
   "source": [
    "df_top[df_top.product_order == 1].search_term.nunique()"
   ]
  },
  {
   "cell_type": "code",
   "execution_count": 18,
   "metadata": {},
   "outputs": [],
   "source": [
    "if not os.path.exists(fn_top_searches):\n",
    "    df_top.to_csv(fn_top_searches, index=False, compression='gzip')"
   ]
  },
  {
   "cell_type": "code",
   "execution_count": 19,
   "metadata": {},
   "outputs": [
    {
     "data": {
      "text/plain": [
       "(69287, 1217)"
      ]
     },
     "execution_count": 19,
     "metadata": {},
     "output_type": "execute_result"
    }
   ],
   "source": [
    "df_generic = _df_search[\n",
    "   _df_search.search_term.isin(kw_generic)\n",
    "]\n",
    "len(df_generic), df_generic.search_term.nunique()"
   ]
  },
  {
   "cell_type": "code",
   "execution_count": 20,
   "metadata": {},
   "outputs": [],
   "source": [
    "if not os.path.exists(fn_generic_searches):\n",
    "    df_generic.to_csv(fn_generic_searches, index=False, compression='gzip')"
   ]
  },
  {
   "cell_type": "markdown",
   "metadata": {},
   "source": [
    "## Aggregate data"
   ]
  },
  {
   "cell_type": "code",
   "execution_count": 21,
   "metadata": {},
   "outputs": [],
   "source": [
    "df = df_top"
   ]
  },
  {
   "cell_type": "code",
   "execution_count": 22,
   "metadata": {},
   "outputs": [
    {
     "data": {
      "text/html": [
       "<div>\n",
       "<style scoped>\n",
       "    .dataframe tbody tr th:only-of-type {\n",
       "        vertical-align: middle;\n",
       "    }\n",
       "\n",
       "    .dataframe tbody tr th {\n",
       "        vertical-align: top;\n",
       "    }\n",
       "\n",
       "    .dataframe thead th {\n",
       "        text-align: right;\n",
       "    }\n",
       "</style>\n",
       "<table border=\"1\" class=\"dataframe\">\n",
       "  <thead>\n",
       "    <tr style=\"text-align: right;\">\n",
       "      <th></th>\n",
       "      <th>count</th>\n",
       "      <th>percentage</th>\n",
       "    </tr>\n",
       "  </thead>\n",
       "  <tbody>\n",
       "    <tr>\n",
       "      <th>False</th>\n",
       "      <td>119866</td>\n",
       "      <td>0.953065</td>\n",
       "    </tr>\n",
       "    <tr>\n",
       "      <th>True</th>\n",
       "      <td>5903</td>\n",
       "      <td>0.046935</td>\n",
       "    </tr>\n",
       "  </tbody>\n",
       "</table>\n",
       "</div>"
      ],
      "text/plain": [
       "        count  percentage\n",
       "False  119866    0.953065\n",
       "True     5903    0.046935"
      ]
     },
     "execution_count": 22,
     "metadata": {},
     "output_type": "execute_result"
    }
   ],
   "source": [
    "value_counts(df.drop_duplicates(subset=['asin']), col='is_amazon')"
   ]
  },
  {
   "cell_type": "code",
   "execution_count": 23,
   "metadata": {},
   "outputs": [],
   "source": [
    "# Produce plots"
   ]
  },
  {
   "cell_type": "code",
   "execution_count": 24,
   "metadata": {},
   "outputs": [],
   "source": [
    "max_rank = 60\n",
    "n_samples = df.search_term.nunique()\n",
    "n_products = df.asin.nunique()"
   ]
  },
  {
   "cell_type": "code",
   "execution_count": 25,
   "metadata": {},
   "outputs": [],
   "source": [
    "df_s = df[df.is_sponsored == True]\n",
    "df_ns = df[df.is_sponsored == False]"
   ]
  },
  {
   "cell_type": "code",
   "execution_count": 26,
   "metadata": {},
   "outputs": [],
   "source": [
    "n_samples_sold = df[~df.sold_by.isnull()].search_term.nunique()\n",
    "n_samples_shipped = df[~df.shipped_by.isnull()].search_term.nunique()\n",
    "\n",
    "n_products_sold = df[~df.sold_by.isnull()].asin.nunique()\n",
    "n_products_shipped = df[~df.shipped_by.isnull()].asin.nunique()"
   ]
  },
  {
   "cell_type": "code",
   "execution_count": 27,
   "metadata": {},
   "outputs": [],
   "source": [
    "df_amazon = df_ns[df_ns.asin.isin(amazon_asin)]\n",
    "df_non_amazon = df_ns[(~df_ns.asin.isin(amazon_asin))]\n",
    "\n",
    "df_non_amazon_non_sold_ = df_ns[(~df_ns.asin.isin(amazon_asin)) & \n",
    "                               (df_ns.is_sold_by_amazon == False) &\n",
    "                               (df_ns.is_fresh == False)\n",
    "                              ]\n"
   ]
  },
  {
   "cell_type": "code",
   "execution_count": 28,
   "metadata": {},
   "outputs": [],
   "source": [
    "df_non_amazon_sold_by_amazon_ = df_ns[\n",
    "        (~df_ns.asin.isin(amazon_asin)) & \n",
    "        (df_ns.is_sold_by_amazon == True)\n",
    "    ]"
   ]
  },
  {
   "cell_type": "code",
   "execution_count": 29,
   "metadata": {},
   "outputs": [],
   "source": [
    "df_amazon_brand_ = df_ns[df_ns.asin.isin(amazon_asin)]\n",
    "df_non_amazon_brand_ = df_ns[\n",
    "    ~df_ns.asin.isin(df_amazon.asin)\n",
    "]\n",
    "\n",
    "df_amazon_sold_ = df_ns[df_ns.is_sold_by_amazon == True]\n",
    "df_not_amazon_sold_ = df_ns[df_ns.is_sold_by_amazon != True]\n",
    "\n",
    "df_prime_ =  df_ns[\n",
    "    (df_ns.is_prime == True) | \n",
    "    (df_ns.is_fresh == True)\n",
    "]\n",
    "\n",
    "df_non_amazon_ = df_ns[\n",
    "    (~df_ns.asin.isin(amazon_asin))\n",
    "  & (df_ns.is_sold_by_amazon == False)\n",
    "  & (df_ns.is_shipped_by_amazon == False)\n",
    "  & (df_ns.is_prime == False) \n",
    "  & (df_ns.is_fresh == False)\n",
    "]"
   ]
  },
  {
   "cell_type": "code",
   "execution_count": 30,
   "metadata": {},
   "outputs": [
    {
     "data": {
      "text/plain": [
       "0.17317926349355317"
      ]
     },
     "execution_count": 30,
     "metadata": {},
     "output_type": "execute_result"
    }
   ],
   "source": [
    "len(df[df.is_sponsored]) / len(df)"
   ]
  },
  {
   "cell_type": "code",
   "execution_count": 32,
   "metadata": {},
   "outputs": [
    {
     "data": {
      "text/html": [
       "<div>\n",
       "<style scoped>\n",
       "    .dataframe tbody tr th:only-of-type {\n",
       "        vertical-align: middle;\n",
       "    }\n",
       "\n",
       "    .dataframe tbody tr th {\n",
       "        vertical-align: top;\n",
       "    }\n",
       "\n",
       "    .dataframe thead th {\n",
       "        text-align: right;\n",
       "    }\n",
       "</style>\n",
       "<table border=\"1\" class=\"dataframe\">\n",
       "  <thead>\n",
       "    <tr style=\"text-align: right;\">\n",
       "      <th></th>\n",
       "      <th>Category</th>\n",
       "      <th>Perc Products</th>\n",
       "      <th>Perc #1 spot</th>\n",
       "      <th>Perc first row</th>\n",
       "    </tr>\n",
       "  </thead>\n",
       "  <tbody>\n",
       "    <tr>\n",
       "      <th>0</th>\n",
       "      <td>Unaffiliated</td>\n",
       "      <td>10.852965</td>\n",
       "      <td>4.553265</td>\n",
       "      <td>14.977090</td>\n",
       "    </tr>\n",
       "    <tr>\n",
       "      <th>1</th>\n",
       "      <td>Amazon brands</td>\n",
       "      <td>5.801081</td>\n",
       "      <td>19.530355</td>\n",
       "      <td>24.770905</td>\n",
       "    </tr>\n",
       "    <tr>\n",
       "      <th>2</th>\n",
       "      <td>Competing brands</td>\n",
       "      <td>76.880992</td>\n",
       "      <td>20.819015</td>\n",
       "      <td>63.516609</td>\n",
       "    </tr>\n",
       "    <tr>\n",
       "      <th>3</th>\n",
       "      <td>Sponsored</td>\n",
       "      <td>17.317926</td>\n",
       "      <td>59.650630</td>\n",
       "      <td>75.286369</td>\n",
       "    </tr>\n",
       "    <tr>\n",
       "      <th>4</th>\n",
       "      <td>Amazon sold</td>\n",
       "      <td>25.549500</td>\n",
       "      <td>20.733104</td>\n",
       "      <td>44.186712</td>\n",
       "    </tr>\n",
       "    <tr>\n",
       "      <th>5</th>\n",
       "      <td>Third-party sold</td>\n",
       "      <td>57.132573</td>\n",
       "      <td>19.616266</td>\n",
       "      <td>51.718213</td>\n",
       "    </tr>\n",
       "    <tr>\n",
       "      <th>6</th>\n",
       "      <td>Amazon shipped</td>\n",
       "      <td>71.672870</td>\n",
       "      <td>35.595647</td>\n",
       "      <td>70.217640</td>\n",
       "    </tr>\n",
       "  </tbody>\n",
       "</table>\n",
       "</div>"
      ],
      "text/plain": [
       "           Category  Perc Products  Perc #1 spot  Perc first row\n",
       "0      Unaffiliated      10.852965      4.553265       14.977090\n",
       "1     Amazon brands       5.801081     19.530355       24.770905\n",
       "2  Competing brands      76.880992     20.819015       63.516609\n",
       "3         Sponsored      17.317926     59.650630       75.286369\n",
       "4       Amazon sold      25.549500     20.733104       44.186712\n",
       "5  Third-party sold      57.132573     19.616266       51.718213\n",
       "6    Amazon shipped      71.672870     35.595647       70.217640"
      ]
     },
     "execution_count": 32,
     "metadata": {},
     "output_type": "execute_result"
    }
   ],
   "source": [
    "res = calculate_table_not_unique(df, amazon_asin)\n",
    "res"
   ]
  },
  {
   "cell_type": "code",
   "execution_count": 33,
   "metadata": {},
   "outputs": [],
   "source": [
    "# fig = bar_plots(res[res.Category.isin(['Amazon', 'Non-Amazon', 'Wholly Non-Amazon'])], figsize=(12,5))\n",
    "# fig.savefig(fig3)"
   ]
  },
  {
   "cell_type": "code",
   "execution_count": 34,
   "metadata": {},
   "outputs": [],
   "source": [
    "cat2color = {\n",
    "    'Amazon brands' : \"#ff9900\",\n",
    "    'Competing brands' : \"#146eb4\",\n",
    "    'Sponsored': '#DB4437',\n",
    "    'Organic': '#ee7e6c',\n",
    "    'Amazon sold': '#146eb4',\n",
    "    'Third-party sold': '#aabedf',\n",
    "    'Unaffiliated': 'black',\n",
    "}\n",
    "\n",
    "mkr_dict = {\n",
    "    'Unaffiliated': {\n",
    "        'marker' : 'v',\n",
    "        'color': ''\n",
    "    },\n",
    "    'Competing brands': {\n",
    "        'marker' : 'o',\n",
    "        'color' : ''\n",
    "    }, \n",
    "    'Amazon sold' : {\n",
    "        'marker': '+',\n",
    "        'color' : ''\n",
    "    },\n",
    "    'Third-party sold': {\n",
    "        'marker': '+',\n",
    "        'color' : ''\n",
    "    },\n",
    "    'Amazon brands': {\n",
    "        'marker': 'o',\n",
    "        'color' : ''\n",
    "    },\n",
    "    'Sponsored' : {\n",
    "        'marker' : '*',\n",
    "        'color' : ''\n",
    "    },\n",
    "}"
   ]
  },
  {
   "cell_type": "code",
   "execution_count": 36,
   "metadata": {},
   "outputs": [
    {
     "data": {
      "image/png": "[encoded data removed]",
      "text/plain": [
       "<Figure size 576x432 with 1 Axes>"
      ]
     },
     "metadata": {
      "needs_background": "light"
     },
     "output_type": "display_data"
    }
   ],
   "source": [
    "cats = [\n",
    "    [\n",
    "        'Sponsored'\n",
    "    ],\n",
    "    [\n",
    "        'Amazon brands', \n",
    "        'Competing brands',\n",
    "    ],\n",
    "    [ \n",
    "        'Unaffiliated', \n",
    "    ],\n",
    "]\n",
    "plt.figure(figsize=(8, 6))\n",
    "plt.title(\"What kind of products get the top search result on Amazon?\")\n",
    "ax = plt.gca()\n",
    "\n",
    "for i, to_check in enumerate(cats):\n",
    "    fn_out = f'../data/output/animation/fig_{i}.png'\n",
    "    to_plot = res[res.Category.isin(to_check)]\n",
    "    \n",
    "    \n",
    "    # Hide the right and top spines\n",
    "    ax.spines['right'].set_visible(False)\n",
    "    ax.spines['top'].set_visible(False)\n",
    "\n",
    "    # Only show ticks on the left and bottom spines\n",
    "    ax.yaxis.set_ticks_position('left')\n",
    "    ax.xaxis.set_ticks_position('bottom')\n",
    "\n",
    "    ax.set_ylabel('Percentage of top spots')\n",
    "    ax.set_xlabel('Percentage of products')\n",
    "\n",
    "    ax.set_ylim(0, 75)\n",
    "    ax.set_xlim(0, 80) \n",
    "    ax.yaxis.get_major_ticks()[0].label1.set_visible(False)\n",
    "    \n",
    "    for kind in to_check:\n",
    "        d = to_plot[to_plot.Category==kind]\n",
    "        if kind in ['Unaffiliated']:\n",
    "            ax.annotate(kind, (d['Perc Products'] + 1.5,\n",
    "                           d['Perc #1 spot'] - 2))\n",
    "        elif kind == 'Competing brands':\n",
    "            ax.annotate(kind, (d['Perc Products'] - 17.5,\n",
    "                           d['Perc #1 spot'] - 2))\n",
    "        else:\n",
    "            ax.annotate(kind, (d['Perc Products'] + 1.6,\n",
    "                               d['Perc #1 spot']))\n",
    "        for j in range(1,6):\n",
    "            plt.scatter(x=d['Perc Products'],\n",
    "                        y=d['Perc #1 spot'],\n",
    "                        c=cat2color[kind],\n",
    "                        s=55,\n",
    "                        alpha=.2 * j,\n",
    "                        label=kind,\n",
    "                        marker = mkr_dict[kind]['marker'])\n",
    "           \n",
    "\n",
    "            fn_out = f'../data/output/animation/fig_{i}_{j:02d}.png'\n",
    "            plt.savefig(fn_out);\n",
    "            \n",
    "ax.plot([0, 100], [0, 100],  '--', alpha=.4, color='grey')\n",
    "ax.annotate(\"proportionally more\", \n",
    "            (52, 55), rotation=38)\n",
    "ax.annotate(\"proportionally less\", \n",
    "            (54.5, 51), rotation=38)\n",
    "for j in range(7, 16):\n",
    "    fn_out = f'../data/output/animation/fig_{i}_{j:02d}.png'\n",
    "    plt.savefig(fn_out);"
   ]
  },
  {
   "cell_type": "markdown",
   "metadata": {},
   "source": [
    "## Make GIF"
   ]
  },
  {
   "cell_type": "code",
   "execution_count": 37,
   "metadata": {},
   "outputs": [],
   "source": [
    "import glob\n",
    "from PIL import Image\n",
    "\n",
    "# filepaths\n",
    "fp_in = \"../data/output/animation/*.png\"\n",
    "fp_out = \"../data/output/animation/image.gif\"\n",
    "\n",
    "# https://pillow.readthedocs.io/en/stable/handbook/image-file-formats.html#gif\n",
    "img, *imgs = [Image.open(f) for f in sorted(glob.glob(fp_in))]\n",
    "img.save(fp=fp_out, format='GIF', append_images=imgs,\n",
    "         save_all=True, duration=250, loop=0, optimize=True)"
   ]
  },
  {
   "cell_type": "markdown",
   "metadata": {},
   "source": [
    "## Heatmap"
   ]
  },
  {
   "cell_type": "code",
   "execution_count": 38,
   "metadata": {},
   "outputs": [],
   "source": [
    "control = (df.product_order.value_counts()\n",
    "    .sort_index()\n",
    "    .reindex(pd.RangeIndex(1, 61))[::-1])"
   ]
  },
  {
   "cell_type": "code",
   "execution_count": 39,
   "metadata": {},
   "outputs": [],
   "source": [
    "def heatmap(df, control, cmap, title, vmin=0, vmax=100):\n",
    "    \"\"\"Produces a heatmap of product slots\"\"\"\n",
    "    amazn_label = (df\n",
    "        .product_order.value_counts()\n",
    "        .sort_index()\n",
    "        .reindex(pd.RangeIndex(1, 61))[::-1])\n",
    " \n",
    "    amazn_label = amazn_label / control * 100\n",
    "    \n",
    "    amazn_label_grid = amazn_label.iloc[::-1].values.reshape(15, 4)\n",
    "    # amazn_label_grid = (amazn_label / amazn_label.sum() * 100).iloc[::-1].values.reshape(15, 4)\n",
    "\n",
    "    amazn_label_grid = pd.DataFrame(amazn_label_grid)\n",
    "    amazn_label_grid.index = [_ + 1 for _ in amazn_label_grid.index]\n",
    "    amazn_label_grid.columns = [_ + 1 for _ in amazn_label_grid.columns]\n",
    "\n",
    "    fig = plt.figure(figsize=(6,12))\n",
    "    sns.heatmap(amazn_label_grid,\n",
    "                linewidths=4,\n",
    "                fmt='g',\n",
    "                cmap=cmap,\n",
    "                vmin=vmax,\n",
    "                vmax=vmin)\n",
    "    plt.title(title)\n",
    "    plt.ylabel(\"⟵ Rows of products going down the page\")\n",
    "    plt.xlabel(\"Columns of products across the page\")\n",
    "    plt.yticks(rotation=0)\n",
    "    \n",
    "    return fig"
   ]
  },
  {
   "cell_type": "code",
   "execution_count": 40,
   "metadata": {},
   "outputs": [
    {
     "data": {
      "text/plain": [
       "3.532968501175046"
      ]
     },
     "execution_count": 40,
     "metadata": {},
     "output_type": "execute_result"
    }
   ],
   "source": [
    "amazn_label = (df_amazon_brand_\n",
    "    .product_order.value_counts()\n",
    "    .sort_index()\n",
    "    .reindex(pd.RangeIndex(1, 61)))\n",
    "\n",
    "## the first spot is this many times more than every other position\n",
    "amazn_label = amazn_label / control * 100\n",
    "amazn_label[1] / amazn_label[1:59].mean()"
   ]
  },
  {
   "cell_type": "code",
   "execution_count": 41,
   "metadata": {},
   "outputs": [
    {
     "data": {
      "image/png": "[encoded data removed]",
      "text/plain": [
       "<Figure size 432x864 with 2 Axes>"
      ]
     },
     "metadata": {
      "needs_background": "light"
     },
     "output_type": "display_data"
    }
   ],
   "source": [
    "cmap = LinearSegmentedColormap.from_list(\n",
    "    'mycmap', ['#f9f9f9', \"#ff9900\"]\n",
    ")\n",
    "fig = heatmap(\n",
    "    df_amazon_brand_, control,\n",
    "    cmap = LinearSegmentedColormap.from_list(None, ['#f9f9f9', \"#ff9900\"]),\n",
    "    title=f\"Where are Amazon Brands Placed\\nDown and Across the Search Page? (N={n_samples:,})\",\n",
    "    vmax=20, vmin=2\n",
    ")\n",
    "fig.savefig(fig5a);"
   ]
  },
  {
   "cell_type": "code",
   "execution_count": 42,
   "metadata": {},
   "outputs": [
    {
     "data": {
      "image/png": "[encoded data removed]",
      "text/plain": [
       "<Figure size 432x864 with 2 Axes>"
      ]
     },
     "metadata": {
      "needs_background": "light"
     },
     "output_type": "display_data"
    }
   ],
   "source": [
    "fig = heatmap(\n",
    "    df_non_amazon, control,\n",
    "    cmap = LinearSegmentedColormap.from_list(None, ['#f9f9f9', 'black']),\n",
    "    title=f\"Where are Competing Brands Placed\\nDown and Across the Search Page? (N={n_samples:,})\",\n",
    ")\n",
    "fig.savefig(fig5b)"
   ]
  },
  {
   "cell_type": "code",
   "execution_count": 43,
   "metadata": {},
   "outputs": [
    {
     "data": {
      "image/png": "[encoded data removed]",
      "text/plain": [
       "<Figure size 432x864 with 2 Axes>"
      ]
     },
     "metadata": {
      "needs_background": "light"
     },
     "output_type": "display_data"
    }
   ],
   "source": [
    "fig = heatmap(\n",
    "    df_non_amazon_, control,\n",
    "    cmap = LinearSegmentedColormap.from_list(None, ['#f9f9f9', 'black']),\n",
    "    title=f\"Where are Entirely Unafilliated Products Placed\\nDown and Across the Search Page? (N={n_samples:,})\",\n",
    "    vmax=20, vmin=2\n",
    ")\n",
    "fig.savefig(fig5b)"
   ]
  },
  {
   "cell_type": "code",
   "execution_count": 44,
   "metadata": {},
   "outputs": [
    {
     "data": {
      "image/png": "[encoded data removed]",
      "text/plain": [
       "<Figure size 432x864 with 2 Axes>"
      ]
     },
     "metadata": {
      "needs_background": "light"
     },
     "output_type": "display_data"
    }
   ],
   "source": [
    "fig = heatmap(\n",
    "    df_s, control, \n",
    "    cmap=LinearSegmentedColormap.from_list(None, ['#f9f9f9', '#DB4437']),\n",
    "    title=f\"Where are Sponsored Products Placed\\nDown and Across the Search Page? (N={n_samples:,})\"\n",
    ")\n",
    "fig.savefig(fig6a)"
   ]
  },
  {
   "cell_type": "code",
   "execution_count": 45,
   "metadata": {},
   "outputs": [
    {
     "data": {
      "image/png": "[encoded data removed]",
      "text/plain": [
       "<Figure size 432x864 with 2 Axes>"
      ]
     },
     "metadata": {
      "needs_background": "light"
     },
     "output_type": "display_data"
    }
   ],
   "source": [
    "fig = heatmap(\n",
    "    df_amazon_sold_, control, \n",
    "    cmap=LinearSegmentedColormap.from_list(None, ['#f9f9f9', '#00674b']),\n",
    "    title=f\"Where are Amazon-Sold Products Placed\\nDown and Across the Search Page? (N={n_samples:,})\"\n",
    ")\n",
    "fig.savefig(fig6b)"
   ]
  },
  {
   "cell_type": "code",
   "execution_count": 46,
   "metadata": {},
   "outputs": [],
   "source": [
    "# summary statisics"
   ]
  },
  {
   "cell_type": "code",
   "execution_count": 47,
   "metadata": {},
   "outputs": [],
   "source": [
    "unique_products = df.drop_duplicates('asin')\n",
    "n_unique_products = unique_products.asin.nunique()"
   ]
  },
  {
   "cell_type": "code",
   "execution_count": 48,
   "metadata": {},
   "outputs": [
    {
     "data": {
      "text/plain": [
       "0.04693525431545134"
      ]
     },
     "execution_count": 48,
     "metadata": {},
     "output_type": "execute_result"
    }
   ],
   "source": [
    "# what percentage of products are amazon\n",
    "len(unique_products[unique_products.asin.isin(amazon_asin)]) / n_unique_products"
   ]
  },
  {
   "cell_type": "code",
   "execution_count": 49,
   "metadata": {},
   "outputs": [],
   "source": [
    "## Not Clearly Labelled"
   ]
  },
  {
   "cell_type": "code",
   "execution_count": 50,
   "metadata": {},
   "outputs": [
    {
     "data": {
      "text/plain": [
       "0.26088429612061664"
      ]
     },
     "execution_count": 50,
     "metadata": {},
     "output_type": "execute_result"
    }
   ],
   "source": [
    "# How many asins are Featured from our brands\n",
    "(df[df.is_featured_brand == True].asin.nunique() / \n",
    "df[df.asin.isin(amazon_asin)].asin.nunique())"
   ]
  },
  {
   "cell_type": "code",
   "execution_count": 51,
   "metadata": {},
   "outputs": [
    {
     "data": {
      "text/plain": [
       "0.1962855382448728"
      ]
     },
     "execution_count": 51,
     "metadata": {},
     "output_type": "execute_result"
    }
   ],
   "source": [
    "# How many asins are Featured from our brands\n",
    "(len(df[df.is_featured_brand == True]) / \n",
    "len(df[df.asin.isin(amazon_asin)]))"
   ]
  },
  {
   "cell_type": "code",
   "execution_count": 52,
   "metadata": {},
   "outputs": [],
   "source": [
    "amazon_missed_all = '|'.join([\n",
    "    'amazon basics',\n",
    "    'amazon essentials',\n",
    "    'whole foods market',\n",
    "    'amazon commercial',\n",
    "    'amazon collection',\n",
    "    'amazon fresh',\n",
    "    'amazon elements',\n",
    "    'amazonbasics'\n",
    "    '365 everyday value',\n",
    "    'amazon exclusive',\n",
    "    'amazon us exclusive',\n",
    "    'amazon brand'\n",
    "])\n",
    "\n",
    "amazon_missed = '|'.join([\n",
    "    'amazon basics',\n",
    "    'amazon essentials',\n",
    "    'whole foods market',\n",
    "    'amazon commercial',\n",
    "    'amazon collection',\n",
    "    'amazon fresh',\n",
    "    'amazon elements',\n",
    "    'amazonbasics'\n",
    "    '365 everyday value',\n",
    "])\n",
    "\n",
    "amazon_disclaimer = '|'.join([\n",
    "    'amazon exclusive',\n",
    "    'amazon us exclusive',\n",
    "    'amazon brand'\n",
    "])"
   ]
  },
  {
   "cell_type": "code",
   "execution_count": 53,
   "metadata": {},
   "outputs": [
    {
     "data": {
      "text/plain": [
       "0.4204641707606302"
      ]
     },
     "execution_count": 53,
     "metadata": {},
     "output_type": "execute_result"
    }
   ],
   "source": [
    "# How many contain a disclaimer\n",
    "(df[\n",
    "  ((df.is_featured_brand) | \n",
    "   (df.product_name.str.contains(amazon_disclaimer, case=False))) &\n",
    "  (df.asin.isin(amazon_asin))\n",
    "].asin.nunique() / \n",
    "\n",
    " df[df.asin.isin(amazon_asin)].asin.nunique())"
   ]
  },
  {
   "cell_type": "code",
   "execution_count": 54,
   "metadata": {},
   "outputs": [
    {
     "data": {
      "text/plain": [
       "0.2475012705404032"
      ]
     },
     "execution_count": 54,
     "metadata": {},
     "output_type": "execute_result"
    }
   ],
   "source": [
    "# how many items contains a name with known brand\n",
    "(df[\n",
    "  (df.product_name.str.contains(amazon_missed, case=False)) &\n",
    "  (df.asin.isin(amazon_asin))\n",
    "].asin.nunique() / \n",
    "\n",
    " df[df.asin.isin(amazon_asin)].asin.nunique())"
   ]
  },
  {
   "cell_type": "code",
   "execution_count": 55,
   "metadata": {},
   "outputs": [
    {
     "data": {
      "text/plain": [
       "0.4089446044384212"
      ]
     },
     "execution_count": 55,
     "metadata": {},
     "output_type": "execute_result"
    }
   ],
   "source": [
    "# How many do not contain a disclaimer\n",
    "1- (df[\n",
    "  ((df.product_name.str.contains(amazon_missed_all, case=False)) | \n",
    "   (df.is_featured_brand)) &\n",
    "  (df.asin.isin(amazon_asin))\n",
    "].asin.nunique() / \n",
    "\n",
    " df[df.asin.isin(amazon_asin)].asin.nunique())"
   ]
  },
  {
   "cell_type": "code",
   "execution_count": 56,
   "metadata": {},
   "outputs": [
    {
     "data": {
      "text/plain": [
       "0.8387978142076503"
      ]
     },
     "execution_count": 56,
     "metadata": {},
     "output_type": "execute_result"
    }
   ],
   "source": [
    "# perc of top amazon products with a \"featured from our brands\" tag\n",
    "(df[\n",
    "    (df.is_featured_brand) &\n",
    "    (df.asin.isin(amazon_asin)) &\n",
    "    (df.product_order == 1)\n",
    "].search_term.nunique()) / df[(df.asin.isin(amazon_asin)) & (df.product_order == 1)].search_term.nunique()"
   ]
  },
  {
   "cell_type": "markdown",
   "metadata": {},
   "source": [
    "## More Stars and reviews?"
   ]
  },
  {
   "cell_type": "code",
   "execution_count": 57,
   "metadata": {},
   "outputs": [
    {
     "name": "stderr",
     "output_type": "stream",
     "text": [
      "100%|██████████| 3492/3492 [05:28<00:00, 10.62it/s]\n"
     ]
    }
   ],
   "source": [
    "if not os.path.exists(fn_compare):   \n",
    "    data = []\n",
    "    for st, _df in tqdm(df[df.is_sponsored == False].groupby(\"search_term\")):\n",
    "        _df.sort_values(by='product_order')\n",
    "        amzn = _df[_df.asin.isin(amazon_asin)]\n",
    "        non_amzn = _df[~_df.asin.isin(amazon_asin)]\n",
    "        wnon_amzn =_df[\n",
    "            (~_df.asin.isin(amazon_asin)) &\n",
    "            (_df.is_sold_by_amazon == False) &\n",
    "            (_df.is_fresh == False) &\n",
    "            (_df.is_prime == False)\n",
    "        ]\n",
    "\n",
    "        if not amzn.empty:\n",
    "            top_amazon =  amzn.product_order.iloc[0]\n",
    "            amazon_star = amzn.stars.iloc[0]\n",
    "            amazon_review = amzn.reviews.iloc[0]\n",
    "        else:\n",
    "            top_amazon = np.nan\n",
    "            amazon_star = np.nan\n",
    "            amazon_review = np.nan\n",
    "\n",
    "        if not non_amzn.empty:    \n",
    "            top_non_amazon_brand = non_amzn.product_order.iloc[0]\n",
    "            non_amazon_star = non_amzn.stars.iloc[0]\n",
    "            non_amazon_review = non_amzn.reviews.iloc[0]\n",
    "        else:\n",
    "            top_non_amazon = np.nan\n",
    "            non_amazon_star = np.nan\n",
    "            non_amazon_review = np.nan\n",
    "\n",
    "        if not wnon_amzn.empty:\n",
    "            top_wnon_amazon = wnon_amzn.product_order.iloc[0]\n",
    "            wnon_amazon_star = wnon_amzn.stars.iloc[0]\n",
    "            wnon_amazon_review = wnon_amzn.reviews.iloc[0]\n",
    "\n",
    "        else:\n",
    "            top_wnon_amazon = np.nan\n",
    "            wnon_amazon_star = np.nan\n",
    "            wnon_amazon_review = np.nan\n",
    "        record = {\n",
    "            \"search_term\": st,\n",
    "            \"position_first_amazon\": top_amazon,\n",
    "            \"position_first_non_amazon\": top_non_amazon_brand,\n",
    "            \"position_first_wholly_non_amazon\": top_wnon_amazon,\n",
    "\n",
    "            \"amazon_stars\": amazon_star,\n",
    "            \"amazon_reviews\": amazon_review,\n",
    "\n",
    "            \"non_amazon_stars\": non_amazon_star,\n",
    "            \"non_amazon_reviews\": non_amazon_review,\n",
    "\n",
    "            \"wnon_amazon_stars\": wnon_amazon_star,\n",
    "            \"wnon_amazon_reviews\": wnon_amazon_review,\n",
    "        }\n",
    "        data.append(record)\n",
    "    df_compare = pd.DataFrame(data)\n",
    "    df_compare.to_csv(fn_compare, index=False)\n",
    "    \n",
    "else:\n",
    "    df_compare = pd.read_csv(fn_compare)"
   ]
  },
  {
   "cell_type": "code",
   "execution_count": 58,
   "metadata": {},
   "outputs": [],
   "source": [
    "df_compare = pd.DataFrame(data)"
   ]
  },
  {
   "cell_type": "code",
   "execution_count": 59,
   "metadata": {},
   "outputs": [
    {
     "data": {
      "text/plain": [
       "0.22880870561282932"
      ]
     },
     "execution_count": 59,
     "metadata": {},
     "output_type": "execute_result"
    }
   ],
   "source": [
    "len(df_compare[df_compare.position_first_amazon < df_compare.position_first_non_amazon]) / len(df_compare)"
   ]
  },
  {
   "cell_type": "code",
   "execution_count": 60,
   "metadata": {},
   "outputs": [
    {
     "data": {
      "text/plain": [
       "False    0.653317\n",
       "True     0.346683\n",
       "dtype: float64"
      ]
     },
     "execution_count": 60,
     "metadata": {},
     "output_type": "execute_result"
    }
   ],
   "source": [
    "# how many Amazon products have more stars\n",
    "df_compare[\n",
    "    df_compare.position_first_amazon < df_compare.position_first_non_amazon\n",
    "].apply(\n",
    "    lambda x:\n",
    "    x['amazon_stars'] > x['non_amazon_stars'],\n",
    "    axis=1\n",
    ").value_counts(normalize=True)"
   ]
  },
  {
   "cell_type": "code",
   "execution_count": 61,
   "metadata": {},
   "outputs": [
    {
     "data": {
      "text/plain": [
       "False    0.509579\n",
       "True     0.490421\n",
       "dtype: float64"
      ]
     },
     "execution_count": 61,
     "metadata": {},
     "output_type": "execute_result"
    }
   ],
   "source": [
    "# how many Amazon products have more reivews than the\n",
    "df_compare[\n",
    "    (df_compare.position_first_amazon < df_compare.position_first_non_amazon) &\n",
    "    (~df_compare.non_amazon_reviews.isnull())\n",
    "].apply(\n",
    "    lambda x:\n",
    "    x['amazon_reviews'] > x['non_amazon_reviews'],\n",
    "    axis=1\n",
    ").value_counts(normalize=True)"
   ]
  },
  {
   "cell_type": "code",
   "execution_count": 62,
   "metadata": {},
   "outputs": [
    {
     "data": {
      "text/plain": [
       "False    0.798212\n",
       "True     0.201788\n",
       "dtype: float64"
      ]
     },
     "execution_count": 62,
     "metadata": {},
     "output_type": "execute_result"
    }
   ],
   "source": [
    "# how many Amazon products have more reivews than the\n",
    "df_compare[\n",
    "    (df_compare.position_first_amazon < df_compare.position_first_non_amazon) &\n",
    "    (~df_compare.non_amazon_reviews.isnull())\n",
    "].apply(\n",
    "    lambda x:\n",
    "    (x['amazon_reviews'] < x['non_amazon_reviews']) and \n",
    "    (x['amazon_stars'] < x['non_amazon_stars']),\n",
    "    axis=1\n",
    ").value_counts(normalize=True)"
   ]
  },
  {
   "cell_type": "code",
   "execution_count": 63,
   "metadata": {},
   "outputs": [],
   "source": [
    "# duplicates\n",
    "asins_by_search = df[df.is_sponsored == False].groupby('search_term').asin.value_counts()"
   ]
  },
  {
   "cell_type": "code",
   "execution_count": 64,
   "metadata": {},
   "outputs": [
    {
     "data": {
      "text/plain": [
       "0.09221076746849943"
      ]
     },
     "execution_count": 64,
     "metadata": {},
     "output_type": "execute_result"
    }
   ],
   "source": [
    "# perc_searches_dupluicate_asin\n",
    "asins_by_search[asins_by_search > 1].index.get_level_values(0).nunique() / df.search_term.nunique()"
   ]
  },
  {
   "cell_type": "code",
   "execution_count": 65,
   "metadata": {},
   "outputs": [
    {
     "data": {
      "text/plain": [
       "1.0"
      ]
     },
     "execution_count": 65,
     "metadata": {},
     "output_type": "execute_result"
    }
   ],
   "source": [
    "# how many of these duplicates are Amazon products?\n",
    "duplicate_asin = asins_by_search[asins_by_search > 1].index.get_level_values(1)\n",
    "len([_ for _ in duplicate_asin if _ in amazon_asin]) / len(duplicate_asin)"
   ]
  },
  {
   "cell_type": "markdown",
   "metadata": {},
   "source": [
    "## Supplementary dataset"
   ]
  },
  {
   "cell_type": "code",
   "execution_count": 66,
   "metadata": {},
   "outputs": [
    {
     "data": {
      "text/plain": [
       "1217"
      ]
     },
     "execution_count": 66,
     "metadata": {},
     "output_type": "execute_result"
    }
   ],
   "source": [
    "df_generic.search_term.nunique()"
   ]
  },
  {
   "cell_type": "code",
   "execution_count": 67,
   "metadata": {},
   "outputs": [
    {
     "data": {
      "text/html": [
       "<div>\n",
       "<style scoped>\n",
       "    .dataframe tbody tr th:only-of-type {\n",
       "        vertical-align: middle;\n",
       "    }\n",
       "\n",
       "    .dataframe tbody tr th {\n",
       "        vertical-align: top;\n",
       "    }\n",
       "\n",
       "    .dataframe thead th {\n",
       "        text-align: right;\n",
       "    }\n",
       "</style>\n",
       "<table border=\"1\" class=\"dataframe\">\n",
       "  <thead>\n",
       "    <tr style=\"text-align: right;\">\n",
       "      <th></th>\n",
       "      <th>Category</th>\n",
       "      <th>Perc Products</th>\n",
       "      <th>Perc #1 spot</th>\n",
       "      <th>Perc first row</th>\n",
       "    </tr>\n",
       "  </thead>\n",
       "  <tbody>\n",
       "    <tr>\n",
       "      <th>0</th>\n",
       "      <td>Unaffiliated</td>\n",
       "      <td>4.143634</td>\n",
       "      <td>1.068200</td>\n",
       "      <td>5.012325</td>\n",
       "    </tr>\n",
       "    <tr>\n",
       "      <th>1</th>\n",
       "      <td>Amazon brands</td>\n",
       "      <td>8.225208</td>\n",
       "      <td>24.897288</td>\n",
       "      <td>35.332786</td>\n",
       "    </tr>\n",
       "    <tr>\n",
       "      <th>2</th>\n",
       "      <td>Competing brands</td>\n",
       "      <td>73.530388</td>\n",
       "      <td>10.764174</td>\n",
       "      <td>54.478225</td>\n",
       "    </tr>\n",
       "    <tr>\n",
       "      <th>3</th>\n",
       "      <td>Sponsored</td>\n",
       "      <td>18.244404</td>\n",
       "      <td>64.338537</td>\n",
       "      <td>84.223500</td>\n",
       "    </tr>\n",
       "    <tr>\n",
       "      <th>4</th>\n",
       "      <td>Amazon sold</td>\n",
       "      <td>25.382828</td>\n",
       "      <td>21.857025</td>\n",
       "      <td>45.193098</td>\n",
       "    </tr>\n",
       "    <tr>\n",
       "      <th>5</th>\n",
       "      <td>Third-party sold</td>\n",
       "      <td>56.372768</td>\n",
       "      <td>13.804437</td>\n",
       "      <td>48.808546</td>\n",
       "    </tr>\n",
       "    <tr>\n",
       "      <th>6</th>\n",
       "      <td>Amazon shipped</td>\n",
       "      <td>77.500830</td>\n",
       "      <td>34.511093</td>\n",
       "      <td>70.008217</td>\n",
       "    </tr>\n",
       "  </tbody>\n",
       "</table>\n",
       "</div>"
      ],
      "text/plain": [
       "           Category  Perc Products  Perc #1 spot  Perc first row\n",
       "0      Unaffiliated       4.143634      1.068200        5.012325\n",
       "1     Amazon brands       8.225208     24.897288       35.332786\n",
       "2  Competing brands      73.530388     10.764174       54.478225\n",
       "3         Sponsored      18.244404     64.338537       84.223500\n",
       "4       Amazon sold      25.382828     21.857025       45.193098\n",
       "5  Third-party sold      56.372768     13.804437       48.808546\n",
       "6    Amazon shipped      77.500830     34.511093       70.008217"
      ]
     },
     "execution_count": 67,
     "metadata": {},
     "output_type": "execute_result"
    }
   ],
   "source": [
    "table_generic = calculate_table_not_unique(df_generic, amazon_asin)\n",
    "table_generic"
   ]
  },
  {
   "cell_type": "code",
   "execution_count": 68,
   "metadata": {},
   "outputs": [
    {
     "data": {
      "text/html": [
       "<div>\n",
       "<style scoped>\n",
       "    .dataframe tbody tr th:only-of-type {\n",
       "        vertical-align: middle;\n",
       "    }\n",
       "\n",
       "    .dataframe tbody tr th {\n",
       "        vertical-align: top;\n",
       "    }\n",
       "\n",
       "    .dataframe thead th {\n",
       "        text-align: right;\n",
       "    }\n",
       "</style>\n",
       "<table border=\"1\" class=\"dataframe\">\n",
       "  <thead>\n",
       "    <tr style=\"text-align: right;\">\n",
       "      <th></th>\n",
       "      <th>Category</th>\n",
       "      <th>Perc Products</th>\n",
       "      <th>Perc #1 spot</th>\n",
       "      <th>Perc first row</th>\n",
       "    </tr>\n",
       "  </thead>\n",
       "  <tbody>\n",
       "    <tr>\n",
       "      <th>0</th>\n",
       "      <td>Unaffiliated</td>\n",
       "      <td>10.852965</td>\n",
       "      <td>4.553265</td>\n",
       "      <td>14.977090</td>\n",
       "    </tr>\n",
       "    <tr>\n",
       "      <th>1</th>\n",
       "      <td>Amazon brands</td>\n",
       "      <td>5.801081</td>\n",
       "      <td>19.530355</td>\n",
       "      <td>24.770905</td>\n",
       "    </tr>\n",
       "    <tr>\n",
       "      <th>2</th>\n",
       "      <td>Competing brands</td>\n",
       "      <td>76.880992</td>\n",
       "      <td>20.819015</td>\n",
       "      <td>63.516609</td>\n",
       "    </tr>\n",
       "    <tr>\n",
       "      <th>3</th>\n",
       "      <td>Sponsored</td>\n",
       "      <td>17.317926</td>\n",
       "      <td>59.650630</td>\n",
       "      <td>75.286369</td>\n",
       "    </tr>\n",
       "    <tr>\n",
       "      <th>4</th>\n",
       "      <td>Amazon sold</td>\n",
       "      <td>25.549500</td>\n",
       "      <td>20.733104</td>\n",
       "      <td>44.186712</td>\n",
       "    </tr>\n",
       "    <tr>\n",
       "      <th>5</th>\n",
       "      <td>Third-party sold</td>\n",
       "      <td>57.132573</td>\n",
       "      <td>19.616266</td>\n",
       "      <td>51.718213</td>\n",
       "    </tr>\n",
       "    <tr>\n",
       "      <th>6</th>\n",
       "      <td>Amazon shipped</td>\n",
       "      <td>71.672870</td>\n",
       "      <td>35.595647</td>\n",
       "      <td>70.217640</td>\n",
       "    </tr>\n",
       "  </tbody>\n",
       "</table>\n",
       "</div>"
      ],
      "text/plain": [
       "           Category  Perc Products  Perc #1 spot  Perc first row\n",
       "0      Unaffiliated      10.852965      4.553265       14.977090\n",
       "1     Amazon brands       5.801081     19.530355       24.770905\n",
       "2  Competing brands      76.880992     20.819015       63.516609\n",
       "3         Sponsored      17.317926     59.650630       75.286369\n",
       "4       Amazon sold      25.549500     20.733104       44.186712\n",
       "5  Third-party sold      57.132573     19.616266       51.718213\n",
       "6    Amazon shipped      71.672870     35.595647       70.217640"
      ]
     },
     "execution_count": 68,
     "metadata": {},
     "output_type": "execute_result"
    }
   ],
   "source": [
    "table_top = calculate_table_not_unique(df_top, amazon_asin)\n",
    "table_top"
   ]
  },
  {
   "cell_type": "code",
   "execution_count": 69,
   "metadata": {},
   "outputs": [
    {
     "data": {
      "text/plain": [
       "8.064207650273223"
      ]
     },
     "execution_count": 69,
     "metadata": {},
     "output_type": "execute_result"
    }
   ],
   "source": [
    "df[df.is_amazon == True].asin.nunique() / df[(df.product_order == 1) & (df.is_amazon == True)].search_term.nunique()"
   ]
  },
  {
   "cell_type": "code",
   "execution_count": 70,
   "metadata": {},
   "outputs": [
    {
     "data": {
      "text/plain": [
       "43.42971014492753"
      ]
     },
     "execution_count": 70,
     "metadata": {},
     "output_type": "execute_result"
    }
   ],
   "source": [
    "df[df.is_amazon != True].asin.nunique() / df[(df.product_order == 1) & (df.is_amazon != True)].search_term.nunique()"
   ]
  },
  {
   "cell_type": "code",
   "execution_count": 71,
   "metadata": {},
   "outputs": [
    {
     "data": {
      "text/plain": [
       "732"
      ]
     },
     "execution_count": 71,
     "metadata": {},
     "output_type": "execute_result"
    }
   ],
   "source": [
    "df[(df.product_order == 1) & (df.is_amazon == True)].search_term.nunique()"
   ]
  },
  {
   "cell_type": "code",
   "execution_count": 72,
   "metadata": {},
   "outputs": [],
   "source": [
    "table_diff = table_generic.set_index('Category').subtract(\n",
    "    table_top.set_index('Category'))"
   ]
  },
  {
   "cell_type": "code",
   "execution_count": 73,
   "metadata": {},
   "outputs": [],
   "source": [
    "comparison = pd.concat([\n",
    "    table_top[['Category', 'Perc Products',  'Perc #1 spot', 'Perc first row']].set_index('Category'), \n",
    "    table_generic[['Category','Perc Products',  'Perc #1 spot', 'Perc first row']].set_index('Category'),\n",
    "], axis=1, keys=[\"top\", \"generic\"])"
   ]
  },
  {
   "cell_type": "code",
   "execution_count": 74,
   "metadata": {},
   "outputs": [],
   "source": [
    "comparison = comparison.swaplevel(0, 1, 1).sort_index(1)"
   ]
  },
  {
   "cell_type": "code",
   "execution_count": 75,
   "metadata": {},
   "outputs": [
    {
     "data": {
      "text/html": [
       "<div>\n",
       "<style scoped>\n",
       "    .dataframe tbody tr th:only-of-type {\n",
       "        vertical-align: middle;\n",
       "    }\n",
       "\n",
       "    .dataframe tbody tr th {\n",
       "        vertical-align: top;\n",
       "    }\n",
       "\n",
       "    .dataframe thead tr th {\n",
       "        text-align: left;\n",
       "    }\n",
       "\n",
       "    .dataframe thead tr:last-of-type th {\n",
       "        text-align: right;\n",
       "    }\n",
       "</style>\n",
       "<table border=\"1\" class=\"dataframe\">\n",
       "  <thead>\n",
       "    <tr>\n",
       "      <th></th>\n",
       "      <th colspan=\"2\" halign=\"left\">Perc #1 spot</th>\n",
       "      <th colspan=\"2\" halign=\"left\">Perc Products</th>\n",
       "      <th colspan=\"2\" halign=\"left\">Perc first row</th>\n",
       "    </tr>\n",
       "    <tr>\n",
       "      <th></th>\n",
       "      <th>generic</th>\n",
       "      <th>top</th>\n",
       "      <th>generic</th>\n",
       "      <th>top</th>\n",
       "      <th>generic</th>\n",
       "      <th>top</th>\n",
       "    </tr>\n",
       "    <tr>\n",
       "      <th>Category</th>\n",
       "      <th></th>\n",
       "      <th></th>\n",
       "      <th></th>\n",
       "      <th></th>\n",
       "      <th></th>\n",
       "      <th></th>\n",
       "    </tr>\n",
       "  </thead>\n",
       "  <tbody>\n",
       "    <tr>\n",
       "      <th>Unaffiliated</th>\n",
       "      <td>1.068200</td>\n",
       "      <td>4.553265</td>\n",
       "      <td>4.143634</td>\n",
       "      <td>10.852965</td>\n",
       "      <td>5.012325</td>\n",
       "      <td>14.977090</td>\n",
       "    </tr>\n",
       "    <tr>\n",
       "      <th>Amazon brands</th>\n",
       "      <td>24.897288</td>\n",
       "      <td>19.530355</td>\n",
       "      <td>8.225208</td>\n",
       "      <td>5.801081</td>\n",
       "      <td>35.332786</td>\n",
       "      <td>24.770905</td>\n",
       "    </tr>\n",
       "    <tr>\n",
       "      <th>Competing brands</th>\n",
       "      <td>10.764174</td>\n",
       "      <td>20.819015</td>\n",
       "      <td>73.530388</td>\n",
       "      <td>76.880992</td>\n",
       "      <td>54.478225</td>\n",
       "      <td>63.516609</td>\n",
       "    </tr>\n",
       "    <tr>\n",
       "      <th>Sponsored</th>\n",
       "      <td>64.338537</td>\n",
       "      <td>59.650630</td>\n",
       "      <td>18.244404</td>\n",
       "      <td>17.317926</td>\n",
       "      <td>84.223500</td>\n",
       "      <td>75.286369</td>\n",
       "    </tr>\n",
       "    <tr>\n",
       "      <th>Amazon sold</th>\n",
       "      <td>21.857025</td>\n",
       "      <td>20.733104</td>\n",
       "      <td>25.382828</td>\n",
       "      <td>25.549500</td>\n",
       "      <td>45.193098</td>\n",
       "      <td>44.186712</td>\n",
       "    </tr>\n",
       "    <tr>\n",
       "      <th>Third-party sold</th>\n",
       "      <td>13.804437</td>\n",
       "      <td>19.616266</td>\n",
       "      <td>56.372768</td>\n",
       "      <td>57.132573</td>\n",
       "      <td>48.808546</td>\n",
       "      <td>51.718213</td>\n",
       "    </tr>\n",
       "    <tr>\n",
       "      <th>Amazon shipped</th>\n",
       "      <td>34.511093</td>\n",
       "      <td>35.595647</td>\n",
       "      <td>77.500830</td>\n",
       "      <td>71.672870</td>\n",
       "      <td>70.008217</td>\n",
       "      <td>70.217640</td>\n",
       "    </tr>\n",
       "  </tbody>\n",
       "</table>\n",
       "</div>"
      ],
      "text/plain": [
       "                 Perc #1 spot            Perc Products             \\\n",
       "                      generic        top       generic        top   \n",
       "Category                                                            \n",
       "Unaffiliated         1.068200   4.553265      4.143634  10.852965   \n",
       "Amazon brands       24.897288  19.530355      8.225208   5.801081   \n",
       "Competing brands    10.764174  20.819015     73.530388  76.880992   \n",
       "Sponsored           64.338537  59.650630     18.244404  17.317926   \n",
       "Amazon sold         21.857025  20.733104     25.382828  25.549500   \n",
       "Third-party sold    13.804437  19.616266     56.372768  57.132573   \n",
       "Amazon shipped      34.511093  35.595647     77.500830  71.672870   \n",
       "\n",
       "                 Perc first row             \n",
       "                        generic        top  \n",
       "Category                                    \n",
       "Unaffiliated           5.012325  14.977090  \n",
       "Amazon brands         35.332786  24.770905  \n",
       "Competing brands      54.478225  63.516609  \n",
       "Sponsored             84.223500  75.286369  \n",
       "Amazon sold           45.193098  44.186712  \n",
       "Third-party sold      48.808546  51.718213  \n",
       "Amazon shipped        70.008217  70.217640  "
      ]
     },
     "execution_count": 75,
     "metadata": {},
     "output_type": "execute_result"
    }
   ],
   "source": [
    "comparison"
   ]
  },
  {
   "cell_type": "code",
   "execution_count": 76,
   "metadata": {},
   "outputs": [],
   "source": [
    "comparison.round(1).to_csv(table1)"
   ]
  },
  {
   "cell_type": "markdown",
   "metadata": {},
   "source": [
    "## Sankey"
   ]
  },
  {
   "cell_type": "code",
   "execution_count": 77,
   "metadata": {},
   "outputs": [
    {
     "name": "stdout",
     "output_type": "stream",
     "text": [
      "{\"nodes\": [{\"name\": \"All Products\", \"node\": 0}, {\"name\": \"Sponsored\", \"node\": 1}, {\"name\": \"Non-Sponsored\", \"node\": 2}, {\"name\": \"Sold by Amazon\", \"node\": 3}, {\"name\": \"Not Sold by Amazon\", \"node\": 4}, {\"name\": \"Amazon Product\", \"node\": 5}, {\"name\": \"Not Amazon Product\", \"node\": 6}], \"links\": [{\"source\": 0, \"target\": 1, \"value\": 32477}, {\"source\": 0, \"target\": 2, \"value\": 155057}, {\"source\": 2, \"target\": 3, \"value\": 47914}, {\"source\": 2, \"target\": 4, \"value\": 107143}, {\"source\": 3, \"target\": 5, \"value\": 8265}, {\"source\": 3, \"target\": 6, \"value\": 39649}, {\"source\": 4, \"target\": 5, \"value\": 2614}, {\"source\": 4, \"target\": 6, \"value\": 104529}]}\n"
     ]
    }
   ],
   "source": [
    "print(json.dumps({\n",
    "    \"nodes\":[\n",
    "        {\"name\":\"All Products\",\"node\":0},\n",
    "        {\"name\":\"Sponsored\",\"node\":1},   \n",
    "        {\"name\":\"Non-Sponsored\",\"node\":2},   \n",
    "        {\"name\":\"Sold by Amazon\",\"node\":3},\n",
    "        {\"name\":\"Not Sold by Amazon\",\"node\":4},\n",
    "        {\"name\":\"Amazon Product\",\"node\":5},\n",
    "        {\"name\":\"Not Amazon Product\",\"node\":6}\n",
    "    ],\n",
    "    \"links\":[\n",
    "        {\"source\":0,\"target\":1,\"value\":len(df_s)},\n",
    "        {\"source\":0,\"target\":2,\"value\":len(df_ns)},  \n",
    "        {\"source\":2,\"target\":3,\"value\":len(df_amazon_sold_)},\n",
    "        {\"source\":2,\"target\":4,\"value\":len(df_not_amazon_sold_)},    \n",
    "        {\"source\":3,\"target\":5,\"value\":len(df_amazon_sold_[df_amazon_sold_.asin.isin(amazon_asin)])},\n",
    "        {\"source\":3,\"target\":6, \"value\":len(df_amazon_sold_[~df_amazon_sold_.asin.isin(amazon_asin)])},\n",
    "        {\"source\":4,\"target\":5,\"value\":len(df_not_amazon_sold_[df_not_amazon_sold_.asin.isin(amazon_asin)])},\n",
    "        {\"source\":4,\"target\":6,\"value\":len(df_not_amazon_sold_[~df_not_amazon_sold_.asin.isin(amazon_asin)])},\n",
    "    ]\n",
    "}))"
   ]
  },
  {
   "cell_type": "markdown",
   "metadata": {},
   "source": [
    "## Error check"
   ]
  },
  {
   "cell_type": "code",
   "execution_count": 78,
   "metadata": {},
   "outputs": [],
   "source": [
    "check_asin = df[\n",
    "    (df.is_amazon == True) &\n",
    "    (df.is_sold_by_amazon == False)\n",
    "]"
   ]
  },
  {
   "cell_type": "code",
   "execution_count": 79,
   "metadata": {},
   "outputs": [],
   "source": [
    "fn_amazon = '../data/intermediary/amazon_private_label.csv.gz'"
   ]
  },
  {
   "cell_type": "code",
   "execution_count": 80,
   "metadata": {},
   "outputs": [
    {
     "ename": "AttributeError",
     "evalue": "'DataFrame' object has no attribute 'source'",
     "output_type": "error",
     "traceback": [
      "\u001b[0;31m---------------------------------------------------------------------------\u001b[0m",
      "\u001b[0;31mAttributeError\u001b[0m                            Traceback (most recent call last)",
      "\u001b[0;32m<ipython-input-80-7f767a20e1c2>\u001b[0m in \u001b[0;36m<module>\u001b[0;34m\u001b[0m\n\u001b[0;32m----> 1\u001b[0;31m \u001b[0mdf_amazon\u001b[0m\u001b[0;34m[\u001b[0m\u001b[0mdf_amazon\u001b[0m\u001b[0;34m.\u001b[0m\u001b[0masin\u001b[0m\u001b[0;34m.\u001b[0m\u001b[0misin\u001b[0m\u001b[0;34m(\u001b[0m\u001b[0mcheck_asin\u001b[0m\u001b[0;34m.\u001b[0m\u001b[0masin\u001b[0m\u001b[0;34m)\u001b[0m\u001b[0;34m]\u001b[0m\u001b[0;34m.\u001b[0m\u001b[0msource\u001b[0m\u001b[0;34m.\u001b[0m\u001b[0mvalue_counts\u001b[0m\u001b[0;34m(\u001b[0m\u001b[0;34m)\u001b[0m\u001b[0;34m\u001b[0m\u001b[0;34m\u001b[0m\u001b[0m\n\u001b[0m",
      "\u001b[0;32m~/miniconda3/lib/python3.8/site-packages/pandas/core/generic.py\u001b[0m in \u001b[0;36m__getattr__\u001b[0;34m(self, name)\u001b[0m\n\u001b[1;32m   5272\u001b[0m             \u001b[0;32mif\u001b[0m \u001b[0mself\u001b[0m\u001b[0;34m.\u001b[0m\u001b[0m_info_axis\u001b[0m\u001b[0;34m.\u001b[0m\u001b[0m_can_hold_identifiers_and_holds_name\u001b[0m\u001b[0;34m(\u001b[0m\u001b[0mname\u001b[0m\u001b[0;34m)\u001b[0m\u001b[0;34m:\u001b[0m\u001b[0;34m\u001b[0m\u001b[0;34m\u001b[0m\u001b[0m\n\u001b[1;32m   5273\u001b[0m                 \u001b[0;32mreturn\u001b[0m \u001b[0mself\u001b[0m\u001b[0;34m[\u001b[0m\u001b[0mname\u001b[0m\u001b[0;34m]\u001b[0m\u001b[0;34m\u001b[0m\u001b[0;34m\u001b[0m\u001b[0m\n\u001b[0;32m-> 5274\u001b[0;31m             \u001b[0;32mreturn\u001b[0m \u001b[0mobject\u001b[0m\u001b[0;34m.\u001b[0m\u001b[0m__getattribute__\u001b[0m\u001b[0;34m(\u001b[0m\u001b[0mself\u001b[0m\u001b[0;34m,\u001b[0m \u001b[0mname\u001b[0m\u001b[0;34m)\u001b[0m\u001b[0;34m\u001b[0m\u001b[0;34m\u001b[0m\u001b[0m\n\u001b[0m\u001b[1;32m   5275\u001b[0m \u001b[0;34m\u001b[0m\u001b[0m\n\u001b[1;32m   5276\u001b[0m     \u001b[0;32mdef\u001b[0m \u001b[0m__setattr__\u001b[0m\u001b[0;34m(\u001b[0m\u001b[0mself\u001b[0m\u001b[0;34m,\u001b[0m \u001b[0mname\u001b[0m\u001b[0;34m:\u001b[0m \u001b[0mstr\u001b[0m\u001b[0;34m,\u001b[0m \u001b[0mvalue\u001b[0m\u001b[0;34m)\u001b[0m \u001b[0;34m->\u001b[0m \u001b[0;32mNone\u001b[0m\u001b[0;34m:\u001b[0m\u001b[0;34m\u001b[0m\u001b[0;34m\u001b[0m\u001b[0m\n",
      "\u001b[0;31mAttributeError\u001b[0m: 'DataFrame' object has no attribute 'source'"
     ]
    }
   ],
   "source": [
    "df_amazon[df_amazon.asin.isin(check_asin.asin)].source.value_counts()"
   ]
  },
  {
   "cell_type": "code",
   "execution_count": null,
   "metadata": {},
   "outputs": [],
   "source": [
    "value_counts(check_asin.drop_duplicates('asin').merge(\n",
    "    df_amazon, on='asin', how='left'\n",
    "), 'source', dropna=False)"
   ]
  },
  {
   "cell_type": "code",
   "execution_count": null,
   "metadata": {},
   "outputs": [],
   "source": [
    "to_check = check_asin.drop_duplicates('asin').merge(\n",
    "    df_amazon, on='asin', how='left'\n",
    ")"
   ]
  },
  {
   "cell_type": "code",
   "execution_count": null,
   "metadata": {},
   "outputs": [],
   "source": [
    "to_check= to_check[to_check.source == 'text search']"
   ]
  },
  {
   "cell_type": "code",
   "execution_count": null,
   "metadata": {},
   "outputs": [],
   "source": [
    "to_check.sold_by.value_counts(dropna=False)"
   ]
  },
  {
   "cell_type": "code",
   "execution_count": null,
   "metadata": {},
   "outputs": [],
   "source": [
    "to_check.to_csv('../data/intermediary/spot_check/text_search_asins_2021-5-4.csv', index=False)"
   ]
  },
  {
   "cell_type": "code",
   "execution_count": null,
   "metadata": {},
   "outputs": [],
   "source": [
    "to_check.to_csv('../data/intermediary/spot_check/all_outlier_asins_2021-5-4.csv', index=False)"
   ]
  },
  {
   "cell_type": "code",
   "execution_count": null,
   "metadata": {},
   "outputs": [],
   "source": [
    "\"B07MC98SZH\" in amazon_asin"
   ]
  },
  {
   "cell_type": "code",
   "execution_count": null,
   "metadata": {},
   "outputs": [],
   "source": [
    "len(df[df.is_amazon == True]) / len(df)"
   ]
  },
  {
   "cell_type": "code",
   "execution_count": null,
   "metadata": {},
   "outputs": [],
   "source": [
    "__df_search = df_search[\n",
    "    (df_search.search_term.isin(searches_with_amazon_brands)) & \n",
    "    (df_search.search_term.isin(top_searches))\n",
    "].merge(df_products, how='left')"
   ]
  },
  {
   "cell_type": "code",
   "execution_count": null,
   "metadata": {},
   "outputs": [],
   "source": [
    "__df_search.product_type.value_counts()"
   ]
  },
  {
   "cell_type": "code",
   "execution_count": null,
   "metadata": {},
   "outputs": [],
   "source": [
    "def carousel_correction(row):\n",
    "    if row['product_type'] == 'featured_brands_carousel':\n",
    "        return True\n",
    "    else:\n",
    "        return row['is_amazon']"
   ]
  },
  {
   "cell_type": "code",
   "execution_count": null,
   "metadata": {},
   "outputs": [],
   "source": [
    "__df_search[\"is_amazon\"] = __df_search.apply(carousel_correction, axis=1)"
   ]
  },
  {
   "cell_type": "code",
   "execution_count": null,
   "metadata": {},
   "outputs": [],
   "source": [
    "[\n",
    "    'editorial_recs_carousel',\n",
    "    'sponsored_banner',\n",
    "    'misc_carousel',\n",
    "    'regular_placement__missed '\n",
    "]"
   ]
  },
  {
   "cell_type": "code",
   "execution_count": null,
   "metadata": {},
   "outputs": [],
   "source": [
    "calculate_table(__df_search, amazon_asin=amazon_asin)"
   ]
  },
  {
   "cell_type": "code",
   "execution_count": null,
   "metadata": {},
   "outputs": [],
   "source": [
    "calculate_table(df, amazon_asin=amazon_asin)"
   ]
  }
 ],
 "metadata": {
  "kernelspec": {
   "display_name": "Python 3",
   "language": "python",
   "name": "python3"
  },
  "language_info": {
   "codemirror_mode": {
    "name": "ipython",
    "version": 3
   },
   "file_extension": ".py",
   "mimetype": "text/x-python",
   "name": "python",
   "nbconvert_exporter": "python",
   "pygments_lexer": "ipython3",
   "version": "3.8.1"
  }
 },
 "nbformat": 4,
 "nbformat_minor": 4
}
