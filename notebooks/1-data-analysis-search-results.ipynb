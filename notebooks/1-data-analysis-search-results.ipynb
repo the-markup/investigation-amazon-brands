{
 "cells": [
  {
   "cell_type": "markdown",
   "metadata": {},
   "source": [
    "# Data Analysis Search Results"
   ]
  },
  {
   "cell_type": "markdown",
   "metadata": {},
   "source": [
    "Our analysis centered around comparing these two metrics:"
   ]
  },
  {
   "cell_type": "markdown",
   "metadata": {},
   "source": [
    "\\begin{align}\n",
    "products_{Amazon} = \\frac{N_{Amazon\\ product\\ slots}}{N_{product\\ slots}}\n",
    "\\end{align}"
   ]
  },
  {
   "cell_type": "markdown",
   "metadata": {},
   "source": [
    "\\begin{align}\n",
    "{\\# 1\\ spot}_{Amazon} = \\frac{N_{Amazon\\ \\#1\\ slots}}{N_{\\#1\\ slots}}\n",
    "\\end{align}"
   ]
  },
  {
   "cell_type": "code",
   "execution_count": 1,
   "metadata": {},
   "outputs": [],
   "source": [
    "%load_ext autoreload\n",
    "%autoreload 2"
   ]
  },
  {
   "cell_type": "code",
   "execution_count": 2,
   "metadata": {},
   "outputs": [],
   "source": [
    "import os\n",
    "import re\n",
    "import glob\n",
    "import time\n",
    "from collections import Counter\n",
    "import json\n",
    "from multiprocessing import Pool\n",
    "\n",
    "from tqdm import tqdm\n",
    "from lxml import html\n",
    "import pandas as pd\n",
    "import matplotlib.pyplot as plt\n",
    "from matplotlib.colors import LinearSegmentedColormap\n",
    "from matplotlib.patches import Patch\n",
    "from matplotlib.lines import Line2D\n",
    "import seaborn as sns\n",
    "import numpy as np\n",
    "from sklearn.utils import resample\n",
    "\n",
    "from utils import value_counts, calculate_table, calculate_table_not_unique"
   ]
  },
  {
   "cell_type": "code",
   "execution_count": 3,
   "metadata": {},
   "outputs": [],
   "source": [
    "# inputs\n",
    "data_dir = '../data/intermediary'\n",
    "fn_search = f'{data_dir}/searches.csv.gz'\n",
    "fn_products = f'{data_dir}/products_with_meta.csv.gz'\n",
    "fn_queries = '../data/input/combined_queries_with_source.csv'\n",
    "fn_amazon = f'{data_dir}/amazon_private_label.csv.gz'\n",
    "\n",
    "# outputs\n",
    "output_dir = '../data/output'\n",
    "fn_top_searches = f'{data_dir}/top_searches.csv.gz'\n",
    "fn_generic_searches = f'{data_dir}/generic_searches.csv.gz'\n",
    "fig3 = f'{output_dir}/figures/fig3.png'\n",
    "fig4 = f'{output_dir}/figures/fig4.png'\n",
    "fig5a = f'{output_dir}/figures/fig5a.png'\n",
    "fig5b = f'{output_dir}/figures/fig5b.png'\n",
    "fig6a = f'{output_dir}/figures/fig6a.png'\n",
    "fig6b = f'{output_dir}/figures/fig6b.png'\n",
    "table1 = f'{output_dir}/tables/table1.csv'\n",
    "for subdir in ['figures', 'tables']:\n",
    "    os.makedirs(f'{output_dir}/{subdir}', exist_ok=True)"
   ]
  },
  {
   "cell_type": "code",
   "execution_count": 4,
   "metadata": {},
   "outputs": [],
   "source": [
    "df_amazon = pd.read_csv(fn_amazon, compression='gzip')"
   ]
  },
  {
   "cell_type": "code",
   "execution_count": 5,
   "metadata": {},
   "outputs": [],
   "source": [
    "df_products = pd.read_csv(fn_products, compression='gzip')\n",
    "df_amazon = pd.read_csv(fn_amazon, compression='gzip')\n",
    "keywords = pd.read_csv(fn_queries)"
   ]
  },
  {
   "cell_type": "code",
   "execution_count": 6,
   "metadata": {},
   "outputs": [],
   "source": [
    "df_search = pd.read_csv(fn_search, compression='gzip')"
   ]
  },
  {
   "cell_type": "code",
   "execution_count": 7,
   "metadata": {},
   "outputs": [
    {
     "data": {
      "text/plain": [
       "137420"
      ]
     },
     "execution_count": 7,
     "metadata": {},
     "output_type": "execute_result"
    }
   ],
   "source": [
    "amazon_asin = set(df_amazon.asin.tolist())\n",
    "len(amazon_asin)"
   ]
  },
  {
   "cell_type": "code",
   "execution_count": 8,
   "metadata": {},
   "outputs": [],
   "source": [
    "# pd.DataFrame({'asin' : df_top.asin.unique()}).to_csv('../data/intermediary/top_search_asins.csv.gz', index=False, compression='gzip')"
   ]
  },
  {
   "cell_type": "markdown",
   "metadata": {},
   "source": [
    "## merge data"
   ]
  },
  {
   "cell_type": "code",
   "execution_count": 8,
   "metadata": {},
   "outputs": [
    {
     "data": {
      "text/plain": [
       "4567"
      ]
     },
     "execution_count": 8,
     "metadata": {},
     "output_type": "execute_result"
    }
   ],
   "source": [
    "_df_search = df_search[df_search.product_type.isin(['regular_placement'])]\n",
    "\n",
    "searches_with_amazon_brands = _df_search[\n",
    "    _df_search.asin.isin(amazon_asin)\n",
    "].search_term.unique()\n",
    "len(searches_with_amazon_brands)"
   ]
  },
  {
   "cell_type": "code",
   "execution_count": 9,
   "metadata": {},
   "outputs": [],
   "source": [
    "_df_search = _df_search[_df_search.search_term.isin(searches_with_amazon_brands)].merge(df_products, how='left')\n",
    "_df_search['is_amazon'] = _df_search.asin.isin(amazon_asin)"
   ]
  },
  {
   "cell_type": "code",
   "execution_count": 10,
   "metadata": {},
   "outputs": [
    {
     "data": {
      "text/plain": [
       "asin                                                              B086VR2KY8\n",
       "product_name               All-New Toshiba 50LF621U21 50-inch Smart 4K UH...\n",
       "stars                                                                    4.6\n",
       "reviews                                                                 5282\n",
       "brand                                                                    NaN\n",
       "product_url                /gp/slredirect/picassoRedirect.html/ref=pa_sp_...\n",
       "is_prime                                                                True\n",
       "is_fresh                                                               False\n",
       "is_sponsored                                                           False\n",
       "is_featured_brand                                                       True\n",
       "is_amazons_choice                                                      False\n",
       "is_best_seller                                                         False\n",
       "product_order                                                              1\n",
       "search_term                                                 50 inch smart tv\n",
       "product_type                                               regular_placement\n",
       "filename                   ../data/input/search-selenium/5/50/50 inch sma...\n",
       "fn                         ../data/input/selenium-products/6/6V/B086VR2KY...\n",
       "shipped_by                                                          Best Buy\n",
       "sold_by                                                             Best Buy\n",
       "has_third_party_sellers                                                False\n",
       "product_by_amazon                                                      False\n",
       "our_brands_carousel                                                    False\n",
       "ads                                                                       []\n",
       "suggestions                ['B086VR2KY8', 'B086VR2KY8', 'B086VR2KY8', 'B0...\n",
       "n_ads                                                                      0\n",
       "is_amazon                                                               True\n",
       "is_sold_by_amazon                                                      False\n",
       "is_shipped_by_amazon                                                   False\n",
       "Name: 0, dtype: object"
      ]
     },
     "execution_count": 10,
     "metadata": {},
     "output_type": "execute_result"
    }
   ],
   "source": [
    "_df_search.iloc[0]"
   ]
  },
  {
   "cell_type": "code",
   "execution_count": 11,
   "metadata": {},
   "outputs": [],
   "source": [
    "_df_search[\"is_shipped_by_amazon_TRUE\"] = _df_search.apply(lambda x: any([x['is_shipped_by_amazon'], \n",
    "                                x['is_fresh'], x['is_prime']]), axis=1)"
   ]
  },
  {
   "cell_type": "code",
   "execution_count": 12,
   "metadata": {},
   "outputs": [],
   "source": [
    "kw_generic = keywords[keywords['source'] == 'generic'].search_term\n",
    "kw_seller = keywords[keywords['source'] == 'seller'].search_term\n",
    "kw_autocomplete = keywords[keywords['source'].isin(\n",
    "    ['autocomplete amazon', 'autocomplete walmart']\n",
    ")].search_term"
   ]
  },
  {
   "cell_type": "code",
   "execution_count": 13,
   "metadata": {},
   "outputs": [
    {
     "data": {
      "text/plain": [
       "11342"
      ]
     },
     "execution_count": 13,
     "metadata": {},
     "output_type": "execute_result"
    }
   ],
   "source": [
    "top_searches = set(kw_autocomplete.tolist() + kw_seller.tolist())\n",
    "len(top_searches)"
   ]
  },
  {
   "cell_type": "code",
   "execution_count": 14,
   "metadata": {},
   "outputs": [
    {
     "data": {
      "text/plain": [
       "(187534, 3492)"
      ]
     },
     "execution_count": 14,
     "metadata": {},
     "output_type": "execute_result"
    }
   ],
   "source": [
    "df_top = _df_search[\n",
    "    _df_search.search_term.isin(top_searches)\n",
    "]\n",
    "len(df_top), df_top.search_term.nunique()"
   ]
  },
  {
   "cell_type": "code",
   "execution_count": 15,
   "metadata": {},
   "outputs": [
    {
     "data": {
      "text/plain": [
       "0.30788220772350555"
      ]
     },
     "execution_count": 15,
     "metadata": {},
     "output_type": "execute_result"
    }
   ],
   "source": [
    "# how many searches had Amazon?\n",
    "df_top.search_term.nunique() / len(top_searches)"
   ]
  },
  {
   "cell_type": "code",
   "execution_count": 16,
   "metadata": {},
   "outputs": [
    {
     "data": {
      "text/plain": [
       "125769"
      ]
     },
     "execution_count": 16,
     "metadata": {},
     "output_type": "execute_result"
    }
   ],
   "source": [
    "# how many products?\n",
    "df_top.asin.nunique()"
   ]
  },
  {
   "cell_type": "code",
   "execution_count": 17,
   "metadata": {},
   "outputs": [
    {
     "data": {
      "text/plain": [
       "3492"
      ]
     },
     "execution_count": 17,
     "metadata": {},
     "output_type": "execute_result"
    }
   ],
   "source": [
    "df_top[df_top.product_order == 1].search_term.nunique()"
   ]
  },
  {
   "cell_type": "code",
   "execution_count": 18,
   "metadata": {},
   "outputs": [],
   "source": [
    "if not os.path.exists(fn_top_searches):\n",
    "    df_top.to_csv(fn_top_searches, index=False, compression='gzip')"
   ]
  },
  {
   "cell_type": "code",
   "execution_count": 19,
   "metadata": {},
   "outputs": [
    {
     "data": {
      "text/plain": [
       "(69287, 1217)"
      ]
     },
     "execution_count": 19,
     "metadata": {},
     "output_type": "execute_result"
    }
   ],
   "source": [
    "df_generic = _df_search[\n",
    "   _df_search.search_term.isin(kw_generic)\n",
    "]\n",
    "len(df_generic), df_generic.search_term.nunique()"
   ]
  },
  {
   "cell_type": "code",
   "execution_count": 20,
   "metadata": {},
   "outputs": [],
   "source": [
    "if not os.path.exists(fn_generic_searches):\n",
    "    df_generic.to_csv(fn_generic_searches, index=False, compression='gzip')"
   ]
  },
  {
   "cell_type": "markdown",
   "metadata": {},
   "source": [
    "## Aggregate data"
   ]
  },
  {
   "cell_type": "code",
   "execution_count": 21,
   "metadata": {},
   "outputs": [],
   "source": [
    "df = df_top"
   ]
  },
  {
   "cell_type": "code",
   "execution_count": 22,
   "metadata": {},
   "outputs": [
    {
     "data": {
      "text/html": [
       "<div>\n",
       "<style scoped>\n",
       "    .dataframe tbody tr th:only-of-type {\n",
       "        vertical-align: middle;\n",
       "    }\n",
       "\n",
       "    .dataframe tbody tr th {\n",
       "        vertical-align: top;\n",
       "    }\n",
       "\n",
       "    .dataframe thead th {\n",
       "        text-align: right;\n",
       "    }\n",
       "</style>\n",
       "<table border=\"1\" class=\"dataframe\">\n",
       "  <thead>\n",
       "    <tr style=\"text-align: right;\">\n",
       "      <th></th>\n",
       "      <th>count</th>\n",
       "      <th>percentage</th>\n",
       "    </tr>\n",
       "  </thead>\n",
       "  <tbody>\n",
       "    <tr>\n",
       "      <th>False</th>\n",
       "      <td>119866</td>\n",
       "      <td>0.953065</td>\n",
       "    </tr>\n",
       "    <tr>\n",
       "      <th>True</th>\n",
       "      <td>5903</td>\n",
       "      <td>0.046935</td>\n",
       "    </tr>\n",
       "  </tbody>\n",
       "</table>\n",
       "</div>"
      ],
      "text/plain": [
       "        count  percentage\n",
       "False  119866    0.953065\n",
       "True     5903    0.046935"
      ]
     },
     "execution_count": 22,
     "metadata": {},
     "output_type": "execute_result"
    }
   ],
   "source": [
    "value_counts(df.drop_duplicates(subset=['asin']), col='is_amazon')"
   ]
  },
  {
   "cell_type": "code",
   "execution_count": 23,
   "metadata": {},
   "outputs": [],
   "source": [
    "# Produce plots"
   ]
  },
  {
   "cell_type": "code",
   "execution_count": 24,
   "metadata": {},
   "outputs": [],
   "source": [
    "max_rank = 60\n",
    "n_samples = df.search_term.nunique()\n",
    "n_products = df.asin.nunique()"
   ]
  },
  {
   "cell_type": "code",
   "execution_count": 25,
   "metadata": {},
   "outputs": [],
   "source": [
    "df_s = df[df.is_sponsored == True]\n",
    "df_ns = df[df.is_sponsored == False]"
   ]
  },
  {
   "cell_type": "code",
   "execution_count": 26,
   "metadata": {},
   "outputs": [],
   "source": [
    "n_samples_sold = df[~df.sold_by.isnull()].search_term.nunique()\n",
    "n_samples_shipped = df[~df.shipped_by.isnull()].search_term.nunique()\n",
    "\n",
    "n_products_sold = df[~df.sold_by.isnull()].asin.nunique()\n",
    "n_products_shipped = df[~df.shipped_by.isnull()].asin.nunique()"
   ]
  },
  {
   "cell_type": "code",
   "execution_count": 27,
   "metadata": {},
   "outputs": [],
   "source": [
    "df_amazon = df_ns[df_ns.asin.isin(amazon_asin)]\n",
    "df_non_amazon = df_ns[(~df_ns.asin.isin(amazon_asin))]\n",
    "\n",
    "df_non_amazon_non_sold_ = df_ns[(~df_ns.asin.isin(amazon_asin)) & \n",
    "                               (df_ns.is_sold_by_amazon == False) &\n",
    "                               (df_ns.is_fresh == False)\n",
    "                              ]\n"
   ]
  },
  {
   "cell_type": "code",
   "execution_count": 28,
   "metadata": {},
   "outputs": [],
   "source": [
    "df_non_amazon_sold_by_amazon_ = df_ns[\n",
    "        (~df_ns.asin.isin(amazon_asin)) & \n",
    "        (df_ns.is_sold_by_amazon == True)\n",
    "    ]"
   ]
  },
  {
   "cell_type": "code",
   "execution_count": 29,
   "metadata": {},
   "outputs": [],
   "source": [
    "df_amazon_brand_ = df_ns[df_ns.asin.isin(amazon_asin)]\n",
    "df_non_amazon_brand_ = df_ns[\n",
    "    ~df_ns.asin.isin(df_amazon.asin)\n",
    "]\n",
    "\n",
    "df_amazon_sold_ = df_ns[df_ns.is_sold_by_amazon == True]\n",
    "df_not_amazon_sold_ = df_ns[df_ns.is_sold_by_amazon != True]\n",
    "\n",
    "df_prime_ =  df_ns[\n",
    "    (df_ns.is_prime == True) | \n",
    "    (df_ns.is_fresh == True)\n",
    "]\n",
    "\n",
    "df_non_amazon_ = df_ns[\n",
    "    (~df_ns.asin.isin(amazon_asin))\n",
    "  & (df_ns.is_sold_by_amazon == False)\n",
    "  & (df_ns.is_shipped_by_amazon == False)\n",
    "  & (df_ns.is_prime == False) \n",
    "  & (df_ns.is_fresh == False)\n",
    "]"
   ]
  },
  {
   "cell_type": "code",
   "execution_count": 30,
   "metadata": {},
   "outputs": [
    {
     "data": {
      "text/plain": [
       "0.17317926349355317"
      ]
     },
     "execution_count": 30,
     "metadata": {},
     "output_type": "execute_result"
    }
   ],
   "source": [
    "len(df[df.is_sponsored]) / len(df)"
   ]
  },
  {
   "cell_type": "code",
   "execution_count": 31,
   "metadata": {},
   "outputs": [],
   "source": [
    "def proportion(row):\n",
    "    if row['Perc #1 spot'] > row['Perc Products']:\n",
    "        val = row['Perc #1 spot'] / row['Perc Products']\n",
    "        val = np.round(val, 1)\n",
    "        return f\"{val}x more\"\n",
    "    elif row['Perc #1 spot'] < row['Perc Products']:\n",
    "        val = row['Perc Products'] / row['Perc #1 spot']\n",
    "        val = np.round(val, 1)\n",
    "        return f\"{val}x less\""
   ]
  },
  {
   "cell_type": "code",
   "execution_count": 32,
   "metadata": {},
   "outputs": [
    {
     "data": {
      "text/html": [
       "<div>\n",
       "<style scoped>\n",
       "    .dataframe tbody tr th:only-of-type {\n",
       "        vertical-align: middle;\n",
       "    }\n",
       "\n",
       "    .dataframe tbody tr th {\n",
       "        vertical-align: top;\n",
       "    }\n",
       "\n",
       "    .dataframe thead th {\n",
       "        text-align: right;\n",
       "    }\n",
       "</style>\n",
       "<table border=\"1\" class=\"dataframe\">\n",
       "  <thead>\n",
       "    <tr style=\"text-align: right;\">\n",
       "      <th></th>\n",
       "      <th>Category</th>\n",
       "      <th>Perc Products</th>\n",
       "      <th>Perc #1 spot</th>\n",
       "      <th>Perc first row</th>\n",
       "    </tr>\n",
       "  </thead>\n",
       "  <tbody>\n",
       "    <tr>\n",
       "      <th>0</th>\n",
       "      <td>Wholly Non-Amazon</td>\n",
       "      <td>10.852965</td>\n",
       "      <td>4.553265</td>\n",
       "      <td>14.977090</td>\n",
       "    </tr>\n",
       "    <tr>\n",
       "      <th>1</th>\n",
       "      <td>Amazon</td>\n",
       "      <td>5.801081</td>\n",
       "      <td>19.530355</td>\n",
       "      <td>24.770905</td>\n",
       "    </tr>\n",
       "    <tr>\n",
       "      <th>2</th>\n",
       "      <td>Non-Amazon</td>\n",
       "      <td>76.880992</td>\n",
       "      <td>20.819015</td>\n",
       "      <td>63.516609</td>\n",
       "    </tr>\n",
       "    <tr>\n",
       "      <th>3</th>\n",
       "      <td>Non-Amazon Brand and Not Amazon Sold</td>\n",
       "      <td>54.902578</td>\n",
       "      <td>13.545246</td>\n",
       "      <td>46.048110</td>\n",
       "    </tr>\n",
       "    <tr>\n",
       "      <th>4</th>\n",
       "      <td>Amazon product not featured</td>\n",
       "      <td>4.611964</td>\n",
       "      <td>1.947308</td>\n",
       "      <td>8.218786</td>\n",
       "    </tr>\n",
       "    <tr>\n",
       "      <th>5</th>\n",
       "      <td>Sponsored</td>\n",
       "      <td>17.317926</td>\n",
       "      <td>59.650630</td>\n",
       "      <td>75.286369</td>\n",
       "    </tr>\n",
       "    <tr>\n",
       "      <th>6</th>\n",
       "      <td>Amazon sold</td>\n",
       "      <td>25.549500</td>\n",
       "      <td>20.733104</td>\n",
       "      <td>44.186712</td>\n",
       "    </tr>\n",
       "    <tr>\n",
       "      <th>7</th>\n",
       "      <td>Amazon sold non-Amazon</td>\n",
       "      <td>21.142300</td>\n",
       "      <td>7.016037</td>\n",
       "      <td>30.670103</td>\n",
       "    </tr>\n",
       "    <tr>\n",
       "      <th>8</th>\n",
       "      <td>Non-Amazon sold</td>\n",
       "      <td>57.132573</td>\n",
       "      <td>19.616266</td>\n",
       "      <td>51.718213</td>\n",
       "    </tr>\n",
       "    <tr>\n",
       "      <th>9</th>\n",
       "      <td>Amazon Shipped</td>\n",
       "      <td>71.672870</td>\n",
       "      <td>35.595647</td>\n",
       "      <td>70.217640</td>\n",
       "    </tr>\n",
       "    <tr>\n",
       "      <th>10</th>\n",
       "      <td>Amazon Shipped non-Amazon</td>\n",
       "      <td>66.027494</td>\n",
       "      <td>16.265750</td>\n",
       "      <td>58.705613</td>\n",
       "    </tr>\n",
       "  </tbody>\n",
       "</table>\n",
       "</div>"
      ],
      "text/plain": [
       "                                Category  Perc Products  Perc #1 spot  \\\n",
       "0                      Wholly Non-Amazon      10.852965      4.553265   \n",
       "1                                 Amazon       5.801081     19.530355   \n",
       "2                             Non-Amazon      76.880992     20.819015   \n",
       "3   Non-Amazon Brand and Not Amazon Sold      54.902578     13.545246   \n",
       "4            Amazon product not featured       4.611964      1.947308   \n",
       "5                              Sponsored      17.317926     59.650630   \n",
       "6                            Amazon sold      25.549500     20.733104   \n",
       "7                 Amazon sold non-Amazon      21.142300      7.016037   \n",
       "8                        Non-Amazon sold      57.132573     19.616266   \n",
       "9                         Amazon Shipped      71.672870     35.595647   \n",
       "10             Amazon Shipped non-Amazon      66.027494     16.265750   \n",
       "\n",
       "    Perc first row  \n",
       "0        14.977090  \n",
       "1        24.770905  \n",
       "2        63.516609  \n",
       "3        46.048110  \n",
       "4         8.218786  \n",
       "5        75.286369  \n",
       "6        44.186712  \n",
       "7        30.670103  \n",
       "8        51.718213  \n",
       "9        70.217640  \n",
       "10       58.705613  "
      ]
     },
     "execution_count": 32,
     "metadata": {},
     "output_type": "execute_result"
    }
   ],
   "source": [
    "res = calculate_table_not_unique(df, amazon_asin)\n",
    "res"
   ]
  },
  {
   "cell_type": "code",
   "execution_count": 33,
   "metadata": {},
   "outputs": [],
   "source": [
    "def bar_plots(data, figsize=(12,4)):\n",
    "    cat2color = {\n",
    "        'percent of all products' : 'black',\n",
    "        'percent of #1 spot': 'grey'\n",
    "    }\n",
    "    label2label = {\n",
    "\n",
    "    }\n",
    "    colors = list(cat2color.values())\n",
    "\n",
    "    legend_elements = [Line2D([0], [0], marker='o', color='w', \n",
    "                              label=label,\n",
    "                              markerfacecolor=c, markersize=10)\n",
    "                       for label, c in cat2color.items()][::-1]\n",
    "\n",
    "\n",
    "    ax = data[::-1].plot(\n",
    "        kind='barh',\n",
    "        x='Category', y=['Perc Products', 'Perc #1 spot'],\n",
    "        figsize=figsize,\n",
    "        color=['black', 'grey'],\n",
    "    )\n",
    "\n",
    "    plt.title(f\"What Kind of Products are on Amazon Search Pages (N={df.search_term.nunique():,})\",\n",
    "             x=0.48,\n",
    "             y=1.05,\n",
    "             size=15.5)\n",
    "\n",
    "    ax.legend(handles=legend_elements,\n",
    "          loc='lower left', \n",
    "          bbox_to_anchor= (-.01, 1.015), ncol=2,\n",
    "          handletextpad=0.0,\n",
    "          labelspacing=0, \n",
    "          borderaxespad=.1, \n",
    "          borderpad=0.1,\n",
    "          frameon=False,\n",
    "          prop={'size': 9.2}\n",
    "         )\n",
    "\n",
    "    ax.set_xlabel('Percentage of products (black) and searches (grey)')\n",
    "    ax.yaxis.set_label_text(\"\")\n",
    "    # Hide the right and top spines\n",
    "    ax.spines['right'].set_visible(False)\n",
    "    ax.spines['top'].set_visible(False)\n",
    "\n",
    "    # Only show ticks on the left and bottom spines\n",
    "    ax.yaxis.set_ticks_position('left')\n",
    "    ax.xaxis.set_ticks_position('bottom')\n",
    "    \n",
    "    return ax.get_figure()"
   ]
  },
  {
   "cell_type": "code",
   "execution_count": 442,
   "metadata": {},
   "outputs": [
    {
     "data": {
      "image/png": "[encoded data removed]",
      "text/plain": [
       "<Figure size 864x360 with 1 Axes>"
      ]
     },
     "metadata": {
      "needs_background": "light"
     },
     "output_type": "display_data"
    }
   ],
   "source": [
    "fig = bar_plots(res[res.Category.isin(['Amazon', 'Non-Amazon', 'Wholly Non-Amazon'])], figsize=(12,5))\n",
    "fig.savefig(fig3)"
   ]
  },
  {
   "cell_type": "code",
   "execution_count": 443,
   "metadata": {},
   "outputs": [
    {
     "data": {
      "image/png": "[encoded data removed]",
      "text/plain": [
       "<Figure size 864x360 with 1 Axes>"
      ]
     },
     "metadata": {
      "needs_background": "light"
     },
     "output_type": "display_data"
    }
   ],
   "source": [
    "fig = bar_plots(res[res.Category.isin(['Amazon sold', 'Non-Amazon sold', 'Sponsored'])], figsize=(12,5))\n",
    "fig.savefig(fig4)"
   ]
  },
  {
   "cell_type": "code",
   "execution_count": 63,
   "metadata": {},
   "outputs": [],
   "source": [
    "cat2color = {\n",
    "    'Amazon' : \"#ff9900\",\n",
    "    'Non-Amazon' : \"#ffb65f\",\n",
    "    'Sponsored': '#DB4437',\n",
    "    'Non-Sponsored': '#ee7e6c',\n",
    "    'Amazon sold': '#146eb4',\n",
    "    'Amazon sold non-Amazon': '#ffb65f',\n",
    "    'Non-Amazon sold': '#aabedf',\n",
    "    'Wholly Non-Amazon': 'black',\n",
    "    'Non-Amazon Brand and Not Amazon Sold' : '#001950'\n",
    "}"
   ]
  },
  {
   "cell_type": "code",
   "execution_count": 64,
   "metadata": {},
   "outputs": [],
   "source": [
    "mkr_dict = {\n",
    "    'Wholly Non-Amazon': {\n",
    "        'marker' : 'v',\n",
    "        'color': ''\n",
    "    },\n",
    "    'Non-Amazon': {\n",
    "        'marker' : 'o',\n",
    "        'color' : ''\n",
    "    }, \n",
    "    'Amazon sold' : {\n",
    "        'marker': '+',\n",
    "        'color' : ''\n",
    "    },\n",
    "    'Non-Amazon sold': {\n",
    "        'marker': '+',\n",
    "        'color' : ''\n",
    "    },\n",
    "    'Non-Amazon Brand and Not Amazon Sold' : {\n",
    "        'marker': '-',\n",
    "        'color': ''\n",
    "    },\n",
    "    'Amazon': {\n",
    "        'marker': 'o',\n",
    "        'color' : ''\n",
    "    },\n",
    "    'Sponsored' : {\n",
    "        'marker' : '*',\n",
    "        'color' : ''\n",
    "    },\n",
    "    'Amazon sold non-Amazon': {\n",
    "        'marker' : '2',\n",
    "        'color' : ''\n",
    "    },\n",
    "\n",
    "}"
   ]
  },
  {
   "cell_type": "code",
   "execution_count": 60,
   "metadata": {},
   "outputs": [
    {
     "data": {
      "image/png": "[encoded data removed]",
      "text/plain": [
       "<Figure size 576x432 with 1 Axes>"
      ]
     },
     "metadata": {
      "needs_background": "light"
     },
     "output_type": "display_data"
    }
   ],
   "source": [
    "to_check = ['Amazon', 'Non-Amazon', 'Wholly Non-Amazon', 'Sponsored']\n",
    "to_check = [\n",
    "    'Amazon', \n",
    "    'Non-Amazon',\n",
    "    'Amazon sold non-Amazon',\n",
    "    'Non-Amazon sold',\n",
    "    'Amazon sold', \n",
    "    'Wholly Non-Amazon', \n",
    "    'Sponsored'\n",
    "]\n",
    "# to_check = ['Amazon sold', 'Non-Amazon sold', 'Non-Amazon Brand and Not Amazon Sold']\n",
    "to_plot = res[res.Category.isin(to_check)]\n",
    "plt.figure(figsize=(8, 6))\n",
    "plt.title(\"Some Title\")\n",
    "ax = plt.gca()\n",
    "for kind in to_check:\n",
    "    d = to_plot[to_plot.Category==kind]\n",
    "    plt.scatter(y=d['Perc Products'],\n",
    "                x=d['Perc #1 spot'],\n",
    "                c=cat2color[kind],\n",
    "                s=55,\n",
    "                alpha=.9,\n",
    "                label=kind,\n",
    "                marker = mkr_dict[kind]['marker'])\n",
    "    ax.annotate(kind, (d['Perc #1 spot'] + 2,\n",
    "                       d['Perc Products']))\n",
    "\n",
    "# Hide the right and top spines\n",
    "ax.spines['right'].set_visible(False)\n",
    "ax.spines['top'].set_visible(False)\n",
    "\n",
    "# Only show ticks on the left and bottom spines\n",
    "ax.yaxis.set_ticks_position('left')\n",
    "ax.xaxis.set_ticks_position('bottom')\n",
    "\n",
    "ax.set_xlabel('Percentage of top spot')\n",
    "ax.set_ylabel('Percentage of products')\n",
    "\n",
    "ax.set_xlim(0, 75)\n",
    "ax.set_ylim(0, 100)\n",
    "\n",
    "ax.set_xlabel('Percentage of top spots')\n",
    "ax.set_ylabel('Percentage of products')\n",
    "ax.plot([0, 75], [0, 100], color='grey', alpha=.4)\n",
    "\n",
    "\n",
    "ax.yaxis.get_major_ticks()[0].label1.set_visible(False)"
   ]
  },
  {
   "cell_type": "code",
   "execution_count": 65,
   "metadata": {},
   "outputs": [
    {
     "data": {
      "image/png": "[encoded data removed]",
      "text/plain": [
       "<Figure size 576x432 with 1 Axes>"
      ]
     },
     "metadata": {
      "needs_background": "light"
     },
     "output_type": "display_data"
    }
   ],
   "source": [
    "cats = [\n",
    "    [\n",
    "        'Sponsored'\n",
    "    ],\n",
    "    [\n",
    "        'Amazon', \n",
    "        'Non-Amazon',\n",
    "    ],\n",
    "#     [\n",
    "#         'Non-Amazon sold',\n",
    "#         'Amazon sold', \n",
    "#     ],\n",
    "#      [\n",
    "        \n",
    "#         'Amazon sold non-Amazon',\n",
    "#     ],\n",
    "    [ \n",
    "        'Wholly Non-Amazon', \n",
    "    ],\n",
    "]\n",
    "plt.figure(figsize=(8, 6))\n",
    "plt.title(\"What kind of products get the top search result on Amazon?\")\n",
    "ax = plt.gca()\n",
    "\n",
    "for i, to_check in enumerate(cats):\n",
    "    fn_out = f'../data/output/animation/fig_{i}.png'\n",
    "    to_plot = res[res.Category.isin(to_check)]\n",
    "    \n",
    "    \n",
    "    # Hide the right and top spines\n",
    "    ax.spines['right'].set_visible(False)\n",
    "    ax.spines['top'].set_visible(False)\n",
    "\n",
    "    # Only show ticks on the left and bottom spines\n",
    "    ax.yaxis.set_ticks_position('left')\n",
    "    ax.xaxis.set_ticks_position('bottom')\n",
    "\n",
    "    ax.set_ylabel('Percentage of top spots')\n",
    "    ax.set_xlabel('Percentage of products')\n",
    "\n",
    "    ax.set_ylim(0, 75)\n",
    "    ax.set_xlim(0, 80) \n",
    "    ax.yaxis.get_major_ticks()[0].label1.set_visible(False)\n",
    "    \n",
    "    for kind in to_check:\n",
    "        d = to_plot[to_plot.Category==kind]\n",
    "        if kind in ['Non-Amazon sold', 'Wholly Non-Amazon']:\n",
    "            ax.annotate(kind, (d['Perc Products'] + 1.5,\n",
    "                           d['Perc #1 spot'] - 2))\n",
    "        else:\n",
    "            ax.annotate(kind, (d['Perc Products'] + 1.6,\n",
    "                               d['Perc #1 spot']))\n",
    "        for j in range(1,6):\n",
    "            plt.scatter(x=d['Perc Products'],\n",
    "                        y=d['Perc #1 spot'],\n",
    "                        c=cat2color[kind],\n",
    "                        s=55,\n",
    "                        alpha=.2 * j,\n",
    "                        label=kind,\n",
    "                        marker = mkr_dict[kind]['marker'])\n",
    "           \n",
    "\n",
    "            fn_out = f'../data/output/animation/fig_{i}_{j:02d}.png'\n",
    "            plt.savefig(fn_out);\n",
    "            \n",
    "ax.plot([0, 100], [0, 100],  '--', alpha=.4, color='grey')\n",
    "ax.annotate(\"proportionally more\", \n",
    "            (52, 55), rotation=38)\n",
    "ax.annotate(\"proportionally less\", \n",
    "            (54.5, 51), rotation=38)\n",
    "for j in range(7, 16):\n",
    "    fn_out = f'../data/output/animation/fig_{i}_{j:02d}.png'\n",
    "    plt.savefig(fn_out);"
   ]
  },
  {
   "cell_type": "code",
   "execution_count": 145,
   "metadata": {},
   "outputs": [],
   "source": [
    "import glob\n",
    "from PIL import Image\n",
    "\n",
    "# filepaths\n",
    "fp_in = \"../data/output/animation/*.png\"\n",
    "fp_out = \"../data/output/animation/image.gif\"\n",
    "\n",
    "# https://pillow.readthedocs.io/en/stable/handbook/image-file-formats.html#gif\n",
    "img, *imgs = [Image.open(f) for f in sorted(glob.glob(fp_in))]\n",
    "img.save(fp=fp_out, format='GIF', append_images=imgs,\n",
    "         save_all=True, duration=250, loop=0, optimize=True)"
   ]
  },
  {
   "cell_type": "code",
   "execution_count": 123,
   "metadata": {},
   "outputs": [],
   "source": [
    "control = (df.product_order.value_counts()\n",
    "    .sort_index()\n",
    "    .reindex(pd.RangeIndex(1, 61))[::-1])"
   ]
  },
  {
   "cell_type": "code",
   "execution_count": 124,
   "metadata": {},
   "outputs": [],
   "source": [
    "def heatmap(df, control, cmap, title, vmin=0, vmax=100):\n",
    "    \"\"\"Produces a heatmap of product slots\"\"\"\n",
    "    amazn_label = (df\n",
    "        .product_order.value_counts()\n",
    "        .sort_index()\n",
    "        .reindex(pd.RangeIndex(1, 61))[::-1])\n",
    " \n",
    "    amazn_label = amazn_label / control * 100\n",
    "    \n",
    "    amazn_label_grid = amazn_label.iloc[::-1].values.reshape(15, 4)\n",
    "    # amazn_label_grid = (amazn_label / amazn_label.sum() * 100).iloc[::-1].values.reshape(15, 4)\n",
    "\n",
    "    amazn_label_grid = pd.DataFrame(amazn_label_grid)\n",
    "    amazn_label_grid.index = [_ + 1 for _ in amazn_label_grid.index]\n",
    "    amazn_label_grid.columns = [_ + 1 for _ in amazn_label_grid.columns]\n",
    "\n",
    "    fig = plt.figure(figsize=(6,12))\n",
    "    sns.heatmap(amazn_label_grid,\n",
    "                linewidths=4,\n",
    "                fmt='g',\n",
    "                cmap=cmap,\n",
    "                vmin=vmax,\n",
    "                vmax=vmin)\n",
    "    plt.title(title)\n",
    "    plt.ylabel(\"⟵ Rows of products going down the page\")\n",
    "    plt.xlabel(\"Columns of products across the page\")\n",
    "    plt.yticks(rotation=0)\n",
    "    \n",
    "    return fig"
   ]
  },
  {
   "cell_type": "code",
   "execution_count": 125,
   "metadata": {},
   "outputs": [
    {
     "data": {
      "text/plain": [
       "3.532968501175046"
      ]
     },
     "execution_count": 125,
     "metadata": {},
     "output_type": "execute_result"
    }
   ],
   "source": [
    "amazn_label = (df_amazon_brand_\n",
    "    .product_order.value_counts()\n",
    "    .sort_index()\n",
    "    .reindex(pd.RangeIndex(1, 61)))\n",
    "\n",
    "amazn_label = amazn_label / control * 100\n",
    "amazn_label[1] / amazn_label[1:59].mean()"
   ]
  },
  {
   "cell_type": "code",
   "execution_count": 136,
   "metadata": {},
   "outputs": [
    {
     "data": {
      "image/png": "[encoded data removed]",
      "text/plain": [
       "<Figure size 432x864 with 2 Axes>"
      ]
     },
     "metadata": {
      "needs_background": "light"
     },
     "output_type": "display_data"
    }
   ],
   "source": [
    "cmap = LinearSegmentedColormap.from_list(\n",
    "    'mycmap', ['#f9f9f9', \"#ff9900\"]\n",
    ")\n",
    "fig = heatmap(\n",
    "    df_amazon_brand_, control,\n",
    "    cmap = LinearSegmentedColormap.from_list(None, ['#f9f9f9', \"#ff9900\"]),\n",
    "    title=f\"Where are Amazon Products Placed\\nDown and Across the Search Page? (N={n_samples:,})\",\n",
    "    vmax=20, vmin=2\n",
    ")\n",
    "fig.savefig(fig5a);"
   ]
  },
  {
   "cell_type": "code",
   "execution_count": 132,
   "metadata": {},
   "outputs": [
    {
     "data": {
      "image/png": "[encoded data removed]",
      "text/plain": [
       "<Figure size 432x864 with 2 Axes>"
      ]
     },
     "metadata": {
      "needs_background": "light"
     },
     "output_type": "display_data"
    }
   ],
   "source": [
    "fig = heatmap(\n",
    "    df_non_amazon, control,\n",
    "    cmap = LinearSegmentedColormap.from_list(None, ['#f9f9f9', 'black']),\n",
    "    title=f\"Where are Non-Amazon Products Placed\\nDown and Across the Search Page? (N={n_samples:,})\",\n",
    ")\n",
    "fig.savefig(fig5b)"
   ]
  },
  {
   "cell_type": "code",
   "execution_count": 142,
   "metadata": {},
   "outputs": [
    {
     "data": {
      "image/png": "[encoded data removed]",
      "text/plain": [
       "<Figure size 432x864 with 2 Axes>"
      ]
     },
     "metadata": {
      "needs_background": "light"
     },
     "output_type": "display_data"
    }
   ],
   "source": [
    "fig = heatmap(\n",
    "    df_non_amazon_, control,\n",
    "    cmap = LinearSegmentedColormap.from_list(None, ['#f9f9f9', 'black']),\n",
    "    title=f\"Where are Wholly Non-Amazon Products Placed\\nDown and Across the Search Page? (N={n_samples:,})\",\n",
    "    vmax=20, vmin=2\n",
    ")\n",
    "fig.savefig(fig5b)"
   ]
  },
  {
   "cell_type": "code",
   "execution_count": 36,
   "metadata": {},
   "outputs": [
    {
     "data": {
      "image/png": "[encoded data removed]",
      "text/plain": [
       "<Figure size 432x864 with 2 Axes>"
      ]
     },
     "metadata": {
      "needs_background": "light"
     },
     "output_type": "display_data"
    }
   ],
   "source": [
    "fig = heatmap(\n",
    "    df_s, control, \n",
    "    cmap=LinearSegmentedColormap.from_list(None, ['#f9f9f9', '#DB4437']),\n",
    "    title=f\"Where are Sponsored Products Placed\\nDown and Across the Search Page? (N={n_samples:,})\"\n",
    ")\n",
    "fig.savefig(fig6a)"
   ]
  },
  {
   "cell_type": "code",
   "execution_count": 37,
   "metadata": {},
   "outputs": [
    {
     "data": {
      "image/png": "[encoded data removed]",
      "text/plain": [
       "<Figure size 432x864 with 2 Axes>"
      ]
     },
     "metadata": {
      "needs_background": "light"
     },
     "output_type": "display_data"
    }
   ],
   "source": [
    "fig = heatmap(\n",
    "    df_amazon_sold_, control, \n",
    "    cmap=LinearSegmentedColormap.from_list(None, ['#f9f9f9', '#00674b']),\n",
    "    title=f\"Where are Amazon-Sold Products Placed\\nDown and Across the Search Page? (N={n_samples:,})\"\n",
    ")\n",
    "fig.savefig(fig6b)"
   ]
  },
  {
   "cell_type": "code",
   "execution_count": 92,
   "metadata": {},
   "outputs": [
    {
     "data": {
      "image/png": "[encoded data removed]",
      "text/plain": [
       "<Figure size 432x864 with 2 Axes>"
      ]
     },
     "metadata": {
      "needs_background": "light"
     },
     "output_type": "display_data"
    }
   ],
   "source": [
    "fig = heatmap(\n",
    "    df_non_amazon_sold_by_amazon_, control, \n",
    "    cmap=LinearSegmentedColormap.from_list(None, ['#f9f9f9', '#00674b']),\n",
    "    title=f\"Where are Amazon-Sold Third-Party Products Placed\\nDown and Across the Search Page? (N={n_samples:,})\"\n",
    ")"
   ]
  },
  {
   "cell_type": "code",
   "execution_count": null,
   "metadata": {},
   "outputs": [],
   "source": [
    "fig = heatmap(\n",
    "    df_amazon_sold_, control, \n",
    "    cmap=LinearSegmentedColormap.from_list(None, ['#f9f9f9', '#00674b']),\n",
    "    title=f\"Where are Amazon-Sold Products Placed\\nDown and Across the Search Page? (N={n_samples:,})\"\n",
    ")\n",
    "fig.savefig(fig6b)"
   ]
  },
  {
   "cell_type": "code",
   "execution_count": 38,
   "metadata": {},
   "outputs": [],
   "source": [
    "# summary statisics"
   ]
  },
  {
   "cell_type": "code",
   "execution_count": 39,
   "metadata": {},
   "outputs": [],
   "source": [
    "unique_products = df.drop_duplicates('asin')\n",
    "n_unique_products = unique_products.asin.nunique()"
   ]
  },
  {
   "cell_type": "code",
   "execution_count": 40,
   "metadata": {},
   "outputs": [
    {
     "data": {
      "text/plain": [
       "0.04693525431545134"
      ]
     },
     "execution_count": 40,
     "metadata": {},
     "output_type": "execute_result"
    }
   ],
   "source": [
    "# what percentage of products are amazon\n",
    "len(unique_products[unique_products.asin.isin(amazon_asin)]) / n_unique_products"
   ]
  },
  {
   "cell_type": "code",
   "execution_count": null,
   "metadata": {},
   "outputs": [],
   "source": []
  },
  {
   "cell_type": "code",
   "execution_count": 36,
   "metadata": {},
   "outputs": [],
   "source": [
    "## Not Clearly Labelled"
   ]
  },
  {
   "cell_type": "code",
   "execution_count": 41,
   "metadata": {},
   "outputs": [
    {
     "data": {
      "text/plain": [
       "0.26088429612061664"
      ]
     },
     "execution_count": 41,
     "metadata": {},
     "output_type": "execute_result"
    }
   ],
   "source": [
    "# How many asins are Featured from our brands\n",
    "(df[df.is_featured_brand == True].asin.nunique() / \n",
    "df[df.asin.isin(amazon_asin)].asin.nunique())"
   ]
  },
  {
   "cell_type": "code",
   "execution_count": 113,
   "metadata": {},
   "outputs": [
    {
     "data": {
      "text/plain": [
       "0.1962855382448728"
      ]
     },
     "execution_count": 113,
     "metadata": {},
     "output_type": "execute_result"
    }
   ],
   "source": [
    "# How many asins are Featured from our brands\n",
    "(len(df[df.is_featured_brand == True]) / \n",
    "len(df[df.asin.isin(amazon_asin)]))"
   ]
  },
  {
   "cell_type": "code",
   "execution_count": 34,
   "metadata": {},
   "outputs": [],
   "source": [
    "amazon_missed_all = '|'.join([\n",
    "    'amazon basics',\n",
    "    'amazon essentials',\n",
    "    'whole foods market',\n",
    "    'amazon commercial',\n",
    "    'amazon collection',\n",
    "    'amazon fresh',\n",
    "    'amazon elements',\n",
    "    'amazonbasics'\n",
    "    '365 everyday value',\n",
    "    'amazon exclusive',\n",
    "    'amazon us exclusive',\n",
    "    'amazon brand'\n",
    "])\n",
    "\n",
    "amazon_missed = '|'.join([\n",
    "    'amazon basics',\n",
    "    'amazon essentials',\n",
    "#     'amazon exclusive',\n",
    "#     'amazon us exclusive',\n",
    "#     'amazon brand'\n",
    "    'whole foods market',\n",
    "    'amazon commercial',\n",
    "    'amazon collection',\n",
    "    'amazon fresh',\n",
    "    'amazon elements',\n",
    "    'amazonbasics'\n",
    "    '365 everyday value',\n",
    "])\n",
    "\n",
    "amazon_disclaimer = '|'.join([\n",
    "    'amazon exclusive',\n",
    "    'amazon us exclusive',\n",
    "    'amazon brand'\n",
    "])"
   ]
  },
  {
   "cell_type": "code",
   "execution_count": 35,
   "metadata": {},
   "outputs": [
    {
     "data": {
      "text/plain": [
       "0.4204641707606302"
      ]
     },
     "execution_count": 35,
     "metadata": {},
     "output_type": "execute_result"
    }
   ],
   "source": [
    "# How many contain a disclaimer\n",
    "(df[\n",
    "  ((df.is_featured_brand) | \n",
    "   (df.product_name.str.contains(amazon_disclaimer, case=False))) &\n",
    "  (df.asin.isin(amazon_asin))\n",
    "].asin.nunique() / \n",
    "\n",
    " df[df.asin.isin(amazon_asin)].asin.nunique())"
   ]
  },
  {
   "cell_type": "code",
   "execution_count": 36,
   "metadata": {},
   "outputs": [
    {
     "data": {
      "text/plain": [
       "0.2475012705404032"
      ]
     },
     "execution_count": 36,
     "metadata": {},
     "output_type": "execute_result"
    }
   ],
   "source": [
    "# how many items contains a name with known brand\n",
    "(df[\n",
    "  (df.product_name.str.contains(amazon_missed, case=False)) &\n",
    "  (df.asin.isin(amazon_asin))\n",
    "].asin.nunique() / \n",
    "\n",
    " df[df.asin.isin(amazon_asin)].asin.nunique())"
   ]
  },
  {
   "cell_type": "code",
   "execution_count": 37,
   "metadata": {},
   "outputs": [
    {
     "data": {
      "text/plain": [
       "0.4089446044384212"
      ]
     },
     "execution_count": 37,
     "metadata": {},
     "output_type": "execute_result"
    }
   ],
   "source": [
    "# How many do not contain a disclaimer\n",
    "1- (df[\n",
    "  ((df.product_name.str.contains(amazon_missed_all, case=False)) | \n",
    "   (df.is_featured_brand)) &\n",
    "  (df.asin.isin(amazon_asin))\n",
    "].asin.nunique() / \n",
    "\n",
    " df[df.asin.isin(amazon_asin)].asin.nunique())"
   ]
  },
  {
   "cell_type": "code",
   "execution_count": 38,
   "metadata": {},
   "outputs": [
    {
     "data": {
      "text/plain": [
       "0.8387978142076503"
      ]
     },
     "execution_count": 38,
     "metadata": {},
     "output_type": "execute_result"
    }
   ],
   "source": [
    "# perc of top amazon products with a \"featured from our brands\" tag\n",
    "(df[\n",
    "    (df.is_featured_brand) &\n",
    "    (df.asin.isin(amazon_asin)) &\n",
    "    (df.product_order == 1)\n",
    "].search_term.nunique()) / df[(df.asin.isin(amazon_asin)) & (df.product_order == 1)].search_term.nunique()"
   ]
  },
  {
   "cell_type": "code",
   "execution_count": 39,
   "metadata": {},
   "outputs": [
    {
     "data": {
      "text/plain": [
       "asin                                                                B086VR2KY8\n",
       "product_name                 All-New Toshiba 50LF621U21 50-inch Smart 4K UH...\n",
       "stars                                                                      4.6\n",
       "reviews                                                                   5282\n",
       "brand                                                                      NaN\n",
       "product_url                  /gp/slredirect/picassoRedirect.html/ref=pa_sp_...\n",
       "is_prime                                                                  True\n",
       "is_fresh                                                                 False\n",
       "is_sponsored                                                             False\n",
       "is_featured_brand                                                         True\n",
       "is_amazons_choice                                                        False\n",
       "is_best_seller                                                           False\n",
       "product_order                                                                1\n",
       "search_term                                                   50 inch smart tv\n",
       "product_type                                                 regular_placement\n",
       "filename                     ../data/input/search-selenium/5/50/50 inch sma...\n",
       "fn                           ../data/input/selenium-products/6/6V/B086VR2KY...\n",
       "shipped_by                                                            Best Buy\n",
       "sold_by                                                               Best Buy\n",
       "has_third_party_sellers                                                  False\n",
       "product_by_amazon                                                        False\n",
       "our_brands_carousel                                                      False\n",
       "ads                                                                         []\n",
       "suggestions                  ['B086VR2KY8', 'B086VR2KY8', 'B086VR2KY8', 'B0...\n",
       "n_ads                                                                        0\n",
       "is_amazon                                                                 True\n",
       "is_sold_by_amazon                                                        False\n",
       "is_shipped_by_amazon                                                     False\n",
       "is_shipped_by_amazon_TRUE                                                 True\n",
       "Name: 0, dtype: object"
      ]
     },
     "execution_count": 39,
     "metadata": {},
     "output_type": "execute_result"
    }
   ],
   "source": [
    "df.iloc[0]"
   ]
  },
  {
   "cell_type": "code",
   "execution_count": 40,
   "metadata": {},
   "outputs": [
    {
     "data": {
      "text/plain": [
       "0.43306010928961747"
      ]
     },
     "execution_count": 40,
     "metadata": {},
     "output_type": "execute_result"
    }
   ],
   "source": [
    "# perc of top amazon products with a known brand\n",
    "(df[\n",
    "    (df.product_name.str.contains(amazon_missed_all, case=False)) &\n",
    "    (df.asin.isin(amazon_asin)) &\n",
    "    (df.product_order == 1)\n",
    "].search_term.nunique()) / df[(df.asin.isin(amazon_asin)) & (df.product_order == 1)].search_term.nunique()"
   ]
  },
  {
   "cell_type": "code",
   "execution_count": 41,
   "metadata": {},
   "outputs": [
    {
     "data": {
      "text/plain": [
       "0.9221311475409836"
      ]
     },
     "execution_count": 41,
     "metadata": {},
     "output_type": "execute_result"
    }
   ],
   "source": [
    "# perc of top amazon products with a \"featured from our brands\" tag or known brand\n",
    "(df[\n",
    "    ((df.product_name.str.contains(amazon_missed_all, case=False)) | \n",
    "    (df.is_featured_brand)) &\n",
    "    (df.asin.isin(amazon_asin)) &\n",
    "    (df.product_order == 1)\n",
    "].search_term.nunique()) / df[(df.asin.isin(amazon_asin)) & (df.product_order == 1)].search_term.nunique()"
   ]
  },
  {
   "cell_type": "code",
   "execution_count": 50,
   "metadata": {},
   "outputs": [],
   "source": [
    "# perc of top amazon products with a \"featured from our brands\" tag or known brand\n",
    "(df[\n",
    "    ((~df.product_name.str.contains(amazon_missed_all, case=False)) | \n",
    "    (df.is_featured_brand == False)) &\n",
    "    (~df.asin.isin(amazon_asin)) &\n",
    "    (df.product_order == 1)\n",
    "][['asin', 'product_name']]).to_csv('../data/asins_top_products_not_labelled_but_are_amazon.csv', index=False)"
   ]
  },
  {
   "cell_type": "code",
   "execution_count": 252,
   "metadata": {},
   "outputs": [
    {
     "data": {
      "text/plain": [
       "0.08333333333333326"
      ]
     },
     "execution_count": 252,
     "metadata": {},
     "output_type": "execute_result"
    }
   ],
   "source": [
    "0.9221311475409836 - 0.8387978142076503"
   ]
  },
  {
   "cell_type": "code",
   "execution_count": 254,
   "metadata": {},
   "outputs": [
    {
     "data": {
      "text/plain": [
       "0.07786885245901642"
      ]
     },
     "execution_count": 254,
     "metadata": {},
     "output_type": "execute_result"
    }
   ],
   "source": [
    "1 - 0.9221311475409836"
   ]
  },
  {
   "cell_type": "markdown",
   "metadata": {},
   "source": [
    "## Bootstrap\n",
    "https://codingdisciple.com/bootstrap-hypothesis-testing.html"
   ]
  },
  {
   "cell_type": "code",
   "execution_count": 72,
   "metadata": {},
   "outputs": [],
   "source": [
    "def multi_bootstrap(i, n_top=1):\n",
    "    \"\"\"\n",
    "    Takes a sample of searches with random seed `i`, shuffles each search, \n",
    "    and checks\n",
    "    \"\"\"\n",
    "    bootstrap = resample(searches, replace=True, n_samples=n_size, random_state=i)\n",
    "    df_ = df.sample(frac=1, random_state=i)\n",
    "    amazon_hits = []\n",
    "    no_amazon_hits = []\n",
    "    sp_hits = []\n",
    "    \n",
    "    # check each shuffled search term\n",
    "    for search_term in bootstrap:\n",
    "        result = df_[df_.search_term == search_term]\n",
    "        # get the n top\n",
    "        result = result.iloc[:n_top]\n",
    "        result_non_spon = result[result.is_sponsored != True]\n",
    "        \n",
    "        hits_a = result_non_spon[result_non_spon.is_amazon == True]\n",
    "        hits_na = result_non_spon[result_non_spon.is_amazon != True]\n",
    "        hits_sp = result[result.is_sponsored == True]\n",
    "        \n",
    "        amazon_hits.append(len(hits_a.head(1)))\n",
    "        no_amazon_hits.append(len(hits_na.head(1)))\n",
    "        sp_hits.append(len(hits_sp.head(1)))\n",
    "        \n",
    "    avg_amazon = np.mean(amazon_hits)\n",
    "    avg_no_amazon = np.mean(no_amazon_hits)\n",
    "    avg_sponsored = np.mean(sp_hits)\n",
    "    \n",
    "    return {\n",
    "        'amazon': avg_amazon,\n",
    "        'no_amazon': avg_no_amazon,\n",
    "        'sponsored': avg_sponsored\n",
    "    }\n",
    "\n",
    "def multi_bootstrap_4(i):\n",
    "    return multi_bootstrap(i, n_top=4)"
   ]
  },
  {
   "cell_type": "code",
   "execution_count": 73,
   "metadata": {},
   "outputs": [],
   "source": [
    "def confidence_interval(stats, alpha=.95):\n",
    "    \"\"\"\n",
    "    Gets the upper and lower bounds with a `alpha` percent confidence interval\n",
    "    \"\"\"\n",
    "    p = ((1.0 - alpha) / 2.0) * 100\n",
    "    lower = np.percentile(stats, p)\n",
    "    upper = np.percentile(stats, 100 - p)\n",
    "    return lower * 100, upper * 100"
   ]
  },
  {
   "cell_type": "code",
   "execution_count": 74,
   "metadata": {},
   "outputs": [
    {
     "data": {
      "text/plain": [
       "3492"
      ]
     },
     "execution_count": 74,
     "metadata": {},
     "output_type": "execute_result"
    }
   ],
   "source": [
    "searches = df.search_term.unique()\n",
    "len(searches)"
   ]
  },
  {
   "cell_type": "code",
   "execution_count": 237,
   "metadata": {},
   "outputs": [],
   "source": [
    "n_bootstraps = 500\n",
    "n_size = 1000\n",
    "n_top = 4"
   ]
  },
  {
   "cell_type": "code",
   "execution_count": 240,
   "metadata": {},
   "outputs": [
    {
     "name": "stderr",
     "output_type": "stream",
     "text": [
      "100%|██████████| 500/500 [10:02<00:00,  1.20s/it]\n"
     ]
    }
   ],
   "source": [
    "data_bootstrap = []\n",
    "with Pool(processes=12) as pool:\n",
    "    for record in tqdm(pool.imap_unordered(multi_bootstrap, \n",
    "                                           range(n_bootstraps)), \n",
    "                       total=n_bootstraps):\n",
    "        data_bootstrap.append(record)\n",
    "df_bootstrap = pd.DataFrame(data_bootstrap)"
   ]
  },
  {
   "cell_type": "code",
   "execution_count": 241,
   "metadata": {},
   "outputs": [
    {
     "data": {
      "text/html": [
       "<div>\n",
       "<style scoped>\n",
       "    .dataframe tbody tr th:only-of-type {\n",
       "        vertical-align: middle;\n",
       "    }\n",
       "\n",
       "    .dataframe tbody tr th {\n",
       "        vertical-align: top;\n",
       "    }\n",
       "\n",
       "    .dataframe thead th {\n",
       "        text-align: right;\n",
       "    }\n",
       "</style>\n",
       "<table border=\"1\" class=\"dataframe\">\n",
       "  <thead>\n",
       "    <tr style=\"text-align: right;\">\n",
       "      <th></th>\n",
       "      <th>amazon</th>\n",
       "      <th>no_amazon</th>\n",
       "      <th>sponsored</th>\n",
       "    </tr>\n",
       "  </thead>\n",
       "  <tbody>\n",
       "    <tr>\n",
       "      <th>0</th>\n",
       "      <td>0.072</td>\n",
       "      <td>0.740</td>\n",
       "      <td>0.188</td>\n",
       "    </tr>\n",
       "    <tr>\n",
       "      <th>1</th>\n",
       "      <td>0.077</td>\n",
       "      <td>0.742</td>\n",
       "      <td>0.181</td>\n",
       "    </tr>\n",
       "    <tr>\n",
       "      <th>2</th>\n",
       "      <td>0.063</td>\n",
       "      <td>0.758</td>\n",
       "      <td>0.179</td>\n",
       "    </tr>\n",
       "    <tr>\n",
       "      <th>3</th>\n",
       "      <td>0.067</td>\n",
       "      <td>0.742</td>\n",
       "      <td>0.191</td>\n",
       "    </tr>\n",
       "    <tr>\n",
       "      <th>4</th>\n",
       "      <td>0.060</td>\n",
       "      <td>0.769</td>\n",
       "      <td>0.171</td>\n",
       "    </tr>\n",
       "    <tr>\n",
       "      <th>...</th>\n",
       "      <td>...</td>\n",
       "      <td>...</td>\n",
       "      <td>...</td>\n",
       "    </tr>\n",
       "    <tr>\n",
       "      <th>495</th>\n",
       "      <td>0.058</td>\n",
       "      <td>0.776</td>\n",
       "      <td>0.166</td>\n",
       "    </tr>\n",
       "    <tr>\n",
       "      <th>496</th>\n",
       "      <td>0.076</td>\n",
       "      <td>0.752</td>\n",
       "      <td>0.172</td>\n",
       "    </tr>\n",
       "    <tr>\n",
       "      <th>497</th>\n",
       "      <td>0.049</td>\n",
       "      <td>0.778</td>\n",
       "      <td>0.173</td>\n",
       "    </tr>\n",
       "    <tr>\n",
       "      <th>498</th>\n",
       "      <td>0.050</td>\n",
       "      <td>0.772</td>\n",
       "      <td>0.178</td>\n",
       "    </tr>\n",
       "    <tr>\n",
       "      <th>499</th>\n",
       "      <td>0.061</td>\n",
       "      <td>0.777</td>\n",
       "      <td>0.162</td>\n",
       "    </tr>\n",
       "  </tbody>\n",
       "</table>\n",
       "<p>500 rows × 3 columns</p>\n",
       "</div>"
      ],
      "text/plain": [
       "     amazon  no_amazon  sponsored\n",
       "0     0.072      0.740      0.188\n",
       "1     0.077      0.742      0.181\n",
       "2     0.063      0.758      0.179\n",
       "3     0.067      0.742      0.191\n",
       "4     0.060      0.769      0.171\n",
       "..      ...        ...        ...\n",
       "495   0.058      0.776      0.166\n",
       "496   0.076      0.752      0.172\n",
       "497   0.049      0.778      0.173\n",
       "498   0.050      0.772      0.178\n",
       "499   0.061      0.777      0.162\n",
       "\n",
       "[500 rows x 3 columns]"
      ]
     },
     "execution_count": 241,
     "metadata": {},
     "output_type": "execute_result"
    }
   ],
   "source": [
    "df_bootstrap"
   ]
  },
  {
   "cell_type": "code",
   "execution_count": 281,
   "metadata": {},
   "outputs": [
    {
     "name": "stdout",
     "output_type": "stream",
     "text": [
      "amazon\n",
      "6.439399999999999\n",
      "4.847500000000002 8.452499999999999\n",
      "no_amazon\n",
      "76.2032\n",
      "73.2 79.3\n",
      "sponsored\n",
      "17.357400000000002\n",
      "14.799999999999999 20.1525\n"
     ]
    }
   ],
   "source": [
    "for col in ['amazon', 'no_amazon', 'sponsored']:\n",
    "    print(col)\n",
    "    print(df_bootstrap[col].mean() * 100)\n",
    "    lower, upper = confidence_interval(df_bootstrap[col])\n",
    "    print(lower, upper)"
   ]
  },
  {
   "cell_type": "markdown",
   "metadata": {},
   "source": [
    "### What are the chances?\n",
    "We would not expect Amazon products to be so prominently placed at the top of the page given the relatively small selection of availble products.\n",
    "\n",
    "To test this, we use took 500 sub-samples (of 1000 searches each) from our observed data (called bootstrapping), shuffled the order of products, and calculated the average percentage of searches where the newly assigned top spot would be taken by an Amazon, non-Amazon or sponsored product.\n",
    "\n",
    "Given a 95 percent confidence interval, we found that Amazon products took the top spot between 4.8 and 8.5 percent of searches, non-Amazon products between 73.2 and 79.3 percent of searches and sponsored products between 14.8 and 20.2 percent of searches. These rates differ greatly from the #1 spot from our observed data, and are more closely aligned with the percentage of products available for each of the categories."
   ]
  },
  {
   "cell_type": "code",
   "execution_count": 280,
   "metadata": {},
   "outputs": [
    {
     "name": "stderr",
     "output_type": "stream",
     "text": [
      "100%|██████████| 500/500 [10:27<00:00,  1.25s/it]\n"
     ]
    }
   ],
   "source": [
    "data_bootstrap_4 = []\n",
    "with Pool(processes=12) as pool:\n",
    "    for record in tqdm(pool.imap_unordered(multi_bootstrap_4, \n",
    "                                           range(n_bootstraps)), \n",
    "                       total=n_bootstraps):\n",
    "        data_bootstrap_4.append(record)\n",
    "\n",
    "df_bootstrap_4 = pd.DataFrame(data_bootstrap_4)"
   ]
  },
  {
   "cell_type": "code",
   "execution_count": 282,
   "metadata": {},
   "outputs": [
    {
     "name": "stdout",
     "output_type": "stream",
     "text": [
      "amazon\n",
      "20.950400000000002\n",
      "18.4 23.9\n",
      "no_amazon\n",
      "99.24300000000001\n",
      "98.6 99.70000000000002\n",
      "sponsored\n",
      "52.96680000000001\n",
      "49.1 56.39999999999999\n"
     ]
    }
   ],
   "source": [
    "for col in ['amazon', 'no_amazon', 'sponsored']:\n",
    "    print(col)\n",
    "    print(df_bootstrap_4[col].mean() * 100)\n",
    "    lower, upper = confidence_interval(df_bootstrap_4[col])\n",
    "    print(lower, upper)"
   ]
  },
  {
   "cell_type": "markdown",
   "metadata": {},
   "source": [
    "## More Stars and reviews?"
   ]
  },
  {
   "cell_type": "code",
   "execution_count": 52,
   "metadata": {},
   "outputs": [
    {
     "name": "stderr",
     "output_type": "stream",
     "text": [
      "100%|██████████| 3492/3492 [04:12<00:00, 13.81it/s]\n"
     ]
    }
   ],
   "source": [
    "data = []\n",
    "for st, _df in tqdm(df[df.is_sponsored == False].groupby(\"search_term\")):\n",
    "    _df.sort_values(by='product_order')\n",
    "    amzn = _df[_df.asin.isin(amazon_asin)]\n",
    "    non_amzn = _df[~_df.asin.isin(amazon_asin)]\n",
    "    wnon_amzn =_df[\n",
    "        (~_df.asin.isin(amazon_asin)) &\n",
    "        (_df.is_sold_by_amazon == False) &\n",
    "        (_df.is_fresh == False) &\n",
    "        (_df.is_prime == False)\n",
    "    ]\n",
    "    \n",
    "    if not amzn.empty:\n",
    "        top_amazon =  amzn.product_order.iloc[0]\n",
    "        amazon_star = amzn.stars.iloc[0]\n",
    "        amazon_review = amzn.reviews.iloc[0]\n",
    "    else:\n",
    "        top_amazon = np.nan\n",
    "        amazon_star = np.nan\n",
    "        amazon_review = np.nan\n",
    "        \n",
    "    if not non_amzn.empty:    \n",
    "        top_non_amazon_brand = non_amzn.product_order.iloc[0]\n",
    "        non_amazon_star = non_amzn.stars.iloc[0]\n",
    "        non_amazon_review = non_amzn.reviews.iloc[0]\n",
    "    else:\n",
    "        top_non_amazon = np.nan\n",
    "        non_amazon_star = np.nan\n",
    "        non_amazon_review = np.nan\n",
    "        \n",
    "    if not wnon_amzn.empty:\n",
    "        top_wnon_amazon = wnon_amzn.product_order.iloc[0]\n",
    "        wnon_amazon_star = wnon_amzn.stars.iloc[0]\n",
    "        wnon_amazon_review = wnon_amzn.reviews.iloc[0]\n",
    "    \n",
    "    else:\n",
    "        top_wnon_amazon = np.nan\n",
    "        wnon_amazon_star = np.nan\n",
    "        wnon_amazon_review = np.nan\n",
    "    record = {\n",
    "        \"search_term\": st,\n",
    "        \"position_first_amazon\": top_amazon,\n",
    "        \"position_first_non_amazon\": top_non_amazon_brand,\n",
    "        \"position_first_wholly_non_amazon\": top_wnon_amazon,\n",
    "        \n",
    "        \"amazon_stars\": amazon_star,\n",
    "        \"amazon_reviews\": amazon_review,\n",
    "        \n",
    "        \"non_amazon_stars\": non_amazon_star,\n",
    "        \"non_amazon_reviews\": non_amazon_review,\n",
    "        \n",
    "        \"wnon_amazon_stars\": wnon_amazon_star,\n",
    "        \"wnon_amazon_reviews\": wnon_amazon_review,\n",
    "    }\n",
    "    data.append(record)"
   ]
  },
  {
   "cell_type": "code",
   "execution_count": 53,
   "metadata": {},
   "outputs": [],
   "source": [
    "df_compare = pd.DataFrame(data)"
   ]
  },
  {
   "cell_type": "code",
   "execution_count": 54,
   "metadata": {},
   "outputs": [
    {
     "data": {
      "text/plain": [
       "0.22880870561282932"
      ]
     },
     "execution_count": 54,
     "metadata": {},
     "output_type": "execute_result"
    }
   ],
   "source": [
    "len(df_compare[df_compare.position_first_amazon < df_compare.position_first_non_amazon]) / len(df_compare)"
   ]
  },
  {
   "cell_type": "code",
   "execution_count": 69,
   "metadata": {},
   "outputs": [
    {
     "data": {
      "text/plain": [
       "False    0.653317\n",
       "True     0.346683\n",
       "dtype: float64"
      ]
     },
     "execution_count": 69,
     "metadata": {},
     "output_type": "execute_result"
    }
   ],
   "source": [
    "df_compare[\n",
    "    df_compare.position_first_amazon < df_compare.position_first_non_amazon\n",
    "].apply(\n",
    "    lambda x:\n",
    "    x['amazon_stars'] > x['non_amazon_stars'],\n",
    "    axis=1\n",
    ").value_counts(normalize=True)"
   ]
  },
  {
   "cell_type": "code",
   "execution_count": 70,
   "metadata": {},
   "outputs": [
    {
     "data": {
      "text/plain": [
       "False    0.509579\n",
       "True     0.490421\n",
       "dtype: float64"
      ]
     },
     "execution_count": 70,
     "metadata": {},
     "output_type": "execute_result"
    }
   ],
   "source": [
    "# how many Amazon products have more reivews than the\n",
    "df_compare[\n",
    "    (df_compare.position_first_amazon < df_compare.position_first_non_amazon) &\n",
    "    (~df_compare.non_amazon_reviews.isnull())\n",
    "].apply(\n",
    "    lambda x:\n",
    "    x['amazon_reviews'] > x['non_amazon_reviews'],\n",
    "    axis=1\n",
    ").value_counts(normalize=True)"
   ]
  },
  {
   "cell_type": "code",
   "execution_count": 72,
   "metadata": {},
   "outputs": [
    {
     "data": {
      "text/plain": [
       "False    0.798212\n",
       "True     0.201788\n",
       "dtype: float64"
      ]
     },
     "execution_count": 72,
     "metadata": {},
     "output_type": "execute_result"
    }
   ],
   "source": [
    "# how many Amazon products have more reivews than the\n",
    "df_compare[\n",
    "    (df_compare.position_first_amazon < df_compare.position_first_non_amazon) &\n",
    "    (~df_compare.non_amazon_reviews.isnull())\n",
    "].apply(\n",
    "    lambda x:\n",
    "    (x['amazon_reviews'] < x['non_amazon_reviews']) and \n",
    "    (x['amazon_stars'] < x['non_amazon_stars']),\n",
    "    axis=1\n",
    ").value_counts(normalize=True)"
   ]
  },
  {
   "cell_type": "code",
   "execution_count": 45,
   "metadata": {},
   "outputs": [],
   "source": [
    "# duplicates from sponsorship\n",
    "asins_by_search = df[df.is_sponsored == False].groupby('search_term').asin.value_counts()"
   ]
  },
  {
   "cell_type": "code",
   "execution_count": 46,
   "metadata": {},
   "outputs": [
    {
     "data": {
      "text/plain": [
       "0.09221076746849943"
      ]
     },
     "execution_count": 46,
     "metadata": {},
     "output_type": "execute_result"
    }
   ],
   "source": [
    "# perc_searches_dupluicate_asin\n",
    "asins_by_search[asins_by_search > 1].index.get_level_values(0).nunique() / df.search_term.nunique()"
   ]
  },
  {
   "cell_type": "code",
   "execution_count": 47,
   "metadata": {},
   "outputs": [
    {
     "data": {
      "text/plain": [
       "1.0"
      ]
     },
     "execution_count": 47,
     "metadata": {},
     "output_type": "execute_result"
    }
   ],
   "source": [
    "# how many of these duplicates are Amazon products?\n",
    "duplicate_asin = asins_by_search[asins_by_search > 1].index.get_level_values(1)\n",
    "len([_ for _ in duplicate_asin if _ in amazon_asin]) / len(duplicate_asin)"
   ]
  },
  {
   "cell_type": "code",
   "execution_count": 94,
   "metadata": {},
   "outputs": [],
   "source": [
    "asins_by_search = df[df.is_amazon == False].groupby('search_term').asin.value_counts()"
   ]
  },
  {
   "cell_type": "code",
   "execution_count": 97,
   "metadata": {},
   "outputs": [
    {
     "data": {
      "text/plain": [
       "0.7422680412371134"
      ]
     },
     "execution_count": 97,
     "metadata": {},
     "output_type": "execute_result"
    }
   ],
   "source": [
    "# perc_searches_dupluicate_asin\n",
    "asins_by_search[asins_by_search > 1].index.get_level_values(0).nunique() / df.search_term.nunique()"
   ]
  },
  {
   "cell_type": "markdown",
   "metadata": {},
   "source": [
    "## Supplementary dataset"
   ]
  },
  {
   "cell_type": "code",
   "execution_count": 47,
   "metadata": {},
   "outputs": [
    {
     "data": {
      "text/plain": [
       "1217"
      ]
     },
     "execution_count": 47,
     "metadata": {},
     "output_type": "execute_result"
    }
   ],
   "source": [
    "df_generic.search_term.nunique()"
   ]
  },
  {
   "cell_type": "code",
   "execution_count": 445,
   "metadata": {},
   "outputs": [
    {
     "data": {
      "text/html": [
       "<div>\n",
       "<style scoped>\n",
       "    .dataframe tbody tr th:only-of-type {\n",
       "        vertical-align: middle;\n",
       "    }\n",
       "\n",
       "    .dataframe tbody tr th {\n",
       "        vertical-align: top;\n",
       "    }\n",
       "\n",
       "    .dataframe thead th {\n",
       "        text-align: right;\n",
       "    }\n",
       "</style>\n",
       "<table border=\"1\" class=\"dataframe\">\n",
       "  <thead>\n",
       "    <tr style=\"text-align: right;\">\n",
       "      <th></th>\n",
       "      <th>Category</th>\n",
       "      <th>Perc Products</th>\n",
       "      <th>Perc #1 spot</th>\n",
       "      <th>Perc first row</th>\n",
       "    </tr>\n",
       "  </thead>\n",
       "  <tbody>\n",
       "    <tr>\n",
       "      <th>0</th>\n",
       "      <td>Wholly Non-Amazon</td>\n",
       "      <td>4.143634</td>\n",
       "      <td>1.068200</td>\n",
       "      <td>5.012325</td>\n",
       "    </tr>\n",
       "    <tr>\n",
       "      <th>1</th>\n",
       "      <td>Amazon</td>\n",
       "      <td>8.225208</td>\n",
       "      <td>24.897288</td>\n",
       "      <td>35.332786</td>\n",
       "    </tr>\n",
       "    <tr>\n",
       "      <th>2</th>\n",
       "      <td>Non-Amazon</td>\n",
       "      <td>73.530388</td>\n",
       "      <td>10.764174</td>\n",
       "      <td>54.478225</td>\n",
       "    </tr>\n",
       "    <tr>\n",
       "      <th>3</th>\n",
       "      <td>Non-Amazon Brand and Not Amazon Sold</td>\n",
       "      <td>34.315240</td>\n",
       "      <td>5.834018</td>\n",
       "      <td>33.771569</td>\n",
       "    </tr>\n",
       "    <tr>\n",
       "      <th>4</th>\n",
       "      <td>Amazon product not featured</td>\n",
       "      <td>7.200485</td>\n",
       "      <td>4.108463</td>\n",
       "      <td>16.516023</td>\n",
       "    </tr>\n",
       "    <tr>\n",
       "      <th>5</th>\n",
       "      <td>Sponsored</td>\n",
       "      <td>18.244404</td>\n",
       "      <td>64.338537</td>\n",
       "      <td>84.223500</td>\n",
       "    </tr>\n",
       "    <tr>\n",
       "      <th>6</th>\n",
       "      <td>Amazon sold</td>\n",
       "      <td>25.382828</td>\n",
       "      <td>21.857025</td>\n",
       "      <td>45.193098</td>\n",
       "    </tr>\n",
       "    <tr>\n",
       "      <th>7</th>\n",
       "      <td>Amazon sold non-Amazon</td>\n",
       "      <td>18.771198</td>\n",
       "      <td>3.451109</td>\n",
       "      <td>23.007395</td>\n",
       "    </tr>\n",
       "    <tr>\n",
       "      <th>8</th>\n",
       "      <td>Non-Amazon sold</td>\n",
       "      <td>56.372768</td>\n",
       "      <td>13.804437</td>\n",
       "      <td>48.808546</td>\n",
       "    </tr>\n",
       "    <tr>\n",
       "      <th>9</th>\n",
       "      <td>Amazon Shipped</td>\n",
       "      <td>77.500830</td>\n",
       "      <td>34.511093</td>\n",
       "      <td>70.008217</td>\n",
       "    </tr>\n",
       "    <tr>\n",
       "      <th>10</th>\n",
       "      <td>Amazon Shipped non-Amazon</td>\n",
       "      <td>69.386754</td>\n",
       "      <td>9.695974</td>\n",
       "      <td>52.917009</td>\n",
       "    </tr>\n",
       "  </tbody>\n",
       "</table>\n",
       "</div>"
      ],
      "text/plain": [
       "                                Category  Perc Products  Perc #1 spot  \\\n",
       "0                      Wholly Non-Amazon       4.143634      1.068200   \n",
       "1                                 Amazon       8.225208     24.897288   \n",
       "2                             Non-Amazon      73.530388     10.764174   \n",
       "3   Non-Amazon Brand and Not Amazon Sold      34.315240      5.834018   \n",
       "4            Amazon product not featured       7.200485      4.108463   \n",
       "5                              Sponsored      18.244404     64.338537   \n",
       "6                            Amazon sold      25.382828     21.857025   \n",
       "7                 Amazon sold non-Amazon      18.771198      3.451109   \n",
       "8                        Non-Amazon sold      56.372768     13.804437   \n",
       "9                         Amazon Shipped      77.500830     34.511093   \n",
       "10             Amazon Shipped non-Amazon      69.386754      9.695974   \n",
       "\n",
       "    Perc first row  \n",
       "0         5.012325  \n",
       "1        35.332786  \n",
       "2        54.478225  \n",
       "3        33.771569  \n",
       "4        16.516023  \n",
       "5        84.223500  \n",
       "6        45.193098  \n",
       "7        23.007395  \n",
       "8        48.808546  \n",
       "9        70.008217  \n",
       "10       52.917009  "
      ]
     },
     "execution_count": 445,
     "metadata": {},
     "output_type": "execute_result"
    }
   ],
   "source": [
    "table_generic = calculate_table_not_unique(df_generic, amazon_asin)\n",
    "table_generic"
   ]
  },
  {
   "cell_type": "code",
   "execution_count": 446,
   "metadata": {},
   "outputs": [
    {
     "data": {
      "text/html": [
       "<div>\n",
       "<style scoped>\n",
       "    .dataframe tbody tr th:only-of-type {\n",
       "        vertical-align: middle;\n",
       "    }\n",
       "\n",
       "    .dataframe tbody tr th {\n",
       "        vertical-align: top;\n",
       "    }\n",
       "\n",
       "    .dataframe thead th {\n",
       "        text-align: right;\n",
       "    }\n",
       "</style>\n",
       "<table border=\"1\" class=\"dataframe\">\n",
       "  <thead>\n",
       "    <tr style=\"text-align: right;\">\n",
       "      <th></th>\n",
       "      <th>Category</th>\n",
       "      <th>Perc Products</th>\n",
       "      <th>Perc #1 spot</th>\n",
       "      <th>Perc first row</th>\n",
       "    </tr>\n",
       "  </thead>\n",
       "  <tbody>\n",
       "    <tr>\n",
       "      <th>0</th>\n",
       "      <td>Wholly Non-Amazon</td>\n",
       "      <td>10.852965</td>\n",
       "      <td>4.553265</td>\n",
       "      <td>14.977090</td>\n",
       "    </tr>\n",
       "    <tr>\n",
       "      <th>1</th>\n",
       "      <td>Amazon</td>\n",
       "      <td>5.801081</td>\n",
       "      <td>19.530355</td>\n",
       "      <td>24.770905</td>\n",
       "    </tr>\n",
       "    <tr>\n",
       "      <th>2</th>\n",
       "      <td>Non-Amazon</td>\n",
       "      <td>76.880992</td>\n",
       "      <td>20.819015</td>\n",
       "      <td>63.516609</td>\n",
       "    </tr>\n",
       "    <tr>\n",
       "      <th>3</th>\n",
       "      <td>Non-Amazon Brand and Not Amazon Sold</td>\n",
       "      <td>54.902578</td>\n",
       "      <td>13.545246</td>\n",
       "      <td>46.048110</td>\n",
       "    </tr>\n",
       "    <tr>\n",
       "      <th>4</th>\n",
       "      <td>Amazon product not featured</td>\n",
       "      <td>4.611964</td>\n",
       "      <td>1.947308</td>\n",
       "      <td>8.218786</td>\n",
       "    </tr>\n",
       "    <tr>\n",
       "      <th>5</th>\n",
       "      <td>Sponsored</td>\n",
       "      <td>17.317926</td>\n",
       "      <td>59.650630</td>\n",
       "      <td>75.286369</td>\n",
       "    </tr>\n",
       "    <tr>\n",
       "      <th>6</th>\n",
       "      <td>Amazon sold</td>\n",
       "      <td>25.549500</td>\n",
       "      <td>20.733104</td>\n",
       "      <td>44.186712</td>\n",
       "    </tr>\n",
       "    <tr>\n",
       "      <th>7</th>\n",
       "      <td>Amazon sold non-Amazon</td>\n",
       "      <td>21.142300</td>\n",
       "      <td>7.016037</td>\n",
       "      <td>30.670103</td>\n",
       "    </tr>\n",
       "    <tr>\n",
       "      <th>8</th>\n",
       "      <td>Non-Amazon sold</td>\n",
       "      <td>57.132573</td>\n",
       "      <td>19.616266</td>\n",
       "      <td>51.718213</td>\n",
       "    </tr>\n",
       "    <tr>\n",
       "      <th>9</th>\n",
       "      <td>Amazon Shipped</td>\n",
       "      <td>71.672870</td>\n",
       "      <td>35.595647</td>\n",
       "      <td>70.217640</td>\n",
       "    </tr>\n",
       "    <tr>\n",
       "      <th>10</th>\n",
       "      <td>Amazon Shipped non-Amazon</td>\n",
       "      <td>66.027494</td>\n",
       "      <td>16.265750</td>\n",
       "      <td>58.705613</td>\n",
       "    </tr>\n",
       "  </tbody>\n",
       "</table>\n",
       "</div>"
      ],
      "text/plain": [
       "                                Category  Perc Products  Perc #1 spot  \\\n",
       "0                      Wholly Non-Amazon      10.852965      4.553265   \n",
       "1                                 Amazon       5.801081     19.530355   \n",
       "2                             Non-Amazon      76.880992     20.819015   \n",
       "3   Non-Amazon Brand and Not Amazon Sold      54.902578     13.545246   \n",
       "4            Amazon product not featured       4.611964      1.947308   \n",
       "5                              Sponsored      17.317926     59.650630   \n",
       "6                            Amazon sold      25.549500     20.733104   \n",
       "7                 Amazon sold non-Amazon      21.142300      7.016037   \n",
       "8                        Non-Amazon sold      57.132573     19.616266   \n",
       "9                         Amazon Shipped      71.672870     35.595647   \n",
       "10             Amazon Shipped non-Amazon      66.027494     16.265750   \n",
       "\n",
       "    Perc first row  \n",
       "0        14.977090  \n",
       "1        24.770905  \n",
       "2        63.516609  \n",
       "3        46.048110  \n",
       "4         8.218786  \n",
       "5        75.286369  \n",
       "6        44.186712  \n",
       "7        30.670103  \n",
       "8        51.718213  \n",
       "9        70.217640  \n",
       "10       58.705613  "
      ]
     },
     "execution_count": 446,
     "metadata": {},
     "output_type": "execute_result"
    }
   ],
   "source": [
    "table_top = calculate_table_not_unique(df_top, amazon_asin)\n",
    "table_top"
   ]
  },
  {
   "cell_type": "code",
   "execution_count": 447,
   "metadata": {},
   "outputs": [
    {
     "data": {
      "text/plain": [
       "Category\n",
       "Wholly Non-Amazon                       2.4x less\n",
       "Amazon                                  3.4x more\n",
       "Non-Amazon                              3.7x less\n",
       "Non-Amazon Brand and Not Amazon Sold    4.1x less\n",
       "Amazon product not featured             2.4x less\n",
       "Sponsored                               3.4x more\n",
       "Amazon sold                             1.2x less\n",
       "Amazon sold non-Amazon                  3.0x less\n",
       "Non-Amazon sold                         2.9x less\n",
       "Amazon Shipped                          2.0x less\n",
       "Amazon Shipped non-Amazon               4.1x less\n",
       "dtype: object"
      ]
     },
     "execution_count": 447,
     "metadata": {},
     "output_type": "execute_result"
    }
   ],
   "source": [
    "table_top.set_index('Category').apply(proportion, axis=1)"
   ]
  },
  {
   "cell_type": "code",
   "execution_count": 448,
   "metadata": {},
   "outputs": [
    {
     "data": {
      "text/plain": [
       "Category\n",
       "Wholly Non-Amazon                       3.9x less\n",
       "Amazon                                  3.0x more\n",
       "Non-Amazon                              6.8x less\n",
       "Non-Amazon Brand and Not Amazon Sold    5.9x less\n",
       "Amazon product not featured             1.8x less\n",
       "Sponsored                               3.5x more\n",
       "Amazon sold                             1.2x less\n",
       "Amazon sold non-Amazon                  5.4x less\n",
       "Non-Amazon sold                         4.1x less\n",
       "Amazon Shipped                          2.2x less\n",
       "Amazon Shipped non-Amazon               7.2x less\n",
       "dtype: object"
      ]
     },
     "execution_count": 448,
     "metadata": {},
     "output_type": "execute_result"
    }
   ],
   "source": [
    "table_generic.set_index('Category').apply(proportion, axis=1)"
   ]
  },
  {
   "cell_type": "code",
   "execution_count": 419,
   "metadata": {},
   "outputs": [
    {
     "data": {
      "text/plain": [
       "25.0"
      ]
     },
     "execution_count": 419,
     "metadata": {},
     "output_type": "execute_result"
    }
   ],
   "source": [
    "n_offers = 10\n",
    "n_applicants = 1000\n",
    "offer_rate = .2\n",
    "applicant_rate = .05\n",
    "\n",
    "1 / ((offer_rate * n_offers) / (applicant_rate* n_applicants))"
   ]
  },
  {
   "cell_type": "code",
   "execution_count": 409,
   "metadata": {},
   "outputs": [
    {
     "data": {
      "text/plain": [
       "4.0"
      ]
     },
     "execution_count": 409,
     "metadata": {},
     "output_type": "execute_result"
    }
   ],
   "source": [
    "20 / 5"
   ]
  },
  {
   "cell_type": "code",
   "execution_count": 410,
   "metadata": {},
   "outputs": [
    {
     "data": {
      "text/plain": [
       "2.3529411764705883"
      ]
     },
     "execution_count": 410,
     "metadata": {},
     "output_type": "execute_result"
    }
   ],
   "source": [
    "20 / 8.5"
   ]
  },
  {
   "cell_type": "code",
   "execution_count": 414,
   "metadata": {},
   "outputs": [],
   "source": [
    "n_offers = 10\n",
    "n_applicants = 1000\n",
    "offer_rate = .2\n",
    "applicant_rate = .05"
   ]
  },
  {
   "cell_type": "code",
   "execution_count": 415,
   "metadata": {},
   "outputs": [
    {
     "data": {
      "text/plain": [
       "4.0"
      ]
     },
     "execution_count": 415,
     "metadata": {},
     "output_type": "execute_result"
    }
   ],
   "source": [
    "offer_rate / applicant_rate"
   ]
  },
  {
   "cell_type": "code",
   "execution_count": 420,
   "metadata": {},
   "outputs": [],
   "source": [
    "n_offers = df.search_term.nunique()\n",
    "n_applicants = df.asin.nunique()\n",
    "offer_rate = .2\n",
    "applicant_rate = .05"
   ]
  },
  {
   "cell_type": "code",
   "execution_count": 425,
   "metadata": {},
   "outputs": [
    {
     "data": {
      "text/plain": [
       "144.06529209621993"
      ]
     },
     "execution_count": 425,
     "metadata": {},
     "output_type": "execute_result"
    }
   ],
   "source": [
    "1/ ((offer_rate * n_offers) / (applicant_rate* n_applicants))"
   ]
  },
  {
   "cell_type": "code",
   "execution_count": 422,
   "metadata": {},
   "outputs": [],
   "source": [
    "n_offers = df.search_term.nunique()\n",
    "n_applicants = df.asin.nunique()\n",
    "offer_rate = .2\n",
    "applicant_rate = .80"
   ]
  },
  {
   "cell_type": "code",
   "execution_count": 423,
   "metadata": {},
   "outputs": [
    {
     "data": {
      "text/plain": [
       "144.06529209621993"
      ]
     },
     "execution_count": 423,
     "metadata": {},
     "output_type": "execute_result"
    }
   ],
   "source": [
    "1 / ((offer_rate * n_offers) / (applicant_rate* n_applicants))"
   ]
  },
  {
   "cell_type": "code",
   "execution_count": 342,
   "metadata": {},
   "outputs": [
    {
     "data": {
      "text/plain": [
       "8.064207650273223"
      ]
     },
     "execution_count": 342,
     "metadata": {},
     "output_type": "execute_result"
    }
   ],
   "source": [
    "df[df.is_amazon == True].asin.nunique() / df[(df.product_order == 1) & (df.is_amazon == True)].search_term.nunique()"
   ]
  },
  {
   "cell_type": "code",
   "execution_count": 343,
   "metadata": {},
   "outputs": [
    {
     "data": {
      "text/plain": [
       "43.42971014492753"
      ]
     },
     "execution_count": 343,
     "metadata": {},
     "output_type": "execute_result"
    }
   ],
   "source": [
    "df[df.is_amazon != True].asin.nunique() / df[(df.product_order == 1) & (df.is_amazon != True)].search_term.nunique()"
   ]
  },
  {
   "cell_type": "code",
   "execution_count": 337,
   "metadata": {},
   "outputs": [
    {
     "data": {
      "text/plain": [
       "732"
      ]
     },
     "execution_count": 337,
     "metadata": {},
     "output_type": "execute_result"
    }
   ],
   "source": [
    "df[(df.product_order == 1) & (df.is_amazon == True)].search_term.nunique()"
   ]
  },
  {
   "cell_type": "code",
   "execution_count": 449,
   "metadata": {},
   "outputs": [],
   "source": [
    "table_diff = table_generic.set_index('Category').subtract(\n",
    "    table_top.set_index('Category'))"
   ]
  },
  {
   "cell_type": "code",
   "execution_count": 453,
   "metadata": {},
   "outputs": [],
   "source": [
    "comparison = pd.concat([\n",
    "    table_top[['Category', 'Perc Products',  'Perc #1 spot', 'Perc first row']].set_index('Category'), \n",
    "    table_generic[['Category','Perc Products',  'Perc #1 spot', 'Perc first row']].set_index('Category'),\n",
    "], axis=1, keys=[\"top\", \"generic\"])"
   ]
  },
  {
   "cell_type": "code",
   "execution_count": 454,
   "metadata": {},
   "outputs": [],
   "source": [
    "comparison = comparison.swaplevel(0, 1, 1).sort_index(1)"
   ]
  },
  {
   "cell_type": "code",
   "execution_count": 455,
   "metadata": {},
   "outputs": [
    {
     "data": {
      "text/html": [
       "<div>\n",
       "<style scoped>\n",
       "    .dataframe tbody tr th:only-of-type {\n",
       "        vertical-align: middle;\n",
       "    }\n",
       "\n",
       "    .dataframe tbody tr th {\n",
       "        vertical-align: top;\n",
       "    }\n",
       "\n",
       "    .dataframe thead tr th {\n",
       "        text-align: left;\n",
       "    }\n",
       "\n",
       "    .dataframe thead tr:last-of-type th {\n",
       "        text-align: right;\n",
       "    }\n",
       "</style>\n",
       "<table border=\"1\" class=\"dataframe\">\n",
       "  <thead>\n",
       "    <tr>\n",
       "      <th></th>\n",
       "      <th colspan=\"2\" halign=\"left\">Perc #1 spot</th>\n",
       "      <th colspan=\"2\" halign=\"left\">Perc Products</th>\n",
       "      <th colspan=\"2\" halign=\"left\">Perc first row</th>\n",
       "    </tr>\n",
       "    <tr>\n",
       "      <th></th>\n",
       "      <th>generic</th>\n",
       "      <th>top</th>\n",
       "      <th>generic</th>\n",
       "      <th>top</th>\n",
       "      <th>generic</th>\n",
       "      <th>top</th>\n",
       "    </tr>\n",
       "    <tr>\n",
       "      <th>Category</th>\n",
       "      <th></th>\n",
       "      <th></th>\n",
       "      <th></th>\n",
       "      <th></th>\n",
       "      <th></th>\n",
       "      <th></th>\n",
       "    </tr>\n",
       "  </thead>\n",
       "  <tbody>\n",
       "    <tr>\n",
       "      <th>Wholly Non-Amazon</th>\n",
       "      <td>1.068200</td>\n",
       "      <td>4.553265</td>\n",
       "      <td>4.143634</td>\n",
       "      <td>10.852965</td>\n",
       "      <td>5.012325</td>\n",
       "      <td>14.977090</td>\n",
       "    </tr>\n",
       "    <tr>\n",
       "      <th>Amazon</th>\n",
       "      <td>24.897288</td>\n",
       "      <td>19.530355</td>\n",
       "      <td>8.225208</td>\n",
       "      <td>5.801081</td>\n",
       "      <td>35.332786</td>\n",
       "      <td>24.770905</td>\n",
       "    </tr>\n",
       "    <tr>\n",
       "      <th>Non-Amazon</th>\n",
       "      <td>10.764174</td>\n",
       "      <td>20.819015</td>\n",
       "      <td>73.530388</td>\n",
       "      <td>76.880992</td>\n",
       "      <td>54.478225</td>\n",
       "      <td>63.516609</td>\n",
       "    </tr>\n",
       "    <tr>\n",
       "      <th>Non-Amazon Brand and Not Amazon Sold</th>\n",
       "      <td>5.834018</td>\n",
       "      <td>13.545246</td>\n",
       "      <td>34.315240</td>\n",
       "      <td>54.902578</td>\n",
       "      <td>33.771569</td>\n",
       "      <td>46.048110</td>\n",
       "    </tr>\n",
       "    <tr>\n",
       "      <th>Amazon product not featured</th>\n",
       "      <td>4.108463</td>\n",
       "      <td>1.947308</td>\n",
       "      <td>7.200485</td>\n",
       "      <td>4.611964</td>\n",
       "      <td>16.516023</td>\n",
       "      <td>8.218786</td>\n",
       "    </tr>\n",
       "    <tr>\n",
       "      <th>Sponsored</th>\n",
       "      <td>64.338537</td>\n",
       "      <td>59.650630</td>\n",
       "      <td>18.244404</td>\n",
       "      <td>17.317926</td>\n",
       "      <td>84.223500</td>\n",
       "      <td>75.286369</td>\n",
       "    </tr>\n",
       "    <tr>\n",
       "      <th>Amazon sold</th>\n",
       "      <td>21.857025</td>\n",
       "      <td>20.733104</td>\n",
       "      <td>25.382828</td>\n",
       "      <td>25.549500</td>\n",
       "      <td>45.193098</td>\n",
       "      <td>44.186712</td>\n",
       "    </tr>\n",
       "    <tr>\n",
       "      <th>Amazon sold non-Amazon</th>\n",
       "      <td>3.451109</td>\n",
       "      <td>7.016037</td>\n",
       "      <td>18.771198</td>\n",
       "      <td>21.142300</td>\n",
       "      <td>23.007395</td>\n",
       "      <td>30.670103</td>\n",
       "    </tr>\n",
       "    <tr>\n",
       "      <th>Non-Amazon sold</th>\n",
       "      <td>13.804437</td>\n",
       "      <td>19.616266</td>\n",
       "      <td>56.372768</td>\n",
       "      <td>57.132573</td>\n",
       "      <td>48.808546</td>\n",
       "      <td>51.718213</td>\n",
       "    </tr>\n",
       "    <tr>\n",
       "      <th>Amazon Shipped</th>\n",
       "      <td>34.511093</td>\n",
       "      <td>35.595647</td>\n",
       "      <td>77.500830</td>\n",
       "      <td>71.672870</td>\n",
       "      <td>70.008217</td>\n",
       "      <td>70.217640</td>\n",
       "    </tr>\n",
       "    <tr>\n",
       "      <th>Amazon Shipped non-Amazon</th>\n",
       "      <td>9.695974</td>\n",
       "      <td>16.265750</td>\n",
       "      <td>69.386754</td>\n",
       "      <td>66.027494</td>\n",
       "      <td>52.917009</td>\n",
       "      <td>58.705613</td>\n",
       "    </tr>\n",
       "  </tbody>\n",
       "</table>\n",
       "</div>"
      ],
      "text/plain": [
       "                                     Perc #1 spot            Perc Products  \\\n",
       "                                          generic        top       generic   \n",
       "Category                                                                     \n",
       "Wholly Non-Amazon                        1.068200   4.553265      4.143634   \n",
       "Amazon                                  24.897288  19.530355      8.225208   \n",
       "Non-Amazon                              10.764174  20.819015     73.530388   \n",
       "Non-Amazon Brand and Not Amazon Sold     5.834018  13.545246     34.315240   \n",
       "Amazon product not featured              4.108463   1.947308      7.200485   \n",
       "Sponsored                               64.338537  59.650630     18.244404   \n",
       "Amazon sold                             21.857025  20.733104     25.382828   \n",
       "Amazon sold non-Amazon                   3.451109   7.016037     18.771198   \n",
       "Non-Amazon sold                         13.804437  19.616266     56.372768   \n",
       "Amazon Shipped                          34.511093  35.595647     77.500830   \n",
       "Amazon Shipped non-Amazon                9.695974  16.265750     69.386754   \n",
       "\n",
       "                                                Perc first row             \n",
       "                                            top        generic        top  \n",
       "Category                                                                   \n",
       "Wholly Non-Amazon                     10.852965       5.012325  14.977090  \n",
       "Amazon                                 5.801081      35.332786  24.770905  \n",
       "Non-Amazon                            76.880992      54.478225  63.516609  \n",
       "Non-Amazon Brand and Not Amazon Sold  54.902578      33.771569  46.048110  \n",
       "Amazon product not featured            4.611964      16.516023   8.218786  \n",
       "Sponsored                             17.317926      84.223500  75.286369  \n",
       "Amazon sold                           25.549500      45.193098  44.186712  \n",
       "Amazon sold non-Amazon                21.142300      23.007395  30.670103  \n",
       "Non-Amazon sold                       57.132573      48.808546  51.718213  \n",
       "Amazon Shipped                        71.672870      70.008217  70.217640  \n",
       "Amazon Shipped non-Amazon             66.027494      52.917009  58.705613  "
      ]
     },
     "execution_count": 455,
     "metadata": {},
     "output_type": "execute_result"
    }
   ],
   "source": [
    "comparison"
   ]
  },
  {
   "cell_type": "code",
   "execution_count": 466,
   "metadata": {},
   "outputs": [],
   "source": [
    "comparison[\n",
    "    ~comparison.index.isin(['Non-Amazon Brand and Not Amazon Sold'])\n",
    "].round(1).to_csv(table1)"
   ]
  },
  {
   "cell_type": "markdown",
   "metadata": {},
   "source": [
    "## Sankey"
   ]
  },
  {
   "cell_type": "code",
   "execution_count": 459,
   "metadata": {},
   "outputs": [
    {
     "data": {
      "text/html": [
       "<div>\n",
       "<style scoped>\n",
       "    .dataframe tbody tr th:only-of-type {\n",
       "        vertical-align: middle;\n",
       "    }\n",
       "\n",
       "    .dataframe tbody tr th {\n",
       "        vertical-align: top;\n",
       "    }\n",
       "\n",
       "    .dataframe thead th {\n",
       "        text-align: right;\n",
       "    }\n",
       "</style>\n",
       "<table border=\"1\" class=\"dataframe\">\n",
       "  <thead>\n",
       "    <tr style=\"text-align: right;\">\n",
       "      <th></th>\n",
       "      <th>asin</th>\n",
       "      <th>product_name</th>\n",
       "      <th>stars</th>\n",
       "      <th>reviews</th>\n",
       "      <th>brand</th>\n",
       "      <th>product_url</th>\n",
       "      <th>is_prime</th>\n",
       "      <th>is_fresh</th>\n",
       "      <th>is_sponsored</th>\n",
       "      <th>is_featured_brand</th>\n",
       "      <th>...</th>\n",
       "      <th>has_third_party_sellers</th>\n",
       "      <th>product_by_amazon</th>\n",
       "      <th>our_brands_carousel</th>\n",
       "      <th>ads</th>\n",
       "      <th>suggestions</th>\n",
       "      <th>n_ads</th>\n",
       "      <th>is_amazon</th>\n",
       "      <th>is_sold_by_amazon</th>\n",
       "      <th>is_shipped_by_amazon</th>\n",
       "      <th>is_shipped_by_amazon_TRUE</th>\n",
       "    </tr>\n",
       "  </thead>\n",
       "  <tbody>\n",
       "    <tr>\n",
       "      <th>0</th>\n",
       "      <td>B086VR2KY8</td>\n",
       "      <td>All-New Toshiba 50LF621U21 50-inch Smart 4K UH...</td>\n",
       "      <td>4.6</td>\n",
       "      <td>5282</td>\n",
       "      <td>NaN</td>\n",
       "      <td>/gp/slredirect/picassoRedirect.html/ref=pa_sp_...</td>\n",
       "      <td>True</td>\n",
       "      <td>False</td>\n",
       "      <td>False</td>\n",
       "      <td>True</td>\n",
       "      <td>...</td>\n",
       "      <td>False</td>\n",
       "      <td>False</td>\n",
       "      <td>False</td>\n",
       "      <td>[]</td>\n",
       "      <td>['B086VR2KY8', 'B086VR2KY8', 'B086VR2KY8', 'B0...</td>\n",
       "      <td>0.0</td>\n",
       "      <td>True</td>\n",
       "      <td>False</td>\n",
       "      <td>False</td>\n",
       "      <td>True</td>\n",
       "    </tr>\n",
       "    <tr>\n",
       "      <th>1</th>\n",
       "      <td>B086VRR9K9</td>\n",
       "      <td>All-New Insignia NS-50DF710NA21 50-inch Smart ...</td>\n",
       "      <td>4.6</td>\n",
       "      <td>8569</td>\n",
       "      <td>NaN</td>\n",
       "      <td>/gp/slredirect/picassoRedirect.html/ref=pa_sp_...</td>\n",
       "      <td>True</td>\n",
       "      <td>False</td>\n",
       "      <td>False</td>\n",
       "      <td>True</td>\n",
       "      <td>...</td>\n",
       "      <td>False</td>\n",
       "      <td>False</td>\n",
       "      <td>False</td>\n",
       "      <td>[]</td>\n",
       "      <td>['B086VRR9K9', 'B086VRR9K9', 'B086VRR9K9', 'B0...</td>\n",
       "      <td>0.0</td>\n",
       "      <td>True</td>\n",
       "      <td>False</td>\n",
       "      <td>False</td>\n",
       "      <td>True</td>\n",
       "    </tr>\n",
       "    <tr>\n",
       "      <th>2</th>\n",
       "      <td>B08DHFX4FV</td>\n",
       "      <td>TCL 4K Smart LED TV, 50\" (50S435)</td>\n",
       "      <td>4.6</td>\n",
       "      <td>1314</td>\n",
       "      <td>NaN</td>\n",
       "      <td>/TCL-4K-Smart-LED-50S435/dp/B08DHFX4FV/ref=sr_...</td>\n",
       "      <td>True</td>\n",
       "      <td>False</td>\n",
       "      <td>False</td>\n",
       "      <td>False</td>\n",
       "      <td>...</td>\n",
       "      <td>True</td>\n",
       "      <td>False</td>\n",
       "      <td>False</td>\n",
       "      <td>[b'&lt;div id=\"ape_Detail_ams-detail-right-v2_des...</td>\n",
       "      <td>['B08DHFX4FV', 'B08DHFX4FV', 'B08DHFX4FV', 'B0...</td>\n",
       "      <td>4.0</td>\n",
       "      <td>False</td>\n",
       "      <td>True</td>\n",
       "      <td>True</td>\n",
       "      <td>True</td>\n",
       "    </tr>\n",
       "    <tr>\n",
       "      <th>3</th>\n",
       "      <td>B086VR2KY8</td>\n",
       "      <td>All-New Toshiba 50LF621U21 50-inch Smart 4K UH...</td>\n",
       "      <td>4.6</td>\n",
       "      <td>5282</td>\n",
       "      <td>NaN</td>\n",
       "      <td>/All-New-Toshiba-50LF621U21-50-inch-Vision/dp/...</td>\n",
       "      <td>True</td>\n",
       "      <td>False</td>\n",
       "      <td>False</td>\n",
       "      <td>False</td>\n",
       "      <td>...</td>\n",
       "      <td>False</td>\n",
       "      <td>False</td>\n",
       "      <td>False</td>\n",
       "      <td>[]</td>\n",
       "      <td>['B086VR2KY8', 'B086VR2KY8', 'B086VR2KY8', 'B0...</td>\n",
       "      <td>0.0</td>\n",
       "      <td>True</td>\n",
       "      <td>False</td>\n",
       "      <td>False</td>\n",
       "      <td>True</td>\n",
       "    </tr>\n",
       "    <tr>\n",
       "      <th>4</th>\n",
       "      <td>B086VRR9K9</td>\n",
       "      <td>All-New Insignia NS-50DF710NA21 50-inch Smart ...</td>\n",
       "      <td>4.6</td>\n",
       "      <td>8569</td>\n",
       "      <td>NaN</td>\n",
       "      <td>/All-New-Insignia-NS-50DF710NA21-50-inch-Smart...</td>\n",
       "      <td>True</td>\n",
       "      <td>False</td>\n",
       "      <td>False</td>\n",
       "      <td>False</td>\n",
       "      <td>...</td>\n",
       "      <td>False</td>\n",
       "      <td>False</td>\n",
       "      <td>False</td>\n",
       "      <td>[]</td>\n",
       "      <td>['B086VRR9K9', 'B086VRR9K9', 'B086VRR9K9', 'B0...</td>\n",
       "      <td>0.0</td>\n",
       "      <td>True</td>\n",
       "      <td>False</td>\n",
       "      <td>False</td>\n",
       "      <td>True</td>\n",
       "    </tr>\n",
       "    <tr>\n",
       "      <th>...</th>\n",
       "      <td>...</td>\n",
       "      <td>...</td>\n",
       "      <td>...</td>\n",
       "      <td>...</td>\n",
       "      <td>...</td>\n",
       "      <td>...</td>\n",
       "      <td>...</td>\n",
       "      <td>...</td>\n",
       "      <td>...</td>\n",
       "      <td>...</td>\n",
       "      <td>...</td>\n",
       "      <td>...</td>\n",
       "      <td>...</td>\n",
       "      <td>...</td>\n",
       "      <td>...</td>\n",
       "      <td>...</td>\n",
       "      <td>...</td>\n",
       "      <td>...</td>\n",
       "      <td>...</td>\n",
       "      <td>...</td>\n",
       "      <td>...</td>\n",
       "    </tr>\n",
       "    <tr>\n",
       "      <th>248929</th>\n",
       "      <td>B00VXKJIAO</td>\n",
       "      <td>00 Antimo Caputo Pasta &amp; Gnocchi Flour 5 Lb Bu...</td>\n",
       "      <td>4.6</td>\n",
       "      <td>260</td>\n",
       "      <td>NaN</td>\n",
       "      <td>/Antimo-Caputo-Pasta-Gnocchi-Flour/dp/B00VXKJI...</td>\n",
       "      <td>False</td>\n",
       "      <td>False</td>\n",
       "      <td>False</td>\n",
       "      <td>False</td>\n",
       "      <td>...</td>\n",
       "      <td>True</td>\n",
       "      <td>False</td>\n",
       "      <td>False</td>\n",
       "      <td>[b'&lt;div id=\"ape_Detail_ams-detail-right-v2_des...</td>\n",
       "      <td>['B00VXKJIAO', 'B00VXKJIAO', 'B00VXKJIAO', 'B0...</td>\n",
       "      <td>4.0</td>\n",
       "      <td>False</td>\n",
       "      <td>False</td>\n",
       "      <td>True</td>\n",
       "      <td>True</td>\n",
       "    </tr>\n",
       "    <tr>\n",
       "      <th>248930</th>\n",
       "      <td>B08JF1GH32</td>\n",
       "      <td>Antimo Caputo Classic All-Purpose Flour - 2 x ...</td>\n",
       "      <td>5.0</td>\n",
       "      <td>3</td>\n",
       "      <td>NaN</td>\n",
       "      <td>/Antimo-Caputo-Classic-All-Purpose-Flour/dp/B0...</td>\n",
       "      <td>True</td>\n",
       "      <td>False</td>\n",
       "      <td>False</td>\n",
       "      <td>False</td>\n",
       "      <td>...</td>\n",
       "      <td>False</td>\n",
       "      <td>False</td>\n",
       "      <td>False</td>\n",
       "      <td>[b'&lt;div id=\"ape_Detail_ams-detail-right-v2_des...</td>\n",
       "      <td>['B08JF1GH32', 'B08JF1GH32', 'B08JF1GH32', 'B0...</td>\n",
       "      <td>4.0</td>\n",
       "      <td>False</td>\n",
       "      <td>False</td>\n",
       "      <td>True</td>\n",
       "      <td>True</td>\n",
       "    </tr>\n",
       "    <tr>\n",
       "      <th>248931</th>\n",
       "      <td>B088X3T87B</td>\n",
       "      <td>Mulino Caputo 00 Americana Flour - 10 Lb Repac...</td>\n",
       "      <td>4.9</td>\n",
       "      <td>25</td>\n",
       "      <td>NaN</td>\n",
       "      <td>/Mulino-Caputo-Americana-Flour-BrickOvenBaker/...</td>\n",
       "      <td>True</td>\n",
       "      <td>False</td>\n",
       "      <td>False</td>\n",
       "      <td>False</td>\n",
       "      <td>...</td>\n",
       "      <td>True</td>\n",
       "      <td>False</td>\n",
       "      <td>True</td>\n",
       "      <td>[b'&lt;div id=\"ape_Detail_ams-detail-right-v2_des...</td>\n",
       "      <td>['B088X3T87B', 'B088X3T87B', 'B088X3T87B', 'B0...</td>\n",
       "      <td>4.0</td>\n",
       "      <td>False</td>\n",
       "      <td>False</td>\n",
       "      <td>False</td>\n",
       "      <td>True</td>\n",
       "    </tr>\n",
       "    <tr>\n",
       "      <th>248932</th>\n",
       "      <td>B088XT5RLB</td>\n",
       "      <td>Antimo Caputo Blue Pizzeria Flour 55 LB Blue B...</td>\n",
       "      <td>5.0</td>\n",
       "      <td>6</td>\n",
       "      <td>NaN</td>\n",
       "      <td>/Antimo-Caputo-Blue-Pizzeria-Flour/dp/B088XT5R...</td>\n",
       "      <td>True</td>\n",
       "      <td>False</td>\n",
       "      <td>False</td>\n",
       "      <td>False</td>\n",
       "      <td>...</td>\n",
       "      <td>True</td>\n",
       "      <td>False</td>\n",
       "      <td>True</td>\n",
       "      <td>[b'&lt;div id=\"ape_Detail_ams-detail-right-v2_des...</td>\n",
       "      <td>['B088XT5RLB', 'B088XT5RLB', 'B088XT5RLB', 'B0...</td>\n",
       "      <td>4.0</td>\n",
       "      <td>False</td>\n",
       "      <td>True</td>\n",
       "      <td>True</td>\n",
       "      <td>True</td>\n",
       "    </tr>\n",
       "    <tr>\n",
       "      <th>248933</th>\n",
       "      <td>B08LHDKXJC</td>\n",
       "      <td>Agugiaro e Figna Neapolitan Pizza Flour 8H 2.2...</td>\n",
       "      <td>NaN</td>\n",
       "      <td>NaN</td>\n",
       "      <td>NaN</td>\n",
       "      <td>/Agugiaro-Figna-Neapolitan-Pizza-Stagioni/dp/B...</td>\n",
       "      <td>True</td>\n",
       "      <td>False</td>\n",
       "      <td>False</td>\n",
       "      <td>False</td>\n",
       "      <td>...</td>\n",
       "      <td>False</td>\n",
       "      <td>False</td>\n",
       "      <td>True</td>\n",
       "      <td>[b'&lt;div id=\"ape_Detail_ams-detail-right-v2_des...</td>\n",
       "      <td>['B08LHDKXJC', 'B08LHDKXJC', 'B08LHDKXJC', 'B0...</td>\n",
       "      <td>4.0</td>\n",
       "      <td>False</td>\n",
       "      <td>False</td>\n",
       "      <td>True</td>\n",
       "      <td>True</td>\n",
       "    </tr>\n",
       "  </tbody>\n",
       "</table>\n",
       "<p>155057 rows × 29 columns</p>\n",
       "</div>"
      ],
      "text/plain": [
       "              asin                                       product_name  stars  \\\n",
       "0       B086VR2KY8  All-New Toshiba 50LF621U21 50-inch Smart 4K UH...    4.6   \n",
       "1       B086VRR9K9  All-New Insignia NS-50DF710NA21 50-inch Smart ...    4.6   \n",
       "2       B08DHFX4FV                  TCL 4K Smart LED TV, 50\" (50S435)    4.6   \n",
       "3       B086VR2KY8  All-New Toshiba 50LF621U21 50-inch Smart 4K UH...    4.6   \n",
       "4       B086VRR9K9  All-New Insignia NS-50DF710NA21 50-inch Smart ...    4.6   \n",
       "...            ...                                                ...    ...   \n",
       "248929  B00VXKJIAO  00 Antimo Caputo Pasta & Gnocchi Flour 5 Lb Bu...    4.6   \n",
       "248930  B08JF1GH32  Antimo Caputo Classic All-Purpose Flour - 2 x ...    5.0   \n",
       "248931  B088X3T87B  Mulino Caputo 00 Americana Flour - 10 Lb Repac...    4.9   \n",
       "248932  B088XT5RLB  Antimo Caputo Blue Pizzeria Flour 55 LB Blue B...    5.0   \n",
       "248933  B08LHDKXJC  Agugiaro e Figna Neapolitan Pizza Flour 8H 2.2...    NaN   \n",
       "\n",
       "       reviews brand                                        product_url  \\\n",
       "0         5282   NaN  /gp/slredirect/picassoRedirect.html/ref=pa_sp_...   \n",
       "1         8569   NaN  /gp/slredirect/picassoRedirect.html/ref=pa_sp_...   \n",
       "2         1314   NaN  /TCL-4K-Smart-LED-50S435/dp/B08DHFX4FV/ref=sr_...   \n",
       "3         5282   NaN  /All-New-Toshiba-50LF621U21-50-inch-Vision/dp/...   \n",
       "4         8569   NaN  /All-New-Insignia-NS-50DF710NA21-50-inch-Smart...   \n",
       "...        ...   ...                                                ...   \n",
       "248929     260   NaN  /Antimo-Caputo-Pasta-Gnocchi-Flour/dp/B00VXKJI...   \n",
       "248930       3   NaN  /Antimo-Caputo-Classic-All-Purpose-Flour/dp/B0...   \n",
       "248931      25   NaN  /Mulino-Caputo-Americana-Flour-BrickOvenBaker/...   \n",
       "248932       6   NaN  /Antimo-Caputo-Blue-Pizzeria-Flour/dp/B088XT5R...   \n",
       "248933     NaN   NaN  /Agugiaro-Figna-Neapolitan-Pizza-Stagioni/dp/B...   \n",
       "\n",
       "        is_prime  is_fresh  is_sponsored  is_featured_brand  ...  \\\n",
       "0           True     False         False               True  ...   \n",
       "1           True     False         False               True  ...   \n",
       "2           True     False         False              False  ...   \n",
       "3           True     False         False              False  ...   \n",
       "4           True     False         False              False  ...   \n",
       "...          ...       ...           ...                ...  ...   \n",
       "248929     False     False         False              False  ...   \n",
       "248930      True     False         False              False  ...   \n",
       "248931      True     False         False              False  ...   \n",
       "248932      True     False         False              False  ...   \n",
       "248933      True     False         False              False  ...   \n",
       "\n",
       "        has_third_party_sellers  product_by_amazon  our_brands_carousel  \\\n",
       "0                         False              False                False   \n",
       "1                         False              False                False   \n",
       "2                          True              False                False   \n",
       "3                         False              False                False   \n",
       "4                         False              False                False   \n",
       "...                         ...                ...                  ...   \n",
       "248929                     True              False                False   \n",
       "248930                    False              False                False   \n",
       "248931                     True              False                 True   \n",
       "248932                     True              False                 True   \n",
       "248933                    False              False                 True   \n",
       "\n",
       "                                                      ads  \\\n",
       "0                                                      []   \n",
       "1                                                      []   \n",
       "2       [b'<div id=\"ape_Detail_ams-detail-right-v2_des...   \n",
       "3                                                      []   \n",
       "4                                                      []   \n",
       "...                                                   ...   \n",
       "248929  [b'<div id=\"ape_Detail_ams-detail-right-v2_des...   \n",
       "248930  [b'<div id=\"ape_Detail_ams-detail-right-v2_des...   \n",
       "248931  [b'<div id=\"ape_Detail_ams-detail-right-v2_des...   \n",
       "248932  [b'<div id=\"ape_Detail_ams-detail-right-v2_des...   \n",
       "248933  [b'<div id=\"ape_Detail_ams-detail-right-v2_des...   \n",
       "\n",
       "                                              suggestions n_ads is_amazon  \\\n",
       "0       ['B086VR2KY8', 'B086VR2KY8', 'B086VR2KY8', 'B0...   0.0      True   \n",
       "1       ['B086VRR9K9', 'B086VRR9K9', 'B086VRR9K9', 'B0...   0.0      True   \n",
       "2       ['B08DHFX4FV', 'B08DHFX4FV', 'B08DHFX4FV', 'B0...   4.0     False   \n",
       "3       ['B086VR2KY8', 'B086VR2KY8', 'B086VR2KY8', 'B0...   0.0      True   \n",
       "4       ['B086VRR9K9', 'B086VRR9K9', 'B086VRR9K9', 'B0...   0.0      True   \n",
       "...                                                   ...   ...       ...   \n",
       "248929  ['B00VXKJIAO', 'B00VXKJIAO', 'B00VXKJIAO', 'B0...   4.0     False   \n",
       "248930  ['B08JF1GH32', 'B08JF1GH32', 'B08JF1GH32', 'B0...   4.0     False   \n",
       "248931  ['B088X3T87B', 'B088X3T87B', 'B088X3T87B', 'B0...   4.0     False   \n",
       "248932  ['B088XT5RLB', 'B088XT5RLB', 'B088XT5RLB', 'B0...   4.0     False   \n",
       "248933  ['B08LHDKXJC', 'B08LHDKXJC', 'B08LHDKXJC', 'B0...   4.0     False   \n",
       "\n",
       "       is_sold_by_amazon is_shipped_by_amazon is_shipped_by_amazon_TRUE  \n",
       "0                  False                False                      True  \n",
       "1                  False                False                      True  \n",
       "2                   True                 True                      True  \n",
       "3                  False                False                      True  \n",
       "4                  False                False                      True  \n",
       "...                  ...                  ...                       ...  \n",
       "248929             False                 True                      True  \n",
       "248930             False                 True                      True  \n",
       "248931             False                False                      True  \n",
       "248932              True                 True                      True  \n",
       "248933             False                 True                      True  \n",
       "\n",
       "[155057 rows x 29 columns]"
      ]
     },
     "execution_count": 459,
     "metadata": {},
     "output_type": "execute_result"
    }
   ],
   "source": [
    "df_ns"
   ]
  },
  {
   "cell_type": "code",
   "execution_count": 465,
   "metadata": {},
   "outputs": [
    {
     "name": "stdout",
     "output_type": "stream",
     "text": [
      "{\"nodes\": [{\"name\": \"All Products\", \"node\": 0}, {\"name\": \"Sponsored\", \"node\": 1}, {\"name\": \"Non-Sponsored\", \"node\": 2}, {\"name\": \"Sold by Amazon\", \"node\": 3}, {\"name\": \"Not Sold by Amazon\", \"node\": 4}, {\"name\": \"Amazon Product\", \"node\": 5}, {\"name\": \"Not Amazon Product\", \"node\": 6}], \"links\": [{\"source\": 0, \"target\": 1, \"value\": 32477}, {\"source\": 0, \"target\": 2, \"value\": 155057}, {\"source\": 2, \"target\": 3, \"value\": 47914}, {\"source\": 2, \"target\": 4, \"value\": 107143}, {\"source\": 3, \"target\": 5, \"value\": 8265}, {\"source\": 3, \"target\": 6, \"value\": 39649}, {\"source\": 4, \"target\": 5, \"value\": 2614}, {\"source\": 4, \"target\": 6, \"value\": 104529}]}\n"
     ]
    }
   ],
   "source": [
    "print(json.dumps({\n",
    "    \"nodes\":[\n",
    "        {\"name\":\"All Products\",\"node\":0},\n",
    "        {\"name\":\"Sponsored\",\"node\":1},   \n",
    "        {\"name\":\"Non-Sponsored\",\"node\":2},   \n",
    "        {\"name\":\"Sold by Amazon\",\"node\":3},\n",
    "        {\"name\":\"Not Sold by Amazon\",\"node\":4},\n",
    "        {\"name\":\"Amazon Product\",\"node\":5},\n",
    "        {\"name\":\"Not Amazon Product\",\"node\":6}\n",
    "    ],\n",
    "    \"links\":[\n",
    "        {\"source\":0,\"target\":1,\"value\":len(df_s)},\n",
    "        {\"source\":0,\"target\":2,\"value\":len(df_ns)},  \n",
    "        {\"source\":2,\"target\":3,\"value\":len(df_amazon_sold_)},\n",
    "        {\"source\":2,\"target\":4,\"value\":len(df_not_amazon_sold_)},    \n",
    "        {\"source\":3,\"target\":5,\"value\":len(df_amazon_sold_[df_amazon_sold_.asin.isin(amazon_asin)])},\n",
    "        {\"source\":3,\"target\":6, \"value\":len(df_amazon_sold_[~df_amazon_sold_.asin.isin(amazon_asin)])},\n",
    "        {\"source\":4,\"target\":5,\"value\":len(df_not_amazon_sold_[df_not_amazon_sold_.asin.isin(amazon_asin)])},\n",
    "        {\"source\":4,\"target\":6,\"value\":len(df_not_amazon_sold_[~df_not_amazon_sold_.asin.isin(amazon_asin)])},\n",
    "    ]\n",
    "}))"
   ]
  },
  {
   "cell_type": "markdown",
   "metadata": {},
   "source": [
    "## Error check"
   ]
  },
  {
   "cell_type": "code",
   "execution_count": 128,
   "metadata": {},
   "outputs": [],
   "source": [
    "check_asin = df[\n",
    "    (df.is_amazon == True) &\n",
    "    (df.is_sold_by_amazon == False)\n",
    "]"
   ]
  },
  {
   "cell_type": "code",
   "execution_count": 129,
   "metadata": {},
   "outputs": [],
   "source": [
    "fn_amazon = '../data/intermediary/amazon_private_label.csv.gz'"
   ]
  },
  {
   "cell_type": "code",
   "execution_count": 42,
   "metadata": {
    "collapsed": true,
    "jupyter": {
     "outputs_hidden": true
    }
   },
   "outputs": [
    {
     "data": {
      "text/html": [
       "<div>\n",
       "<style scoped>\n",
       "    .dataframe tbody tr th:only-of-type {\n",
       "        vertical-align: middle;\n",
       "    }\n",
       "\n",
       "    .dataframe tbody tr th {\n",
       "        vertical-align: top;\n",
       "    }\n",
       "\n",
       "    .dataframe thead th {\n",
       "        text-align: right;\n",
       "    }\n",
       "</style>\n",
       "<table border=\"1\" class=\"dataframe\">\n",
       "  <thead>\n",
       "    <tr style=\"text-align: right;\">\n",
       "      <th></th>\n",
       "      <th>asin</th>\n",
       "      <th>product_name</th>\n",
       "      <th>stars</th>\n",
       "      <th>reviews</th>\n",
       "      <th>brand</th>\n",
       "      <th>product_url</th>\n",
       "      <th>is_prime</th>\n",
       "      <th>is_fresh</th>\n",
       "      <th>is_sponsored</th>\n",
       "      <th>is_featured_brand</th>\n",
       "      <th>...</th>\n",
       "      <th>sold_by</th>\n",
       "      <th>has_third_party_sellers</th>\n",
       "      <th>product_by_amazon</th>\n",
       "      <th>our_brands_carousel</th>\n",
       "      <th>ads</th>\n",
       "      <th>suggestions</th>\n",
       "      <th>n_ads</th>\n",
       "      <th>is_amazon</th>\n",
       "      <th>is_sold_by_amazon</th>\n",
       "      <th>is_shipped_by_amazon</th>\n",
       "    </tr>\n",
       "  </thead>\n",
       "  <tbody>\n",
       "    <tr>\n",
       "      <th>0</th>\n",
       "      <td>B086VR2KY8</td>\n",
       "      <td>All-New Toshiba 50LF621U21 50-inch Smart 4K UH...</td>\n",
       "      <td>4.6</td>\n",
       "      <td>5282</td>\n",
       "      <td>NaN</td>\n",
       "      <td>/gp/slredirect/picassoRedirect.html/ref=pa_sp_...</td>\n",
       "      <td>True</td>\n",
       "      <td>False</td>\n",
       "      <td>False</td>\n",
       "      <td>True</td>\n",
       "      <td>...</td>\n",
       "      <td>Best Buy</td>\n",
       "      <td>False</td>\n",
       "      <td>False</td>\n",
       "      <td>False</td>\n",
       "      <td>[]</td>\n",
       "      <td>['B086VR2KY8', 'B086VR2KY8', 'B086VR2KY8', 'B0...</td>\n",
       "      <td>0.0</td>\n",
       "      <td>True</td>\n",
       "      <td>False</td>\n",
       "      <td>False</td>\n",
       "    </tr>\n",
       "    <tr>\n",
       "      <th>1</th>\n",
       "      <td>B086VRR9K9</td>\n",
       "      <td>All-New Insignia NS-50DF710NA21 50-inch Smart ...</td>\n",
       "      <td>4.6</td>\n",
       "      <td>8569</td>\n",
       "      <td>NaN</td>\n",
       "      <td>/gp/slredirect/picassoRedirect.html/ref=pa_sp_...</td>\n",
       "      <td>True</td>\n",
       "      <td>False</td>\n",
       "      <td>False</td>\n",
       "      <td>True</td>\n",
       "      <td>...</td>\n",
       "      <td>NaN</td>\n",
       "      <td>False</td>\n",
       "      <td>False</td>\n",
       "      <td>False</td>\n",
       "      <td>[]</td>\n",
       "      <td>['B086VRR9K9', 'B086VRR9K9', 'B086VRR9K9', 'B0...</td>\n",
       "      <td>0.0</td>\n",
       "      <td>True</td>\n",
       "      <td>False</td>\n",
       "      <td>False</td>\n",
       "    </tr>\n",
       "    <tr>\n",
       "      <th>3</th>\n",
       "      <td>B086VR2KY8</td>\n",
       "      <td>All-New Toshiba 50LF621U21 50-inch Smart 4K UH...</td>\n",
       "      <td>4.6</td>\n",
       "      <td>5282</td>\n",
       "      <td>NaN</td>\n",
       "      <td>/All-New-Toshiba-50LF621U21-50-inch-Vision/dp/...</td>\n",
       "      <td>True</td>\n",
       "      <td>False</td>\n",
       "      <td>False</td>\n",
       "      <td>False</td>\n",
       "      <td>...</td>\n",
       "      <td>Best Buy</td>\n",
       "      <td>False</td>\n",
       "      <td>False</td>\n",
       "      <td>False</td>\n",
       "      <td>[]</td>\n",
       "      <td>['B086VR2KY8', 'B086VR2KY8', 'B086VR2KY8', 'B0...</td>\n",
       "      <td>0.0</td>\n",
       "      <td>True</td>\n",
       "      <td>False</td>\n",
       "      <td>False</td>\n",
       "    </tr>\n",
       "    <tr>\n",
       "      <th>4</th>\n",
       "      <td>B086VRR9K9</td>\n",
       "      <td>All-New Insignia NS-50DF710NA21 50-inch Smart ...</td>\n",
       "      <td>4.6</td>\n",
       "      <td>8569</td>\n",
       "      <td>NaN</td>\n",
       "      <td>/All-New-Insignia-NS-50DF710NA21-50-inch-Smart...</td>\n",
       "      <td>True</td>\n",
       "      <td>False</td>\n",
       "      <td>False</td>\n",
       "      <td>False</td>\n",
       "      <td>...</td>\n",
       "      <td>NaN</td>\n",
       "      <td>False</td>\n",
       "      <td>False</td>\n",
       "      <td>False</td>\n",
       "      <td>[]</td>\n",
       "      <td>['B086VRR9K9', 'B086VRR9K9', 'B086VRR9K9', 'B0...</td>\n",
       "      <td>0.0</td>\n",
       "      <td>True</td>\n",
       "      <td>False</td>\n",
       "      <td>False</td>\n",
       "    </tr>\n",
       "    <tr>\n",
       "      <th>6</th>\n",
       "      <td>B0872FYTWS</td>\n",
       "      <td>All-New Toshiba 32LF221U21 32-inch Smart HD 72...</td>\n",
       "      <td>4.7</td>\n",
       "      <td>10895</td>\n",
       "      <td>NaN</td>\n",
       "      <td>/gp/slredirect/picassoRedirect.html/ref=pa_sp_...</td>\n",
       "      <td>True</td>\n",
       "      <td>False</td>\n",
       "      <td>False</td>\n",
       "      <td>True</td>\n",
       "      <td>...</td>\n",
       "      <td>NaN</td>\n",
       "      <td>False</td>\n",
       "      <td>False</td>\n",
       "      <td>False</td>\n",
       "      <td>[]</td>\n",
       "      <td>['B0872FYTWS', 'B0872FYTWS', 'B0872FYTWS', 'B0...</td>\n",
       "      <td>0.0</td>\n",
       "      <td>True</td>\n",
       "      <td>False</td>\n",
       "      <td>False</td>\n",
       "    </tr>\n",
       "    <tr>\n",
       "      <th>...</th>\n",
       "      <td>...</td>\n",
       "      <td>...</td>\n",
       "      <td>...</td>\n",
       "      <td>...</td>\n",
       "      <td>...</td>\n",
       "      <td>...</td>\n",
       "      <td>...</td>\n",
       "      <td>...</td>\n",
       "      <td>...</td>\n",
       "      <td>...</td>\n",
       "      <td>...</td>\n",
       "      <td>...</td>\n",
       "      <td>...</td>\n",
       "      <td>...</td>\n",
       "      <td>...</td>\n",
       "      <td>...</td>\n",
       "      <td>...</td>\n",
       "      <td>...</td>\n",
       "      <td>...</td>\n",
       "      <td>...</td>\n",
       "      <td>...</td>\n",
       "    </tr>\n",
       "    <tr>\n",
       "      <th>248918</th>\n",
       "      <td>B086VR2KY8</td>\n",
       "      <td>All-New Toshiba 50LF621U21 50-inch Smart 4K UH...</td>\n",
       "      <td>4.6</td>\n",
       "      <td>5282</td>\n",
       "      <td>NaN</td>\n",
       "      <td>/gp/slredirect/picassoRedirect.html/ref=pa_sp_...</td>\n",
       "      <td>True</td>\n",
       "      <td>False</td>\n",
       "      <td>False</td>\n",
       "      <td>True</td>\n",
       "      <td>...</td>\n",
       "      <td>Best Buy</td>\n",
       "      <td>False</td>\n",
       "      <td>False</td>\n",
       "      <td>False</td>\n",
       "      <td>[]</td>\n",
       "      <td>['B086VR2KY8', 'B086VR2KY8', 'B086VR2KY8', 'B0...</td>\n",
       "      <td>0.0</td>\n",
       "      <td>True</td>\n",
       "      <td>False</td>\n",
       "      <td>False</td>\n",
       "    </tr>\n",
       "    <tr>\n",
       "      <th>248923</th>\n",
       "      <td>B0874XJYW8</td>\n",
       "      <td>All-New Toshiba 43LF621U21 43-inch Smart 4K UH...</td>\n",
       "      <td>4.6</td>\n",
       "      <td>5282</td>\n",
       "      <td>NaN</td>\n",
       "      <td>/gp/slredirect/picassoRedirect.html/ref=pa_sp_...</td>\n",
       "      <td>True</td>\n",
       "      <td>False</td>\n",
       "      <td>False</td>\n",
       "      <td>True</td>\n",
       "      <td>...</td>\n",
       "      <td>NaN</td>\n",
       "      <td>False</td>\n",
       "      <td>False</td>\n",
       "      <td>False</td>\n",
       "      <td>[]</td>\n",
       "      <td>['B0874XJYW8', 'B0874XJYW8', 'B0874XJYW8', 'B0...</td>\n",
       "      <td>0.0</td>\n",
       "      <td>True</td>\n",
       "      <td>False</td>\n",
       "      <td>False</td>\n",
       "    </tr>\n",
       "    <tr>\n",
       "      <th>248926</th>\n",
       "      <td>B086VR2KY8</td>\n",
       "      <td>All-New Toshiba 50LF621U21 50-inch Smart 4K UH...</td>\n",
       "      <td>4.6</td>\n",
       "      <td>5282</td>\n",
       "      <td>NaN</td>\n",
       "      <td>/All-New-Toshiba-50LF621U21-50-inch-Vision/dp/...</td>\n",
       "      <td>True</td>\n",
       "      <td>False</td>\n",
       "      <td>False</td>\n",
       "      <td>False</td>\n",
       "      <td>...</td>\n",
       "      <td>Best Buy</td>\n",
       "      <td>False</td>\n",
       "      <td>False</td>\n",
       "      <td>False</td>\n",
       "      <td>[]</td>\n",
       "      <td>['B086VR2KY8', 'B086VR2KY8', 'B086VR2KY8', 'B0...</td>\n",
       "      <td>0.0</td>\n",
       "      <td>True</td>\n",
       "      <td>False</td>\n",
       "      <td>False</td>\n",
       "    </tr>\n",
       "    <tr>\n",
       "      <th>248928</th>\n",
       "      <td>B086VSTFYP</td>\n",
       "      <td>All-New Insignia NS-55DF710NA21 55-inch Smart ...</td>\n",
       "      <td>4.7</td>\n",
       "      <td>1609</td>\n",
       "      <td>NaN</td>\n",
       "      <td>/gp/slredirect/picassoRedirect.html/ref=pa_sp_...</td>\n",
       "      <td>False</td>\n",
       "      <td>False</td>\n",
       "      <td>False</td>\n",
       "      <td>True</td>\n",
       "      <td>...</td>\n",
       "      <td>NaN</td>\n",
       "      <td>False</td>\n",
       "      <td>False</td>\n",
       "      <td>False</td>\n",
       "      <td>[]</td>\n",
       "      <td>['B086VSTFYP', 'B086VSTFYP', 'B086VSTFYP', 'B0...</td>\n",
       "      <td>0.0</td>\n",
       "      <td>True</td>\n",
       "      <td>False</td>\n",
       "      <td>False</td>\n",
       "    </tr>\n",
       "    <tr>\n",
       "      <th>248938</th>\n",
       "      <td>B086VRR9K9</td>\n",
       "      <td>All-New Insignia NS-50DF710NA21 50-inch Smart ...</td>\n",
       "      <td>4.6</td>\n",
       "      <td>8569</td>\n",
       "      <td>NaN</td>\n",
       "      <td>/gp/slredirect/picassoRedirect.html/ref=pa_sp_...</td>\n",
       "      <td>True</td>\n",
       "      <td>False</td>\n",
       "      <td>False</td>\n",
       "      <td>True</td>\n",
       "      <td>...</td>\n",
       "      <td>NaN</td>\n",
       "      <td>False</td>\n",
       "      <td>False</td>\n",
       "      <td>False</td>\n",
       "      <td>[]</td>\n",
       "      <td>['B086VRR9K9', 'B086VRR9K9', 'B086VRR9K9', 'B0...</td>\n",
       "      <td>0.0</td>\n",
       "      <td>True</td>\n",
       "      <td>False</td>\n",
       "      <td>False</td>\n",
       "    </tr>\n",
       "  </tbody>\n",
       "</table>\n",
       "<p>10879 rows × 28 columns</p>\n",
       "</div>"
      ],
      "text/plain": [
       "              asin                                       product_name  stars  \\\n",
       "0       B086VR2KY8  All-New Toshiba 50LF621U21 50-inch Smart 4K UH...    4.6   \n",
       "1       B086VRR9K9  All-New Insignia NS-50DF710NA21 50-inch Smart ...    4.6   \n",
       "3       B086VR2KY8  All-New Toshiba 50LF621U21 50-inch Smart 4K UH...    4.6   \n",
       "4       B086VRR9K9  All-New Insignia NS-50DF710NA21 50-inch Smart ...    4.6   \n",
       "6       B0872FYTWS  All-New Toshiba 32LF221U21 32-inch Smart HD 72...    4.7   \n",
       "...            ...                                                ...    ...   \n",
       "248918  B086VR2KY8  All-New Toshiba 50LF621U21 50-inch Smart 4K UH...    4.6   \n",
       "248923  B0874XJYW8  All-New Toshiba 43LF621U21 43-inch Smart 4K UH...    4.6   \n",
       "248926  B086VR2KY8  All-New Toshiba 50LF621U21 50-inch Smart 4K UH...    4.6   \n",
       "248928  B086VSTFYP  All-New Insignia NS-55DF710NA21 55-inch Smart ...    4.7   \n",
       "248938  B086VRR9K9  All-New Insignia NS-50DF710NA21 50-inch Smart ...    4.6   \n",
       "\n",
       "       reviews brand                                        product_url  \\\n",
       "0         5282   NaN  /gp/slredirect/picassoRedirect.html/ref=pa_sp_...   \n",
       "1         8569   NaN  /gp/slredirect/picassoRedirect.html/ref=pa_sp_...   \n",
       "3         5282   NaN  /All-New-Toshiba-50LF621U21-50-inch-Vision/dp/...   \n",
       "4         8569   NaN  /All-New-Insignia-NS-50DF710NA21-50-inch-Smart...   \n",
       "6        10895   NaN  /gp/slredirect/picassoRedirect.html/ref=pa_sp_...   \n",
       "...        ...   ...                                                ...   \n",
       "248918    5282   NaN  /gp/slredirect/picassoRedirect.html/ref=pa_sp_...   \n",
       "248923    5282   NaN  /gp/slredirect/picassoRedirect.html/ref=pa_sp_...   \n",
       "248926    5282   NaN  /All-New-Toshiba-50LF621U21-50-inch-Vision/dp/...   \n",
       "248928    1609   NaN  /gp/slredirect/picassoRedirect.html/ref=pa_sp_...   \n",
       "248938    8569   NaN  /gp/slredirect/picassoRedirect.html/ref=pa_sp_...   \n",
       "\n",
       "        is_prime  is_fresh  is_sponsored  is_featured_brand  ...   sold_by  \\\n",
       "0           True     False         False               True  ...  Best Buy   \n",
       "1           True     False         False               True  ...       NaN   \n",
       "3           True     False         False              False  ...  Best Buy   \n",
       "4           True     False         False              False  ...       NaN   \n",
       "6           True     False         False               True  ...       NaN   \n",
       "...          ...       ...           ...                ...  ...       ...   \n",
       "248918      True     False         False               True  ...  Best Buy   \n",
       "248923      True     False         False               True  ...       NaN   \n",
       "248926      True     False         False              False  ...  Best Buy   \n",
       "248928     False     False         False               True  ...       NaN   \n",
       "248938      True     False         False               True  ...       NaN   \n",
       "\n",
       "        has_third_party_sellers  product_by_amazon our_brands_carousel ads  \\\n",
       "0                         False              False               False  []   \n",
       "1                         False              False               False  []   \n",
       "3                         False              False               False  []   \n",
       "4                         False              False               False  []   \n",
       "6                         False              False               False  []   \n",
       "...                         ...                ...                 ...  ..   \n",
       "248918                    False              False               False  []   \n",
       "248923                    False              False               False  []   \n",
       "248926                    False              False               False  []   \n",
       "248928                    False              False               False  []   \n",
       "248938                    False              False               False  []   \n",
       "\n",
       "                                              suggestions n_ads is_amazon  \\\n",
       "0       ['B086VR2KY8', 'B086VR2KY8', 'B086VR2KY8', 'B0...   0.0      True   \n",
       "1       ['B086VRR9K9', 'B086VRR9K9', 'B086VRR9K9', 'B0...   0.0      True   \n",
       "3       ['B086VR2KY8', 'B086VR2KY8', 'B086VR2KY8', 'B0...   0.0      True   \n",
       "4       ['B086VRR9K9', 'B086VRR9K9', 'B086VRR9K9', 'B0...   0.0      True   \n",
       "6       ['B0872FYTWS', 'B0872FYTWS', 'B0872FYTWS', 'B0...   0.0      True   \n",
       "...                                                   ...   ...       ...   \n",
       "248918  ['B086VR2KY8', 'B086VR2KY8', 'B086VR2KY8', 'B0...   0.0      True   \n",
       "248923  ['B0874XJYW8', 'B0874XJYW8', 'B0874XJYW8', 'B0...   0.0      True   \n",
       "248926  ['B086VR2KY8', 'B086VR2KY8', 'B086VR2KY8', 'B0...   0.0      True   \n",
       "248928  ['B086VSTFYP', 'B086VSTFYP', 'B086VSTFYP', 'B0...   0.0      True   \n",
       "248938  ['B086VRR9K9', 'B086VRR9K9', 'B086VRR9K9', 'B0...   0.0      True   \n",
       "\n",
       "       is_sold_by_amazon is_shipped_by_amazon  \n",
       "0                  False                False  \n",
       "1                  False                False  \n",
       "3                  False                False  \n",
       "4                  False                False  \n",
       "6                  False                False  \n",
       "...                  ...                  ...  \n",
       "248918             False                False  \n",
       "248923             False                False  \n",
       "248926             False                False  \n",
       "248928             False                False  \n",
       "248938             False                False  \n",
       "\n",
       "[10879 rows x 28 columns]"
      ]
     },
     "execution_count": 42,
     "metadata": {},
     "output_type": "execute_result"
    }
   ],
   "source": [
    "df_amazon"
   ]
  },
  {
   "cell_type": "code",
   "execution_count": 45,
   "metadata": {},
   "outputs": [
    {
     "data": {
      "text/html": [
       "<div>\n",
       "<style scoped>\n",
       "    .dataframe tbody tr th:only-of-type {\n",
       "        vertical-align: middle;\n",
       "    }\n",
       "\n",
       "    .dataframe tbody tr th {\n",
       "        vertical-align: top;\n",
       "    }\n",
       "\n",
       "    .dataframe thead th {\n",
       "        text-align: right;\n",
       "    }\n",
       "</style>\n",
       "<table border=\"1\" class=\"dataframe\">\n",
       "  <thead>\n",
       "    <tr style=\"text-align: right;\">\n",
       "      <th></th>\n",
       "      <th>count</th>\n",
       "      <th>percentage</th>\n",
       "    </tr>\n",
       "  </thead>\n",
       "  <tbody>\n",
       "    <tr>\n",
       "      <th>our brands filtered search result</th>\n",
       "      <td>68671</td>\n",
       "      <td>0.499716</td>\n",
       "    </tr>\n",
       "    <tr>\n",
       "      <th>our brands API</th>\n",
       "      <td>66476</td>\n",
       "      <td>0.483743</td>\n",
       "    </tr>\n",
       "    <tr>\n",
       "      <th>text search</th>\n",
       "      <td>780</td>\n",
       "      <td>0.005676</td>\n",
       "    </tr>\n",
       "    <tr>\n",
       "      <th>featured from our brands carousel</th>\n",
       "      <td>684</td>\n",
       "      <td>0.004977</td>\n",
       "    </tr>\n",
       "    <tr>\n",
       "      <th>best selling Amazon devices</th>\n",
       "      <td>505</td>\n",
       "      <td>0.003675</td>\n",
       "    </tr>\n",
       "    <tr>\n",
       "      <th>featured from our brands tag</th>\n",
       "      <td>304</td>\n",
       "      <td>0.002212</td>\n",
       "    </tr>\n",
       "  </tbody>\n",
       "</table>\n",
       "</div>"
      ],
      "text/plain": [
       "                                   count  percentage\n",
       "our brands filtered search result  68671    0.499716\n",
       "our brands API                     66476    0.483743\n",
       "text search                          780    0.005676\n",
       "featured from our brands carousel    684    0.004977\n",
       "best selling Amazon devices          505    0.003675\n",
       "featured from our brands tag         304    0.002212"
      ]
     },
     "execution_count": 45,
     "metadata": {},
     "output_type": "execute_result"
    }
   ],
   "source": [
    "value_counts(df_amazon, 'source')"
   ]
  },
  {
   "cell_type": "code",
   "execution_count": 139,
   "metadata": {},
   "outputs": [
    {
     "data": {
      "text/plain": [
       "our brands API                       697\n",
       "text search                          247\n",
       "our brands filtered search result    222\n",
       "featured from our brands tag          78\n",
       "best selling Amazon devices           19\n",
       "featured from our brands carousel      6\n",
       "Name: source, dtype: int64"
      ]
     },
     "execution_count": 139,
     "metadata": {},
     "output_type": "execute_result"
    }
   ],
   "source": [
    "df_amazon[df_amazon.asin.isin(check_asin.asin)].source.value_counts()"
   ]
  },
  {
   "cell_type": "code",
   "execution_count": 143,
   "metadata": {},
   "outputs": [
    {
     "data": {
      "text/html": [
       "<div>\n",
       "<style scoped>\n",
       "    .dataframe tbody tr th:only-of-type {\n",
       "        vertical-align: middle;\n",
       "    }\n",
       "\n",
       "    .dataframe tbody tr th {\n",
       "        vertical-align: top;\n",
       "    }\n",
       "\n",
       "    .dataframe thead th {\n",
       "        text-align: right;\n",
       "    }\n",
       "</style>\n",
       "<table border=\"1\" class=\"dataframe\">\n",
       "  <thead>\n",
       "    <tr style=\"text-align: right;\">\n",
       "      <th></th>\n",
       "      <th>count</th>\n",
       "      <th>percentage</th>\n",
       "    </tr>\n",
       "  </thead>\n",
       "  <tbody>\n",
       "    <tr>\n",
       "      <th>our brands API</th>\n",
       "      <td>697</td>\n",
       "      <td>0.549251</td>\n",
       "    </tr>\n",
       "    <tr>\n",
       "      <th>text search</th>\n",
       "      <td>247</td>\n",
       "      <td>0.194641</td>\n",
       "    </tr>\n",
       "    <tr>\n",
       "      <th>our brands filtered search result</th>\n",
       "      <td>222</td>\n",
       "      <td>0.174941</td>\n",
       "    </tr>\n",
       "    <tr>\n",
       "      <th>featured from our brands tag</th>\n",
       "      <td>78</td>\n",
       "      <td>0.061466</td>\n",
       "    </tr>\n",
       "    <tr>\n",
       "      <th>best selling Amazon devices</th>\n",
       "      <td>19</td>\n",
       "      <td>0.014972</td>\n",
       "    </tr>\n",
       "    <tr>\n",
       "      <th>featured from our brands carousel</th>\n",
       "      <td>6</td>\n",
       "      <td>0.004728</td>\n",
       "    </tr>\n",
       "  </tbody>\n",
       "</table>\n",
       "</div>"
      ],
      "text/plain": [
       "                                   count  percentage\n",
       "our brands API                       697    0.549251\n",
       "text search                          247    0.194641\n",
       "our brands filtered search result    222    0.174941\n",
       "featured from our brands tag          78    0.061466\n",
       "best selling Amazon devices           19    0.014972\n",
       "featured from our brands carousel      6    0.004728"
      ]
     },
     "execution_count": 143,
     "metadata": {},
     "output_type": "execute_result"
    }
   ],
   "source": [
    "value_counts(check_asin.drop_duplicates('asin').merge(\n",
    "    df_amazon, on='asin', how='left'\n",
    "), 'source', dropna=False)"
   ]
  },
  {
   "cell_type": "code",
   "execution_count": 158,
   "metadata": {},
   "outputs": [],
   "source": [
    "to_check = check_asin.drop_duplicates('asin').merge(\n",
    "    df_amazon, on='asin', how='left'\n",
    ")"
   ]
  },
  {
   "cell_type": "code",
   "execution_count": 153,
   "metadata": {},
   "outputs": [],
   "source": [
    "to_check= to_check[to_check.source == 'text search']"
   ]
  },
  {
   "cell_type": "code",
   "execution_count": 154,
   "metadata": {},
   "outputs": [
    {
     "data": {
      "text/plain": [
       "NaN                   241\n",
       "Exposed Skin Care       1\n",
       "BalsamHill              1\n",
       "VM Express              1\n",
       "Real Merch UK           1\n",
       "Speedy Fulfillment      1\n",
       "psf_entertainment       1\n",
       "Name: sold_by, dtype: int64"
      ]
     },
     "execution_count": 154,
     "metadata": {},
     "output_type": "execute_result"
    }
   ],
   "source": [
    "to_check.sold_by.value_counts(dropna=False)"
   ]
  },
  {
   "cell_type": "code",
   "execution_count": 157,
   "metadata": {},
   "outputs": [],
   "source": [
    "to_check.to_csv('../data/intermediary/spot_check/text_search_asins_2021-5-4.csv', index=False)"
   ]
  },
  {
   "cell_type": "code",
   "execution_count": 159,
   "metadata": {},
   "outputs": [],
   "source": [
    "to_check.to_csv('../data/intermediary/spot_check/all_outlier_asins_2021-5-4.csv', index=False)"
   ]
  },
  {
   "cell_type": "code",
   "execution_count": 242,
   "metadata": {},
   "outputs": [
    {
     "data": {
      "text/plain": [
       "False"
      ]
     },
     "execution_count": 242,
     "metadata": {},
     "output_type": "execute_result"
    }
   ],
   "source": [
    "\"B07MC98SZH\" in amazon_asin"
   ]
  },
  {
   "cell_type": "code",
   "execution_count": 47,
   "metadata": {},
   "outputs": [
    {
     "data": {
      "text/plain": [
       "0.06012874280698332"
      ]
     },
     "execution_count": 47,
     "metadata": {},
     "output_type": "execute_result"
    }
   ],
   "source": [
    "len(df[df.is_amazon == True]) / len(df)"
   ]
  },
  {
   "cell_type": "code",
   "execution_count": 96,
   "metadata": {},
   "outputs": [],
   "source": [
    "__df_search = df_search[\n",
    "    (df_search.search_term.isin(searches_with_amazon_brands)) & \n",
    "    (df_search.search_term.isin(top_searches))\n",
    "].merge(df_products, how='left')"
   ]
  },
  {
   "cell_type": "code",
   "execution_count": 97,
   "metadata": {},
   "outputs": [
    {
     "data": {
      "text/plain": [
       "regular_placement            187534\n",
       "editorial_recs_carousel        8917\n",
       "sponsored_banner               6587\n",
       "featured_brands_carousel       4558\n",
       "regular_placement__missed      1388\n",
       "misc_carousel                   830\n",
       "misc_sponsored_carousel         479\n",
       "Name: product_type, dtype: int64"
      ]
     },
     "execution_count": 97,
     "metadata": {},
     "output_type": "execute_result"
    }
   ],
   "source": [
    "__df_search.product_type.value_counts()"
   ]
  },
  {
   "cell_type": "code",
   "execution_count": 98,
   "metadata": {},
   "outputs": [],
   "source": [
    "def carousel_correction(row):\n",
    "    if row['product_type'] == 'featured_brands_carousel':\n",
    "        return True\n",
    "    else:\n",
    "        return row['is_amazon']"
   ]
  },
  {
   "cell_type": "code",
   "execution_count": 99,
   "metadata": {},
   "outputs": [],
   "source": [
    "__df_search[\"is_amazon\"] = __df_search.apply(carousel_correction, axis=1)"
   ]
  },
  {
   "cell_type": "code",
   "execution_count": 100,
   "metadata": {},
   "outputs": [
    {
     "data": {
      "text/plain": [
       "['editorial_recs_carousel',\n",
       " 'sponsored_banner',\n",
       " 'misc_carousel',\n",
       " 'regular_placement__missed ']"
      ]
     },
     "execution_count": 100,
     "metadata": {},
     "output_type": "execute_result"
    }
   ],
   "source": [
    "[\n",
    "    'editorial_recs_carousel',\n",
    "    'sponsored_banner',\n",
    "    'misc_carousel',\n",
    "    'regular_placement__missed '\n",
    "]"
   ]
  },
  {
   "cell_type": "code",
   "execution_count": 102,
   "metadata": {},
   "outputs": [
    {
     "data": {
      "text/html": [
       "<div>\n",
       "<style scoped>\n",
       "    .dataframe tbody tr th:only-of-type {\n",
       "        vertical-align: middle;\n",
       "    }\n",
       "\n",
       "    .dataframe tbody tr th {\n",
       "        vertical-align: top;\n",
       "    }\n",
       "\n",
       "    .dataframe thead th {\n",
       "        text-align: right;\n",
       "    }\n",
       "</style>\n",
       "<table border=\"1\" class=\"dataframe\">\n",
       "  <thead>\n",
       "    <tr style=\"text-align: right;\">\n",
       "      <th></th>\n",
       "      <th>Category</th>\n",
       "      <th>Perc Products</th>\n",
       "      <th>Perc #1 spot</th>\n",
       "      <th>Perc first row</th>\n",
       "    </tr>\n",
       "  </thead>\n",
       "  <tbody>\n",
       "    <tr>\n",
       "      <th>0</th>\n",
       "      <td>Wholly Non-Amazon</td>\n",
       "      <td>11.391891</td>\n",
       "      <td>4.553265</td>\n",
       "      <td>14.977090</td>\n",
       "    </tr>\n",
       "    <tr>\n",
       "      <th>1</th>\n",
       "      <td>Amazon</td>\n",
       "      <td>6.050673</td>\n",
       "      <td>19.587629</td>\n",
       "      <td>24.770905</td>\n",
       "    </tr>\n",
       "    <tr>\n",
       "      <th>2</th>\n",
       "      <td>Non-Amazon</td>\n",
       "      <td>78.651370</td>\n",
       "      <td>21.048110</td>\n",
       "      <td>63.631157</td>\n",
       "    </tr>\n",
       "    <tr>\n",
       "      <th>3</th>\n",
       "      <td>Non-Amazon Brand and Not Amazon Sold</td>\n",
       "      <td>56.219732</td>\n",
       "      <td>13.631157</td>\n",
       "      <td>46.134021</td>\n",
       "    </tr>\n",
       "    <tr>\n",
       "      <th>4</th>\n",
       "      <td>Amazon product not featured</td>\n",
       "      <td>5.367056</td>\n",
       "      <td>2.061856</td>\n",
       "      <td>8.247423</td>\n",
       "    </tr>\n",
       "    <tr>\n",
       "      <th>5</th>\n",
       "      <td>Sponsored</td>\n",
       "      <td>22.757205</td>\n",
       "      <td>66.580756</td>\n",
       "      <td>94.329897</td>\n",
       "    </tr>\n",
       "    <tr>\n",
       "      <th>6</th>\n",
       "      <td>Amazon sold</td>\n",
       "      <td>22.874587</td>\n",
       "      <td>21.019473</td>\n",
       "      <td>44.301260</td>\n",
       "    </tr>\n",
       "    <tr>\n",
       "      <th>7</th>\n",
       "      <td>Amazon sold non-Amazon</td>\n",
       "      <td>19.356839</td>\n",
       "      <td>7.302405</td>\n",
       "      <td>30.813288</td>\n",
       "    </tr>\n",
       "    <tr>\n",
       "      <th>8</th>\n",
       "      <td>Non-Amazon sold</td>\n",
       "      <td>61.827457</td>\n",
       "      <td>19.845361</td>\n",
       "      <td>51.890034</td>\n",
       "    </tr>\n",
       "    <tr>\n",
       "      <th>9</th>\n",
       "      <td>Amazon Shipped</td>\n",
       "      <td>68.736712</td>\n",
       "      <td>34.536082</td>\n",
       "      <td>69.329897</td>\n",
       "    </tr>\n",
       "  </tbody>\n",
       "</table>\n",
       "</div>"
      ],
      "text/plain": [
       "                               Category  Perc Products  Perc #1 spot  \\\n",
       "0                     Wholly Non-Amazon      11.391891      4.553265   \n",
       "1                                Amazon       6.050673     19.587629   \n",
       "2                            Non-Amazon      78.651370     21.048110   \n",
       "3  Non-Amazon Brand and Not Amazon Sold      56.219732     13.631157   \n",
       "4           Amazon product not featured       5.367056      2.061856   \n",
       "5                             Sponsored      22.757205     66.580756   \n",
       "6                           Amazon sold      22.874587     21.019473   \n",
       "7                Amazon sold non-Amazon      19.356839      7.302405   \n",
       "8                       Non-Amazon sold      61.827457     19.845361   \n",
       "9                        Amazon Shipped      68.736712     34.536082   \n",
       "\n",
       "   Perc first row  \n",
       "0       14.977090  \n",
       "1       24.770905  \n",
       "2       63.631157  \n",
       "3       46.134021  \n",
       "4        8.247423  \n",
       "5       94.329897  \n",
       "6       44.301260  \n",
       "7       30.813288  \n",
       "8       51.890034  \n",
       "9       69.329897  "
      ]
     },
     "execution_count": 102,
     "metadata": {},
     "output_type": "execute_result"
    }
   ],
   "source": [
    "calculate_table(__df_search, amazon_asin=amazon_asin)"
   ]
  },
  {
   "cell_type": "code",
   "execution_count": 114,
   "metadata": {},
   "outputs": [
    {
     "data": {
      "text/html": [
       "<div>\n",
       "<style scoped>\n",
       "    .dataframe tbody tr th:only-of-type {\n",
       "        vertical-align: middle;\n",
       "    }\n",
       "\n",
       "    .dataframe tbody tr th {\n",
       "        vertical-align: top;\n",
       "    }\n",
       "\n",
       "    .dataframe thead th {\n",
       "        text-align: right;\n",
       "    }\n",
       "</style>\n",
       "<table border=\"1\" class=\"dataframe\">\n",
       "  <thead>\n",
       "    <tr style=\"text-align: right;\">\n",
       "      <th></th>\n",
       "      <th>Category</th>\n",
       "      <th>Perc Products</th>\n",
       "      <th>Perc #1 spot</th>\n",
       "      <th>Perc first row</th>\n",
       "    </tr>\n",
       "  </thead>\n",
       "  <tbody>\n",
       "    <tr>\n",
       "      <th>0</th>\n",
       "      <td>Wholly Non-Amazon</td>\n",
       "      <td>12.247851</td>\n",
       "      <td>4.553265</td>\n",
       "      <td>14.977090</td>\n",
       "    </tr>\n",
       "    <tr>\n",
       "      <th>1</th>\n",
       "      <td>Amazon</td>\n",
       "      <td>4.572669</td>\n",
       "      <td>19.530355</td>\n",
       "      <td>24.770905</td>\n",
       "    </tr>\n",
       "    <tr>\n",
       "      <th>2</th>\n",
       "      <td>Non-Amazon</td>\n",
       "      <td>82.083820</td>\n",
       "      <td>20.819015</td>\n",
       "      <td>63.516609</td>\n",
       "    </tr>\n",
       "    <tr>\n",
       "      <th>3</th>\n",
       "      <td>Non-Amazon Brand and Not Amazon Sold</td>\n",
       "      <td>60.298643</td>\n",
       "      <td>13.545246</td>\n",
       "      <td>46.048110</td>\n",
       "    </tr>\n",
       "    <tr>\n",
       "      <th>4</th>\n",
       "      <td>Amazon product not featured</td>\n",
       "      <td>3.764839</td>\n",
       "      <td>1.947308</td>\n",
       "      <td>8.218786</td>\n",
       "    </tr>\n",
       "    <tr>\n",
       "      <th>5</th>\n",
       "      <td>Sponsored</td>\n",
       "      <td>20.294349</td>\n",
       "      <td>59.650630</td>\n",
       "      <td>75.286369</td>\n",
       "    </tr>\n",
       "    <tr>\n",
       "      <th>6</th>\n",
       "      <td>Amazon sold</td>\n",
       "      <td>24.268301</td>\n",
       "      <td>20.733104</td>\n",
       "      <td>44.186712</td>\n",
       "    </tr>\n",
       "    <tr>\n",
       "      <th>7</th>\n",
       "      <td>Amazon sold non-Amazon</td>\n",
       "      <td>20.687928</td>\n",
       "      <td>7.016037</td>\n",
       "      <td>30.670103</td>\n",
       "    </tr>\n",
       "    <tr>\n",
       "      <th>8</th>\n",
       "      <td>Non-Amazon sold</td>\n",
       "      <td>62.388188</td>\n",
       "      <td>19.616266</td>\n",
       "      <td>51.718213</td>\n",
       "    </tr>\n",
       "    <tr>\n",
       "      <th>9</th>\n",
       "      <td>Amazon Shipped</td>\n",
       "      <td>69.935358</td>\n",
       "      <td>34.335624</td>\n",
       "      <td>69.186712</td>\n",
       "    </tr>\n",
       "  </tbody>\n",
       "</table>\n",
       "</div>"
      ],
      "text/plain": [
       "                               Category  Perc Products  Perc #1 spot  \\\n",
       "0                     Wholly Non-Amazon      12.247851      4.553265   \n",
       "1                                Amazon       4.572669     19.530355   \n",
       "2                            Non-Amazon      82.083820     20.819015   \n",
       "3  Non-Amazon Brand and Not Amazon Sold      60.298643     13.545246   \n",
       "4           Amazon product not featured       3.764839      1.947308   \n",
       "5                             Sponsored      20.294349     59.650630   \n",
       "6                           Amazon sold      24.268301     20.733104   \n",
       "7                Amazon sold non-Amazon      20.687928      7.016037   \n",
       "8                       Non-Amazon sold      62.388188     19.616266   \n",
       "9                        Amazon Shipped      69.935358     34.335624   \n",
       "\n",
       "   Perc first row  \n",
       "0       14.977090  \n",
       "1       24.770905  \n",
       "2       63.516609  \n",
       "3       46.048110  \n",
       "4        8.218786  \n",
       "5       75.286369  \n",
       "6       44.186712  \n",
       "7       30.670103  \n",
       "8       51.718213  \n",
       "9       69.186712  "
      ]
     },
     "execution_count": 114,
     "metadata": {},
     "output_type": "execute_result"
    }
   ],
   "source": [
    "calculate_table(df, amazon_asin=amazon_asin)"
   ]
  },
  {
   "cell_type": "code",
   "execution_count": 115,
   "metadata": {},
   "outputs": [
    {
     "data": {
      "text/plain": [
       "2.4628559999999986"
      ]
     },
     "execution_count": 115,
     "metadata": {},
     "output_type": "execute_result"
    }
   ],
   "source": [
    "22.757205 - 20.294349"
   ]
  },
  {
   "cell_type": "code",
   "execution_count": 222,
   "metadata": {},
   "outputs": [
    {
     "data": {
      "text/plain": [
       "3.942733121619827"
      ]
     },
     "execution_count": 222,
     "metadata": {},
     "output_type": "execute_result"
    }
   ],
   "source": [
    "1 / (20.819015 / 82.083820)"
   ]
  },
  {
   "cell_type": "code",
   "execution_count": 223,
   "metadata": {},
   "outputs": [
    {
     "data": {
      "text/plain": [
       "4.271106218272085"
      ]
     },
     "execution_count": 223,
     "metadata": {},
     "output_type": "execute_result"
    }
   ],
   "source": [
    "19.530355 / 4.572669"
   ]
  },
  {
   "cell_type": "code",
   "execution_count": 224,
   "metadata": {},
   "outputs": [
    {
     "data": {
      "text/plain": [
       "2.689905155970496"
      ]
     },
     "execution_count": 224,
     "metadata": {},
     "output_type": "execute_result"
    }
   ],
   "source": [
    "12.247851 / 4.553265"
   ]
  },
  {
   "cell_type": "code",
   "execution_count": 226,
   "metadata": {},
   "outputs": [
    {
     "data": {
      "text/plain": [
       "0    0.371760\n",
       "1    4.271106\n",
       "2    0.253631\n",
       "3    0.224636\n",
       "4    0.517235\n",
       "5    2.939273\n",
       "6    0.854329\n",
       "7    0.339137\n",
       "8    0.314423\n",
       "9    0.490962\n",
       "dtype: float64"
      ]
     },
     "execution_count": 226,
     "metadata": {},
     "output_type": "execute_result"
    }
   ],
   "source": []
  },
  {
   "cell_type": "code",
   "execution_count": null,
   "metadata": {},
   "outputs": [],
   "source": []
  }
 ],
 "metadata": {
  "kernelspec": {
   "display_name": "Python 3",
   "language": "python",
   "name": "python3"
  },
  "language_info": {
   "codemirror_mode": {
    "name": "ipython",
    "version": 3
   },
   "file_extension": ".py",
   "mimetype": "text/x-python",
   "name": "python",
   "nbconvert_exporter": "python",
   "pygments_lexer": "ipython3",
   "version": "3.8.1"
  }
 },
 "nbformat": 4,
 "nbformat_minor": 4
}
